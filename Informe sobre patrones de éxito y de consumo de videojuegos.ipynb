{
 "cells": [
  {
   "cell_type": "markdown",
   "metadata": {},
   "source": [
    "# Informe sobre patrones de éxito y de consumo de videojuegos\n",
    "\n",
    "Para la tienda online de videojuegos Ice se analizarán datos históricos referentes a la venta de videojuegos, se pretende identificar patrones que determinen el éxito de un juego, y comprender los hábitos de consumo de los principales perfiles de compradores, para poder detectar proyectos prometedores y planificar campañas publicitarias.\n",
    "\n",
    "A continuación se enlistas los distintos apartados del reporte:\n",
    "* 1 - Carga de archivo e inspección inicial de información\n",
    "* 2 - Preparación de los datos\n",
    "* 3 - Análisis de los datos\n",
    "* 4 - Perfiles de usuario por región\n",
    "* 5 - Pruebas de hipótesis\n",
    "* 6 - Conclusiones generales\n",
    "\n",
    "## Carga de archivo e inspección inicial de información\n",
    "\n",
    "Antes que nada se cargarán las librerías a ser utilizadas, posteriormente, se realizará la carga del documento donde se encuentran los datos a ser trabajados y se obtendrá la información de esta misma para comenzar tener una idea sobre cómo será necesario limpiar la información."
   ]
  },
  {
   "cell_type": "code",
   "execution_count": 1,
   "metadata": {},
   "outputs": [],
   "source": [
    "#Importación de librerías\n",
    "\n",
    "import pandas as pd\n",
    "import numpy as np\n",
    "import matplotlib.pyplot as plt\n",
    "import seaborn as sns\n",
    "from scipy import stats as st"
   ]
  },
  {
   "cell_type": "code",
   "execution_count": 2,
   "metadata": {},
   "outputs": [],
   "source": [
    "#Importación del archivo csv\n",
    "\n",
    "data = pd.read_csv('/datasets/games.csv')"
   ]
  },
  {
   "cell_type": "code",
   "execution_count": 3,
   "metadata": {},
   "outputs": [
    {
     "name": "stdout",
     "output_type": "stream",
     "text": [
      "<class 'pandas.core.frame.DataFrame'>\n",
      "RangeIndex: 16715 entries, 0 to 16714\n",
      "Data columns (total 11 columns):\n",
      " #   Column           Non-Null Count  Dtype  \n",
      "---  ------           --------------  -----  \n",
      " 0   Name             16713 non-null  object \n",
      " 1   Platform         16715 non-null  object \n",
      " 2   Year_of_Release  16446 non-null  float64\n",
      " 3   Genre            16713 non-null  object \n",
      " 4   NA_sales         16715 non-null  float64\n",
      " 5   EU_sales         16715 non-null  float64\n",
      " 6   JP_sales         16715 non-null  float64\n",
      " 7   Other_sales      16715 non-null  float64\n",
      " 8   Critic_Score     8137 non-null   float64\n",
      " 9   User_Score       10014 non-null  object \n",
      " 10  Rating           9949 non-null   object \n",
      "dtypes: float64(6), object(5)\n",
      "memory usage: 1.4+ MB\n"
     ]
    },
    {
     "data": {
      "text/html": [
       "<div>\n",
       "<style scoped>\n",
       "    .dataframe tbody tr th:only-of-type {\n",
       "        vertical-align: middle;\n",
       "    }\n",
       "\n",
       "    .dataframe tbody tr th {\n",
       "        vertical-align: top;\n",
       "    }\n",
       "\n",
       "    .dataframe thead th {\n",
       "        text-align: right;\n",
       "    }\n",
       "</style>\n",
       "<table border=\"1\" class=\"dataframe\">\n",
       "  <thead>\n",
       "    <tr style=\"text-align: right;\">\n",
       "      <th></th>\n",
       "      <th>Name</th>\n",
       "      <th>Platform</th>\n",
       "      <th>Year_of_Release</th>\n",
       "      <th>Genre</th>\n",
       "      <th>NA_sales</th>\n",
       "      <th>EU_sales</th>\n",
       "      <th>JP_sales</th>\n",
       "      <th>Other_sales</th>\n",
       "      <th>Critic_Score</th>\n",
       "      <th>User_Score</th>\n",
       "      <th>Rating</th>\n",
       "    </tr>\n",
       "  </thead>\n",
       "  <tbody>\n",
       "    <tr>\n",
       "      <th>0</th>\n",
       "      <td>Wii Sports</td>\n",
       "      <td>Wii</td>\n",
       "      <td>2006.0</td>\n",
       "      <td>Sports</td>\n",
       "      <td>41.36</td>\n",
       "      <td>28.96</td>\n",
       "      <td>3.77</td>\n",
       "      <td>8.45</td>\n",
       "      <td>76.0</td>\n",
       "      <td>8</td>\n",
       "      <td>E</td>\n",
       "    </tr>\n",
       "    <tr>\n",
       "      <th>1</th>\n",
       "      <td>Super Mario Bros.</td>\n",
       "      <td>NES</td>\n",
       "      <td>1985.0</td>\n",
       "      <td>Platform</td>\n",
       "      <td>29.08</td>\n",
       "      <td>3.58</td>\n",
       "      <td>6.81</td>\n",
       "      <td>0.77</td>\n",
       "      <td>NaN</td>\n",
       "      <td>NaN</td>\n",
       "      <td>NaN</td>\n",
       "    </tr>\n",
       "    <tr>\n",
       "      <th>2</th>\n",
       "      <td>Mario Kart Wii</td>\n",
       "      <td>Wii</td>\n",
       "      <td>2008.0</td>\n",
       "      <td>Racing</td>\n",
       "      <td>15.68</td>\n",
       "      <td>12.76</td>\n",
       "      <td>3.79</td>\n",
       "      <td>3.29</td>\n",
       "      <td>82.0</td>\n",
       "      <td>8.3</td>\n",
       "      <td>E</td>\n",
       "    </tr>\n",
       "    <tr>\n",
       "      <th>3</th>\n",
       "      <td>Wii Sports Resort</td>\n",
       "      <td>Wii</td>\n",
       "      <td>2009.0</td>\n",
       "      <td>Sports</td>\n",
       "      <td>15.61</td>\n",
       "      <td>10.93</td>\n",
       "      <td>3.28</td>\n",
       "      <td>2.95</td>\n",
       "      <td>80.0</td>\n",
       "      <td>8</td>\n",
       "      <td>E</td>\n",
       "    </tr>\n",
       "    <tr>\n",
       "      <th>4</th>\n",
       "      <td>Pokemon Red/Pokemon Blue</td>\n",
       "      <td>GB</td>\n",
       "      <td>1996.0</td>\n",
       "      <td>Role-Playing</td>\n",
       "      <td>11.27</td>\n",
       "      <td>8.89</td>\n",
       "      <td>10.22</td>\n",
       "      <td>1.00</td>\n",
       "      <td>NaN</td>\n",
       "      <td>NaN</td>\n",
       "      <td>NaN</td>\n",
       "    </tr>\n",
       "  </tbody>\n",
       "</table>\n",
       "</div>"
      ],
      "text/plain": [
       "                       Name Platform  Year_of_Release         Genre  NA_sales  \\\n",
       "0                Wii Sports      Wii           2006.0        Sports     41.36   \n",
       "1         Super Mario Bros.      NES           1985.0      Platform     29.08   \n",
       "2            Mario Kart Wii      Wii           2008.0        Racing     15.68   \n",
       "3         Wii Sports Resort      Wii           2009.0        Sports     15.61   \n",
       "4  Pokemon Red/Pokemon Blue       GB           1996.0  Role-Playing     11.27   \n",
       "\n",
       "   EU_sales  JP_sales  Other_sales  Critic_Score User_Score Rating  \n",
       "0     28.96      3.77         8.45          76.0          8      E  \n",
       "1      3.58      6.81         0.77           NaN        NaN    NaN  \n",
       "2     12.76      3.79         3.29          82.0        8.3      E  \n",
       "3     10.93      3.28         2.95          80.0          8      E  \n",
       "4      8.89     10.22         1.00           NaN        NaN    NaN  "
      ]
     },
     "execution_count": 3,
     "metadata": {},
     "output_type": "execute_result"
    }
   ],
   "source": [
    "#Obtención de información referente a la base\n",
    "data.info()\n",
    "data.head()"
   ]
  },
  {
   "cell_type": "markdown",
   "metadata": {},
   "source": [
    "De acuerdo con la información provista por Ice la información anterior obtiene la siguiente descripción:\n",
    "\n",
    "* Name (Nombre)\n",
    "* Platform (Plataforma)\n",
    "* Year_of_Release (Año de lanzamiento)\n",
    "* Genre (Género)\n",
    "* NA_sales (ventas en Norteamérica en millones de dólares estadounidenses)\n",
    "* EU_sales (ventas en Europa en millones de dólares estadounidenses)\n",
    "* JP_sales (ventas en Japón en millones de dólares estadounidenses)\n",
    "* Other_sales (ventas en otros países en millones de dólares estadounidenses)\n",
    "* Critic_Score (máximo de 100)\n",
    "* User_Score (máximo de 10)\n",
    "* Clasificación (ESRB)\n",
    "\n",
    "Además, Ice menciona que los datos de 2016, los de nuestro interés para esta práctica pueden estar incompletos, por lo que se considerarán una muestra y no la población.\n",
    "\n",
    "Podemos concluir de este primer apartado que en efecto hay problemas con la base que necesitan tratarse:\n",
    "\n",
    "* Valores ausentes en 6 columnas, de las cuales destacan 2 a las que sólo les hacen falta dos registros.\n",
    "* Columnas con el tipo incorrecto, como Year que debería se un entero en lugar de float y user_score que debería ser float, no string.\n",
    "* Nombres de las columas a ser sustituidos por cadenas de puras minúsculas.\n",
    "\n",
    "\n",
    "Igualmente será necesario verificar valores únicos de las columnas para asegurar que no existen distintos nombres que hagan referencia a una misma cualidad."
   ]
  },
  {
   "cell_type": "markdown",
   "metadata": {},
   "source": [
    "## Preparación de los datos\n",
    "\n",
    "Procederemos incialmente con los puntos ya mencionados en el apartado anterior: cambiar nombres de columnas, estudiar valores únicados, cambiar tipos y tratar valores ausentes. Posteriormente obtendremos una nueva columna para el análisis de la información, la cual concentrará las ventas totales en todas las regiones.\n",
    "\n",
    "Iniciaremos con el cambio de nombre para las columnas:"
   ]
  },
  {
   "cell_type": "code",
   "execution_count": 4,
   "metadata": {},
   "outputs": [
    {
     "name": "stdout",
     "output_type": "stream",
     "text": [
      "<class 'pandas.core.frame.DataFrame'>\n",
      "RangeIndex: 16715 entries, 0 to 16714\n",
      "Data columns (total 11 columns):\n",
      " #   Column           Non-Null Count  Dtype  \n",
      "---  ------           --------------  -----  \n",
      " 0   name             16713 non-null  object \n",
      " 1   platform         16715 non-null  object \n",
      " 2   year_of_release  16446 non-null  float64\n",
      " 3   genre            16713 non-null  object \n",
      " 4   na_sales         16715 non-null  float64\n",
      " 5   eu_sales         16715 non-null  float64\n",
      " 6   jp_sales         16715 non-null  float64\n",
      " 7   other_sales      16715 non-null  float64\n",
      " 8   critic_score     8137 non-null   float64\n",
      " 9   user_score       10014 non-null  object \n",
      " 10  rating           9949 non-null   object \n",
      "dtypes: float64(6), object(5)\n",
      "memory usage: 1.4+ MB\n"
     ]
    }
   ],
   "source": [
    "#Cambio de nombre columnas de data\n",
    "\n",
    "data.columns = ['name', 'platform', 'year_of_release', 'genre', 'na_sales', 'eu_sales', 'jp_sales', 'other_sales', 'critic_score', 'user_score', 'rating']\n",
    "data.info()"
   ]
  },
  {
   "cell_type": "markdown",
   "metadata": {},
   "source": [
    "Ahora analizaremos los valores únicos de las columnas:"
   ]
  },
  {
   "cell_type": "code",
   "execution_count": 5,
   "metadata": {},
   "outputs": [
    {
     "name": "stdout",
     "output_type": "stream",
     "text": [
      "['Wii Sports' 'Super Mario Bros.' 'Mario Kart Wii' ...\n",
      " 'Woody Woodpecker in Crazy Castle 5' 'LMA Manager 2007'\n",
      " 'Haitaka no Psychedelica']\n",
      "\n",
      "['2600', '3DO', '3DS', 'DC', 'DS', 'GB', 'GBA', 'GC', 'GEN', 'GG', 'N64', 'NES', 'NG', 'PC', 'PCFX', 'PS', 'PS2', 'PS3', 'PS4', 'PSP', 'PSV', 'SAT', 'SCD', 'SNES', 'TG16', 'WS', 'Wii', 'WiiU', 'X360', 'XB', 'XOne']\n",
      "\n",
      "[1980.0, 1981.0, 1982.0, 1983.0, 1984.0, 1985.0, 1986.0, 1987.0, 1988.0, 1989.0, 1990.0, 1991.0, 1992.0, 1993.0, 1994.0, 1995.0, 1996.0, 1997.0, 1998.0, 1999.0, 2000.0, 2001.0, 2002.0, 2003.0, 2004.0, 2005.0, 2006.0, 2007.0, 2008.0, 2009.0, 2010.0, 2011.0, 2012.0, 2013.0, 2014.0, 2015.0, 2016.0, nan]\n",
      "\n",
      "['Sports' 'Platform' 'Racing' 'Role-Playing' 'Puzzle' 'Misc' 'Shooter'\n",
      " 'Simulation' 'Action' 'Fighting' 'Adventure' 'Strategy' nan]\n",
      "\n",
      "[0.0, 0.01, 0.02, 0.03, 0.04, 0.05, 0.06, 0.07, 0.08, 0.09, 0.1, 0.11, 0.12, 0.13, 0.14, 0.15, 0.16, 0.17, 0.18, 0.19, 0.2, 0.21, 0.22, 0.23, 0.24, 0.25, 0.26, 0.27, 0.28, 0.29, 0.3, 0.31, 0.32, 0.33, 0.34, 0.35, 0.36, 0.37, 0.38, 0.39, 0.4, 0.41, 0.42, 0.43, 0.44, 0.45, 0.46, 0.47, 0.48, 0.49, 0.5, 0.51, 0.52, 0.53, 0.54, 0.55, 0.56, 0.57, 0.58, 0.59, 0.6, 0.61, 0.62, 0.63, 0.64, 0.65, 0.66, 0.67, 0.68, 0.69, 0.7, 0.71, 0.72, 0.73, 0.74, 0.75, 0.76, 0.77, 0.78, 0.79, 0.8, 0.81, 0.82, 0.83, 0.84, 0.85, 0.86, 0.87, 0.88, 0.89, 0.9, 0.91, 0.92, 0.93, 0.94, 0.95, 0.96, 0.97, 0.98, 0.99, 1.0, 1.01, 1.02, 1.03, 1.04, 1.05, 1.06, 1.07, 1.08, 1.09, 1.1, 1.11, 1.12, 1.13, 1.14, 1.15, 1.16, 1.17, 1.18, 1.19, 1.2, 1.21, 1.22, 1.23, 1.24, 1.25, 1.26, 1.27, 1.28, 1.29, 1.3, 1.31, 1.32, 1.33, 1.34, 1.35, 1.36, 1.37, 1.38, 1.39, 1.4, 1.41, 1.42, 1.43, 1.44, 1.45, 1.46, 1.47, 1.48, 1.49, 1.5, 1.51, 1.52, 1.53, 1.54, 1.55, 1.56, 1.57, 1.58, 1.59, 1.6, 1.61, 1.62, 1.63, 1.64, 1.65, 1.66, 1.67, 1.68, 1.69, 1.7, 1.72, 1.73, 1.74, 1.75, 1.76, 1.77, 1.78, 1.8, 1.81, 1.82, 1.83, 1.84, 1.85, 1.86, 1.87, 1.88, 1.89, 1.9, 1.91, 1.92, 1.93, 1.94, 1.95, 1.96, 1.97, 1.98, 1.99, 2.0, 2.01, 2.02, 2.03, 2.04, 2.05, 2.06, 2.07, 2.08, 2.09, 2.1, 2.11, 2.12, 2.13, 2.14, 2.15, 2.17, 2.18, 2.19, 2.2, 2.21, 2.22, 2.23, 2.24, 2.25, 2.26, 2.27, 2.28, 2.29, 2.3, 2.31, 2.32, 2.34, 2.35, 2.36, 2.38, 2.4, 2.41, 2.42, 2.44, 2.45, 2.47, 2.49, 2.5, 2.51, 2.52, 2.53, 2.54, 2.55, 2.56, 2.57, 2.6, 2.61, 2.62, 2.63, 2.64, 2.66, 2.67, 2.71, 2.73, 2.74, 2.76, 2.77, 2.78, 2.79, 2.8, 2.81, 2.82, 2.83, 2.85, 2.9, 2.91, 2.93, 2.95, 2.96, 2.97, 2.98, 2.99, 3.0, 3.01, 3.02, 3.03, 3.04, 3.05, 3.07, 3.11, 3.13, 3.14, 3.15, 3.17, 3.18, 3.19, 3.21, 3.22, 3.23, 3.27, 3.28, 3.33, 3.36, 3.38, 3.4, 3.42, 3.43, 3.45, 3.48, 3.49, 3.54, 3.56, 3.57, 3.59, 3.63, 3.64, 3.66, 3.68, 3.7, 3.74, 3.78, 3.79, 3.81, 3.88, 3.92, 3.96, 3.98, 4.0, 4.01, 4.02, 4.03, 4.05, 4.1, 4.12, 4.15, 4.18, 4.21, 4.26, 4.34, 4.35, 4.36, 4.4, 4.41, 4.46, 4.47, 4.59, 4.74, 4.76, 4.81, 4.89, 4.98, 4.99, 5.01, 5.03, 5.05, 5.28, 5.39, 5.51, 5.54, 5.55, 5.7, 5.8, 5.89, 5.93, 5.95, 5.99, 6.03, 6.06, 6.16, 6.38, 6.62, 6.65, 6.73, 6.76, 6.82, 6.85, 6.91, 6.99, 7.02, 7.04, 7.28, 7.97, 8.25, 8.41, 8.52, 8.92, 9.0, 9.01, 9.04, 9.05, 9.43, 9.54, 9.66, 9.7, 9.71, 10.83, 11.27, 11.28, 12.78, 13.96, 14.44, 15.0, 15.61, 15.68, 23.2, 26.93, 29.08, 41.36]\n",
      "\n",
      "[0.0, 0.01, 0.02, 0.03, 0.04, 0.05, 0.06, 0.07, 0.08, 0.09, 0.1, 0.11, 0.12, 0.13, 0.14, 0.15, 0.16, 0.17, 0.18, 0.19, 0.2, 0.21, 0.22, 0.23, 0.24, 0.25, 0.26, 0.27, 0.28, 0.29, 0.3, 0.31, 0.32, 0.33, 0.34, 0.35, 0.36, 0.37, 0.38, 0.39, 0.4, 0.41, 0.42, 0.43, 0.44, 0.45, 0.46, 0.47, 0.48, 0.49, 0.5, 0.51, 0.52, 0.53, 0.54, 0.55, 0.56, 0.57, 0.58, 0.59, 0.6, 0.61, 0.62, 0.63, 0.64, 0.65, 0.66, 0.67, 0.68, 0.69, 0.7, 0.71, 0.72, 0.73, 0.74, 0.75, 0.76, 0.77, 0.78, 0.79, 0.8, 0.81, 0.82, 0.83, 0.84, 0.85, 0.86, 0.87, 0.88, 0.89, 0.9, 0.91, 0.92, 0.93, 0.94, 0.95, 0.96, 0.97, 0.98, 0.99, 1.0, 1.01, 1.02, 1.03, 1.04, 1.05, 1.06, 1.07, 1.08, 1.09, 1.1, 1.11, 1.12, 1.13, 1.14, 1.15, 1.16, 1.17, 1.18, 1.19, 1.2, 1.21, 1.22, 1.23, 1.24, 1.25, 1.26, 1.27, 1.28, 1.29, 1.3, 1.31, 1.32, 1.33, 1.34, 1.35, 1.36, 1.37, 1.38, 1.39, 1.4, 1.41, 1.42, 1.43, 1.44, 1.45, 1.46, 1.47, 1.48, 1.49, 1.5, 1.51, 1.52, 1.53, 1.55, 1.56, 1.57, 1.58, 1.59, 1.6, 1.62, 1.63, 1.64, 1.65, 1.67, 1.68, 1.69, 1.7, 1.71, 1.72, 1.73, 1.75, 1.76, 1.77, 1.79, 1.8, 1.82, 1.83, 1.84, 1.85, 1.87, 1.88, 1.89, 1.9, 1.91, 1.92, 1.93, 1.94, 1.95, 1.96, 1.97, 1.98, 1.99, 2.0, 2.01, 2.02, 2.04, 2.05, 2.07, 2.1, 2.11, 2.12, 2.13, 2.14, 2.15, 2.16, 2.17, 2.18, 2.19, 2.2, 2.22, 2.23, 2.24, 2.26, 2.27, 2.28, 2.29, 2.3, 2.35, 2.36, 2.37, 2.39, 2.43, 2.45, 2.46, 2.47, 2.48, 2.5, 2.52, 2.53, 2.55, 2.56, 2.59, 2.6, 2.65, 2.71, 2.75, 2.78, 2.79, 2.8, 2.81, 2.83, 2.85, 2.89, 2.99, 3.0, 3.02, 3.07, 3.11, 3.14, 3.17, 3.27, 3.28, 3.35, 3.42, 3.44, 3.45, 3.47, 3.48, 3.49, 3.58, 3.59, 3.63, 3.64, 3.68, 3.69, 3.75, 3.86, 3.87, 3.9, 4.02, 4.19, 4.24, 4.3, 4.33, 4.37, 4.46, 4.51, 4.82, 4.89, 5.01, 5.04, 5.09, 5.14, 5.35, 5.49, 5.73, 5.75, 5.86, 6.12, 6.18, 6.21, 6.31, 6.42, 6.94, 7.47, 8.03, 8.49, 8.89, 9.09, 9.14, 9.18, 9.2, 10.93, 10.95, 12.76, 28.96]\n",
      "\n",
      "[0.0, 0.01, 0.02, 0.03, 0.04, 0.05, 0.06, 0.07, 0.08, 0.09, 0.1, 0.11, 0.12, 0.13, 0.14, 0.15, 0.16, 0.17, 0.18, 0.19, 0.2, 0.21, 0.22, 0.23, 0.24, 0.25, 0.26, 0.27, 0.28, 0.29, 0.3, 0.31, 0.32, 0.33, 0.34, 0.35, 0.36, 0.37, 0.38, 0.39, 0.4, 0.41, 0.42, 0.43, 0.44, 0.45, 0.46, 0.47, 0.48, 0.49, 0.5, 0.51, 0.52, 0.53, 0.54, 0.55, 0.56, 0.57, 0.58, 0.59, 0.6, 0.61, 0.62, 0.63, 0.64, 0.65, 0.66, 0.67, 0.68, 0.69, 0.7, 0.71, 0.72, 0.73, 0.74, 0.75, 0.76, 0.77, 0.78, 0.79, 0.8, 0.81, 0.82, 0.83, 0.84, 0.85, 0.86, 0.87, 0.88, 0.89, 0.9, 0.91, 0.92, 0.93, 0.94, 0.95, 0.96, 0.97, 0.98, 0.99, 1.0, 1.01, 1.02, 1.03, 1.04, 1.05, 1.06, 1.07, 1.08, 1.09, 1.1, 1.11, 1.12, 1.13, 1.14, 1.15, 1.16, 1.17, 1.18, 1.19, 1.2, 1.21, 1.24, 1.25, 1.26, 1.27, 1.28, 1.29, 1.3, 1.31, 1.32, 1.33, 1.34, 1.35, 1.36, 1.37, 1.38, 1.39, 1.4, 1.42, 1.44, 1.45, 1.46, 1.48, 1.49, 1.5, 1.51, 1.52, 1.53, 1.54, 1.56, 1.57, 1.58, 1.6, 1.61, 1.63, 1.65, 1.69, 1.7, 1.71, 1.75, 1.76, 1.81, 1.87, 1.9, 1.91, 1.93, 1.96, 1.97, 1.98, 2.0, 2.02, 2.05, 2.06, 2.1, 2.11, 2.12, 2.13, 2.14, 2.17, 2.2, 2.23, 2.26, 2.29, 2.32, 2.33, 2.34, 2.35, 2.41, 2.43, 2.46, 2.47, 2.49, 2.53, 2.54, 2.55, 2.62, 2.65, 2.66, 2.68, 2.69, 2.73, 2.78, 2.79, 2.87, 2.93, 3.0, 3.03, 3.1, 3.12, 3.14, 3.15, 3.18, 3.19, 3.28, 3.44, 3.54, 3.6, 3.61, 3.63, 3.67, 3.77, 3.79, 3.81, 3.84, 3.96, 4.1, 4.13, 4.16, 4.18, 4.22, 4.35, 4.39, 4.7, 4.87, 5.32, 5.33, 5.38, 5.65, 6.04, 6.5, 6.81, 7.2, 10.22]\n",
      "\n",
      "[0.0, 0.01, 0.02, 0.03, 0.04, 0.05, 0.06, 0.07, 0.08, 0.09, 0.1, 0.11, 0.12, 0.13, 0.14, 0.15, 0.16, 0.17, 0.18, 0.19, 0.2, 0.21, 0.22, 0.23, 0.24, 0.25, 0.26, 0.27, 0.28, 0.29, 0.3, 0.31, 0.32, 0.33, 0.34, 0.35, 0.36, 0.37, 0.38, 0.39, 0.4, 0.41, 0.42, 0.43, 0.44, 0.45, 0.46, 0.47, 0.48, 0.49, 0.5, 0.51, 0.52, 0.53, 0.54, 0.55, 0.56, 0.57, 0.58, 0.59, 0.6, 0.61, 0.62, 0.63, 0.64, 0.66, 0.67, 0.68, 0.69, 0.7, 0.71, 0.72, 0.73, 0.74, 0.75, 0.76, 0.77, 0.78, 0.79, 0.8, 0.81, 0.82, 0.83, 0.84, 0.85, 0.86, 0.87, 0.89, 0.9, 0.91, 0.92, 0.93, 0.94, 0.96, 0.97, 0.98, 0.99, 1.0, 1.01, 1.02, 1.03, 1.06, 1.08, 1.09, 1.11, 1.12, 1.13, 1.16, 1.18, 1.21, 1.23, 1.25, 1.28, 1.3, 1.32, 1.33, 1.36, 1.37, 1.39, 1.41, 1.48, 1.51, 1.57, 1.6, 1.61, 1.67, 1.68, 1.69, 1.73, 1.74, 1.77, 1.78, 1.79, 1.82, 1.9, 1.93, 1.97, 2.04, 2.05, 2.11, 2.15, 2.24, 2.38, 2.42, 2.46, 2.74, 2.84, 2.88, 2.93, 2.95, 3.29, 3.96, 7.53, 8.45, 10.57]\n",
      "\n",
      "[76.0, nan, 13.0, 17.0, 19.0, 20.0, 21.0, 22.0, 23.0, 24.0, 25.0, 26.0, 27.0, 28.0, 29.0, 30.0, 31.0, 32.0, 33.0, 34.0, 35.0, 36.0, 37.0, 38.0, 39.0, 40.0, 41.0, 42.0, 43.0, 44.0, 45.0, 46.0, 47.0, 48.0, 49.0, 50.0, 51.0, 52.0, 53.0, 54.0, 55.0, 56.0, 57.0, 58.0, 59.0, 60.0, 61.0, 62.0, 63.0, 64.0, 65.0, 66.0, 67.0, 68.0, 69.0, 70.0, 71.0, 72.0, 73.0, 74.0, 75.0, 77.0, 78.0, 79.0, 80.0, 81.0, 82.0, 83.0, 84.0, 85.0, 86.0, 87.0, 88.0, 89.0, 90.0, 91.0, 92.0, 93.0, 94.0, 95.0, 96.0, 97.0, 98.0]\n",
      "\n",
      "['8' nan '8.3' '8.5' '6.6' '8.4' '8.6' '7.7' '6.3' '7.4' '8.2' '9' '7.9'\n",
      " '8.1' '8.7' '7.1' '3.4' '5.3' '4.8' '3.2' '8.9' '6.4' '7.8' '7.5' '2.6'\n",
      " '7.2' '9.2' '7' '7.3' '4.3' '7.6' '5.7' '5' '9.1' '6.5' 'tbd' '8.8' '6.9'\n",
      " '9.4' '6.8' '6.1' '6.7' '5.4' '4' '4.9' '4.5' '9.3' '6.2' '4.2' '6' '3.7'\n",
      " '4.1' '5.8' '5.6' '5.5' '4.4' '4.6' '5.9' '3.9' '3.1' '2.9' '5.2' '3.3'\n",
      " '4.7' '5.1' '3.5' '2.5' '1.9' '3' '2.7' '2.2' '2' '9.5' '2.1' '3.6' '2.8'\n",
      " '1.8' '3.8' '0' '1.6' '9.6' '2.4' '1.7' '1.1' '0.3' '1.5' '0.7' '1.2'\n",
      " '2.3' '0.5' '1.3' '0.2' '0.6' '1.4' '0.9' '1' '9.7']\n",
      "\n",
      "['E' nan 'M' 'T' 'E10+' 'K-A' 'AO' 'EC' 'RP']\n",
      "\n"
     ]
    }
   ],
   "source": [
    "#Analizar valores únicos en columnas\n",
    "\n",
    "for column in data.columns:\n",
    "    try:\n",
    "        print(sorted(data[column].unique()))\n",
    "    except:\n",
    "        print(data[column].unique())\n",
    "    print()"
   ]
  },
  {
   "cell_type": "markdown",
   "metadata": {},
   "source": [
    "Podemos confirmar que no parecen existir errores de captura en cuanto a duplicidad de categorías, lo cual significaría que se usó algún formulario preconfigurado para la captura de la información.\n",
    "\n",
    "A continuación procederemos con el primer cambio de tipo."
   ]
  },
  {
   "cell_type": "markdown",
   "metadata": {},
   "source": [
    "Comenzando por la columna de user_score, dado que es tipo object no podremos hacer muchos cálculos con los datos, por lo que primero debemos cambiarla a float, y para que esto se nos permita 'tbd' será transformado a np.nan; para nuestros fines y buscando tener la mayor cantidad de datos posible, tanto los valores realmente ausentes como los por determinarse contarán como ausentes."
   ]
  },
  {
   "cell_type": "code",
   "execution_count": 6,
   "metadata": {},
   "outputs": [
    {
     "name": "stdout",
     "output_type": "stream",
     "text": [
      "<class 'pandas.core.frame.DataFrame'>\n",
      "RangeIndex: 16715 entries, 0 to 16714\n",
      "Data columns (total 11 columns):\n",
      " #   Column           Non-Null Count  Dtype  \n",
      "---  ------           --------------  -----  \n",
      " 0   name             16713 non-null  object \n",
      " 1   platform         16715 non-null  object \n",
      " 2   year_of_release  16446 non-null  float64\n",
      " 3   genre            16713 non-null  object \n",
      " 4   na_sales         16715 non-null  float64\n",
      " 5   eu_sales         16715 non-null  float64\n",
      " 6   jp_sales         16715 non-null  float64\n",
      " 7   other_sales      16715 non-null  float64\n",
      " 8   critic_score     8137 non-null   float64\n",
      " 9   user_score       7590 non-null   float64\n",
      " 10  rating           9949 non-null   object \n",
      "dtypes: float64(7), object(4)\n",
      "memory usage: 1.4+ MB\n"
     ]
    }
   ],
   "source": [
    "#Cambiar valores por determinar a ausentes y tipo\n",
    "\n",
    "data.loc[data['user_score']=='tbd',['user_score']]=np.nan\n",
    "data['user_score']=data['user_score'].astype('float')\n",
    "data.info()"
   ]
  },
  {
   "cell_type": "markdown",
   "metadata": {},
   "source": [
    "Para poder cambiar el tipo de la columna de año de lanzamiento será necesario tener todos los valores ya que int no acepta valores tipo nan. Para poder alcanzar este objetivo se eliminarán los datos faltantes, ya que una estimación del año de lanzaminto no será muy precisa y puede afectar considerablemente los resultados."
   ]
  },
  {
   "cell_type": "code",
   "execution_count": 7,
   "metadata": {},
   "outputs": [],
   "source": [
    "#Eliminamos registros con años vacíos\n",
    "\n",
    "data = data.loc[pd.isna(data['year_of_release'])==False].copy()\n"
   ]
  },
  {
   "cell_type": "code",
   "execution_count": 8,
   "metadata": {},
   "outputs": [
    {
     "name": "stdout",
     "output_type": "stream",
     "text": [
      "<class 'pandas.core.frame.DataFrame'>\n",
      "Int64Index: 16446 entries, 0 to 16714\n",
      "Data columns (total 11 columns):\n",
      " #   Column           Non-Null Count  Dtype  \n",
      "---  ------           --------------  -----  \n",
      " 0   name             16444 non-null  object \n",
      " 1   platform         16446 non-null  object \n",
      " 2   year_of_release  16446 non-null  int64  \n",
      " 3   genre            16444 non-null  object \n",
      " 4   na_sales         16446 non-null  float64\n",
      " 5   eu_sales         16446 non-null  float64\n",
      " 6   jp_sales         16446 non-null  float64\n",
      " 7   other_sales      16446 non-null  float64\n",
      " 8   critic_score     7983 non-null   float64\n",
      " 9   user_score       7463 non-null   float64\n",
      " 10  rating           9768 non-null   object \n",
      "dtypes: float64(6), int64(1), object(4)\n",
      "memory usage: 1.5+ MB\n"
     ]
    }
   ],
   "source": [
    "#Convertimos la columna en el tipo de datos int, más acorde con sus valores\n",
    "\n",
    "data['year_of_release']=data['year_of_release'].astype('int')\n",
    "data.info()"
   ]
  },
  {
   "cell_type": "markdown",
   "metadata": {},
   "source": [
    "Ya que las columnas se encuentran en su tipo correcto procederemos a atender el resto de los valores ausentes. Dados los 2 que faltan tanto para nombre como para género, comenzaremos analizando estos."
   ]
  },
  {
   "cell_type": "code",
   "execution_count": 9,
   "metadata": {},
   "outputs": [
    {
     "data": {
      "text/html": [
       "<div>\n",
       "<style scoped>\n",
       "    .dataframe tbody tr th:only-of-type {\n",
       "        vertical-align: middle;\n",
       "    }\n",
       "\n",
       "    .dataframe tbody tr th {\n",
       "        vertical-align: top;\n",
       "    }\n",
       "\n",
       "    .dataframe thead th {\n",
       "        text-align: right;\n",
       "    }\n",
       "</style>\n",
       "<table border=\"1\" class=\"dataframe\">\n",
       "  <thead>\n",
       "    <tr style=\"text-align: right;\">\n",
       "      <th></th>\n",
       "      <th>name</th>\n",
       "      <th>platform</th>\n",
       "      <th>year_of_release</th>\n",
       "      <th>genre</th>\n",
       "      <th>na_sales</th>\n",
       "      <th>eu_sales</th>\n",
       "      <th>jp_sales</th>\n",
       "      <th>other_sales</th>\n",
       "      <th>critic_score</th>\n",
       "      <th>user_score</th>\n",
       "      <th>rating</th>\n",
       "    </tr>\n",
       "  </thead>\n",
       "  <tbody>\n",
       "    <tr>\n",
       "      <th>659</th>\n",
       "      <td>NaN</td>\n",
       "      <td>GEN</td>\n",
       "      <td>1993</td>\n",
       "      <td>NaN</td>\n",
       "      <td>1.78</td>\n",
       "      <td>0.53</td>\n",
       "      <td>0.00</td>\n",
       "      <td>0.08</td>\n",
       "      <td>NaN</td>\n",
       "      <td>NaN</td>\n",
       "      <td>NaN</td>\n",
       "    </tr>\n",
       "    <tr>\n",
       "      <th>14244</th>\n",
       "      <td>NaN</td>\n",
       "      <td>GEN</td>\n",
       "      <td>1993</td>\n",
       "      <td>NaN</td>\n",
       "      <td>0.00</td>\n",
       "      <td>0.00</td>\n",
       "      <td>0.03</td>\n",
       "      <td>0.00</td>\n",
       "      <td>NaN</td>\n",
       "      <td>NaN</td>\n",
       "      <td>NaN</td>\n",
       "    </tr>\n",
       "  </tbody>\n",
       "</table>\n",
       "</div>"
      ],
      "text/plain": [
       "      name platform  year_of_release genre  na_sales  eu_sales  jp_sales  \\\n",
       "659    NaN      GEN             1993   NaN      1.78      0.53      0.00   \n",
       "14244  NaN      GEN             1993   NaN      0.00      0.00      0.03   \n",
       "\n",
       "       other_sales  critic_score  user_score rating  \n",
       "659           0.08           NaN         NaN    NaN  \n",
       "14244         0.00           NaN         NaN    NaN  "
      ]
     },
     "execution_count": 9,
     "metadata": {},
     "output_type": "execute_result"
    }
   ],
   "source": [
    "data.loc[(pd.isna(data['name']))|(pd.isna(data['genre']))]"
   ]
  },
  {
   "cell_type": "markdown",
   "metadata": {},
   "source": [
    "Podemos comprobar que para estos dos registros faltan tanto los datos de nombre como los de género, así como muchos otros. Dado lo poco útil de la información y al ser un número considerablemente pequeño dentro del volumen de registros, procederemos a omitirlos en un nuevo dataframe data_clean."
   ]
  },
  {
   "cell_type": "code",
   "execution_count": 10,
   "metadata": {},
   "outputs": [
    {
     "name": "stdout",
     "output_type": "stream",
     "text": [
      "<class 'pandas.core.frame.DataFrame'>\n",
      "Int64Index: 16444 entries, 0 to 16714\n",
      "Data columns (total 11 columns):\n",
      " #   Column           Non-Null Count  Dtype  \n",
      "---  ------           --------------  -----  \n",
      " 0   name             16444 non-null  object \n",
      " 1   platform         16444 non-null  object \n",
      " 2   year_of_release  16444 non-null  int64  \n",
      " 3   genre            16444 non-null  object \n",
      " 4   na_sales         16444 non-null  float64\n",
      " 5   eu_sales         16444 non-null  float64\n",
      " 6   jp_sales         16444 non-null  float64\n",
      " 7   other_sales      16444 non-null  float64\n",
      " 8   critic_score     7983 non-null   float64\n",
      " 9   user_score       7463 non-null   float64\n",
      " 10  rating           9768 non-null   object \n",
      "dtypes: float64(6), int64(1), object(4)\n",
      "memory usage: 1.5+ MB\n"
     ]
    }
   ],
   "source": [
    "data_clean = data.loc[pd.isna(data['name'])==False].copy()\n",
    "data_clean.info()"
   ]
  },
  {
   "cell_type": "markdown",
   "metadata": {},
   "source": [
    "A continuación, procederemos a crear una nueva columna donde se totalicen las ventas de todas las regiones. Lo cual brindará información muy valiosa sobre el éxito de los distintos juegos."
   ]
  },
  {
   "cell_type": "code",
   "execution_count": 11,
   "metadata": {},
   "outputs": [
    {
     "data": {
      "text/html": [
       "<div>\n",
       "<style scoped>\n",
       "    .dataframe tbody tr th:only-of-type {\n",
       "        vertical-align: middle;\n",
       "    }\n",
       "\n",
       "    .dataframe tbody tr th {\n",
       "        vertical-align: top;\n",
       "    }\n",
       "\n",
       "    .dataframe thead th {\n",
       "        text-align: right;\n",
       "    }\n",
       "</style>\n",
       "<table border=\"1\" class=\"dataframe\">\n",
       "  <thead>\n",
       "    <tr style=\"text-align: right;\">\n",
       "      <th></th>\n",
       "      <th>name</th>\n",
       "      <th>platform</th>\n",
       "      <th>year_of_release</th>\n",
       "      <th>genre</th>\n",
       "      <th>na_sales</th>\n",
       "      <th>eu_sales</th>\n",
       "      <th>jp_sales</th>\n",
       "      <th>other_sales</th>\n",
       "      <th>critic_score</th>\n",
       "      <th>user_score</th>\n",
       "      <th>rating</th>\n",
       "      <th>total_sales</th>\n",
       "    </tr>\n",
       "  </thead>\n",
       "  <tbody>\n",
       "    <tr>\n",
       "      <th>0</th>\n",
       "      <td>Wii Sports</td>\n",
       "      <td>Wii</td>\n",
       "      <td>2006</td>\n",
       "      <td>Sports</td>\n",
       "      <td>41.36</td>\n",
       "      <td>28.96</td>\n",
       "      <td>3.77</td>\n",
       "      <td>8.45</td>\n",
       "      <td>76.0</td>\n",
       "      <td>8.0</td>\n",
       "      <td>E</td>\n",
       "      <td>82.54</td>\n",
       "    </tr>\n",
       "    <tr>\n",
       "      <th>1</th>\n",
       "      <td>Super Mario Bros.</td>\n",
       "      <td>NES</td>\n",
       "      <td>1985</td>\n",
       "      <td>Platform</td>\n",
       "      <td>29.08</td>\n",
       "      <td>3.58</td>\n",
       "      <td>6.81</td>\n",
       "      <td>0.77</td>\n",
       "      <td>NaN</td>\n",
       "      <td>NaN</td>\n",
       "      <td>NaN</td>\n",
       "      <td>40.24</td>\n",
       "    </tr>\n",
       "    <tr>\n",
       "      <th>2</th>\n",
       "      <td>Mario Kart Wii</td>\n",
       "      <td>Wii</td>\n",
       "      <td>2008</td>\n",
       "      <td>Racing</td>\n",
       "      <td>15.68</td>\n",
       "      <td>12.76</td>\n",
       "      <td>3.79</td>\n",
       "      <td>3.29</td>\n",
       "      <td>82.0</td>\n",
       "      <td>8.3</td>\n",
       "      <td>E</td>\n",
       "      <td>35.52</td>\n",
       "    </tr>\n",
       "    <tr>\n",
       "      <th>3</th>\n",
       "      <td>Wii Sports Resort</td>\n",
       "      <td>Wii</td>\n",
       "      <td>2009</td>\n",
       "      <td>Sports</td>\n",
       "      <td>15.61</td>\n",
       "      <td>10.93</td>\n",
       "      <td>3.28</td>\n",
       "      <td>2.95</td>\n",
       "      <td>80.0</td>\n",
       "      <td>8.0</td>\n",
       "      <td>E</td>\n",
       "      <td>32.77</td>\n",
       "    </tr>\n",
       "    <tr>\n",
       "      <th>4</th>\n",
       "      <td>Pokemon Red/Pokemon Blue</td>\n",
       "      <td>GB</td>\n",
       "      <td>1996</td>\n",
       "      <td>Role-Playing</td>\n",
       "      <td>11.27</td>\n",
       "      <td>8.89</td>\n",
       "      <td>10.22</td>\n",
       "      <td>1.00</td>\n",
       "      <td>NaN</td>\n",
       "      <td>NaN</td>\n",
       "      <td>NaN</td>\n",
       "      <td>31.38</td>\n",
       "    </tr>\n",
       "  </tbody>\n",
       "</table>\n",
       "</div>"
      ],
      "text/plain": [
       "                       name platform  year_of_release         genre  na_sales  \\\n",
       "0                Wii Sports      Wii             2006        Sports     41.36   \n",
       "1         Super Mario Bros.      NES             1985      Platform     29.08   \n",
       "2            Mario Kart Wii      Wii             2008        Racing     15.68   \n",
       "3         Wii Sports Resort      Wii             2009        Sports     15.61   \n",
       "4  Pokemon Red/Pokemon Blue       GB             1996  Role-Playing     11.27   \n",
       "\n",
       "   eu_sales  jp_sales  other_sales  critic_score  user_score rating  \\\n",
       "0     28.96      3.77         8.45          76.0         8.0      E   \n",
       "1      3.58      6.81         0.77           NaN         NaN    NaN   \n",
       "2     12.76      3.79         3.29          82.0         8.3      E   \n",
       "3     10.93      3.28         2.95          80.0         8.0      E   \n",
       "4      8.89     10.22         1.00           NaN         NaN    NaN   \n",
       "\n",
       "   total_sales  \n",
       "0        82.54  \n",
       "1        40.24  \n",
       "2        35.52  \n",
       "3        32.77  \n",
       "4        31.38  "
      ]
     },
     "execution_count": 11,
     "metadata": {},
     "output_type": "execute_result"
    }
   ],
   "source": [
    "#Creación de la nueva columna total_sales\n",
    "\n",
    "data_clean['total_sales']=data[['na_sales','eu_sales','jp_sales','other_sales']].sum(axis=1)\n",
    "data_clean.head()"
   ]
  },
  {
   "cell_type": "code",
   "execution_count": 12,
   "metadata": {},
   "outputs": [],
   "source": [
    "#Creación de una nueva columna group_sales\n",
    "\n",
    "def group_total(row):\n",
    "    lower= int(row['total_sales']/10)*10\n",
    "    upper= int(row['total_sales']/10)*10+10\n",
    "    return f'{lower}-{upper}'\n",
    "\n"
   ]
  },
  {
   "cell_type": "code",
   "execution_count": 13,
   "metadata": {},
   "outputs": [
    {
     "data": {
      "text/html": [
       "<div>\n",
       "<style scoped>\n",
       "    .dataframe tbody tr th:only-of-type {\n",
       "        vertical-align: middle;\n",
       "    }\n",
       "\n",
       "    .dataframe tbody tr th {\n",
       "        vertical-align: top;\n",
       "    }\n",
       "\n",
       "    .dataframe thead th {\n",
       "        text-align: right;\n",
       "    }\n",
       "</style>\n",
       "<table border=\"1\" class=\"dataframe\">\n",
       "  <thead>\n",
       "    <tr style=\"text-align: right;\">\n",
       "      <th></th>\n",
       "      <th>name</th>\n",
       "      <th>platform</th>\n",
       "      <th>year_of_release</th>\n",
       "      <th>genre</th>\n",
       "      <th>na_sales</th>\n",
       "      <th>eu_sales</th>\n",
       "      <th>jp_sales</th>\n",
       "      <th>other_sales</th>\n",
       "      <th>critic_score</th>\n",
       "      <th>user_score</th>\n",
       "      <th>rating</th>\n",
       "      <th>total_sales</th>\n",
       "      <th>group_total</th>\n",
       "    </tr>\n",
       "  </thead>\n",
       "  <tbody>\n",
       "    <tr>\n",
       "      <th>0</th>\n",
       "      <td>Wii Sports</td>\n",
       "      <td>Wii</td>\n",
       "      <td>2006</td>\n",
       "      <td>Sports</td>\n",
       "      <td>41.36</td>\n",
       "      <td>28.96</td>\n",
       "      <td>3.77</td>\n",
       "      <td>8.45</td>\n",
       "      <td>76.0</td>\n",
       "      <td>8.0</td>\n",
       "      <td>E</td>\n",
       "      <td>82.54</td>\n",
       "      <td>80-90</td>\n",
       "    </tr>\n",
       "    <tr>\n",
       "      <th>1</th>\n",
       "      <td>Super Mario Bros.</td>\n",
       "      <td>NES</td>\n",
       "      <td>1985</td>\n",
       "      <td>Platform</td>\n",
       "      <td>29.08</td>\n",
       "      <td>3.58</td>\n",
       "      <td>6.81</td>\n",
       "      <td>0.77</td>\n",
       "      <td>NaN</td>\n",
       "      <td>NaN</td>\n",
       "      <td>NaN</td>\n",
       "      <td>40.24</td>\n",
       "      <td>40-50</td>\n",
       "    </tr>\n",
       "    <tr>\n",
       "      <th>2</th>\n",
       "      <td>Mario Kart Wii</td>\n",
       "      <td>Wii</td>\n",
       "      <td>2008</td>\n",
       "      <td>Racing</td>\n",
       "      <td>15.68</td>\n",
       "      <td>12.76</td>\n",
       "      <td>3.79</td>\n",
       "      <td>3.29</td>\n",
       "      <td>82.0</td>\n",
       "      <td>8.3</td>\n",
       "      <td>E</td>\n",
       "      <td>35.52</td>\n",
       "      <td>30-40</td>\n",
       "    </tr>\n",
       "    <tr>\n",
       "      <th>3</th>\n",
       "      <td>Wii Sports Resort</td>\n",
       "      <td>Wii</td>\n",
       "      <td>2009</td>\n",
       "      <td>Sports</td>\n",
       "      <td>15.61</td>\n",
       "      <td>10.93</td>\n",
       "      <td>3.28</td>\n",
       "      <td>2.95</td>\n",
       "      <td>80.0</td>\n",
       "      <td>8.0</td>\n",
       "      <td>E</td>\n",
       "      <td>32.77</td>\n",
       "      <td>30-40</td>\n",
       "    </tr>\n",
       "    <tr>\n",
       "      <th>4</th>\n",
       "      <td>Pokemon Red/Pokemon Blue</td>\n",
       "      <td>GB</td>\n",
       "      <td>1996</td>\n",
       "      <td>Role-Playing</td>\n",
       "      <td>11.27</td>\n",
       "      <td>8.89</td>\n",
       "      <td>10.22</td>\n",
       "      <td>1.00</td>\n",
       "      <td>NaN</td>\n",
       "      <td>NaN</td>\n",
       "      <td>NaN</td>\n",
       "      <td>31.38</td>\n",
       "      <td>30-40</td>\n",
       "    </tr>\n",
       "  </tbody>\n",
       "</table>\n",
       "</div>"
      ],
      "text/plain": [
       "                       name platform  year_of_release         genre  na_sales  \\\n",
       "0                Wii Sports      Wii             2006        Sports     41.36   \n",
       "1         Super Mario Bros.      NES             1985      Platform     29.08   \n",
       "2            Mario Kart Wii      Wii             2008        Racing     15.68   \n",
       "3         Wii Sports Resort      Wii             2009        Sports     15.61   \n",
       "4  Pokemon Red/Pokemon Blue       GB             1996  Role-Playing     11.27   \n",
       "\n",
       "   eu_sales  jp_sales  other_sales  critic_score  user_score rating  \\\n",
       "0     28.96      3.77         8.45          76.0         8.0      E   \n",
       "1      3.58      6.81         0.77           NaN         NaN    NaN   \n",
       "2     12.76      3.79         3.29          82.0         8.3      E   \n",
       "3     10.93      3.28         2.95          80.0         8.0      E   \n",
       "4      8.89     10.22         1.00           NaN         NaN    NaN   \n",
       "\n",
       "   total_sales group_total  \n",
       "0        82.54       80-90  \n",
       "1        40.24       40-50  \n",
       "2        35.52       30-40  \n",
       "3        32.77       30-40  \n",
       "4        31.38       30-40  "
      ]
     },
     "execution_count": 13,
     "metadata": {},
     "output_type": "execute_result"
    }
   ],
   "source": [
    "data_clean['group_total'] = data_clean.apply(group_total,axis=1).copy()\n",
    "data_clean.head()"
   ]
  },
  {
   "cell_type": "markdown",
   "metadata": {},
   "source": [
    "Y para tratar la información relacionada con las calificaciones de profesionales y usuarios, procederemos a identificar como nan los valores que permanecen ausentes, ya que estimarlos puede resultar impresiso, especialmente por el gran volumen de estos faltantes y su importancia en este estuido."
   ]
  },
  {
   "cell_type": "code",
   "execution_count": 14,
   "metadata": {},
   "outputs": [
    {
     "name": "stdout",
     "output_type": "stream",
     "text": [
      "<class 'pandas.core.frame.DataFrame'>\n",
      "Int64Index: 16444 entries, 0 to 16714\n",
      "Data columns (total 13 columns):\n",
      " #   Column           Non-Null Count  Dtype  \n",
      "---  ------           --------------  -----  \n",
      " 0   name             16444 non-null  object \n",
      " 1   platform         16444 non-null  object \n",
      " 2   year_of_release  16444 non-null  int64  \n",
      " 3   genre            16444 non-null  object \n",
      " 4   na_sales         16444 non-null  float64\n",
      " 5   eu_sales         16444 non-null  float64\n",
      " 6   jp_sales         16444 non-null  float64\n",
      " 7   other_sales      16444 non-null  float64\n",
      " 8   critic_score     7983 non-null   float64\n",
      " 9   user_score       7463 non-null   float64\n",
      " 10  rating           9768 non-null   object \n",
      " 11  total_sales      16444 non-null  float64\n",
      " 12  group_total      16444 non-null  object \n",
      "dtypes: float64(7), int64(1), object(5)\n",
      "memory usage: 1.8+ MB\n"
     ]
    },
    {
     "data": {
      "text/html": [
       "<div>\n",
       "<style scoped>\n",
       "    .dataframe tbody tr th:only-of-type {\n",
       "        vertical-align: middle;\n",
       "    }\n",
       "\n",
       "    .dataframe tbody tr th {\n",
       "        vertical-align: top;\n",
       "    }\n",
       "\n",
       "    .dataframe thead th {\n",
       "        text-align: right;\n",
       "    }\n",
       "</style>\n",
       "<table border=\"1\" class=\"dataframe\">\n",
       "  <thead>\n",
       "    <tr style=\"text-align: right;\">\n",
       "      <th></th>\n",
       "      <th>name</th>\n",
       "      <th>platform</th>\n",
       "      <th>year_of_release</th>\n",
       "      <th>genre</th>\n",
       "      <th>na_sales</th>\n",
       "      <th>eu_sales</th>\n",
       "      <th>jp_sales</th>\n",
       "      <th>other_sales</th>\n",
       "      <th>critic_score</th>\n",
       "      <th>user_score</th>\n",
       "      <th>rating</th>\n",
       "      <th>total_sales</th>\n",
       "      <th>group_total</th>\n",
       "    </tr>\n",
       "  </thead>\n",
       "  <tbody>\n",
       "    <tr>\n",
       "      <th>0</th>\n",
       "      <td>Wii Sports</td>\n",
       "      <td>Wii</td>\n",
       "      <td>2006</td>\n",
       "      <td>Sports</td>\n",
       "      <td>41.36</td>\n",
       "      <td>28.96</td>\n",
       "      <td>3.77</td>\n",
       "      <td>8.45</td>\n",
       "      <td>76.0</td>\n",
       "      <td>8.0</td>\n",
       "      <td>E</td>\n",
       "      <td>82.54</td>\n",
       "      <td>80-90</td>\n",
       "    </tr>\n",
       "    <tr>\n",
       "      <th>1</th>\n",
       "      <td>Super Mario Bros.</td>\n",
       "      <td>NES</td>\n",
       "      <td>1985</td>\n",
       "      <td>Platform</td>\n",
       "      <td>29.08</td>\n",
       "      <td>3.58</td>\n",
       "      <td>6.81</td>\n",
       "      <td>0.77</td>\n",
       "      <td>NaN</td>\n",
       "      <td>NaN</td>\n",
       "      <td>NaN</td>\n",
       "      <td>40.24</td>\n",
       "      <td>40-50</td>\n",
       "    </tr>\n",
       "    <tr>\n",
       "      <th>2</th>\n",
       "      <td>Mario Kart Wii</td>\n",
       "      <td>Wii</td>\n",
       "      <td>2008</td>\n",
       "      <td>Racing</td>\n",
       "      <td>15.68</td>\n",
       "      <td>12.76</td>\n",
       "      <td>3.79</td>\n",
       "      <td>3.29</td>\n",
       "      <td>82.0</td>\n",
       "      <td>8.3</td>\n",
       "      <td>E</td>\n",
       "      <td>35.52</td>\n",
       "      <td>30-40</td>\n",
       "    </tr>\n",
       "    <tr>\n",
       "      <th>3</th>\n",
       "      <td>Wii Sports Resort</td>\n",
       "      <td>Wii</td>\n",
       "      <td>2009</td>\n",
       "      <td>Sports</td>\n",
       "      <td>15.61</td>\n",
       "      <td>10.93</td>\n",
       "      <td>3.28</td>\n",
       "      <td>2.95</td>\n",
       "      <td>80.0</td>\n",
       "      <td>8.0</td>\n",
       "      <td>E</td>\n",
       "      <td>32.77</td>\n",
       "      <td>30-40</td>\n",
       "    </tr>\n",
       "    <tr>\n",
       "      <th>4</th>\n",
       "      <td>Pokemon Red/Pokemon Blue</td>\n",
       "      <td>GB</td>\n",
       "      <td>1996</td>\n",
       "      <td>Role-Playing</td>\n",
       "      <td>11.27</td>\n",
       "      <td>8.89</td>\n",
       "      <td>10.22</td>\n",
       "      <td>1.00</td>\n",
       "      <td>NaN</td>\n",
       "      <td>NaN</td>\n",
       "      <td>NaN</td>\n",
       "      <td>31.38</td>\n",
       "      <td>30-40</td>\n",
       "    </tr>\n",
       "    <tr>\n",
       "      <th>5</th>\n",
       "      <td>Tetris</td>\n",
       "      <td>GB</td>\n",
       "      <td>1989</td>\n",
       "      <td>Puzzle</td>\n",
       "      <td>23.20</td>\n",
       "      <td>2.26</td>\n",
       "      <td>4.22</td>\n",
       "      <td>0.58</td>\n",
       "      <td>NaN</td>\n",
       "      <td>NaN</td>\n",
       "      <td>NaN</td>\n",
       "      <td>30.26</td>\n",
       "      <td>30-40</td>\n",
       "    </tr>\n",
       "    <tr>\n",
       "      <th>6</th>\n",
       "      <td>New Super Mario Bros.</td>\n",
       "      <td>DS</td>\n",
       "      <td>2006</td>\n",
       "      <td>Platform</td>\n",
       "      <td>11.28</td>\n",
       "      <td>9.14</td>\n",
       "      <td>6.50</td>\n",
       "      <td>2.88</td>\n",
       "      <td>89.0</td>\n",
       "      <td>8.5</td>\n",
       "      <td>E</td>\n",
       "      <td>29.80</td>\n",
       "      <td>20-30</td>\n",
       "    </tr>\n",
       "    <tr>\n",
       "      <th>7</th>\n",
       "      <td>Wii Play</td>\n",
       "      <td>Wii</td>\n",
       "      <td>2006</td>\n",
       "      <td>Misc</td>\n",
       "      <td>13.96</td>\n",
       "      <td>9.18</td>\n",
       "      <td>2.93</td>\n",
       "      <td>2.84</td>\n",
       "      <td>58.0</td>\n",
       "      <td>6.6</td>\n",
       "      <td>E</td>\n",
       "      <td>28.91</td>\n",
       "      <td>20-30</td>\n",
       "    </tr>\n",
       "    <tr>\n",
       "      <th>8</th>\n",
       "      <td>New Super Mario Bros. Wii</td>\n",
       "      <td>Wii</td>\n",
       "      <td>2009</td>\n",
       "      <td>Platform</td>\n",
       "      <td>14.44</td>\n",
       "      <td>6.94</td>\n",
       "      <td>4.70</td>\n",
       "      <td>2.24</td>\n",
       "      <td>87.0</td>\n",
       "      <td>8.4</td>\n",
       "      <td>E</td>\n",
       "      <td>28.32</td>\n",
       "      <td>20-30</td>\n",
       "    </tr>\n",
       "    <tr>\n",
       "      <th>9</th>\n",
       "      <td>Duck Hunt</td>\n",
       "      <td>NES</td>\n",
       "      <td>1984</td>\n",
       "      <td>Shooter</td>\n",
       "      <td>26.93</td>\n",
       "      <td>0.63</td>\n",
       "      <td>0.28</td>\n",
       "      <td>0.47</td>\n",
       "      <td>NaN</td>\n",
       "      <td>NaN</td>\n",
       "      <td>NaN</td>\n",
       "      <td>28.31</td>\n",
       "      <td>20-30</td>\n",
       "    </tr>\n",
       "  </tbody>\n",
       "</table>\n",
       "</div>"
      ],
      "text/plain": [
       "                        name platform  year_of_release         genre  \\\n",
       "0                 Wii Sports      Wii             2006        Sports   \n",
       "1          Super Mario Bros.      NES             1985      Platform   \n",
       "2             Mario Kart Wii      Wii             2008        Racing   \n",
       "3          Wii Sports Resort      Wii             2009        Sports   \n",
       "4   Pokemon Red/Pokemon Blue       GB             1996  Role-Playing   \n",
       "5                     Tetris       GB             1989        Puzzle   \n",
       "6      New Super Mario Bros.       DS             2006      Platform   \n",
       "7                   Wii Play      Wii             2006          Misc   \n",
       "8  New Super Mario Bros. Wii      Wii             2009      Platform   \n",
       "9                  Duck Hunt      NES             1984       Shooter   \n",
       "\n",
       "   na_sales  eu_sales  jp_sales  other_sales  critic_score  user_score rating  \\\n",
       "0     41.36     28.96      3.77         8.45          76.0         8.0      E   \n",
       "1     29.08      3.58      6.81         0.77           NaN         NaN    NaN   \n",
       "2     15.68     12.76      3.79         3.29          82.0         8.3      E   \n",
       "3     15.61     10.93      3.28         2.95          80.0         8.0      E   \n",
       "4     11.27      8.89     10.22         1.00           NaN         NaN    NaN   \n",
       "5     23.20      2.26      4.22         0.58           NaN         NaN    NaN   \n",
       "6     11.28      9.14      6.50         2.88          89.0         8.5      E   \n",
       "7     13.96      9.18      2.93         2.84          58.0         6.6      E   \n",
       "8     14.44      6.94      4.70         2.24          87.0         8.4      E   \n",
       "9     26.93      0.63      0.28         0.47           NaN         NaN    NaN   \n",
       "\n",
       "   total_sales group_total  \n",
       "0        82.54       80-90  \n",
       "1        40.24       40-50  \n",
       "2        35.52       30-40  \n",
       "3        32.77       30-40  \n",
       "4        31.38       30-40  \n",
       "5        30.26       30-40  \n",
       "6        29.80       20-30  \n",
       "7        28.91       20-30  \n",
       "8        28.32       20-30  \n",
       "9        28.31       20-30  "
      ]
     },
     "execution_count": 14,
     "metadata": {},
     "output_type": "execute_result"
    }
   ],
   "source": [
    "#Llenar valores de critic_score y user_score\n",
    "\n",
    "data_clean['critic_score'] = data_clean['critic_score'].fillna(float('nan'))\n",
    "data_clean['user_score'] = data_clean['user_score'].fillna(float('nan'))\n",
    "data_clean.info()\n",
    "data_clean.head(10)"
   ]
  },
  {
   "cell_type": "markdown",
   "metadata": {},
   "source": [
    "Ahora, para tratar los datos ausentes en la columna rating se cambiarán su leyenda a 'unknown' ya que no podemos hacer una mejor estimación sobre sus datos, considerando que la región y la consola pueden afectar en esta clasificación, y cualquier estimación podría modificar considerablemente los resultados."
   ]
  },
  {
   "cell_type": "code",
   "execution_count": 15,
   "metadata": {},
   "outputs": [
    {
     "name": "stdout",
     "output_type": "stream",
     "text": [
      "<class 'pandas.core.frame.DataFrame'>\n",
      "Int64Index: 16444 entries, 0 to 16714\n",
      "Data columns (total 13 columns):\n",
      " #   Column           Non-Null Count  Dtype  \n",
      "---  ------           --------------  -----  \n",
      " 0   name             16444 non-null  object \n",
      " 1   platform         16444 non-null  object \n",
      " 2   year_of_release  16444 non-null  int64  \n",
      " 3   genre            16444 non-null  object \n",
      " 4   na_sales         16444 non-null  float64\n",
      " 5   eu_sales         16444 non-null  float64\n",
      " 6   jp_sales         16444 non-null  float64\n",
      " 7   other_sales      16444 non-null  float64\n",
      " 8   critic_score     7983 non-null   float64\n",
      " 9   user_score       7463 non-null   float64\n",
      " 10  rating           16444 non-null  object \n",
      " 11  total_sales      16444 non-null  float64\n",
      " 12  group_total      16444 non-null  object \n",
      "dtypes: float64(7), int64(1), object(5)\n",
      "memory usage: 1.8+ MB\n"
     ]
    },
    {
     "data": {
      "text/html": [
       "<div>\n",
       "<style scoped>\n",
       "    .dataframe tbody tr th:only-of-type {\n",
       "        vertical-align: middle;\n",
       "    }\n",
       "\n",
       "    .dataframe tbody tr th {\n",
       "        vertical-align: top;\n",
       "    }\n",
       "\n",
       "    .dataframe thead th {\n",
       "        text-align: right;\n",
       "    }\n",
       "</style>\n",
       "<table border=\"1\" class=\"dataframe\">\n",
       "  <thead>\n",
       "    <tr style=\"text-align: right;\">\n",
       "      <th></th>\n",
       "      <th>name</th>\n",
       "      <th>platform</th>\n",
       "      <th>year_of_release</th>\n",
       "      <th>genre</th>\n",
       "      <th>na_sales</th>\n",
       "      <th>eu_sales</th>\n",
       "      <th>jp_sales</th>\n",
       "      <th>other_sales</th>\n",
       "      <th>critic_score</th>\n",
       "      <th>user_score</th>\n",
       "      <th>rating</th>\n",
       "      <th>total_sales</th>\n",
       "      <th>group_total</th>\n",
       "    </tr>\n",
       "  </thead>\n",
       "  <tbody>\n",
       "    <tr>\n",
       "      <th>0</th>\n",
       "      <td>Wii Sports</td>\n",
       "      <td>Wii</td>\n",
       "      <td>2006</td>\n",
       "      <td>Sports</td>\n",
       "      <td>41.36</td>\n",
       "      <td>28.96</td>\n",
       "      <td>3.77</td>\n",
       "      <td>8.45</td>\n",
       "      <td>76.0</td>\n",
       "      <td>8.0</td>\n",
       "      <td>E</td>\n",
       "      <td>82.54</td>\n",
       "      <td>80-90</td>\n",
       "    </tr>\n",
       "    <tr>\n",
       "      <th>1</th>\n",
       "      <td>Super Mario Bros.</td>\n",
       "      <td>NES</td>\n",
       "      <td>1985</td>\n",
       "      <td>Platform</td>\n",
       "      <td>29.08</td>\n",
       "      <td>3.58</td>\n",
       "      <td>6.81</td>\n",
       "      <td>0.77</td>\n",
       "      <td>NaN</td>\n",
       "      <td>NaN</td>\n",
       "      <td>unknown</td>\n",
       "      <td>40.24</td>\n",
       "      <td>40-50</td>\n",
       "    </tr>\n",
       "    <tr>\n",
       "      <th>2</th>\n",
       "      <td>Mario Kart Wii</td>\n",
       "      <td>Wii</td>\n",
       "      <td>2008</td>\n",
       "      <td>Racing</td>\n",
       "      <td>15.68</td>\n",
       "      <td>12.76</td>\n",
       "      <td>3.79</td>\n",
       "      <td>3.29</td>\n",
       "      <td>82.0</td>\n",
       "      <td>8.3</td>\n",
       "      <td>E</td>\n",
       "      <td>35.52</td>\n",
       "      <td>30-40</td>\n",
       "    </tr>\n",
       "    <tr>\n",
       "      <th>3</th>\n",
       "      <td>Wii Sports Resort</td>\n",
       "      <td>Wii</td>\n",
       "      <td>2009</td>\n",
       "      <td>Sports</td>\n",
       "      <td>15.61</td>\n",
       "      <td>10.93</td>\n",
       "      <td>3.28</td>\n",
       "      <td>2.95</td>\n",
       "      <td>80.0</td>\n",
       "      <td>8.0</td>\n",
       "      <td>E</td>\n",
       "      <td>32.77</td>\n",
       "      <td>30-40</td>\n",
       "    </tr>\n",
       "    <tr>\n",
       "      <th>4</th>\n",
       "      <td>Pokemon Red/Pokemon Blue</td>\n",
       "      <td>GB</td>\n",
       "      <td>1996</td>\n",
       "      <td>Role-Playing</td>\n",
       "      <td>11.27</td>\n",
       "      <td>8.89</td>\n",
       "      <td>10.22</td>\n",
       "      <td>1.00</td>\n",
       "      <td>NaN</td>\n",
       "      <td>NaN</td>\n",
       "      <td>unknown</td>\n",
       "      <td>31.38</td>\n",
       "      <td>30-40</td>\n",
       "    </tr>\n",
       "    <tr>\n",
       "      <th>5</th>\n",
       "      <td>Tetris</td>\n",
       "      <td>GB</td>\n",
       "      <td>1989</td>\n",
       "      <td>Puzzle</td>\n",
       "      <td>23.20</td>\n",
       "      <td>2.26</td>\n",
       "      <td>4.22</td>\n",
       "      <td>0.58</td>\n",
       "      <td>NaN</td>\n",
       "      <td>NaN</td>\n",
       "      <td>unknown</td>\n",
       "      <td>30.26</td>\n",
       "      <td>30-40</td>\n",
       "    </tr>\n",
       "    <tr>\n",
       "      <th>6</th>\n",
       "      <td>New Super Mario Bros.</td>\n",
       "      <td>DS</td>\n",
       "      <td>2006</td>\n",
       "      <td>Platform</td>\n",
       "      <td>11.28</td>\n",
       "      <td>9.14</td>\n",
       "      <td>6.50</td>\n",
       "      <td>2.88</td>\n",
       "      <td>89.0</td>\n",
       "      <td>8.5</td>\n",
       "      <td>E</td>\n",
       "      <td>29.80</td>\n",
       "      <td>20-30</td>\n",
       "    </tr>\n",
       "    <tr>\n",
       "      <th>7</th>\n",
       "      <td>Wii Play</td>\n",
       "      <td>Wii</td>\n",
       "      <td>2006</td>\n",
       "      <td>Misc</td>\n",
       "      <td>13.96</td>\n",
       "      <td>9.18</td>\n",
       "      <td>2.93</td>\n",
       "      <td>2.84</td>\n",
       "      <td>58.0</td>\n",
       "      <td>6.6</td>\n",
       "      <td>E</td>\n",
       "      <td>28.91</td>\n",
       "      <td>20-30</td>\n",
       "    </tr>\n",
       "    <tr>\n",
       "      <th>8</th>\n",
       "      <td>New Super Mario Bros. Wii</td>\n",
       "      <td>Wii</td>\n",
       "      <td>2009</td>\n",
       "      <td>Platform</td>\n",
       "      <td>14.44</td>\n",
       "      <td>6.94</td>\n",
       "      <td>4.70</td>\n",
       "      <td>2.24</td>\n",
       "      <td>87.0</td>\n",
       "      <td>8.4</td>\n",
       "      <td>E</td>\n",
       "      <td>28.32</td>\n",
       "      <td>20-30</td>\n",
       "    </tr>\n",
       "    <tr>\n",
       "      <th>9</th>\n",
       "      <td>Duck Hunt</td>\n",
       "      <td>NES</td>\n",
       "      <td>1984</td>\n",
       "      <td>Shooter</td>\n",
       "      <td>26.93</td>\n",
       "      <td>0.63</td>\n",
       "      <td>0.28</td>\n",
       "      <td>0.47</td>\n",
       "      <td>NaN</td>\n",
       "      <td>NaN</td>\n",
       "      <td>unknown</td>\n",
       "      <td>28.31</td>\n",
       "      <td>20-30</td>\n",
       "    </tr>\n",
       "  </tbody>\n",
       "</table>\n",
       "</div>"
      ],
      "text/plain": [
       "                        name platform  year_of_release         genre  \\\n",
       "0                 Wii Sports      Wii             2006        Sports   \n",
       "1          Super Mario Bros.      NES             1985      Platform   \n",
       "2             Mario Kart Wii      Wii             2008        Racing   \n",
       "3          Wii Sports Resort      Wii             2009        Sports   \n",
       "4   Pokemon Red/Pokemon Blue       GB             1996  Role-Playing   \n",
       "5                     Tetris       GB             1989        Puzzle   \n",
       "6      New Super Mario Bros.       DS             2006      Platform   \n",
       "7                   Wii Play      Wii             2006          Misc   \n",
       "8  New Super Mario Bros. Wii      Wii             2009      Platform   \n",
       "9                  Duck Hunt      NES             1984       Shooter   \n",
       "\n",
       "   na_sales  eu_sales  jp_sales  other_sales  critic_score  user_score  \\\n",
       "0     41.36     28.96      3.77         8.45          76.0         8.0   \n",
       "1     29.08      3.58      6.81         0.77           NaN         NaN   \n",
       "2     15.68     12.76      3.79         3.29          82.0         8.3   \n",
       "3     15.61     10.93      3.28         2.95          80.0         8.0   \n",
       "4     11.27      8.89     10.22         1.00           NaN         NaN   \n",
       "5     23.20      2.26      4.22         0.58           NaN         NaN   \n",
       "6     11.28      9.14      6.50         2.88          89.0         8.5   \n",
       "7     13.96      9.18      2.93         2.84          58.0         6.6   \n",
       "8     14.44      6.94      4.70         2.24          87.0         8.4   \n",
       "9     26.93      0.63      0.28         0.47           NaN         NaN   \n",
       "\n",
       "    rating  total_sales group_total  \n",
       "0        E        82.54       80-90  \n",
       "1  unknown        40.24       40-50  \n",
       "2        E        35.52       30-40  \n",
       "3        E        32.77       30-40  \n",
       "4  unknown        31.38       30-40  \n",
       "5  unknown        30.26       30-40  \n",
       "6        E        29.80       20-30  \n",
       "7        E        28.91       20-30  \n",
       "8        E        28.32       20-30  \n",
       "9  unknown        28.31       20-30  "
      ]
     },
     "execution_count": 15,
     "metadata": {},
     "output_type": "execute_result"
    }
   ],
   "source": [
    "#Cambio a 'unknown' de valores ausentes de rating\n",
    "\n",
    "data_clean['rating']=data_clean['rating'].fillna('unknown')\n",
    "data_clean.info()\n",
    "data_clean.head(10)"
   ]
  },
  {
   "cell_type": "markdown",
   "metadata": {},
   "source": [
    "Así es como terminamos teniendo los datos con los que procederemos a una segunda etapa de análisis después de una limpieza y corrección de datos que permitió eliminar los menos registros posibles, los cuales no contaban con la información relevante para el estudio. Conservamos prácticamente la totalidad de los datos, eliminando únicamente 2 de lo 16715 originales."
   ]
  },
  {
   "cell_type": "markdown",
   "metadata": {},
   "source": [
    "## Análisis de los datos\n",
    "\n",
    "A continuación procederemos a un análisis más profundo que nos permitirá conservar los datos más relevantes para nuestras conclusiones. Comenzaremos analizando lo significativo de los datos por año y por plataforma, descartando los casos que no lo son. Posteriormente elegiremos los años y plataformas a trabajar para dar paso a un próximo bloque de análisis."
   ]
  },
  {
   "cell_type": "code",
   "execution_count": 16,
   "metadata": {},
   "outputs": [
    {
     "name": "stdout",
     "output_type": "stream",
     "text": [
      "                 platform\n",
      "year_of_release          \n",
      "1980                    9\n",
      "1981                   46\n",
      "1982                   36\n",
      "1983                   17\n",
      "1984                   14\n",
      "1985                   14\n",
      "1986                   21\n",
      "1987                   16\n",
      "1988                   15\n",
      "1989                   17\n",
      "1990                   16\n",
      "1991                   41\n",
      "1992                   43\n",
      "1993                   60\n",
      "1994                  121\n",
      "1995                  219\n",
      "1996                  263\n",
      "1997                  289\n",
      "1998                  379\n",
      "1999                  338\n",
      "2000                  350\n",
      "2001                  482\n",
      "2002                  829\n",
      "2003                  775\n",
      "2004                  762\n",
      "2005                  939\n",
      "2006                 1006\n",
      "2007                 1197\n",
      "2008                 1427\n",
      "2009                 1426\n",
      "2010                 1255\n",
      "2011                 1136\n",
      "2012                  653\n",
      "2013                  544\n",
      "2014                  581\n",
      "2015                  606\n",
      "2016                  502\n",
      "\n",
      "          year_of_release\n",
      "platform                 \n",
      "2600                  116\n",
      "3DO                     3\n",
      "3DS                   512\n",
      "DC                     52\n",
      "DS                   2121\n",
      "GB                     97\n",
      "GBA                   811\n",
      "GC                    542\n",
      "GEN                    27\n",
      "GG                      1\n",
      "N64                   316\n",
      "NES                    98\n",
      "NG                     12\n",
      "PC                    957\n",
      "PCFX                    1\n",
      "PS                   1190\n",
      "PS2                  2127\n",
      "PS3                  1306\n",
      "PS4                   392\n",
      "PSP                  1193\n",
      "PSV                   429\n",
      "SAT                   173\n",
      "SCD                     6\n",
      "SNES                  239\n",
      "TG16                    2\n",
      "WS                      6\n",
      "Wii                  1286\n",
      "WiiU                  147\n",
      "X360                 1232\n",
      "XB                    803\n",
      "XOne                  247\n"
     ]
    }
   ],
   "source": [
    "#Análisis significativo años\n",
    "año_significativo = data_clean.pivot_table(index='year_of_release', values='platform', aggfunc='count')\n",
    "print(año_significativo)\n",
    "print()\n",
    "#Análisis significativo plataforma\n",
    "plataforma_significativa = data_clean.pivot_table(index='platform', values='year_of_release', aggfunc='count')\n",
    "print(plataforma_significativa)\n"
   ]
  },
  {
   "cell_type": "markdown",
   "metadata": {},
   "source": [
    "Considerando que para que un grupo sea significativo debe tener al menos 50 casos, eliminaremos todos los años que cumplen con esta característica y la plataforma GEN."
   ]
  },
  {
   "cell_type": "code",
   "execution_count": 17,
   "metadata": {},
   "outputs": [
    {
     "name": "stdout",
     "output_type": "stream",
     "text": [
      "<class 'pandas.core.frame.DataFrame'>\n",
      "Int64Index: 16090 entries, 0 to 16714\n",
      "Data columns (total 13 columns):\n",
      " #   Column           Non-Null Count  Dtype  \n",
      "---  ------           --------------  -----  \n",
      " 0   name             16090 non-null  object \n",
      " 1   platform         16090 non-null  object \n",
      " 2   year_of_release  16090 non-null  int64  \n",
      " 3   genre            16090 non-null  object \n",
      " 4   na_sales         16090 non-null  float64\n",
      " 5   eu_sales         16090 non-null  float64\n",
      " 6   jp_sales         16090 non-null  float64\n",
      " 7   other_sales      16090 non-null  float64\n",
      " 8   critic_score     7980 non-null   float64\n",
      " 9   user_score       7460 non-null   float64\n",
      " 10  rating           16090 non-null  object \n",
      " 11  total_sales      16090 non-null  float64\n",
      " 12  group_total      16090 non-null  object \n",
      "dtypes: float64(7), int64(1), object(5)\n",
      "memory usage: 1.7+ MB\n"
     ]
    },
    {
     "data": {
      "text/html": [
       "<div>\n",
       "<style scoped>\n",
       "    .dataframe tbody tr th:only-of-type {\n",
       "        vertical-align: middle;\n",
       "    }\n",
       "\n",
       "    .dataframe tbody tr th {\n",
       "        vertical-align: top;\n",
       "    }\n",
       "\n",
       "    .dataframe thead th {\n",
       "        text-align: right;\n",
       "    }\n",
       "</style>\n",
       "<table border=\"1\" class=\"dataframe\">\n",
       "  <thead>\n",
       "    <tr style=\"text-align: right;\">\n",
       "      <th></th>\n",
       "      <th>name</th>\n",
       "      <th>platform</th>\n",
       "      <th>year_of_release</th>\n",
       "      <th>genre</th>\n",
       "      <th>na_sales</th>\n",
       "      <th>eu_sales</th>\n",
       "      <th>jp_sales</th>\n",
       "      <th>other_sales</th>\n",
       "      <th>critic_score</th>\n",
       "      <th>user_score</th>\n",
       "      <th>rating</th>\n",
       "      <th>total_sales</th>\n",
       "      <th>group_total</th>\n",
       "    </tr>\n",
       "  </thead>\n",
       "  <tbody>\n",
       "    <tr>\n",
       "      <th>0</th>\n",
       "      <td>Wii Sports</td>\n",
       "      <td>Wii</td>\n",
       "      <td>2006</td>\n",
       "      <td>Sports</td>\n",
       "      <td>41.36</td>\n",
       "      <td>28.96</td>\n",
       "      <td>3.77</td>\n",
       "      <td>8.45</td>\n",
       "      <td>76.0</td>\n",
       "      <td>8.0</td>\n",
       "      <td>E</td>\n",
       "      <td>82.54</td>\n",
       "      <td>80-90</td>\n",
       "    </tr>\n",
       "    <tr>\n",
       "      <th>2</th>\n",
       "      <td>Mario Kart Wii</td>\n",
       "      <td>Wii</td>\n",
       "      <td>2008</td>\n",
       "      <td>Racing</td>\n",
       "      <td>15.68</td>\n",
       "      <td>12.76</td>\n",
       "      <td>3.79</td>\n",
       "      <td>3.29</td>\n",
       "      <td>82.0</td>\n",
       "      <td>8.3</td>\n",
       "      <td>E</td>\n",
       "      <td>35.52</td>\n",
       "      <td>30-40</td>\n",
       "    </tr>\n",
       "    <tr>\n",
       "      <th>3</th>\n",
       "      <td>Wii Sports Resort</td>\n",
       "      <td>Wii</td>\n",
       "      <td>2009</td>\n",
       "      <td>Sports</td>\n",
       "      <td>15.61</td>\n",
       "      <td>10.93</td>\n",
       "      <td>3.28</td>\n",
       "      <td>2.95</td>\n",
       "      <td>80.0</td>\n",
       "      <td>8.0</td>\n",
       "      <td>E</td>\n",
       "      <td>32.77</td>\n",
       "      <td>30-40</td>\n",
       "    </tr>\n",
       "    <tr>\n",
       "      <th>4</th>\n",
       "      <td>Pokemon Red/Pokemon Blue</td>\n",
       "      <td>GB</td>\n",
       "      <td>1996</td>\n",
       "      <td>Role-Playing</td>\n",
       "      <td>11.27</td>\n",
       "      <td>8.89</td>\n",
       "      <td>10.22</td>\n",
       "      <td>1.00</td>\n",
       "      <td>NaN</td>\n",
       "      <td>NaN</td>\n",
       "      <td>unknown</td>\n",
       "      <td>31.38</td>\n",
       "      <td>30-40</td>\n",
       "    </tr>\n",
       "    <tr>\n",
       "      <th>6</th>\n",
       "      <td>New Super Mario Bros.</td>\n",
       "      <td>DS</td>\n",
       "      <td>2006</td>\n",
       "      <td>Platform</td>\n",
       "      <td>11.28</td>\n",
       "      <td>9.14</td>\n",
       "      <td>6.50</td>\n",
       "      <td>2.88</td>\n",
       "      <td>89.0</td>\n",
       "      <td>8.5</td>\n",
       "      <td>E</td>\n",
       "      <td>29.80</td>\n",
       "      <td>20-30</td>\n",
       "    </tr>\n",
       "    <tr>\n",
       "      <th>7</th>\n",
       "      <td>Wii Play</td>\n",
       "      <td>Wii</td>\n",
       "      <td>2006</td>\n",
       "      <td>Misc</td>\n",
       "      <td>13.96</td>\n",
       "      <td>9.18</td>\n",
       "      <td>2.93</td>\n",
       "      <td>2.84</td>\n",
       "      <td>58.0</td>\n",
       "      <td>6.6</td>\n",
       "      <td>E</td>\n",
       "      <td>28.91</td>\n",
       "      <td>20-30</td>\n",
       "    </tr>\n",
       "    <tr>\n",
       "      <th>8</th>\n",
       "      <td>New Super Mario Bros. Wii</td>\n",
       "      <td>Wii</td>\n",
       "      <td>2009</td>\n",
       "      <td>Platform</td>\n",
       "      <td>14.44</td>\n",
       "      <td>6.94</td>\n",
       "      <td>4.70</td>\n",
       "      <td>2.24</td>\n",
       "      <td>87.0</td>\n",
       "      <td>8.4</td>\n",
       "      <td>E</td>\n",
       "      <td>28.32</td>\n",
       "      <td>20-30</td>\n",
       "    </tr>\n",
       "    <tr>\n",
       "      <th>10</th>\n",
       "      <td>Nintendogs</td>\n",
       "      <td>DS</td>\n",
       "      <td>2005</td>\n",
       "      <td>Simulation</td>\n",
       "      <td>9.05</td>\n",
       "      <td>10.95</td>\n",
       "      <td>1.93</td>\n",
       "      <td>2.74</td>\n",
       "      <td>NaN</td>\n",
       "      <td>NaN</td>\n",
       "      <td>unknown</td>\n",
       "      <td>24.67</td>\n",
       "      <td>20-30</td>\n",
       "    </tr>\n",
       "    <tr>\n",
       "      <th>11</th>\n",
       "      <td>Mario Kart DS</td>\n",
       "      <td>DS</td>\n",
       "      <td>2005</td>\n",
       "      <td>Racing</td>\n",
       "      <td>9.71</td>\n",
       "      <td>7.47</td>\n",
       "      <td>4.13</td>\n",
       "      <td>1.90</td>\n",
       "      <td>91.0</td>\n",
       "      <td>8.6</td>\n",
       "      <td>E</td>\n",
       "      <td>23.21</td>\n",
       "      <td>20-30</td>\n",
       "    </tr>\n",
       "    <tr>\n",
       "      <th>12</th>\n",
       "      <td>Pokemon Gold/Pokemon Silver</td>\n",
       "      <td>GB</td>\n",
       "      <td>1999</td>\n",
       "      <td>Role-Playing</td>\n",
       "      <td>9.00</td>\n",
       "      <td>6.18</td>\n",
       "      <td>7.20</td>\n",
       "      <td>0.71</td>\n",
       "      <td>NaN</td>\n",
       "      <td>NaN</td>\n",
       "      <td>unknown</td>\n",
       "      <td>23.09</td>\n",
       "      <td>20-30</td>\n",
       "    </tr>\n",
       "    <tr>\n",
       "      <th>13</th>\n",
       "      <td>Wii Fit</td>\n",
       "      <td>Wii</td>\n",
       "      <td>2007</td>\n",
       "      <td>Sports</td>\n",
       "      <td>8.92</td>\n",
       "      <td>8.03</td>\n",
       "      <td>3.60</td>\n",
       "      <td>2.15</td>\n",
       "      <td>80.0</td>\n",
       "      <td>7.7</td>\n",
       "      <td>E</td>\n",
       "      <td>22.70</td>\n",
       "      <td>20-30</td>\n",
       "    </tr>\n",
       "    <tr>\n",
       "      <th>14</th>\n",
       "      <td>Kinect Adventures!</td>\n",
       "      <td>X360</td>\n",
       "      <td>2010</td>\n",
       "      <td>Misc</td>\n",
       "      <td>15.00</td>\n",
       "      <td>4.89</td>\n",
       "      <td>0.24</td>\n",
       "      <td>1.69</td>\n",
       "      <td>61.0</td>\n",
       "      <td>6.3</td>\n",
       "      <td>E</td>\n",
       "      <td>21.82</td>\n",
       "      <td>20-30</td>\n",
       "    </tr>\n",
       "    <tr>\n",
       "      <th>15</th>\n",
       "      <td>Wii Fit Plus</td>\n",
       "      <td>Wii</td>\n",
       "      <td>2009</td>\n",
       "      <td>Sports</td>\n",
       "      <td>9.01</td>\n",
       "      <td>8.49</td>\n",
       "      <td>2.53</td>\n",
       "      <td>1.77</td>\n",
       "      <td>80.0</td>\n",
       "      <td>7.4</td>\n",
       "      <td>E</td>\n",
       "      <td>21.80</td>\n",
       "      <td>20-30</td>\n",
       "    </tr>\n",
       "    <tr>\n",
       "      <th>16</th>\n",
       "      <td>Grand Theft Auto V</td>\n",
       "      <td>PS3</td>\n",
       "      <td>2013</td>\n",
       "      <td>Action</td>\n",
       "      <td>7.02</td>\n",
       "      <td>9.09</td>\n",
       "      <td>0.98</td>\n",
       "      <td>3.96</td>\n",
       "      <td>97.0</td>\n",
       "      <td>8.2</td>\n",
       "      <td>M</td>\n",
       "      <td>21.05</td>\n",
       "      <td>20-30</td>\n",
       "    </tr>\n",
       "    <tr>\n",
       "      <th>17</th>\n",
       "      <td>Grand Theft Auto: San Andreas</td>\n",
       "      <td>PS2</td>\n",
       "      <td>2004</td>\n",
       "      <td>Action</td>\n",
       "      <td>9.43</td>\n",
       "      <td>0.40</td>\n",
       "      <td>0.41</td>\n",
       "      <td>10.57</td>\n",
       "      <td>95.0</td>\n",
       "      <td>9.0</td>\n",
       "      <td>M</td>\n",
       "      <td>20.81</td>\n",
       "      <td>20-30</td>\n",
       "    </tr>\n",
       "    <tr>\n",
       "      <th>19</th>\n",
       "      <td>Brain Age: Train Your Brain in Minutes a Day</td>\n",
       "      <td>DS</td>\n",
       "      <td>2005</td>\n",
       "      <td>Misc</td>\n",
       "      <td>4.74</td>\n",
       "      <td>9.20</td>\n",
       "      <td>4.16</td>\n",
       "      <td>2.04</td>\n",
       "      <td>77.0</td>\n",
       "      <td>7.9</td>\n",
       "      <td>E</td>\n",
       "      <td>20.14</td>\n",
       "      <td>20-30</td>\n",
       "    </tr>\n",
       "    <tr>\n",
       "      <th>20</th>\n",
       "      <td>Pokemon Diamond/Pokemon Pearl</td>\n",
       "      <td>DS</td>\n",
       "      <td>2006</td>\n",
       "      <td>Role-Playing</td>\n",
       "      <td>6.38</td>\n",
       "      <td>4.46</td>\n",
       "      <td>6.04</td>\n",
       "      <td>1.36</td>\n",
       "      <td>NaN</td>\n",
       "      <td>NaN</td>\n",
       "      <td>unknown</td>\n",
       "      <td>18.24</td>\n",
       "      <td>10-20</td>\n",
       "    </tr>\n",
       "    <tr>\n",
       "      <th>23</th>\n",
       "      <td>Grand Theft Auto V</td>\n",
       "      <td>X360</td>\n",
       "      <td>2013</td>\n",
       "      <td>Action</td>\n",
       "      <td>9.66</td>\n",
       "      <td>5.14</td>\n",
       "      <td>0.06</td>\n",
       "      <td>1.41</td>\n",
       "      <td>97.0</td>\n",
       "      <td>8.1</td>\n",
       "      <td>M</td>\n",
       "      <td>16.27</td>\n",
       "      <td>10-20</td>\n",
       "    </tr>\n",
       "    <tr>\n",
       "      <th>24</th>\n",
       "      <td>Grand Theft Auto: Vice City</td>\n",
       "      <td>PS2</td>\n",
       "      <td>2002</td>\n",
       "      <td>Action</td>\n",
       "      <td>8.41</td>\n",
       "      <td>5.49</td>\n",
       "      <td>0.47</td>\n",
       "      <td>1.78</td>\n",
       "      <td>95.0</td>\n",
       "      <td>8.7</td>\n",
       "      <td>M</td>\n",
       "      <td>16.15</td>\n",
       "      <td>10-20</td>\n",
       "    </tr>\n",
       "    <tr>\n",
       "      <th>25</th>\n",
       "      <td>Pokemon Ruby/Pokemon Sapphire</td>\n",
       "      <td>GBA</td>\n",
       "      <td>2002</td>\n",
       "      <td>Role-Playing</td>\n",
       "      <td>6.06</td>\n",
       "      <td>3.90</td>\n",
       "      <td>5.38</td>\n",
       "      <td>0.50</td>\n",
       "      <td>NaN</td>\n",
       "      <td>NaN</td>\n",
       "      <td>unknown</td>\n",
       "      <td>15.84</td>\n",
       "      <td>10-20</td>\n",
       "    </tr>\n",
       "  </tbody>\n",
       "</table>\n",
       "</div>"
      ],
      "text/plain": [
       "                                            name platform  year_of_release  \\\n",
       "0                                     Wii Sports      Wii             2006   \n",
       "2                                 Mario Kart Wii      Wii             2008   \n",
       "3                              Wii Sports Resort      Wii             2009   \n",
       "4                       Pokemon Red/Pokemon Blue       GB             1996   \n",
       "6                          New Super Mario Bros.       DS             2006   \n",
       "7                                       Wii Play      Wii             2006   \n",
       "8                      New Super Mario Bros. Wii      Wii             2009   \n",
       "10                                    Nintendogs       DS             2005   \n",
       "11                                 Mario Kart DS       DS             2005   \n",
       "12                   Pokemon Gold/Pokemon Silver       GB             1999   \n",
       "13                                       Wii Fit      Wii             2007   \n",
       "14                            Kinect Adventures!     X360             2010   \n",
       "15                                  Wii Fit Plus      Wii             2009   \n",
       "16                            Grand Theft Auto V      PS3             2013   \n",
       "17                 Grand Theft Auto: San Andreas      PS2             2004   \n",
       "19  Brain Age: Train Your Brain in Minutes a Day       DS             2005   \n",
       "20                 Pokemon Diamond/Pokemon Pearl       DS             2006   \n",
       "23                            Grand Theft Auto V     X360             2013   \n",
       "24                   Grand Theft Auto: Vice City      PS2             2002   \n",
       "25                 Pokemon Ruby/Pokemon Sapphire      GBA             2002   \n",
       "\n",
       "           genre  na_sales  eu_sales  jp_sales  other_sales  critic_score  \\\n",
       "0         Sports     41.36     28.96      3.77         8.45          76.0   \n",
       "2         Racing     15.68     12.76      3.79         3.29          82.0   \n",
       "3         Sports     15.61     10.93      3.28         2.95          80.0   \n",
       "4   Role-Playing     11.27      8.89     10.22         1.00           NaN   \n",
       "6       Platform     11.28      9.14      6.50         2.88          89.0   \n",
       "7           Misc     13.96      9.18      2.93         2.84          58.0   \n",
       "8       Platform     14.44      6.94      4.70         2.24          87.0   \n",
       "10    Simulation      9.05     10.95      1.93         2.74           NaN   \n",
       "11        Racing      9.71      7.47      4.13         1.90          91.0   \n",
       "12  Role-Playing      9.00      6.18      7.20         0.71           NaN   \n",
       "13        Sports      8.92      8.03      3.60         2.15          80.0   \n",
       "14          Misc     15.00      4.89      0.24         1.69          61.0   \n",
       "15        Sports      9.01      8.49      2.53         1.77          80.0   \n",
       "16        Action      7.02      9.09      0.98         3.96          97.0   \n",
       "17        Action      9.43      0.40      0.41        10.57          95.0   \n",
       "19          Misc      4.74      9.20      4.16         2.04          77.0   \n",
       "20  Role-Playing      6.38      4.46      6.04         1.36           NaN   \n",
       "23        Action      9.66      5.14      0.06         1.41          97.0   \n",
       "24        Action      8.41      5.49      0.47         1.78          95.0   \n",
       "25  Role-Playing      6.06      3.90      5.38         0.50           NaN   \n",
       "\n",
       "    user_score   rating  total_sales group_total  \n",
       "0          8.0        E        82.54       80-90  \n",
       "2          8.3        E        35.52       30-40  \n",
       "3          8.0        E        32.77       30-40  \n",
       "4          NaN  unknown        31.38       30-40  \n",
       "6          8.5        E        29.80       20-30  \n",
       "7          6.6        E        28.91       20-30  \n",
       "8          8.4        E        28.32       20-30  \n",
       "10         NaN  unknown        24.67       20-30  \n",
       "11         8.6        E        23.21       20-30  \n",
       "12         NaN  unknown        23.09       20-30  \n",
       "13         7.7        E        22.70       20-30  \n",
       "14         6.3        E        21.82       20-30  \n",
       "15         7.4        E        21.80       20-30  \n",
       "16         8.2        M        21.05       20-30  \n",
       "17         9.0        M        20.81       20-30  \n",
       "19         7.9        E        20.14       20-30  \n",
       "20         NaN  unknown        18.24       10-20  \n",
       "23         8.1        M        16.27       10-20  \n",
       "24         8.7        M        16.15       10-20  \n",
       "25         NaN  unknown        15.84       10-20  "
      ]
     },
     "execution_count": 17,
     "metadata": {},
     "output_type": "execute_result"
    }
   ],
   "source": [
    "#Filtrado de casos no significativos\n",
    "\n",
    "año_no_sig = año_significativo.loc[año_significativo['platform']<51].index\n",
    "plataforma_no_sig = plataforma_significativa.loc[plataforma_significativa['year_of_release']<51].index\n",
    "\n",
    "\n",
    "data_filtered = data_clean.query('(platform not in @plataforma_no_sig) and (year_of_release not in @año_no_sig)')\n",
    "data_filtered.info()\n",
    "data_filtered.head(20)"
   ]
  },
  {
   "cell_type": "markdown",
   "metadata": {},
   "source": [
    "Ahora analizaremos las ventas totales por plataforma, para encontrar las más relevantes del mercado así como su comportamiento ordinario."
   ]
  },
  {
   "cell_type": "code",
   "execution_count": 18,
   "metadata": {},
   "outputs": [
    {
     "data": {
      "text/html": [
       "<div>\n",
       "<style scoped>\n",
       "    .dataframe tbody tr th:only-of-type {\n",
       "        vertical-align: middle;\n",
       "    }\n",
       "\n",
       "    .dataframe tbody tr th {\n",
       "        vertical-align: top;\n",
       "    }\n",
       "\n",
       "    .dataframe thead th {\n",
       "        text-align: right;\n",
       "    }\n",
       "</style>\n",
       "<table border=\"1\" class=\"dataframe\">\n",
       "  <thead>\n",
       "    <tr style=\"text-align: right;\">\n",
       "      <th></th>\n",
       "      <th>total_sales</th>\n",
       "    </tr>\n",
       "    <tr>\n",
       "      <th>platform</th>\n",
       "      <th></th>\n",
       "    </tr>\n",
       "  </thead>\n",
       "  <tbody>\n",
       "    <tr>\n",
       "      <th>NES</th>\n",
       "      <td>3.72</td>\n",
       "    </tr>\n",
       "    <tr>\n",
       "      <th>DC</th>\n",
       "      <td>15.95</td>\n",
       "    </tr>\n",
       "    <tr>\n",
       "      <th>SAT</th>\n",
       "      <td>33.59</td>\n",
       "    </tr>\n",
       "    <tr>\n",
       "      <th>PSV</th>\n",
       "      <td>53.81</td>\n",
       "    </tr>\n",
       "    <tr>\n",
       "      <th>WiiU</th>\n",
       "      <td>82.19</td>\n",
       "    </tr>\n",
       "    <tr>\n",
       "      <th>SNES</th>\n",
       "      <td>124.69</td>\n",
       "    </tr>\n",
       "    <tr>\n",
       "      <th>GB</th>\n",
       "      <td>152.08</td>\n",
       "    </tr>\n",
       "    <tr>\n",
       "      <th>XOne</th>\n",
       "      <td>159.32</td>\n",
       "    </tr>\n",
       "    <tr>\n",
       "      <th>GC</th>\n",
       "      <td>196.73</td>\n",
       "    </tr>\n",
       "    <tr>\n",
       "      <th>N64</th>\n",
       "      <td>218.01</td>\n",
       "    </tr>\n",
       "    <tr>\n",
       "      <th>XB</th>\n",
       "      <td>251.57</td>\n",
       "    </tr>\n",
       "    <tr>\n",
       "      <th>PC</th>\n",
       "      <td>252.66</td>\n",
       "    </tr>\n",
       "    <tr>\n",
       "      <th>3DS</th>\n",
       "      <td>257.81</td>\n",
       "    </tr>\n",
       "    <tr>\n",
       "      <th>PSP</th>\n",
       "      <td>289.53</td>\n",
       "    </tr>\n",
       "    <tr>\n",
       "      <th>GBA</th>\n",
       "      <td>312.88</td>\n",
       "    </tr>\n",
       "    <tr>\n",
       "      <th>PS4</th>\n",
       "      <td>314.14</td>\n",
       "    </tr>\n",
       "    <tr>\n",
       "      <th>PS</th>\n",
       "      <td>727.58</td>\n",
       "    </tr>\n",
       "    <tr>\n",
       "      <th>DS</th>\n",
       "      <td>802.76</td>\n",
       "    </tr>\n",
       "    <tr>\n",
       "      <th>Wii</th>\n",
       "      <td>891.18</td>\n",
       "    </tr>\n",
       "    <tr>\n",
       "      <th>PS3</th>\n",
       "      <td>931.34</td>\n",
       "    </tr>\n",
       "    <tr>\n",
       "      <th>X360</th>\n",
       "      <td>961.24</td>\n",
       "    </tr>\n",
       "    <tr>\n",
       "      <th>PS2</th>\n",
       "      <td>1233.56</td>\n",
       "    </tr>\n",
       "  </tbody>\n",
       "</table>\n",
       "</div>"
      ],
      "text/plain": [
       "          total_sales\n",
       "platform             \n",
       "NES              3.72\n",
       "DC              15.95\n",
       "SAT             33.59\n",
       "PSV             53.81\n",
       "WiiU            82.19\n",
       "SNES           124.69\n",
       "GB             152.08\n",
       "XOne           159.32\n",
       "GC             196.73\n",
       "N64            218.01\n",
       "XB             251.57\n",
       "PC             252.66\n",
       "3DS            257.81\n",
       "PSP            289.53\n",
       "GBA            312.88\n",
       "PS4            314.14\n",
       "PS             727.58\n",
       "DS             802.76\n",
       "Wii            891.18\n",
       "PS3            931.34\n",
       "X360           961.24\n",
       "PS2           1233.56"
      ]
     },
     "execution_count": 18,
     "metadata": {},
     "output_type": "execute_result"
    }
   ],
   "source": [
    "#Valoración de ventas totales por plataforma\n",
    "\n",
    "platform_ev = data_filtered.pivot_table(index='platform', values='total_sales', aggfunc='sum').sort_values('total_sales')\n",
    "platform_ev"
   ]
  },
  {
   "cell_type": "markdown",
   "metadata": {},
   "source": [
    "A partir de las 7 plataformas más exitosas crearemos una lista y analizaremos sus niveles de ventas a través de los años."
   ]
  },
  {
   "cell_type": "code",
   "execution_count": 19,
   "metadata": {},
   "outputs": [
    {
     "name": "stdout",
     "output_type": "stream",
     "text": [
      "['PS2', 'X360', 'PS3', 'Wii', 'DS', 'PS', 'PS4']\n"
     ]
    },
    {
     "data": {
      "image/png": "[encoded data removed]",
      "text/plain": [
       "<Figure size 432x288 with 1 Axes>"
      ]
     },
     "metadata": {
      "needs_background": "light"
     },
     "output_type": "display_data"
    }
   ],
   "source": [
    "#Creación de lista de plataformas más populares\n",
    "platform_ev_df = platform_ev.reset_index()\n",
    "platform_ev_df.columns=['platform','total_sales']\n",
    "platform_ev_plt = [platform_ev_df['platform'].iloc[-1],platform_ev_df['platform'].iloc[-2],platform_ev_df['platform'].iloc[-3],\n",
    "                  platform_ev_df['platform'].iloc[-4],platform_ev_df['platform'].iloc[-5],platform_ev_df['platform'].iloc[-6],\n",
    "                  platform_ev_df['platform'].iloc[-7],]\n",
    "print(platform_ev_plt)\n",
    "data_filtered2 = data_filtered.query('platform in @platform_ev_plt')\n",
    "\n",
    "for platform in platform_ev_plt:\n",
    "    data_for_plot=data_filtered2.query('platform == @platform')\n",
    "    data_for_plot2=data_for_plot.pivot_table(index='year_of_release')\n",
    "    plt.plot(data_for_plot2.index,data_for_plot2['total_sales'],label=platform)\n",
    "\n",
    "plt.legend()\n",
    "plt.show()"
   ]
  },
  {
   "cell_type": "markdown",
   "metadata": {},
   "source": [
    "Podemos observar con la gráfica anteriore que las plataformas tienen una vida de alrededor de los 10 años, con una marcada disminución a partir de al rededor de los 8 años y con el surgimiento de la siguiente generación (claramente ejemplificado por la familia playstation) alrededor del quinto o sexto año de que surgió la anterior.Con esta información igualmente se evidencia claramente que las consolas de la geneación anterior están en su último año de vida, por lo que no convendría invertrir más en la publicidad de estas, sino a las que actualmente están cumpliendo sus 4 años aproximadamente.\n",
    "\n",
    "A partir de aquí se considerará para el estudio únicamente las consolas que llegaron a tener ventas en 2015, ya que aunque algunas ya no estarán vigentes para 2017, marcan las tendencias en géneros de años recientes y un comportamiento más similar al mercado actual que el de consolas anteriores. Para esto obtendremos primero la lista de las consolas que estuvieron activas en 2015."
   ]
  },
  {
   "cell_type": "code",
   "execution_count": 20,
   "metadata": {},
   "outputs": [
    {
     "data": {
      "text/plain": [
       "array(['PS4', 'XOne', '3DS', 'WiiU', 'PS3', 'X360', 'PC', 'Wii', 'PSV',\n",
       "       'PSP'], dtype=object)"
      ]
     },
     "execution_count": 20,
     "metadata": {},
     "output_type": "execute_result"
    }
   ],
   "source": [
    "#Obtención de lista de plataformas activas en 2015\n",
    "\n",
    "alive=data_filtered.query('year_of_release >= 2015')['platform'].unique()\n",
    "alive"
   ]
  },
  {
   "cell_type": "code",
   "execution_count": 21,
   "metadata": {},
   "outputs": [
    {
     "data": {
      "image/png": "[encoded data removed]",
      "text/plain": [
       "<Figure size 432x288 with 1 Axes>"
      ]
     },
     "metadata": {
      "needs_background": "light"
     },
     "output_type": "display_data"
    }
   ],
   "source": [
    "#Filtrado de plataformas de interés\n",
    "data_filtered = data_filtered.query('platform in @alive')\n",
    "\n",
    "#Grafica de plataformas de interés\n",
    "for platform in alive:\n",
    "    data_for_plot=data_filtered.query('platform == @platform')\n",
    "    data_for_plot2=data_for_plot.pivot_table(index='year_of_release')\n",
    "    plt.plot(data_for_plot2.index,data_for_plot2['total_sales'],label=platform)\n",
    "\n",
    "plt.legend()\n",
    "plt.show()"
   ]
  },
  {
   "cell_type": "markdown",
   "metadata": {},
   "source": [
    "Con la gráfica anterior podemos observar que los juegos para computadora tienen muchos más años a la venta y que debemos limitar también los años de estudio para nuestro análisis. A continuación se filtratá a partir de 2011 donde coexisten plataformas de nuestro interés para el estudio, y donde puede existir un mercado similar dado el corto periodo de tiempo."
   ]
  },
  {
   "cell_type": "code",
   "execution_count": 22,
   "metadata": {},
   "outputs": [
    {
     "data": {
      "image/png": "[encoded data removed]",
      "text/plain": [
       "<Figure size 432x288 with 1 Axes>"
      ]
     },
     "metadata": {
      "needs_background": "light"
     },
     "output_type": "display_data"
    }
   ],
   "source": [
    "#Filtrado por año y gráfica\n",
    "\n",
    "data_filtered = data_filtered.query('year_of_release >= 2011')\n",
    "\n",
    "for platform in alive:\n",
    "    data_for_plot=data_filtered.query('platform == @platform')\n",
    "    data_for_plot2=data_for_plot.pivot_table(index='year_of_release')\n",
    "    plt.plot(data_for_plot2.index,data_for_plot2['total_sales'],label=platform)\n",
    "\n",
    "plt.legend()\n",
    "plt.show()"
   ]
  },
  {
   "cell_type": "markdown",
   "metadata": {},
   "source": [
    "Es relevante considerar que en general la tendencia es negativa para las ventas de todas las consolas a excepción del 3DS, el cual parece estar teniendo un resurgimiento. A continuación obtendremos un diagrama de caja para cada consola para evaluar sus igresos respecto a los juegos e identificar valores atípicos, por lo pronto el pico que muestra el wii en un inicio es bastante desconcertante."
   ]
  },
  {
   "cell_type": "code",
   "execution_count": 23,
   "metadata": {},
   "outputs": [
    {
     "name": "stdout",
     "output_type": "stream",
     "text": [
      "          total_sales\n",
      "platform             \n",
      "3DS               512\n",
      "PC                389\n",
      "PS3               708\n",
      "PS4               392\n",
      "PSP               312\n",
      "PSV               429\n",
      "Wii               197\n",
      "WiiU              147\n",
      "X360              498\n",
      "XOne              247\n"
     ]
    },
    {
     "data": {
      "text/plain": [
       "<AxesSubplot:xlabel='platform', ylabel='total_sales'>"
      ]
     },
     "execution_count": 23,
     "metadata": {},
     "output_type": "execute_result"
    },
    {
     "data": {
      "image/png": "[encoded data removed]",
      "text/plain": [
       "<Figure size 432x288 with 1 Axes>"
      ]
     },
     "metadata": {
      "needs_background": "light"
     },
     "output_type": "display_data"
    }
   ],
   "source": [
    "#Creación de diagramas de caja\n",
    "print(data_filtered.pivot_table(index='platform', values='total_sales', aggfunc='count'))\n",
    "\n",
    "sns.boxplot(x='platform', y='total_sales', data=data_filtered)"
   ]
  },
  {
   "cell_type": "markdown",
   "metadata": {},
   "source": [
    "Podemos observar que los valores atípicos son una norma en la venta de juegos más que una excepción, todas las consolas los tienen, especialmente el Wii, el X360 y el PS3 que además coinciden en tiempos; sin embargo con el propósito de contar con un mejor estudio de los juegos en general procederemos a omitir los valores atípicos por plataforma durante el resto del ejercicio. Igualmente es importante notar que por la cantidad de juegos por plataforma, al ser más de 50, son todas significativas."
   ]
  },
  {
   "cell_type": "code",
   "execution_count": 24,
   "metadata": {},
   "outputs": [
    {
     "data": {
      "text/plain": [
       "<AxesSubplot:xlabel='platform', ylabel='total_sales'>"
      ]
     },
     "execution_count": 24,
     "metadata": {},
     "output_type": "execute_result"
    },
    {
     "data": {
      "image/png": "[encoded data removed]",
      "text/plain": [
       "<Figure size 432x288 with 1 Axes>"
      ]
     },
     "metadata": {
      "needs_background": "light"
     },
     "output_type": "display_data"
    }
   ],
   "source": [
    "#Limpiar los atípicos\n",
    "data_filtered2 = data_filtered[data_filtered['total_sales'] <= (data_filtered['total_sales'].describe()['75%']+1.5*(data_filtered['total_sales'].describe()['75%']-data_filtered['total_sales'].describe()['25%']))]\n",
    "\n",
    "#Obtener diagrama de caja nuevamente\n",
    "sns.boxplot(x='platform', y='total_sales', data=data_filtered2)"
   ]
  },
  {
   "cell_type": "markdown",
   "metadata": {},
   "source": [
    "Con los datos más limpios podemos observar que las medianas de ventas entre las distintas plataformas no distan demasiado unas de otras, siendo las excepciones la computadora y los portátiles."
   ]
  },
  {
   "cell_type": "markdown",
   "metadata": {},
   "source": [
    "Ahora para comprender el efecto de reseñas clientes y de profesionales, procederemos a estudiar su impacto sobre los juegos de la plataforma PS3, la cual cuenta con la mayor cantidad de entradas, haciendola un candidato revelador sobre la situación; esto lo haremos  a través de un gráfico de dispersión para ambos casos."
   ]
  },
  {
   "cell_type": "code",
   "execution_count": 25,
   "metadata": {},
   "outputs": [
    {
     "data": {
      "text/plain": [
       "<AxesSubplot:xlabel='user_score', ylabel='total_sales'>"
      ]
     },
     "execution_count": 25,
     "metadata": {},
     "output_type": "execute_result"
    },
    {
     "data": {
      "image/png": "[encoded data removed]",
      "text/plain": [
       "<Figure size 432x288 with 1 Axes>"
      ]
     },
     "metadata": {
      "needs_background": "light"
     },
     "output_type": "display_data"
    },
    {
     "data": {
      "image/png": "[encoded data removed]",
      "text/plain": [
       "<Figure size 432x288 with 1 Axes>"
      ]
     },
     "metadata": {
      "needs_background": "light"
     },
     "output_type": "display_data"
    }
   ],
   "source": [
    "#Obtención de gráficos de dispersión     \n",
    "data_filtered2.plot(y='total_sales', x='critic_score', kind='scatter')\n",
    "data_filtered2.plot(y='total_sales', x='user_score', kind='scatter')"
   ]
  },
  {
   "cell_type": "markdown",
   "metadata": {},
   "source": [
    "Podemos encontrar una clara tendencia del impacto de las reseñas sobre las ventas totales del juego, teniendo un efecto más claro con las reseñas profesionales a partir de alrrededor del 6.5 de calificación. Procedamos a estudiar las correlaciones para ver más claramente su efecto, considerando que estas no son perfectamente lineales, sino que tienen una tendencia a incrementarse significativamente al acrcarse al 10, por lo que utilizaremos el método spearman."
   ]
  },
  {
   "cell_type": "code",
   "execution_count": 29,
   "metadata": {},
   "outputs": [
    {
     "data": {
      "text/html": [
       "<div>\n",
       "<style scoped>\n",
       "    .dataframe tbody tr th:only-of-type {\n",
       "        vertical-align: middle;\n",
       "    }\n",
       "\n",
       "    .dataframe tbody tr th {\n",
       "        vertical-align: top;\n",
       "    }\n",
       "\n",
       "    .dataframe thead th {\n",
       "        text-align: right;\n",
       "    }\n",
       "</style>\n",
       "<table border=\"1\" class=\"dataframe\">\n",
       "  <thead>\n",
       "    <tr style=\"text-align: right;\">\n",
       "      <th></th>\n",
       "      <th>critic_score</th>\n",
       "      <th>user_score</th>\n",
       "      <th>total_sales</th>\n",
       "    </tr>\n",
       "  </thead>\n",
       "  <tbody>\n",
       "    <tr>\n",
       "      <th>critic_score</th>\n",
       "      <td>1.000000</td>\n",
       "      <td>0.522022</td>\n",
       "      <td>0.279322</td>\n",
       "    </tr>\n",
       "    <tr>\n",
       "      <th>user_score</th>\n",
       "      <td>0.522022</td>\n",
       "      <td>1.000000</td>\n",
       "      <td>0.045108</td>\n",
       "    </tr>\n",
       "    <tr>\n",
       "      <th>total_sales</th>\n",
       "      <td>0.279322</td>\n",
       "      <td>0.045108</td>\n",
       "      <td>1.000000</td>\n",
       "    </tr>\n",
       "  </tbody>\n",
       "</table>\n",
       "</div>"
      ],
      "text/plain": [
       "              critic_score  user_score  total_sales\n",
       "critic_score      1.000000    0.522022     0.279322\n",
       "user_score        0.522022    1.000000     0.045108\n",
       "total_sales       0.279322    0.045108     1.000000"
      ]
     },
     "execution_count": 29,
     "metadata": {},
     "output_type": "execute_result"
    }
   ],
   "source": [
    "#Obtener correlaciones\n",
    "\n",
    "data_filtered2[['critic_score','user_score','total_sales']].corr('spearman')"
   ]
  },
  {
   "cell_type": "markdown",
   "metadata": {},
   "source": [
    "En efecto observamos una correlación positiva en ambos tipos de reseñas, pero teniendo la reseña profesional mucho más impacto que la reseña de los usuarios, lo cual es de esperarse por el público y la plataforma con que cuentan los profesionales. Esto mismo vuelve muy relevante el acercarse y proporcionar a los profesionales copias de los juegos, para elevar las ventas.\n",
    "\n",
    "Finalmente procederemos a realizar una comparación de las ventas de los jugos respecto a su género, para esto se creará nuevamente un grupo de gráficos de caja, para poder observar claramente sus medianas, límites y valores atípicos."
   ]
  },
  {
   "cell_type": "code",
   "execution_count": 30,
   "metadata": {},
   "outputs": [
    {
     "data": {
      "text/plain": [
       "<AxesSubplot:xlabel='genre', ylabel='total_sales'>"
      ]
     },
     "execution_count": 30,
     "metadata": {},
     "output_type": "execute_result"
    },
    {
     "data": {
      "image/png": "[encoded data removed]",
      "text/plain": [
       "<Figure size 864x288 with 1 Axes>"
      ]
     },
     "metadata": {},
     "output_type": "display_data"
    }
   ],
   "source": [
    "#Obtener diagrama de caja por gérero\n",
    "sns.set(rc={\"figure.figsize\":(12, 4)})\n",
    "sns.boxplot(x='genre', y='total_sales', data=data_filtered2)"
   ]
  },
  {
   "cell_type": "markdown",
   "metadata": {},
   "source": [
    "Indudablemente los juegos de \"shooter\" son los más exitosos, teniendo tanto su mediana, como su tercer cuartil, como su límite superior, considerablemente más altos que el resto, seguido por los juegos de plataforma, deportes, carreras y peleas, para los que su tercer cuartil supera los 0.4. Mientras que los juegos de ropecabezas y aventura destacan por su baja popularidad.\n",
    "\n",
    "## Perfiles de usuario por región\n",
    "\n",
    "A continuación estudiaremos más especificamente a cada región: NA (Norte América), UE (Unión Europea) y JP (Japón).\n",
    "Esto lo haremos con el propósito de saber cómo debe orientarse el presupuesto de publicidad en cada área, variando por consola, género e influencia de las clasificaciones sobre el público objetivo correspondiente.\n",
    "\n",
    "Comenzaremos, utilizando la información tan filtrada como la tenemos ahora, para identificar los niveles de venta de las distintas consolas expluyendo portátiles y pc, las cuales ya observamos tienen un impacto menor."
   ]
  },
  {
   "cell_type": "code",
   "execution_count": 31,
   "metadata": {},
   "outputs": [],
   "source": [
    "#Conjunto de datos para análisis\n",
    "platforms_reduced = ['PS4','PS3','Wii','WiiU','X360','XOne']\n",
    "data_filtered3 = data_filtered2.query('platform in @platforms_reduced')"
   ]
  },
  {
   "cell_type": "code",
   "execution_count": 32,
   "metadata": {},
   "outputs": [
    {
     "name": "stdout",
     "output_type": "stream",
     "text": [
      "  platform  eu_sales  jp_sales  na_sales\n",
      "0     WiiU     10.43      3.35     14.62\n",
      "1      Wii     11.04      6.45     20.60\n",
      "2      PS4     27.98      8.43     24.00\n",
      "3     XOne     14.86      0.07     25.59\n",
      "4      PS3     45.45     32.21     58.63\n",
      "5     X360     34.11      1.73     63.76\n"
     ]
    },
    {
     "data": {
      "text/plain": [
       "<AxesSubplot:title={'center':'Grouped by region'}, xlabel='platform'>"
      ]
     },
     "execution_count": 32,
     "metadata": {},
     "output_type": "execute_result"
    },
    {
     "data": {
      "image/png": "[encoded data removed]",
      "text/plain": [
       "<Figure size 864x288 with 1 Axes>"
      ]
     },
     "metadata": {},
     "output_type": "display_data"
    }
   ],
   "source": [
    "#Tabla pivote y gráfica por consola\n",
    "pivot_console = data_filtered3.pivot_table(index='platform', values=['na_sales','eu_sales','jp_sales'], aggfunc='sum').sort_values('na_sales').reset_index()\n",
    "print(pivot_console)\n",
    "pivot_console.plot(x='platform',\n",
    "            kind='bar',\n",
    "            stacked=False,\n",
    "            title='Grouped by region')"
   ]
  },
  {
   "cell_type": "markdown",
   "metadata": {},
   "source": [
    "Claramente se observa cómo el mercado estadounidense es el más fuerte y Japón el más pequeño, esto último directamente ligado con la población de la región. Sin embargo, resalta el desinterés de los japoneses por las consolas de xbox, las únicas externas a Japón en el estudio, tienendo PlayStation la preferencia de los japoneses tanto en la nueva generación de consolas como en la anterior. Un efecto similar se visualiza con el peso de Xbox en Norte América, siendo la consola local, pero su diferencia no es demasiada respecto a las consolas niponas, especialmente en la nuva generación. Europa por su parte tiene una clara preferencia por la PlayStation en ambas generaciones.\n",
    "\n",
    "A continuación presentaremos una nueva gráfica para que quede ejemplificada más claramente la división del mercado."
   ]
  },
  {
   "cell_type": "code",
   "execution_count": 33,
   "metadata": {},
   "outputs": [
    {
     "data": {
      "text/plain": [
       "<AxesSubplot:title={'center':'Stacked Bar Graph'}, ylabel='platform'>"
      ]
     },
     "execution_count": 33,
     "metadata": {},
     "output_type": "execute_result"
    },
    {
     "data": {
      "image/png": "[encoded data removed]",
      "text/plain": [
       "<Figure size 864x288 with 1 Axes>"
      ]
     },
     "metadata": {},
     "output_type": "display_data"
    }
   ],
   "source": [
    "#Creación de segunda gráfica\n",
    "pivot_console.plot(\n",
    "    x = 'platform',\n",
    "    kind = 'barh',\n",
    "    stacked = True,\n",
    "    title = 'Stacked Bar Graph',\n",
    "    )"
   ]
  },
  {
   "cell_type": "markdown",
   "metadata": {},
   "source": [
    "Ahora, por región, estudiaremos las preferencias por género de una manera similar."
   ]
  },
  {
   "cell_type": "code",
   "execution_count": 34,
   "metadata": {},
   "outputs": [
    {
     "name": "stdout",
     "output_type": "stream",
     "text": [
      "           genre  eu_sales  jp_sales  na_sales\n",
      "0         Puzzle      0.02      0.73      0.15\n",
      "1       Strategy      1.13      1.19      1.68\n",
      "2     Simulation      2.51      1.00      3.54\n",
      "3       Platform      4.37      0.26      5.35\n",
      "4      Adventure      6.06      2.12      7.50\n",
      "5         Racing     12.41      0.34      9.81\n",
      "6       Fighting      6.32      5.36     10.89\n",
      "7   Role-Playing      9.45     11.20     14.93\n",
      "8        Shooter     19.02      2.39     24.78\n",
      "9           Misc     12.38      4.13     26.73\n",
      "10        Sports     19.84      4.36     34.39\n",
      "11        Action     50.36     19.16     67.45\n"
     ]
    },
    {
     "data": {
      "text/plain": [
       "<AxesSubplot:title={'center':'Grouped by region'}, xlabel='genre'>"
      ]
     },
     "execution_count": 34,
     "metadata": {},
     "output_type": "execute_result"
    },
    {
     "data": {
      "image/png": "[encoded data removed]",
      "text/plain": [
       "<Figure size 864x288 with 1 Axes>"
      ]
     },
     "metadata": {},
     "output_type": "display_data"
    }
   ],
   "source": [
    "#Tabla pivote y gráfico por género por región\n",
    "pivot_console = data_filtered3.pivot_table(index='genre', values=['na_sales','eu_sales','jp_sales'], aggfunc='sum').sort_values('na_sales').reset_index()\n",
    "print(pivot_console)\n",
    "pivot_console.plot(x='genre',\n",
    "            kind='bar',\n",
    "            stacked=False,\n",
    "            title='Grouped by region')"
   ]
  },
  {
   "cell_type": "code",
   "execution_count": 35,
   "metadata": {},
   "outputs": [
    {
     "name": "stdout",
     "output_type": "stream",
     "text": [
      "eu_sales\n",
      "      genre  eu_sales\n",
      "11   Action     50.36\n",
      "10   Sports     19.84\n",
      "8   Shooter     19.02\n",
      "5    Racing     12.41\n",
      "9      Misc     12.38\n",
      "jp_sales\n",
      "           genre  jp_sales\n",
      "11        Action     19.16\n",
      "7   Role-Playing     11.20\n",
      "6       Fighting      5.36\n",
      "10        Sports      4.36\n",
      "9           Misc      4.13\n",
      "na_sales\n",
      "           genre  na_sales\n",
      "11        Action     67.45\n",
      "10        Sports     34.39\n",
      "9           Misc     26.73\n",
      "8        Shooter     24.78\n",
      "7   Role-Playing     14.93\n"
     ]
    }
   ],
   "source": [
    "#5 Géneros favoritos por región\n",
    "regions = ['eu_sales','jp_sales','na_sales']\n",
    "for region in regions:\n",
    "    print(str(region))\n",
    "    top5 = pivot_console.sort_values(region, ascending=False)\n",
    "    print(top5[['genre',region]].head())"
   ]
  },
  {
   "cell_type": "markdown",
   "metadata": {},
   "source": [
    "Claramente existe una afición general entre los jugadores, independientemente de la región, por los jugos de acción, teniendo un primer lugar indiscutido, pro a partir del segundo lugar comienzan a surgir las diferencias. Entre Norte América y Europa las preferencias se siguen pareciendo bastante únicamente diferenciandose por el orden inverso del tercer y cuárto género preferido. Por el otro lado japón se diferencia no sólo en orden, sino también en géneros presentes, teniendo los juegos de rol un papel relevante en el segundo lugar, y los juegos de peleas el cuarto; dejando fuera del top a los juegos de carreras y disparos, y haciendo de los juegos de deportes el 5to favorito en lugar del segundo."
   ]
  },
  {
   "cell_type": "markdown",
   "metadata": {},
   "source": [
    "Finalmente observemos si las clasificaciones de ESRB tienen un impacto sobre las ventas en las distintas regiones. "
   ]
  },
  {
   "cell_type": "code",
   "execution_count": 36,
   "metadata": {},
   "outputs": [
    {
     "name": "stdout",
     "output_type": "stream",
     "text": [
      "  rating  eu_sales  jp_sales  na_sales\n",
      "0      T     24.48     13.28     37.64\n",
      "1      E     25.30      3.42     40.15\n",
      "2   E10+     28.56      1.26     43.43\n",
      "3      M     34.72      7.37     50.18\n"
     ]
    },
    {
     "data": {
      "text/plain": [
       "<AxesSubplot:title={'center':'Grouped by region'}, xlabel='rating'>"
      ]
     },
     "execution_count": 36,
     "metadata": {},
     "output_type": "execute_result"
    },
    {
     "data": {
      "image/png": "[encoded data removed]",
      "text/plain": [
       "<Figure size 864x288 with 1 Axes>"
      ]
     },
     "metadata": {},
     "output_type": "display_data"
    }
   ],
   "source": [
    "#Tabla pivote y gráfico por clasificación por región\n",
    "rat=['EC','E','E10+','T','M']\n",
    "pivot_rating = data_filtered3.query('rating in @rat').pivot_table(index='rating', values=['na_sales','eu_sales','jp_sales'], aggfunc='sum').sort_values('na_sales').reset_index()\n",
    "print(pivot_rating)\n",
    "pivot_rating.plot(x='rating',\n",
    "            kind='bar',\n",
    "            stacked=False,\n",
    "            title='Grouped by region')"
   ]
  },
  {
   "cell_type": "markdown",
   "metadata": {},
   "source": [
    "Al igual que con los géneros de los juegos, ante las clasificaciones tanto Norte América como Europa se compartan de manera semejante, mientras Japón se comporta de una manera distinta. En Japón destaca un aprecio por los juegos para adolecentes, seguidos en un lejano segundo lugar que representa menos de la mitad que el primero, se encuentran los juegos para adultos, quedando los juegos para todo público e infantiles claramente rezagados. Por el otro lado aunque las ventas de juegos para adolecentes son las más altas en Europa, estas no distan tanto del primer lugar norteamericano, los juegos para todo público. En estas últimas regiones los juegos para los más grandes y los más chicos son los menos populares. Esto puede estar directamente relacionado con la cultura de los hobbies de las distintas regiones, teniendo a Japón como una rgión donde este tipo de entretenimiento sigue siendo muy popular entre los adultos, mientras que en Estados Unidos se observa como una actividad de niños y adolecentes.\n",
    "\n",
    "## Pruebas de hipótesis\n",
    "\n",
    "A continuación probaremos las siguientes **hipótesis**:\n",
    "* Las calificaciones promedio de los usuarios para las plataformas Xbox One y PC son las mismas.\n",
    "* Las calificaciones promedio de los usuarios para los géneros de Acción y Deportes son diferentes.\n",
    "\n",
    "Para estas pruebas estaremos considerando las siguientes **hipótesis nulas** respectivamente:\n",
    "* Las calificaciones promedio de los usuarios para las plataformas Xbox One y PC son las mismas.\n",
    "* Las calificaciones promedio de los usuarios para los géneros de Acción y Deportes son iguales.\n",
    "\n",
    "A estas hipótesis nulas se llegó dado que son aquellas que cuentan con una igualdad en su enunciado, provocando las siguientes **hipótesis alternativas**:\n",
    "* Las calificaciones promedio de los usuarios para las plataformas Xbox One y PC son diferentes.\n",
    "* Las calificaciones promedio de los usuarios para los géneros de Acción y Deportes son diferentes.\n",
    "\n",
    "Consideraremos en ambos casos un alpha, nivel de significancia (alfa), de 0.05, así como un análisis de dos colas ya que no se está estudiando ni valores sobre o por debajo de ningún otro, simplemente la diferencia."
   ]
  },
  {
   "cell_type": "markdown",
   "metadata": {},
   "source": [
    "Comenzando por la primera, que evalúa la igualdad de las medias de las calificaciones de los usuarios de XBox One y PC. En este caso no consideraremos que las poblaciones sean iguales, ya que los precios de las plataformas son distintos y las edades y nivel de ingreso del público objetivo puede ser considerablemente distinto."
   ]
  },
  {
   "cell_type": "code",
   "execution_count": 40,
   "metadata": {},
   "outputs": [
    {
     "data": {
      "text/plain": [
       "0.12268251760367097"
      ]
     },
     "execution_count": 40,
     "metadata": {},
     "output_type": "execute_result"
    }
   ],
   "source": [
    "#Primero obtengamos los grupos de valores e identifiquemos a través de la prueba bartlett si las poblaciones son iguales.\n",
    "\n",
    "users_XOne = data_filtered2.query('platform == \"XOne\"')\n",
    "users_PC = data_filtered2.query('platform == \"PC\"')\n",
    "\n",
    "stat, p = st.bartlett(users_XOne.dropna()['user_score'], users_PC.dropna()['user_score'])\n",
    "p"
   ]
  },
  {
   "cell_type": "markdown",
   "metadata": {},
   "source": [
    "La prueba de Bartlett cuenta con la hipótesis nula de que las poblacioines son iguales, al no poder rechazarse (dado el alto nivel sobre alpha), consideraremos esta variable como cierta en el análisis de la hipóteis."
   ]
  },
  {
   "cell_type": "code",
   "execution_count": 41,
   "metadata": {},
   "outputs": [
    {
     "name": "stdout",
     "output_type": "stream",
     "text": [
      "p-value:  0.7358234145202169\n",
      "No podemos rechazar la hipótesis nula.\n"
     ]
    }
   ],
   "source": [
    "#Análicemos si se rechaza la hipótesis nula considerando nuestras variables\n",
    "\n",
    "alpha = 0.05 # el nivel de significancia estadística crítica\n",
    "# si el valor p es menor que alfa, rechazamos la hipótesis\n",
    "\n",
    "resultados = st.ttest_ind(users_XOne.dropna()['user_score'], users_PC.dropna()['user_score'],equal_var = True)\n",
    "\n",
    "\n",
    "print('p-value: ', resultados.pvalue)\n",
    "\n",
    "if resultados.pvalue < alpha:\n",
    "     print(\"Rechazamos la hipótesis nula.\")\n",
    "else:\n",
    "     print(\"No podemos rechazar la hipótesis nula.\") "
   ]
  },
  {
   "cell_type": "markdown",
   "metadata": {},
   "source": [
    "No se termina rechazando la hipótesis nula, indicando que la media de las calificaciones de usuarios para las distintas plataformas indicando que en efecto podría darse el caso de que sean las mismas, informándonos sobre semejanzas de público y creiterio que generan comportamientos comparables, y destacando la posibilidad de utilizar estrategias de publicidad semejantes para los usuarios de distintas consolas."
   ]
  },
  {
   "cell_type": "markdown",
   "metadata": {},
   "source": [
    "Ahora, consideraremos la segunda hipotesis sobre las medias de calificaciones entre juegos de acción y de deportes; en este caso, sí consideraremos poblaciones similares, ya que en general a través de todas las consolas es público de todas las edades el adepto a estas categorías, no existiendo gran diferencia entre las poblaciones."
   ]
  },
  {
   "cell_type": "code",
   "execution_count": 42,
   "metadata": {},
   "outputs": [
    {
     "data": {
      "text/plain": [
       "0.019581252872179218"
      ]
     },
     "execution_count": 42,
     "metadata": {},
     "output_type": "execute_result"
    }
   ],
   "source": [
    "#Primero obtengamos los grupos de valores e identifiquemos a través de la prueba bartlett si las poblaciones son iguales.\n",
    "\n",
    "users_acc = data_filtered3.query('genre == \"Action\"')\n",
    "users_spr = data_filtered3.query('genre == \"Sports\"')\n",
    "\n",
    "stat, q = st.bartlett(users_acc.dropna()['user_score'], users_spr.dropna()['user_score'])\n",
    "q"
   ]
  },
  {
   "cell_type": "markdown",
   "metadata": {},
   "source": [
    "En este caso al ser p un valor menor al valor de significancia terminamos considerando que las poblaciones son distintas."
   ]
  },
  {
   "cell_type": "code",
   "execution_count": 45,
   "metadata": {},
   "outputs": [
    {
     "name": "stdout",
     "output_type": "stream",
     "text": [
      "p-value:  1.982472836962846e-07\n",
      "Rechazamos la hipótesis nula.\n"
     ]
    }
   ],
   "source": [
    "#Análicemos si se rechaza la hipótesis nula considerando nuestras variables\n",
    "\n",
    "alpha = 0.05 # el nivel de significancia estadística crítica\n",
    "# si el valor p es menor que alfa, rechazamos la hipótesis\n",
    "\n",
    "resultados = st.ttest_ind(users_acc.dropna()['user_score'], users_spr.dropna()['user_score'], equal_var = False)\n",
    "\n",
    "print('p-value: ', resultados.pvalue)\n",
    "\n",
    "if resultados.pvalue < alpha:\n",
    "    print(\"Rechazamos la hipótesis nula.\")\n",
    "else:\n",
    "    print(\"No podemos rechazar la hipótesis nula.\") "
   ]
  },
  {
   "cell_type": "markdown",
   "metadata": {},
   "source": [
    "En este caso encontramos que la hipótesis nula se rechaza, destacando una diferencia entre las calificaciones de los usuarios de los distintos generos, igualmente denotando que el acercamiento publicitario debe ser distinto en cuanto a géneros.\n",
    "\n",
    "## Conclusiones generales\n",
    "\n",
    "Se tuvo que realizar una limpieza y preprocesamiento de datos bastante sencillos, esto debido seguramente a una correcta configuración de un formulario de captura y de programas de recopilación de datos de las ventas de los distintos juegos. Principalmente se cambiaron los nombres de las columnas que traían mayúsculas y los tipos de algunas como el año, que funcionaba mejor como un entero y se igualó el formato de las calificaciones de usuarios y profesionales para hacerlas comparables. Únicamente se eliminaron registros que no contaban con calificación o ingresos, siendo estos aspectos muy relevantes para el presente estudio, pero su cantidad fue tan limitada que resultaba despreciable y no alteraba considerablemente los resultados. Además de esto, en la etapa inicial de preprocesamiento se colocó *unknown* a las clasificaciones ESRB que no se encontraban registradas en sistema para eliminar los menos datos posibles, y siendo esta columna relevante, pero secundaria en el estudio.\n",
    "\n",
    "En el análisis observamos la existencia de valores atípicos, los cuales fueron eliminados como consecuencia de su bajo volumen y el impacto provocado en la información, tras esta eliminación las distribuciones de los datos pudieron apreciarse mucho más dado que los valores atípicos eran considerablemente elevados. Aquí pudo apreciarse una distribución similar entre las distintas consolas, sobresaliendo en sus valores aquellas de la generación que está por desaparecer, lo cual es lógico ya que están terminando su periodo de vida y ya realizaron casi todas sus ventas en una sociedad cada vez más adepta a este hobby.\n",
    "\n",
    "Posteriormente se analizó el perfil de los jugadores entre las distintas regiones demostrando similitudes de preferencia entre Europa y Norte América, demostrando una clara diferencia con el mercado Japones; sin embargo, en todos los casos, los juegos de acción resultaron los predilectos.\n",
    "\n",
    "Finalmente se probaron las hipótesis de diferencia en las calificaciones de usuario respecto a plataforma y género con hipótsis nulas de igualdad. El resultado de esto fue que no existe una clara diferencia entre las medias de PC y XBox, pero sí entre las de acción y deportes, evidenciando la necesidad de campañas enfocadas a los distintos géneros, más no consolas.\n",
    "\n",
    "Podemos concluir que la diferencia entre los grupos de jugadores por plataforma, región y género varía significativamente, teniendo su principal diferenciador entre oriente y occidente; remarcando la importancia de campañas publicitaras distintas, enfocadas y estudiadas para cada tipo de juego y región. En este análisis se pudieron observar las principales categorías de diferenciación y su impacto, aunque es posible profundizar en el estudio de estos mismos con la base de información presentada."
   ]
  }
 ],
 "metadata": {
  "ExecuteTimeLog": [
   {
    "duration": 402,
    "start_time": "2022-05-02T20:37:53.844Z"
   },
   {
    "duration": 39,
    "start_time": "2022-05-02T20:39:24.624Z"
   },
   {
    "duration": 15,
    "start_time": "2022-05-02T20:40:13.959Z"
   },
   {
    "duration": 28,
    "start_time": "2022-05-02T20:45:43.827Z"
   },
   {
    "duration": 13,
    "start_time": "2022-05-02T20:59:31.443Z"
   },
   {
    "duration": 14,
    "start_time": "2022-05-02T21:00:10.490Z"
   },
   {
    "duration": 65,
    "start_time": "2022-05-02T21:03:31.246Z"
   },
   {
    "duration": 16,
    "start_time": "2022-05-02T21:04:36.934Z"
   },
   {
    "duration": 14,
    "start_time": "2022-05-02T21:10:06.072Z"
   },
   {
    "duration": 19,
    "start_time": "2022-05-02T21:12:09.320Z"
   },
   {
    "duration": 487,
    "start_time": "2022-05-03T20:06:52.102Z"
   },
   {
    "duration": 47,
    "start_time": "2022-05-03T20:06:52.592Z"
   },
   {
    "duration": 44,
    "start_time": "2022-05-03T20:06:57.574Z"
   },
   {
    "duration": 70,
    "start_time": "2022-05-03T20:07:05.087Z"
   },
   {
    "duration": 22,
    "start_time": "2022-05-03T20:07:10.835Z"
   },
   {
    "duration": 30,
    "start_time": "2022-05-03T20:07:14.227Z"
   },
   {
    "duration": 13,
    "start_time": "2022-05-03T20:11:10.873Z"
   },
   {
    "duration": 27,
    "start_time": "2022-05-03T20:13:18.624Z"
   },
   {
    "duration": 3,
    "start_time": "2022-05-03T20:16:36.057Z"
   },
   {
    "duration": 50,
    "start_time": "2022-05-03T20:16:36.064Z"
   },
   {
    "duration": 36,
    "start_time": "2022-05-03T20:16:36.116Z"
   },
   {
    "duration": 33,
    "start_time": "2022-05-03T20:16:36.154Z"
   },
   {
    "duration": 30,
    "start_time": "2022-05-03T20:16:36.190Z"
   },
   {
    "duration": 30,
    "start_time": "2022-05-03T20:16:54.588Z"
   },
   {
    "duration": 3,
    "start_time": "2022-05-03T20:17:12.638Z"
   },
   {
    "duration": 52,
    "start_time": "2022-05-03T20:17:12.644Z"
   },
   {
    "duration": 36,
    "start_time": "2022-05-03T20:17:12.699Z"
   },
   {
    "duration": 21,
    "start_time": "2022-05-03T20:17:12.738Z"
   },
   {
    "duration": 24,
    "start_time": "2022-05-03T20:17:12.781Z"
   },
   {
    "duration": 18,
    "start_time": "2022-05-03T20:17:32.395Z"
   },
   {
    "duration": 27,
    "start_time": "2022-05-03T20:17:42.366Z"
   },
   {
    "duration": 2,
    "start_time": "2022-05-03T20:18:26.621Z"
   },
   {
    "duration": 54,
    "start_time": "2022-05-03T20:18:26.626Z"
   },
   {
    "duration": 36,
    "start_time": "2022-05-03T20:18:26.682Z"
   },
   {
    "duration": 22,
    "start_time": "2022-05-03T20:18:26.720Z"
   },
   {
    "duration": 50,
    "start_time": "2022-05-03T20:18:26.744Z"
   },
   {
    "duration": 111,
    "start_time": "2022-05-03T20:18:28.889Z"
   },
   {
    "duration": 4,
    "start_time": "2022-05-03T20:18:47.016Z"
   },
   {
    "duration": 54,
    "start_time": "2022-05-03T20:18:47.022Z"
   },
   {
    "duration": 38,
    "start_time": "2022-05-03T20:18:47.078Z"
   },
   {
    "duration": 19,
    "start_time": "2022-05-03T20:18:47.118Z"
   },
   {
    "duration": 51,
    "start_time": "2022-05-03T20:18:47.140Z"
   },
   {
    "duration": 23,
    "start_time": "2022-05-03T20:18:55.394Z"
   },
   {
    "duration": 45,
    "start_time": "2022-05-03T20:21:28.185Z"
   },
   {
    "duration": 19,
    "start_time": "2022-05-03T20:21:43.821Z"
   },
   {
    "duration": 19,
    "start_time": "2022-05-03T20:22:21.127Z"
   },
   {
    "duration": 33,
    "start_time": "2022-05-03T20:22:56.138Z"
   },
   {
    "duration": 10,
    "start_time": "2022-05-03T20:23:39.834Z"
   },
   {
    "duration": 8,
    "start_time": "2022-05-03T20:23:47.737Z"
   },
   {
    "duration": 14,
    "start_time": "2022-05-03T20:23:59.430Z"
   },
   {
    "duration": 16,
    "start_time": "2022-05-03T20:24:18.887Z"
   },
   {
    "duration": 19,
    "start_time": "2022-05-03T20:25:22.628Z"
   },
   {
    "duration": 15,
    "start_time": "2022-05-03T20:27:21.528Z"
   },
   {
    "duration": 15,
    "start_time": "2022-05-03T20:29:31.915Z"
   },
   {
    "duration": 15,
    "start_time": "2022-05-03T20:30:29.700Z"
   },
   {
    "duration": 16,
    "start_time": "2022-05-03T20:30:51.194Z"
   },
   {
    "duration": 13,
    "start_time": "2022-05-03T20:31:45.047Z"
   },
   {
    "duration": 4,
    "start_time": "2022-05-03T20:32:07.152Z"
   },
   {
    "duration": 50,
    "start_time": "2022-05-03T20:32:07.159Z"
   },
   {
    "duration": 35,
    "start_time": "2022-05-03T20:32:07.211Z"
   },
   {
    "duration": 35,
    "start_time": "2022-05-03T20:32:07.249Z"
   },
   {
    "duration": 23,
    "start_time": "2022-05-03T20:32:07.287Z"
   },
   {
    "duration": 7,
    "start_time": "2022-05-03T20:32:07.313Z"
   },
   {
    "duration": 24,
    "start_time": "2022-05-03T20:32:22.724Z"
   },
   {
    "duration": 4,
    "start_time": "2022-05-03T20:33:06.855Z"
   },
   {
    "duration": 50,
    "start_time": "2022-05-03T20:33:06.862Z"
   },
   {
    "duration": 35,
    "start_time": "2022-05-03T20:33:06.914Z"
   },
   {
    "duration": 38,
    "start_time": "2022-05-03T20:33:06.951Z"
   },
   {
    "duration": 25,
    "start_time": "2022-05-03T20:33:06.992Z"
   },
   {
    "duration": 24,
    "start_time": "2022-05-03T20:33:07.019Z"
   },
   {
    "duration": 550,
    "start_time": "2022-05-05T20:29:30.202Z"
   },
   {
    "duration": 56,
    "start_time": "2022-05-05T20:29:30.754Z"
   },
   {
    "duration": 50,
    "start_time": "2022-05-05T20:29:30.812Z"
   },
   {
    "duration": 23,
    "start_time": "2022-05-05T20:29:30.866Z"
   },
   {
    "duration": 26,
    "start_time": "2022-05-05T20:29:30.891Z"
   },
   {
    "duration": 32,
    "start_time": "2022-05-05T20:29:30.951Z"
   },
   {
    "duration": 7,
    "start_time": "2022-05-05T20:40:41.042Z"
   },
   {
    "duration": 14,
    "start_time": "2022-05-05T20:40:50.966Z"
   },
   {
    "duration": 68,
    "start_time": "2022-05-05T20:41:29.995Z"
   },
   {
    "duration": 26,
    "start_time": "2022-05-05T20:42:15.897Z"
   },
   {
    "duration": 26,
    "start_time": "2022-05-05T20:42:29.166Z"
   },
   {
    "duration": 26,
    "start_time": "2022-05-05T20:43:03.188Z"
   },
   {
    "duration": 27,
    "start_time": "2022-05-05T20:43:37.846Z"
   },
   {
    "duration": 27,
    "start_time": "2022-05-05T20:43:50.771Z"
   },
   {
    "duration": 1130,
    "start_time": "2022-05-05T20:44:46.855Z"
   },
   {
    "duration": 4,
    "start_time": "2022-05-05T20:45:18.217Z"
   },
   {
    "duration": 53,
    "start_time": "2022-05-05T20:45:18.223Z"
   },
   {
    "duration": 35,
    "start_time": "2022-05-05T20:45:18.278Z"
   },
   {
    "duration": 36,
    "start_time": "2022-05-05T20:45:18.316Z"
   },
   {
    "duration": 24,
    "start_time": "2022-05-05T20:45:18.355Z"
   },
   {
    "duration": 24,
    "start_time": "2022-05-05T20:45:18.382Z"
   },
   {
    "duration": 59,
    "start_time": "2022-05-05T20:45:18.408Z"
   },
   {
    "duration": 1138,
    "start_time": "2022-05-05T20:45:21.729Z"
   },
   {
    "duration": 351,
    "start_time": "2022-05-05T20:45:53.913Z"
   },
   {
    "duration": 8,
    "start_time": "2022-05-05T20:46:26.830Z"
   },
   {
    "duration": 4,
    "start_time": "2022-05-05T20:46:52.280Z"
   },
   {
    "duration": 46,
    "start_time": "2022-05-05T20:46:52.286Z"
   },
   {
    "duration": 37,
    "start_time": "2022-05-05T20:46:52.334Z"
   },
   {
    "duration": 20,
    "start_time": "2022-05-05T20:46:52.374Z"
   },
   {
    "duration": 63,
    "start_time": "2022-05-05T20:46:52.397Z"
   },
   {
    "duration": 26,
    "start_time": "2022-05-05T20:46:52.462Z"
   },
   {
    "duration": 27,
    "start_time": "2022-05-05T20:46:52.490Z"
   },
   {
    "duration": 35,
    "start_time": "2022-05-05T20:46:55.061Z"
   },
   {
    "duration": 26,
    "start_time": "2022-05-05T20:47:41.730Z"
   },
   {
    "duration": 34,
    "start_time": "2022-05-05T20:47:56.246Z"
   },
   {
    "duration": 4,
    "start_time": "2022-05-05T20:48:00.891Z"
   },
   {
    "duration": 96,
    "start_time": "2022-05-05T20:48:00.898Z"
   },
   {
    "duration": 60,
    "start_time": "2022-05-05T20:48:00.996Z"
   },
   {
    "duration": 28,
    "start_time": "2022-05-05T20:48:01.060Z"
   },
   {
    "duration": 69,
    "start_time": "2022-05-05T20:48:01.091Z"
   },
   {
    "duration": 27,
    "start_time": "2022-05-05T20:48:01.162Z"
   },
   {
    "duration": 27,
    "start_time": "2022-05-05T20:48:01.192Z"
   },
   {
    "duration": 47,
    "start_time": "2022-05-05T20:48:11.157Z"
   },
   {
    "duration": 43,
    "start_time": "2022-05-05T20:49:01.072Z"
   },
   {
    "duration": 1738,
    "start_time": "2022-05-05T20:49:31.047Z"
   },
   {
    "duration": 20,
    "start_time": "2022-05-05T20:51:03.555Z"
   },
   {
    "duration": 20,
    "start_time": "2022-05-05T20:53:47.807Z"
   },
   {
    "duration": 24,
    "start_time": "2022-05-05T20:57:11.298Z"
   },
   {
    "duration": 24,
    "start_time": "2022-05-05T21:04:18.197Z"
   },
   {
    "duration": 1614,
    "start_time": "2022-05-05T21:11:31.308Z"
   },
   {
    "duration": 37,
    "start_time": "2022-05-05T21:12:02.855Z"
   },
   {
    "duration": 26,
    "start_time": "2022-05-05T21:12:46.767Z"
   },
   {
    "duration": 44,
    "start_time": "2022-05-05T21:14:53.248Z"
   },
   {
    "duration": 39,
    "start_time": "2022-05-05T21:15:08.659Z"
   },
   {
    "duration": 38,
    "start_time": "2022-05-05T21:15:15.322Z"
   },
   {
    "duration": 412,
    "start_time": "2022-05-07T13:03:03.508Z"
   },
   {
    "duration": 50,
    "start_time": "2022-05-07T13:03:03.922Z"
   },
   {
    "duration": 43,
    "start_time": "2022-05-07T13:03:03.975Z"
   },
   {
    "duration": 33,
    "start_time": "2022-05-07T13:03:04.021Z"
   },
   {
    "duration": 16,
    "start_time": "2022-05-07T13:03:04.055Z"
   },
   {
    "duration": 16,
    "start_time": "2022-05-07T13:03:04.072Z"
   },
   {
    "duration": 59,
    "start_time": "2022-05-07T13:03:04.090Z"
   },
   {
    "duration": 1031,
    "start_time": "2022-05-07T13:03:04.150Z"
   },
   {
    "duration": 17,
    "start_time": "2022-05-07T13:03:05.183Z"
   },
   {
    "duration": 18,
    "start_time": "2022-05-07T13:03:05.202Z"
   },
   {
    "duration": 39,
    "start_time": "2022-05-07T13:03:05.223Z"
   },
   {
    "duration": 16,
    "start_time": "2022-05-07T13:03:05.264Z"
   },
   {
    "duration": 12,
    "start_time": "2022-05-07T13:03:11.341Z"
   },
   {
    "duration": 15,
    "start_time": "2022-05-07T13:04:03.443Z"
   },
   {
    "duration": 3,
    "start_time": "2022-05-07T13:05:09.753Z"
   },
   {
    "duration": 37,
    "start_time": "2022-05-07T13:05:09.757Z"
   },
   {
    "duration": 21,
    "start_time": "2022-05-07T13:05:09.796Z"
   },
   {
    "duration": 13,
    "start_time": "2022-05-07T13:05:09.818Z"
   },
   {
    "duration": 16,
    "start_time": "2022-05-07T13:05:09.847Z"
   },
   {
    "duration": 16,
    "start_time": "2022-05-07T13:05:09.864Z"
   },
   {
    "duration": 18,
    "start_time": "2022-05-07T13:05:09.882Z"
   },
   {
    "duration": 668,
    "start_time": "2022-05-07T13:05:09.902Z"
   },
   {
    "duration": 12,
    "start_time": "2022-05-07T13:05:10.572Z"
   },
   {
    "duration": 12,
    "start_time": "2022-05-07T13:05:10.586Z"
   },
   {
    "duration": 15,
    "start_time": "2022-05-07T13:05:10.599Z"
   },
   {
    "duration": 41,
    "start_time": "2022-05-07T13:05:10.616Z"
   },
   {
    "duration": 12,
    "start_time": "2022-05-07T13:05:14.912Z"
   },
   {
    "duration": 155,
    "start_time": "2022-05-07T13:05:48.357Z"
   },
   {
    "duration": 22,
    "start_time": "2022-05-07T13:05:57.255Z"
   },
   {
    "duration": 6,
    "start_time": "2022-05-07T13:08:47.288Z"
   },
   {
    "duration": 22,
    "start_time": "2022-05-07T13:09:31.697Z"
   },
   {
    "duration": 15,
    "start_time": "2022-05-07T13:12:35.162Z"
   },
   {
    "duration": 14,
    "start_time": "2022-05-07T13:13:21.468Z"
   },
   {
    "duration": 59,
    "start_time": "2022-05-07T13:15:51.983Z"
   },
   {
    "duration": 7,
    "start_time": "2022-05-07T13:15:59.418Z"
   },
   {
    "duration": 21,
    "start_time": "2022-05-07T13:16:17.618Z"
   },
   {
    "duration": 15,
    "start_time": "2022-05-07T13:16:56.114Z"
   },
   {
    "duration": 1706,
    "start_time": "2022-05-07T13:28:01.041Z"
   },
   {
    "duration": 2,
    "start_time": "2022-05-07T13:28:30.478Z"
   },
   {
    "duration": 35,
    "start_time": "2022-05-07T13:28:30.488Z"
   },
   {
    "duration": 21,
    "start_time": "2022-05-07T13:28:30.525Z"
   },
   {
    "duration": 12,
    "start_time": "2022-05-07T13:28:30.548Z"
   },
   {
    "duration": 24,
    "start_time": "2022-05-07T13:28:30.561Z"
   },
   {
    "duration": 15,
    "start_time": "2022-05-07T13:28:30.587Z"
   },
   {
    "duration": 20,
    "start_time": "2022-05-07T13:28:30.604Z"
   },
   {
    "duration": 701,
    "start_time": "2022-05-07T13:28:30.647Z"
   },
   {
    "duration": 12,
    "start_time": "2022-05-07T13:28:31.350Z"
   },
   {
    "duration": 12,
    "start_time": "2022-05-07T13:28:31.363Z"
   },
   {
    "duration": 16,
    "start_time": "2022-05-07T13:28:31.376Z"
   },
   {
    "duration": 26,
    "start_time": "2022-05-07T13:29:55.517Z"
   },
   {
    "duration": 118,
    "start_time": "2022-05-07T13:31:26.083Z"
   },
   {
    "duration": 2,
    "start_time": "2022-05-07T13:31:52.704Z"
   },
   {
    "duration": 40,
    "start_time": "2022-05-07T13:31:52.708Z"
   },
   {
    "duration": 22,
    "start_time": "2022-05-07T13:31:52.750Z"
   },
   {
    "duration": 12,
    "start_time": "2022-05-07T13:31:52.774Z"
   },
   {
    "duration": 17,
    "start_time": "2022-05-07T13:31:52.788Z"
   },
   {
    "duration": 44,
    "start_time": "2022-05-07T13:31:52.806Z"
   },
   {
    "duration": 20,
    "start_time": "2022-05-07T13:31:52.852Z"
   },
   {
    "duration": 675,
    "start_time": "2022-05-07T13:31:52.873Z"
   },
   {
    "duration": 13,
    "start_time": "2022-05-07T13:31:53.550Z"
   },
   {
    "duration": 12,
    "start_time": "2022-05-07T13:31:53.564Z"
   },
   {
    "duration": 15,
    "start_time": "2022-05-07T13:31:53.577Z"
   },
   {
    "duration": 145,
    "start_time": "2022-05-07T13:32:00.005Z"
   },
   {
    "duration": 30,
    "start_time": "2022-05-07T13:32:11.234Z"
   },
   {
    "duration": 30,
    "start_time": "2022-05-07T13:33:28.028Z"
   },
   {
    "duration": 25982,
    "start_time": "2022-05-07T13:34:21.941Z"
   },
   {
    "duration": 15,
    "start_time": "2022-05-07T13:36:09.838Z"
   },
   {
    "duration": 11,
    "start_time": "2022-05-07T13:36:17.678Z"
   },
   {
    "duration": 150,
    "start_time": "2022-05-07T13:36:21.796Z"
   },
   {
    "duration": 16,
    "start_time": "2022-05-07T13:36:48.253Z"
   },
   {
    "duration": 3,
    "start_time": "2022-05-07T13:37:31.994Z"
   },
   {
    "duration": 35,
    "start_time": "2022-05-07T13:37:32.000Z"
   },
   {
    "duration": 27,
    "start_time": "2022-05-07T13:37:32.036Z"
   },
   {
    "duration": 24,
    "start_time": "2022-05-07T13:37:32.065Z"
   },
   {
    "duration": 25,
    "start_time": "2022-05-07T13:37:32.092Z"
   },
   {
    "duration": 32,
    "start_time": "2022-05-07T13:37:32.119Z"
   },
   {
    "duration": 20,
    "start_time": "2022-05-07T13:37:32.152Z"
   },
   {
    "duration": 674,
    "start_time": "2022-05-07T13:37:32.174Z"
   },
   {
    "duration": 12,
    "start_time": "2022-05-07T13:37:32.850Z"
   },
   {
    "duration": 13,
    "start_time": "2022-05-07T13:37:32.864Z"
   },
   {
    "duration": 14,
    "start_time": "2022-05-07T13:37:32.879Z"
   },
   {
    "duration": 92,
    "start_time": "2022-05-07T13:37:32.895Z"
   },
   {
    "duration": 26229,
    "start_time": "2022-05-07T13:37:32.988Z"
   },
   {
    "duration": 14,
    "start_time": "2022-05-07T13:37:59.219Z"
   },
   {
    "duration": 15,
    "start_time": "2022-05-07T13:38:10.932Z"
   },
   {
    "duration": 11,
    "start_time": "2022-05-07T13:38:22.158Z"
   },
   {
    "duration": 158,
    "start_time": "2022-05-07T13:38:37.548Z"
   },
   {
    "duration": 15,
    "start_time": "2022-05-07T13:38:50.183Z"
   },
   {
    "duration": 14,
    "start_time": "2022-05-07T13:40:08.131Z"
   },
   {
    "duration": 21,
    "start_time": "2022-05-07T13:41:46.428Z"
   },
   {
    "duration": 27,
    "start_time": "2022-05-07T13:44:18.789Z"
   },
   {
    "duration": 42605,
    "start_time": "2022-05-07T13:45:24.784Z"
   },
   {
    "duration": 29,
    "start_time": "2022-05-07T13:53:09.829Z"
   },
   {
    "duration": 45,
    "start_time": "2022-05-07T13:55:01.314Z"
   },
   {
    "duration": 3,
    "start_time": "2022-05-07T13:55:30.340Z"
   },
   {
    "duration": 44,
    "start_time": "2022-05-07T13:55:30.345Z"
   },
   {
    "duration": 22,
    "start_time": "2022-05-07T13:55:30.391Z"
   },
   {
    "duration": 13,
    "start_time": "2022-05-07T13:55:30.415Z"
   },
   {
    "duration": 25,
    "start_time": "2022-05-07T13:55:30.430Z"
   },
   {
    "duration": 17,
    "start_time": "2022-05-07T13:55:30.456Z"
   },
   {
    "duration": 18,
    "start_time": "2022-05-07T13:55:30.475Z"
   },
   {
    "duration": 664,
    "start_time": "2022-05-07T13:55:30.495Z"
   },
   {
    "duration": 13,
    "start_time": "2022-05-07T13:55:31.160Z"
   },
   {
    "duration": 12,
    "start_time": "2022-05-07T13:55:31.174Z"
   },
   {
    "duration": 16,
    "start_time": "2022-05-07T13:55:31.188Z"
   },
   {
    "duration": 59,
    "start_time": "2022-05-07T13:55:31.205Z"
   },
   {
    "duration": 26171,
    "start_time": "2022-05-07T13:55:31.265Z"
   },
   {
    "duration": 21,
    "start_time": "2022-05-07T13:55:57.438Z"
   },
   {
    "duration": 11,
    "start_time": "2022-05-07T13:55:57.461Z"
   },
   {
    "duration": 278,
    "start_time": "2022-05-07T13:55:57.474Z"
   },
   {
    "duration": 29,
    "start_time": "2022-05-07T13:55:57.754Z"
   },
   {
    "duration": 42218,
    "start_time": "2022-05-07T13:55:57.784Z"
   },
   {
    "duration": 30,
    "start_time": "2022-05-07T13:57:01.409Z"
   },
   {
    "duration": 23918,
    "start_time": "2022-05-07T14:03:00.611Z"
   },
   {
    "duration": 9,
    "start_time": "2022-05-07T14:03:50.228Z"
   },
   {
    "duration": 8,
    "start_time": "2022-05-07T14:05:38.424Z"
   },
   {
    "duration": 1648,
    "start_time": "2022-05-07T14:06:09.449Z"
   },
   {
    "duration": 7,
    "start_time": "2022-05-07T14:06:21.929Z"
   },
   {
    "duration": 3,
    "start_time": "2022-05-07T14:06:32.529Z"
   },
   {
    "duration": 35,
    "start_time": "2022-05-07T14:06:32.534Z"
   },
   {
    "duration": 23,
    "start_time": "2022-05-07T14:06:32.571Z"
   },
   {
    "duration": 14,
    "start_time": "2022-05-07T14:06:32.597Z"
   },
   {
    "duration": 50,
    "start_time": "2022-05-07T14:06:32.613Z"
   },
   {
    "duration": 21,
    "start_time": "2022-05-07T14:06:32.664Z"
   },
   {
    "duration": 29,
    "start_time": "2022-05-07T14:06:32.687Z"
   },
   {
    "duration": 865,
    "start_time": "2022-05-07T14:06:32.718Z"
   },
   {
    "duration": 13,
    "start_time": "2022-05-07T14:06:33.585Z"
   },
   {
    "duration": 20,
    "start_time": "2022-05-07T14:06:33.600Z"
   },
   {
    "duration": 37,
    "start_time": "2022-05-07T14:06:33.622Z"
   },
   {
    "duration": 31,
    "start_time": "2022-05-07T14:06:33.660Z"
   },
   {
    "duration": 28075,
    "start_time": "2022-05-07T14:06:33.693Z"
   },
   {
    "duration": 22,
    "start_time": "2022-05-07T14:07:01.769Z"
   },
   {
    "duration": 17,
    "start_time": "2022-05-07T14:07:01.792Z"
   },
   {
    "duration": 286,
    "start_time": "2022-05-07T14:07:01.811Z"
   },
   {
    "duration": 59,
    "start_time": "2022-05-07T14:07:02.099Z"
   },
   {
    "duration": 73992,
    "start_time": "2022-05-07T14:07:02.160Z"
   },
   {
    "duration": 28,
    "start_time": "2022-05-07T14:08:16.154Z"
   },
   {
    "duration": 13535,
    "start_time": "2022-05-07T14:08:31.159Z"
   },
   {
    "duration": 27,
    "start_time": "2022-05-07T14:10:54.888Z"
   },
   {
    "duration": 100,
    "start_time": "2022-05-07T14:21:33.134Z"
   },
   {
    "duration": 21,
    "start_time": "2022-05-07T14:22:02.209Z"
   },
   {
    "duration": 16,
    "start_time": "2022-05-07T14:27:58.169Z"
   },
   {
    "duration": 9,
    "start_time": "2022-05-07T14:31:44.609Z"
   },
   {
    "duration": 1758,
    "start_time": "2022-05-07T14:31:52.723Z"
   },
   {
    "duration": 1714,
    "start_time": "2022-05-07T14:32:34.993Z"
   },
   {
    "duration": 5,
    "start_time": "2022-05-07T14:32:48.707Z"
   },
   {
    "duration": 33,
    "start_time": "2022-05-07T14:33:50.684Z"
   },
   {
    "duration": 14,
    "start_time": "2022-05-07T14:38:04.494Z"
   },
   {
    "duration": 14,
    "start_time": "2022-05-07T14:39:04.560Z"
   },
   {
    "duration": 15,
    "start_time": "2022-05-07T14:39:27.822Z"
   },
   {
    "duration": 14,
    "start_time": "2022-05-07T14:39:32.669Z"
   },
   {
    "duration": 14,
    "start_time": "2022-05-07T14:39:38.659Z"
   },
   {
    "duration": 9,
    "start_time": "2022-05-07T14:40:45.849Z"
   },
   {
    "duration": 13,
    "start_time": "2022-05-07T14:40:57.173Z"
   },
   {
    "duration": 14,
    "start_time": "2022-05-07T14:41:31.246Z"
   },
   {
    "duration": 14,
    "start_time": "2022-05-07T14:41:48.887Z"
   },
   {
    "duration": 13,
    "start_time": "2022-05-07T14:46:09.636Z"
   },
   {
    "duration": 8,
    "start_time": "2022-05-07T14:47:22.999Z"
   },
   {
    "duration": 15,
    "start_time": "2022-05-07T14:48:10.541Z"
   },
   {
    "duration": 1701,
    "start_time": "2022-05-07T14:52:46.981Z"
   },
   {
    "duration": 12,
    "start_time": "2022-05-07T14:54:28.276Z"
   },
   {
    "duration": 5,
    "start_time": "2022-05-07T14:55:13.397Z"
   },
   {
    "duration": 8,
    "start_time": "2022-05-07T14:56:05.582Z"
   },
   {
    "duration": 28,
    "start_time": "2022-05-07T14:56:50.131Z"
   },
   {
    "duration": 336,
    "start_time": "2022-05-07T15:01:46.865Z"
   },
   {
    "duration": 34,
    "start_time": "2022-05-07T15:03:03.829Z"
   },
   {
    "duration": 30,
    "start_time": "2022-05-07T15:03:47.961Z"
   },
   {
    "duration": 12,
    "start_time": "2022-05-07T15:04:49.338Z"
   },
   {
    "duration": 10,
    "start_time": "2022-05-07T15:05:04.008Z"
   },
   {
    "duration": 1612,
    "start_time": "2022-05-07T15:05:30.458Z"
   },
   {
    "duration": 37,
    "start_time": "2022-05-07T15:05:50.771Z"
   },
   {
    "duration": 36,
    "start_time": "2022-05-07T16:53:44.201Z"
   },
   {
    "duration": 1571,
    "start_time": "2022-05-07T16:54:44.747Z"
   },
   {
    "duration": 908,
    "start_time": "2022-05-07T16:55:20.924Z"
   },
   {
    "duration": 121,
    "start_time": "2022-05-07T16:58:14.530Z"
   },
   {
    "duration": 157,
    "start_time": "2022-05-07T17:00:12.304Z"
   },
   {
    "duration": 143,
    "start_time": "2022-05-07T17:00:34.597Z"
   },
   {
    "duration": 71,
    "start_time": "2022-05-08T16:32:11.269Z"
   },
   {
    "duration": 508,
    "start_time": "2022-05-08T16:32:18.639Z"
   },
   {
    "duration": 48,
    "start_time": "2022-05-08T16:32:19.154Z"
   },
   {
    "duration": 55,
    "start_time": "2022-05-08T16:32:19.204Z"
   },
   {
    "duration": 19,
    "start_time": "2022-05-08T16:32:19.262Z"
   },
   {
    "duration": 23,
    "start_time": "2022-05-08T16:32:19.284Z"
   },
   {
    "duration": 61,
    "start_time": "2022-05-08T16:32:19.309Z"
   },
   {
    "duration": 33,
    "start_time": "2022-05-08T16:32:19.372Z"
   },
   {
    "duration": 1178,
    "start_time": "2022-05-08T16:32:19.408Z"
   },
   {
    "duration": 23,
    "start_time": "2022-05-08T16:32:20.588Z"
   },
   {
    "duration": 49,
    "start_time": "2022-05-08T16:32:20.614Z"
   },
   {
    "duration": 26,
    "start_time": "2022-05-08T16:32:20.666Z"
   },
   {
    "duration": 66,
    "start_time": "2022-05-08T16:32:20.695Z"
   },
   {
    "duration": 43518,
    "start_time": "2022-05-08T16:32:20.764Z"
   },
   {
    "duration": 23,
    "start_time": "2022-05-08T16:33:04.287Z"
   },
   {
    "duration": 43,
    "start_time": "2022-05-08T16:33:04.312Z"
   },
   {
    "duration": 288,
    "start_time": "2022-05-08T16:33:04.358Z"
   },
   {
    "duration": 44,
    "start_time": "2022-05-08T16:33:04.651Z"
   },
   {
    "duration": 69973,
    "start_time": "2022-05-08T16:33:04.698Z"
   },
   {
    "duration": 55,
    "start_time": "2022-05-08T16:34:14.673Z"
   },
   {
    "duration": 22847,
    "start_time": "2022-05-08T16:34:14.731Z"
   },
   {
    "duration": 42,
    "start_time": "2022-05-08T16:34:37.580Z"
   },
   {
    "duration": 49,
    "start_time": "2022-05-08T16:34:37.624Z"
   },
   {
    "duration": 79,
    "start_time": "2022-05-08T16:34:37.676Z"
   },
   {
    "duration": 30,
    "start_time": "2022-05-08T16:34:37.758Z"
   },
   {
    "duration": 874,
    "start_time": "2022-05-08T16:35:27.394Z"
   },
   {
    "duration": 87,
    "start_time": "2022-05-08T16:36:52.364Z"
   },
   {
    "duration": 114,
    "start_time": "2022-05-08T16:37:49.855Z"
   },
   {
    "duration": 273,
    "start_time": "2022-05-08T16:38:29.845Z"
   },
   {
    "duration": 264,
    "start_time": "2022-05-08T16:38:52.068Z"
   },
   {
    "duration": 103,
    "start_time": "2022-05-08T16:40:16.513Z"
   },
   {
    "duration": 38,
    "start_time": "2022-05-08T16:41:01.905Z"
   },
   {
    "duration": 38,
    "start_time": "2022-05-08T16:48:07.339Z"
   },
   {
    "duration": 1475,
    "start_time": "2022-05-08T16:48:31.650Z"
   },
   {
    "duration": 1457,
    "start_time": "2022-05-08T16:49:06.713Z"
   },
   {
    "duration": 1487,
    "start_time": "2022-05-08T16:50:10.038Z"
   },
   {
    "duration": 4,
    "start_time": "2022-05-08T16:59:44.771Z"
   },
   {
    "duration": 311,
    "start_time": "2022-05-08T17:02:14.021Z"
   },
   {
    "duration": 1184,
    "start_time": "2022-05-08T17:03:06.160Z"
   },
   {
    "duration": 275,
    "start_time": "2022-05-08T17:04:16.776Z"
   },
   {
    "duration": 354,
    "start_time": "2022-05-08T17:04:38.556Z"
   },
   {
    "duration": 278,
    "start_time": "2022-05-08T17:04:56.886Z"
   },
   {
    "duration": 196,
    "start_time": "2022-05-08T17:07:18.114Z"
   },
   {
    "duration": 274,
    "start_time": "2022-05-08T17:07:29.681Z"
   },
   {
    "duration": 26,
    "start_time": "2022-05-08T17:10:29.251Z"
   },
   {
    "duration": 28,
    "start_time": "2022-05-08T17:10:49.756Z"
   },
   {
    "duration": 212,
    "start_time": "2022-05-08T17:11:01.355Z"
   },
   {
    "duration": 27,
    "start_time": "2022-05-08T17:11:17.845Z"
   },
   {
    "duration": 105,
    "start_time": "2022-05-08T17:12:04.255Z"
   },
   {
    "duration": 42,
    "start_time": "2022-05-08T17:12:32.446Z"
   },
   {
    "duration": 127,
    "start_time": "2022-05-08T17:13:13.229Z"
   },
   {
    "duration": 131,
    "start_time": "2022-05-08T17:14:01.865Z"
   },
   {
    "duration": 1378,
    "start_time": "2022-05-08T17:14:36.737Z"
   },
   {
    "duration": 33,
    "start_time": "2022-05-08T17:14:55.422Z"
   },
   {
    "duration": 330,
    "start_time": "2022-05-08T17:15:18.485Z"
   },
   {
    "duration": 4,
    "start_time": "2022-05-08T17:26:16.082Z"
   },
   {
    "duration": 57,
    "start_time": "2022-05-08T17:26:16.090Z"
   },
   {
    "duration": 40,
    "start_time": "2022-05-08T17:26:16.149Z"
   },
   {
    "duration": 27,
    "start_time": "2022-05-08T17:26:16.194Z"
   },
   {
    "duration": 26,
    "start_time": "2022-05-08T17:26:16.251Z"
   },
   {
    "duration": 26,
    "start_time": "2022-05-08T17:26:16.279Z"
   },
   {
    "duration": 59,
    "start_time": "2022-05-08T17:26:16.308Z"
   },
   {
    "duration": 1339,
    "start_time": "2022-05-08T17:26:16.369Z"
   },
   {
    "duration": 21,
    "start_time": "2022-05-08T17:26:17.710Z"
   },
   {
    "duration": 22,
    "start_time": "2022-05-08T17:26:17.753Z"
   },
   {
    "duration": 27,
    "start_time": "2022-05-08T17:26:17.777Z"
   },
   {
    "duration": 78,
    "start_time": "2022-05-08T17:26:17.806Z"
   },
   {
    "duration": 47553,
    "start_time": "2022-05-08T17:26:17.886Z"
   },
   {
    "duration": 31,
    "start_time": "2022-05-08T17:27:05.442Z"
   },
   {
    "duration": 17,
    "start_time": "2022-05-08T17:27:05.475Z"
   },
   {
    "duration": 319,
    "start_time": "2022-05-08T17:27:05.494Z"
   },
   {
    "duration": 65,
    "start_time": "2022-05-08T17:27:05.815Z"
   },
   {
    "duration": 68284,
    "start_time": "2022-05-08T17:27:05.883Z"
   },
   {
    "duration": 48,
    "start_time": "2022-05-08T17:28:14.169Z"
   },
   {
    "duration": 23735,
    "start_time": "2022-05-08T17:28:14.219Z"
   },
   {
    "duration": 44,
    "start_time": "2022-05-08T17:28:37.957Z"
   },
   {
    "duration": 56,
    "start_time": "2022-05-08T17:28:38.003Z"
   },
   {
    "duration": 58,
    "start_time": "2022-05-08T17:28:38.062Z"
   },
   {
    "duration": 36,
    "start_time": "2022-05-08T17:28:38.122Z"
   },
   {
    "duration": 358,
    "start_time": "2022-05-08T17:28:53.633Z"
   },
   {
    "duration": 11,
    "start_time": "2022-05-08T17:35:52.010Z"
   },
   {
    "duration": 423,
    "start_time": "2022-05-08T17:39:16.941Z"
   },
   {
    "duration": 6,
    "start_time": "2022-05-08T17:44:00.851Z"
   },
   {
    "duration": 50,
    "start_time": "2022-05-08T17:44:14.962Z"
   },
   {
    "duration": 450,
    "start_time": "2022-05-08T17:44:29.766Z"
   },
   {
    "duration": 1885,
    "start_time": "2022-05-16T20:01:04.524Z"
   },
   {
    "duration": 48,
    "start_time": "2022-05-16T20:01:06.412Z"
   },
   {
    "duration": 44,
    "start_time": "2022-05-16T20:01:06.462Z"
   },
   {
    "duration": 21,
    "start_time": "2022-05-16T20:01:06.526Z"
   },
   {
    "duration": 26,
    "start_time": "2022-05-16T20:01:06.549Z"
   },
   {
    "duration": 58,
    "start_time": "2022-05-16T20:01:06.577Z"
   },
   {
    "duration": 37,
    "start_time": "2022-05-16T20:01:06.637Z"
   },
   {
    "duration": 1215,
    "start_time": "2022-05-16T20:01:06.676Z"
   },
   {
    "duration": 34,
    "start_time": "2022-05-16T20:01:07.893Z"
   },
   {
    "duration": 23,
    "start_time": "2022-05-16T20:01:07.931Z"
   },
   {
    "duration": 30,
    "start_time": "2022-05-16T20:01:07.957Z"
   },
   {
    "duration": 73,
    "start_time": "2022-05-16T20:01:07.989Z"
   },
   {
    "duration": 47460,
    "start_time": "2022-05-16T20:01:08.065Z"
   },
   {
    "duration": 26,
    "start_time": "2022-05-16T20:01:55.528Z"
   },
   {
    "duration": 18,
    "start_time": "2022-05-16T20:01:55.557Z"
   },
   {
    "duration": 361,
    "start_time": "2022-05-16T20:01:55.578Z"
   },
   {
    "duration": 48,
    "start_time": "2022-05-16T20:01:55.941Z"
   },
   {
    "duration": 74923,
    "start_time": "2022-05-16T20:01:55.991Z"
   },
   {
    "duration": 56,
    "start_time": "2022-05-16T20:03:10.924Z"
   },
   {
    "duration": 24432,
    "start_time": "2022-05-16T20:03:10.982Z"
   },
   {
    "duration": 50,
    "start_time": "2022-05-16T20:03:35.426Z"
   },
   {
    "duration": 66,
    "start_time": "2022-05-16T20:03:35.479Z"
   },
   {
    "duration": 57,
    "start_time": "2022-05-16T20:03:35.548Z"
   },
   {
    "duration": 50,
    "start_time": "2022-05-16T20:03:35.607Z"
   },
   {
    "duration": 426,
    "start_time": "2022-05-16T20:03:35.659Z"
   },
   {
    "duration": 12,
    "start_time": "2022-05-16T20:03:36.088Z"
   },
   {
    "duration": 612,
    "start_time": "2022-05-16T20:03:36.102Z"
   },
   {
    "duration": 499,
    "start_time": "2022-05-16T20:03:36.726Z"
   },
   {
    "duration": 382,
    "start_time": "2022-05-16T20:04:13.778Z"
   },
   {
    "duration": 154,
    "start_time": "2022-05-16T20:05:10.448Z"
   },
   {
    "duration": 386,
    "start_time": "2022-05-16T20:05:17.238Z"
   },
   {
    "duration": 23,
    "start_time": "2022-05-16T20:10:43.667Z"
   },
   {
    "duration": 346,
    "start_time": "2022-05-16T20:12:53.580Z"
   },
   {
    "duration": 358,
    "start_time": "2022-05-16T20:13:20.532Z"
   },
   {
    "duration": 360,
    "start_time": "2022-05-16T20:13:33.087Z"
   },
   {
    "duration": 424,
    "start_time": "2022-05-16T20:24:09.125Z"
   },
   {
    "duration": 1790,
    "start_time": "2022-05-16T20:30:55.652Z"
   },
   {
    "duration": 15,
    "start_time": "2022-05-16T20:31:12.396Z"
   },
   {
    "duration": 150,
    "start_time": "2022-05-16T20:37:10.185Z"
   },
   {
    "duration": 353,
    "start_time": "2022-05-16T20:43:29.271Z"
   },
   {
    "duration": 535,
    "start_time": "2022-05-16T20:45:36.765Z"
   },
   {
    "duration": 14,
    "start_time": "2022-05-16T20:45:47.416Z"
   },
   {
    "duration": 383,
    "start_time": "2022-05-16T20:51:27.633Z"
   },
   {
    "duration": 393,
    "start_time": "2022-05-16T20:52:35.813Z"
   },
   {
    "duration": 181,
    "start_time": "2022-05-16T20:54:21.638Z"
   },
   {
    "duration": 684,
    "start_time": "2022-05-16T20:55:17.765Z"
   },
   {
    "duration": 233,
    "start_time": "2022-05-16T20:57:08.254Z"
   },
   {
    "duration": 479,
    "start_time": "2022-05-16T20:57:21.589Z"
   },
   {
    "duration": 670,
    "start_time": "2022-05-16T20:57:32.138Z"
   },
   {
    "duration": 1374,
    "start_time": "2022-05-17T19:52:56.591Z"
   },
   {
    "duration": 188,
    "start_time": "2022-05-17T19:52:57.966Z"
   },
   {
    "duration": 25,
    "start_time": "2022-05-17T19:52:58.156Z"
   },
   {
    "duration": 14,
    "start_time": "2022-05-17T19:52:58.183Z"
   },
   {
    "duration": 21,
    "start_time": "2022-05-17T19:52:58.199Z"
   },
   {
    "duration": 16,
    "start_time": "2022-05-17T19:52:58.222Z"
   },
   {
    "duration": 21,
    "start_time": "2022-05-17T19:52:58.240Z"
   },
   {
    "duration": 734,
    "start_time": "2022-05-17T19:52:58.263Z"
   },
   {
    "duration": 12,
    "start_time": "2022-05-17T19:52:58.998Z"
   },
   {
    "duration": 13,
    "start_time": "2022-05-17T19:52:59.012Z"
   },
   {
    "duration": 17,
    "start_time": "2022-05-17T19:52:59.026Z"
   },
   {
    "duration": 58,
    "start_time": "2022-05-17T19:52:59.045Z"
   },
   {
    "duration": 29275,
    "start_time": "2022-05-17T19:52:59.104Z"
   },
   {
    "duration": 21,
    "start_time": "2022-05-17T19:53:28.381Z"
   },
   {
    "duration": 11,
    "start_time": "2022-05-17T19:53:28.403Z"
   },
   {
    "duration": 171,
    "start_time": "2022-05-17T19:53:28.416Z"
   },
   {
    "duration": 31,
    "start_time": "2022-05-17T19:53:28.595Z"
   },
   {
    "duration": 46231,
    "start_time": "2022-05-17T19:53:28.627Z"
   },
   {
    "duration": 41,
    "start_time": "2022-05-17T19:54:14.860Z"
   },
   {
    "duration": 14575,
    "start_time": "2022-05-17T19:54:14.903Z"
   },
   {
    "duration": 37,
    "start_time": "2022-05-17T19:54:29.480Z"
   },
   {
    "duration": 26,
    "start_time": "2022-05-17T19:54:29.519Z"
   },
   {
    "duration": 83,
    "start_time": "2022-05-17T19:54:29.550Z"
   },
   {
    "duration": 21,
    "start_time": "2022-05-17T19:54:29.635Z"
   },
   {
    "duration": 324,
    "start_time": "2022-05-17T19:54:29.657Z"
   },
   {
    "duration": 17,
    "start_time": "2022-05-17T19:54:29.983Z"
   },
   {
    "duration": 282,
    "start_time": "2022-05-17T19:54:30.001Z"
   },
   {
    "duration": 323,
    "start_time": "2022-05-17T19:54:30.294Z"
   },
   {
    "duration": 240,
    "start_time": "2022-05-17T19:54:30.620Z"
   },
   {
    "duration": 253,
    "start_time": "2022-05-17T19:54:30.862Z"
   },
   {
    "duration": 304,
    "start_time": "2022-05-17T19:54:31.117Z"
   },
   {
    "duration": 10,
    "start_time": "2022-05-17T19:54:31.423Z"
   },
   {
    "duration": 316,
    "start_time": "2022-05-17T19:54:31.435Z"
   },
   {
    "duration": 54,
    "start_time": "2022-05-17T19:57:28.517Z"
   },
   {
    "duration": 9,
    "start_time": "2022-05-17T20:00:35.370Z"
   },
   {
    "duration": 7,
    "start_time": "2022-05-17T20:00:47.191Z"
   },
   {
    "duration": 5,
    "start_time": "2022-05-17T20:01:11.724Z"
   },
   {
    "duration": 845,
    "start_time": "2022-05-17T20:05:26.315Z"
   },
   {
    "duration": 98,
    "start_time": "2022-05-17T20:05:44.917Z"
   },
   {
    "duration": 18,
    "start_time": "2022-05-17T20:06:17.929Z"
   },
   {
    "duration": 20,
    "start_time": "2022-05-17T20:06:37.768Z"
   },
   {
    "duration": 24,
    "start_time": "2022-05-17T20:06:59.828Z"
   },
   {
    "duration": 727,
    "start_time": "2022-05-17T20:08:10.255Z"
   },
   {
    "duration": 262,
    "start_time": "2022-05-17T20:09:05.349Z"
   },
   {
    "duration": 219,
    "start_time": "2022-05-17T20:10:13.578Z"
   },
   {
    "duration": 208,
    "start_time": "2022-05-17T20:18:26.787Z"
   },
   {
    "duration": 186,
    "start_time": "2022-05-17T20:23:14.267Z"
   },
   {
    "duration": 279,
    "start_time": "2022-05-17T20:24:07.972Z"
   },
   {
    "duration": 296,
    "start_time": "2022-05-17T20:26:19.790Z"
   },
   {
    "duration": 271,
    "start_time": "2022-05-17T20:26:28.879Z"
   },
   {
    "duration": 5,
    "start_time": "2022-05-17T20:32:34.812Z"
   },
   {
    "duration": 14,
    "start_time": "2022-05-17T20:33:01.969Z"
   },
   {
    "duration": 14,
    "start_time": "2022-05-17T20:33:44.905Z"
   },
   {
    "duration": 13,
    "start_time": "2022-05-17T20:34:20.693Z"
   },
   {
    "duration": 206,
    "start_time": "2022-05-17T20:41:08.590Z"
   },
   {
    "duration": 21,
    "start_time": "2022-05-17T20:41:56.318Z"
   },
   {
    "duration": 225,
    "start_time": "2022-05-17T20:42:07.263Z"
   },
   {
    "duration": 199,
    "start_time": "2022-05-17T20:43:51.978Z"
   },
   {
    "duration": 23,
    "start_time": "2022-05-17T20:46:14.607Z"
   },
   {
    "duration": 197,
    "start_time": "2022-05-17T20:46:31.450Z"
   },
   {
    "duration": 21,
    "start_time": "2022-05-17T20:47:17.112Z"
   },
   {
    "duration": 272,
    "start_time": "2022-05-17T20:47:23.926Z"
   },
   {
    "duration": 7,
    "start_time": "2022-05-17T21:33:19.566Z"
   },
   {
    "duration": 10,
    "start_time": "2022-05-17T21:33:22.143Z"
   },
   {
    "duration": 4,
    "start_time": "2022-05-17T21:33:57.224Z"
   },
   {
    "duration": 5,
    "start_time": "2022-05-17T21:34:02.796Z"
   },
   {
    "duration": 6,
    "start_time": "2022-05-17T21:34:14.842Z"
   },
   {
    "duration": 5,
    "start_time": "2022-05-17T21:34:16.717Z"
   },
   {
    "duration": 55,
    "start_time": "2022-05-24T17:26:26.873Z"
   },
   {
    "duration": 1705,
    "start_time": "2022-05-24T20:07:45.012Z"
   },
   {
    "duration": 92,
    "start_time": "2022-05-24T20:07:46.719Z"
   },
   {
    "duration": 29,
    "start_time": "2022-05-24T20:07:46.812Z"
   },
   {
    "duration": 13,
    "start_time": "2022-05-24T20:07:46.843Z"
   },
   {
    "duration": 15,
    "start_time": "2022-05-24T20:07:46.858Z"
   },
   {
    "duration": 17,
    "start_time": "2022-05-24T20:07:46.874Z"
   },
   {
    "duration": 48,
    "start_time": "2022-05-24T20:07:46.893Z"
   },
   {
    "duration": 802,
    "start_time": "2022-05-24T20:07:46.943Z"
   },
   {
    "duration": 13,
    "start_time": "2022-05-24T20:07:47.746Z"
   },
   {
    "duration": 14,
    "start_time": "2022-05-24T20:07:47.761Z"
   },
   {
    "duration": 17,
    "start_time": "2022-05-24T20:07:51.657Z"
   },
   {
    "duration": 124,
    "start_time": "2022-05-24T20:08:18.122Z"
   },
   {
    "duration": 30,
    "start_time": "2022-05-24T20:08:52.224Z"
   },
   {
    "duration": 29443,
    "start_time": "2022-05-24T20:08:54.906Z"
   },
   {
    "duration": 17,
    "start_time": "2022-05-24T20:16:19.705Z"
   },
   {
    "duration": 17,
    "start_time": "2022-05-24T20:16:41.405Z"
   },
   {
    "duration": 174,
    "start_time": "2022-05-24T20:17:00.542Z"
   },
   {
    "duration": 11,
    "start_time": "2022-05-24T20:22:21.618Z"
   },
   {
    "duration": 15860,
    "start_time": "2022-05-24T20:23:24.070Z"
   },
   {
    "duration": 4,
    "start_time": "2022-05-24T20:24:46.504Z"
   },
   {
    "duration": 61,
    "start_time": "2022-05-24T20:24:46.510Z"
   },
   {
    "duration": 22,
    "start_time": "2022-05-24T20:24:46.573Z"
   },
   {
    "duration": 11,
    "start_time": "2022-05-24T20:24:46.596Z"
   },
   {
    "duration": 21,
    "start_time": "2022-05-24T20:24:46.609Z"
   },
   {
    "duration": 28,
    "start_time": "2022-05-24T20:24:46.632Z"
   },
   {
    "duration": 111,
    "start_time": "2022-05-24T20:24:46.661Z"
   },
   {
    "duration": 815,
    "start_time": "2022-05-24T20:24:46.773Z"
   },
   {
    "duration": 14,
    "start_time": "2022-05-24T20:24:47.589Z"
   },
   {
    "duration": 30,
    "start_time": "2022-05-24T20:24:47.604Z"
   },
   {
    "duration": 25,
    "start_time": "2022-05-24T20:24:47.638Z"
   },
   {
    "duration": 30,
    "start_time": "2022-05-24T20:24:47.664Z"
   },
   {
    "duration": 31728,
    "start_time": "2022-05-24T20:24:47.695Z"
   },
   {
    "duration": 25,
    "start_time": "2022-05-24T20:25:19.429Z"
   },
   {
    "duration": 12,
    "start_time": "2022-05-24T20:25:19.456Z"
   },
   {
    "duration": 171,
    "start_time": "2022-05-24T20:25:19.469Z"
   },
   {
    "duration": 29,
    "start_time": "2022-05-24T20:25:34.349Z"
   },
   {
    "duration": 16169,
    "start_time": "2022-05-24T20:26:01.438Z"
   },
   {
    "duration": 40,
    "start_time": "2022-05-24T20:26:32.415Z"
   },
   {
    "duration": 21,
    "start_time": "2022-05-24T20:28:08.362Z"
   },
   {
    "duration": 59,
    "start_time": "2022-05-24T20:28:26.497Z"
   },
   {
    "duration": 55,
    "start_time": "2022-06-03T20:43:23.493Z"
   },
   {
    "duration": 1328,
    "start_time": "2022-06-06T20:13:22.845Z"
   },
   {
    "duration": 180,
    "start_time": "2022-06-06T20:13:24.175Z"
   },
   {
    "duration": 30,
    "start_time": "2022-06-06T20:13:24.357Z"
   },
   {
    "duration": 23,
    "start_time": "2022-06-06T20:13:24.389Z"
   },
   {
    "duration": 17,
    "start_time": "2022-06-06T20:13:24.414Z"
   },
   {
    "duration": 18,
    "start_time": "2022-06-06T20:13:24.433Z"
   },
   {
    "duration": 8,
    "start_time": "2022-06-06T20:13:24.453Z"
   },
   {
    "duration": 15,
    "start_time": "2022-06-06T20:13:24.463Z"
   },
   {
    "duration": 37,
    "start_time": "2022-06-06T20:13:24.480Z"
   },
   {
    "duration": 19,
    "start_time": "2022-06-06T20:13:24.519Z"
   },
   {
    "duration": 19,
    "start_time": "2022-06-06T20:13:24.540Z"
   },
   {
    "duration": 149,
    "start_time": "2022-06-06T20:13:24.560Z"
   },
   {
    "duration": 0,
    "start_time": "2022-06-06T20:13:24.712Z"
   },
   {
    "duration": 0,
    "start_time": "2022-06-06T20:13:24.714Z"
   },
   {
    "duration": 0,
    "start_time": "2022-06-06T20:13:24.715Z"
   },
   {
    "duration": 0,
    "start_time": "2022-06-06T20:13:24.716Z"
   },
   {
    "duration": 0,
    "start_time": "2022-06-06T20:13:24.717Z"
   },
   {
    "duration": 0,
    "start_time": "2022-06-06T20:13:24.718Z"
   },
   {
    "duration": 0,
    "start_time": "2022-06-06T20:13:24.719Z"
   },
   {
    "duration": 0,
    "start_time": "2022-06-06T20:13:24.720Z"
   },
   {
    "duration": 0,
    "start_time": "2022-06-06T20:13:24.721Z"
   },
   {
    "duration": 0,
    "start_time": "2022-06-06T20:13:24.723Z"
   },
   {
    "duration": 0,
    "start_time": "2022-06-06T20:13:24.724Z"
   },
   {
    "duration": 0,
    "start_time": "2022-06-06T20:13:24.725Z"
   },
   {
    "duration": 0,
    "start_time": "2022-06-06T20:13:24.726Z"
   },
   {
    "duration": 0,
    "start_time": "2022-06-06T20:13:24.727Z"
   },
   {
    "duration": 0,
    "start_time": "2022-06-06T20:13:24.728Z"
   },
   {
    "duration": 0,
    "start_time": "2022-06-06T20:13:24.729Z"
   },
   {
    "duration": 0,
    "start_time": "2022-06-06T20:13:24.730Z"
   },
   {
    "duration": 0,
    "start_time": "2022-06-06T20:13:24.731Z"
   },
   {
    "duration": 0,
    "start_time": "2022-06-06T20:13:24.732Z"
   },
   {
    "duration": 0,
    "start_time": "2022-06-06T20:13:24.733Z"
   },
   {
    "duration": 0,
    "start_time": "2022-06-06T20:13:24.734Z"
   },
   {
    "duration": 0,
    "start_time": "2022-06-06T20:13:24.735Z"
   },
   {
    "duration": 0,
    "start_time": "2022-06-06T20:13:24.737Z"
   },
   {
    "duration": 0,
    "start_time": "2022-06-06T20:13:24.737Z"
   },
   {
    "duration": 0,
    "start_time": "2022-06-06T20:13:24.739Z"
   },
   {
    "duration": 0,
    "start_time": "2022-06-06T20:13:24.740Z"
   },
   {
    "duration": 3,
    "start_time": "2022-06-06T20:14:50.895Z"
   },
   {
    "duration": 199,
    "start_time": "2022-06-06T20:14:54.091Z"
   },
   {
    "duration": 43,
    "start_time": "2022-06-06T20:15:03.473Z"
   },
   {
    "duration": 16702,
    "start_time": "2022-06-06T20:15:03.518Z"
   },
   {
    "duration": 35,
    "start_time": "2022-06-06T20:15:20.222Z"
   },
   {
    "duration": 54,
    "start_time": "2022-06-06T20:15:20.260Z"
   },
   {
    "duration": 40,
    "start_time": "2022-06-06T20:15:20.317Z"
   },
   {
    "duration": 16,
    "start_time": "2022-06-06T20:15:20.359Z"
   },
   {
    "duration": 386,
    "start_time": "2022-06-06T20:15:20.377Z"
   },
   {
    "duration": 7,
    "start_time": "2022-06-06T20:15:20.765Z"
   },
   {
    "duration": 344,
    "start_time": "2022-06-06T20:15:20.773Z"
   },
   {
    "duration": 329,
    "start_time": "2022-06-06T20:15:21.119Z"
   },
   {
    "duration": 279,
    "start_time": "2022-06-06T20:15:21.450Z"
   },
   {
    "duration": 282,
    "start_time": "2022-06-06T20:15:21.732Z"
   },
   {
    "duration": 339,
    "start_time": "2022-06-06T20:15:22.016Z"
   },
   {
    "duration": 9,
    "start_time": "2022-06-06T20:15:22.358Z"
   },
   {
    "duration": 373,
    "start_time": "2022-06-06T20:15:22.369Z"
   },
   {
    "duration": 7,
    "start_time": "2022-06-06T20:15:22.744Z"
   },
   {
    "duration": 363,
    "start_time": "2022-06-06T20:15:22.753Z"
   },
   {
    "duration": 250,
    "start_time": "2022-06-06T20:15:23.118Z"
   },
   {
    "duration": 353,
    "start_time": "2022-06-06T20:15:23.370Z"
   },
   {
    "duration": 14,
    "start_time": "2022-06-06T20:15:23.725Z"
   },
   {
    "duration": 245,
    "start_time": "2022-06-06T20:15:23.741Z"
   },
   {
    "duration": 12,
    "start_time": "2022-06-06T20:15:23.988Z"
   },
   {
    "duration": 15,
    "start_time": "2022-06-06T20:15:24.004Z"
   },
   {
    "duration": 8,
    "start_time": "2022-06-06T20:15:24.021Z"
   },
   {
    "duration": 8,
    "start_time": "2022-06-06T20:15:24.030Z"
   },
   {
    "duration": 4,
    "start_time": "2022-06-06T20:18:17.348Z"
   },
   {
    "duration": 78,
    "start_time": "2022-06-06T20:18:17.354Z"
   },
   {
    "duration": 33,
    "start_time": "2022-06-06T20:18:17.434Z"
   },
   {
    "duration": 19,
    "start_time": "2022-06-06T20:18:17.469Z"
   },
   {
    "duration": 30,
    "start_time": "2022-06-06T20:18:17.507Z"
   },
   {
    "duration": 17,
    "start_time": "2022-06-06T20:18:17.539Z"
   },
   {
    "duration": 6,
    "start_time": "2022-06-06T20:18:17.558Z"
   },
   {
    "duration": 14,
    "start_time": "2022-06-06T20:18:17.565Z"
   },
   {
    "duration": 42,
    "start_time": "2022-06-06T20:18:17.581Z"
   },
   {
    "duration": 16,
    "start_time": "2022-06-06T20:18:17.625Z"
   },
   {
    "duration": 19,
    "start_time": "2022-06-06T20:18:17.644Z"
   },
   {
    "duration": 4,
    "start_time": "2022-06-06T20:18:17.664Z"
   },
   {
    "duration": 220,
    "start_time": "2022-06-06T20:18:17.670Z"
   },
   {
    "duration": 39,
    "start_time": "2022-06-06T20:18:17.892Z"
   },
   {
    "duration": 16429,
    "start_time": "2022-06-06T20:18:17.933Z"
   },
   {
    "duration": 52,
    "start_time": "2022-06-06T20:18:34.363Z"
   },
   {
    "duration": 19,
    "start_time": "2022-06-06T20:18:34.417Z"
   },
   {
    "duration": 43,
    "start_time": "2022-06-06T20:18:46.749Z"
   },
   {
    "duration": 28,
    "start_time": "2022-06-06T20:18:46.794Z"
   },
   {
    "duration": 331,
    "start_time": "2022-06-06T20:18:46.823Z"
   },
   {
    "duration": 9,
    "start_time": "2022-06-06T20:18:47.155Z"
   },
   {
    "duration": 479,
    "start_time": "2022-06-06T20:18:47.166Z"
   },
   {
    "duration": 378,
    "start_time": "2022-06-06T20:18:47.646Z"
   },
   {
    "duration": 310,
    "start_time": "2022-06-06T20:18:48.025Z"
   },
   {
    "duration": 418,
    "start_time": "2022-06-06T20:18:48.337Z"
   },
   {
    "duration": 456,
    "start_time": "2022-06-06T20:18:48.757Z"
   },
   {
    "duration": 12,
    "start_time": "2022-06-06T20:18:49.217Z"
   },
   {
    "duration": 362,
    "start_time": "2022-06-06T20:18:49.231Z"
   },
   {
    "duration": 15,
    "start_time": "2022-06-06T20:18:49.595Z"
   },
   {
    "duration": 268,
    "start_time": "2022-06-06T20:18:49.612Z"
   },
   {
    "duration": 277,
    "start_time": "2022-06-06T20:18:49.884Z"
   },
   {
    "duration": 368,
    "start_time": "2022-06-06T20:18:50.163Z"
   },
   {
    "duration": 16,
    "start_time": "2022-06-06T20:18:50.533Z"
   },
   {
    "duration": 289,
    "start_time": "2022-06-06T20:18:50.551Z"
   },
   {
    "duration": 7,
    "start_time": "2022-06-06T20:18:50.842Z"
   },
   {
    "duration": 9,
    "start_time": "2022-06-06T20:18:50.850Z"
   },
   {
    "duration": 10,
    "start_time": "2022-06-06T20:18:50.861Z"
   },
   {
    "duration": 10,
    "start_time": "2022-06-06T20:18:50.873Z"
   },
   {
    "duration": 3,
    "start_time": "2022-06-06T20:29:15.186Z"
   },
   {
    "duration": 62,
    "start_time": "2022-06-06T20:29:15.191Z"
   },
   {
    "duration": 36,
    "start_time": "2022-06-06T20:29:15.255Z"
   },
   {
    "duration": 27,
    "start_time": "2022-06-06T20:29:15.294Z"
   },
   {
    "duration": 21,
    "start_time": "2022-06-06T20:29:15.322Z"
   },
   {
    "duration": 18,
    "start_time": "2022-06-06T20:29:15.345Z"
   },
   {
    "duration": 6,
    "start_time": "2022-06-06T20:29:15.365Z"
   },
   {
    "duration": 53,
    "start_time": "2022-06-06T20:29:15.372Z"
   },
   {
    "duration": 16,
    "start_time": "2022-06-06T20:29:15.427Z"
   },
   {
    "duration": 19,
    "start_time": "2022-06-06T20:29:15.445Z"
   },
   {
    "duration": 38,
    "start_time": "2022-06-06T20:29:15.466Z"
   },
   {
    "duration": 5,
    "start_time": "2022-06-06T20:29:15.511Z"
   },
   {
    "duration": 195,
    "start_time": "2022-06-06T20:29:15.518Z"
   },
   {
    "duration": 32,
    "start_time": "2022-06-06T20:29:15.715Z"
   },
   {
    "duration": 17427,
    "start_time": "2022-06-06T20:29:15.749Z"
   },
   {
    "duration": 43,
    "start_time": "2022-06-06T20:29:33.178Z"
   },
   {
    "duration": 18,
    "start_time": "2022-06-06T20:29:33.222Z"
   },
   {
    "duration": 63,
    "start_time": "2022-06-06T20:29:33.242Z"
   },
   {
    "duration": 19,
    "start_time": "2022-06-06T20:29:33.307Z"
   },
   {
    "duration": 334,
    "start_time": "2022-06-06T20:29:33.328Z"
   },
   {
    "duration": 7,
    "start_time": "2022-06-06T20:29:33.664Z"
   },
   {
    "duration": 379,
    "start_time": "2022-06-06T20:29:33.673Z"
   },
   {
    "duration": 374,
    "start_time": "2022-06-06T20:29:34.054Z"
   },
   {
    "duration": 298,
    "start_time": "2022-06-06T20:29:34.431Z"
   },
   {
    "duration": 424,
    "start_time": "2022-06-06T20:29:34.731Z"
   },
   {
    "duration": 414,
    "start_time": "2022-06-06T20:29:35.157Z"
   },
   {
    "duration": 10,
    "start_time": "2022-06-06T20:29:35.573Z"
   },
   {
    "duration": 341,
    "start_time": "2022-06-06T20:29:35.584Z"
   },
   {
    "duration": 7,
    "start_time": "2022-06-06T20:29:35.927Z"
   },
   {
    "duration": 281,
    "start_time": "2022-06-06T20:29:35.936Z"
   },
   {
    "duration": 294,
    "start_time": "2022-06-06T20:29:36.219Z"
   },
   {
    "duration": 349,
    "start_time": "2022-06-06T20:29:36.515Z"
   },
   {
    "duration": 14,
    "start_time": "2022-06-06T20:29:36.866Z"
   },
   {
    "duration": 255,
    "start_time": "2022-06-06T20:29:36.882Z"
   },
   {
    "duration": 8,
    "start_time": "2022-06-06T20:29:37.139Z"
   },
   {
    "duration": 20,
    "start_time": "2022-06-06T20:29:37.149Z"
   },
   {
    "duration": 11,
    "start_time": "2022-06-06T20:29:37.171Z"
   },
   {
    "duration": 25,
    "start_time": "2022-06-06T20:29:37.185Z"
   },
   {
    "duration": 29,
    "start_time": "2022-06-06T20:31:36.714Z"
   },
   {
    "duration": 41,
    "start_time": "2022-06-06T20:31:42.685Z"
   },
   {
    "duration": 35,
    "start_time": "2022-06-06T20:37:18.074Z"
   },
   {
    "duration": 38,
    "start_time": "2022-06-06T20:37:28.581Z"
   },
   {
    "duration": 5,
    "start_time": "2022-06-06T20:38:25.623Z"
   },
   {
    "duration": 3,
    "start_time": "2022-06-06T20:41:07.669Z"
   },
   {
    "duration": 70,
    "start_time": "2022-06-06T20:41:07.674Z"
   },
   {
    "duration": 31,
    "start_time": "2022-06-06T20:41:07.746Z"
   },
   {
    "duration": 16,
    "start_time": "2022-06-06T20:41:07.812Z"
   },
   {
    "duration": 18,
    "start_time": "2022-06-06T20:41:07.830Z"
   },
   {
    "duration": 19,
    "start_time": "2022-06-06T20:41:07.850Z"
   },
   {
    "duration": 40,
    "start_time": "2022-06-06T20:41:07.871Z"
   },
   {
    "duration": 17,
    "start_time": "2022-06-06T20:41:07.913Z"
   },
   {
    "duration": 17,
    "start_time": "2022-06-06T20:41:07.934Z"
   },
   {
    "duration": 20,
    "start_time": "2022-06-06T20:41:07.953Z"
   },
   {
    "duration": 54,
    "start_time": "2022-06-06T20:41:07.974Z"
   },
   {
    "duration": 4,
    "start_time": "2022-06-06T20:41:08.031Z"
   },
   {
    "duration": 215,
    "start_time": "2022-06-06T20:41:08.037Z"
   },
   {
    "duration": 32,
    "start_time": "2022-06-06T20:41:08.254Z"
   },
   {
    "duration": 17140,
    "start_time": "2022-06-06T20:41:08.288Z"
   },
   {
    "duration": 32,
    "start_time": "2022-06-06T20:41:25.430Z"
   },
   {
    "duration": 41,
    "start_time": "2022-06-06T20:41:25.464Z"
   },
   {
    "duration": 46,
    "start_time": "2022-06-06T20:41:25.510Z"
   },
   {
    "duration": 18,
    "start_time": "2022-06-06T20:41:25.559Z"
   },
   {
    "duration": 356,
    "start_time": "2022-06-06T20:41:25.578Z"
   },
   {
    "duration": 8,
    "start_time": "2022-06-06T20:41:25.936Z"
   },
   {
    "duration": 392,
    "start_time": "2022-06-06T20:41:25.945Z"
   },
   {
    "duration": 399,
    "start_time": "2022-06-06T20:41:26.340Z"
   },
   {
    "duration": 335,
    "start_time": "2022-06-06T20:41:26.742Z"
   },
   {
    "duration": 537,
    "start_time": "2022-06-06T20:41:27.079Z"
   },
   {
    "duration": 444,
    "start_time": "2022-06-06T20:41:27.617Z"
   },
   {
    "duration": 10,
    "start_time": "2022-06-06T20:41:28.063Z"
   },
   {
    "duration": 362,
    "start_time": "2022-06-06T20:41:28.075Z"
   },
   {
    "duration": 7,
    "start_time": "2022-06-06T20:41:28.438Z"
   },
   {
    "duration": 286,
    "start_time": "2022-06-06T20:41:28.447Z"
   },
   {
    "duration": 277,
    "start_time": "2022-06-06T20:41:28.736Z"
   },
   {
    "duration": 347,
    "start_time": "2022-06-06T20:41:29.015Z"
   },
   {
    "duration": 15,
    "start_time": "2022-06-06T20:41:29.364Z"
   },
   {
    "duration": 255,
    "start_time": "2022-06-06T20:41:29.380Z"
   },
   {
    "duration": 9,
    "start_time": "2022-06-06T20:41:29.637Z"
   },
   {
    "duration": 12,
    "start_time": "2022-06-06T20:41:29.647Z"
   },
   {
    "duration": 8,
    "start_time": "2022-06-06T20:41:29.661Z"
   },
   {
    "duration": 43,
    "start_time": "2022-06-06T20:41:29.671Z"
   },
   {
    "duration": 13,
    "start_time": "2022-06-06T20:41:59.056Z"
   },
   {
    "duration": 13,
    "start_time": "2022-06-06T20:42:08.613Z"
   },
   {
    "duration": 1459,
    "start_time": "2022-06-10T13:51:13.486Z"
   },
   {
    "duration": 181,
    "start_time": "2022-06-10T13:51:14.947Z"
   },
   {
    "duration": 40,
    "start_time": "2022-06-10T13:51:15.130Z"
   },
   {
    "duration": 17,
    "start_time": "2022-06-10T13:51:15.174Z"
   },
   {
    "duration": 21,
    "start_time": "2022-06-10T13:51:15.193Z"
   },
   {
    "duration": 59,
    "start_time": "2022-06-10T13:51:15.216Z"
   },
   {
    "duration": 13,
    "start_time": "2022-06-10T13:51:15.278Z"
   },
   {
    "duration": 27,
    "start_time": "2022-06-10T13:51:15.293Z"
   },
   {
    "duration": 15,
    "start_time": "2022-06-10T13:51:15.322Z"
   },
   {
    "duration": 46,
    "start_time": "2022-06-10T13:51:15.339Z"
   },
   {
    "duration": 18,
    "start_time": "2022-06-10T13:51:15.387Z"
   },
   {
    "duration": 6,
    "start_time": "2022-06-10T13:51:15.406Z"
   },
   {
    "duration": 219,
    "start_time": "2022-06-10T13:51:15.414Z"
   },
   {
    "duration": 48,
    "start_time": "2022-06-10T13:51:15.635Z"
   },
   {
    "duration": 17125,
    "start_time": "2022-06-10T13:51:15.684Z"
   },
   {
    "duration": 46,
    "start_time": "2022-06-10T13:51:32.811Z"
   },
   {
    "duration": 25,
    "start_time": "2022-06-10T13:51:32.860Z"
   },
   {
    "duration": 40,
    "start_time": "2022-06-10T13:51:32.887Z"
   },
   {
    "duration": 39,
    "start_time": "2022-06-10T13:51:32.928Z"
   },
   {
    "duration": 261,
    "start_time": "2022-06-10T13:51:32.969Z"
   },
   {
    "duration": 8,
    "start_time": "2022-06-10T13:51:33.232Z"
   },
   {
    "duration": 327,
    "start_time": "2022-06-10T13:51:33.242Z"
   },
   {
    "duration": 351,
    "start_time": "2022-06-10T13:51:33.572Z"
   },
   {
    "duration": 275,
    "start_time": "2022-06-10T13:51:33.925Z"
   },
   {
    "duration": 286,
    "start_time": "2022-06-10T13:51:34.201Z"
   },
   {
    "duration": 330,
    "start_time": "2022-06-10T13:51:41.039Z"
   },
   {
    "duration": 9,
    "start_time": "2022-06-10T13:51:44.692Z"
   },
   {
    "duration": 368,
    "start_time": "2022-06-10T13:51:47.887Z"
   },
   {
    "duration": 1144,
    "start_time": "2022-06-13T20:27:35.243Z"
   },
   {
    "duration": 187,
    "start_time": "2022-06-13T20:27:36.389Z"
   },
   {
    "duration": 33,
    "start_time": "2022-06-13T20:27:36.578Z"
   },
   {
    "duration": 15,
    "start_time": "2022-06-13T20:27:36.613Z"
   },
   {
    "duration": 17,
    "start_time": "2022-06-13T20:27:36.630Z"
   },
   {
    "duration": 18,
    "start_time": "2022-06-13T20:27:36.649Z"
   },
   {
    "duration": 11,
    "start_time": "2022-06-13T20:27:36.670Z"
   },
   {
    "duration": 16,
    "start_time": "2022-06-13T20:27:36.682Z"
   },
   {
    "duration": 41,
    "start_time": "2022-06-13T20:27:36.699Z"
   },
   {
    "duration": 28,
    "start_time": "2022-06-13T20:27:36.743Z"
   },
   {
    "duration": 22,
    "start_time": "2022-06-13T20:27:36.773Z"
   },
   {
    "duration": 2,
    "start_time": "2022-06-13T20:27:36.797Z"
   },
   {
    "duration": 171,
    "start_time": "2022-06-13T20:27:36.800Z"
   },
   {
    "duration": 24,
    "start_time": "2022-06-13T20:27:36.973Z"
   },
   {
    "duration": 33,
    "start_time": "2022-06-13T20:27:42.777Z"
   },
   {
    "duration": 17,
    "start_time": "2022-06-13T20:28:00.269Z"
   },
   {
    "duration": 36,
    "start_time": "2022-06-13T20:28:06.009Z"
   },
   {
    "duration": 16,
    "start_time": "2022-06-13T20:28:11.665Z"
   },
   {
    "duration": 204,
    "start_time": "2022-06-13T20:28:19.983Z"
   },
   {
    "duration": 8,
    "start_time": "2022-06-13T20:30:17.008Z"
   },
   {
    "duration": 240,
    "start_time": "2022-06-13T20:30:20.232Z"
   },
   {
    "duration": 284,
    "start_time": "2022-06-13T20:32:28.613Z"
   },
   {
    "duration": 208,
    "start_time": "2022-06-13T20:33:01.770Z"
   },
   {
    "duration": 227,
    "start_time": "2022-06-13T20:33:12.571Z"
   },
   {
    "duration": 230,
    "start_time": "2022-06-13T20:34:10.831Z"
   },
   {
    "duration": 11,
    "start_time": "2022-06-13T20:37:50.799Z"
   },
   {
    "duration": 9,
    "start_time": "2022-06-13T20:38:03.576Z"
   },
   {
    "duration": 3,
    "start_time": "2022-06-13T20:38:09.849Z"
   },
   {
    "duration": 11,
    "start_time": "2022-06-13T20:38:19.530Z"
   },
   {
    "duration": 318,
    "start_time": "2022-06-13T20:40:07.152Z"
   },
   {
    "duration": 6,
    "start_time": "2022-06-13T20:41:21.894Z"
   },
   {
    "duration": 190,
    "start_time": "2022-06-13T20:41:27.363Z"
   },
   {
    "duration": 185,
    "start_time": "2022-06-13T20:41:35.485Z"
   },
   {
    "duration": 236,
    "start_time": "2022-06-13T20:41:48.892Z"
   },
   {
    "duration": 12,
    "start_time": "2022-06-13T20:41:54.553Z"
   },
   {
    "duration": 164,
    "start_time": "2022-06-13T20:41:58.171Z"
   },
   {
    "duration": 7,
    "start_time": "2022-06-13T20:45:20.767Z"
   },
   {
    "duration": 85,
    "start_time": "2022-06-13T20:49:45.804Z"
   },
   {
    "duration": 14,
    "start_time": "2022-06-13T20:50:02.112Z"
   },
   {
    "duration": 13,
    "start_time": "2022-06-13T20:51:36.368Z"
   },
   {
    "duration": 10,
    "start_time": "2022-06-13T20:54:08.257Z"
   },
   {
    "duration": 14,
    "start_time": "2022-06-13T20:56:46.723Z"
   },
   {
    "duration": 13,
    "start_time": "2022-06-13T20:58:33.412Z"
   },
   {
    "duration": 14,
    "start_time": "2022-06-13T20:59:01.137Z"
   },
   {
    "duration": 11,
    "start_time": "2022-06-13T20:59:14.081Z"
   },
   {
    "duration": 48,
    "start_time": "2022-06-15T15:37:23.324Z"
   },
   {
    "duration": 26,
    "start_time": "2022-06-15T15:37:35.811Z"
   }
  ],
  "kernelspec": {
   "display_name": "Python 3 (ipykernel)",
   "language": "python",
   "name": "python3"
  },
  "language_info": {
   "codemirror_mode": {
    "name": "ipython",
    "version": 3
   },
   "file_extension": ".py",
   "mimetype": "text/x-python",
   "name": "python",
   "nbconvert_exporter": "python",
   "pygments_lexer": "ipython3",
   "version": "3.9.12"
  },
  "toc": {
   "base_numbering": 1,
   "nav_menu": {},
   "number_sections": true,
   "sideBar": true,
   "skip_h1_title": true,
   "title_cell": "Table of Contents",
   "title_sidebar": "Contents",
   "toc_cell": false,
   "toc_position": {},
   "toc_section_display": true,
   "toc_window_display": false
  }
 },
 "nbformat": 4,
 "nbformat_minor": 2
}
