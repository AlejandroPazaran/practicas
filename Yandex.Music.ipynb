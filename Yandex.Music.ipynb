{
 "cells": [
  {
   "cell_type": "markdown",
   "metadata": {
    "id": "E0vqbgi9ay0H"
   },
   "source": [
    "# Yandex.Music"
   ]
  },
  {
   "cell_type": "markdown",
   "metadata": {
    "id": "fhq_eyov_Zcs"
   },
   "source": [
    "# Contents <a id='back'></a>\n",
    "\n",
    "* [Introducción](#intro)\n",
    "* [Etapa 1. Descripción de los datos](#data_review)\n",
    "    * [Conclusions](#data_review_conclusions)\n",
    "* [Etapa 2. Data preprocessing](#data_preprocessing)\n",
    "    * [2.1 Estilo del encabezado](#header_style)\n",
    "    * [2.2 Valores ausentes](#missing_values)\n",
    "    * [2.3 Duplicados](#duplicates)\n",
    "    * [2.4 Conclusiones](#data_preprocessing_conclusions)\n",
    "* [Etapa 3. Prueba de hipótesis](#hypotheses)\n",
    "    * [3.1 Hipótesis 1: comparar el comportamiento del usuario en las dos ciudades](#activity)\n",
    "    * [3.2 Hipótesis 2: música al principio y al final de la semana](#week)\n",
    "    * [3.3 Hipótesis 3: preferencias de género en Springfield y Shelbyville](#genre)\n",
    "* [Conclusiones](#end)"
   ]
  },
  {
   "cell_type": "markdown",
   "metadata": {
    "id": "VUC88oWjTJw2"
   },
   "source": [
    "## Introducción <a id='intro'></a>\n",
    "Siempre que investiguemos, necesitamos formular hipótesis que después podamos probar. A veces aceptamos estas hipótesis; otras, las rechazamos. Para tomar las decisiones correctas, una empresa debe ser capaz de entender si está haciendo las suposiciones correctas.\n",
    "\n",
    "En este proyecto, compararás las preferencias musicales de las ciudades de Springfield y Shelbyville. Estudiarás datos reales de Yandex.Music para probar las hipótesis de abajo y comparar el comportamiento del usuario de esas dos ciudades.\n",
    "\n",
    "### Objetivo: \n",
    "Prueba tres hipótesis: \n",
    "1. La actividad de los usuarios difiere según el día de la semana y dependiendo de la ciudad. \n",
    "2. Los lunes por la mañana, los habitantes de Springfield y Shelbyville escuchan diferentes géneros. Lo mismo ocurre con los viernes por la noche. \n",
    "3. Los oyentes de Springfield y Shelbyville tienen preferencias distintas. En Springfield prefieren el pop, mientras que en Shelbyville hay más aficionados al rap.\n",
    "\n",
    "### Etapas \n",
    "Los datos del comportamiento del usuario se almacenan en el archivo `/datasets/music_project_en.csv`. No hay ninguna información sobre la calidad de los datos, así que necesitarás examinarlos antes de probar las hipótesis. \n",
    "\n",
    "Primero, evaluarás la calidad de los datos y verás si los problemas son significativos. Entonces, durante el preprocesamiento de datos, tomarás en cuenta los problemas más críticos.\n",
    " \n",
    "Tu proyecto consistirá en tres etapas:\n",
    " 1. Descripción de los datos\n",
    " 2. Preprocesamiento de datos\n",
    " 3. Prueba de hipótesis\n",
    " \n",
    "[Volver a Contenidos](#back)"
   ]
  },
  {
   "cell_type": "markdown",
   "metadata": {
    "id": "Ml1hmfXC_Zcs"
   },
   "source": [
    "## Etapa 1. Descripción de los datos <a id='data_review'></a>\n",
    "\n",
    "Abre los datos en Yandex.Music y examínalos."
   ]
  },
  {
   "cell_type": "markdown",
   "metadata": {
    "id": "57eAOGIz_Zcs"
   },
   "source": [
    "Necesitarás `pandas`, así que impórtalo."
   ]
  },
  {
   "cell_type": "code",
   "execution_count": 82,
   "metadata": {
    "id": "AXN7PHPN_Zcs"
   },
   "outputs": [],
   "source": [
    "# importando pandas\n",
    "import pandas as pd"
   ]
  },
  {
   "cell_type": "markdown",
   "metadata": {
    "id": "SG23P8tt_Zcs"
   },
   "source": [
    "Lee el archivo `music_project_en.csv` de la carpeta `/datasets/` y guárdalo en la variable `df`:"
   ]
  },
  {
   "cell_type": "code",
   "execution_count": 83,
   "metadata": {
    "id": "fFVu7vqh_Zct"
   },
   "outputs": [],
   "source": [
    "# leyendo el archivo y almacenándolo en dfdf.describe()\n",
    "df = pd.read_csv('/datasets/music_project_en.csv')"
   ]
  },
  {
   "cell_type": "markdown",
   "metadata": {
    "id": "rDoOMd3uTqnZ"
   },
   "source": [
    "Imprime las 10 primeras filas de la tabla:"
   ]
  },
  {
   "cell_type": "code",
   "execution_count": 84,
   "metadata": {
    "id": "oWTVX3gW_Zct"
   },
   "outputs": [
    {
     "data": {
      "text/html": [
       "<div>\n",
       "<style scoped>\n",
       "    .dataframe tbody tr th:only-of-type {\n",
       "        vertical-align: middle;\n",
       "    }\n",
       "\n",
       "    .dataframe tbody tr th {\n",
       "        vertical-align: top;\n",
       "    }\n",
       "\n",
       "    .dataframe thead th {\n",
       "        text-align: right;\n",
       "    }\n",
       "</style>\n",
       "<table border=\"1\" class=\"dataframe\">\n",
       "  <thead>\n",
       "    <tr style=\"text-align: right;\">\n",
       "      <th></th>\n",
       "      <th>userID</th>\n",
       "      <th>Track</th>\n",
       "      <th>artist</th>\n",
       "      <th>genre</th>\n",
       "      <th>City</th>\n",
       "      <th>time</th>\n",
       "      <th>Day</th>\n",
       "    </tr>\n",
       "  </thead>\n",
       "  <tbody>\n",
       "    <tr>\n",
       "      <td>0</td>\n",
       "      <td>FFB692EC</td>\n",
       "      <td>Kamigata To Boots</td>\n",
       "      <td>The Mass Missile</td>\n",
       "      <td>rock</td>\n",
       "      <td>Shelbyville</td>\n",
       "      <td>20:28:33</td>\n",
       "      <td>Wednesday</td>\n",
       "    </tr>\n",
       "    <tr>\n",
       "      <td>1</td>\n",
       "      <td>55204538</td>\n",
       "      <td>Delayed Because of Accident</td>\n",
       "      <td>Andreas Rönnberg</td>\n",
       "      <td>rock</td>\n",
       "      <td>Springfield</td>\n",
       "      <td>14:07:09</td>\n",
       "      <td>Friday</td>\n",
       "    </tr>\n",
       "    <tr>\n",
       "      <td>2</td>\n",
       "      <td>20EC38</td>\n",
       "      <td>Funiculì funiculà</td>\n",
       "      <td>Mario Lanza</td>\n",
       "      <td>pop</td>\n",
       "      <td>Shelbyville</td>\n",
       "      <td>20:58:07</td>\n",
       "      <td>Wednesday</td>\n",
       "    </tr>\n",
       "    <tr>\n",
       "      <td>3</td>\n",
       "      <td>A3DD03C9</td>\n",
       "      <td>Dragons in the Sunset</td>\n",
       "      <td>Fire + Ice</td>\n",
       "      <td>folk</td>\n",
       "      <td>Shelbyville</td>\n",
       "      <td>08:37:09</td>\n",
       "      <td>Monday</td>\n",
       "    </tr>\n",
       "    <tr>\n",
       "      <td>4</td>\n",
       "      <td>E2DC1FAE</td>\n",
       "      <td>Soul People</td>\n",
       "      <td>Space Echo</td>\n",
       "      <td>dance</td>\n",
       "      <td>Springfield</td>\n",
       "      <td>08:34:34</td>\n",
       "      <td>Monday</td>\n",
       "    </tr>\n",
       "    <tr>\n",
       "      <td>5</td>\n",
       "      <td>842029A1</td>\n",
       "      <td>Chains</td>\n",
       "      <td>Obladaet</td>\n",
       "      <td>rusrap</td>\n",
       "      <td>Shelbyville</td>\n",
       "      <td>13:09:41</td>\n",
       "      <td>Friday</td>\n",
       "    </tr>\n",
       "    <tr>\n",
       "      <td>6</td>\n",
       "      <td>4CB90AA5</td>\n",
       "      <td>True</td>\n",
       "      <td>Roman Messer</td>\n",
       "      <td>dance</td>\n",
       "      <td>Springfield</td>\n",
       "      <td>13:00:07</td>\n",
       "      <td>Wednesday</td>\n",
       "    </tr>\n",
       "    <tr>\n",
       "      <td>7</td>\n",
       "      <td>F03E1C1F</td>\n",
       "      <td>Feeling This Way</td>\n",
       "      <td>Polina Griffith</td>\n",
       "      <td>dance</td>\n",
       "      <td>Springfield</td>\n",
       "      <td>20:47:49</td>\n",
       "      <td>Wednesday</td>\n",
       "    </tr>\n",
       "    <tr>\n",
       "      <td>8</td>\n",
       "      <td>8FA1D3BE</td>\n",
       "      <td>L’estate</td>\n",
       "      <td>Julia Dalia</td>\n",
       "      <td>ruspop</td>\n",
       "      <td>Springfield</td>\n",
       "      <td>09:17:40</td>\n",
       "      <td>Friday</td>\n",
       "    </tr>\n",
       "    <tr>\n",
       "      <td>9</td>\n",
       "      <td>E772D5C0</td>\n",
       "      <td>Pessimist</td>\n",
       "      <td>NaN</td>\n",
       "      <td>dance</td>\n",
       "      <td>Shelbyville</td>\n",
       "      <td>21:20:49</td>\n",
       "      <td>Wednesday</td>\n",
       "    </tr>\n",
       "  </tbody>\n",
       "</table>\n",
       "</div>"
      ],
      "text/plain": [
       "     userID                        Track            artist   genre  \\\n",
       "0  FFB692EC            Kamigata To Boots  The Mass Missile    rock   \n",
       "1  55204538  Delayed Because of Accident  Andreas Rönnberg    rock   \n",
       "2    20EC38            Funiculì funiculà       Mario Lanza     pop   \n",
       "3  A3DD03C9        Dragons in the Sunset        Fire + Ice    folk   \n",
       "4  E2DC1FAE                  Soul People        Space Echo   dance   \n",
       "5  842029A1                       Chains          Obladaet  rusrap   \n",
       "6  4CB90AA5                         True      Roman Messer   dance   \n",
       "7  F03E1C1F             Feeling This Way   Polina Griffith   dance   \n",
       "8  8FA1D3BE                     L’estate       Julia Dalia  ruspop   \n",
       "9  E772D5C0                    Pessimist               NaN   dance   \n",
       "\n",
       "        City        time        Day  \n",
       "0  Shelbyville  20:28:33  Wednesday  \n",
       "1  Springfield  14:07:09     Friday  \n",
       "2  Shelbyville  20:58:07  Wednesday  \n",
       "3  Shelbyville  08:37:09     Monday  \n",
       "4  Springfield  08:34:34     Monday  \n",
       "5  Shelbyville  13:09:41     Friday  \n",
       "6  Springfield  13:00:07  Wednesday  \n",
       "7  Springfield  20:47:49  Wednesday  \n",
       "8  Springfield  09:17:40     Friday  \n",
       "9  Shelbyville  21:20:49  Wednesday  "
      ]
     },
     "execution_count": 84,
     "metadata": {},
     "output_type": "execute_result"
    }
   ],
   "source": [
    "# obteniendo las 10 primeras filas de la tabla df\n",
    "df.head(10)"
   ]
  },
  {
   "cell_type": "markdown",
   "metadata": {
    "id": "EO73Kwic_Zct"
   },
   "source": [
    "Obtener la información general sobre la tabla con un comando:"
   ]
  },
  {
   "cell_type": "code",
   "execution_count": 85,
   "metadata": {
    "id": "DSf2kIb-_Zct"
   },
   "outputs": [
    {
     "name": "stdout",
     "output_type": "stream",
     "text": [
      "<class 'pandas.core.frame.DataFrame'>\n",
      "RangeIndex: 65079 entries, 0 to 65078\n",
      "Data columns (total 7 columns):\n",
      "  userID    65079 non-null object\n",
      "Track       63736 non-null object\n",
      "artist      57512 non-null object\n",
      "genre       63881 non-null object\n",
      "  City      65079 non-null object\n",
      "time        65079 non-null object\n",
      "Day         65079 non-null object\n",
      "dtypes: object(7)\n",
      "memory usage: 3.5+ MB\n"
     ]
    }
   ],
   "source": [
    "# obteniendo información general sobre los datos en df\n",
    "df.info()"
   ]
  },
  {
   "cell_type": "markdown",
   "metadata": {
    "id": "TaQ2Iwbr_Zct"
   },
   "source": [
    "La tabla contiene siete columnas. Todas almacenan el mismo tipo de datos: objeto.\n",
    "\n",
    "De acuerdo con la documentación:\n",
    "- `'userID'` — identificador del usuario\n",
    "- `'Track'` — título de la pista\n",
    "- `'artist'` — nombre del artista\n",
    "- `'genre'` — género\n",
    "- `'City'` — ciudad del usuario\n",
    "- `'time'` — el periodo de tiempo exacto en que se reprodujo la pista\n",
    "- `'Day'` — día de la semana\n",
    "\n",
    "Podemos ver tres problemas con el estilo en los nombres de las columnas:\n",
    "1. Algunos nombres están en mayúsculas, otros en minúsculas.\n",
    "2. Hay algunos espacios en algunos nombres.\n",
    "3. Claridad en algunos nombres.\n",
    "\n",
    "El número de valores de las columnas es diferente. Esto significa que los datos contienen valores ausentes.\n"
   ]
  },
  {
   "cell_type": "markdown",
   "metadata": {
    "id": "MCB6-dXG_Zct"
   },
   "source": [
    "### Conclusiones <a id='data_review_conclusions'></a> \n",
    "\n",
    "Cada fila de la tabla almacena datos de la pista que fue reproducida. Algunas columnas describen la pista en sí: su título, el artista y el género. El resto transmite la información del usuario: la ciudad de la que viene, el tiempo que ha reproducido la pista. \n",
    "\n",
    "Está claro que los datos son suficientes para probar la hipótesis. Sin embargo, hay valores ausentes.\n",
    "\n",
    "Para continuar, necesitamos preprocesar los datos."
   ]
  },
  {
   "cell_type": "markdown",
   "metadata": {
    "id": "3eL__vcwViOi"
   },
   "source": [
    "[Volver a Contenidos](#back)"
   ]
  },
  {
   "cell_type": "markdown",
   "metadata": {
    "id": "SjYF6Ub9_Zct"
   },
   "source": [
    "## Etapa 2. Preprocesamiento de datos <a id='data_preprocessing'></a>\n",
    "Corrige el formato en los encabezados de las columnas y ocúpate de los valores ausentes. Después, comprueba si hay duplicados en los datos."
   ]
  },
  {
   "cell_type": "markdown",
   "metadata": {
    "id": "dIaKXr29_Zct"
   },
   "source": [
    "### Estilo del encabezado <a id='header_style'></a>\n",
    "Imprime el encabezado de la columna:"
   ]
  },
  {
   "cell_type": "code",
   "execution_count": 86,
   "metadata": {
    "id": "oKOTdF_Q_Zct"
   },
   "outputs": [
    {
     "data": {
      "text/plain": [
       "Index(['  userID', 'Track', 'artist', 'genre', '  City  ', 'time', 'Day'], dtype='object')"
      ]
     },
     "execution_count": 86,
     "metadata": {},
     "output_type": "execute_result"
    }
   ],
   "source": [
    "# la lista de los nombres de las columnas en la tabla df\n",
    "df.columns"
   ]
  },
  {
   "cell_type": "markdown",
   "metadata": {
    "id": "zj5534cv_Zct"
   },
   "source": [
    "Cambia los nombres de las columnas de acuerdo con las reglas del buen estilo:\n",
    "* Si el nombre tiene varias palabras, utiliza snake_case\n",
    "* Todos los caracteres deben ser minúsculas\n",
    "* Elimina los espacios"
   ]
  },
  {
   "cell_type": "code",
   "execution_count": 87,
   "metadata": {
    "id": "ISlFqs5y_Zct"
   },
   "outputs": [],
   "source": [
    "# renombra las columnas\n",
    "df=df.rename(columns=\n",
    "         {'  userID':'user_id',\n",
    "         'Track':'track_name', 'artist':'artist_name', 'genre':'genre_name', '  City  ':'user_city', 'time':'total_play_time', 'Day':'day_in_week'})"
   ]
  },
  {
   "cell_type": "markdown",
   "metadata": {
    "id": "1dqbh00J_Zct"
   },
   "source": [
    "Comprueba el resultado. Imprime los nombres de las columnas una vez más:"
   ]
  },
  {
   "cell_type": "code",
   "execution_count": 88,
   "metadata": {
    "id": "d4NOAmTW_Zct"
   },
   "outputs": [
    {
     "data": {
      "text/plain": [
       "Index(['user_id', 'track_name', 'artist_name', 'genre_name', 'user_city',\n",
       "       'total_play_time', 'day_in_week'],\n",
       "      dtype='object')"
      ]
     },
     "execution_count": 88,
     "metadata": {},
     "output_type": "execute_result"
    }
   ],
   "source": [
    "# comprobando el resultado: la lista de los nombres de las columnas\n",
    "df.columns"
   ]
  },
  {
   "cell_type": "markdown",
   "metadata": {
    "id": "xYJk6ksJVpOl"
   },
   "source": [
    "[Volver a Contenidos](#back)"
   ]
  },
  {
   "cell_type": "markdown",
   "metadata": {
    "id": "5ISfbcfY_Zct"
   },
   "source": [
    "### Valores ausentes <a id='missing_values'></a>\n",
    "Primero, encuentra el número de valores ausentes en la tabla. Para ello, utiliza dos métodos pandas:"
   ]
  },
  {
   "cell_type": "code",
   "execution_count": 89,
   "metadata": {
    "id": "RskX29qr_Zct"
   },
   "outputs": [
    {
     "name": "stdout",
     "output_type": "stream",
     "text": [
      "user_id               0\n",
      "track_name         1343\n",
      "artist_name        7567\n",
      "genre_name         1198\n",
      "user_city             0\n",
      "total_play_time       0\n",
      "day_in_week           0\n",
      "dtype: int64\n"
     ]
    },
    {
     "data": {
      "text/plain": [
       "user_id               0\n",
       "track_name         1343\n",
       "artist_name        7567\n",
       "genre_name         1198\n",
       "user_city             0\n",
       "total_play_time       0\n",
       "day_in_week           0\n",
       "dtype: int64"
      ]
     },
     "execution_count": 89,
     "metadata": {},
     "output_type": "execute_result"
    }
   ],
   "source": [
    "# calculando valores ausentes\n",
    "print(df.isna().sum())\n",
    "\n",
    "df.isnull().sum()"
   ]
  },
  {
   "cell_type": "markdown",
   "metadata": {
    "id": "qubhgnlO_Zct"
   },
   "source": [
    "No todos los valores ausentes afectan a la investigación. Por ejemplo, los valores ausentes en la pista y artista no son cruciales. Simplemente puedes reemplazarlos por marcadores claros.\n",
    "\n",
    "Pero los valores ausentes en 'genre' pueden afectar la comparación entre las preferencias musicales de Springfield y Shelbyville. En la vida real, sería útil saber las razones por las cuales hay datos ausentes e intentar recuperarlos. Pero no tenemos esa oportunidad en este proyecto. Así que tendrás que:\n",
    "* Rellenar esos valores ausentes con marcadores\n",
    "* Evaluar cuánto podrían afectar los valores ausentes a tus cómputos."
   ]
  },
  {
   "cell_type": "markdown",
   "metadata": {
    "id": "fSv2laPA_Zct"
   },
   "source": [
    "Reemplazar los valores ausentes en 'track', 'artist', y 'genre' con la cadena 'unknown'. Para ello, crea la lista columns_to_replace, recórrela con un bucle for, y reemplaza los valores ausentes en cada una de las columnas:"
   ]
  },
  {
   "cell_type": "code",
   "execution_count": 90,
   "metadata": {
    "id": "KplB5qWs_Zct"
   },
   "outputs": [],
   "source": [
    "# recorriendo los nombres de las columnas y reemplazando los valores ausentes con 'unknown'\n",
    "columns_to_replace = ['track_name','artist_name','genre_name']\n",
    "\n",
    "for column in columns_to_replace:\n",
    "    df[column]=df[column].fillna('unknown')"
   ]
  },
  {
   "cell_type": "markdown",
   "metadata": {
    "id": "Ilsm-MZo_Zct"
   },
   "source": [
    "Asegúrate de que la tabla no contiene más valores ausentes. Cuenta de nuevo los valores ausentes."
   ]
  },
  {
   "cell_type": "code",
   "execution_count": 91,
   "metadata": {
    "id": "Tq4nYRX4_Zct"
   },
   "outputs": [
    {
     "data": {
      "text/plain": [
       "user_id            0\n",
       "track_name         0\n",
       "artist_name        0\n",
       "genre_name         0\n",
       "user_city          0\n",
       "total_play_time    0\n",
       "day_in_week        0\n",
       "dtype: int64"
      ]
     },
     "execution_count": 91,
     "metadata": {},
     "output_type": "execute_result"
    }
   ],
   "source": [
    "# contando valores ausentes\n",
    "df.isna().sum()"
   ]
  },
  {
   "cell_type": "markdown",
   "metadata": {
    "id": "74ZIBmq9VrsK"
   },
   "source": [
    "[Volver a Contenidos](#back)"
   ]
  },
  {
   "cell_type": "markdown",
   "metadata": {
    "id": "BWKRtBJ3_Zct"
   },
   "source": [
    "### Duplicados <a id='duplicates'></a>\n",
    "Encuentra el número de duplicados obvios en la tabla utilizando un comando:"
   ]
  },
  {
   "cell_type": "code",
   "execution_count": 92,
   "metadata": {
    "id": "36eES_S0_Zct"
   },
   "outputs": [
    {
     "data": {
      "text/plain": [
       "3826"
      ]
     },
     "execution_count": 92,
     "metadata": {},
     "output_type": "execute_result"
    }
   ],
   "source": [
    "# contando duplicado obvios\n",
    "df.duplicated().sum()"
   ]
  },
  {
   "cell_type": "markdown",
   "metadata": {
    "id": "Ot25h6XR_Zct"
   },
   "source": [
    "Llama al método pandas para deshacerte de los duplicados obvios:"
   ]
  },
  {
   "cell_type": "code",
   "execution_count": 93,
   "metadata": {
    "id": "exFHq6tt_Zct"
   },
   "outputs": [],
   "source": [
    "# eliminando duplicados obvios\n",
    "df.drop_duplicates(inplace = True)"
   ]
  },
  {
   "cell_type": "markdown",
   "metadata": {
    "id": "Im2YwBEG_Zct"
   },
   "source": [
    "Cuenta los duplicados obvios una vez más para asegurarte de que todos han sido eliminados:"
   ]
  },
  {
   "cell_type": "code",
   "execution_count": 94,
   "metadata": {
    "id": "-8PuNWQ0_Zct"
   },
   "outputs": [
    {
     "data": {
      "text/plain": [
       "0"
      ]
     },
     "execution_count": 94,
     "metadata": {},
     "output_type": "execute_result"
    }
   ],
   "source": [
    "# comprobando duplicados\n",
    "df.duplicated().sum()"
   ]
  },
  {
   "cell_type": "markdown",
   "metadata": {
    "id": "QlFBsxAr_Zct"
   },
   "source": [
    "Ahora deshazte de los duplicados implícitos en la columna género. Por ejemplo, el nombre de un género se puede escribir de varias formas. Dichos errores también pueden afectar a resultado."
   ]
  },
  {
   "cell_type": "markdown",
   "metadata": {
    "id": "eSjWwsOh_Zct"
   },
   "source": [
    "Imprime una lista de nombres únicos de géneros, ordenados en orden alfabético. Cómo se hace:\n",
    "* Recupera la deseada columna DataFrame \n",
    "* Aplícale un método de ordenación\n",
    "* Para la columna ordenada, llama al método que te devolverá todos los valores de columna únicos"
   ]
  },
  {
   "cell_type": "code",
   "execution_count": 95,
   "metadata": {
    "id": "JIUcqzZN_Zct",
    "scrolled": true
   },
   "outputs": [
    {
     "data": {
      "text/plain": [
       "array(['acid', 'acoustic', 'action', 'adult', 'africa', 'afrikaans',\n",
       "       'alternative', 'ambient', 'americana', 'animated', 'anime',\n",
       "       'arabesk', 'arabic', 'arena', 'argentinetango', 'art', 'audiobook',\n",
       "       'avantgarde', 'axé', 'baile', 'balkan', 'beats', 'bigroom',\n",
       "       'black', 'bluegrass', 'blues', 'bollywood', 'bossa', 'brazilian',\n",
       "       'breakbeat', 'breaks', 'broadway', 'cantautori', 'cantopop',\n",
       "       'canzone', 'caribbean', 'caucasian', 'celtic', 'chamber',\n",
       "       'children', 'chill', 'chinese', 'choral', 'christian', 'christmas',\n",
       "       'classical', 'classicmetal', 'club', 'colombian', 'comedy',\n",
       "       'conjazz', 'contemporary', 'country', 'cuban', 'dance',\n",
       "       'dancehall', 'dancepop', 'dark', 'death', 'deep', 'deutschrock',\n",
       "       'deutschspr', 'dirty', 'disco', 'dnb', 'documentary', 'downbeat',\n",
       "       'downtempo', 'drum', 'dub', 'dubstep', 'eastern', 'easy',\n",
       "       'electronic', 'electropop', 'emo', 'entehno', 'epicmetal',\n",
       "       'estrada', 'ethnic', 'eurofolk', 'european', 'experimental',\n",
       "       'extrememetal', 'fado', 'film', 'fitness', 'flamenco', 'folk',\n",
       "       'folklore', 'folkmetal', 'folkrock', 'folktronica', 'forró',\n",
       "       'frankreich', 'französisch', 'french', 'funk', 'future', 'gangsta',\n",
       "       'garage', 'german', 'ghazal', 'gitarre', 'glitch', 'gospel',\n",
       "       'gothic', 'grime', 'grunge', 'gypsy', 'handsup', \"hard'n'heavy\",\n",
       "       'hardcore', 'hardstyle', 'hardtechno', 'hip', 'hip-hop', 'hiphop',\n",
       "       'historisch', 'holiday', 'hop', 'horror', 'house', 'idm',\n",
       "       'independent', 'indian', 'indie', 'indipop', 'industrial',\n",
       "       'inspirational', 'instrumental', 'international', 'irish', 'jam',\n",
       "       'japanese', 'jazz', 'jewish', 'jpop', 'jungle', 'k-pop',\n",
       "       'karadeniz', 'karaoke', 'kayokyoku', 'korean', 'laiko', 'latin',\n",
       "       'latino', 'leftfield', 'local', 'lounge', 'loungeelectronic',\n",
       "       'lovers', 'malaysian', 'mandopop', 'marschmusik', 'meditative',\n",
       "       'mediterranean', 'melodic', 'metal', 'metalcore', 'mexican',\n",
       "       'middle', 'minimal', 'miscellaneous', 'modern', 'mood', 'mpb',\n",
       "       'muslim', 'native', 'neoklassik', 'neue', 'new', 'newage',\n",
       "       'newwave', 'nu', 'nujazz', 'numetal', 'oceania', 'old', 'opera',\n",
       "       'orchestral', 'other', 'piano', 'pop', 'popelectronic',\n",
       "       'popeurodance', 'post', 'posthardcore', 'postrock', 'power',\n",
       "       'progmetal', 'progressive', 'psychedelic', 'punjabi', 'punk',\n",
       "       'quebecois', 'ragga', 'ram', 'rancheras', 'rap', 'rave', 'reggae',\n",
       "       'reggaeton', 'regional', 'relax', 'religious', 'retro', 'rhythm',\n",
       "       'rnb', 'rnr', 'rock', 'rockabilly', 'romance', 'roots', 'ruspop',\n",
       "       'rusrap', 'rusrock', 'salsa', 'samba', 'schlager', 'self',\n",
       "       'sertanejo', 'shoegazing', 'showtunes', 'singer', 'ska', 'slow',\n",
       "       'smooth', 'soul', 'soulful', 'sound', 'soundtrack', 'southern',\n",
       "       'specialty', 'speech', 'spiritual', 'sport', 'stonerrock', 'surf',\n",
       "       'swing', 'synthpop', 'sängerportrait', 'tango', 'tanzorchester',\n",
       "       'taraftar', 'tech', 'techno', 'thrash', 'top', 'traditional',\n",
       "       'tradjazz', 'trance', 'tribal', 'trip', 'triphop', 'tropical',\n",
       "       'türk', 'türkçe', 'unknown', 'urban', 'uzbek', 'variété', 'vi',\n",
       "       'videogame', 'vocal', 'western', 'world', 'worldbeat', 'ïîï'],\n",
       "      dtype=object)"
      ]
     },
     "execution_count": 95,
     "metadata": {},
     "output_type": "execute_result"
    }
   ],
   "source": [
    "# inspeccionando los nombres de géneros únicos\n",
    "df['genre_name'].sort_values().unique()"
   ]
  },
  {
   "cell_type": "markdown",
   "metadata": {
    "id": "qej-Qmuo_Zct"
   },
   "source": [
    "Busca en la lista para encontrar duplicados implícitos del género hiphop. Estos pueden ser nombres escritos incorrectamente o nombres alternativos para el mismo género.\n",
    "\n",
    "Verás los siguientes duplicados implícitos:\n",
    "* `hip`\n",
    "* `hop`\n",
    "* `hip-hop`\n",
    "\n",
    "Para deshacerte de ellos, declara la función replace_wrong_genres() con dos parámetros: \n",
    "* `wrong_genres=` — la lista de duplicados\n",
    "* `correct_genre=` — la cadena con el valor correcto\n",
    "\n",
    "La función debería corregir los nombres en la columna 'genre' de la tabla df, es decir, remplaza cada valor de la lista wrong_genres con el valor en correct_genre."
   ]
  },
  {
   "cell_type": "code",
   "execution_count": 96,
   "metadata": {
    "id": "ErNDkmns_Zct"
   },
   "outputs": [],
   "source": [
    "# función para reemplazar duplicados implícitos\n",
    "\n",
    "def replace_wrong_genres(wrong_genres, correct_genre):\n",
    "    for case in wrong_genres:\n",
    "        df['genre_name']=df['genre_name'].replace(case,correct_genre)"
   ]
  },
  {
   "cell_type": "markdown",
   "metadata": {
    "id": "aDoBJxbA_Zct"
   },
   "source": [
    "Llama a replace_wrong_genres() y pásale argumentos para que retire los duplicados implícitos (hip, hop y hip-hop) y los reemplace por hiphop:"
   ]
  },
  {
   "cell_type": "code",
   "execution_count": 97,
   "metadata": {
    "id": "YN5i2hpmSo09"
   },
   "outputs": [],
   "source": [
    "# eliminando duplicados implícitos\n",
    "wrong = ['hip', 'hop', 'hip-hop']\n",
    "correct = 'hiphop'\n",
    "\n",
    "replace_wrong_genres(wrong, correct)"
   ]
  },
  {
   "cell_type": "markdown",
   "metadata": {
    "id": "zQKF16_RG15m"
   },
   "source": [
    "Asegúrate que los nombres duplicados han sido eliminados. Imprime la lista de valores únicos de la columna 'genre':"
   ]
  },
  {
   "cell_type": "code",
   "execution_count": 98,
   "metadata": {
    "id": "wvixALnFG15m"
   },
   "outputs": [
    {
     "data": {
      "text/plain": [
       "array(['acid', 'acoustic', 'action', 'adult', 'africa', 'afrikaans',\n",
       "       'alternative', 'ambient', 'americana', 'animated', 'anime',\n",
       "       'arabesk', 'arabic', 'arena', 'argentinetango', 'art', 'audiobook',\n",
       "       'avantgarde', 'axé', 'baile', 'balkan', 'beats', 'bigroom',\n",
       "       'black', 'bluegrass', 'blues', 'bollywood', 'bossa', 'brazilian',\n",
       "       'breakbeat', 'breaks', 'broadway', 'cantautori', 'cantopop',\n",
       "       'canzone', 'caribbean', 'caucasian', 'celtic', 'chamber',\n",
       "       'children', 'chill', 'chinese', 'choral', 'christian', 'christmas',\n",
       "       'classical', 'classicmetal', 'club', 'colombian', 'comedy',\n",
       "       'conjazz', 'contemporary', 'country', 'cuban', 'dance',\n",
       "       'dancehall', 'dancepop', 'dark', 'death', 'deep', 'deutschrock',\n",
       "       'deutschspr', 'dirty', 'disco', 'dnb', 'documentary', 'downbeat',\n",
       "       'downtempo', 'drum', 'dub', 'dubstep', 'eastern', 'easy',\n",
       "       'electronic', 'electropop', 'emo', 'entehno', 'epicmetal',\n",
       "       'estrada', 'ethnic', 'eurofolk', 'european', 'experimental',\n",
       "       'extrememetal', 'fado', 'film', 'fitness', 'flamenco', 'folk',\n",
       "       'folklore', 'folkmetal', 'folkrock', 'folktronica', 'forró',\n",
       "       'frankreich', 'französisch', 'french', 'funk', 'future', 'gangsta',\n",
       "       'garage', 'german', 'ghazal', 'gitarre', 'glitch', 'gospel',\n",
       "       'gothic', 'grime', 'grunge', 'gypsy', 'handsup', \"hard'n'heavy\",\n",
       "       'hardcore', 'hardstyle', 'hardtechno', 'hiphop', 'historisch',\n",
       "       'holiday', 'horror', 'house', 'idm', 'independent', 'indian',\n",
       "       'indie', 'indipop', 'industrial', 'inspirational', 'instrumental',\n",
       "       'international', 'irish', 'jam', 'japanese', 'jazz', 'jewish',\n",
       "       'jpop', 'jungle', 'k-pop', 'karadeniz', 'karaoke', 'kayokyoku',\n",
       "       'korean', 'laiko', 'latin', 'latino', 'leftfield', 'local',\n",
       "       'lounge', 'loungeelectronic', 'lovers', 'malaysian', 'mandopop',\n",
       "       'marschmusik', 'meditative', 'mediterranean', 'melodic', 'metal',\n",
       "       'metalcore', 'mexican', 'middle', 'minimal', 'miscellaneous',\n",
       "       'modern', 'mood', 'mpb', 'muslim', 'native', 'neoklassik', 'neue',\n",
       "       'new', 'newage', 'newwave', 'nu', 'nujazz', 'numetal', 'oceania',\n",
       "       'old', 'opera', 'orchestral', 'other', 'piano', 'pop',\n",
       "       'popelectronic', 'popeurodance', 'post', 'posthardcore',\n",
       "       'postrock', 'power', 'progmetal', 'progressive', 'psychedelic',\n",
       "       'punjabi', 'punk', 'quebecois', 'ragga', 'ram', 'rancheras', 'rap',\n",
       "       'rave', 'reggae', 'reggaeton', 'regional', 'relax', 'religious',\n",
       "       'retro', 'rhythm', 'rnb', 'rnr', 'rock', 'rockabilly', 'romance',\n",
       "       'roots', 'ruspop', 'rusrap', 'rusrock', 'salsa', 'samba',\n",
       "       'schlager', 'self', 'sertanejo', 'shoegazing', 'showtunes',\n",
       "       'singer', 'ska', 'slow', 'smooth', 'soul', 'soulful', 'sound',\n",
       "       'soundtrack', 'southern', 'specialty', 'speech', 'spiritual',\n",
       "       'sport', 'stonerrock', 'surf', 'swing', 'synthpop',\n",
       "       'sängerportrait', 'tango', 'tanzorchester', 'taraftar', 'tech',\n",
       "       'techno', 'thrash', 'top', 'traditional', 'tradjazz', 'trance',\n",
       "       'tribal', 'trip', 'triphop', 'tropical', 'türk', 'türkçe',\n",
       "       'unknown', 'urban', 'uzbek', 'variété', 'vi', 'videogame', 'vocal',\n",
       "       'western', 'world', 'worldbeat', 'ïîï'], dtype=object)"
      ]
     },
     "execution_count": 98,
     "metadata": {},
     "output_type": "execute_result"
    }
   ],
   "source": [
    "# revisando en busca de duplicados implícitos\n",
    "df['genre_name'].sort_values().unique()"
   ]
  },
  {
   "cell_type": "markdown",
   "metadata": {
    "id": "ALgNbvF3VtPA"
   },
   "source": [
    "[Volver a Contenidos](#back)"
   ]
  },
  {
   "cell_type": "markdown",
   "metadata": {
    "id": "jz6a9-7HQUDd"
   },
   "source": [
    "### Conclusiones <a id='data_preprocessing_conclusions'></a>\n",
    "Detectamos tres problemas con los datos:\n",
    "\n",
    "- Estilos de encabezados incorrectos\n",
    "- Valores ausentes\n",
    "- Duplicados obvios e implícitos\n",
    "\n",
    "Los encabezados han sido corregidos para conseguir que el procesamiento de la tabla sea más sencillo.\n",
    "\n",
    "Todos los valores ausentes han sido reemplazados por 'unknown'. Pero todavía tenemos que ver si los valores ausentes en 'genre' afectan a nuestros cálculos.\n",
    "\n",
    "La ausencia de duplicados hará que los resultados sean mas precisos y fáciles de entender.\n",
    "\n",
    "Ahora ya podemos continuar probando las hipótesis. "
   ]
  },
  {
   "cell_type": "markdown",
   "metadata": {
    "id": "eK1es74rVujj"
   },
   "source": [
    "[Volver a Contenidos](#back)"
   ]
  },
  {
   "cell_type": "markdown",
   "metadata": {
    "id": "WttZHXH0SqKk"
   },
   "source": [
    "## Etapa 3. Prueba de hipótesis <a id='hypotheses'></a>"
   ]
  },
  {
   "cell_type": "markdown",
   "metadata": {
    "id": "Im936VVi_Zcu"
   },
   "source": [
    "### Hipótesis 1: comparar el comportamiento del usuario en las dos ciudades <a id='activity'></a>"
   ]
  },
  {
   "cell_type": "markdown",
   "metadata": {
    "id": "nwt_MuaL_Zcu"
   },
   "source": [
    "De acuerdo con la primera hipótesis, los usuarios de Springfield y Shelbyville escuchan música de forma distinta. Comprueba esto utilizando los datos de tres días de la semana: lunes, miércoles y viernes.\n",
    "\n",
    "* Divide a los usuarios en grupos por ciudad.\n",
    "* Compara cuántas pistas reprodujo cada grupo el lunes, el miércoles y el viernes.\n"
   ]
  },
  {
   "cell_type": "markdown",
   "metadata": {
    "id": "8Dw_YMmT_Zcu"
   },
   "source": [
    "Por el bien del ejercicio, realiza cada cálculo de forma separada. \n",
    "\n",
    "Evalúa la actividad del usuario en cada ciudad. Agrupa los datos por ciudad y encuentra el número de canciones reproducidas en cada grupo.\n",
    "\n"
   ]
  },
  {
   "cell_type": "code",
   "execution_count": 105,
   "metadata": {
    "id": "0_Qs96oh_Zcu"
   },
   "outputs": [
    {
     "name": "stdout",
     "output_type": "stream",
     "text": [
      "user_city\n",
      "Shelbyville    18512\n",
      "Springfield    42741\n",
      "Name: track_name, dtype: int64\n"
     ]
    }
   ],
   "source": [
    "# contando las pistas reproducidas en cada ciudad\n",
    "df_by_day = df.groupby('user_city')['track_name'].count()\n",
    "print(df_by_day)"
   ]
  },
  {
   "cell_type": "markdown",
   "metadata": {
    "id": "dzli3w8o_Zcu"
   },
   "source": [
    "Springfield ha reproducido más pistas que Shelbyville. Pero eso no implica que los ciudadanos de Springfield escuchen música más a menudo. Esta ciudad es simplemente más grande y hay más usuarios.\n",
    "\n",
    "Ahora agrupa los datos por día de la semana y encuentra el número de pistas reproducidas el lunes, miércoles y viernes.\n"
   ]
  },
  {
   "cell_type": "code",
   "execution_count": 106,
   "metadata": {
    "id": "uZMKjiJz_Zcu"
   },
   "outputs": [
    {
     "name": "stdout",
     "output_type": "stream",
     "text": [
      "day_in_week\n",
      "Friday       21840\n",
      "Monday       21354\n",
      "Wednesday    18059\n",
      "Name: track_name, dtype: int64\n"
     ]
    }
   ],
   "source": [
    "# calculando las pistas reproducidas en cada uno de los tres días\n",
    "df_by_day = df.groupby('day_in_week')['track_name'].count()\n",
    "print(df_by_day)"
   ]
  },
  {
   "cell_type": "markdown",
   "metadata": {
    "id": "cC2tNrlL_Zcu"
   },
   "source": [
    "El miércoles fue el día más silencioso de todos. Pero si consideramos las dos ciudades por separado, podríamos llegar a una conclusión diferente."
   ]
  },
  {
   "cell_type": "markdown",
   "metadata": {
    "id": "POzs8bGa_Zcu"
   },
   "source": [
    "Ya has visto cómo funciona el agrupar por ciudad o día. Ahora escribe la función que agrupará ambos.\n",
    "\n",
    "Crea la función number_tracks() para calcular el número de canciones reproducidas en un determinado día y ciudad. Requerirá dos parámetros:\n",
    "* día de la semana\n",
    "* nombre de la ciudad\n",
    "\n",
    "En la función, utiliza una variable para almacenar las filas de la tabla original, donde:\n",
    "  * el valor de la columna 'day' es igual al parámetro de día\n",
    "  * el valor de la columna 'city' es igual al parámetro de ciudad\n",
    "\n",
    "Aplica un filtrado consecutivo con indexación lógica.\n",
    "\n",
    "Después, calcula los valores de la columna 'user_id' en la tabla resultante. Almacena el resultado en la nueva variable. Recupera esta variable de la función."
   ]
  },
  {
   "cell_type": "code",
   "execution_count": 23,
   "metadata": {
    "id": "Nz3GdQB1_Zcu"
   },
   "outputs": [],
   "source": [
    "# <creando la función number_tracks()>\n",
    "# declararemos la función con dos parámetros: day=, city=.\n",
    "def number_tracks(day, city):\n",
    "# deja que la variable track_list almacene las filas df en las que\n",
    "# el valor en la columna 'day' es igual al parámetro day= y, al mismo tiempo, \n",
    "# el valor de la columna 'city' es igual al parámetro city= (aplica el filtrado consecutivo \n",
    "# con indexación lógica).\n",
    "    track_list = df[df['day_in_week']==day]\n",
    "    track_list = track_list[track_list['user_city']==city]\n",
    "# deja que la variable track_list_count almacene el número de valores de la columna 'user_id' en track_list\n",
    "# (encontrado con el método count()).\n",
    "    track_list_count = track_list['user_id'].count()\n",
    "# permite que la función devuelva un número: el valor de track_list_count.\n",
    "    return track_list_count\n",
    "\n",
    "# la función cuenta las pistas reproducidas en un cierto día y ciudad.\n",
    "# primero recupera las filas del día deseado de la tabla,\n",
    "# después filtra las filas de la ciudad deseada del resultado,\n",
    "# entonces, encuentra el número de valores de 'user_id' en la tabla filtrada,\n",
    "# y devuelve ese número.\n",
    "# para ver lo que devuelve, envuelve la llamada de la función en print()."
   ]
  },
  {
   "cell_type": "markdown",
   "metadata": {
    "id": "ytf7xFrFJQ2r"
   },
   "source": [
    "Llama a number_tracks() seis veces, cambiando los valores de los parámetros, para que recuperes los datos de ambas ciudades para cada uno de los tres días."
   ]
  },
  {
   "cell_type": "code",
   "execution_count": 109,
   "metadata": {
    "id": "rJcRATNQ_Zcu"
   },
   "outputs": [
    {
     "name": "stdout",
     "output_type": "stream",
     "text": [
      "15740\n"
     ]
    }
   ],
   "source": [
    "# el número de canciones reproducidas en Springfield el lunes\n",
    "spring_monday = number_tracks('Monday', 'Springfield')\n",
    "print(spring_monday)"
   ]
  },
  {
   "cell_type": "code",
   "execution_count": 110,
   "metadata": {
    "id": "hq_ncZ5T_Zcu"
   },
   "outputs": [
    {
     "name": "stdout",
     "output_type": "stream",
     "text": [
      "5614\n"
     ]
    }
   ],
   "source": [
    "# el número de canciones reproducidas en Shelbyville el lunes\n",
    "shel_monday = number_tracks('Monday', 'Shelbyville')\n",
    "print(shel_monday)"
   ]
  },
  {
   "cell_type": "code",
   "execution_count": 111,
   "metadata": {
    "id": "_NTy2VPU_Zcu"
   },
   "outputs": [
    {
     "name": "stdout",
     "output_type": "stream",
     "text": [
      "11056\n"
     ]
    }
   ],
   "source": [
    "# el número de canciones reproducidas en Springfield el miércoles\n",
    "spring_wed = number_tracks('Wednesday', 'Springfield')\n",
    "print(spring_wed)"
   ]
  },
  {
   "cell_type": "code",
   "execution_count": 115,
   "metadata": {
    "id": "j2y3TAwo_Zcu"
   },
   "outputs": [
    {
     "name": "stdout",
     "output_type": "stream",
     "text": [
      "7003\n"
     ]
    }
   ],
   "source": [
    "# el número de canciones reproducidas en Shelbyville el miércoles\n",
    "shel_wed = number_tracks('Wednesday', 'Shelbyville')\n",
    "print(shel_wed)"
   ]
  },
  {
   "cell_type": "code",
   "execution_count": 112,
   "metadata": {
    "id": "vYDw5u_K_Zcu"
   },
   "outputs": [
    {
     "name": "stdout",
     "output_type": "stream",
     "text": [
      "15945\n"
     ]
    }
   ],
   "source": [
    "# el número de canciones reproducidas en Springfield el viernes\n",
    "spring_friday = number_tracks('Friday', 'Springfield')\n",
    "print(spring_friday)"
   ]
  },
  {
   "cell_type": "code",
   "execution_count": 113,
   "metadata": {
    "id": "8_yzFtW3_Zcu"
   },
   "outputs": [
    {
     "name": "stdout",
     "output_type": "stream",
     "text": [
      "5895\n"
     ]
    }
   ],
   "source": [
    "# el número de canciones reproducidas en Shelbyville el viernes\n",
    "shel_friday = number_tracks('Friday', 'Shelbyville')\n",
    "print(shel_friday)"
   ]
  },
  {
   "cell_type": "markdown",
   "metadata": {
    "id": "7QXffbO-_Zcu"
   },
   "source": [
    "Utiliza pd.DataFrame para crear una tabla, donde\n",
    "* Los nombres de las columnas son: `['city', 'monday', 'wednesday', 'friday']`\n",
    "* Los datos son los resultados que conseguiste de number_tracks()`"
   ]
  },
  {
   "cell_type": "code",
   "execution_count": 116,
   "metadata": {
    "id": "APAcLpOr_Zcu"
   },
   "outputs": [
    {
     "name": "stdout",
     "output_type": "stream",
     "text": [
      "          city  monday  wednesday  friday\n",
      "0  Springfield   15740      11056   15945\n",
      "1  Shelbyville    5614       7003    5895\n"
     ]
    }
   ],
   "source": [
    "# tabla con los resultados\n",
    "columns_day_city = ['city', 'monday', 'wednesday', 'friday']\n",
    "data_day_city = [['Springfield', spring_monday, spring_wed, spring_friday],['Shelbyville', shel_monday, shel_wed, shel_friday]]\n",
    "\n",
    "day_city_comparison = pd.DataFrame(data=data_day_city, columns=columns_day_city)\n",
    "\n",
    "print(day_city_comparison)"
   ]
  },
  {
   "cell_type": "markdown",
   "metadata": {
    "id": "-EgPIHYu_Zcu"
   },
   "source": [
    "**Conclusiones**\n",
    "\n",
    "Los datos revelan las diferencias en el comportamiento de los usuarios:\n",
    "\n",
    "- En Springfield, el número de canciones reproducidas alcanzan el punto máximo los lunes y viernes, mientras que los miércoles hay un descenso de la actividad.\n",
    "- En Shelbyville, al contario, los usuarios escuchan más música los miércoles. La actividad de los usuarios los lunes y viernes es menor.\n",
    "\n",
    "Así que la primera hipótesis parece ser correcta."
   ]
  },
  {
   "cell_type": "markdown",
   "metadata": {
    "id": "p7nFQajCVw5B"
   },
   "source": [
    "[Volver a Contenidos](#back)"
   ]
  },
  {
   "cell_type": "markdown",
   "metadata": {
    "id": "atZAxtq4_Zcu"
   },
   "source": [
    "### Hipótesis 2: música al principio y al final de la semana <a id='week'></a>"
   ]
  },
  {
   "cell_type": "markdown",
   "metadata": {
    "id": "eXrQqXFH_Zcu"
   },
   "source": [
    "De acuerdo con la segunda hipótesis, los lunes por la mañana y los viernes por la noche, los ciudadanos de Springfield escuchan géneros que difieren de aquellos que los usuarios de Shelbyville disfrutan."
   ]
  },
  {
   "cell_type": "markdown",
   "metadata": {
    "id": "S8UcW6Hw_Zcu"
   },
   "source": [
    "Obtén tablas (asegúrate de que el nombre de tu tabla combinada encaja con el DataFrame dado en los dos bloques de código de abajo):\n",
    "* Para Springfield — `spr_general`\n",
    "* Para Shelbyville — `shel_general`"
   ]
  },
  {
   "cell_type": "code",
   "execution_count": 31,
   "metadata": {
    "id": "qeaFfM_P_Zcu"
   },
   "outputs": [],
   "source": [
    "# obteniendo la tabla spr_general de las filas de df, \n",
    "# donde los valores en la columna 'city' es 'Springfield'\n",
    "\n",
    "spr_general = df[df['user_city'] == 'Springfield']"
   ]
  },
  {
   "cell_type": "code",
   "execution_count": 32,
   "metadata": {
    "id": "ORaVRKto_Zcu"
   },
   "outputs": [],
   "source": [
    "# obteniendo shel_general de las filas df,\n",
    "# donde el valor de la columna 'city' es 'Shelbyville'\n",
    "\n",
    "shel_general = df[df['user_city'] == 'Shelbyville']"
   ]
  },
  {
   "cell_type": "markdown",
   "metadata": {
    "id": "MEJV-CX2_Zcu"
   },
   "source": [
    "Escribe la función genre_weekday() con cuatro parámetros:\n",
    "* Una tabla para los datos\n",
    "* El día de la semana\n",
    "* La marca de fecha y hora, en formato 'hh:mm'\n",
    "* La marca de fecha y hora, en formato 'hh:mm'\n",
    "\n",
    "La función debería devolver información de los 15 géneros más populares de un día determinado en un período entre dos marcas de fecha y hora."
   ]
  },
  {
   "cell_type": "code",
   "execution_count": 33,
   "metadata": {
    "id": "laJT9BYl_Zcu"
   },
   "outputs": [],
   "source": [
    "# declarando la función genre_weekday() con los parámetros day=, time1= y time2=. Debería\n",
    "# devolver información sobre los géneros más populares de un determinado día a una determinada hora:\n",
    "\n",
    "# 1) Deja que la variable genre_df almacene las filas que cumplen varias condiciones:\n",
    "#    - el valor de la columna 'day' es igual al valor del argumento day=\n",
    "#    - el valor de la columna 'time' es mayor que el valor del argumento time1=\n",
    "#    - el valor en la columna 'time' es menor que el valor del argumento time2=\n",
    "#    Utiliza un filtrado consecutivo con indexación lógica.\n",
    "\n",
    "# 2) Agrupa genre_df por la columna 'genre', toma una de sus columnas, \n",
    "#    y utiliza el método count() para encontrar el número de entradas por cada uno de \n",
    "#    los géneros representados; almacena los Series resultantes en\n",
    "#    la variable genre_df_count\n",
    "\n",
    "# 3) Ordena genre_df_count en orden descendente de frecuencia y guarda el resultado\n",
    "#    en la variable genre_df_sorted\n",
    "\n",
    "# 4) Devuelve un objeto Series con los primeros 15 valores de genre_df_sorted - los 15\n",
    "#    géneros más populares (en un determinado día, en un determinado periodo de tiempo)\n",
    "\n",
    "def genre_weekday(df, day, time1, time2):\n",
    "    # filtrado consecutivo\n",
    "    # genre_df solo almacenará aquellas filas df en las que el día sea igual a day=\n",
    "    genre_df = df[df['day_in_week'] == day]\n",
    "    # genre_df solo almacenará aquellas filas df en las que el tiempo sea menos que time2=\n",
    "    genre_df = genre_df[genre_df['total_play_time'] < time2]\n",
    "    # genre_df solo almacenará aquellas filas df en las que el tiempo sea mayor que time1=\n",
    "    genre_df = genre_df[genre_df['total_play_time'] > time1]\n",
    "    # agrupa el DataFrame filtrado por la columna con los nombres de los géneros, toma la columna de género, y encuentra el número de filas por cada género con el método count()\n",
    "    genre_df_count = genre_df.groupby('genre_name')['genre_name'].count()\n",
    "    # ordenaremos el resultado en orden descendente (por lo que los géneros más populares aparecerán primero en el objeto Series)\n",
    "    genre_df_sorted = genre_df_count.sort_values(ascending=False)\n",
    "    # devolveremos el objeto Series que almacena los 15 géneros más populares en un día determinado en un periodo de tiempo determinado\n",
    "    return genre_df_sorted[:15]"
   ]
  },
  {
   "cell_type": "markdown",
   "metadata": {
    "id": "la2s2_PF_Zcu"
   },
   "source": [
    "Compara los resultados de la función `genre_weekday()`para Springfield y Shelbyville el lunes por la mañana (de 7 a 11) y el viernes por la tarde (de 17:00 a 23:00):"
   ]
  },
  {
   "cell_type": "code",
   "execution_count": 34,
   "metadata": {
    "id": "yz7itPUQ_Zcu"
   },
   "outputs": [
    {
     "data": {
      "text/plain": [
       "genre_name\n",
       "pop            781\n",
       "dance          549\n",
       "electronic     480\n",
       "rock           474\n",
       "hiphop         286\n",
       "ruspop         186\n",
       "world          181\n",
       "rusrap         175\n",
       "alternative    164\n",
       "unknown        161\n",
       "classical      157\n",
       "metal          120\n",
       "jazz           100\n",
       "folk            97\n",
       "soundtrack      95\n",
       "Name: genre_name, dtype: int64"
      ]
     },
     "execution_count": 34,
     "metadata": {},
     "output_type": "execute_result"
    }
   ],
   "source": [
    "# llamando a la función para el lunes por la mañana en Springfield (utilizando spr_general en vez de la tabla df)\n",
    "\n",
    "genre_weekday(spr_general, 'Monday', '07:00', '11:00')"
   ]
  },
  {
   "cell_type": "code",
   "execution_count": 35,
   "metadata": {
    "id": "kwUcHPdy_Zcu"
   },
   "outputs": [
    {
     "data": {
      "text/plain": [
       "genre_name\n",
       "pop            218\n",
       "dance          182\n",
       "rock           162\n",
       "electronic     147\n",
       "hiphop          80\n",
       "ruspop          64\n",
       "alternative     58\n",
       "rusrap          55\n",
       "jazz            44\n",
       "classical       40\n",
       "world           36\n",
       "rap             32\n",
       "soundtrack      31\n",
       "metal           27\n",
       "rnb             27\n",
       "Name: genre_name, dtype: int64"
      ]
     },
     "execution_count": 35,
     "metadata": {},
     "output_type": "execute_result"
    }
   ],
   "source": [
    "# llamando a la función para el lunes por la mañana en Shelbyville (utilizando shel_general en vez de la tabla df)\n",
    "\n",
    "genre_weekday(shel_general, 'Monday', '07:00', '11:00')"
   ]
  },
  {
   "cell_type": "code",
   "execution_count": 36,
   "metadata": {
    "id": "EzXVRE1o_Zcu"
   },
   "outputs": [
    {
     "data": {
      "text/plain": [
       "genre_name\n",
       "pop            713\n",
       "rock           517\n",
       "dance          495\n",
       "electronic     482\n",
       "hiphop         273\n",
       "world          208\n",
       "ruspop         170\n",
       "classical      163\n",
       "alternative    163\n",
       "rusrap         142\n",
       "jazz           111\n",
       "unknown        110\n",
       "soundtrack     105\n",
       "rnb             90\n",
       "metal           88\n",
       "Name: genre_name, dtype: int64"
      ]
     },
     "execution_count": 36,
     "metadata": {},
     "output_type": "execute_result"
    }
   ],
   "source": [
    "# llamando a la función para el viernes por la tarde en Springfield\n",
    "\n",
    "genre_weekday(spr_general, 'Friday', '17:00', '23:00')"
   ]
  },
  {
   "cell_type": "code",
   "execution_count": 37,
   "metadata": {
    "id": "JZaEKu5v_Zcu"
   },
   "outputs": [
    {
     "data": {
      "text/plain": [
       "genre_name\n",
       "pop            256\n",
       "rock           216\n",
       "electronic     216\n",
       "dance          210\n",
       "hiphop          97\n",
       "alternative     63\n",
       "jazz            61\n",
       "classical       60\n",
       "rusrap          59\n",
       "world           54\n",
       "ruspop          47\n",
       "unknown         47\n",
       "soundtrack      40\n",
       "metal           39\n",
       "rap             36\n",
       "Name: genre_name, dtype: int64"
      ]
     },
     "execution_count": 37,
     "metadata": {},
     "output_type": "execute_result"
    }
   ],
   "source": [
    "# llamando a la función para el viernes por la tarde en Shelbyville\n",
    "\n",
    "genre_weekday(shel_general, 'Friday', '17:00', '23:00')"
   ]
  },
  {
   "cell_type": "markdown",
   "metadata": {
    "id": "wrCe4MNX_Zcu"
   },
   "source": [
    "**Conclusión**\n",
    "\n",
    "Habiendo comparado los 15 géneros más populares del lunes por la mañana, podemos concluir lo siguiente:\n",
    "\n",
    "1. Los usuarios de Springfield y Shelbyville escuchan música similar. Los cinco géneros más populares son los mismos, solo rock y electrónica han intercambiado posiciones.\n",
    "\n",
    "2. En Springfield, el número de valores ausentes resultaron ser tan altos que el valor 'unknown' llegó al décimo. Esto significa que los valores ausentes forman una parte considerable de los datos, lo que podría ser la base de la cuestión sobre la fiabilidad de nuestras conclusiones.\n",
    "\n",
    "Para el viernes por la tarde, la situación es similar. Los géneros individuales varían algo, pero en general, los 15 más populares son parecidos en las dos ciudades.\n",
    "\n",
    "De esta forma, la segunda hipótesis ha sido parcialmente demostrada:\n",
    "* Los usuarios escuchan música similar al principio y al final de la semana.\n",
    "* No hay una gran diferencia entre Springfield y Shelbyville. En ambas ciudades, el pop es el género más popular.\n",
    "\n",
    "Sin embargo, el número de valores ausentes hace este resultado un tanto cuestionable. En Springfield, hay tantos que afectan a nuestros 15 más populares. De no faltarnos esos valores, las cosas podrían parecer diferentes."
   ]
  },
  {
   "cell_type": "markdown",
   "metadata": {
    "id": "jLmXgdanVyhP"
   },
   "source": [
    "[Volver a Contenidos](#back)"
   ]
  },
  {
   "cell_type": "markdown",
   "metadata": {
    "id": "JolODAqr_Zcu"
   },
   "source": [
    "### Hipótesis 3: preferencias de género en Springfield y Shelbyville <a id='genre'></a>\n",
    "\n",
    "Hipótesis: Shelbyville ama la música rap. A los ciudadanos de Springfield les gusta más el pop."
   ]
  },
  {
   "cell_type": "markdown",
   "metadata": {
    "id": "DlegSvaT_Zcu"
   },
   "source": [
    "Agrupa la tabla spr_general por género y encuentra el número de canciones reproducidas de cada género con el método count(). Después, ordena el resultado en orden descendente y guárdalo en spr_genres."
   ]
  },
  {
   "cell_type": "code",
   "execution_count": 38,
   "metadata": {
    "id": "r19lIPke_Zcu"
   },
   "outputs": [],
   "source": [
    "# en una línea: agrupa la tabla spr_general por la columna 'genre', \n",
    "# cuenta los valores 'genre' con count() en la agrupación, \n",
    "# ordena el Series resultante en orden descendiente, y almacénalo en spr_genres\n",
    "spr_genres = spr_general.groupby('genre_name')['genre_name'].count()\n",
    "spr_genres = spr_genres.sort_values(ascending=False)"
   ]
  },
  {
   "cell_type": "markdown",
   "metadata": {
    "id": "6kMuomxTiIr8"
   },
   "source": [
    "Imprime las 10 primeras filas de spr_genres:"
   ]
  },
  {
   "cell_type": "code",
   "execution_count": 39,
   "metadata": {
    "id": "WhCSooF8_Zcv"
   },
   "outputs": [
    {
     "data": {
      "text/plain": [
       "genre_name\n",
       "pop            5892\n",
       "dance          4435\n",
       "rock           3965\n",
       "electronic     3786\n",
       "hiphop         2096\n",
       "classical      1616\n",
       "world          1432\n",
       "alternative    1379\n",
       "ruspop         1372\n",
       "rusrap         1161\n",
       "Name: genre_name, dtype: int64"
      ]
     },
     "execution_count": 39,
     "metadata": {},
     "output_type": "execute_result"
    }
   ],
   "source": [
    "# imprimiendo las 10 primeras filas de spr_genres\n",
    "spr_genres.head(10)"
   ]
  },
  {
   "cell_type": "markdown",
   "metadata": {
    "id": "cnPG2vnN_Zcv"
   },
   "source": [
    "Ahora haz lo mismo con los datos de Shelbyville.\n",
    "\n",
    "Agrupa la tabla shel_general por género y encuentra el número de canciones reproducidas de cada género. Después, ordena el resultado en orden descendente y guárdalo en la tabla shel_genres:\n"
   ]
  },
  {
   "cell_type": "code",
   "execution_count": 40,
   "metadata": {
    "id": "gluLIpE7_Zcv"
   },
   "outputs": [],
   "source": [
    "# en una línea: agrupa la tabla shel_general por la columna 'genre', \n",
    "# cuenta los valores 'genre' en el agrupamiento con count(), \n",
    "# ordena el Series resultante en orden descendente y guárdalo en shel_genres\n",
    "shel_genres = shel_general.groupby('genre_name')['genre_name'].count()\n",
    "shel_genres = shel_genres.sort_values(ascending=False)"
   ]
  },
  {
   "cell_type": "markdown",
   "metadata": {
    "id": "5Doha_ODgyQ8"
   },
   "source": [
    "Imprime las 10 primeras filas de shel_genres:"
   ]
  },
  {
   "cell_type": "code",
   "execution_count": 41,
   "metadata": {
    "id": "uaGJHjVU_Zcv"
   },
   "outputs": [
    {
     "data": {
      "text/plain": [
       "genre_name\n",
       "pop            2431\n",
       "dance          1932\n",
       "rock           1879\n",
       "electronic     1736\n",
       "hiphop          960\n",
       "alternative     649\n",
       "classical       646\n",
       "rusrap          564\n",
       "ruspop          538\n",
       "world           515\n",
       "Name: genre_name, dtype: int64"
      ]
     },
     "execution_count": 41,
     "metadata": {},
     "output_type": "execute_result"
    }
   ],
   "source": [
    "# imprimiendo las 10 primeras filas de shel_genres\n",
    "shel_genres.head(10)"
   ]
  },
  {
   "cell_type": "markdown",
   "metadata": {
    "id": "RY51YJYu_Zcv"
   },
   "source": [
    "**Conclusión**"
   ]
  },
  {
   "cell_type": "markdown",
   "metadata": {
    "id": "nVhnJEm__Zcv"
   },
   "source": [
    "La hipótesis ha sido parcialmente demostrada:\n",
    "* La música pop es el género más popular en Springfield, tal como se esperaba.\n",
    "* Sin embargo, la música pop ha resultado ser igual de popular en Springfield que en Shelbyville, y el rap no estaba entre los 5 más populares en ninguna de las ciudades.\n"
   ]
  },
  {
   "cell_type": "markdown",
   "metadata": {
    "id": "Byr0RfpPVz14"
   },
   "source": [
    "[Volver a Contenidos](#back)"
   ]
  },
  {
   "cell_type": "markdown",
   "metadata": {
    "id": "ykKQ0N65_Zcv"
   },
   "source": [
    "# Conclusiones <a id='end'></a>"
   ]
  },
  {
   "cell_type": "markdown",
   "metadata": {
    "id": "tjUwbHb3_Zcv"
   },
   "source": [
    "Hemos probado las siguientes tres hipótesis:\n",
    "\n",
    "1. La actividad de los usuarios difiere dependiendo del día de la semana y de las distintas ciudades. \n",
    "2. Los lunes por la mañana, los residentes de Springfield y Shelbyville escuchan géneros distintos. Lo mismo ocurre con los viernes por la noche.\n",
    "3. Los oyentes de Springfield y Shelbyville tienen distintas preferencias. En ambas ciudades, Springfield y Shelbyville, se prefiere el pop.\n",
    "\n",
    "Tras analizar los datos, concluimos:\n",
    "\n",
    "1. La actividad del usuario en Springfield y Shelbyville depende del día de la semana, aunque las ciudades varían de diferentes formas. \n",
    "\n",
    "La primera hipótesis ha sido aceptada completamente.\n",
    "\n",
    "2. Las preferencias musicales no varían significativamente en el transcurso de la semana en Springfield y Shelbyville. Podemos observar pequeñas diferencias en el orden los lunes, pero:\n",
    "* En Springfield y Shelbyville, la gente lo que más escucha es la música pop.\n",
    "\n",
    "Así que no podemos aceptar esta hipótesis. También debemos tener en cuenta que el resultado podría haber sido diferente si no fuera por los valores ausentes.\n",
    "\n",
    "3. Resulta que las preferencias musicales de los usuarios de Springfield y Shelbyville son bastante parecidas.\n",
    "\n",
    "La tercera hipótesis es rechazada. Si hay alguna diferencia en las preferencias, no se puede observar en los datos.\n"
   ]
  }
 ],
 "metadata": {
  "ExecuteTimeLog": [
   {
    "duration": 704,
    "start_time": "2022-02-22T01:10:57.265Z"
   },
   {
    "duration": 86,
    "start_time": "2022-02-22T01:11:56.627Z"
   },
   {
    "duration": 332,
    "start_time": "2022-02-22T01:12:04.239Z"
   },
   {
    "duration": 346,
    "start_time": "2022-02-22T01:12:12.649Z"
   },
   {
    "duration": 153,
    "start_time": "2022-02-22T01:12:33.693Z"
   },
   {
    "duration": 170,
    "start_time": "2022-02-22T01:12:48.815Z"
   },
   {
    "duration": 154,
    "start_time": "2022-02-22T01:12:59.290Z"
   },
   {
    "duration": 150,
    "start_time": "2022-02-22T01:13:14.473Z"
   },
   {
    "duration": 12,
    "start_time": "2022-02-22T01:13:31.905Z"
   },
   {
    "duration": 25,
    "start_time": "2022-02-22T01:13:52.252Z"
   },
   {
    "duration": 3,
    "start_time": "2022-02-22T01:19:08.958Z"
   },
   {
    "duration": 4,
    "start_time": "2022-02-22T01:19:28.761Z"
   },
   {
    "duration": 32,
    "start_time": "2022-02-22T01:26:22.649Z"
   },
   {
    "duration": 26,
    "start_time": "2022-02-22T01:27:54.659Z"
   },
   {
    "duration": 4,
    "start_time": "2022-02-22T01:28:12.095Z"
   },
   {
    "duration": 19,
    "start_time": "2022-02-22T01:28:38.885Z"
   },
   {
    "duration": 4,
    "start_time": "2022-02-22T01:28:44.895Z"
   },
   {
    "duration": 25,
    "start_time": "2022-02-22T01:29:41.346Z"
   },
   {
    "duration": 47,
    "start_time": "2022-02-22T01:31:02.351Z"
   },
   {
    "duration": 272,
    "start_time": "2022-02-22T01:34:45.775Z"
   },
   {
    "duration": 20,
    "start_time": "2022-02-22T01:35:03.592Z"
   },
   {
    "duration": 23,
    "start_time": "2022-02-22T01:35:23.461Z"
   },
   {
    "duration": 58,
    "start_time": "2022-02-22T01:35:54.804Z"
   },
   {
    "duration": 56,
    "start_time": "2022-02-22T01:37:14.886Z"
   },
   {
    "duration": 59,
    "start_time": "2022-02-22T01:37:33.546Z"
   },
   {
    "duration": 267,
    "start_time": "2022-02-22T01:40:02.514Z"
   },
   {
    "duration": 10,
    "start_time": "2022-02-22T01:42:17.706Z"
   },
   {
    "duration": 3,
    "start_time": "2022-02-22T01:49:07.514Z"
   },
   {
    "duration": 11,
    "start_time": "2022-02-22T01:49:32.772Z"
   },
   {
    "duration": 9,
    "start_time": "2022-02-22T01:49:56.710Z"
   },
   {
    "duration": 23,
    "start_time": "2022-02-22T02:07:57.480Z"
   },
   {
    "duration": 270,
    "start_time": "2022-02-22T02:11:20.761Z"
   },
   {
    "duration": 268,
    "start_time": "2022-02-22T02:12:30.276Z"
   },
   {
    "duration": 9,
    "start_time": "2022-02-22T02:14:02.551Z"
   },
   {
    "duration": 12,
    "start_time": "2022-02-22T02:14:23.244Z"
   },
   {
    "duration": 6,
    "start_time": "2022-02-22T16:22:11.751Z"
   },
   {
    "duration": 588,
    "start_time": "2022-02-22T16:22:27.937Z"
   },
   {
    "duration": 383,
    "start_time": "2022-02-22T16:22:47.872Z"
   },
   {
    "duration": 621,
    "start_time": "2022-02-22T16:23:22.617Z"
   },
   {
    "duration": 793,
    "start_time": "2022-02-22T16:24:05.148Z"
   },
   {
    "duration": 176,
    "start_time": "2022-02-22T16:24:05.944Z"
   },
   {
    "duration": 27,
    "start_time": "2022-02-22T16:24:06.123Z"
   },
   {
    "duration": 35,
    "start_time": "2022-02-22T16:24:06.152Z"
   },
   {
    "duration": 7,
    "start_time": "2022-02-22T16:24:06.212Z"
   },
   {
    "duration": 26,
    "start_time": "2022-02-22T16:24:06.222Z"
   },
   {
    "duration": 7,
    "start_time": "2022-02-22T16:24:06.252Z"
   },
   {
    "duration": 100,
    "start_time": "2022-02-22T16:24:06.264Z"
   },
   {
    "duration": 46,
    "start_time": "2022-02-22T16:24:06.367Z"
   },
   {
    "duration": 35,
    "start_time": "2022-02-22T16:24:06.416Z"
   },
   {
    "duration": 94,
    "start_time": "2022-02-22T16:24:06.453Z"
   },
   {
    "duration": 90,
    "start_time": "2022-02-22T16:24:06.549Z"
   },
   {
    "duration": 80,
    "start_time": "2022-02-22T16:24:06.641Z"
   },
   {
    "duration": 13,
    "start_time": "2022-02-22T16:24:06.723Z"
   },
   {
    "duration": 3,
    "start_time": "2022-02-22T16:24:06.739Z"
   },
   {
    "duration": 15,
    "start_time": "2022-02-22T16:24:06.745Z"
   },
   {
    "duration": 50,
    "start_time": "2022-02-22T16:24:06.763Z"
   },
   {
    "duration": 28,
    "start_time": "2022-02-22T16:24:06.815Z"
   },
   {
    "duration": 15,
    "start_time": "2022-02-22T16:24:06.846Z"
   },
   {
    "duration": 23,
    "start_time": "2022-02-22T16:24:11.678Z"
   },
   {
    "duration": 4,
    "start_time": "2022-02-22T16:24:57.687Z"
   },
   {
    "duration": 21,
    "start_time": "2022-02-22T16:26:31.061Z"
   },
   {
    "duration": 410,
    "start_time": "2022-02-22T16:26:54.573Z"
   },
   {
    "duration": 6,
    "start_time": "2022-02-22T16:27:08.722Z"
   },
   {
    "duration": 24,
    "start_time": "2022-02-22T16:27:36.357Z"
   },
   {
    "duration": 20,
    "start_time": "2022-02-22T16:28:41.363Z"
   },
   {
    "duration": 28,
    "start_time": "2022-02-22T16:28:43.151Z"
   },
   {
    "duration": 18,
    "start_time": "2022-02-22T16:28:44.062Z"
   },
   {
    "duration": 20,
    "start_time": "2022-02-22T16:28:44.955Z"
   },
   {
    "duration": 22,
    "start_time": "2022-02-22T16:28:45.641Z"
   },
   {
    "duration": 6,
    "start_time": "2022-02-22T16:32:59.247Z"
   },
   {
    "duration": 9,
    "start_time": "2022-02-22T16:33:16.391Z"
   },
   {
    "duration": 10411,
    "start_time": "2022-02-22T16:39:26.757Z"
   },
   {
    "duration": 675,
    "start_time": "2022-02-22T16:39:36.496Z"
   },
   {
    "duration": 17,
    "start_time": "2022-02-22T16:40:01.879Z"
   },
   {
    "duration": 13,
    "start_time": "2022-02-22T16:40:17.502Z"
   },
   {
    "duration": 7,
    "start_time": "2022-02-22T16:46:21.024Z"
   },
   {
    "duration": 26,
    "start_time": "2022-02-22T16:47:06.864Z"
   },
   {
    "duration": 17,
    "start_time": "2022-02-22T16:47:11.568Z"
   },
   {
    "duration": 28,
    "start_time": "2022-02-22T16:47:16.773Z"
   },
   {
    "duration": 19,
    "start_time": "2022-02-22T16:47:33.527Z"
   },
   {
    "duration": 12,
    "start_time": "2022-02-22T16:52:44.163Z"
   },
   {
    "duration": 6,
    "start_time": "2022-02-22T16:53:09.314Z"
   },
   {
    "duration": 8,
    "start_time": "2022-02-22T16:54:36.088Z"
   },
   {
    "duration": 5,
    "start_time": "2022-02-22T16:54:39.011Z"
   },
   {
    "duration": 327,
    "start_time": "2022-03-07T22:12:18.722Z"
   },
   {
    "duration": 301,
    "start_time": "2022-03-07T22:15:20.342Z"
   },
   {
    "duration": 289,
    "start_time": "2022-03-07T22:15:24.697Z"
   },
   {
    "duration": 546,
    "start_time": "2022-03-07T22:15:50.458Z"
   },
   {
    "duration": 141,
    "start_time": "2022-03-07T22:15:51.006Z"
   },
   {
    "duration": 15,
    "start_time": "2022-03-07T22:15:51.149Z"
   },
   {
    "duration": 23,
    "start_time": "2022-03-07T22:15:51.166Z"
   },
   {
    "duration": 13,
    "start_time": "2022-03-07T22:15:51.191Z"
   },
   {
    "duration": 22,
    "start_time": "2022-03-07T22:15:51.205Z"
   },
   {
    "duration": 3,
    "start_time": "2022-03-07T22:15:51.229Z"
   },
   {
    "duration": 42,
    "start_time": "2022-03-07T22:15:51.234Z"
   },
   {
    "duration": 33,
    "start_time": "2022-03-07T22:15:51.279Z"
   },
   {
    "duration": 25,
    "start_time": "2022-03-07T22:15:51.314Z"
   },
   {
    "duration": 70,
    "start_time": "2022-03-07T22:15:51.341Z"
   },
   {
    "duration": 56,
    "start_time": "2022-03-07T22:15:51.413Z"
   },
   {
    "duration": 66,
    "start_time": "2022-03-07T22:15:51.470Z"
   },
   {
    "duration": 10,
    "start_time": "2022-03-07T22:15:51.538Z"
   },
   {
    "duration": 3,
    "start_time": "2022-03-07T22:15:51.550Z"
   },
   {
    "duration": 9,
    "start_time": "2022-03-07T22:15:51.555Z"
   },
   {
    "duration": 9,
    "start_time": "2022-03-07T22:15:51.566Z"
   },
   {
    "duration": 21,
    "start_time": "2022-03-07T22:15:51.601Z"
   },
   {
    "duration": 11,
    "start_time": "2022-03-07T22:15:51.623Z"
   },
   {
    "duration": 4,
    "start_time": "2022-03-07T22:15:51.636Z"
   },
   {
    "duration": 17,
    "start_time": "2022-03-07T22:15:51.641Z"
   },
   {
    "duration": 43,
    "start_time": "2022-03-07T22:15:51.659Z"
   },
   {
    "duration": 13,
    "start_time": "2022-03-07T22:15:51.704Z"
   },
   {
    "duration": 11,
    "start_time": "2022-03-07T22:15:51.718Z"
   },
   {
    "duration": 13,
    "start_time": "2022-03-07T22:15:51.731Z"
   },
   {
    "duration": 11,
    "start_time": "2022-03-07T22:15:51.746Z"
   },
   {
    "duration": 6,
    "start_time": "2022-03-07T22:15:51.760Z"
   },
   {
    "duration": 42,
    "start_time": "2022-03-07T22:15:51.768Z"
   },
   {
    "duration": 8,
    "start_time": "2022-03-07T22:15:51.811Z"
   },
   {
    "duration": 3,
    "start_time": "2022-03-07T22:15:51.821Z"
   },
   {
    "duration": 25,
    "start_time": "2022-03-07T22:15:51.826Z"
   },
   {
    "duration": 11,
    "start_time": "2022-03-07T22:15:51.852Z"
   },
   {
    "duration": 16,
    "start_time": "2022-03-07T22:15:51.864Z"
   },
   {
    "duration": 12,
    "start_time": "2022-03-07T22:15:51.901Z"
   },
   {
    "duration": 7,
    "start_time": "2022-03-07T22:15:51.914Z"
   },
   {
    "duration": 7,
    "start_time": "2022-03-07T22:15:51.923Z"
   },
   {
    "duration": 11,
    "start_time": "2022-03-07T22:15:51.932Z"
   },
   {
    "duration": 7,
    "start_time": "2022-03-07T22:15:51.944Z"
   },
   {
    "duration": 311,
    "start_time": "2022-03-07T22:16:23.034Z"
   },
   {
    "duration": 39,
    "start_time": "2022-03-07T22:20:40.013Z"
   },
   {
    "duration": 37,
    "start_time": "2022-03-07T22:21:21.899Z"
   },
   {
    "duration": 3,
    "start_time": "2022-03-07T22:22:25.869Z"
   },
   {
    "duration": 10,
    "start_time": "2022-03-07T22:22:35.547Z"
   },
   {
    "duration": 40,
    "start_time": "2022-03-07T22:22:38.703Z"
   },
   {
    "duration": 52,
    "start_time": "2022-03-07T22:26:36.703Z"
   },
   {
    "duration": 313,
    "start_time": "2022-03-07T22:26:43.194Z"
   },
   {
    "duration": 331,
    "start_time": "2022-03-07T22:26:57.198Z"
   },
   {
    "duration": 283,
    "start_time": "2022-03-07T22:27:06.403Z"
   },
   {
    "duration": 3,
    "start_time": "2022-03-07T22:27:19.235Z"
   },
   {
    "duration": 116,
    "start_time": "2022-03-07T22:27:22.613Z"
   },
   {
    "duration": 10,
    "start_time": "2022-03-07T22:27:26.643Z"
   },
   {
    "duration": 21,
    "start_time": "2022-03-07T22:27:32.702Z"
   },
   {
    "duration": 4,
    "start_time": "2022-03-07T22:27:37.886Z"
   },
   {
    "duration": 13,
    "start_time": "2022-03-07T22:27:41.607Z"
   },
   {
    "duration": 3,
    "start_time": "2022-03-07T22:27:45.477Z"
   },
   {
    "duration": 40,
    "start_time": "2022-03-07T22:27:55.325Z"
   },
   {
    "duration": 15,
    "start_time": "2022-03-07T22:29:29.105Z"
   },
   {
    "duration": 22,
    "start_time": "2022-03-07T22:29:37.365Z"
   },
   {
    "duration": 49,
    "start_time": "2022-03-07T22:29:45.227Z"
   },
   {
    "duration": 60,
    "start_time": "2022-03-07T22:29:52.237Z"
   },
   {
    "duration": 283,
    "start_time": "2022-03-07T22:29:55.564Z"
   },
   {
    "duration": 311,
    "start_time": "2022-03-07T22:33:16.204Z"
   },
   {
    "duration": 282,
    "start_time": "2022-03-07T22:33:59.205Z"
   },
   {
    "duration": 3,
    "start_time": "2022-03-07T22:34:27.959Z"
   },
   {
    "duration": 135,
    "start_time": "2022-03-07T22:34:30.954Z"
   },
   {
    "duration": 10,
    "start_time": "2022-03-07T22:34:34.342Z"
   },
   {
    "duration": 21,
    "start_time": "2022-03-07T22:34:37.434Z"
   },
   {
    "duration": 4,
    "start_time": "2022-03-07T22:34:44.230Z"
   },
   {
    "duration": 18,
    "start_time": "2022-03-07T22:34:47.654Z"
   },
   {
    "duration": 4,
    "start_time": "2022-03-07T22:34:49.791Z"
   },
   {
    "duration": 39,
    "start_time": "2022-03-07T22:34:57.307Z"
   },
   {
    "duration": 14,
    "start_time": "2022-03-07T22:35:01.334Z"
   },
   {
    "duration": 21,
    "start_time": "2022-03-07T22:35:05.785Z"
   },
   {
    "duration": 48,
    "start_time": "2022-03-07T22:35:09.557Z"
   },
   {
    "duration": 52,
    "start_time": "2022-03-07T22:35:12.429Z"
   },
   {
    "duration": 1379,
    "start_time": "2022-03-07T22:35:15.880Z"
   },
   {
    "duration": 868,
    "start_time": "2022-03-07T22:35:49.387Z"
   },
   {
    "duration": 309,
    "start_time": "2022-03-07T22:36:04.910Z"
   },
   {
    "duration": 3,
    "start_time": "2022-03-07T22:36:11.851Z"
   },
   {
    "duration": 183,
    "start_time": "2022-03-07T22:36:14.371Z"
   },
   {
    "duration": 14,
    "start_time": "2022-03-07T22:36:17.012Z"
   },
   {
    "duration": 21,
    "start_time": "2022-03-07T22:36:19.920Z"
   },
   {
    "duration": 4,
    "start_time": "2022-03-07T22:36:24.727Z"
   },
   {
    "duration": 17,
    "start_time": "2022-03-07T22:36:27.433Z"
   },
   {
    "duration": 5,
    "start_time": "2022-03-07T22:36:30.235Z"
   },
   {
    "duration": 70,
    "start_time": "2022-03-07T22:36:32.980Z"
   },
   {
    "duration": 25,
    "start_time": "2022-03-07T22:36:36.972Z"
   },
   {
    "duration": 34,
    "start_time": "2022-03-07T22:36:39.780Z"
   },
   {
    "duration": 48,
    "start_time": "2022-03-07T22:36:42.686Z"
   },
   {
    "duration": 50,
    "start_time": "2022-03-07T22:42:03.148Z"
   },
   {
    "duration": 44,
    "start_time": "2022-03-07T22:42:07.187Z"
   },
   {
    "duration": 36,
    "start_time": "2022-03-07T22:42:11.375Z"
   },
   {
    "duration": 2,
    "start_time": "2022-03-07T22:42:23.110Z"
   },
   {
    "duration": 10,
    "start_time": "2022-03-07T22:42:32.828Z"
   },
   {
    "duration": 38,
    "start_time": "2022-03-07T22:42:36.082Z"
   },
   {
    "duration": 4,
    "start_time": "2022-03-07T22:42:47.912Z"
   },
   {
    "duration": 4,
    "start_time": "2022-03-07T22:42:53.027Z"
   },
   {
    "duration": 3,
    "start_time": "2022-03-07T22:43:15.308Z"
   },
   {
    "duration": 5,
    "start_time": "2022-03-07T22:43:38.284Z"
   },
   {
    "duration": 23,
    "start_time": "2022-03-07T22:43:57.291Z"
   },
   {
    "duration": 8,
    "start_time": "2022-03-07T22:54:17.243Z"
   },
   {
    "duration": 9,
    "start_time": "2022-03-07T22:55:02.529Z"
   },
   {
    "duration": 10,
    "start_time": "2022-03-07T22:55:11.188Z"
   },
   {
    "duration": 16,
    "start_time": "2022-03-07T22:59:24.227Z"
   },
   {
    "duration": 14,
    "start_time": "2022-03-07T23:01:03.433Z"
   },
   {
    "duration": 15,
    "start_time": "2022-03-07T23:01:27.293Z"
   },
   {
    "duration": 13,
    "start_time": "2022-03-07T23:01:52.085Z"
   },
   {
    "duration": 14,
    "start_time": "2022-03-07T23:02:16.282Z"
   },
   {
    "duration": 18,
    "start_time": "2022-03-07T23:03:12.688Z"
   },
   {
    "duration": 15,
    "start_time": "2022-03-07T23:03:32.595Z"
   },
   {
    "duration": 289,
    "start_time": "2022-03-07T23:04:19.294Z"
   },
   {
    "duration": 13,
    "start_time": "2022-03-07T23:04:48.883Z"
   },
   {
    "duration": 7,
    "start_time": "2022-03-07T23:04:52.988Z"
   }
  ],
  "colab": {
   "collapsed_sections": [
    "E0vqbgi9ay0H",
    "VUC88oWjTJw2",
    "atZAxtq4_Zcu"
   ],
   "name": "EmptyFinalProject.ipynb\"",
   "provenance": []
  },
  "kernelspec": {
   "display_name": "Python 3 (ipykernel)",
   "language": "python",
   "name": "python3"
  },
  "language_info": {
   "codemirror_mode": {
    "name": "ipython",
    "version": 3
   },
   "file_extension": ".py",
   "mimetype": "text/x-python",
   "name": "python",
   "nbconvert_exporter": "python",
   "pygments_lexer": "ipython3",
   "version": "3.9.12"
  },
  "toc": {
   "base_numbering": 1,
   "nav_menu": {},
   "number_sections": true,
   "sideBar": true,
   "skip_h1_title": true,
   "title_cell": "Table of Contents",
   "title_sidebar": "Contents",
   "toc_cell": false,
   "toc_position": {},
   "toc_section_display": true,
   "toc_window_display": false
  }
 },
 "nbformat": 4,
 "nbformat_minor": 4
}
