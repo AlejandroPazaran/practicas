{
 "cells": [
  {
   "cell_type": "markdown",
   "metadata": {},
   "source": [
    "# Reporte de hipótesis y análisis  de test A/B sobre las métricas de la tienda en línea\n",
    "\n",
    "Para una gran tienda online se pretende priorizar hipostesis recopiladas junto con el equipo de marketing, con el propósito de mejorar la página en orden de incrementar la convivencia de los usuarios con la página y los ingresos. Así mismo se lleva a cabo un análisis de un test A/B realizado con anterioridad.\n",
    "\n",
    "A continuación se enlistas los distintos apartados del reporte:\n",
    "\n",
    "Parte 1: Priorización de hipótesis\n",
    "* 1 - Carga de archivo e inspección inicial de información\n",
    "* 2 - Preparación de los datos\n",
    "* 3 - Análisis de los datos\n",
    "* 4 - Conclusiones generales\n",
    "\n",
    "Parte 2: Análisis de test A/B\n",
    "* 1 - Carga de archivo e inspección inicial de información\n",
    "* 2 - Preparación de los datos\n",
    "* 3 - Análisis de los datos\n",
    "* 4 - Conclusiones generales\n",
    "\n",
    "## Parte 1\n",
    "\n",
    "### Carga de archivo e inspección inicial de información\n",
    "\n",
    "Antes que nada se cargarán las librerías a ser utilizadas, posteriormente, se realizará la carga del documento donde se encuentran los datos a ser trabajados y se obtendrá la información de esta misma para comenzar tener una idea sobre cómo será necesario limpiar la información."
   ]
  },
  {
   "cell_type": "code",
   "execution_count": 1,
   "metadata": {},
   "outputs": [],
   "source": [
    "#Importación de librerías\n",
    "\n",
    "import pandas as pd\n",
    "import numpy as np\n",
    "import matplotlib.pyplot as plt\n",
    "import seaborn as sns\n",
    "import datetime as dt\n",
    "import scipy.stats as stats\n",
    "from scipy import stats as st\n",
    "\n",
    "#Especificación de ancho de columna\n",
    "pd.set_option('max_colwidth', 450)"
   ]
  },
  {
   "cell_type": "code",
   "execution_count": 2,
   "metadata": {},
   "outputs": [],
   "source": [
    "#Importación del archivo csv\n",
    "\n",
    "data = pd.read_csv('/datasets/hypotheses_us.csv', sep=';')"
   ]
  },
  {
   "cell_type": "code",
   "execution_count": 3,
   "metadata": {},
   "outputs": [
    {
     "name": "stdout",
     "output_type": "stream",
     "text": [
      "<class 'pandas.core.frame.DataFrame'>\n",
      "RangeIndex: 9 entries, 0 to 8\n",
      "Data columns (total 5 columns):\n",
      " #   Column      Non-Null Count  Dtype \n",
      "---  ------      --------------  ----- \n",
      " 0   Hypothesis  9 non-null      object\n",
      " 1   Reach       9 non-null      int64 \n",
      " 2   Impact      9 non-null      int64 \n",
      " 3   Confidence  9 non-null      int64 \n",
      " 4   Effort      9 non-null      int64 \n",
      "dtypes: int64(4), object(1)\n",
      "memory usage: 488.0+ bytes\n"
     ]
    },
    {
     "data": {
      "text/html": [
       "<div>\n",
       "<style scoped>\n",
       "    .dataframe tbody tr th:only-of-type {\n",
       "        vertical-align: middle;\n",
       "    }\n",
       "\n",
       "    .dataframe tbody tr th {\n",
       "        vertical-align: top;\n",
       "    }\n",
       "\n",
       "    .dataframe thead th {\n",
       "        text-align: right;\n",
       "    }\n",
       "</style>\n",
       "<table border=\"1\" class=\"dataframe\">\n",
       "  <thead>\n",
       "    <tr style=\"text-align: right;\">\n",
       "      <th></th>\n",
       "      <th>Hypothesis</th>\n",
       "      <th>Reach</th>\n",
       "      <th>Impact</th>\n",
       "      <th>Confidence</th>\n",
       "      <th>Effort</th>\n",
       "    </tr>\n",
       "  </thead>\n",
       "  <tbody>\n",
       "    <tr>\n",
       "      <th>0</th>\n",
       "      <td>Add two new channels for attracting traffic. This will bring 30% more users</td>\n",
       "      <td>3</td>\n",
       "      <td>10</td>\n",
       "      <td>8</td>\n",
       "      <td>6</td>\n",
       "    </tr>\n",
       "    <tr>\n",
       "      <th>1</th>\n",
       "      <td>Launch your own delivery service. This will shorten delivery time</td>\n",
       "      <td>2</td>\n",
       "      <td>5</td>\n",
       "      <td>4</td>\n",
       "      <td>10</td>\n",
       "    </tr>\n",
       "    <tr>\n",
       "      <th>2</th>\n",
       "      <td>Add product recommendation blocks to the store's site. This will increase conversion and average purchase size</td>\n",
       "      <td>8</td>\n",
       "      <td>3</td>\n",
       "      <td>7</td>\n",
       "      <td>3</td>\n",
       "    </tr>\n",
       "    <tr>\n",
       "      <th>3</th>\n",
       "      <td>Change the category structure. This will increase conversion since users will find the products they want more quickly</td>\n",
       "      <td>8</td>\n",
       "      <td>3</td>\n",
       "      <td>3</td>\n",
       "      <td>8</td>\n",
       "    </tr>\n",
       "    <tr>\n",
       "      <th>4</th>\n",
       "      <td>Change the background color on the main page. This will increase user engagement</td>\n",
       "      <td>3</td>\n",
       "      <td>1</td>\n",
       "      <td>1</td>\n",
       "      <td>1</td>\n",
       "    </tr>\n",
       "    <tr>\n",
       "      <th>5</th>\n",
       "      <td>Add a customer review page. This will increase the number of orders</td>\n",
       "      <td>3</td>\n",
       "      <td>2</td>\n",
       "      <td>2</td>\n",
       "      <td>3</td>\n",
       "    </tr>\n",
       "    <tr>\n",
       "      <th>6</th>\n",
       "      <td>Show banners with current offers and sales on the main page. This will boost conversion</td>\n",
       "      <td>5</td>\n",
       "      <td>3</td>\n",
       "      <td>8</td>\n",
       "      <td>3</td>\n",
       "    </tr>\n",
       "    <tr>\n",
       "      <th>7</th>\n",
       "      <td>Add a subscription form to all the main pages. This will help you compile a mailing list</td>\n",
       "      <td>10</td>\n",
       "      <td>7</td>\n",
       "      <td>8</td>\n",
       "      <td>5</td>\n",
       "    </tr>\n",
       "    <tr>\n",
       "      <th>8</th>\n",
       "      <td>Launch a promotion that gives users discounts on their birthdays</td>\n",
       "      <td>1</td>\n",
       "      <td>9</td>\n",
       "      <td>9</td>\n",
       "      <td>5</td>\n",
       "    </tr>\n",
       "  </tbody>\n",
       "</table>\n",
       "</div>"
      ],
      "text/plain": [
       "                                                                                                               Hypothesis  \\\n",
       "0                                             Add two new channels for attracting traffic. This will bring 30% more users   \n",
       "1                                                       Launch your own delivery service. This will shorten delivery time   \n",
       "2          Add product recommendation blocks to the store's site. This will increase conversion and average purchase size   \n",
       "3  Change the category structure. This will increase conversion since users will find the products they want more quickly   \n",
       "4                                        Change the background color on the main page. This will increase user engagement   \n",
       "5                                                     Add a customer review page. This will increase the number of orders   \n",
       "6                                 Show banners with current offers and sales on the main page. This will boost conversion   \n",
       "7                                Add a subscription form to all the main pages. This will help you compile a mailing list   \n",
       "8                                                        Launch a promotion that gives users discounts on their birthdays   \n",
       "\n",
       "   Reach  Impact  Confidence  Effort  \n",
       "0      3      10           8       6  \n",
       "1      2       5           4      10  \n",
       "2      8       3           7       3  \n",
       "3      8       3           3       8  \n",
       "4      3       1           1       1  \n",
       "5      3       2           2       3  \n",
       "6      5       3           8       3  \n",
       "7     10       7           8       5  \n",
       "8      1       9           9       5  "
      ]
     },
     "metadata": {},
     "output_type": "display_data"
    }
   ],
   "source": [
    "#Obtención de información referente a la base\n",
    "data.info()\n",
    "display(data)"
   ]
  },
  {
   "cell_type": "markdown",
   "metadata": {},
   "source": [
    "### Preparación de los datos\n",
    "\n",
    "La base de datos es bastante simple y pequeña, todo parece encontrarse en orden, no hay duplicados y los tipos de datos de las columnas son correctos, únicamente hará falta renombrar las columnas de acuerdo con las mejores prácticas."
   ]
  },
  {
   "cell_type": "code",
   "execution_count": 5,
   "metadata": {},
   "outputs": [
    {
     "name": "stdout",
     "output_type": "stream",
     "text": [
      "<class 'pandas.core.frame.DataFrame'>\n",
      "RangeIndex: 9 entries, 0 to 8\n",
      "Data columns (total 5 columns):\n",
      " #   Column      Non-Null Count  Dtype \n",
      "---  ------      --------------  ----- \n",
      " 0   hypothesis  9 non-null      object\n",
      " 1   reach       9 non-null      int64 \n",
      " 2   impact      9 non-null      int64 \n",
      " 3   confidence  9 non-null      int64 \n",
      " 4   effort      9 non-null      int64 \n",
      "dtypes: int64(4), object(1)\n",
      "memory usage: 488.0+ bytes\n"
     ]
    }
   ],
   "source": [
    "data.columns = data.columns.str.lower()\n",
    "data.info()"
   ]
  },
  {
   "cell_type": "markdown",
   "metadata": {},
   "source": [
    "### Análisis de los datos\n",
    "\n",
    "A continuación priorizaremos las hipotesis primero con el método ICE y posteriormente con el método RICE. Los parametros de escala fueron obtenidos previamente y únicamente queda pendiente el estudio de su priorización."
   ]
  },
  {
   "cell_type": "code",
   "execution_count": 6,
   "metadata": {},
   "outputs": [
    {
     "data": {
      "text/html": [
       "<div>\n",
       "<style scoped>\n",
       "    .dataframe tbody tr th:only-of-type {\n",
       "        vertical-align: middle;\n",
       "    }\n",
       "\n",
       "    .dataframe tbody tr th {\n",
       "        vertical-align: top;\n",
       "    }\n",
       "\n",
       "    .dataframe thead th {\n",
       "        text-align: right;\n",
       "    }\n",
       "</style>\n",
       "<table border=\"1\" class=\"dataframe\">\n",
       "  <thead>\n",
       "    <tr style=\"text-align: right;\">\n",
       "      <th></th>\n",
       "      <th>hypothesis</th>\n",
       "      <th>ICE</th>\n",
       "    </tr>\n",
       "  </thead>\n",
       "  <tbody>\n",
       "    <tr>\n",
       "      <th>8</th>\n",
       "      <td>Launch a promotion that gives users discounts on their birthdays</td>\n",
       "      <td>16.200000</td>\n",
       "    </tr>\n",
       "    <tr>\n",
       "      <th>0</th>\n",
       "      <td>Add two new channels for attracting traffic. This will bring 30% more users</td>\n",
       "      <td>13.333333</td>\n",
       "    </tr>\n",
       "    <tr>\n",
       "      <th>7</th>\n",
       "      <td>Add a subscription form to all the main pages. This will help you compile a mailing list</td>\n",
       "      <td>11.200000</td>\n",
       "    </tr>\n",
       "    <tr>\n",
       "      <th>6</th>\n",
       "      <td>Show banners with current offers and sales on the main page. This will boost conversion</td>\n",
       "      <td>8.000000</td>\n",
       "    </tr>\n",
       "    <tr>\n",
       "      <th>2</th>\n",
       "      <td>Add product recommendation blocks to the store's site. This will increase conversion and average purchase size</td>\n",
       "      <td>7.000000</td>\n",
       "    </tr>\n",
       "    <tr>\n",
       "      <th>1</th>\n",
       "      <td>Launch your own delivery service. This will shorten delivery time</td>\n",
       "      <td>2.000000</td>\n",
       "    </tr>\n",
       "    <tr>\n",
       "      <th>5</th>\n",
       "      <td>Add a customer review page. This will increase the number of orders</td>\n",
       "      <td>1.333333</td>\n",
       "    </tr>\n",
       "    <tr>\n",
       "      <th>3</th>\n",
       "      <td>Change the category structure. This will increase conversion since users will find the products they want more quickly</td>\n",
       "      <td>1.125000</td>\n",
       "    </tr>\n",
       "    <tr>\n",
       "      <th>4</th>\n",
       "      <td>Change the background color on the main page. This will increase user engagement</td>\n",
       "      <td>1.000000</td>\n",
       "    </tr>\n",
       "  </tbody>\n",
       "</table>\n",
       "</div>"
      ],
      "text/plain": [
       "                                                                                                               hypothesis  \\\n",
       "8                                                        Launch a promotion that gives users discounts on their birthdays   \n",
       "0                                             Add two new channels for attracting traffic. This will bring 30% more users   \n",
       "7                                Add a subscription form to all the main pages. This will help you compile a mailing list   \n",
       "6                                 Show banners with current offers and sales on the main page. This will boost conversion   \n",
       "2          Add product recommendation blocks to the store's site. This will increase conversion and average purchase size   \n",
       "1                                                       Launch your own delivery service. This will shorten delivery time   \n",
       "5                                                     Add a customer review page. This will increase the number of orders   \n",
       "3  Change the category structure. This will increase conversion since users will find the products they want more quickly   \n",
       "4                                        Change the background color on the main page. This will increase user engagement   \n",
       "\n",
       "         ICE  \n",
       "8  16.200000  \n",
       "0  13.333333  \n",
       "7  11.200000  \n",
       "6   8.000000  \n",
       "2   7.000000  \n",
       "1   2.000000  \n",
       "5   1.333333  \n",
       "3   1.125000  \n",
       "4   1.000000  "
      ]
     },
     "metadata": {},
     "output_type": "display_data"
    }
   ],
   "source": [
    "# Priorización ICE\n",
    "\n",
    "data['ICE']=(data['impact']*data['confidence'])/data['effort']\n",
    "\n",
    "display(data.sort_values('ICE',ascending=False)[['hypothesis','ICE']])"
   ]
  },
  {
   "cell_type": "code",
   "execution_count": 7,
   "metadata": {},
   "outputs": [
    {
     "data": {
      "text/html": [
       "<div>\n",
       "<style scoped>\n",
       "    .dataframe tbody tr th:only-of-type {\n",
       "        vertical-align: middle;\n",
       "    }\n",
       "\n",
       "    .dataframe tbody tr th {\n",
       "        vertical-align: top;\n",
       "    }\n",
       "\n",
       "    .dataframe thead th {\n",
       "        text-align: right;\n",
       "    }\n",
       "</style>\n",
       "<table border=\"1\" class=\"dataframe\">\n",
       "  <thead>\n",
       "    <tr style=\"text-align: right;\">\n",
       "      <th></th>\n",
       "      <th>hypothesis</th>\n",
       "      <th>RICE</th>\n",
       "    </tr>\n",
       "  </thead>\n",
       "  <tbody>\n",
       "    <tr>\n",
       "      <th>7</th>\n",
       "      <td>Add a subscription form to all the main pages. This will help you compile a mailing list</td>\n",
       "      <td>112.0</td>\n",
       "    </tr>\n",
       "    <tr>\n",
       "      <th>2</th>\n",
       "      <td>Add product recommendation blocks to the store's site. This will increase conversion and average purchase size</td>\n",
       "      <td>56.0</td>\n",
       "    </tr>\n",
       "    <tr>\n",
       "      <th>0</th>\n",
       "      <td>Add two new channels for attracting traffic. This will bring 30% more users</td>\n",
       "      <td>40.0</td>\n",
       "    </tr>\n",
       "    <tr>\n",
       "      <th>6</th>\n",
       "      <td>Show banners with current offers and sales on the main page. This will boost conversion</td>\n",
       "      <td>40.0</td>\n",
       "    </tr>\n",
       "    <tr>\n",
       "      <th>8</th>\n",
       "      <td>Launch a promotion that gives users discounts on their birthdays</td>\n",
       "      <td>16.2</td>\n",
       "    </tr>\n",
       "    <tr>\n",
       "      <th>3</th>\n",
       "      <td>Change the category structure. This will increase conversion since users will find the products they want more quickly</td>\n",
       "      <td>9.0</td>\n",
       "    </tr>\n",
       "    <tr>\n",
       "      <th>1</th>\n",
       "      <td>Launch your own delivery service. This will shorten delivery time</td>\n",
       "      <td>4.0</td>\n",
       "    </tr>\n",
       "    <tr>\n",
       "      <th>5</th>\n",
       "      <td>Add a customer review page. This will increase the number of orders</td>\n",
       "      <td>4.0</td>\n",
       "    </tr>\n",
       "    <tr>\n",
       "      <th>4</th>\n",
       "      <td>Change the background color on the main page. This will increase user engagement</td>\n",
       "      <td>3.0</td>\n",
       "    </tr>\n",
       "  </tbody>\n",
       "</table>\n",
       "</div>"
      ],
      "text/plain": [
       "                                                                                                               hypothesis  \\\n",
       "7                                Add a subscription form to all the main pages. This will help you compile a mailing list   \n",
       "2          Add product recommendation blocks to the store's site. This will increase conversion and average purchase size   \n",
       "0                                             Add two new channels for attracting traffic. This will bring 30% more users   \n",
       "6                                 Show banners with current offers and sales on the main page. This will boost conversion   \n",
       "8                                                        Launch a promotion that gives users discounts on their birthdays   \n",
       "3  Change the category structure. This will increase conversion since users will find the products they want more quickly   \n",
       "1                                                       Launch your own delivery service. This will shorten delivery time   \n",
       "5                                                     Add a customer review page. This will increase the number of orders   \n",
       "4                                        Change the background color on the main page. This will increase user engagement   \n",
       "\n",
       "    RICE  \n",
       "7  112.0  \n",
       "2   56.0  \n",
       "0   40.0  \n",
       "6   40.0  \n",
       "8   16.2  \n",
       "3    9.0  \n",
       "1    4.0  \n",
       "5    4.0  \n",
       "4    3.0  "
      ]
     },
     "metadata": {},
     "output_type": "display_data"
    }
   ],
   "source": [
    "#Priorización RICE\n",
    "\n",
    "data['RICE']=(data['impact']*data['confidence']*data['reach'])/data['effort']\n",
    "\n",
    "display(data.sort_values('RICE',ascending=False)[['hypothesis','RICE']])"
   ]
  },
  {
   "cell_type": "markdown",
   "metadata": {},
   "source": [
    "Podemos observar que entre ambos métodos existen diferencias considerables en el orden de las hipótesis, permaneciendo en su lugar únicamente la 4 como última; esto implica que el factor de alcance realmente tiene mucho impacto al ser considerado. Se recomienda dejar las últimas 4 hipótesis de lado, ya que aunque cambian de posición permanecen estas cuatro como las últimas en ambos estudios, y dado que se trata de un análisis de una página de ventas, parece ser lo mejor el seguir la priorización RICE que toma el alcance en consideración.\n",
    "\n",
    "### Conclusiones generales\n",
    "\n",
    "Se recomienda comenzar la evaluación de hipótesis por el añadido del formato de suscripción en todas las páginas y seguir con los bloques de recomendación de productos. Esto se obtuvo a partir de una priorización RICE la cual considera el alcance de los cambios sugeridos y puede tener un mayor impacto en el negocio.\n",
    "\n",
    "## Análisis de test A/B\n",
    "\n",
    "De los resultados obtenidos previamente y documentados en los archivos orders_us.csv y visitors_us.csv, se procederá a obtener el análisis correspondiente a los efectos generados por la propuesta B.\n",
    "\n",
    "### Carga de archivos e inspección inicial de información\n",
    "\n",
    "Se realizará la carga de los documentos donde se encuentran los datos a ser trabajados y se obtendrá la información de esta misma para comenzar tener una idea sobre cómo será necesario limpiar la información."
   ]
  },
  {
   "cell_type": "code",
   "execution_count": 8,
   "metadata": {},
   "outputs": [],
   "source": [
    "#Importación del archivo csv\n",
    "\n",
    "orders_o = pd.read_csv('/datasets/orders_us.csv', sep=',')\n",
    "visitors = pd.read_csv('/datasets/visitors_us.csv', sep=',')"
   ]
  },
  {
   "cell_type": "code",
   "execution_count": 9,
   "metadata": {},
   "outputs": [
    {
     "name": "stdout",
     "output_type": "stream",
     "text": [
      "<class 'pandas.core.frame.DataFrame'>\n",
      "RangeIndex: 1197 entries, 0 to 1196\n",
      "Data columns (total 5 columns):\n",
      " #   Column         Non-Null Count  Dtype  \n",
      "---  ------         --------------  -----  \n",
      " 0   transactionId  1197 non-null   int64  \n",
      " 1   visitorId      1197 non-null   int64  \n",
      " 2   date           1197 non-null   object \n",
      " 3   revenue        1197 non-null   float64\n",
      " 4   group          1197 non-null   object \n",
      "dtypes: float64(1), int64(2), object(2)\n",
      "memory usage: 46.9+ KB\n"
     ]
    },
    {
     "data": {
      "text/html": [
       "<div>\n",
       "<style scoped>\n",
       "    .dataframe tbody tr th:only-of-type {\n",
       "        vertical-align: middle;\n",
       "    }\n",
       "\n",
       "    .dataframe tbody tr th {\n",
       "        vertical-align: top;\n",
       "    }\n",
       "\n",
       "    .dataframe thead th {\n",
       "        text-align: right;\n",
       "    }\n",
       "</style>\n",
       "<table border=\"1\" class=\"dataframe\">\n",
       "  <thead>\n",
       "    <tr style=\"text-align: right;\">\n",
       "      <th></th>\n",
       "      <th>transactionId</th>\n",
       "      <th>visitorId</th>\n",
       "      <th>date</th>\n",
       "      <th>revenue</th>\n",
       "      <th>group</th>\n",
       "    </tr>\n",
       "  </thead>\n",
       "  <tbody>\n",
       "    <tr>\n",
       "      <th>0</th>\n",
       "      <td>3667963787</td>\n",
       "      <td>3312258926</td>\n",
       "      <td>2019-08-15</td>\n",
       "      <td>30.4</td>\n",
       "      <td>B</td>\n",
       "    </tr>\n",
       "    <tr>\n",
       "      <th>1</th>\n",
       "      <td>2804400009</td>\n",
       "      <td>3642806036</td>\n",
       "      <td>2019-08-15</td>\n",
       "      <td>15.2</td>\n",
       "      <td>B</td>\n",
       "    </tr>\n",
       "    <tr>\n",
       "      <th>2</th>\n",
       "      <td>2961555356</td>\n",
       "      <td>4069496402</td>\n",
       "      <td>2019-08-15</td>\n",
       "      <td>10.2</td>\n",
       "      <td>A</td>\n",
       "    </tr>\n",
       "    <tr>\n",
       "      <th>3</th>\n",
       "      <td>3797467345</td>\n",
       "      <td>1196621759</td>\n",
       "      <td>2019-08-15</td>\n",
       "      <td>155.1</td>\n",
       "      <td>B</td>\n",
       "    </tr>\n",
       "    <tr>\n",
       "      <th>4</th>\n",
       "      <td>2282983706</td>\n",
       "      <td>2322279887</td>\n",
       "      <td>2019-08-15</td>\n",
       "      <td>40.5</td>\n",
       "      <td>B</td>\n",
       "    </tr>\n",
       "  </tbody>\n",
       "</table>\n",
       "</div>"
      ],
      "text/plain": [
       "   transactionId   visitorId        date  revenue group\n",
       "0     3667963787  3312258926  2019-08-15     30.4     B\n",
       "1     2804400009  3642806036  2019-08-15     15.2     B\n",
       "2     2961555356  4069496402  2019-08-15     10.2     A\n",
       "3     3797467345  1196621759  2019-08-15    155.1     B\n",
       "4     2282983706  2322279887  2019-08-15     40.5     B"
      ]
     },
     "metadata": {},
     "output_type": "display_data"
    }
   ],
   "source": [
    "#Obtención de información referente a la base orders\n",
    "orders_o.info()\n",
    "display(orders_o.head())"
   ]
  },
  {
   "cell_type": "code",
   "execution_count": 10,
   "metadata": {},
   "outputs": [
    {
     "name": "stdout",
     "output_type": "stream",
     "text": [
      "<class 'pandas.core.frame.DataFrame'>\n",
      "RangeIndex: 62 entries, 0 to 61\n",
      "Data columns (total 3 columns):\n",
      " #   Column  Non-Null Count  Dtype \n",
      "---  ------  --------------  ----- \n",
      " 0   date    62 non-null     object\n",
      " 1   group   62 non-null     object\n",
      " 2   visits  62 non-null     int64 \n",
      "dtypes: int64(1), object(2)\n",
      "memory usage: 1.6+ KB\n"
     ]
    },
    {
     "data": {
      "text/html": [
       "<div>\n",
       "<style scoped>\n",
       "    .dataframe tbody tr th:only-of-type {\n",
       "        vertical-align: middle;\n",
       "    }\n",
       "\n",
       "    .dataframe tbody tr th {\n",
       "        vertical-align: top;\n",
       "    }\n",
       "\n",
       "    .dataframe thead th {\n",
       "        text-align: right;\n",
       "    }\n",
       "</style>\n",
       "<table border=\"1\" class=\"dataframe\">\n",
       "  <thead>\n",
       "    <tr style=\"text-align: right;\">\n",
       "      <th></th>\n",
       "      <th>date</th>\n",
       "      <th>group</th>\n",
       "      <th>visits</th>\n",
       "    </tr>\n",
       "  </thead>\n",
       "  <tbody>\n",
       "    <tr>\n",
       "      <th>0</th>\n",
       "      <td>2019-08-01</td>\n",
       "      <td>A</td>\n",
       "      <td>719</td>\n",
       "    </tr>\n",
       "    <tr>\n",
       "      <th>1</th>\n",
       "      <td>2019-08-02</td>\n",
       "      <td>A</td>\n",
       "      <td>619</td>\n",
       "    </tr>\n",
       "    <tr>\n",
       "      <th>2</th>\n",
       "      <td>2019-08-03</td>\n",
       "      <td>A</td>\n",
       "      <td>507</td>\n",
       "    </tr>\n",
       "    <tr>\n",
       "      <th>3</th>\n",
       "      <td>2019-08-04</td>\n",
       "      <td>A</td>\n",
       "      <td>717</td>\n",
       "    </tr>\n",
       "    <tr>\n",
       "      <th>4</th>\n",
       "      <td>2019-08-05</td>\n",
       "      <td>A</td>\n",
       "      <td>756</td>\n",
       "    </tr>\n",
       "  </tbody>\n",
       "</table>\n",
       "</div>"
      ],
      "text/plain": [
       "         date group  visits\n",
       "0  2019-08-01     A     719\n",
       "1  2019-08-02     A     619\n",
       "2  2019-08-03     A     507\n",
       "3  2019-08-04     A     717\n",
       "4  2019-08-05     A     756"
      ]
     },
     "metadata": {},
     "output_type": "display_data"
    }
   ],
   "source": [
    "#Obtención de información referente a la base visitors\n",
    "visitors.info()\n",
    "display(visitors.head())"
   ]
  },
  {
   "cell_type": "markdown",
   "metadata": {},
   "source": [
    "En un primer momento podemos observar que para la preparación de los datos va a ser necesario cambiar los tipos de las columnas a datetime, y se buscará que no existan duplicados o problemas de usuarios que hubieran entrado en ambos grupos de trabajo. Fuera de esto no parece que pueda existir ningún problema con las bases de información en un primer momento, los nombres de las columnas cumplen con las mejores prácticas y no existen valores ausentes.\n",
    "\n",
    "### Preparación de los datos\n",
    "\n",
    "Comenzaremos cambiando los tipos de las columnas de fecha de ambas bases."
   ]
  },
  {
   "cell_type": "code",
   "execution_count": 11,
   "metadata": {},
   "outputs": [
    {
     "name": "stdout",
     "output_type": "stream",
     "text": [
      "<class 'pandas.core.frame.DataFrame'>\n",
      "RangeIndex: 1197 entries, 0 to 1196\n",
      "Data columns (total 5 columns):\n",
      " #   Column         Non-Null Count  Dtype         \n",
      "---  ------         --------------  -----         \n",
      " 0   transactionId  1197 non-null   int64         \n",
      " 1   visitorId      1197 non-null   int64         \n",
      " 2   date           1197 non-null   datetime64[ns]\n",
      " 3   revenue        1197 non-null   float64       \n",
      " 4   group          1197 non-null   object        \n",
      "dtypes: datetime64[ns](1), float64(1), int64(2), object(1)\n",
      "memory usage: 46.9+ KB\n"
     ]
    },
    {
     "data": {
      "text/html": [
       "<div>\n",
       "<style scoped>\n",
       "    .dataframe tbody tr th:only-of-type {\n",
       "        vertical-align: middle;\n",
       "    }\n",
       "\n",
       "    .dataframe tbody tr th {\n",
       "        vertical-align: top;\n",
       "    }\n",
       "\n",
       "    .dataframe thead th {\n",
       "        text-align: right;\n",
       "    }\n",
       "</style>\n",
       "<table border=\"1\" class=\"dataframe\">\n",
       "  <thead>\n",
       "    <tr style=\"text-align: right;\">\n",
       "      <th></th>\n",
       "      <th>transactionId</th>\n",
       "      <th>visitorId</th>\n",
       "      <th>date</th>\n",
       "      <th>revenue</th>\n",
       "      <th>group</th>\n",
       "    </tr>\n",
       "  </thead>\n",
       "  <tbody>\n",
       "    <tr>\n",
       "      <th>0</th>\n",
       "      <td>3667963787</td>\n",
       "      <td>3312258926</td>\n",
       "      <td>2019-08-15</td>\n",
       "      <td>30.4</td>\n",
       "      <td>B</td>\n",
       "    </tr>\n",
       "    <tr>\n",
       "      <th>1</th>\n",
       "      <td>2804400009</td>\n",
       "      <td>3642806036</td>\n",
       "      <td>2019-08-15</td>\n",
       "      <td>15.2</td>\n",
       "      <td>B</td>\n",
       "    </tr>\n",
       "    <tr>\n",
       "      <th>2</th>\n",
       "      <td>2961555356</td>\n",
       "      <td>4069496402</td>\n",
       "      <td>2019-08-15</td>\n",
       "      <td>10.2</td>\n",
       "      <td>A</td>\n",
       "    </tr>\n",
       "    <tr>\n",
       "      <th>3</th>\n",
       "      <td>3797467345</td>\n",
       "      <td>1196621759</td>\n",
       "      <td>2019-08-15</td>\n",
       "      <td>155.1</td>\n",
       "      <td>B</td>\n",
       "    </tr>\n",
       "    <tr>\n",
       "      <th>4</th>\n",
       "      <td>2282983706</td>\n",
       "      <td>2322279887</td>\n",
       "      <td>2019-08-15</td>\n",
       "      <td>40.5</td>\n",
       "      <td>B</td>\n",
       "    </tr>\n",
       "  </tbody>\n",
       "</table>\n",
       "</div>"
      ],
      "text/plain": [
       "   transactionId   visitorId       date  revenue group\n",
       "0     3667963787  3312258926 2019-08-15     30.4     B\n",
       "1     2804400009  3642806036 2019-08-15     15.2     B\n",
       "2     2961555356  4069496402 2019-08-15     10.2     A\n",
       "3     3797467345  1196621759 2019-08-15    155.1     B\n",
       "4     2282983706  2322279887 2019-08-15     40.5     B"
      ]
     },
     "metadata": {},
     "output_type": "display_data"
    },
    {
     "name": "stdout",
     "output_type": "stream",
     "text": [
      "---\n",
      "<class 'pandas.core.frame.DataFrame'>\n",
      "RangeIndex: 62 entries, 0 to 61\n",
      "Data columns (total 3 columns):\n",
      " #   Column  Non-Null Count  Dtype         \n",
      "---  ------  --------------  -----         \n",
      " 0   date    62 non-null     datetime64[ns]\n",
      " 1   group   62 non-null     object        \n",
      " 2   visits  62 non-null     int64         \n",
      "dtypes: datetime64[ns](1), int64(1), object(1)\n",
      "memory usage: 1.6+ KB\n"
     ]
    },
    {
     "data": {
      "text/html": [
       "<div>\n",
       "<style scoped>\n",
       "    .dataframe tbody tr th:only-of-type {\n",
       "        vertical-align: middle;\n",
       "    }\n",
       "\n",
       "    .dataframe tbody tr th {\n",
       "        vertical-align: top;\n",
       "    }\n",
       "\n",
       "    .dataframe thead th {\n",
       "        text-align: right;\n",
       "    }\n",
       "</style>\n",
       "<table border=\"1\" class=\"dataframe\">\n",
       "  <thead>\n",
       "    <tr style=\"text-align: right;\">\n",
       "      <th></th>\n",
       "      <th>date</th>\n",
       "      <th>group</th>\n",
       "      <th>visits</th>\n",
       "    </tr>\n",
       "  </thead>\n",
       "  <tbody>\n",
       "    <tr>\n",
       "      <th>0</th>\n",
       "      <td>2019-08-01</td>\n",
       "      <td>A</td>\n",
       "      <td>719</td>\n",
       "    </tr>\n",
       "    <tr>\n",
       "      <th>1</th>\n",
       "      <td>2019-08-02</td>\n",
       "      <td>A</td>\n",
       "      <td>619</td>\n",
       "    </tr>\n",
       "    <tr>\n",
       "      <th>2</th>\n",
       "      <td>2019-08-03</td>\n",
       "      <td>A</td>\n",
       "      <td>507</td>\n",
       "    </tr>\n",
       "    <tr>\n",
       "      <th>3</th>\n",
       "      <td>2019-08-04</td>\n",
       "      <td>A</td>\n",
       "      <td>717</td>\n",
       "    </tr>\n",
       "    <tr>\n",
       "      <th>4</th>\n",
       "      <td>2019-08-05</td>\n",
       "      <td>A</td>\n",
       "      <td>756</td>\n",
       "    </tr>\n",
       "  </tbody>\n",
       "</table>\n",
       "</div>"
      ],
      "text/plain": [
       "        date group  visits\n",
       "0 2019-08-01     A     719\n",
       "1 2019-08-02     A     619\n",
       "2 2019-08-03     A     507\n",
       "3 2019-08-04     A     717\n",
       "4 2019-08-05     A     756"
      ]
     },
     "metadata": {},
     "output_type": "display_data"
    }
   ],
   "source": [
    "#Cambiar el tipo de datos de las columnas de fecha\n",
    "\n",
    "visitors['date'] = visitors['date'].map(\n",
    "    lambda x: dt.datetime.strptime(x, '%Y-%m-%d')\n",
    ")\n",
    "\n",
    "orders_o['date'] = orders_o['date'].map(\n",
    "    lambda x: dt.datetime.strptime(x, '%Y-%m-%d')\n",
    ")\n",
    "\n",
    "orders_o.info()\n",
    "display(orders_o.head())\n",
    "print('---')\n",
    "visitors.info()\n",
    "display(visitors.head())"
   ]
  },
  {
   "cell_type": "markdown",
   "metadata": {},
   "source": [
    "A continuación eliminaremos cualquier duplicado en las bases."
   ]
  },
  {
   "cell_type": "code",
   "execution_count": 12,
   "metadata": {},
   "outputs": [
    {
     "name": "stdout",
     "output_type": "stream",
     "text": [
      "<class 'pandas.core.frame.DataFrame'>\n",
      "RangeIndex: 1197 entries, 0 to 1196\n",
      "Data columns (total 5 columns):\n",
      " #   Column         Non-Null Count  Dtype         \n",
      "---  ------         --------------  -----         \n",
      " 0   transactionId  1197 non-null   int64         \n",
      " 1   visitorId      1197 non-null   int64         \n",
      " 2   date           1197 non-null   datetime64[ns]\n",
      " 3   revenue        1197 non-null   float64       \n",
      " 4   group          1197 non-null   object        \n",
      "dtypes: datetime64[ns](1), float64(1), int64(2), object(1)\n",
      "memory usage: 46.9+ KB\n",
      "<class 'pandas.core.frame.DataFrame'>\n",
      "RangeIndex: 62 entries, 0 to 61\n",
      "Data columns (total 3 columns):\n",
      " #   Column  Non-Null Count  Dtype         \n",
      "---  ------  --------------  -----         \n",
      " 0   date    62 non-null     datetime64[ns]\n",
      " 1   group   62 non-null     object        \n",
      " 2   visits  62 non-null     int64         \n",
      "dtypes: datetime64[ns](1), int64(1), object(1)\n",
      "memory usage: 1.6+ KB\n"
     ]
    }
   ],
   "source": [
    "#Eliminación de duplicados\n",
    "\n",
    "orders_o.drop_duplicates()\n",
    "visitors.drop_duplicates()\n",
    "\n",
    "orders_o.info()\n",
    "visitors.info()"
   ]
  },
  {
   "cell_type": "markdown",
   "metadata": {},
   "source": [
    "Al parecer no existían registros duplicados en las bases provistas. Finalmente revisaremos si es que existen usuarios que pertenecieron tanto al grupo A como al grupo B, ya que de existir va a ser importante eliminar estos casos, dado que no podemos determinar facilmente si es que el cambio en la pagina (B) pudo tener influencia en la compra realizada en el grupo de control (A)."
   ]
  },
  {
   "cell_type": "code",
   "execution_count": 13,
   "metadata": {},
   "outputs": [
    {
     "data": {
      "text/plain": [
       "2       8300375\n",
       "44    199603092\n",
       "51    232979603\n",
       "55    237748145\n",
       "66    276558944\n",
       "Name: visitorId, dtype: int64"
      ]
     },
     "metadata": {},
     "output_type": "display_data"
    },
    {
     "name": "stdout",
     "output_type": "stream",
     "text": [
      "(58,)\n"
     ]
    }
   ],
   "source": [
    "usuarios_doble_grupo = orders_o.groupby('visitorId').agg({'group':'nunique'}).reset_index()\n",
    "usuarios_doble_grupo = usuarios_doble_grupo[usuarios_doble_grupo['group']==2]['visitorId']\n",
    "display(usuarios_doble_grupo.head())\n",
    "print(usuarios_doble_grupo.shape)"
   ]
  },
  {
   "cell_type": "markdown",
   "metadata": {},
   "source": [
    "Podemos observar que 58 de las usuarios pertenecieron a ambos grupos, dado que las compras realizadas por estos usuarios pueden afectar gravente el objetivo del ejercicio, las compras correspondientes a estos usuarios serán dejadas de considerar para el resto del análisis."
   ]
  },
  {
   "cell_type": "code",
   "execution_count": 14,
   "metadata": {},
   "outputs": [
    {
     "name": "stdout",
     "output_type": "stream",
     "text": [
      "<class 'pandas.core.frame.DataFrame'>\n",
      "Int64Index: 1016 entries, 0 to 1196\n",
      "Data columns (total 5 columns):\n",
      " #   Column         Non-Null Count  Dtype         \n",
      "---  ------         --------------  -----         \n",
      " 0   transactionId  1016 non-null   int64         \n",
      " 1   visitorId      1016 non-null   int64         \n",
      " 2   date           1016 non-null   datetime64[ns]\n",
      " 3   revenue        1016 non-null   float64       \n",
      " 4   group          1016 non-null   object        \n",
      "dtypes: datetime64[ns](1), float64(1), int64(2), object(1)\n",
      "memory usage: 47.6+ KB\n"
     ]
    }
   ],
   "source": [
    "orders = orders_o[np.logical_not(orders_o['visitorId'].isin(usuarios_doble_grupo))]\n",
    "orders.info()"
   ]
  },
  {
   "cell_type": "markdown",
   "metadata": {},
   "source": [
    "Podemos observar que al rededor del 15% de las compras tuvo que ser dejado de considerar, pero esto resulta necesario para estudiar sólo a aquellos que realmente únicamente pertenecieron a uno de los grupos de usuarios.\n",
    "\n",
    "Con esta limpieza de la información podemos proceder al análisis de los datos.\n",
    "\n",
    "### Análisis de los datos\n",
    "\n",
    "Comenzaremos obteniendo una base donde se agrupe por fecha y grupo información relevanete para el estudio de valores acumulados, como lo son las visitas, los ingresos y los pedidos."
   ]
  },
  {
   "cell_type": "code",
   "execution_count": 15,
   "metadata": {},
   "outputs": [
    {
     "data": {
      "text/html": [
       "<div>\n",
       "<style scoped>\n",
       "    .dataframe tbody tr th:only-of-type {\n",
       "        vertical-align: middle;\n",
       "    }\n",
       "\n",
       "    .dataframe tbody tr th {\n",
       "        vertical-align: top;\n",
       "    }\n",
       "\n",
       "    .dataframe thead th {\n",
       "        text-align: right;\n",
       "    }\n",
       "</style>\n",
       "<table border=\"1\" class=\"dataframe\">\n",
       "  <thead>\n",
       "    <tr style=\"text-align: right;\">\n",
       "      <th></th>\n",
       "      <th>date</th>\n",
       "      <th>group</th>\n",
       "      <th>orders</th>\n",
       "      <th>buyers</th>\n",
       "      <th>revenue</th>\n",
       "      <th>visitors</th>\n",
       "    </tr>\n",
       "  </thead>\n",
       "  <tbody>\n",
       "    <tr>\n",
       "      <th>0</th>\n",
       "      <td>2019-08-01</td>\n",
       "      <td>A</td>\n",
       "      <td>23</td>\n",
       "      <td>19</td>\n",
       "      <td>2266.6</td>\n",
       "      <td>719</td>\n",
       "    </tr>\n",
       "    <tr>\n",
       "      <th>1</th>\n",
       "      <td>2019-08-01</td>\n",
       "      <td>B</td>\n",
       "      <td>17</td>\n",
       "      <td>17</td>\n",
       "      <td>967.2</td>\n",
       "      <td>713</td>\n",
       "    </tr>\n",
       "    <tr>\n",
       "      <th>2</th>\n",
       "      <td>2019-08-02</td>\n",
       "      <td>A</td>\n",
       "      <td>42</td>\n",
       "      <td>36</td>\n",
       "      <td>3734.9</td>\n",
       "      <td>1338</td>\n",
       "    </tr>\n",
       "    <tr>\n",
       "      <th>3</th>\n",
       "      <td>2019-08-02</td>\n",
       "      <td>B</td>\n",
       "      <td>40</td>\n",
       "      <td>39</td>\n",
       "      <td>3535.3</td>\n",
       "      <td>1294</td>\n",
       "    </tr>\n",
       "    <tr>\n",
       "      <th>4</th>\n",
       "      <td>2019-08-03</td>\n",
       "      <td>A</td>\n",
       "      <td>66</td>\n",
       "      <td>60</td>\n",
       "      <td>5550.1</td>\n",
       "      <td>1845</td>\n",
       "    </tr>\n",
       "  </tbody>\n",
       "</table>\n",
       "</div>"
      ],
      "text/plain": [
       "        date group  orders  buyers  revenue  visitors\n",
       "0 2019-08-01     A      23      19   2266.6       719\n",
       "1 2019-08-01     B      17      17    967.2       713\n",
       "2 2019-08-02     A      42      36   3734.9      1338\n",
       "3 2019-08-02     B      40      39   3535.3      1294\n",
       "4 2019-08-03     A      66      60   5550.1      1845"
      ]
     },
     "metadata": {},
     "output_type": "display_data"
    }
   ],
   "source": [
    "# Creamos matriz de parejas de fecha y grupo para tener todas las combinaciones únicas de estas\n",
    "\n",
    "datesGroups = orders[['date','group']].drop_duplicates()\n",
    "\n",
    "#Creamos bases de agregados con la información relevante a estudiar\n",
    "\n",
    "ordersAggregated = datesGroups.apply(lambda x: orders[np.logical_and(orders['date'] <= x['date'], orders['group'] == x['group'])].agg({'date' : 'max', 'group' : 'max', 'transactionId' : 'nunique', 'visitorId' : 'nunique', 'revenue' : 'sum'}), axis=1).sort_values(by=['date','group'])\n",
    "visitorsAggregated = datesGroups.apply(lambda x: visitors[np.logical_and(visitors['date'] <= x['date'], visitors['group'] == x['group'])].agg({'date' : 'max', 'group' : 'max', 'visits' : 'sum'}), axis=1).sort_values(by=['date','group'])\n",
    "\n",
    "# Fusionamos ambas tablas para un mejor manejo de la información\n",
    "cumulativeData = ordersAggregated.merge(visitorsAggregated, left_on=['date', 'group'], right_on=['date', 'group'])\n",
    "cumulativeData.columns = ['date', 'group', 'orders', 'buyers', 'revenue', 'visitors']\n",
    "\n",
    "display(cumulativeData.head(5)) "
   ]
  },
  {
   "cell_type": "markdown",
   "metadata": {},
   "source": [
    "A continuación dividiremos esta información por grupos para poder realizar una gráfica del ingreso acumulado."
   ]
  },
  {
   "cell_type": "code",
   "execution_count": 16,
   "metadata": {},
   "outputs": [
    {
     "data": {
      "text/plain": [
       "<matplotlib.legend.Legend at 0x7f68fc64f100>"
      ]
     },
     "execution_count": 16,
     "metadata": {},
     "output_type": "execute_result"
    },
    {
     "data": {
      "image/png": "[encoded data removed]",
      "text/plain": [
       "<Figure size 1080x720 with 1 Axes>"
      ]
     },
     "metadata": {
      "needs_background": "light"
     },
     "output_type": "display_data"
    }
   ],
   "source": [
    "# Base de ingresos y pedidos del grupo A por día\n",
    "cumulativeRevenueA = cumulativeData[cumulativeData['group']=='A'][['date','revenue', 'orders']]\n",
    "\n",
    "# Base de ingresos y pedidos del grupo B por día\n",
    "cumulativeRevenueB = cumulativeData[cumulativeData['group']=='B'][['date','revenue', 'orders']]\n",
    "\n",
    "# Gráficos de ingresos por grupo\n",
    "plt_1 = plt.figure(figsize=(15, 10))\n",
    "plt.plot(cumulativeRevenueA['date'], cumulativeRevenueA['revenue'], label='A')\n",
    "plt.plot(cumulativeRevenueB['date'], cumulativeRevenueB['revenue'], label='B')\n",
    "plt.legend() \n",
    "\n"
   ]
  },
  {
   "cell_type": "markdown",
   "metadata": {},
   "source": [
    "Podemos encontrar clara evidencia de un brinco pronunciado en el grupo B, el cual podría significar alguna compra excepcional o un número de compras excepcional, esto tendrá que ser revisado posteriormente. Fuera de ese brinco el comportamiento parece ser bastante normal y con una tendencia a valores un poco más elevados del grupo B. \n",
    "\n",
    "A continuación realizaremos un análisis similar respecto al tamaño de pedido promedio."
   ]
  },
  {
   "cell_type": "code",
   "execution_count": 17,
   "metadata": {},
   "outputs": [
    {
     "data": {
      "text/plain": [
       "<matplotlib.legend.Legend at 0x7f68fbc07d30>"
      ]
     },
     "execution_count": 17,
     "metadata": {},
     "output_type": "execute_result"
    },
    {
     "data": {
      "image/png": "[encoded data removed]",
      "text/plain": [
       "<Figure size 1080x720 with 1 Axes>"
      ]
     },
     "metadata": {
      "needs_background": "light"
     },
     "output_type": "display_data"
    }
   ],
   "source": [
    "plt_1 = plt.figure(figsize=(15, 10))\n",
    "plt.plot(cumulativeRevenueA['date'], cumulativeRevenueA['revenue']/cumulativeRevenueA['orders'], label='A')\n",
    "plt.plot(cumulativeRevenueB['date'], cumulativeRevenueB['revenue']/cumulativeRevenueB['orders'], label='B')\n",
    "plt.legend() "
   ]
  },
  {
   "cell_type": "markdown",
   "metadata": {},
   "source": [
    "En esta gráfica podemos encontrar brincos mucho más abundantes y drásticos que en la primera gráfica, denotando la importancia de limpiar la información de valores atípicos. Sin embargo, igualmente se ve una posición superior de los resultados del grupo B sobre los del grupo A.\n",
    "\n",
    "Finalmente dentro de estos primeros análisis respecto a variables de la base orders, procederemos a obtener un gráfico de la diferencia relativa en el tamaño de pedido promedio acumulado para el grupo B en comparación con el grupo A."
   ]
  },
  {
   "cell_type": "code",
   "execution_count": 18,
   "metadata": {},
   "outputs": [
    {
     "data": {
      "text/plain": [
       "<matplotlib.lines.Line2D at 0x7f68fc28d5e0>"
      ]
     },
     "execution_count": 18,
     "metadata": {},
     "output_type": "execute_result"
    },
    {
     "data": {
      "image/png": "[encoded data removed]",
      "text/plain": [
       "<Figure size 1080x720 with 1 Axes>"
      ]
     },
     "metadata": {
      "needs_background": "light"
     },
     "output_type": "display_data"
    }
   ],
   "source": [
    "# Unimos los datos de ambos grupos en una nueva base\n",
    "mergedCumulativeRevenue = cumulativeRevenueA.merge(cumulativeRevenueB, left_on='date', right_on='date', how='left', suffixes=['A', 'B'])\n",
    "\n",
    "# Gráfico de diferencia relativa para los tamaños promedio de compra\n",
    "plt_1 = plt.figure(figsize=(15, 10))\n",
    "plt.plot(mergedCumulativeRevenue['date'], (mergedCumulativeRevenue['revenueB']/mergedCumulativeRevenue['ordersB'])/(mergedCumulativeRevenue['revenueA']/mergedCumulativeRevenue['ordersA'])-1)\n",
    "\n",
    "# Referencia visual de Y=0\n",
    "plt.axhline(y=0, color='black', linestyle='--') "
   ]
  },
  {
   "cell_type": "markdown",
   "metadata": {},
   "source": [
    "Una vez más los valores atípicos parecen estar haciendo ruido en el análisis buscado, va a resultar de gran importancia quitarlos de la información. Además las tendencias, independiente de los brincos, parecen estar oscilando bastante, por lo que quizás aún no es momento de detener la prueba.\n",
    "\n",
    "A continuación desarrollaremos un análisis similar con la tasa de conversión de los grupos."
   ]
  },
  {
   "cell_type": "code",
   "execution_count": 19,
   "metadata": {},
   "outputs": [
    {
     "data": {
      "text/plain": [
       "<matplotlib.legend.Legend at 0x7f68fc22c640>"
      ]
     },
     "execution_count": 19,
     "metadata": {},
     "output_type": "execute_result"
    },
    {
     "data": {
      "image/png": "[encoded data removed]",
      "text/plain": [
       "<Figure size 1080x720 with 1 Axes>"
      ]
     },
     "metadata": {
      "needs_background": "light"
     },
     "output_type": "display_data"
    }
   ],
   "source": [
    "# Conversión acumulada\n",
    "cumulativeData['conversion'] = cumulativeData['orders']/cumulativeData['visitors']\n",
    "\n",
    "# Grupos\n",
    "cumulativeDataA = cumulativeData[cumulativeData['group']=='A']\n",
    "cumulativeDataB = cumulativeData[cumulativeData['group']=='B']\n",
    "\n",
    "# Gráficos por grupo de conversión acumulada\n",
    "plt_1 = plt.figure(figsize=(15, 10))\n",
    "plt.plot(cumulativeDataA['date'], cumulativeDataA['conversion'], label='A')\n",
    "plt.plot(cumulativeDataB['date'], cumulativeDataB['conversion'], label='B')\n",
    "plt.legend()"
   ]
  },
  {
   "cell_type": "markdown",
   "metadata": {},
   "source": [
    "Aunque a simple vista los gráficos podrían parecer cumplir una cierta simetría, realmente no es el caso, es más bien la tendencia a la estabilización la que genera ese efecto visual. Podemos observar claramente que la tendencia de B es bastante mayor a la tendencia de A indicando un efecto positivo de la prueba impuesta sobre el grupo B respecto a niveles de conversión.\n",
    "\n",
    "Ahora, al igual que con los ingresos medios por compra, realizaremos un gráfico de la diferencia relativa en la conversión acumulada para el grupo B en comparación con el grupo A."
   ]
  },
  {
   "cell_type": "code",
   "execution_count": 20,
   "metadata": {},
   "outputs": [
    {
     "data": {
      "text/plain": [
       "(18109.0, 18139.0, -0.3, 0.3)"
      ]
     },
     "execution_count": 20,
     "metadata": {},
     "output_type": "execute_result"
    },
    {
     "data": {
      "image/png": "[encoded data removed]",
      "text/plain": [
       "<Figure size 1080x720 with 1 Axes>"
      ]
     },
     "metadata": {
      "needs_background": "light"
     },
     "output_type": "display_data"
    }
   ],
   "source": [
    "# Unimos los datos de ambos grupos en una nueva base\n",
    "mergedCumulativeConversions = cumulativeDataA[['date','conversion']].merge(cumulativeDataB[['date','conversion']], left_on='date', right_on='date', how='left', suffixes=['A', 'B'])\n",
    "\n",
    "# Gráfico de diferencia relativa para los tamaños promedio de compra\n",
    "plt_1 = plt.figure(figsize=(15, 10))\n",
    "plt.plot(mergedCumulativeConversions['date'], mergedCumulativeConversions['conversionB']/mergedCumulativeConversions['conversionA']-1)\n",
    "\n",
    "# Referencia visuales de Y\n",
    "plt.axhline(y=0, color='black', linestyle='--')\n",
    "plt.axhline(y=0.16, color='grey', linestyle='--')\n",
    "plt.axis([pd.to_datetime('2019-08-01'), pd.to_datetime('2019-08-31'), -0.3, 0.3]) "
   ]
  },
  {
   "cell_type": "markdown",
   "metadata": {},
   "source": [
    "En un inicio, el grupo B estaba rezagado pero rápidamente tomó la delantera, donde se mantuvo alrededor del 0.16 de manera relativamente estable, sin embargo, lo mejor será realizar el correspondiente análisis de valores atipicos, que observamos afectan significativamente los resultados respecto a ingresos y pedidos.\n",
    "\n",
    "Para detectar los valores atipicos, primero realizaremos histogramas respecto al número de pedidos y a los importes de los mismos para ubicar las anomalías graficamente."
   ]
  },
  {
   "cell_type": "code",
   "execution_count": 21,
   "metadata": {},
   "outputs": [
    {
     "data": {
      "text/plain": [
       "<matplotlib.collections.PathCollection at 0x7f68fc1181c0>"
      ]
     },
     "execution_count": 21,
     "metadata": {},
     "output_type": "execute_result"
    },
    {
     "data": {
      "image/png": "[encoded data removed]",
      "text/plain": [
       "<Figure size 1080x720 with 1 Axes>"
      ]
     },
     "metadata": {
      "needs_background": "light"
     },
     "output_type": "display_data"
    }
   ],
   "source": [
    "#Agrupamos las órdenes por usuarios\n",
    "ordersByUsers = (\n",
    "    orders.drop(['group', 'revenue', 'date'], axis=1)\n",
    "    .groupby('visitorId', as_index=False)\n",
    "    .agg({'transactionId': pd.Series.nunique})\n",
    ")\n",
    "\n",
    "#Histograma respecto a pedidos\n",
    "\n",
    "x_values_orders = pd.Series(range(0,len(ordersByUsers)))\n",
    "plt_1 = plt.figure(figsize=(15, 10))\n",
    "plt.scatter(x_values_orders, ordersByUsers['transactionId']) "
   ]
  },
  {
   "cell_type": "code",
   "execution_count": 22,
   "metadata": {},
   "outputs": [
    {
     "data": {
      "text/plain": [
       "<matplotlib.collections.PathCollection at 0x7f68fc25b700>"
      ]
     },
     "execution_count": 22,
     "metadata": {},
     "output_type": "execute_result"
    },
    {
     "data": {
      "image/png": "[encoded data removed]",
      "text/plain": [
       "<Figure size 1080x720 with 1 Axes>"
      ]
     },
     "metadata": {
      "needs_background": "light"
     },
     "output_type": "display_data"
    }
   ],
   "source": [
    "#Histograma respecto a importes\n",
    "\n",
    "x_values_revenue = pd.Series(range(0, len(orders['revenue'])))\n",
    "plt_1 = plt.figure(figsize=(15, 10))\n",
    "plt.scatter(x_values_revenue, orders['revenue']) "
   ]
  },
  {
   "cell_type": "markdown",
   "metadata": {},
   "source": [
    "Como podemos obarvar claramente en ambas gráficas, los valores atípicos se encuentran demasiado alejados de los valores generales y pueden en efecto estar alterando considerablemente cualquier estudio sobre acumulados realizado; las transacciones normalmente parecen ubicarse en 1, y los ingresos por transacción por debajo de los 2500, existiendo excepciones de cuatro compras y pedidos de 20000. Procederemos a evaluar los percentiles 90, 95 y 99 de ambas cifras para poder determinar los datos que deben ser conservados con el propósito de no afectar considerablemente los resultados."
   ]
  },
  {
   "cell_type": "code",
   "execution_count": 23,
   "metadata": {},
   "outputs": [
    {
     "name": "stdout",
     "output_type": "stream",
     "text": [
      "Orders:\n",
      "[1. 1. 2.]\n",
      "\n",
      "Revenue:\n",
      "[280.8   414.275 830.3  ]\n"
     ]
    }
   ],
   "source": [
    "print('Orders:')\n",
    "print(np.percentile(ordersByUsers['transactionId'], [90, 95, 99])) \n",
    "print()\n",
    "print('Revenue:')\n",
    "print(np.percentile(orders['revenue'], [90, 95, 99])) "
   ]
  },
  {
   "cell_type": "markdown",
   "metadata": {},
   "source": [
    "Podemos encontrar claramente que sólo el 1% realiza más de dos pedidos y únicamente el 1% realiza un pedido de más de 830. Se considerará que cualquier usuario que entre dentro de alguno de estos 1% se encuentra dentro de los usuarios atípicos y afecta considerablemente los resulatados del análisis, por lo que dejarán de ser considerados en los estudios por realizar a continuación.\n",
    "\n",
    "Para observar los efectos de limpiar los datos mencionados previamente, primero realizaremos un estudio de la hipótesis sobre que existe una distinción estadística significativa en los datos con los datos originales respecto a la conversión y a los importes medios de compra."
   ]
  },
  {
   "cell_type": "code",
   "execution_count": 24,
   "metadata": {},
   "outputs": [
    {
     "name": "stdout",
     "output_type": "stream",
     "text": [
      "0.011\n",
      "0.160\n"
     ]
    }
   ],
   "source": [
    "# Datos originales, conversión: significancia estadística\n",
    "\n",
    "ordersByUsersA = orders[orders['group']=='A'].groupby('visitorId', as_index=False).agg({'transactionId' : pd.Series.nunique})\n",
    "ordersByUsersA.columns = ['userId', 'orders']\n",
    "\n",
    "ordersByUsersB = orders[orders['group']=='B'].groupby('visitorId', as_index=False).agg({'transactionId' : pd.Series.nunique})\n",
    "ordersByUsersB.columns = ['userId', 'orders'] \n",
    "\n",
    "#Obtención de pedidos\n",
    "sampleA = pd.concat([ordersByUsersA['orders'],pd.Series(0, index=np.arange(visitors[visitors['group']=='A']['visits'].sum() - len(ordersByUsersA['orders'])), name='orders')],axis=0)\n",
    "sampleB = pd.concat([ordersByUsersB['orders'],pd.Series(0, index=np.arange(visitors[visitors['group']=='B']['visits'].sum() - len(ordersByUsersB['orders'])), name='orders')],axis=0) \n",
    "\n",
    "print(\"{0:.3f}\".format(stats.mannwhitneyu(sampleA, sampleB)[1]))\n",
    "\n",
    "print(\"{0:.3f}\".format(sampleB.mean()/sampleA.mean()-1))"
   ]
  },
  {
   "cell_type": "markdown",
   "metadata": {},
   "source": [
    "Según los datos originales existe una diferencia significativa entre los grupos A y B, podemos rechazar la hipótesis nula dado un nivel de significancia de 0.5 (alpha). La ganancia relativa del grupo B respecto al A es de 16%.\n",
    "\n",
    "A continuación realizaremos un análisis similar con los datos originales respecto al pedido medio de los clientes."
   ]
  },
  {
   "cell_type": "code",
   "execution_count": 25,
   "metadata": {},
   "outputs": [
    {
     "name": "stdout",
     "output_type": "stream",
     "text": [
      "0.862\n",
      "0.278\n"
     ]
    }
   ],
   "source": [
    "# Datos originales, media pedido: significancia estadística\n",
    "\n",
    "print('{0:.3f}'.format(stats.mannwhitneyu(orders[orders['group']=='A']['revenue'], orders[orders['group']=='B']['revenue'])[1]))\n",
    "print('{0:.3f}'.format(orders[orders['group']=='B']['revenue'].mean()/orders[orders['group']=='A']['revenue'].mean()-1)) "
   ]
  },
  {
   "cell_type": "markdown",
   "metadata": {},
   "source": [
    "En este caso, aunque la diferencia es de 27.8%, no existe razón para rechazar la hipótesis nula 0.862 superando considerablemente el umbral de significancia de 0.05.\n",
    "\n",
    "Ahora filtremos los datos para encontrar, quitando los registros correspondientes a usuarios atípicos, cómo varian las métricas obtenidas. Filtraremos como aquellos usuarios con más de dos pedidos y con un valor mayor a 830.3."
   ]
  },
  {
   "cell_type": "code",
   "execution_count": 26,
   "metadata": {},
   "outputs": [
    {
     "name": "stdout",
     "output_type": "stream",
     "text": [
      "1099    148427295\n",
      "33      249864742\n",
      "58      611059232\n",
      "949     887908475\n",
      "744     888512513\n",
      "dtype: int64\n",
      "(16,)\n"
     ]
    }
   ],
   "source": [
    "#Filtrado de los datos\n",
    "\n",
    "usersWithManyOrders = pd.concat([ordersByUsersA[ordersByUsersA['orders'] > 2]['userId'], ordersByUsersB[ordersByUsersB['orders'] > 2]['userId']], axis = 0)\n",
    "usersWithExpensiveOrders = orders[orders['revenue'] > 830.3]['visitorId']\n",
    "abnormalUsers = pd.concat([usersWithManyOrders, usersWithExpensiveOrders], axis = 0).drop_duplicates().sort_values()\n",
    "print(abnormalUsers.head(5))\n",
    "print(abnormalUsers.shape) "
   ]
  },
  {
   "cell_type": "markdown",
   "metadata": {},
   "source": [
    "Existen 16 usuarios atípicos que procederemos a eliminar del análisis."
   ]
  },
  {
   "cell_type": "code",
   "execution_count": 27,
   "metadata": {},
   "outputs": [
    {
     "name": "stdout",
     "output_type": "stream",
     "text": [
      "Conversión\n",
      "0.007\n",
      "0.189\n",
      "\n",
      "Pedido medio\n",
      "0.822\n",
      "-0.032\n"
     ]
    }
   ],
   "source": [
    "#Grupos filtrados\n",
    "\n",
    "sampleAFiltered = pd.concat([ordersByUsersA[np.logical_not(ordersByUsersA['userId'].isin(abnormalUsers))]['orders'],pd.Series(0, index=np.arange(visitors[visitors['group']=='A']['visits'].sum() - len(ordersByUsersA['orders'])),name='orders')],axis=0)\n",
    "\n",
    "sampleBFiltered = pd.concat([ordersByUsersB[np.logical_not(ordersByUsersB['userId'].isin(abnormalUsers))]['orders'],pd.Series(0, index=np.arange(visitors[visitors['group']=='B']['visits'].sum() - len(ordersByUsersB['orders'])),name='orders')],axis=0)\n",
    "\n",
    "# Datos filtrados, conversión: significancia estadística\n",
    "print('Conversión')\n",
    "print(\"{0:.3f}\".format(stats.mannwhitneyu(sampleAFiltered, sampleBFiltered)[1]))\n",
    "print(\"{0:.3f}\".format(sampleBFiltered.mean()/sampleAFiltered.mean()-1)) \n",
    "\n",
    "print()\n",
    "\n",
    "# Datos filtrados, conversión: significancia estadística\n",
    "print('Pedido medio')\n",
    "print('{0:.3f}'.format(stats.mannwhitneyu(\n",
    "    orders[np.logical_and(\n",
    "        orders['group']=='A',\n",
    "        np.logical_not(orders['visitorId'].isin(abnormalUsers)))]['revenue'],\n",
    "    orders[np.logical_and(\n",
    "        orders['group']=='B',\n",
    "        np.logical_not(orders['visitorId'].isin(abnormalUsers)))]['revenue'])[1]))\n",
    "\n",
    "print('{0:.3f}'.format(\n",
    "    orders[np.logical_and(orders['group']=='B',np.logical_not(orders['visitorId'].isin(abnormalUsers)))]['revenue'].mean()/\n",
    "    orders[np.logical_and(\n",
    "        orders['group']=='A',\n",
    "        np.logical_not(orders['visitorId'].isin(abnormalUsers)))]['revenue'].mean() - 1))"
   ]
  },
  {
   "cell_type": "markdown",
   "metadata": {},
   "source": [
    "Podemos observar que existe una diferencia en las métricas al utilizar los datos originales y los filtrados, aunque no afecta considerablemente la lectura final de los datos. La significancia respecto a la conversión aumento, denotando la diferencia entre las poblaciones y con una diferencia de 18.9% del grupo B respecto al A. Mientras que en el pedido medio no hay razones para rechazar la hipótesis nula, con una reducción del 3.2% del pedido medio.\n",
    "\n",
    "### Conclusiones generales\n",
    "\n",
    "Tras haber realizado el análisis de la prueba A/B, pudimos observar que los datos originales se encontraban considerablemente contaminados por valores atípicos de al rededor del 1%, lo cual era evidente al realizar las gráficas de los valores acumulados, ya que estas presentaban picos y brincos significativos. Tras filtrar los datos pudimos determinar que la prueba A/B marca a B como el grupo lider, que aunque no demostró una gran diferencia respecto al monto de pedido medio, sí mostro un incremento significativo del 18.9% en la tasa de conversión. Por esta razón, la recomendación es, de manera inmediata, aplicar de manera general los cambios probados en B.\n",
    "\n",
    "En cuanto al aumento del pedido medio, al no existir resultados estadísticamente significativos, se aconjseja probar  continuar con el periodo de la prueba A/B en espera de la evolución de los resultados hacía valores más significativos. En caso de detener la prueba podría tratarse con otras hipótesis, en las cuales sería prefeible intervenir menos en la facilidad de uso de la página y más en la implementación de llamadas a acción, así como promociones, para incentivar un mayor consumo."
   ]
  }
 ],
 "metadata": {
  "ExecuteTimeLog": [
   {
    "duration": 1329,
    "start_time": "2022-07-24T21:50:10.208Z"
   },
   {
    "duration": 69,
    "start_time": "2022-07-24T21:51:34.594Z"
   },
   {
    "duration": 13,
    "start_time": "2022-07-24T21:51:53.947Z"
   },
   {
    "duration": 3,
    "start_time": "2022-07-24T21:52:56.567Z"
   },
   {
    "duration": 25,
    "start_time": "2022-07-24T21:52:58.452Z"
   },
   {
    "duration": 12,
    "start_time": "2022-07-24T21:53:00.638Z"
   },
   {
    "duration": 25,
    "start_time": "2022-07-24T21:53:10.473Z"
   },
   {
    "duration": 12,
    "start_time": "2022-07-24T21:53:12.579Z"
   },
   {
    "duration": 3,
    "start_time": "2022-07-24T21:58:50.419Z"
   },
   {
    "duration": 12,
    "start_time": "2022-07-24T21:59:08.290Z"
   },
   {
    "duration": 3,
    "start_time": "2022-07-24T21:59:45.109Z"
   },
   {
    "duration": 33,
    "start_time": "2022-07-24T21:59:45.116Z"
   },
   {
    "duration": 12,
    "start_time": "2022-07-24T21:59:45.151Z"
   },
   {
    "duration": 14,
    "start_time": "2022-07-24T21:59:45.164Z"
   },
   {
    "duration": 10,
    "start_time": "2022-07-24T22:03:34.204Z"
   },
   {
    "duration": 9,
    "start_time": "2022-07-24T22:04:15.462Z"
   },
   {
    "duration": 158,
    "start_time": "2022-07-24T22:20:59.378Z"
   },
   {
    "duration": 8,
    "start_time": "2022-07-24T22:22:35.622Z"
   },
   {
    "duration": 34,
    "start_time": "2022-07-24T22:22:35.636Z"
   },
   {
    "duration": 21,
    "start_time": "2022-07-24T22:22:35.672Z"
   },
   {
    "duration": 22,
    "start_time": "2022-07-24T22:22:35.696Z"
   },
   {
    "duration": 30,
    "start_time": "2022-07-24T22:22:35.721Z"
   },
   {
    "duration": 9,
    "start_time": "2022-07-24T22:22:35.754Z"
   },
   {
    "duration": 54,
    "start_time": "2022-07-24T22:22:35.765Z"
   },
   {
    "duration": 20,
    "start_time": "2022-07-24T22:22:35.820Z"
   },
   {
    "duration": 12,
    "start_time": "2022-07-24T22:22:40.695Z"
   },
   {
    "duration": 16,
    "start_time": "2022-07-24T22:23:03.626Z"
   },
   {
    "duration": 23,
    "start_time": "2022-07-24T22:23:07.123Z"
   },
   {
    "duration": 64,
    "start_time": "2022-07-24T22:23:14.709Z"
   },
   {
    "duration": 21,
    "start_time": "2022-07-24T22:23:16.723Z"
   },
   {
    "duration": 14,
    "start_time": "2022-07-24T22:23:20.413Z"
   },
   {
    "duration": 300,
    "start_time": "2022-07-24T22:31:53.320Z"
   },
   {
    "duration": 3,
    "start_time": "2022-07-24T22:32:41.140Z"
   },
   {
    "duration": 39,
    "start_time": "2022-07-24T22:32:45.516Z"
   },
   {
    "duration": 5,
    "start_time": "2022-07-24T22:33:27.822Z"
   },
   {
    "duration": 32,
    "start_time": "2022-07-24T22:33:27.836Z"
   },
   {
    "duration": 12,
    "start_time": "2022-07-24T22:33:27.870Z"
   },
   {
    "duration": 15,
    "start_time": "2022-07-24T22:33:27.883Z"
   },
   {
    "duration": 11,
    "start_time": "2022-07-24T22:33:27.900Z"
   },
   {
    "duration": 10,
    "start_time": "2022-07-24T22:33:27.913Z"
   },
   {
    "duration": 62,
    "start_time": "2022-07-24T22:33:27.924Z"
   },
   {
    "duration": 13,
    "start_time": "2022-07-24T22:33:27.987Z"
   },
   {
    "duration": 13,
    "start_time": "2022-07-24T22:33:28.002Z"
   },
   {
    "duration": 38,
    "start_time": "2022-07-24T22:33:28.017Z"
   },
   {
    "duration": 308,
    "start_time": "2022-07-24T22:34:17.875Z"
   },
   {
    "duration": 3,
    "start_time": "2022-07-24T22:34:30.350Z"
   },
   {
    "duration": 31,
    "start_time": "2022-07-24T22:34:30.361Z"
   },
   {
    "duration": 12,
    "start_time": "2022-07-24T22:34:30.394Z"
   },
   {
    "duration": 35,
    "start_time": "2022-07-24T22:34:30.408Z"
   },
   {
    "duration": 23,
    "start_time": "2022-07-24T22:34:30.445Z"
   },
   {
    "duration": 18,
    "start_time": "2022-07-24T22:34:30.470Z"
   },
   {
    "duration": 72,
    "start_time": "2022-07-24T22:34:30.490Z"
   },
   {
    "duration": 14,
    "start_time": "2022-07-24T22:34:30.564Z"
   },
   {
    "duration": 21,
    "start_time": "2022-07-24T22:34:30.580Z"
   },
   {
    "duration": 53,
    "start_time": "2022-07-24T22:34:30.602Z"
   },
   {
    "duration": 19,
    "start_time": "2022-07-24T22:37:35.974Z"
   },
   {
    "duration": 8,
    "start_time": "2022-07-24T22:41:59.064Z"
   },
   {
    "duration": 3,
    "start_time": "2022-07-24T22:45:36.879Z"
   },
   {
    "duration": 25,
    "start_time": "2022-07-24T22:45:36.889Z"
   },
   {
    "duration": 12,
    "start_time": "2022-07-24T22:45:36.915Z"
   },
   {
    "duration": 16,
    "start_time": "2022-07-24T22:45:36.928Z"
   },
   {
    "duration": 13,
    "start_time": "2022-07-24T22:45:36.945Z"
   },
   {
    "duration": 10,
    "start_time": "2022-07-24T22:45:36.960Z"
   },
   {
    "duration": 49,
    "start_time": "2022-07-24T22:45:36.972Z"
   },
   {
    "duration": 8,
    "start_time": "2022-07-24T22:45:37.022Z"
   },
   {
    "duration": 0,
    "start_time": "2022-07-24T22:45:37.032Z"
   },
   {
    "duration": 0,
    "start_time": "2022-07-24T22:45:37.033Z"
   },
   {
    "duration": 0,
    "start_time": "2022-07-24T22:45:37.034Z"
   },
   {
    "duration": 0,
    "start_time": "2022-07-24T22:45:37.035Z"
   },
   {
    "duration": 11,
    "start_time": "2022-07-24T22:46:05.944Z"
   },
   {
    "duration": 10,
    "start_time": "2022-07-24T22:46:09.655Z"
   },
   {
    "duration": 8,
    "start_time": "2022-07-24T22:46:12.275Z"
   },
   {
    "duration": 57,
    "start_time": "2022-07-24T22:46:26.694Z"
   },
   {
    "duration": 15,
    "start_time": "2022-07-24T22:46:28.832Z"
   },
   {
    "duration": 19,
    "start_time": "2022-07-24T22:46:30.484Z"
   },
   {
    "duration": 30,
    "start_time": "2022-07-24T22:46:34.220Z"
   },
   {
    "duration": 19,
    "start_time": "2022-07-24T22:46:38.536Z"
   },
   {
    "duration": 8,
    "start_time": "2022-07-24T22:46:41.201Z"
   },
   {
    "duration": 8,
    "start_time": "2022-07-24T22:48:43.111Z"
   },
   {
    "duration": 14,
    "start_time": "2022-07-24T22:50:02.740Z"
   },
   {
    "duration": 10,
    "start_time": "2022-07-24T22:50:09.548Z"
   },
   {
    "duration": 12,
    "start_time": "2022-07-24T22:59:28.429Z"
   },
   {
    "duration": 289,
    "start_time": "2022-07-24T23:10:21.951Z"
   },
   {
    "duration": 257,
    "start_time": "2022-07-24T23:14:12.362Z"
   },
   {
    "duration": 184,
    "start_time": "2022-07-24T23:18:04.974Z"
   },
   {
    "duration": 340,
    "start_time": "2022-07-24T23:22:41.399Z"
   },
   {
    "duration": 180,
    "start_time": "2022-07-24T23:26:42.036Z"
   },
   {
    "duration": 290,
    "start_time": "2022-07-24T23:30:55.437Z"
   },
   {
    "duration": 312,
    "start_time": "2022-07-24T23:31:14.337Z"
   },
   {
    "duration": 6,
    "start_time": "2022-07-24T23:31:45.198Z"
   },
   {
    "duration": 5,
    "start_time": "2022-07-24T23:32:48.897Z"
   },
   {
    "duration": 6,
    "start_time": "2022-07-24T23:33:52.855Z"
   },
   {
    "duration": 278,
    "start_time": "2022-07-24T23:34:02.693Z"
   },
   {
    "duration": 347,
    "start_time": "2022-07-24T23:34:46.057Z"
   },
   {
    "duration": 292,
    "start_time": "2022-07-24T23:35:42.807Z"
   },
   {
    "duration": 225,
    "start_time": "2022-07-24T23:36:08.566Z"
   },
   {
    "duration": 233,
    "start_time": "2022-07-24T23:38:01.165Z"
   },
   {
    "duration": 16,
    "start_time": "2022-07-25T01:30:07.715Z"
   },
   {
    "duration": 2405,
    "start_time": "2022-07-25T01:30:33.810Z"
   },
   {
    "duration": 274,
    "start_time": "2022-07-25T01:31:34.284Z"
   },
   {
    "duration": 244,
    "start_time": "2022-07-25T01:32:00.966Z"
   },
   {
    "duration": 155,
    "start_time": "2022-07-25T01:32:07.069Z"
   },
   {
    "duration": 7,
    "start_time": "2022-07-25T01:37:20.515Z"
   },
   {
    "duration": 7,
    "start_time": "2022-07-25T01:38:05.210Z"
   },
   {
    "duration": 953,
    "start_time": "2022-07-25T01:46:39.527Z"
   },
   {
    "duration": 138,
    "start_time": "2022-07-25T01:47:37.202Z"
   },
   {
    "duration": 4,
    "start_time": "2022-07-25T01:48:04.566Z"
   },
   {
    "duration": 149,
    "start_time": "2022-07-25T01:48:11.533Z"
   },
   {
    "duration": 9,
    "start_time": "2022-07-25T01:52:15.067Z"
   },
   {
    "duration": 10,
    "start_time": "2022-07-25T01:58:20.809Z"
   },
   {
    "duration": 956,
    "start_time": "2022-07-25T02:01:25.886Z"
   },
   {
    "duration": 972,
    "start_time": "2022-07-25T02:02:49.086Z"
   },
   {
    "duration": 37,
    "start_time": "2022-07-25T02:03:20.676Z"
   },
   {
    "duration": 1094,
    "start_time": "2022-07-25T17:57:37.015Z"
   },
   {
    "duration": 65,
    "start_time": "2022-07-25T17:57:38.111Z"
   },
   {
    "duration": 15,
    "start_time": "2022-07-25T17:57:38.178Z"
   },
   {
    "duration": 11,
    "start_time": "2022-07-25T17:57:38.194Z"
   },
   {
    "duration": 9,
    "start_time": "2022-07-25T17:57:38.208Z"
   },
   {
    "duration": 8,
    "start_time": "2022-07-25T17:57:38.218Z"
   },
   {
    "duration": 130,
    "start_time": "2022-07-25T17:57:38.227Z"
   },
   {
    "duration": 12,
    "start_time": "2022-07-25T17:57:38.359Z"
   },
   {
    "duration": 13,
    "start_time": "2022-07-25T17:57:38.373Z"
   },
   {
    "duration": 29,
    "start_time": "2022-07-25T17:57:38.388Z"
   },
   {
    "duration": 23,
    "start_time": "2022-07-25T17:57:38.419Z"
   },
   {
    "duration": 8,
    "start_time": "2022-07-25T17:57:38.443Z"
   },
   {
    "duration": 12,
    "start_time": "2022-07-25T17:57:38.452Z"
   },
   {
    "duration": 298,
    "start_time": "2022-07-25T17:57:38.466Z"
   },
   {
    "duration": 350,
    "start_time": "2022-07-25T17:57:38.765Z"
   },
   {
    "duration": 177,
    "start_time": "2022-07-25T17:57:39.117Z"
   },
   {
    "duration": 262,
    "start_time": "2022-07-25T17:57:39.295Z"
   },
   {
    "duration": 185,
    "start_time": "2022-07-25T17:57:39.558Z"
   },
   {
    "duration": 276,
    "start_time": "2022-07-25T17:57:39.745Z"
   },
   {
    "duration": 266,
    "start_time": "2022-07-25T17:57:40.023Z"
   },
   {
    "duration": 132,
    "start_time": "2022-07-25T17:57:40.291Z"
   },
   {
    "duration": 12,
    "start_time": "2022-07-25T17:57:40.425Z"
   },
   {
    "duration": 203,
    "start_time": "2022-07-25T17:57:40.439Z"
   },
   {
    "duration": 10,
    "start_time": "2022-07-25T17:57:40.643Z"
   },
   {
    "duration": 9,
    "start_time": "2022-07-25T17:57:40.654Z"
   },
   {
    "duration": 40,
    "start_time": "2022-07-25T17:57:40.664Z"
   },
   {
    "duration": 11,
    "start_time": "2022-07-25T18:25:22.907Z"
   },
   {
    "duration": 1095,
    "start_time": "2022-07-25T18:55:55.818Z"
   },
   {
    "duration": 25,
    "start_time": "2022-07-25T18:55:56.915Z"
   },
   {
    "duration": 13,
    "start_time": "2022-07-25T18:55:56.942Z"
   },
   {
    "duration": 9,
    "start_time": "2022-07-25T18:55:56.956Z"
   },
   {
    "duration": 15,
    "start_time": "2022-07-25T18:55:56.967Z"
   },
   {
    "duration": 5,
    "start_time": "2022-07-25T18:57:52.715Z"
   },
   {
    "duration": 3,
    "start_time": "2022-07-25T18:58:02.587Z"
   },
   {
    "duration": 4,
    "start_time": "2022-07-25T19:00:35.377Z"
   },
   {
    "duration": 1120,
    "start_time": "2022-07-25T19:01:53.405Z"
   },
   {
    "duration": 26,
    "start_time": "2022-07-25T19:01:54.527Z"
   },
   {
    "duration": 14,
    "start_time": "2022-07-25T19:01:54.555Z"
   },
   {
    "duration": 10,
    "start_time": "2022-07-25T19:01:54.571Z"
   },
   {
    "duration": 6,
    "start_time": "2022-07-25T19:01:54.584Z"
   },
   {
    "duration": 9,
    "start_time": "2022-07-25T19:01:54.591Z"
   },
   {
    "duration": 8,
    "start_time": "2022-07-25T19:01:54.602Z"
   },
   {
    "duration": 47,
    "start_time": "2022-07-25T19:01:54.612Z"
   },
   {
    "duration": 14,
    "start_time": "2022-07-25T19:01:54.660Z"
   },
   {
    "duration": 21,
    "start_time": "2022-07-25T19:01:54.675Z"
   },
   {
    "duration": 36,
    "start_time": "2022-07-25T19:01:54.698Z"
   },
   {
    "duration": 19,
    "start_time": "2022-07-25T19:01:54.736Z"
   },
   {
    "duration": 9,
    "start_time": "2022-07-25T19:01:54.756Z"
   },
   {
    "duration": 12,
    "start_time": "2022-07-25T19:01:54.767Z"
   },
   {
    "duration": 299,
    "start_time": "2022-07-25T19:01:54.780Z"
   },
   {
    "duration": 254,
    "start_time": "2022-07-25T19:01:55.081Z"
   },
   {
    "duration": 174,
    "start_time": "2022-07-25T19:01:55.336Z"
   },
   {
    "duration": 277,
    "start_time": "2022-07-25T19:01:55.512Z"
   },
   {
    "duration": 181,
    "start_time": "2022-07-25T19:01:55.790Z"
   },
   {
    "duration": 246,
    "start_time": "2022-07-25T19:01:55.973Z"
   },
   {
    "duration": 273,
    "start_time": "2022-07-25T19:01:56.220Z"
   },
   {
    "duration": 131,
    "start_time": "2022-07-25T19:01:56.496Z"
   },
   {
    "duration": 13,
    "start_time": "2022-07-25T19:01:56.629Z"
   },
   {
    "duration": 246,
    "start_time": "2022-07-25T19:01:56.643Z"
   },
   {
    "duration": 10,
    "start_time": "2022-07-25T19:01:56.890Z"
   },
   {
    "duration": 9,
    "start_time": "2022-07-25T19:01:56.901Z"
   },
   {
    "duration": 60,
    "start_time": "2022-07-25T19:01:56.911Z"
   },
   {
    "duration": 2068,
    "start_time": "2022-07-25T23:02:53.449Z"
   },
   {
    "duration": 4,
    "start_time": "2022-07-25T23:03:12.288Z"
   },
   {
    "duration": 4,
    "start_time": "2022-07-25T23:03:44.967Z"
   },
   {
    "duration": 11,
    "start_time": "2022-07-25T23:06:13.986Z"
   },
   {
    "duration": 3,
    "start_time": "2022-07-25T23:06:20.608Z"
   },
   {
    "duration": 10,
    "start_time": "2022-07-25T23:06:20.612Z"
   },
   {
    "duration": 33,
    "start_time": "2022-07-25T23:06:20.623Z"
   },
   {
    "duration": 11,
    "start_time": "2022-07-25T23:06:20.657Z"
   },
   {
    "duration": 10,
    "start_time": "2022-07-25T23:06:20.670Z"
   },
   {
    "duration": 8,
    "start_time": "2022-07-25T23:06:41.487Z"
   },
   {
    "duration": 4,
    "start_time": "2022-07-26T00:50:00.827Z"
   },
   {
    "duration": 32,
    "start_time": "2022-07-26T00:50:00.837Z"
   },
   {
    "duration": 12,
    "start_time": "2022-07-26T00:50:00.871Z"
   },
   {
    "duration": 23,
    "start_time": "2022-07-26T00:50:00.885Z"
   },
   {
    "duration": 10,
    "start_time": "2022-07-26T00:50:00.910Z"
   },
   {
    "duration": 8,
    "start_time": "2022-07-26T00:50:01.048Z"
   },
   {
    "duration": 18,
    "start_time": "2022-07-26T00:50:01.058Z"
   },
   {
    "duration": 78,
    "start_time": "2022-07-26T00:50:01.077Z"
   },
   {
    "duration": 14,
    "start_time": "2022-07-26T00:50:01.156Z"
   },
   {
    "duration": 19,
    "start_time": "2022-07-26T00:50:01.171Z"
   },
   {
    "duration": 58,
    "start_time": "2022-07-26T00:50:01.191Z"
   },
   {
    "duration": 3,
    "start_time": "2022-07-26T00:50:22.475Z"
   },
   {
    "duration": 30,
    "start_time": "2022-07-26T00:50:22.480Z"
   },
   {
    "duration": 12,
    "start_time": "2022-07-26T00:50:22.512Z"
   },
   {
    "duration": 11,
    "start_time": "2022-07-26T00:50:22.526Z"
   },
   {
    "duration": 7,
    "start_time": "2022-07-26T00:50:22.540Z"
   },
   {
    "duration": 12,
    "start_time": "2022-07-26T00:50:22.549Z"
   },
   {
    "duration": 12,
    "start_time": "2022-07-26T00:50:22.562Z"
   },
   {
    "duration": 52,
    "start_time": "2022-07-26T00:50:22.576Z"
   },
   {
    "duration": 13,
    "start_time": "2022-07-26T00:50:22.630Z"
   },
   {
    "duration": 13,
    "start_time": "2022-07-26T00:50:23.835Z"
   },
   {
    "duration": 10,
    "start_time": "2022-07-26T00:50:23.850Z"
   },
   {
    "duration": 3,
    "start_time": "2022-07-26T01:07:03.038Z"
   },
   {
    "duration": 31,
    "start_time": "2022-07-26T01:07:03.043Z"
   },
   {
    "duration": 12,
    "start_time": "2022-07-26T01:07:03.076Z"
   },
   {
    "duration": 12,
    "start_time": "2022-07-26T01:07:03.089Z"
   },
   {
    "duration": 6,
    "start_time": "2022-07-26T01:07:03.103Z"
   },
   {
    "duration": 7,
    "start_time": "2022-07-26T01:07:03.267Z"
   },
   {
    "duration": 12,
    "start_time": "2022-07-26T01:07:03.276Z"
   },
   {
    "duration": 54,
    "start_time": "2022-07-26T01:07:03.290Z"
   },
   {
    "duration": 12,
    "start_time": "2022-07-26T01:07:03.346Z"
   },
   {
    "duration": 13,
    "start_time": "2022-07-26T01:07:03.360Z"
   },
   {
    "duration": 35,
    "start_time": "2022-07-26T01:07:03.375Z"
   },
   {
    "duration": 28,
    "start_time": "2022-07-26T01:07:03.412Z"
   },
   {
    "duration": 8,
    "start_time": "2022-07-26T01:07:03.515Z"
   },
   {
    "duration": 26,
    "start_time": "2022-07-26T01:07:03.525Z"
   },
   {
    "duration": 1110,
    "start_time": "2022-07-26T01:07:54.515Z"
   },
   {
    "duration": 28,
    "start_time": "2022-07-26T01:07:55.627Z"
   },
   {
    "duration": 13,
    "start_time": "2022-07-26T01:07:55.656Z"
   },
   {
    "duration": 14,
    "start_time": "2022-07-26T01:07:55.670Z"
   },
   {
    "duration": 5,
    "start_time": "2022-07-26T01:07:55.686Z"
   },
   {
    "duration": 9,
    "start_time": "2022-07-26T01:07:55.693Z"
   },
   {
    "duration": 9,
    "start_time": "2022-07-26T01:07:55.704Z"
   },
   {
    "duration": 51,
    "start_time": "2022-07-26T01:07:55.715Z"
   },
   {
    "duration": 11,
    "start_time": "2022-07-26T01:07:55.768Z"
   },
   {
    "duration": 13,
    "start_time": "2022-07-26T01:07:55.781Z"
   },
   {
    "duration": 31,
    "start_time": "2022-07-26T01:07:55.796Z"
   },
   {
    "duration": 17,
    "start_time": "2022-07-26T01:07:55.828Z"
   },
   {
    "duration": 7,
    "start_time": "2022-07-26T01:07:55.847Z"
   },
   {
    "duration": 120,
    "start_time": "2022-07-26T01:07:55.856Z"
   },
   {
    "duration": 3,
    "start_time": "2022-07-26T01:08:30.735Z"
   },
   {
    "duration": 46,
    "start_time": "2022-07-26T01:08:30.740Z"
   },
   {
    "duration": 11,
    "start_time": "2022-07-26T01:08:30.787Z"
   },
   {
    "duration": 29,
    "start_time": "2022-07-26T01:08:30.800Z"
   },
   {
    "duration": 33,
    "start_time": "2022-07-26T01:08:30.831Z"
   },
   {
    "duration": 37,
    "start_time": "2022-07-26T01:08:30.866Z"
   },
   {
    "duration": 51,
    "start_time": "2022-07-26T01:08:30.905Z"
   },
   {
    "duration": 90,
    "start_time": "2022-07-26T01:08:30.958Z"
   },
   {
    "duration": 13,
    "start_time": "2022-07-26T01:08:31.050Z"
   },
   {
    "duration": 52,
    "start_time": "2022-07-26T01:08:31.064Z"
   },
   {
    "duration": 62,
    "start_time": "2022-07-26T01:08:31.118Z"
   },
   {
    "duration": 30,
    "start_time": "2022-07-26T01:08:31.181Z"
   },
   {
    "duration": 10,
    "start_time": "2022-07-26T01:08:31.212Z"
   },
   {
    "duration": 26,
    "start_time": "2022-07-26T01:08:31.224Z"
   },
   {
    "duration": 1117,
    "start_time": "2022-07-26T02:37:27.353Z"
   },
   {
    "duration": 28,
    "start_time": "2022-07-26T02:37:28.472Z"
   },
   {
    "duration": 13,
    "start_time": "2022-07-26T02:37:28.501Z"
   },
   {
    "duration": 10,
    "start_time": "2022-07-26T02:37:28.515Z"
   },
   {
    "duration": 7,
    "start_time": "2022-07-26T02:37:28.527Z"
   },
   {
    "duration": 10,
    "start_time": "2022-07-26T02:37:28.535Z"
   },
   {
    "duration": 11,
    "start_time": "2022-07-26T02:37:28.546Z"
   },
   {
    "duration": 55,
    "start_time": "2022-07-26T02:37:28.558Z"
   },
   {
    "duration": 13,
    "start_time": "2022-07-26T02:37:28.614Z"
   },
   {
    "duration": 12,
    "start_time": "2022-07-26T02:37:28.629Z"
   },
   {
    "duration": 32,
    "start_time": "2022-07-26T02:37:28.642Z"
   },
   {
    "duration": 17,
    "start_time": "2022-07-26T02:37:28.675Z"
   },
   {
    "duration": 8,
    "start_time": "2022-07-26T02:37:28.695Z"
   },
   {
    "duration": 38,
    "start_time": "2022-07-26T02:37:28.706Z"
   },
   {
    "duration": 340,
    "start_time": "2022-07-26T02:37:28.746Z"
   },
   {
    "duration": 265,
    "start_time": "2022-07-26T02:37:29.087Z"
   },
   {
    "duration": 182,
    "start_time": "2022-07-26T02:37:29.354Z"
   },
   {
    "duration": 274,
    "start_time": "2022-07-26T02:37:29.538Z"
   },
   {
    "duration": 190,
    "start_time": "2022-07-26T02:37:29.814Z"
   },
   {
    "duration": 321,
    "start_time": "2022-07-26T02:37:30.006Z"
   },
   {
    "duration": 291,
    "start_time": "2022-07-26T02:37:30.329Z"
   },
   {
    "duration": 139,
    "start_time": "2022-07-26T02:37:30.622Z"
   },
   {
    "duration": 5,
    "start_time": "2022-07-26T02:37:30.763Z"
   },
   {
    "duration": 231,
    "start_time": "2022-07-26T02:37:30.770Z"
   },
   {
    "duration": 9,
    "start_time": "2022-07-26T02:37:31.003Z"
   },
   {
    "duration": 31,
    "start_time": "2022-07-26T02:37:31.014Z"
   },
   {
    "duration": 68,
    "start_time": "2022-07-26T02:37:31.046Z"
   },
   {
    "duration": 3,
    "start_time": "2022-07-26T02:48:20.165Z"
   },
   {
    "duration": 29,
    "start_time": "2022-07-26T02:48:20.169Z"
   },
   {
    "duration": 11,
    "start_time": "2022-07-26T02:48:20.199Z"
   },
   {
    "duration": 10,
    "start_time": "2022-07-26T02:48:20.385Z"
   },
   {
    "duration": 9,
    "start_time": "2022-07-26T02:48:20.396Z"
   },
   {
    "duration": 14,
    "start_time": "2022-07-26T02:48:20.406Z"
   },
   {
    "duration": 14,
    "start_time": "2022-07-26T02:48:20.421Z"
   },
   {
    "duration": 53,
    "start_time": "2022-07-26T02:48:20.437Z"
   },
   {
    "duration": 12,
    "start_time": "2022-07-26T02:48:20.492Z"
   },
   {
    "duration": 12,
    "start_time": "2022-07-26T02:48:20.612Z"
   },
   {
    "duration": 30,
    "start_time": "2022-07-26T02:48:20.625Z"
   },
   {
    "duration": 17,
    "start_time": "2022-07-26T02:48:20.656Z"
   },
   {
    "duration": 8,
    "start_time": "2022-07-26T02:48:20.674Z"
   },
   {
    "duration": 11,
    "start_time": "2022-07-26T02:48:20.683Z"
   },
   {
    "duration": 299,
    "start_time": "2022-07-26T02:48:20.695Z"
   },
   {
    "duration": 185,
    "start_time": "2022-07-26T02:48:20.996Z"
   },
   {
    "duration": 163,
    "start_time": "2022-07-26T02:48:21.182Z"
   },
   {
    "duration": 255,
    "start_time": "2022-07-26T02:48:21.347Z"
   },
   {
    "duration": 177,
    "start_time": "2022-07-26T02:48:21.603Z"
   },
   {
    "duration": 247,
    "start_time": "2022-07-26T02:48:21.781Z"
   },
   {
    "duration": 237,
    "start_time": "2022-07-26T02:48:22.036Z"
   },
   {
    "duration": 129,
    "start_time": "2022-07-26T02:48:22.275Z"
   },
   {
    "duration": 6,
    "start_time": "2022-07-26T02:48:22.405Z"
   },
   {
    "duration": 134,
    "start_time": "2022-07-26T02:48:22.412Z"
   },
   {
    "duration": 5,
    "start_time": "2022-07-26T02:48:22.548Z"
   },
   {
    "duration": 1200,
    "start_time": "2022-07-26T02:52:24.232Z"
   },
   {
    "duration": 29,
    "start_time": "2022-07-26T02:52:25.434Z"
   },
   {
    "duration": 15,
    "start_time": "2022-07-26T02:52:25.464Z"
   },
   {
    "duration": 13,
    "start_time": "2022-07-26T02:52:25.480Z"
   },
   {
    "duration": 6,
    "start_time": "2022-07-26T02:52:25.495Z"
   },
   {
    "duration": 12,
    "start_time": "2022-07-26T02:52:25.503Z"
   },
   {
    "duration": 9,
    "start_time": "2022-07-26T02:52:25.517Z"
   },
   {
    "duration": 61,
    "start_time": "2022-07-26T02:52:25.528Z"
   },
   {
    "duration": 18,
    "start_time": "2022-07-26T02:52:25.591Z"
   },
   {
    "duration": 23,
    "start_time": "2022-07-26T02:52:25.611Z"
   },
   {
    "duration": 40,
    "start_time": "2022-07-26T02:52:25.636Z"
   },
   {
    "duration": 18,
    "start_time": "2022-07-26T02:52:25.678Z"
   },
   {
    "duration": 8,
    "start_time": "2022-07-26T02:52:25.697Z"
   },
   {
    "duration": 38,
    "start_time": "2022-07-26T02:52:25.708Z"
   },
   {
    "duration": 304,
    "start_time": "2022-07-26T02:52:25.748Z"
   },
   {
    "duration": 270,
    "start_time": "2022-07-26T02:52:26.053Z"
   },
   {
    "duration": 168,
    "start_time": "2022-07-26T02:52:26.325Z"
   },
   {
    "duration": 244,
    "start_time": "2022-07-26T02:52:26.494Z"
   },
   {
    "duration": 182,
    "start_time": "2022-07-26T02:52:26.740Z"
   },
   {
    "duration": 273,
    "start_time": "2022-07-26T02:52:26.924Z"
   },
   {
    "duration": 269,
    "start_time": "2022-07-26T02:52:27.199Z"
   },
   {
    "duration": 136,
    "start_time": "2022-07-26T02:52:27.470Z"
   },
   {
    "duration": 6,
    "start_time": "2022-07-26T02:52:27.607Z"
   },
   {
    "duration": 255,
    "start_time": "2022-07-26T02:52:27.615Z"
   },
   {
    "duration": 5,
    "start_time": "2022-07-26T02:52:27.872Z"
   },
   {
    "duration": 11,
    "start_time": "2022-07-26T02:52:27.879Z"
   },
   {
    "duration": 8,
    "start_time": "2022-07-26T02:52:27.892Z"
   },
   {
    "duration": 59,
    "start_time": "2022-07-26T02:52:27.902Z"
   },
   {
    "duration": 1057,
    "start_time": "2022-07-26T03:11:02.392Z"
   },
   {
    "duration": 28,
    "start_time": "2022-07-26T03:11:03.451Z"
   },
   {
    "duration": 14,
    "start_time": "2022-07-26T03:11:03.480Z"
   },
   {
    "duration": 9,
    "start_time": "2022-07-26T03:11:03.495Z"
   },
   {
    "duration": 5,
    "start_time": "2022-07-26T03:11:03.506Z"
   },
   {
    "duration": 12,
    "start_time": "2022-07-26T03:11:03.513Z"
   },
   {
    "duration": 14,
    "start_time": "2022-07-26T03:11:03.527Z"
   },
   {
    "duration": 54,
    "start_time": "2022-07-26T03:11:03.543Z"
   },
   {
    "duration": 12,
    "start_time": "2022-07-26T03:11:03.598Z"
   },
   {
    "duration": 12,
    "start_time": "2022-07-26T03:11:03.612Z"
   },
   {
    "duration": 30,
    "start_time": "2022-07-26T03:11:03.626Z"
   },
   {
    "duration": 17,
    "start_time": "2022-07-26T03:11:03.658Z"
   },
   {
    "duration": 8,
    "start_time": "2022-07-26T03:11:03.676Z"
   },
   {
    "duration": 10,
    "start_time": "2022-07-26T03:11:03.686Z"
   },
   {
    "duration": 294,
    "start_time": "2022-07-26T03:11:03.698Z"
   },
   {
    "duration": 258,
    "start_time": "2022-07-26T03:11:03.994Z"
   },
   {
    "duration": 184,
    "start_time": "2022-07-26T03:11:04.254Z"
   },
   {
    "duration": 257,
    "start_time": "2022-07-26T03:11:08.861Z"
   },
   {
    "duration": 193,
    "start_time": "2022-07-26T03:11:09.120Z"
   },
   {
    "duration": 279,
    "start_time": "2022-07-26T03:11:09.315Z"
   },
   {
    "duration": 243,
    "start_time": "2022-07-26T03:11:09.595Z"
   },
   {
    "duration": 138,
    "start_time": "2022-07-26T03:11:09.840Z"
   },
   {
    "duration": 6,
    "start_time": "2022-07-26T03:11:09.980Z"
   },
   {
    "duration": 247,
    "start_time": "2022-07-26T03:11:09.987Z"
   },
   {
    "duration": 11,
    "start_time": "2022-07-26T03:11:10.236Z"
   },
   {
    "duration": 11,
    "start_time": "2022-07-26T03:11:10.248Z"
   },
   {
    "duration": 46,
    "start_time": "2022-07-26T03:11:10.260Z"
   },
   {
    "duration": 3,
    "start_time": "2022-07-26T03:17:20.912Z"
   },
   {
    "duration": 31,
    "start_time": "2022-07-26T03:17:20.917Z"
   },
   {
    "duration": 11,
    "start_time": "2022-07-26T03:17:20.950Z"
   },
   {
    "duration": 30,
    "start_time": "2022-07-26T03:17:20.963Z"
   },
   {
    "duration": 17,
    "start_time": "2022-07-26T03:17:20.995Z"
   },
   {
    "duration": 19,
    "start_time": "2022-07-26T03:17:21.013Z"
   },
   {
    "duration": 16,
    "start_time": "2022-07-26T03:17:21.034Z"
   },
   {
    "duration": 80,
    "start_time": "2022-07-26T03:17:21.052Z"
   },
   {
    "duration": 12,
    "start_time": "2022-07-26T03:17:21.134Z"
   },
   {
    "duration": 12,
    "start_time": "2022-07-26T03:17:22.710Z"
   },
   {
    "duration": 32,
    "start_time": "2022-07-26T03:17:22.724Z"
   },
   {
    "duration": 17,
    "start_time": "2022-07-26T03:17:22.757Z"
   },
   {
    "duration": 6,
    "start_time": "2022-07-26T03:17:22.776Z"
   },
   {
    "duration": 11,
    "start_time": "2022-07-26T03:17:22.784Z"
   },
   {
    "duration": 302,
    "start_time": "2022-07-26T03:17:22.797Z"
   },
   {
    "duration": 195,
    "start_time": "2022-07-26T03:17:23.100Z"
   },
   {
    "duration": 174,
    "start_time": "2022-07-26T03:17:23.297Z"
   },
   {
    "duration": 244,
    "start_time": "2022-07-26T03:17:23.472Z"
   },
   {
    "duration": 184,
    "start_time": "2022-07-26T03:17:23.718Z"
   },
   {
    "duration": 285,
    "start_time": "2022-07-26T03:17:23.904Z"
   },
   {
    "duration": 237,
    "start_time": "2022-07-26T03:17:24.191Z"
   },
   {
    "duration": 131,
    "start_time": "2022-07-26T03:17:24.437Z"
   },
   {
    "duration": 6,
    "start_time": "2022-07-26T03:17:24.570Z"
   },
   {
    "duration": 155,
    "start_time": "2022-07-26T03:17:24.577Z"
   },
   {
    "duration": 13,
    "start_time": "2022-07-26T03:17:24.733Z"
   },
   {
    "duration": 10,
    "start_time": "2022-07-26T03:17:24.748Z"
   },
   {
    "duration": 53,
    "start_time": "2022-07-26T03:17:24.760Z"
   },
   {
    "duration": 3,
    "start_time": "2022-07-26T03:44:30.888Z"
   },
   {
    "duration": 46,
    "start_time": "2022-07-26T03:44:30.893Z"
   },
   {
    "duration": 20,
    "start_time": "2022-07-26T03:44:30.941Z"
   },
   {
    "duration": 39,
    "start_time": "2022-07-26T03:44:30.964Z"
   },
   {
    "duration": 5,
    "start_time": "2022-07-26T03:44:31.127Z"
   },
   {
    "duration": 19,
    "start_time": "2022-07-26T03:44:31.134Z"
   },
   {
    "duration": 25,
    "start_time": "2022-07-26T03:44:31.157Z"
   },
   {
    "duration": 75,
    "start_time": "2022-07-26T03:44:31.184Z"
   },
   {
    "duration": 14,
    "start_time": "2022-07-26T03:44:31.262Z"
   },
   {
    "duration": 22,
    "start_time": "2022-07-26T03:44:31.278Z"
   },
   {
    "duration": 34,
    "start_time": "2022-07-26T03:44:31.357Z"
   },
   {
    "duration": 25,
    "start_time": "2022-07-26T03:44:31.394Z"
   },
   {
    "duration": 10,
    "start_time": "2022-07-26T03:44:31.421Z"
   },
   {
    "duration": 17,
    "start_time": "2022-07-26T03:44:31.437Z"
   },
   {
    "duration": 339,
    "start_time": "2022-07-26T03:44:31.456Z"
   },
   {
    "duration": 203,
    "start_time": "2022-07-26T03:44:31.797Z"
   },
   {
    "duration": 188,
    "start_time": "2022-07-26T03:44:32.003Z"
   },
   {
    "duration": 265,
    "start_time": "2022-07-26T03:44:32.193Z"
   },
   {
    "duration": 193,
    "start_time": "2022-07-26T03:44:32.460Z"
   },
   {
    "duration": 273,
    "start_time": "2022-07-26T03:44:32.655Z"
   },
   {
    "duration": 407,
    "start_time": "2022-07-26T03:44:32.931Z"
   },
   {
    "duration": 166,
    "start_time": "2022-07-26T03:44:33.340Z"
   },
   {
    "duration": 6,
    "start_time": "2022-07-26T03:44:33.507Z"
   },
   {
    "duration": 129,
    "start_time": "2022-07-26T03:44:33.515Z"
   },
   {
    "duration": 155,
    "start_time": "2022-07-26T03:44:50.107Z"
   },
   {
    "duration": 1047,
    "start_time": "2022-07-26T21:15:04.868Z"
   },
   {
    "duration": 56,
    "start_time": "2022-07-26T21:15:09.026Z"
   },
   {
    "duration": 13,
    "start_time": "2022-07-26T21:15:12.228Z"
   },
   {
    "duration": 3,
    "start_time": "2022-07-26T21:18:33.538Z"
   },
   {
    "duration": 28,
    "start_time": "2022-07-26T21:18:33.543Z"
   },
   {
    "duration": 11,
    "start_time": "2022-07-26T21:18:33.572Z"
   },
   {
    "duration": 12,
    "start_time": "2022-07-26T21:18:33.584Z"
   },
   {
    "duration": 8,
    "start_time": "2022-07-26T21:18:33.598Z"
   },
   {
    "duration": 7,
    "start_time": "2022-07-26T21:18:33.607Z"
   },
   {
    "duration": 110,
    "start_time": "2022-07-26T21:18:33.615Z"
   },
   {
    "duration": 13,
    "start_time": "2022-07-26T21:18:33.727Z"
   },
   {
    "duration": 12,
    "start_time": "2022-07-26T21:18:33.742Z"
   },
   {
    "duration": 27,
    "start_time": "2022-07-26T21:18:33.756Z"
   },
   {
    "duration": 16,
    "start_time": "2022-07-26T21:18:33.784Z"
   },
   {
    "duration": 7,
    "start_time": "2022-07-26T21:18:33.801Z"
   },
   {
    "duration": 10,
    "start_time": "2022-07-26T21:18:33.809Z"
   },
   {
    "duration": 281,
    "start_time": "2022-07-26T21:18:33.820Z"
   },
   {
    "duration": 90,
    "start_time": "2022-07-26T21:18:55.246Z"
   },
   {
    "duration": 241,
    "start_time": "2022-07-26T21:19:14.526Z"
   },
   {
    "duration": 150,
    "start_time": "2022-07-26T21:19:38.056Z"
   },
   {
    "duration": 197,
    "start_time": "2022-07-26T21:22:19.991Z"
   },
   {
    "duration": 154,
    "start_time": "2022-07-26T21:22:26.503Z"
   },
   {
    "duration": 195,
    "start_time": "2022-07-26T21:22:39.197Z"
   },
   {
    "duration": 261,
    "start_time": "2022-07-26T21:22:50.799Z"
   },
   {
    "duration": 198,
    "start_time": "2022-07-26T21:22:59.119Z"
   },
   {
    "duration": 350,
    "start_time": "2022-07-26T21:23:06.464Z"
   },
   {
    "duration": 313,
    "start_time": "2022-07-26T21:23:13.073Z"
   },
   {
    "duration": 256,
    "start_time": "2022-07-26T21:23:42.206Z"
   },
   {
    "duration": 255,
    "start_time": "2022-07-26T21:24:12.388Z"
   },
   {
    "duration": 144,
    "start_time": "2022-07-26T21:24:19.030Z"
   },
   {
    "duration": 1289,
    "start_time": "2022-07-26T23:11:31.443Z"
   },
   {
    "duration": 68,
    "start_time": "2022-07-26T23:11:32.734Z"
   },
   {
    "duration": 15,
    "start_time": "2022-07-26T23:11:32.804Z"
   },
   {
    "duration": 12,
    "start_time": "2022-07-26T23:11:32.821Z"
   },
   {
    "duration": 9,
    "start_time": "2022-07-26T23:11:32.836Z"
   },
   {
    "duration": 8,
    "start_time": "2022-07-26T23:11:32.846Z"
   },
   {
    "duration": 133,
    "start_time": "2022-07-26T23:11:32.856Z"
   },
   {
    "duration": 14,
    "start_time": "2022-07-26T23:11:32.990Z"
   },
   {
    "duration": 17,
    "start_time": "2022-07-26T23:11:33.006Z"
   },
   {
    "duration": 34,
    "start_time": "2022-07-26T23:11:33.025Z"
   },
   {
    "duration": 18,
    "start_time": "2022-07-26T23:11:33.061Z"
   },
   {
    "duration": 8,
    "start_time": "2022-07-26T23:11:33.080Z"
   },
   {
    "duration": 11,
    "start_time": "2022-07-26T23:11:33.090Z"
   },
   {
    "duration": 306,
    "start_time": "2022-07-26T23:11:33.103Z"
   },
   {
    "duration": 305,
    "start_time": "2022-07-26T23:11:33.411Z"
   },
   {
    "duration": 214,
    "start_time": "2022-07-26T23:11:33.718Z"
   },
   {
    "duration": 372,
    "start_time": "2022-07-26T23:11:33.933Z"
   },
   {
    "duration": 238,
    "start_time": "2022-07-26T23:11:34.307Z"
   },
   {
    "duration": 313,
    "start_time": "2022-07-26T23:11:34.546Z"
   },
   {
    "duration": 276,
    "start_time": "2022-07-26T23:11:34.861Z"
   },
   {
    "duration": 169,
    "start_time": "2022-07-26T23:11:35.139Z"
   },
   {
    "duration": 14,
    "start_time": "2022-07-26T23:11:35.309Z"
   },
   {
    "duration": 216,
    "start_time": "2022-07-26T23:11:35.324Z"
   },
   {
    "duration": 11,
    "start_time": "2022-07-26T23:11:35.542Z"
   },
   {
    "duration": 10,
    "start_time": "2022-07-26T23:11:35.555Z"
   },
   {
    "duration": 58,
    "start_time": "2022-07-26T23:11:35.566Z"
   },
   {
    "duration": 18,
    "start_time": "2022-07-26T23:28:59.434Z"
   },
   {
    "duration": 13,
    "start_time": "2022-07-26T23:29:11.102Z"
   },
   {
    "duration": 1397,
    "start_time": "2022-07-27T14:10:36.094Z"
   },
   {
    "duration": 76,
    "start_time": "2022-07-27T14:10:39.685Z"
   },
   {
    "duration": 22,
    "start_time": "2022-07-27T14:10:43.110Z"
   },
   {
    "duration": 1059,
    "start_time": "2022-07-27T14:11:04.016Z"
   },
   {
    "duration": 15,
    "start_time": "2022-07-27T14:11:38.795Z"
   },
   {
    "duration": 14,
    "start_time": "2022-07-27T14:11:49.493Z"
   },
   {
    "duration": 15,
    "start_time": "2022-07-27T14:12:00.750Z"
   },
   {
    "duration": 167,
    "start_time": "2022-07-27T14:12:12.781Z"
   },
   {
    "duration": 23,
    "start_time": "2022-07-27T14:12:21.718Z"
   },
   {
    "duration": 15,
    "start_time": "2022-07-27T14:12:29.239Z"
   },
   {
    "duration": 45,
    "start_time": "2022-07-27T14:12:47.836Z"
   },
   {
    "duration": 27,
    "start_time": "2022-07-27T14:13:13.252Z"
   },
   {
    "duration": 13,
    "start_time": "2022-07-27T14:13:27.915Z"
   },
   {
    "duration": 19,
    "start_time": "2022-07-27T14:13:39.692Z"
   },
   {
    "duration": 359,
    "start_time": "2022-07-27T14:13:46.760Z"
   },
   {
    "duration": 384,
    "start_time": "2022-07-27T14:13:53.397Z"
   },
   {
    "duration": 225,
    "start_time": "2022-07-27T14:13:59.668Z"
   },
   {
    "duration": 367,
    "start_time": "2022-07-27T14:14:05.393Z"
   },
   {
    "duration": 246,
    "start_time": "2022-07-27T14:14:10.829Z"
   },
   {
    "duration": 311,
    "start_time": "2022-07-27T14:14:15.413Z"
   },
   {
    "duration": 313,
    "start_time": "2022-07-27T14:14:21.773Z"
   },
   {
    "duration": 237,
    "start_time": "2022-07-27T14:14:26.145Z"
   },
   {
    "duration": 8,
    "start_time": "2022-07-27T14:14:34.685Z"
   },
   {
    "duration": 161,
    "start_time": "2022-07-27T14:14:40.038Z"
   },
   {
    "duration": 11,
    "start_time": "2022-07-27T14:14:42.925Z"
   },
   {
    "duration": 9,
    "start_time": "2022-07-27T14:14:47.379Z"
   },
   {
    "duration": 51,
    "start_time": "2022-07-27T14:14:51.377Z"
   }
  ],
  "kernelspec": {
   "display_name": "Python 3 (ipykernel)",
   "language": "python",
   "name": "python3"
  },
  "language_info": {
   "codemirror_mode": {
    "name": "ipython",
    "version": 3
   },
   "file_extension": ".py",
   "mimetype": "text/x-python",
   "name": "python",
   "nbconvert_exporter": "python",
   "pygments_lexer": "ipython3",
   "version": "3.9.12"
  },
  "toc": {
   "base_numbering": 1,
   "nav_menu": {},
   "number_sections": true,
   "sideBar": true,
   "skip_h1_title": true,
   "title_cell": "Table of Contents",
   "title_sidebar": "Contents",
   "toc_cell": false,
   "toc_position": {
    "height": "calc(100% - 180px)",
    "left": "10px",
    "top": "150px",
    "width": "272px"
   },
   "toc_section_display": true,
   "toc_window_display": true
  }
 },
 "nbformat": 4,
 "nbformat_minor": 2
}
