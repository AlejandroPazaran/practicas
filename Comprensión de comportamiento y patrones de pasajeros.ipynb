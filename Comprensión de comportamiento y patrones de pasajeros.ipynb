{
 "cells": [
  {
   "cell_type": "markdown",
   "metadata": {},
   "source": [
    "# Comprensión de comportamiento y patrones de pasajeros\n",
    "\n",
    "Para la la nueva empresa de viajes compartidos Zuber se analizarán datos datos de viajes en taxi en 2017 con el propósito de comprender las preferencias de los pasajeros y el impacto de los factores externos en los viajes.\n",
    "\n",
    "A continuación se enlistas los distintos apartados del reporte:\n",
    "* 1 - Carga de archivo e inspección inicial de información\n",
    "* 2 - Preparación de los datos\n",
    "* 3 - Análisis de los datos\n",
    "* 4 - Pruebas de hipótesis\n",
    "* 5 - Conclusiones generales\n",
    "\n",
    "## Carga de archivo e inspección inicial de información\n",
    "\n",
    "Antes que nada se cargarán las librerías a ser utilizadas, posteriormente, se realizará la carga de los documentos donde se encuentran los datos a ser trabajados y se obtendrá la información de estos mismos para comenzar a tener una idea sobre cómo será necesario limpiar la información."
   ]
  },
  {
   "cell_type": "code",
   "execution_count": 1,
   "metadata": {},
   "outputs": [],
   "source": [
    "#Importación de librerías\n",
    "\n",
    "import pandas as pd\n",
    "import numpy as np\n",
    "import matplotlib.pyplot as plt\n",
    "import seaborn as sns\n",
    "from scipy import stats as st"
   ]
  },
  {
   "cell_type": "code",
   "execution_count": 2,
   "metadata": {},
   "outputs": [],
   "source": [
    "#Importación de los archivos csv\n",
    "\n",
    "company_trips = pd.read_csv('/datasets/project_sql_result_01.csv')\n",
    "dropoff_location_trips = pd.read_csv('/datasets/project_sql_result_04.csv')"
   ]
  },
  {
   "cell_type": "code",
   "execution_count": 3,
   "metadata": {},
   "outputs": [
    {
     "name": "stdout",
     "output_type": "stream",
     "text": [
      "<class 'pandas.core.frame.DataFrame'>\n",
      "RangeIndex: 64 entries, 0 to 63\n",
      "Data columns (total 2 columns):\n",
      " #   Column        Non-Null Count  Dtype \n",
      "---  ------        --------------  ----- \n",
      " 0   company_name  64 non-null     object\n",
      " 1   trips_amount  64 non-null     int64 \n",
      "dtypes: int64(1), object(1)\n",
      "memory usage: 1.1+ KB\n"
     ]
    },
    {
     "data": {
      "text/html": [
       "<div>\n",
       "<style scoped>\n",
       "    .dataframe tbody tr th:only-of-type {\n",
       "        vertical-align: middle;\n",
       "    }\n",
       "\n",
       "    .dataframe tbody tr th {\n",
       "        vertical-align: top;\n",
       "    }\n",
       "\n",
       "    .dataframe thead th {\n",
       "        text-align: right;\n",
       "    }\n",
       "</style>\n",
       "<table border=\"1\" class=\"dataframe\">\n",
       "  <thead>\n",
       "    <tr style=\"text-align: right;\">\n",
       "      <th></th>\n",
       "      <th>company_name</th>\n",
       "      <th>trips_amount</th>\n",
       "    </tr>\n",
       "  </thead>\n",
       "  <tbody>\n",
       "    <tr>\n",
       "      <th>0</th>\n",
       "      <td>Flash Cab</td>\n",
       "      <td>19558</td>\n",
       "    </tr>\n",
       "    <tr>\n",
       "      <th>1</th>\n",
       "      <td>Taxi Affiliation Services</td>\n",
       "      <td>11422</td>\n",
       "    </tr>\n",
       "    <tr>\n",
       "      <th>2</th>\n",
       "      <td>Medallion Leasing</td>\n",
       "      <td>10367</td>\n",
       "    </tr>\n",
       "    <tr>\n",
       "      <th>3</th>\n",
       "      <td>Yellow Cab</td>\n",
       "      <td>9888</td>\n",
       "    </tr>\n",
       "    <tr>\n",
       "      <th>4</th>\n",
       "      <td>Taxi Affiliation Service Yellow</td>\n",
       "      <td>9299</td>\n",
       "    </tr>\n",
       "  </tbody>\n",
       "</table>\n",
       "</div>"
      ],
      "text/plain": [
       "                      company_name  trips_amount\n",
       "0                        Flash Cab         19558\n",
       "1        Taxi Affiliation Services         11422\n",
       "2                Medallion Leasing         10367\n",
       "3                       Yellow Cab          9888\n",
       "4  Taxi Affiliation Service Yellow          9299"
      ]
     },
     "execution_count": 3,
     "metadata": {},
     "output_type": "execute_result"
    }
   ],
   "source": [
    "#Obtención de información referente a company_trips\n",
    "company_trips.info()\n",
    "company_trips.head()"
   ]
  },
  {
   "cell_type": "markdown",
   "metadata": {},
   "source": [
    "La descripción de las columnas de esta primera base sería la siguiente:\n",
    "    \n",
    "* company_name: nombre de la empresa de taxis\n",
    "* trips_amount: el número de viajes de cada compañía de taxis el 15 y 16 de noviembre de 2017\n",
    "\n",
    "Los datos parecen estar limpios y completos, únicamente hará falta una sencilla revisión de los nombres de las compañías para confirmar que no contamos con duplicados por error de captura en el nombre de las compañías."
   ]
  },
  {
   "cell_type": "code",
   "execution_count": 4,
   "metadata": {},
   "outputs": [
    {
     "name": "stdout",
     "output_type": "stream",
     "text": [
      "<class 'pandas.core.frame.DataFrame'>\n",
      "RangeIndex: 94 entries, 0 to 93\n",
      "Data columns (total 2 columns):\n",
      " #   Column                 Non-Null Count  Dtype  \n",
      "---  ------                 --------------  -----  \n",
      " 0   dropoff_location_name  94 non-null     object \n",
      " 1   average_trips          94 non-null     float64\n",
      "dtypes: float64(1), object(1)\n",
      "memory usage: 1.6+ KB\n"
     ]
    },
    {
     "data": {
      "text/html": [
       "<div>\n",
       "<style scoped>\n",
       "    .dataframe tbody tr th:only-of-type {\n",
       "        vertical-align: middle;\n",
       "    }\n",
       "\n",
       "    .dataframe tbody tr th {\n",
       "        vertical-align: top;\n",
       "    }\n",
       "\n",
       "    .dataframe thead th {\n",
       "        text-align: right;\n",
       "    }\n",
       "</style>\n",
       "<table border=\"1\" class=\"dataframe\">\n",
       "  <thead>\n",
       "    <tr style=\"text-align: right;\">\n",
       "      <th></th>\n",
       "      <th>dropoff_location_name</th>\n",
       "      <th>average_trips</th>\n",
       "    </tr>\n",
       "  </thead>\n",
       "  <tbody>\n",
       "    <tr>\n",
       "      <th>0</th>\n",
       "      <td>Loop</td>\n",
       "      <td>10727.466667</td>\n",
       "    </tr>\n",
       "    <tr>\n",
       "      <th>1</th>\n",
       "      <td>River North</td>\n",
       "      <td>9523.666667</td>\n",
       "    </tr>\n",
       "    <tr>\n",
       "      <th>2</th>\n",
       "      <td>Streeterville</td>\n",
       "      <td>6664.666667</td>\n",
       "    </tr>\n",
       "    <tr>\n",
       "      <th>3</th>\n",
       "      <td>West Loop</td>\n",
       "      <td>5163.666667</td>\n",
       "    </tr>\n",
       "    <tr>\n",
       "      <th>4</th>\n",
       "      <td>O'Hare</td>\n",
       "      <td>2546.900000</td>\n",
       "    </tr>\n",
       "  </tbody>\n",
       "</table>\n",
       "</div>"
      ],
      "text/plain": [
       "  dropoff_location_name  average_trips\n",
       "0                  Loop   10727.466667\n",
       "1           River North    9523.666667\n",
       "2         Streeterville    6664.666667\n",
       "3             West Loop    5163.666667\n",
       "4                O'Hare    2546.900000"
      ]
     },
     "execution_count": 4,
     "metadata": {},
     "output_type": "execute_result"
    }
   ],
   "source": [
    "#Obtención de información referente a company_trips\n",
    "dropoff_location_trips.info()\n",
    "dropoff_location_trips.head()"
   ]
  },
  {
   "cell_type": "markdown",
   "metadata": {},
   "source": [
    "La descripción de las columnas de esta primera base sería la siguiente:\n",
    "    \n",
    "* dropoff_location_name: barrios de Chicago donde finalizaron los viajes\n",
    "* average_trips: el promedio de viajes que terminaron en cada barrio en noviembre de 2017\n",
    "\n",
    "Los datos parecen estar limpios y completos, únicamente hará falta una sencilla revisión de los nombres de las compañías para confirmar que no contamos con duplicados por error de captura en el nombre de los destinos."
   ]
  },
  {
   "cell_type": "markdown",
   "metadata": {},
   "source": [
    "# 2  Preparación de los datos¶\n",
    "\n",
    "Procederemos a revisar los valores únicos de las columnas mencionadas, para asegurarnos que no existen duplicados que se encuentren contaminando la información."
   ]
  },
  {
   "cell_type": "code",
   "execution_count": 5,
   "metadata": {},
   "outputs": [
    {
     "name": "stdout",
     "output_type": "stream",
     "text": [
      "['0118 - 42111 Godfrey S. Awir', '1085 - 72312 N and W Cab Co', '1469 - 64126 Omar Jada', '2092 - 61288 Sbeih Company', '2192 - 73487 Zeymane Corp', '2241 - 44667 - Felman Corp', '24 Seven Taxi', '2733 - 74600 Benny Jona', '2809 - 95474 C & D Cab Co Inc.', '2823 - 73307 Lee Express Inc', '3011 - 66308 JBL Cab Inc.', '303 Taxi', '3556 - 36214 RC Andrews Cab', '3591 - 63480 Chuks Cab', '3620 - 52292 David K. Cab Corp.', '3623 - 72222 Arrington Enterprises', '3721 - Santamaria Express', '4053 - 40193 Adwar H. Nikola', '4615 - 83503 Tyrone Henderson', '4623 - 27290 Jay Kim', '5 Star Taxi', '5006 - 39261 Salifu Bawa', '5062 - 34841 Sam Mestas', '5074 - 54002 Ahzmi Inc', '5874 - 73628 Sergey Cab Corp.', '5997 - 65283 AW Services Inc.', '6057 - 24657 Richard Addo', '6574 - Babylon Express Inc.', '6742 - 83735 Tasha Ride Inc', '6743 - 78771 Luhak Corp', 'American United', 'American United Taxi Affiliation', 'Blue Diamond', 'Blue Ribbon Taxi Association Inc.', 'Checker Taxi', 'Checker Taxi Affiliation', 'Chicago Carriage Cab Corp', 'Chicago Independents', 'Chicago Medallion Leasing INC', 'Chicago Medallion Management', 'Chicago Star Taxicab', 'Chicago Taxicab', 'Choice Taxi Association', 'City Service', 'Dispatch Taxi Affiliation', 'Flash Cab', 'Globe Taxi', 'Gold Coast Taxi', 'KOAM Taxi Association', 'Leonard Cab Co', 'Medallion Leasing', 'Metro Group', 'Metro Jet Taxi A', 'Norshore Cab', 'Nova Taxi Affiliation Llc', 'Patriot Taxi Dba Peace Taxi Association', 'Service Taxi Association', 'Setare Inc', 'Star North Management LLC', 'Sun Taxi', 'Taxi Affiliation Service Yellow', 'Taxi Affiliation Services', 'Top Cab Affiliation', 'Yellow Cab']\n",
      "\n",
      "['Albany Park', 'Andersonville', 'Archer Heights', 'Armour Square', 'Ashburn', 'Auburn Gresham', 'Austin', 'Avalon Park', 'Avondale', 'Belmont Cragin', 'Beverly', 'Boystown', 'Bridgeport', 'Brighton Park', 'Bucktown', 'Burnside', 'Calumet Heights', 'Chatham', 'Chicago Lawn', 'Chinatown', 'Clearing', 'Douglas', 'Dunning', 'East Side', 'East Village', 'Edgewater', 'Edison Park', 'Englewood', 'Fuller Park', 'Gage Park', 'Garfield Park', 'Garfield Ridge', 'Gold Coast', 'Grand Boulevard', 'Grand Crossing', 'Grant Park', 'Hegewisch', 'Hermosa', 'Humboldt Park', 'Hyde Park', 'Irving Park', 'Jackson Park', 'Jefferson Park', 'Kenwood', 'Lake View', 'Lincoln Park', 'Lincoln Square', 'Little Italy, UIC', 'Little Village', 'Logan Square', 'Loop', 'Lower West Side', 'Mckinley Park', 'Montclare', 'Morgan Park', 'Mount Greenwood', 'Museum Campus', 'Near South Side', 'New City', 'North Center', 'North Lawndale', 'North Park', 'Norwood Park', \"O'Hare\", 'Oakland', 'Old Town', 'Portage Park', 'Pullman', 'River North', 'Riverdale', 'Rogers Park', 'Roseland', 'Rush & Division', 'Sauganash,Forest Glen', 'Sheffield & DePaul', 'South Chicago', 'South Deering', 'South Shore', 'Streeterville', 'Ukrainian Village', 'Undef', 'United Center', 'Uptown', 'Washington Heights', 'Washington Park', 'West Elsdon', 'West Lawn', 'West Loop', 'West Pullman', 'West Ridge', 'West Town', 'Wicker Park', 'Woodlawn', 'Wrigleyville']\n"
     ]
    }
   ],
   "source": [
    "#Analizar valores únicos en columnas\n",
    "\n",
    "print(sorted(company_trips['company_name'].unique()))\n",
    "print()\n",
    "print(sorted(dropoff_location_trips['dropoff_location_name'].unique()))"
   ]
  },
  {
   "cell_type": "markdown",
   "metadata": {},
   "source": [
    "Podemos observar que la captura de los datos es correcta, con lo que podemos proceder al análisis.\n",
    "\n",
    "# 3 Análisis de los datos\n",
    "\n",
    "Procederemos a identificar los destinos más comunes para los viajeros, para lo cual utilizaremos la base de datos dropoff_location_trips."
   ]
  },
  {
   "cell_type": "code",
   "execution_count": 6,
   "metadata": {},
   "outputs": [
    {
     "name": "stdout",
     "output_type": "stream",
     "text": [
      "  dropoff_location_name  average_trips\n",
      "0                  Loop   10727.466667\n",
      "1           River North    9523.666667\n",
      "2         Streeterville    6664.666667\n",
      "3             West Loop    5163.666667\n",
      "4                O'Hare    2546.900000\n",
      "5             Lake View    2420.966667\n",
      "6            Grant Park    2068.533333\n",
      "7         Museum Campus    1510.000000\n",
      "8            Gold Coast    1364.233333\n",
      "9    Sheffield & DePaul    1259.766667\n"
     ]
    }
   ],
   "source": [
    "top_10_drop_off = dropoff_location_trips.pivot_table(index='dropoff_location_name', values='average_trips', aggfunc='mean').sort_values('average_trips', ascending=False).reset_index().head(10)\n",
    "print(top_10_drop_off)"
   ]
  },
  {
   "cell_type": "code",
   "execution_count": 7,
   "metadata": {},
   "outputs": [
    {
     "data": {
      "text/plain": [
       "<AxesSubplot:title={'center':'Viajes promedio por destino'}, xlabel='dropoff_location_name'>"
      ]
     },
     "execution_count": 7,
     "metadata": {},
     "output_type": "execute_result"
    },
    {
     "data": {
      "image/png": "[encoded data removed]",
      "text/plain": [
       "<Figure size 432x288 with 1 Axes>"
      ]
     },
     "metadata": {
      "needs_background": "light"
     },
     "output_type": "display_data"
    }
   ],
   "source": [
    "top_10_drop_off.plot(x='dropoff_location_name',\n",
    "            kind='bar',\n",
    "            stacked=False,\n",
    "            title='Viajes promedio por destino')"
   ]
  },
  {
   "cell_type": "markdown",
   "metadata": {},
   "source": [
    "Considerando que se trata únicamente de 10 de los 93 destinos posibles y la clara diferencia en la demanda que hay entre estos más solicitados, se puede llegar a la conclusión de que la mayor parte de los ingresos de la futura empresa va a provenir de unos pocos destinos, en especial considerando que se trata de transporte compartido, por lo que dos usuarios deben encontrarse buscando el mismo destino simultaneamente.\n",
    "\n",
    "A continuación, procederemos a estudiar cuáles son las empresas que más viajes realizan con una gráfica donde nuevamente nos encontremos con las primeras 20, con el objetivo de observar claramente la distribución, sin sobrecargar de información con empresas pequeñas."
   ]
  },
  {
   "cell_type": "code",
   "execution_count": 8,
   "metadata": {},
   "outputs": [
    {
     "data": {
      "text/plain": [
       "<AxesSubplot:title={'center':'Viajes por compañía'}, xlabel='company_name'>"
      ]
     },
     "execution_count": 8,
     "metadata": {},
     "output_type": "execute_result"
    },
    {
     "data": {
      "image/png": "[encoded data removed]",
      "text/plain": [
       "<Figure size 432x288 with 1 Axes>"
      ]
     },
     "metadata": {
      "needs_background": "light"
     },
     "output_type": "display_data"
    }
   ],
   "source": [
    "company_trips.head(20).plot(x='company_name',\n",
    "            kind='bar',\n",
    "            stacked=False,\n",
    "            title='Viajes por compañía')"
   ]
  },
  {
   "cell_type": "markdown",
   "metadata": {},
   "source": [
    "Gracias a la gráfica anterior podemos observar que se encuentra bastante escalonada la información sobre la distribución de viajes entre compañías, con Flash Cab en un primer lugar prácticamente duplicando los viajes de su competencia más proxima, mientas que a partir de \"Choise Taxi Association\" vuelve a ocurrir un desnivel significativo en los datos. Esto demuestra claramente los principales competidores y los números a los que la empresa debería estar aspirando para considerarse un competidor significativo.\n",
    "\n",
    "# 4 Pruebas de hipótesis\n",
    "\n",
    "A continuación probaremos las siguientes hipótesis:\n",
    "\n",
    "* La duración promedio de los viajes desde el Loop hasta el Aeropuerto Internacional O'Hare cambia los sábados lluviosos.\n",
    "\n",
    "Para esta prueba estaremos considerando la siguiente hipótesis nula:\n",
    "\n",
    "* La duración promedio de los viajes desde el Loop hasta el Aeropuerto Internacional O'Hare es igual los sábados lluviosos.\n",
    "\n",
    "A esta hipótesis nula se llegó dado que es aquella que cuenta con una igualdad en su enunciado, provocando la siguiente hipótesis alternativa:\n",
    "\n",
    "* La duración promedio de los viajes desde el Loop hasta el Aeropuerto Internacional O'Hare cambia los sábados lluviosos.\n",
    "\n",
    "Consideraremos en ambos casos un alpha, nivel de significancia, de 0.05, así como un análisis de dos colas ya que no se está estudiando ni valores sobre o por debajo de ningún otro, simplemente la diferencia."
   ]
  },
  {
   "cell_type": "code",
   "execution_count": 9,
   "metadata": {},
   "outputs": [],
   "source": [
    "#Primero obtengamos la base de información\n",
    "\n",
    "loop_ohare_trips = pd.read_csv('/datasets/project_sql_result_07.csv')"
   ]
  },
  {
   "cell_type": "code",
   "execution_count": 10,
   "metadata": {},
   "outputs": [
    {
     "data": {
      "text/plain": [
       "0.3828627923388641"
      ]
     },
     "execution_count": 10,
     "metadata": {},
     "output_type": "execute_result"
    }
   ],
   "source": [
    "#Obtengamos los grupos de valores e identifiquemos a través de la prueba bartlett si las poblaciones son iguales.\n",
    "\n",
    "good_weather = loop_ohare_trips.query('weather_conditions == \"Good\"')\n",
    "bad_weather = loop_ohare_trips.query('weather_conditions == \"Bad\"')\n",
    "\n",
    "stat, p = st.bartlett(good_weather.dropna()['duration_seconds'], bad_weather.dropna()['duration_seconds'])\n",
    "p"
   ]
  },
  {
   "cell_type": "markdown",
   "metadata": {},
   "source": [
    "La prueba de Bartlett cuenta con la hipótesis nula de que las poblacioines son iguales, al no poder rechazarse (dado el alto nivel sobre alpha), consideraremos esta variable como cierta en el análisis de la hipóteis."
   ]
  },
  {
   "cell_type": "code",
   "execution_count": 11,
   "metadata": {},
   "outputs": [
    {
     "name": "stdout",
     "output_type": "stream",
     "text": [
      "p-value:  6.517970327099473e-12\n",
      "Rechazamos la hipótesis nula.\n"
     ]
    }
   ],
   "source": [
    "#Análicemos si se rechaza la hipótesis nula considerando nuestras variables\n",
    "\n",
    "alpha = 0.05 # el nivel de significancia estadística crítica\n",
    "# si el valor p es menor que alfa, rechazamos la hipótesis\n",
    "\n",
    "resultados = st.ttest_ind(good_weather.dropna()['duration_seconds'], bad_weather.dropna()['duration_seconds'],equal_var = True)\n",
    "\n",
    "\n",
    "print('p-value: ', resultados.pvalue)\n",
    "\n",
    "if resultados.pvalue < alpha:\n",
    "     print(\"Rechazamos la hipótesis nula.\")\n",
    "else:\n",
    "     print(\"No podemos rechazar la hipótesis nula.\") "
   ]
  },
  {
   "cell_type": "markdown",
   "metadata": {},
   "source": [
    "En este caso encontramos que la hipótesis nula se rechaza, destacando una diferencia entre los tiempos de recorrido entre los dias con mal clima y aquellos con buen clima."
   ]
  },
  {
   "cell_type": "markdown",
   "metadata": {},
   "source": [
    "# 5 Conclusiones generales\n",
    "\n",
    "La presente investigación de variables ha permitido entender más a fondo la naturaleza del negocio Zuber: Principales destinos, los principales competidores en el mercado y el impacto de los factores externos a los viajes.\n",
    "\n",
    "En un principio se obtuvo información referente al clima, ya que no se contaba con esta, de una página de internet, lo cual se convirtió en una de nuestras principales bases de datos. Posteriormente a través de querys de SQL pudimos obtener información de bases de datos proporcionadas, con información valiosa referente a los viajes de taxis en 2017. La unión de esta información con la del clima terminó siendo determinante para el rechazo de la hipótesis nula, demostrando que existe un impacto considerable del clima sobre los viajes solicitados por los usuarios.\n",
    "\n",
    "Por otro lado, se analizaron los principales destinos y la principal competencia a través de gráficas, que demostraron que existía una diferencia significativa tanto entre los destinos más cotizados contra el resto, en este caso Loop y River North teniendo una significativa popularidad. Mientras que del lado de la competencia Flash Cab destaca irrefutablemente, con casi el doble de viajes que su principal competidos.\n",
    "\n",
    "Concluimos recomendando estudiar más a fondo las diferencias que hacen a Flash Cab destacar tanto sobre el resto de la compatencia, así como tomar en consideración las condiciones climáticas para promover el servicio cuando corresponda y no bajar los niveles de atención."
   ]
  }
 ],
 "metadata": {
  "ExecuteTimeLog": [
   {
    "duration": 1315,
    "start_time": "2022-07-12T19:02:42.719Z"
   },
   {
    "duration": 148,
    "start_time": "2022-07-12T19:02:44.037Z"
   },
   {
    "duration": 25,
    "start_time": "2022-07-12T19:02:44.188Z"
   },
   {
    "duration": 15,
    "start_time": "2022-07-12T19:02:44.214Z"
   },
   {
    "duration": 94,
    "start_time": "2022-07-12T21:16:25.227Z"
   },
   {
    "duration": 4,
    "start_time": "2022-07-12T21:16:40.988Z"
   },
   {
    "duration": 12,
    "start_time": "2022-07-12T21:22:54.085Z"
   },
   {
    "duration": 15,
    "start_time": "2022-07-12T21:23:38.758Z"
   },
   {
    "duration": 21,
    "start_time": "2022-07-12T21:29:14.053Z"
   },
   {
    "duration": 157,
    "start_time": "2022-07-12T21:29:35.579Z"
   },
   {
    "duration": 1339,
    "start_time": "2022-07-12T21:37:43.259Z"
   },
   {
    "duration": 155,
    "start_time": "2022-07-12T21:38:17.190Z"
   },
   {
    "duration": 198,
    "start_time": "2022-07-12T21:38:24.044Z"
   },
   {
    "duration": 279,
    "start_time": "2022-07-12T21:40:15.409Z"
   },
   {
    "duration": 137,
    "start_time": "2022-07-12T21:53:42.095Z"
   },
   {
    "duration": 15,
    "start_time": "2022-07-12T21:53:45.410Z"
   },
   {
    "duration": 13,
    "start_time": "2022-07-12T21:55:07.280Z"
   },
   {
    "duration": 1428,
    "start_time": "2022-07-13T16:41:18.437Z"
   },
   {
    "duration": 153,
    "start_time": "2022-07-13T16:41:19.867Z"
   },
   {
    "duration": 20,
    "start_time": "2022-07-13T16:41:20.022Z"
   },
   {
    "duration": 22,
    "start_time": "2022-07-13T16:41:20.044Z"
   },
   {
    "duration": 5,
    "start_time": "2022-07-13T16:41:20.068Z"
   },
   {
    "duration": 17,
    "start_time": "2022-07-13T16:41:20.075Z"
   },
   {
    "duration": 220,
    "start_time": "2022-07-13T16:41:20.098Z"
   },
   {
    "duration": 305,
    "start_time": "2022-07-13T16:41:20.320Z"
   },
   {
    "duration": 86,
    "start_time": "2022-07-13T16:41:20.627Z"
   },
   {
    "duration": 16,
    "start_time": "2022-07-13T16:41:20.715Z"
   },
   {
    "duration": 10,
    "start_time": "2022-07-13T16:41:20.733Z"
   },
   {
    "duration": 9,
    "start_time": "2022-07-13T16:53:57.052Z"
   },
   {
    "duration": 7,
    "start_time": "2022-07-13T16:54:23.477Z"
   },
   {
    "duration": 7,
    "start_time": "2022-07-13T16:54:46.265Z"
   }
  ],
  "kernelspec": {
   "display_name": "Python 3 (ipykernel)",
   "language": "python",
   "name": "python3"
  },
  "language_info": {
   "codemirror_mode": {
    "name": "ipython",
    "version": 3
   },
   "file_extension": ".py",
   "mimetype": "text/x-python",
   "name": "python",
   "nbconvert_exporter": "python",
   "pygments_lexer": "ipython3",
   "version": "3.9.12"
  },
  "toc": {
   "base_numbering": 1,
   "nav_menu": {},
   "number_sections": true,
   "sideBar": true,
   "skip_h1_title": true,
   "title_cell": "Table of Contents",
   "title_sidebar": "Contents",
   "toc_cell": false,
   "toc_position": {},
   "toc_section_display": true,
   "toc_window_display": false
  }
 },
 "nbformat": 4,
 "nbformat_minor": 2
}
