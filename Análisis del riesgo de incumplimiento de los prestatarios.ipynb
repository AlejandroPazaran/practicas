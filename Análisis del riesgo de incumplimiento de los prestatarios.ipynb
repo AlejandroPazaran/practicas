{
 "cells": [
  {
   "cell_type": "markdown",
   "metadata": {},
   "source": [
    "# Análisis del riesgo de incumplimiento de los prestatarios\n",
    "\n",
    "Tu proyecto consiste en preparar un informe para la división de préstamos de un banco. Deberás averiguar si el estado civil y el número de hijos de un cliente tienen un impacto en el incumplimiento de pago de un préstamo. El banco ya tiene algunos datos sobre la solvencia crediticia de los clientes.\n",
    "\n",
    "Tu informe se tendrá en cuenta al crear una **puntuación de crédito** para un cliente potencial. La **puntuación de crédito** se utiliza para evaluar la capacidad de un prestatario potencial para pagar su préstamo."
   ]
  },
  {
   "cell_type": "markdown",
   "metadata": {},
   "source": [
    "## Abre el archivo de datos y mira la información general. \n",
    "\n",
    "Iniciamos con la importación de la librería Pandas, la cual nos apoyará con el análisis de los datos obtenidos. Posteriormente procedemos con la carga de la base de datos."
   ]
  },
  {
   "cell_type": "code",
   "execution_count": 53,
   "metadata": {},
   "outputs": [],
   "source": [
    "# Cargar todas las librerías\n",
    "import pandas as pd\n",
    "\n",
    "# Carga los datos\n",
    "scores = pd.read_csv('/datasets/credit_scoring_eng.csv')"
   ]
  },
  {
   "cell_type": "markdown",
   "metadata": {},
   "source": [
    "## Ejercicio 1. Exploración de datos\n",
    "\n",
    "**Descripción de los datos**\n",
    "- `children` - el número de hijos en la familia\n",
    "- `days_employed` - experiencia laboral en días\n",
    "- `dob_years` - la edad del cliente en años\n",
    "- `education` - la educación del cliente\n",
    "- `education_id` - identificador de educación\n",
    "- `family_status` - estado civil\n",
    "- `family_status_id` - identificador de estado civil\n",
    "- `gender` - género del cliente\n",
    "- `income_type` - tipo de empleo\n",
    "- `debt` - ¿había alguna deuda en el pago de un préstamo?\n",
    "- `total_income` - ingreso mensual\n",
    "- `purpose` - el propósito de obtener un préstamo\n",
    "\n",
    "A continución encontramos la dimensión de los datos y exploramos las primeras 20 filas en busqueda de algunos errores para ir planificando la limpieza de la información."
   ]
  },
  {
   "cell_type": "code",
   "execution_count": 54,
   "metadata": {},
   "outputs": [
    {
     "data": {
      "text/plain": [
       "(21525, 12)"
      ]
     },
     "execution_count": 54,
     "metadata": {},
     "output_type": "execute_result"
    }
   ],
   "source": [
    "# Vamos a ver cuántas filas y columnas tiene nuestro conjunto de datos\n",
    "\n",
    "scores.shape"
   ]
  },
  {
   "cell_type": "code",
   "execution_count": 55,
   "metadata": {
    "scrolled": true
   },
   "outputs": [
    {
     "data": {
      "text/html": [
       "<div>\n",
       "<style scoped>\n",
       "    .dataframe tbody tr th:only-of-type {\n",
       "        vertical-align: middle;\n",
       "    }\n",
       "\n",
       "    .dataframe tbody tr th {\n",
       "        vertical-align: top;\n",
       "    }\n",
       "\n",
       "    .dataframe thead th {\n",
       "        text-align: right;\n",
       "    }\n",
       "</style>\n",
       "<table border=\"1\" class=\"dataframe\">\n",
       "  <thead>\n",
       "    <tr style=\"text-align: right;\">\n",
       "      <th></th>\n",
       "      <th>children</th>\n",
       "      <th>days_employed</th>\n",
       "      <th>dob_years</th>\n",
       "      <th>education</th>\n",
       "      <th>education_id</th>\n",
       "      <th>family_status</th>\n",
       "      <th>family_status_id</th>\n",
       "      <th>gender</th>\n",
       "      <th>income_type</th>\n",
       "      <th>debt</th>\n",
       "      <th>total_income</th>\n",
       "      <th>purpose</th>\n",
       "    </tr>\n",
       "  </thead>\n",
       "  <tbody>\n",
       "    <tr>\n",
       "      <th>0</th>\n",
       "      <td>1</td>\n",
       "      <td>-8437.673028</td>\n",
       "      <td>42</td>\n",
       "      <td>bachelor's degree</td>\n",
       "      <td>0</td>\n",
       "      <td>married</td>\n",
       "      <td>0</td>\n",
       "      <td>F</td>\n",
       "      <td>employee</td>\n",
       "      <td>0</td>\n",
       "      <td>40620.102</td>\n",
       "      <td>purchase of the house</td>\n",
       "    </tr>\n",
       "    <tr>\n",
       "      <th>1</th>\n",
       "      <td>1</td>\n",
       "      <td>-4024.803754</td>\n",
       "      <td>36</td>\n",
       "      <td>secondary education</td>\n",
       "      <td>1</td>\n",
       "      <td>married</td>\n",
       "      <td>0</td>\n",
       "      <td>F</td>\n",
       "      <td>employee</td>\n",
       "      <td>0</td>\n",
       "      <td>17932.802</td>\n",
       "      <td>car purchase</td>\n",
       "    </tr>\n",
       "    <tr>\n",
       "      <th>2</th>\n",
       "      <td>0</td>\n",
       "      <td>-5623.422610</td>\n",
       "      <td>33</td>\n",
       "      <td>Secondary Education</td>\n",
       "      <td>1</td>\n",
       "      <td>married</td>\n",
       "      <td>0</td>\n",
       "      <td>M</td>\n",
       "      <td>employee</td>\n",
       "      <td>0</td>\n",
       "      <td>23341.752</td>\n",
       "      <td>purchase of the house</td>\n",
       "    </tr>\n",
       "    <tr>\n",
       "      <th>3</th>\n",
       "      <td>3</td>\n",
       "      <td>-4124.747207</td>\n",
       "      <td>32</td>\n",
       "      <td>secondary education</td>\n",
       "      <td>1</td>\n",
       "      <td>married</td>\n",
       "      <td>0</td>\n",
       "      <td>M</td>\n",
       "      <td>employee</td>\n",
       "      <td>0</td>\n",
       "      <td>42820.568</td>\n",
       "      <td>supplementary education</td>\n",
       "    </tr>\n",
       "    <tr>\n",
       "      <th>4</th>\n",
       "      <td>0</td>\n",
       "      <td>340266.072047</td>\n",
       "      <td>53</td>\n",
       "      <td>secondary education</td>\n",
       "      <td>1</td>\n",
       "      <td>civil partnership</td>\n",
       "      <td>1</td>\n",
       "      <td>F</td>\n",
       "      <td>retiree</td>\n",
       "      <td>0</td>\n",
       "      <td>25378.572</td>\n",
       "      <td>to have a wedding</td>\n",
       "    </tr>\n",
       "    <tr>\n",
       "      <th>5</th>\n",
       "      <td>0</td>\n",
       "      <td>-926.185831</td>\n",
       "      <td>27</td>\n",
       "      <td>bachelor's degree</td>\n",
       "      <td>0</td>\n",
       "      <td>civil partnership</td>\n",
       "      <td>1</td>\n",
       "      <td>M</td>\n",
       "      <td>business</td>\n",
       "      <td>0</td>\n",
       "      <td>40922.170</td>\n",
       "      <td>purchase of the house</td>\n",
       "    </tr>\n",
       "    <tr>\n",
       "      <th>6</th>\n",
       "      <td>0</td>\n",
       "      <td>-2879.202052</td>\n",
       "      <td>43</td>\n",
       "      <td>bachelor's degree</td>\n",
       "      <td>0</td>\n",
       "      <td>married</td>\n",
       "      <td>0</td>\n",
       "      <td>F</td>\n",
       "      <td>business</td>\n",
       "      <td>0</td>\n",
       "      <td>38484.156</td>\n",
       "      <td>housing transactions</td>\n",
       "    </tr>\n",
       "    <tr>\n",
       "      <th>7</th>\n",
       "      <td>0</td>\n",
       "      <td>-152.779569</td>\n",
       "      <td>50</td>\n",
       "      <td>SECONDARY EDUCATION</td>\n",
       "      <td>1</td>\n",
       "      <td>married</td>\n",
       "      <td>0</td>\n",
       "      <td>M</td>\n",
       "      <td>employee</td>\n",
       "      <td>0</td>\n",
       "      <td>21731.829</td>\n",
       "      <td>education</td>\n",
       "    </tr>\n",
       "    <tr>\n",
       "      <th>8</th>\n",
       "      <td>2</td>\n",
       "      <td>-6929.865299</td>\n",
       "      <td>35</td>\n",
       "      <td>BACHELOR'S DEGREE</td>\n",
       "      <td>0</td>\n",
       "      <td>civil partnership</td>\n",
       "      <td>1</td>\n",
       "      <td>F</td>\n",
       "      <td>employee</td>\n",
       "      <td>0</td>\n",
       "      <td>15337.093</td>\n",
       "      <td>having a wedding</td>\n",
       "    </tr>\n",
       "    <tr>\n",
       "      <th>9</th>\n",
       "      <td>0</td>\n",
       "      <td>-2188.756445</td>\n",
       "      <td>41</td>\n",
       "      <td>secondary education</td>\n",
       "      <td>1</td>\n",
       "      <td>married</td>\n",
       "      <td>0</td>\n",
       "      <td>M</td>\n",
       "      <td>employee</td>\n",
       "      <td>0</td>\n",
       "      <td>23108.150</td>\n",
       "      <td>purchase of the house for my family</td>\n",
       "    </tr>\n",
       "    <tr>\n",
       "      <th>10</th>\n",
       "      <td>2</td>\n",
       "      <td>-4171.483647</td>\n",
       "      <td>36</td>\n",
       "      <td>bachelor's degree</td>\n",
       "      <td>0</td>\n",
       "      <td>married</td>\n",
       "      <td>0</td>\n",
       "      <td>M</td>\n",
       "      <td>business</td>\n",
       "      <td>0</td>\n",
       "      <td>18230.959</td>\n",
       "      <td>buy real estate</td>\n",
       "    </tr>\n",
       "    <tr>\n",
       "      <th>11</th>\n",
       "      <td>0</td>\n",
       "      <td>-792.701887</td>\n",
       "      <td>40</td>\n",
       "      <td>secondary education</td>\n",
       "      <td>1</td>\n",
       "      <td>married</td>\n",
       "      <td>0</td>\n",
       "      <td>F</td>\n",
       "      <td>employee</td>\n",
       "      <td>0</td>\n",
       "      <td>12331.077</td>\n",
       "      <td>buy commercial real estate</td>\n",
       "    </tr>\n",
       "    <tr>\n",
       "      <th>12</th>\n",
       "      <td>0</td>\n",
       "      <td>NaN</td>\n",
       "      <td>65</td>\n",
       "      <td>secondary education</td>\n",
       "      <td>1</td>\n",
       "      <td>civil partnership</td>\n",
       "      <td>1</td>\n",
       "      <td>M</td>\n",
       "      <td>retiree</td>\n",
       "      <td>0</td>\n",
       "      <td>NaN</td>\n",
       "      <td>to have a wedding</td>\n",
       "    </tr>\n",
       "    <tr>\n",
       "      <th>13</th>\n",
       "      <td>0</td>\n",
       "      <td>-1846.641941</td>\n",
       "      <td>54</td>\n",
       "      <td>some college</td>\n",
       "      <td>2</td>\n",
       "      <td>married</td>\n",
       "      <td>0</td>\n",
       "      <td>F</td>\n",
       "      <td>employee</td>\n",
       "      <td>0</td>\n",
       "      <td>20873.317</td>\n",
       "      <td>car purchase</td>\n",
       "    </tr>\n",
       "    <tr>\n",
       "      <th>14</th>\n",
       "      <td>0</td>\n",
       "      <td>-1844.956182</td>\n",
       "      <td>56</td>\n",
       "      <td>bachelor's degree</td>\n",
       "      <td>0</td>\n",
       "      <td>civil partnership</td>\n",
       "      <td>1</td>\n",
       "      <td>F</td>\n",
       "      <td>business</td>\n",
       "      <td>1</td>\n",
       "      <td>26420.466</td>\n",
       "      <td>buy residential real estate</td>\n",
       "    </tr>\n",
       "    <tr>\n",
       "      <th>15</th>\n",
       "      <td>1</td>\n",
       "      <td>-972.364419</td>\n",
       "      <td>26</td>\n",
       "      <td>secondary education</td>\n",
       "      <td>1</td>\n",
       "      <td>married</td>\n",
       "      <td>0</td>\n",
       "      <td>F</td>\n",
       "      <td>employee</td>\n",
       "      <td>0</td>\n",
       "      <td>18691.345</td>\n",
       "      <td>construction of own property</td>\n",
       "    </tr>\n",
       "    <tr>\n",
       "      <th>16</th>\n",
       "      <td>0</td>\n",
       "      <td>-1719.934226</td>\n",
       "      <td>35</td>\n",
       "      <td>secondary education</td>\n",
       "      <td>1</td>\n",
       "      <td>married</td>\n",
       "      <td>0</td>\n",
       "      <td>F</td>\n",
       "      <td>employee</td>\n",
       "      <td>0</td>\n",
       "      <td>46272.433</td>\n",
       "      <td>property</td>\n",
       "    </tr>\n",
       "    <tr>\n",
       "      <th>17</th>\n",
       "      <td>0</td>\n",
       "      <td>-2369.999720</td>\n",
       "      <td>33</td>\n",
       "      <td>bachelor's degree</td>\n",
       "      <td>0</td>\n",
       "      <td>civil partnership</td>\n",
       "      <td>1</td>\n",
       "      <td>M</td>\n",
       "      <td>employee</td>\n",
       "      <td>0</td>\n",
       "      <td>14465.694</td>\n",
       "      <td>building a property</td>\n",
       "    </tr>\n",
       "    <tr>\n",
       "      <th>18</th>\n",
       "      <td>0</td>\n",
       "      <td>400281.136913</td>\n",
       "      <td>53</td>\n",
       "      <td>secondary education</td>\n",
       "      <td>1</td>\n",
       "      <td>widow / widower</td>\n",
       "      <td>2</td>\n",
       "      <td>F</td>\n",
       "      <td>retiree</td>\n",
       "      <td>0</td>\n",
       "      <td>9091.804</td>\n",
       "      <td>buying a second-hand car</td>\n",
       "    </tr>\n",
       "    <tr>\n",
       "      <th>19</th>\n",
       "      <td>0</td>\n",
       "      <td>-10038.818549</td>\n",
       "      <td>48</td>\n",
       "      <td>SECONDARY EDUCATION</td>\n",
       "      <td>1</td>\n",
       "      <td>divorced</td>\n",
       "      <td>3</td>\n",
       "      <td>F</td>\n",
       "      <td>employee</td>\n",
       "      <td>0</td>\n",
       "      <td>38852.977</td>\n",
       "      <td>buying my own car</td>\n",
       "    </tr>\n",
       "  </tbody>\n",
       "</table>\n",
       "</div>"
      ],
      "text/plain": [
       "    children  days_employed  dob_years            education  education_id  \\\n",
       "0          1   -8437.673028         42    bachelor's degree             0   \n",
       "1          1   -4024.803754         36  secondary education             1   \n",
       "2          0   -5623.422610         33  Secondary Education             1   \n",
       "3          3   -4124.747207         32  secondary education             1   \n",
       "4          0  340266.072047         53  secondary education             1   \n",
       "5          0    -926.185831         27    bachelor's degree             0   \n",
       "6          0   -2879.202052         43    bachelor's degree             0   \n",
       "7          0    -152.779569         50  SECONDARY EDUCATION             1   \n",
       "8          2   -6929.865299         35    BACHELOR'S DEGREE             0   \n",
       "9          0   -2188.756445         41  secondary education             1   \n",
       "10         2   -4171.483647         36    bachelor's degree             0   \n",
       "11         0    -792.701887         40  secondary education             1   \n",
       "12         0            NaN         65  secondary education             1   \n",
       "13         0   -1846.641941         54         some college             2   \n",
       "14         0   -1844.956182         56    bachelor's degree             0   \n",
       "15         1    -972.364419         26  secondary education             1   \n",
       "16         0   -1719.934226         35  secondary education             1   \n",
       "17         0   -2369.999720         33    bachelor's degree             0   \n",
       "18         0  400281.136913         53  secondary education             1   \n",
       "19         0  -10038.818549         48  SECONDARY EDUCATION             1   \n",
       "\n",
       "        family_status  family_status_id gender income_type  debt  \\\n",
       "0             married                 0      F    employee     0   \n",
       "1             married                 0      F    employee     0   \n",
       "2             married                 0      M    employee     0   \n",
       "3             married                 0      M    employee     0   \n",
       "4   civil partnership                 1      F     retiree     0   \n",
       "5   civil partnership                 1      M    business     0   \n",
       "6             married                 0      F    business     0   \n",
       "7             married                 0      M    employee     0   \n",
       "8   civil partnership                 1      F    employee     0   \n",
       "9             married                 0      M    employee     0   \n",
       "10            married                 0      M    business     0   \n",
       "11            married                 0      F    employee     0   \n",
       "12  civil partnership                 1      M     retiree     0   \n",
       "13            married                 0      F    employee     0   \n",
       "14  civil partnership                 1      F    business     1   \n",
       "15            married                 0      F    employee     0   \n",
       "16            married                 0      F    employee     0   \n",
       "17  civil partnership                 1      M    employee     0   \n",
       "18    widow / widower                 2      F     retiree     0   \n",
       "19           divorced                 3      F    employee     0   \n",
       "\n",
       "    total_income                              purpose  \n",
       "0      40620.102                purchase of the house  \n",
       "1      17932.802                         car purchase  \n",
       "2      23341.752                purchase of the house  \n",
       "3      42820.568              supplementary education  \n",
       "4      25378.572                    to have a wedding  \n",
       "5      40922.170                purchase of the house  \n",
       "6      38484.156                 housing transactions  \n",
       "7      21731.829                            education  \n",
       "8      15337.093                     having a wedding  \n",
       "9      23108.150  purchase of the house for my family  \n",
       "10     18230.959                      buy real estate  \n",
       "11     12331.077           buy commercial real estate  \n",
       "12           NaN                    to have a wedding  \n",
       "13     20873.317                         car purchase  \n",
       "14     26420.466          buy residential real estate  \n",
       "15     18691.345         construction of own property  \n",
       "16     46272.433                             property  \n",
       "17     14465.694                  building a property  \n",
       "18      9091.804             buying a second-hand car  \n",
       "19     38852.977                    buying my own car  "
      ]
     },
     "execution_count": 55,
     "metadata": {},
     "output_type": "execute_result"
    }
   ],
   "source": [
    "# vamos a mostrar las primeras filas N\n",
    "\n",
    "scores.head(20)"
   ]
  },
  {
   "cell_type": "markdown",
   "metadata": {},
   "source": [
    "De la muestra de datos podemos observar varios problemas que habrá que atender de los datos como son:\n",
    "\n",
    "- Días trabajados negativos en una gran cantidad de casos, además de contar con decimales innecesarios.\n",
    "- Entradas idénticas, pero con mayúsculas y minúsculas en la columna 'education' que habrá que homologar.\n",
    "- Información ausente respecto a los días de trabajo y nivel de ingresos.\n",
    "- En la columna de propósito igual será necesario homologar las entradas ya que contamos con algunas diferentes que hacern referencia a la misma clasificación como \"having a wedding\" y \"to have a wedding\".\n",
    "- Los ingresos cuentan con tres decimales, sobrando uno."
   ]
  },
  {
   "cell_type": "code",
   "execution_count": 56,
   "metadata": {
    "scrolled": false
   },
   "outputs": [
    {
     "name": "stdout",
     "output_type": "stream",
     "text": [
      "<class 'pandas.core.frame.DataFrame'>\n",
      "RangeIndex: 21525 entries, 0 to 21524\n",
      "Data columns (total 12 columns):\n",
      " #   Column            Non-Null Count  Dtype  \n",
      "---  ------            --------------  -----  \n",
      " 0   children          21525 non-null  int64  \n",
      " 1   days_employed     19351 non-null  float64\n",
      " 2   dob_years         21525 non-null  int64  \n",
      " 3   education         21525 non-null  object \n",
      " 4   education_id      21525 non-null  int64  \n",
      " 5   family_status     21525 non-null  object \n",
      " 6   family_status_id  21525 non-null  int64  \n",
      " 7   gender            21525 non-null  object \n",
      " 8   income_type       21525 non-null  object \n",
      " 9   debt              21525 non-null  int64  \n",
      " 10  total_income      19351 non-null  float64\n",
      " 11  purpose           21525 non-null  object \n",
      "dtypes: float64(2), int64(5), object(5)\n",
      "memory usage: 2.0+ MB\n"
     ]
    }
   ],
   "source": [
    "# Obtener información sobre los datos\n",
    "scores.info()"
   ]
  },
  {
   "cell_type": "markdown",
   "metadata": {},
   "source": [
    "Rectificamos que los valores ausentes se encuentran en las columnas de 'days_employed' y 'total income'. Además 'education_id' y 'family_status_id' podrían convertirse en cadenas para evitar cálculos matemáticos con estas columnas."
   ]
  },
  {
   "cell_type": "code",
   "execution_count": 57,
   "metadata": {
    "scrolled": true
   },
   "outputs": [
    {
     "data": {
      "text/html": [
       "<div>\n",
       "<style scoped>\n",
       "    .dataframe tbody tr th:only-of-type {\n",
       "        vertical-align: middle;\n",
       "    }\n",
       "\n",
       "    .dataframe tbody tr th {\n",
       "        vertical-align: top;\n",
       "    }\n",
       "\n",
       "    .dataframe thead th {\n",
       "        text-align: right;\n",
       "    }\n",
       "</style>\n",
       "<table border=\"1\" class=\"dataframe\">\n",
       "  <thead>\n",
       "    <tr style=\"text-align: right;\">\n",
       "      <th></th>\n",
       "      <th>children</th>\n",
       "      <th>days_employed</th>\n",
       "      <th>dob_years</th>\n",
       "      <th>education</th>\n",
       "      <th>education_id</th>\n",
       "      <th>family_status</th>\n",
       "      <th>family_status_id</th>\n",
       "      <th>gender</th>\n",
       "      <th>income_type</th>\n",
       "      <th>debt</th>\n",
       "      <th>total_income</th>\n",
       "      <th>purpose</th>\n",
       "    </tr>\n",
       "  </thead>\n",
       "  <tbody>\n",
       "    <tr>\n",
       "      <th>12</th>\n",
       "      <td>0</td>\n",
       "      <td>NaN</td>\n",
       "      <td>65</td>\n",
       "      <td>secondary education</td>\n",
       "      <td>1</td>\n",
       "      <td>civil partnership</td>\n",
       "      <td>1</td>\n",
       "      <td>M</td>\n",
       "      <td>retiree</td>\n",
       "      <td>0</td>\n",
       "      <td>NaN</td>\n",
       "      <td>to have a wedding</td>\n",
       "    </tr>\n",
       "    <tr>\n",
       "      <th>26</th>\n",
       "      <td>0</td>\n",
       "      <td>NaN</td>\n",
       "      <td>41</td>\n",
       "      <td>secondary education</td>\n",
       "      <td>1</td>\n",
       "      <td>married</td>\n",
       "      <td>0</td>\n",
       "      <td>M</td>\n",
       "      <td>civil servant</td>\n",
       "      <td>0</td>\n",
       "      <td>NaN</td>\n",
       "      <td>education</td>\n",
       "    </tr>\n",
       "    <tr>\n",
       "      <th>29</th>\n",
       "      <td>0</td>\n",
       "      <td>NaN</td>\n",
       "      <td>63</td>\n",
       "      <td>secondary education</td>\n",
       "      <td>1</td>\n",
       "      <td>unmarried</td>\n",
       "      <td>4</td>\n",
       "      <td>F</td>\n",
       "      <td>retiree</td>\n",
       "      <td>0</td>\n",
       "      <td>NaN</td>\n",
       "      <td>building a real estate</td>\n",
       "    </tr>\n",
       "    <tr>\n",
       "      <th>41</th>\n",
       "      <td>0</td>\n",
       "      <td>NaN</td>\n",
       "      <td>50</td>\n",
       "      <td>secondary education</td>\n",
       "      <td>1</td>\n",
       "      <td>married</td>\n",
       "      <td>0</td>\n",
       "      <td>F</td>\n",
       "      <td>civil servant</td>\n",
       "      <td>0</td>\n",
       "      <td>NaN</td>\n",
       "      <td>second-hand car purchase</td>\n",
       "    </tr>\n",
       "    <tr>\n",
       "      <th>55</th>\n",
       "      <td>0</td>\n",
       "      <td>NaN</td>\n",
       "      <td>54</td>\n",
       "      <td>secondary education</td>\n",
       "      <td>1</td>\n",
       "      <td>civil partnership</td>\n",
       "      <td>1</td>\n",
       "      <td>F</td>\n",
       "      <td>retiree</td>\n",
       "      <td>1</td>\n",
       "      <td>NaN</td>\n",
       "      <td>to have a wedding</td>\n",
       "    </tr>\n",
       "    <tr>\n",
       "      <th>...</th>\n",
       "      <td>...</td>\n",
       "      <td>...</td>\n",
       "      <td>...</td>\n",
       "      <td>...</td>\n",
       "      <td>...</td>\n",
       "      <td>...</td>\n",
       "      <td>...</td>\n",
       "      <td>...</td>\n",
       "      <td>...</td>\n",
       "      <td>...</td>\n",
       "      <td>...</td>\n",
       "      <td>...</td>\n",
       "    </tr>\n",
       "    <tr>\n",
       "      <th>21489</th>\n",
       "      <td>2</td>\n",
       "      <td>NaN</td>\n",
       "      <td>47</td>\n",
       "      <td>Secondary Education</td>\n",
       "      <td>1</td>\n",
       "      <td>married</td>\n",
       "      <td>0</td>\n",
       "      <td>M</td>\n",
       "      <td>business</td>\n",
       "      <td>0</td>\n",
       "      <td>NaN</td>\n",
       "      <td>purchase of a car</td>\n",
       "    </tr>\n",
       "    <tr>\n",
       "      <th>21495</th>\n",
       "      <td>1</td>\n",
       "      <td>NaN</td>\n",
       "      <td>50</td>\n",
       "      <td>secondary education</td>\n",
       "      <td>1</td>\n",
       "      <td>civil partnership</td>\n",
       "      <td>1</td>\n",
       "      <td>F</td>\n",
       "      <td>employee</td>\n",
       "      <td>0</td>\n",
       "      <td>NaN</td>\n",
       "      <td>wedding ceremony</td>\n",
       "    </tr>\n",
       "    <tr>\n",
       "      <th>21497</th>\n",
       "      <td>0</td>\n",
       "      <td>NaN</td>\n",
       "      <td>48</td>\n",
       "      <td>BACHELOR'S DEGREE</td>\n",
       "      <td>0</td>\n",
       "      <td>married</td>\n",
       "      <td>0</td>\n",
       "      <td>F</td>\n",
       "      <td>business</td>\n",
       "      <td>0</td>\n",
       "      <td>NaN</td>\n",
       "      <td>building a property</td>\n",
       "    </tr>\n",
       "    <tr>\n",
       "      <th>21502</th>\n",
       "      <td>1</td>\n",
       "      <td>NaN</td>\n",
       "      <td>42</td>\n",
       "      <td>secondary education</td>\n",
       "      <td>1</td>\n",
       "      <td>married</td>\n",
       "      <td>0</td>\n",
       "      <td>F</td>\n",
       "      <td>employee</td>\n",
       "      <td>0</td>\n",
       "      <td>NaN</td>\n",
       "      <td>building a real estate</td>\n",
       "    </tr>\n",
       "    <tr>\n",
       "      <th>21510</th>\n",
       "      <td>2</td>\n",
       "      <td>NaN</td>\n",
       "      <td>28</td>\n",
       "      <td>secondary education</td>\n",
       "      <td>1</td>\n",
       "      <td>married</td>\n",
       "      <td>0</td>\n",
       "      <td>F</td>\n",
       "      <td>employee</td>\n",
       "      <td>0</td>\n",
       "      <td>NaN</td>\n",
       "      <td>car purchase</td>\n",
       "    </tr>\n",
       "  </tbody>\n",
       "</table>\n",
       "<p>2174 rows × 12 columns</p>\n",
       "</div>"
      ],
      "text/plain": [
       "       children  days_employed  dob_years            education  education_id  \\\n",
       "12            0            NaN         65  secondary education             1   \n",
       "26            0            NaN         41  secondary education             1   \n",
       "29            0            NaN         63  secondary education             1   \n",
       "41            0            NaN         50  secondary education             1   \n",
       "55            0            NaN         54  secondary education             1   \n",
       "...         ...            ...        ...                  ...           ...   \n",
       "21489         2            NaN         47  Secondary Education             1   \n",
       "21495         1            NaN         50  secondary education             1   \n",
       "21497         0            NaN         48    BACHELOR'S DEGREE             0   \n",
       "21502         1            NaN         42  secondary education             1   \n",
       "21510         2            NaN         28  secondary education             1   \n",
       "\n",
       "           family_status  family_status_id gender    income_type  debt  \\\n",
       "12     civil partnership                 1      M        retiree     0   \n",
       "26               married                 0      M  civil servant     0   \n",
       "29             unmarried                 4      F        retiree     0   \n",
       "41               married                 0      F  civil servant     0   \n",
       "55     civil partnership                 1      F        retiree     1   \n",
       "...                  ...               ...    ...            ...   ...   \n",
       "21489            married                 0      M       business     0   \n",
       "21495  civil partnership                 1      F       employee     0   \n",
       "21497            married                 0      F       business     0   \n",
       "21502            married                 0      F       employee     0   \n",
       "21510            married                 0      F       employee     0   \n",
       "\n",
       "       total_income                   purpose  \n",
       "12              NaN         to have a wedding  \n",
       "26              NaN                 education  \n",
       "29              NaN    building a real estate  \n",
       "41              NaN  second-hand car purchase  \n",
       "55              NaN         to have a wedding  \n",
       "...             ...                       ...  \n",
       "21489           NaN         purchase of a car  \n",
       "21495           NaN          wedding ceremony  \n",
       "21497           NaN       building a property  \n",
       "21502           NaN    building a real estate  \n",
       "21510           NaN              car purchase  \n",
       "\n",
       "[2174 rows x 12 columns]"
      ]
     },
     "execution_count": 57,
     "metadata": {},
     "output_type": "execute_result"
    }
   ],
   "source": [
    "# Veamos la tabla filtrada con valores ausentes de la primera columna donde faltan datos\n",
    "\n",
    "scores.loc[scores['days_employed'].isna()]"
   ]
  },
  {
   "cell_type": "markdown",
   "metadata": {},
   "source": [
    "Con este resumen de las filas con datos ausentes en la columna 'days employed', parece existir una coincidencia con los valores faltantes en la columna 'total income'. Sin embargo para confirmar esta teoría, que además coincide por el número de datos faltante, hará falta revisar un filtrado en el que se busque la intersección de valores ausentes en ambas columnas."
   ]
  },
  {
   "cell_type": "code",
   "execution_count": 58,
   "metadata": {},
   "outputs": [
    {
     "data": {
      "text/html": [
       "<div>\n",
       "<style scoped>\n",
       "    .dataframe tbody tr th:only-of-type {\n",
       "        vertical-align: middle;\n",
       "    }\n",
       "\n",
       "    .dataframe tbody tr th {\n",
       "        vertical-align: top;\n",
       "    }\n",
       "\n",
       "    .dataframe thead th {\n",
       "        text-align: right;\n",
       "    }\n",
       "</style>\n",
       "<table border=\"1\" class=\"dataframe\">\n",
       "  <thead>\n",
       "    <tr style=\"text-align: right;\">\n",
       "      <th></th>\n",
       "      <th>children</th>\n",
       "      <th>days_employed</th>\n",
       "      <th>dob_years</th>\n",
       "      <th>education</th>\n",
       "      <th>education_id</th>\n",
       "      <th>family_status</th>\n",
       "      <th>family_status_id</th>\n",
       "      <th>gender</th>\n",
       "      <th>income_type</th>\n",
       "      <th>debt</th>\n",
       "      <th>total_income</th>\n",
       "      <th>purpose</th>\n",
       "    </tr>\n",
       "  </thead>\n",
       "  <tbody>\n",
       "    <tr>\n",
       "      <th>12</th>\n",
       "      <td>0</td>\n",
       "      <td>NaN</td>\n",
       "      <td>65</td>\n",
       "      <td>secondary education</td>\n",
       "      <td>1</td>\n",
       "      <td>civil partnership</td>\n",
       "      <td>1</td>\n",
       "      <td>M</td>\n",
       "      <td>retiree</td>\n",
       "      <td>0</td>\n",
       "      <td>NaN</td>\n",
       "      <td>to have a wedding</td>\n",
       "    </tr>\n",
       "    <tr>\n",
       "      <th>26</th>\n",
       "      <td>0</td>\n",
       "      <td>NaN</td>\n",
       "      <td>41</td>\n",
       "      <td>secondary education</td>\n",
       "      <td>1</td>\n",
       "      <td>married</td>\n",
       "      <td>0</td>\n",
       "      <td>M</td>\n",
       "      <td>civil servant</td>\n",
       "      <td>0</td>\n",
       "      <td>NaN</td>\n",
       "      <td>education</td>\n",
       "    </tr>\n",
       "    <tr>\n",
       "      <th>29</th>\n",
       "      <td>0</td>\n",
       "      <td>NaN</td>\n",
       "      <td>63</td>\n",
       "      <td>secondary education</td>\n",
       "      <td>1</td>\n",
       "      <td>unmarried</td>\n",
       "      <td>4</td>\n",
       "      <td>F</td>\n",
       "      <td>retiree</td>\n",
       "      <td>0</td>\n",
       "      <td>NaN</td>\n",
       "      <td>building a real estate</td>\n",
       "    </tr>\n",
       "    <tr>\n",
       "      <th>41</th>\n",
       "      <td>0</td>\n",
       "      <td>NaN</td>\n",
       "      <td>50</td>\n",
       "      <td>secondary education</td>\n",
       "      <td>1</td>\n",
       "      <td>married</td>\n",
       "      <td>0</td>\n",
       "      <td>F</td>\n",
       "      <td>civil servant</td>\n",
       "      <td>0</td>\n",
       "      <td>NaN</td>\n",
       "      <td>second-hand car purchase</td>\n",
       "    </tr>\n",
       "    <tr>\n",
       "      <th>55</th>\n",
       "      <td>0</td>\n",
       "      <td>NaN</td>\n",
       "      <td>54</td>\n",
       "      <td>secondary education</td>\n",
       "      <td>1</td>\n",
       "      <td>civil partnership</td>\n",
       "      <td>1</td>\n",
       "      <td>F</td>\n",
       "      <td>retiree</td>\n",
       "      <td>1</td>\n",
       "      <td>NaN</td>\n",
       "      <td>to have a wedding</td>\n",
       "    </tr>\n",
       "    <tr>\n",
       "      <th>...</th>\n",
       "      <td>...</td>\n",
       "      <td>...</td>\n",
       "      <td>...</td>\n",
       "      <td>...</td>\n",
       "      <td>...</td>\n",
       "      <td>...</td>\n",
       "      <td>...</td>\n",
       "      <td>...</td>\n",
       "      <td>...</td>\n",
       "      <td>...</td>\n",
       "      <td>...</td>\n",
       "      <td>...</td>\n",
       "    </tr>\n",
       "    <tr>\n",
       "      <th>21489</th>\n",
       "      <td>2</td>\n",
       "      <td>NaN</td>\n",
       "      <td>47</td>\n",
       "      <td>Secondary Education</td>\n",
       "      <td>1</td>\n",
       "      <td>married</td>\n",
       "      <td>0</td>\n",
       "      <td>M</td>\n",
       "      <td>business</td>\n",
       "      <td>0</td>\n",
       "      <td>NaN</td>\n",
       "      <td>purchase of a car</td>\n",
       "    </tr>\n",
       "    <tr>\n",
       "      <th>21495</th>\n",
       "      <td>1</td>\n",
       "      <td>NaN</td>\n",
       "      <td>50</td>\n",
       "      <td>secondary education</td>\n",
       "      <td>1</td>\n",
       "      <td>civil partnership</td>\n",
       "      <td>1</td>\n",
       "      <td>F</td>\n",
       "      <td>employee</td>\n",
       "      <td>0</td>\n",
       "      <td>NaN</td>\n",
       "      <td>wedding ceremony</td>\n",
       "    </tr>\n",
       "    <tr>\n",
       "      <th>21497</th>\n",
       "      <td>0</td>\n",
       "      <td>NaN</td>\n",
       "      <td>48</td>\n",
       "      <td>BACHELOR'S DEGREE</td>\n",
       "      <td>0</td>\n",
       "      <td>married</td>\n",
       "      <td>0</td>\n",
       "      <td>F</td>\n",
       "      <td>business</td>\n",
       "      <td>0</td>\n",
       "      <td>NaN</td>\n",
       "      <td>building a property</td>\n",
       "    </tr>\n",
       "    <tr>\n",
       "      <th>21502</th>\n",
       "      <td>1</td>\n",
       "      <td>NaN</td>\n",
       "      <td>42</td>\n",
       "      <td>secondary education</td>\n",
       "      <td>1</td>\n",
       "      <td>married</td>\n",
       "      <td>0</td>\n",
       "      <td>F</td>\n",
       "      <td>employee</td>\n",
       "      <td>0</td>\n",
       "      <td>NaN</td>\n",
       "      <td>building a real estate</td>\n",
       "    </tr>\n",
       "    <tr>\n",
       "      <th>21510</th>\n",
       "      <td>2</td>\n",
       "      <td>NaN</td>\n",
       "      <td>28</td>\n",
       "      <td>secondary education</td>\n",
       "      <td>1</td>\n",
       "      <td>married</td>\n",
       "      <td>0</td>\n",
       "      <td>F</td>\n",
       "      <td>employee</td>\n",
       "      <td>0</td>\n",
       "      <td>NaN</td>\n",
       "      <td>car purchase</td>\n",
       "    </tr>\n",
       "  </tbody>\n",
       "</table>\n",
       "<p>2174 rows × 12 columns</p>\n",
       "</div>"
      ],
      "text/plain": [
       "       children  days_employed  dob_years            education  education_id  \\\n",
       "12            0            NaN         65  secondary education             1   \n",
       "26            0            NaN         41  secondary education             1   \n",
       "29            0            NaN         63  secondary education             1   \n",
       "41            0            NaN         50  secondary education             1   \n",
       "55            0            NaN         54  secondary education             1   \n",
       "...         ...            ...        ...                  ...           ...   \n",
       "21489         2            NaN         47  Secondary Education             1   \n",
       "21495         1            NaN         50  secondary education             1   \n",
       "21497         0            NaN         48    BACHELOR'S DEGREE             0   \n",
       "21502         1            NaN         42  secondary education             1   \n",
       "21510         2            NaN         28  secondary education             1   \n",
       "\n",
       "           family_status  family_status_id gender    income_type  debt  \\\n",
       "12     civil partnership                 1      M        retiree     0   \n",
       "26               married                 0      M  civil servant     0   \n",
       "29             unmarried                 4      F        retiree     0   \n",
       "41               married                 0      F  civil servant     0   \n",
       "55     civil partnership                 1      F        retiree     1   \n",
       "...                  ...               ...    ...            ...   ...   \n",
       "21489            married                 0      M       business     0   \n",
       "21495  civil partnership                 1      F       employee     0   \n",
       "21497            married                 0      F       business     0   \n",
       "21502            married                 0      F       employee     0   \n",
       "21510            married                 0      F       employee     0   \n",
       "\n",
       "       total_income                   purpose  \n",
       "12              NaN         to have a wedding  \n",
       "26              NaN                 education  \n",
       "29              NaN    building a real estate  \n",
       "41              NaN  second-hand car purchase  \n",
       "55              NaN         to have a wedding  \n",
       "...             ...                       ...  \n",
       "21489           NaN         purchase of a car  \n",
       "21495           NaN          wedding ceremony  \n",
       "21497           NaN       building a property  \n",
       "21502           NaN    building a real estate  \n",
       "21510           NaN              car purchase  \n",
       "\n",
       "[2174 rows x 12 columns]"
      ]
     },
     "execution_count": 58,
     "metadata": {},
     "output_type": "execute_result"
    }
   ],
   "source": [
    "# Apliquemos múltiples condiciones para filtrar datos y veamos el número de filas en la tabla filtrada.\n",
    "scores.loc[(scores['days_employed'].isna())&(scores['total_income'].isna())]\n"
   ]
  },
  {
   "cell_type": "markdown",
   "metadata": {},
   "source": [
    "**Conclusión intermedia**\n",
    "\n",
    "Con este último filtro, dado que la cantidad de filas en la tabla concide con los valores faltantes en ambas columnas, podemos confirmar que cuando faltan los valores en una columna, también faltan en la otra. Esto puede deberse a algún error de sistema al momento de cargar los datos en la base.\n",
    "\n",
    "Las 2174 filas con información faltante corresponden al 10.1% de los datos, lo cual es bastante significativo, por lo que se procederá a completar los valores ausentes.\n",
    "\n",
    "Al revisar la muestra de datos, parece existir una importante correlación entre la falta de datos y el nivel educativo, ya que la mayoría parece contar con la educación secundaria como su nivel de estudios."
   ]
  },
  {
   "cell_type": "code",
   "execution_count": 59,
   "metadata": {},
   "outputs": [
    {
     "data": {
      "text/html": [
       "<div>\n",
       "<style scoped>\n",
       "    .dataframe tbody tr th:only-of-type {\n",
       "        vertical-align: middle;\n",
       "    }\n",
       "\n",
       "    .dataframe tbody tr th {\n",
       "        vertical-align: top;\n",
       "    }\n",
       "\n",
       "    .dataframe thead th {\n",
       "        text-align: right;\n",
       "    }\n",
       "</style>\n",
       "<table border=\"1\" class=\"dataframe\">\n",
       "  <thead>\n",
       "    <tr style=\"text-align: right;\">\n",
       "      <th></th>\n",
       "      <th>children</th>\n",
       "      <th>days_employed</th>\n",
       "      <th>dob_years</th>\n",
       "      <th>education</th>\n",
       "      <th>education_id</th>\n",
       "      <th>family_status</th>\n",
       "      <th>family_status_id</th>\n",
       "      <th>gender</th>\n",
       "      <th>income_type</th>\n",
       "      <th>debt</th>\n",
       "      <th>total_income</th>\n",
       "      <th>purpose</th>\n",
       "    </tr>\n",
       "  </thead>\n",
       "  <tbody>\n",
       "    <tr>\n",
       "      <th>12</th>\n",
       "      <td>0</td>\n",
       "      <td>NaN</td>\n",
       "      <td>65</td>\n",
       "      <td>secondary education</td>\n",
       "      <td>1</td>\n",
       "      <td>civil partnership</td>\n",
       "      <td>1</td>\n",
       "      <td>M</td>\n",
       "      <td>retiree</td>\n",
       "      <td>0</td>\n",
       "      <td>NaN</td>\n",
       "      <td>to have a wedding</td>\n",
       "    </tr>\n",
       "    <tr>\n",
       "      <th>26</th>\n",
       "      <td>0</td>\n",
       "      <td>NaN</td>\n",
       "      <td>41</td>\n",
       "      <td>secondary education</td>\n",
       "      <td>1</td>\n",
       "      <td>married</td>\n",
       "      <td>0</td>\n",
       "      <td>M</td>\n",
       "      <td>civil servant</td>\n",
       "      <td>0</td>\n",
       "      <td>NaN</td>\n",
       "      <td>education</td>\n",
       "    </tr>\n",
       "    <tr>\n",
       "      <th>29</th>\n",
       "      <td>0</td>\n",
       "      <td>NaN</td>\n",
       "      <td>63</td>\n",
       "      <td>secondary education</td>\n",
       "      <td>1</td>\n",
       "      <td>unmarried</td>\n",
       "      <td>4</td>\n",
       "      <td>F</td>\n",
       "      <td>retiree</td>\n",
       "      <td>0</td>\n",
       "      <td>NaN</td>\n",
       "      <td>building a real estate</td>\n",
       "    </tr>\n",
       "    <tr>\n",
       "      <th>41</th>\n",
       "      <td>0</td>\n",
       "      <td>NaN</td>\n",
       "      <td>50</td>\n",
       "      <td>secondary education</td>\n",
       "      <td>1</td>\n",
       "      <td>married</td>\n",
       "      <td>0</td>\n",
       "      <td>F</td>\n",
       "      <td>civil servant</td>\n",
       "      <td>0</td>\n",
       "      <td>NaN</td>\n",
       "      <td>second-hand car purchase</td>\n",
       "    </tr>\n",
       "    <tr>\n",
       "      <th>55</th>\n",
       "      <td>0</td>\n",
       "      <td>NaN</td>\n",
       "      <td>54</td>\n",
       "      <td>secondary education</td>\n",
       "      <td>1</td>\n",
       "      <td>civil partnership</td>\n",
       "      <td>1</td>\n",
       "      <td>F</td>\n",
       "      <td>retiree</td>\n",
       "      <td>1</td>\n",
       "      <td>NaN</td>\n",
       "      <td>to have a wedding</td>\n",
       "    </tr>\n",
       "    <tr>\n",
       "      <th>...</th>\n",
       "      <td>...</td>\n",
       "      <td>...</td>\n",
       "      <td>...</td>\n",
       "      <td>...</td>\n",
       "      <td>...</td>\n",
       "      <td>...</td>\n",
       "      <td>...</td>\n",
       "      <td>...</td>\n",
       "      <td>...</td>\n",
       "      <td>...</td>\n",
       "      <td>...</td>\n",
       "      <td>...</td>\n",
       "    </tr>\n",
       "    <tr>\n",
       "      <th>21426</th>\n",
       "      <td>0</td>\n",
       "      <td>NaN</td>\n",
       "      <td>49</td>\n",
       "      <td>secondary education</td>\n",
       "      <td>1</td>\n",
       "      <td>married</td>\n",
       "      <td>0</td>\n",
       "      <td>F</td>\n",
       "      <td>employee</td>\n",
       "      <td>1</td>\n",
       "      <td>NaN</td>\n",
       "      <td>property</td>\n",
       "    </tr>\n",
       "    <tr>\n",
       "      <th>21489</th>\n",
       "      <td>2</td>\n",
       "      <td>NaN</td>\n",
       "      <td>47</td>\n",
       "      <td>Secondary Education</td>\n",
       "      <td>1</td>\n",
       "      <td>married</td>\n",
       "      <td>0</td>\n",
       "      <td>M</td>\n",
       "      <td>business</td>\n",
       "      <td>0</td>\n",
       "      <td>NaN</td>\n",
       "      <td>purchase of a car</td>\n",
       "    </tr>\n",
       "    <tr>\n",
       "      <th>21495</th>\n",
       "      <td>1</td>\n",
       "      <td>NaN</td>\n",
       "      <td>50</td>\n",
       "      <td>secondary education</td>\n",
       "      <td>1</td>\n",
       "      <td>civil partnership</td>\n",
       "      <td>1</td>\n",
       "      <td>F</td>\n",
       "      <td>employee</td>\n",
       "      <td>0</td>\n",
       "      <td>NaN</td>\n",
       "      <td>wedding ceremony</td>\n",
       "    </tr>\n",
       "    <tr>\n",
       "      <th>21502</th>\n",
       "      <td>1</td>\n",
       "      <td>NaN</td>\n",
       "      <td>42</td>\n",
       "      <td>secondary education</td>\n",
       "      <td>1</td>\n",
       "      <td>married</td>\n",
       "      <td>0</td>\n",
       "      <td>F</td>\n",
       "      <td>employee</td>\n",
       "      <td>0</td>\n",
       "      <td>NaN</td>\n",
       "      <td>building a real estate</td>\n",
       "    </tr>\n",
       "    <tr>\n",
       "      <th>21510</th>\n",
       "      <td>2</td>\n",
       "      <td>NaN</td>\n",
       "      <td>28</td>\n",
       "      <td>secondary education</td>\n",
       "      <td>1</td>\n",
       "      <td>married</td>\n",
       "      <td>0</td>\n",
       "      <td>F</td>\n",
       "      <td>employee</td>\n",
       "      <td>0</td>\n",
       "      <td>NaN</td>\n",
       "      <td>car purchase</td>\n",
       "    </tr>\n",
       "  </tbody>\n",
       "</table>\n",
       "<p>1540 rows × 12 columns</p>\n",
       "</div>"
      ],
      "text/plain": [
       "       children  days_employed  dob_years            education  education_id  \\\n",
       "12            0            NaN         65  secondary education             1   \n",
       "26            0            NaN         41  secondary education             1   \n",
       "29            0            NaN         63  secondary education             1   \n",
       "41            0            NaN         50  secondary education             1   \n",
       "55            0            NaN         54  secondary education             1   \n",
       "...         ...            ...        ...                  ...           ...   \n",
       "21426         0            NaN         49  secondary education             1   \n",
       "21489         2            NaN         47  Secondary Education             1   \n",
       "21495         1            NaN         50  secondary education             1   \n",
       "21502         1            NaN         42  secondary education             1   \n",
       "21510         2            NaN         28  secondary education             1   \n",
       "\n",
       "           family_status  family_status_id gender    income_type  debt  \\\n",
       "12     civil partnership                 1      M        retiree     0   \n",
       "26               married                 0      M  civil servant     0   \n",
       "29             unmarried                 4      F        retiree     0   \n",
       "41               married                 0      F  civil servant     0   \n",
       "55     civil partnership                 1      F        retiree     1   \n",
       "...                  ...               ...    ...            ...   ...   \n",
       "21426            married                 0      F       employee     1   \n",
       "21489            married                 0      M       business     0   \n",
       "21495  civil partnership                 1      F       employee     0   \n",
       "21502            married                 0      F       employee     0   \n",
       "21510            married                 0      F       employee     0   \n",
       "\n",
       "       total_income                   purpose  \n",
       "12              NaN         to have a wedding  \n",
       "26              NaN                 education  \n",
       "29              NaN    building a real estate  \n",
       "41              NaN  second-hand car purchase  \n",
       "55              NaN         to have a wedding  \n",
       "...             ...                       ...  \n",
       "21426           NaN                  property  \n",
       "21489           NaN         purchase of a car  \n",
       "21495           NaN          wedding ceremony  \n",
       "21502           NaN    building a real estate  \n",
       "21510           NaN              car purchase  \n",
       "\n",
       "[1540 rows x 12 columns]"
      ]
     },
     "execution_count": 59,
     "metadata": {},
     "output_type": "execute_result"
    }
   ],
   "source": [
    "# Vamos a investigar a los clientes que no tienen datos sobre la característica identificada y la columna con los valores ausentes\n",
    "scores.loc[(scores['days_employed'].isna())&(scores['education_id']==1)]\n"
   ]
  },
  {
   "cell_type": "code",
   "execution_count": 60,
   "metadata": {},
   "outputs": [
    {
     "data": {
      "text/plain": [
       "education_id\n",
       "0     544\n",
       "1    1540\n",
       "2      69\n",
       "3      21\n",
       "Name: education, dtype: int64"
      ]
     },
     "execution_count": 60,
     "metadata": {},
     "output_type": "execute_result"
    }
   ],
   "source": [
    "# Comprobación de la distribución\n",
    "scores.loc[scores['days_employed'].isna()].groupby('education_id')['education'].count()\n"
   ]
  },
  {
   "cell_type": "markdown",
   "metadata": {},
   "source": [
    "Con esta clasificación por nivel educativo, podemos encontrar una fuerte correlación con la falta de valores en aquellos individuos que se encuentran en un nivel de 'educación secundaria'.\n",
    "\n",
    "**Posibles razones por las que hay valores ausentes en los datos**\n",
    "\n",
    "Es posible que esta relación recaiga en algún error de sistema generado al elegir el valor '1' de 'education_id'."
   ]
  },
  {
   "cell_type": "code",
   "execution_count": 61,
   "metadata": {},
   "outputs": [
    {
     "data": {
      "text/html": [
       "<style  type=\"text/css\" >\n",
       "</style><table id=\"T_96b88_\" ><thead>    <tr>        <th class=\"blank level0\" ></th>        <th class=\"col_heading level0 col0\" >ratio</th>        <th class=\"col_heading level0 col1\" >count</th>    </tr>    <tr>        <th class=\"index_name level0\" >education_id</th>        <th class=\"blank\" ></th>        <th class=\"blank\" ></th>    </tr></thead><tbody>\n",
       "                <tr>\n",
       "                        <th id=\"T_96b88_level0_row0\" class=\"row_heading level0 row0\" >0</th>\n",
       "                        <td id=\"T_96b88_row0_col0\" class=\"data row0 col0\" >10.34%</td>\n",
       "                        <td id=\"T_96b88_row0_col1\" class=\"data row0 col1\" >5260</td>\n",
       "            </tr>\n",
       "            <tr>\n",
       "                        <th id=\"T_96b88_level0_row1\" class=\"row_heading level0 row1\" >1</th>\n",
       "                        <td id=\"T_96b88_row1_col0\" class=\"data row1 col0\" >10.11%</td>\n",
       "                        <td id=\"T_96b88_row1_col1\" class=\"data row1 col1\" >15233</td>\n",
       "            </tr>\n",
       "            <tr>\n",
       "                        <th id=\"T_96b88_level0_row2\" class=\"row_heading level0 row2\" >2</th>\n",
       "                        <td id=\"T_96b88_row2_col0\" class=\"data row2 col0\" >9.27%</td>\n",
       "                        <td id=\"T_96b88_row2_col1\" class=\"data row2 col1\" >744</td>\n",
       "            </tr>\n",
       "            <tr>\n",
       "                        <th id=\"T_96b88_level0_row3\" class=\"row_heading level0 row3\" >3</th>\n",
       "                        <td id=\"T_96b88_row3_col0\" class=\"data row3 col0\" >7.45%</td>\n",
       "                        <td id=\"T_96b88_row3_col1\" class=\"data row3 col1\" >282</td>\n",
       "            </tr>\n",
       "            <tr>\n",
       "                        <th id=\"T_96b88_level0_row4\" class=\"row_heading level0 row4\" >4</th>\n",
       "                        <td id=\"T_96b88_row4_col0\" class=\"data row4 col0\" >0.00%</td>\n",
       "                        <td id=\"T_96b88_row4_col1\" class=\"data row4 col1\" >6</td>\n",
       "            </tr>\n",
       "    </tbody></table>"
      ],
      "text/plain": [
       "<pandas.io.formats.style.Styler at 0x7f71531a48b0>"
      ]
     },
     "execution_count": 61,
     "metadata": {},
     "output_type": "execute_result"
    }
   ],
   "source": [
    "# Comprobando la distribución en el conjunto de datos entero\n",
    "\n",
    "relation_ed=scores.groupby('education_id')['days_employed'].apply(lambda x: x.isnull().sum() / len(x)).to_frame(name='ratio')\n",
    "relation_ed['count']=scores.groupby('education_id')['days_employed'].apply(lambda x: len(x))\n",
    "\n",
    "relation_ed.style.format({'ratio':'{:,.2%}'.format,})\n",
    "\n"
   ]
  },
  {
   "cell_type": "markdown",
   "metadata": {},
   "source": [
    "**Conclusión intermedia**\n",
    "\n",
    "La distribución parece terminar indicando cierta aleatoriedad ya que el 10.1% de las filas con valores faltantes es bastante similar a los porcentajes de valores faltantes en relación con el total por cada segmento de nivel de estudios, variable que parecía tener la mayor relación con los valores ausentes.\n",
    "\n",
    "Para confirmar esta hipótesis, utilizaremos además la comparación relacionada con la existencia de una deuda con el pago de un préstamo, que sería la segunda variable que parece mantener mayor relación con los valores ausentes.\n"
   ]
  },
  {
   "cell_type": "code",
   "execution_count": 62,
   "metadata": {},
   "outputs": [
    {
     "data": {
      "text/html": [
       "<style  type=\"text/css\" >\n",
       "</style><table id=\"T_a31d7_\" ><thead>    <tr>        <th class=\"blank level0\" ></th>        <th class=\"col_heading level0 col0\" >ratio</th>        <th class=\"col_heading level0 col1\" >count</th>    </tr>    <tr>        <th class=\"index_name level0\" >debt</th>        <th class=\"blank\" ></th>        <th class=\"blank\" ></th>    </tr></thead><tbody>\n",
       "                <tr>\n",
       "                        <th id=\"T_a31d7_level0_row0\" class=\"row_heading level0 row0\" >0</th>\n",
       "                        <td id=\"T_a31d7_row0_col0\" class=\"data row0 col0\" >10.13%</td>\n",
       "                        <td id=\"T_a31d7_row0_col1\" class=\"data row0 col1\" >19784</td>\n",
       "            </tr>\n",
       "            <tr>\n",
       "                        <th id=\"T_a31d7_level0_row1\" class=\"row_heading level0 row1\" >1</th>\n",
       "                        <td id=\"T_a31d7_row1_col0\" class=\"data row1 col0\" >9.76%</td>\n",
       "                        <td id=\"T_a31d7_row1_col1\" class=\"data row1 col1\" >1741</td>\n",
       "            </tr>\n",
       "    </tbody></table>"
      ],
      "text/plain": [
       "<pandas.io.formats.style.Styler at 0x7f7140396610>"
      ]
     },
     "execution_count": 62,
     "metadata": {},
     "output_type": "execute_result"
    }
   ],
   "source": [
    "relation_debt=scores.groupby('debt')['days_employed'].apply(lambda x: x.isnull().sum() / len(x)).to_frame(name='ratio')\n",
    "relation_debt['count']=scores.groupby('debt')['days_employed'].apply(lambda x: len(x))\n",
    "\n",
    "relation_debt.style.format({'ratio':'{:,.2%}'.format,})\n"
   ]
  },
  {
   "cell_type": "markdown",
   "metadata": {},
   "source": [
    "**Conclusión intermedia**\n",
    "\n",
    "Como podemos observar, nuevamente se repite el patrón del 10.1%, fortaleciendo la teoría de que los huecos de información son aleatorios.\n",
    "\n",
    "Finalmente repetiremos el mismo ejercicio con el resto de las variables: 'children', 'dob_years', 'family_status_id', 'gender' e 'income_type'"
   ]
  },
  {
   "cell_type": "code",
   "execution_count": 63,
   "metadata": {
    "scrolled": true
   },
   "outputs": [
    {
     "name": "stdout",
     "output_type": "stream",
     "text": [
      "             ratio  count\n",
      "children                 \n",
      "-1        0.063830     47\n",
      " 0        0.101703  14149\n",
      " 1        0.098589   4818\n",
      " 2        0.099270   2055\n",
      " 3        0.109091    330\n",
      " 4        0.170732     41\n",
      " 5        0.111111      9\n",
      " 20       0.118421     76\n",
      "\n",
      "              ratio  count\n",
      "dob_years                 \n",
      "0          0.099010    101\n",
      "19         0.071429     14\n",
      "20         0.098039     51\n",
      "21         0.162162    111\n",
      "22         0.092896    183\n",
      "23         0.141732    254\n",
      "24         0.079545    264\n",
      "25         0.064426    357\n",
      "26         0.085784    408\n",
      "27         0.073022    493\n",
      "28         0.113320    503\n",
      "29         0.091743    545\n",
      "30         0.107407    540\n",
      "31         0.116071    560\n",
      "32         0.072549    510\n",
      "33         0.087780    581\n",
      "34         0.114428    603\n",
      "35         0.103728    617\n",
      "36         0.113514    555\n",
      "37         0.098696    537\n",
      "38         0.090301    598\n",
      "39         0.089005    573\n",
      "40         0.108374    609\n",
      "41         0.097199    607\n",
      "42         0.108878    597\n",
      "43         0.097466    513\n",
      "44         0.080439    547\n",
      "45         0.100604    497\n",
      "46         0.101053    475\n",
      "47         0.122917    480\n",
      "48         0.085502    538\n",
      "49         0.098425    508\n",
      "50         0.099222    514\n",
      "51         0.111607    448\n",
      "52         0.109504    484\n",
      "53         0.095861    459\n",
      "54         0.114823    479\n",
      "55         0.108352    443\n",
      "56         0.110883    487\n",
      "57         0.121739    460\n",
      "58         0.121475    461\n",
      "59         0.076577    444\n",
      "60         0.103448    377\n",
      "61         0.107042    355\n",
      "62         0.107955    352\n",
      "63         0.107807    269\n",
      "64         0.139623    265\n",
      "65         0.103093    194\n",
      "66         0.109290    183\n",
      "67         0.095808    167\n",
      "68         0.090909     99\n",
      "69         0.058824     85\n",
      "70         0.046154     65\n",
      "71         0.086207     58\n",
      "72         0.060606     33\n",
      "73         0.125000      8\n",
      "74         0.000000      6\n",
      "75         0.000000      1\n",
      "\n",
      "                     ratio  count\n",
      "family_status_id                 \n",
      "0                 0.099919  12380\n",
      "1                 0.105818   4177\n",
      "2                 0.098958    960\n",
      "3                 0.093724   1195\n",
      "4                 0.102382   2813\n",
      "\n",
      "           ratio  count\n",
      "gender                 \n",
      "F       0.104243  14236\n",
      "M       0.094676   7288\n",
      "XNA     0.000000      1\n",
      "\n"
     ]
    },
    {
     "data": {
      "text/html": [
       "<div>\n",
       "<style scoped>\n",
       "    .dataframe tbody tr th:only-of-type {\n",
       "        vertical-align: middle;\n",
       "    }\n",
       "\n",
       "    .dataframe tbody tr th {\n",
       "        vertical-align: top;\n",
       "    }\n",
       "\n",
       "    .dataframe thead th {\n",
       "        text-align: right;\n",
       "    }\n",
       "</style>\n",
       "<table border=\"1\" class=\"dataframe\">\n",
       "  <thead>\n",
       "    <tr style=\"text-align: right;\">\n",
       "      <th></th>\n",
       "      <th>ratio</th>\n",
       "      <th>count</th>\n",
       "    </tr>\n",
       "    <tr>\n",
       "      <th>income_type</th>\n",
       "      <th></th>\n",
       "      <th></th>\n",
       "    </tr>\n",
       "  </thead>\n",
       "  <tbody>\n",
       "    <tr>\n",
       "      <th>business</th>\n",
       "      <td>0.099902</td>\n",
       "      <td>5085</td>\n",
       "    </tr>\n",
       "    <tr>\n",
       "      <th>civil servant</th>\n",
       "      <td>0.100754</td>\n",
       "      <td>1459</td>\n",
       "    </tr>\n",
       "    <tr>\n",
       "      <th>employee</th>\n",
       "      <td>0.099379</td>\n",
       "      <td>11119</td>\n",
       "    </tr>\n",
       "    <tr>\n",
       "      <th>entrepreneur</th>\n",
       "      <td>0.500000</td>\n",
       "      <td>2</td>\n",
       "    </tr>\n",
       "    <tr>\n",
       "      <th>paternity / maternity leave</th>\n",
       "      <td>0.000000</td>\n",
       "      <td>1</td>\n",
       "    </tr>\n",
       "    <tr>\n",
       "      <th>retiree</th>\n",
       "      <td>0.107106</td>\n",
       "      <td>3856</td>\n",
       "    </tr>\n",
       "    <tr>\n",
       "      <th>student</th>\n",
       "      <td>0.000000</td>\n",
       "      <td>1</td>\n",
       "    </tr>\n",
       "    <tr>\n",
       "      <th>unemployed</th>\n",
       "      <td>0.000000</td>\n",
       "      <td>2</td>\n",
       "    </tr>\n",
       "  </tbody>\n",
       "</table>\n",
       "</div>"
      ],
      "text/plain": [
       "                                ratio  count\n",
       "income_type                                 \n",
       "business                     0.099902   5085\n",
       "civil servant                0.100754   1459\n",
       "employee                     0.099379  11119\n",
       "entrepreneur                 0.500000      2\n",
       "paternity / maternity leave  0.000000      1\n",
       "retiree                      0.107106   3856\n",
       "student                      0.000000      1\n",
       "unemployed                   0.000000      2"
      ]
     },
     "execution_count": 63,
     "metadata": {},
     "output_type": "execute_result"
    }
   ],
   "source": [
    "# Comprobación de otros patrones: explica cuáles\n",
    "\n",
    "relation_children=scores.groupby('children')['days_employed'].apply(lambda x: x.isnull().sum() / len(x)).to_frame(name='ratio')\n",
    "relation_children['count']=scores.groupby('children')['days_employed'].apply(lambda x: len(x))\n",
    "\n",
    "print(relation_children)\n",
    "\n",
    "print()\n",
    "\n",
    "relation_dob_years=scores.groupby('dob_years')['days_employed'].apply(lambda x: x.isnull().sum() / len(x)).to_frame(name='ratio')\n",
    "relation_dob_years['count']=scores.groupby('dob_years')['days_employed'].apply(lambda x: len(x))\n",
    "\n",
    "print(relation_dob_years)\n",
    "\n",
    "print()\n",
    "\n",
    "relation_family_status_id=scores.groupby('family_status_id')['days_employed'].apply(lambda x: x.isnull().sum() / len(x)).to_frame(name='ratio')\n",
    "relation_family_status_id['count']=scores.groupby('family_status_id')['days_employed'].apply(lambda x: len(x))\n",
    "\n",
    "print(relation_family_status_id)\n",
    "\n",
    "print()\n",
    "\n",
    "relation_gender=scores.groupby('gender')['days_employed'].apply(lambda x: x.isnull().sum() / len(x)).to_frame(name='ratio')\n",
    "relation_gender['count']=scores.groupby('gender')['days_employed'].apply(lambda x: len(x))\n",
    "\n",
    "print(relation_gender)\n",
    "\n",
    "print()\n",
    "\n",
    "relation_income_type=scores.groupby('income_type')['days_employed'].apply(lambda x: x.isnull().sum() / len(x)).to_frame(name='ratio')\n",
    "relation_income_type['count']=scores.groupby('income_type')['days_employed'].apply(lambda x: len(x))\n",
    "\n",
    "relation_income_type\n",
    "\n",
    "\n"
   ]
  },
  {
   "cell_type": "markdown",
   "metadata": {},
   "source": [
    "**Conclusiones**\n",
    "\n",
    "En general seguimos comprobando que la proporción de valores faltantes respecto al total considerando las divisiones de los distintos grupos, todas tienden al 10.1, en especial cuando la cantidad de valores en la categoría es mayor. Como consecuencia podemos asumir que en efecto se trata de una aleatoriedad.\n",
    "\n",
    "El valor más dispar a la relación de 10.1% es el correspondiente a los emprendedores, pero al considerar que sólo existen dos registros en esta categoría, podemos omitirla, como razón de peso para la falta de datos.\n",
    "\n",
    "Estos valores ausentes, dada su naturaleza aleatoria vamos a poder abordarlos sustituyéndolos por media o mediana de la información agrupada por distintos conceptos. Al tratarse de las variables correspondientes a los días trabajados y los ingresos totales, los factores que más podrían afectar a estas variables serían edad, género y el tipo de ingreso. Evaluaremos la consideración de cada una de estas variables.\n",
    "\n",
    "A continuación, para transformar los datos, se estudiarán los duplicados en los registros, los cuales, al no existir un identificador de cliente, dificilmente podremos eliminar, ya que puede haber clientes que generen el mismo tipo de información.\n",
    "\n",
    "Posteriormente se buscará homogeneizar la información de las columnas 'education' y 'purpose' con el propósito de que sea más manejable, ya que esta viene con diferencias en su forma de escribir distintos elementos de una misma categoría.\n",
    "\n",
    "Finalmente procederemos a evaluar la influencia de variables mencionadas previamente sobre las que tienen valores faltantes, una vez elegido el material a utilizar, se considerará si es la media o la mediana la que resultaría más apropiada a considerar, y finalmente se rellenarán los valores ausentes."
   ]
  },
  {
   "cell_type": "markdown",
   "metadata": {},
   "source": [
    "## Transformación de datos\n"
   ]
  },
  {
   "cell_type": "code",
   "execution_count": 64,
   "metadata": {},
   "outputs": [
    {
     "data": {
      "text/plain": [
       "[\"BACHELOR'S DEGREE\",\n",
       " \"Bachelor's Degree\",\n",
       " 'GRADUATE DEGREE',\n",
       " 'Graduate Degree',\n",
       " 'PRIMARY EDUCATION',\n",
       " 'Primary Education',\n",
       " 'SECONDARY EDUCATION',\n",
       " 'SOME COLLEGE',\n",
       " 'Secondary Education',\n",
       " 'Some College',\n",
       " \"bachelor's degree\",\n",
       " 'graduate degree',\n",
       " 'primary education',\n",
       " 'secondary education',\n",
       " 'some college']"
      ]
     },
     "execution_count": 64,
     "metadata": {},
     "output_type": "execute_result"
    }
   ],
   "source": [
    "# Veamos todos los valores en la columna de educación para verificar si será necesario corregir la ortografía y qué habrá que corregir exactamente\n",
    "\n",
    "sorted(scores['education'].unique())"
   ]
  },
  {
   "cell_type": "code",
   "execution_count": 65,
   "metadata": {
    "scrolled": true
   },
   "outputs": [
    {
     "name": "stdout",
     "output_type": "stream",
     "text": [
      "0\n",
      "[\"bachelor's degree\" \"BACHELOR'S DEGREE\" \"Bachelor's Degree\"]\n",
      "\n",
      "1\n",
      "['secondary education' 'Secondary Education' 'SECONDARY EDUCATION']\n",
      "\n",
      "2\n",
      "['some college' 'SOME COLLEGE' 'Some College']\n",
      "\n",
      "3\n",
      "['primary education' 'PRIMARY EDUCATION' 'Primary Education']\n",
      "\n",
      "4\n",
      "['Graduate Degree' 'GRADUATE DEGREE' 'graduate degree']\n",
      "\n"
     ]
    }
   ],
   "source": [
    "# Podemos observar que será necesario corregir varios de estos valores. Primero observemos si existe una relación directa inequívoca con la columna education_id y después corrijamos de acuerdo con el resultado.\n",
    "\n",
    "print('0')\n",
    "print(scores.loc[scores['education_id']==0]['education'].unique())\n",
    "print()\n",
    "print('1')\n",
    "print(scores.loc[scores['education_id']==1]['education'].unique())\n",
    "print()\n",
    "print('2')\n",
    "print(scores.loc[scores['education_id']==2]['education'].unique())\n",
    "print()\n",
    "print('3')\n",
    "print(scores.loc[scores['education_id']==3]['education'].unique())\n",
    "print()\n",
    "print('4')\n",
    "print(scores.loc[scores['education_id']==4]['education'].unique())\n",
    "print()\n",
    "\n",
    "scores.loc[scores['education_id']==0,'education']=\"bachelor's degree\"\n",
    "scores.loc[scores['education_id']==1,'education']='secondary education'\n",
    "scores.loc[scores['education_id']==2,'education']='some college'\n",
    "scores.loc[scores['education_id']==3,'education']='primary education'\n",
    "scores.loc[scores['education_id']==4,'education']='Graduate Degree'"
   ]
  },
  {
   "cell_type": "code",
   "execution_count": 66,
   "metadata": {},
   "outputs": [
    {
     "data": {
      "text/plain": [
       "['Graduate Degree',\n",
       " \"bachelor's degree\",\n",
       " 'primary education',\n",
       " 'secondary education',\n",
       " 'some college']"
      ]
     },
     "execution_count": 66,
     "metadata": {},
     "output_type": "execute_result"
    }
   ],
   "source": [
    "# Comprobar todos los valores en la columna para asegurarnos de que los hayamos corregido\n",
    "\n",
    "sorted(scores['education'].unique())"
   ]
  },
  {
   "cell_type": "markdown",
   "metadata": {},
   "source": [
    "[Comprueba los datos de la columna `children`]"
   ]
  },
  {
   "cell_type": "code",
   "execution_count": 67,
   "metadata": {},
   "outputs": [
    {
     "data": {
      "text/plain": [
       "[-1, 0, 1, 2, 3, 4, 5, 20]"
      ]
     },
     "execution_count": 67,
     "metadata": {},
     "output_type": "execute_result"
    }
   ],
   "source": [
    "# Veamos la distribución de los valores en la columna `children`\n",
    "sorted(scores['children'].unique())"
   ]
  },
  {
   "cell_type": "markdown",
   "metadata": {},
   "source": [
    "En esta columna encontramos datos muy extraños, como -1 hijos o 20 hijos. Para evaluar cómo procederemos con estos datos, lo primero a realizar será considerar el volumen que representa cada uno."
   ]
  },
  {
   "cell_type": "code",
   "execution_count": 68,
   "metadata": {},
   "outputs": [
    {
     "name": "stdout",
     "output_type": "stream",
     "text": [
      "0.64%\n",
      " 0     14149\n",
      " 1      4818\n",
      " 2      2055\n",
      " 3       330\n",
      " 20       76\n",
      "-1        47\n",
      " 4        41\n",
      " 5         9\n",
      "Name: children, dtype: int64\n"
     ]
    }
   ],
   "source": [
    "# Obtenemos el volumen de los datos, para considerar su impacto en los datos:\n",
    "\n",
    "wrong_value_count0=scores.loc[scores['children']==-1]['children'].count()+scores.loc[scores['children']==20]['children'].count()\n",
    "\n",
    "\n",
    "\n",
    "print(\"{:.2%}\".format(wrong_value_count0/scores['days_employed'].count()))\n",
    "\n",
    "print(scores['children'].value_counts())\n",
    "\n",
    "# Considerando el pequeño volumen podríamos asumir que se trata de errores de captura, y procederemos a cambiarlos por 1 y 2, como corresponda con su escritura más aproximada.\n",
    "\n",
    "scores.loc[scores['children']==-1,'children']=1\n",
    "scores.loc[scores['children']==20,'children']=2\n"
   ]
  },
  {
   "cell_type": "code",
   "execution_count": 69,
   "metadata": {},
   "outputs": [
    {
     "name": "stdout",
     "output_type": "stream",
     "text": [
      "0    14149\n",
      "1     4865\n",
      "2     2131\n",
      "3      330\n",
      "4       41\n",
      "5        9\n",
      "Name: children, dtype: int64\n"
     ]
    }
   ],
   "source": [
    "# Comprobar la columna `children` de nuevo para asegurarnos de que todo está arreglado\n",
    "\n",
    "print(scores['children'].value_counts())\n"
   ]
  },
  {
   "cell_type": "markdown",
   "metadata": {},
   "source": [
    "En la respuesta anterior, podemos confirmar que los valores para children quedaron arreglados, y además responden decresiendo en el conteo conforme aumenta el número de hijos.\n",
    "\n",
    "A continuación estudiaremos la columna 'days_employed', la cual nos interesa que nos muestre los días, sin fracciones, siempre debe tratarse de valores positivos y valores menores a la vida del individuo. Calcularemos el porcentaje de los últimos dos errores, los solucionaremos y corregiremos el formato."
   ]
  },
  {
   "cell_type": "code",
   "execution_count": 70,
   "metadata": {},
   "outputs": [
    {
     "name": "stdout",
     "output_type": "stream",
     "text": [
      "100%\n"
     ]
    }
   ],
   "source": [
    "# Encuentra datos problemáticos en `days_employed`, si existen, y calcula el porcentaje\n",
    "wrong_value_count = scores.loc[scores['days_employed']<0]['days_employed'].count()+scores.loc[scores['days_employed']>(scores['dob_years']*365)]['days_employed'].count()\n",
    "print(\"{:.0%}\".format(wrong_value_count/scores['days_employed'].count()))"
   ]
  },
  {
   "cell_type": "markdown",
   "metadata": {},
   "source": [
    "Observamos que la totalidad de los valores de la columna es erroneo, o son negativos o exceden considerablemente la vida del individuo. Estos errores deben haberse debido a problemas técnicos, teoría que es apoyada por el hecho de que todos los números vienen fraccionados, lo que indica que son valores obtenidos como algún cálculo computacional.\n",
    "\n",
    "Analizándo la información, parece ser que los valores introducidos como negativos, en caso de tomarlos como positivos núnca sobrepasan la edad del individuo, por lo que se implementará esta corrección en la información. Por el otro lado, los valores positivos cobran sentido al considerarse como horas trabajadas y no días trabajados, por lo que igualmente se trabajarán estos datos, para obtener información más cercana con la realidad."
   ]
  },
  {
   "cell_type": "code",
   "execution_count": 71,
   "metadata": {},
   "outputs": [
    {
     "name": "stdout",
     "output_type": "stream",
     "text": [
      "8437\n",
      "14177\n"
     ]
    }
   ],
   "source": [
    "# Aborda los valores problemáticos, si existen.\n",
    "\n",
    "def correccion_dias_empleado(days):\n",
    "    if pd.isna(days):\n",
    "        return float('nan')\n",
    "    elif days<0:\n",
    "        days = -days\n",
    "        return int(days)\n",
    "    else:\n",
    "        days = days/24\n",
    "        return int(days)\n",
    "        \n",
    "print(correccion_dias_empleado(-8437.673028))\n",
    "print(correccion_dias_empleado(340266.072047))\n",
    "\n",
    "scores['days_employed']=scores['days_employed'].apply(correccion_dias_empleado)\n"
   ]
  },
  {
   "cell_type": "code",
   "execution_count": 72,
   "metadata": {
    "scrolled": true
   },
   "outputs": [
    {
     "name": "stdout",
     "output_type": "stream",
     "text": [
      "0.75%\n",
      "\n"
     ]
    },
    {
     "data": {
      "text/html": [
       "<div>\n",
       "<style scoped>\n",
       "    .dataframe tbody tr th:only-of-type {\n",
       "        vertical-align: middle;\n",
       "    }\n",
       "\n",
       "    .dataframe tbody tr th {\n",
       "        vertical-align: top;\n",
       "    }\n",
       "\n",
       "    .dataframe thead th {\n",
       "        text-align: right;\n",
       "    }\n",
       "</style>\n",
       "<table border=\"1\" class=\"dataframe\">\n",
       "  <thead>\n",
       "    <tr style=\"text-align: right;\">\n",
       "      <th></th>\n",
       "      <th>children</th>\n",
       "      <th>days_employed</th>\n",
       "      <th>dob_years</th>\n",
       "      <th>education</th>\n",
       "      <th>education_id</th>\n",
       "      <th>family_status</th>\n",
       "      <th>family_status_id</th>\n",
       "      <th>gender</th>\n",
       "      <th>income_type</th>\n",
       "      <th>debt</th>\n",
       "      <th>total_income</th>\n",
       "      <th>purpose</th>\n",
       "    </tr>\n",
       "  </thead>\n",
       "  <tbody>\n",
       "    <tr>\n",
       "      <th>99</th>\n",
       "      <td>0</td>\n",
       "      <td>14439.0</td>\n",
       "      <td>0</td>\n",
       "      <td>secondary education</td>\n",
       "      <td>1</td>\n",
       "      <td>married</td>\n",
       "      <td>0</td>\n",
       "      <td>F</td>\n",
       "      <td>retiree</td>\n",
       "      <td>0</td>\n",
       "      <td>11406.644</td>\n",
       "      <td>car</td>\n",
       "    </tr>\n",
       "    <tr>\n",
       "      <th>149</th>\n",
       "      <td>0</td>\n",
       "      <td>2664.0</td>\n",
       "      <td>0</td>\n",
       "      <td>secondary education</td>\n",
       "      <td>1</td>\n",
       "      <td>divorced</td>\n",
       "      <td>3</td>\n",
       "      <td>F</td>\n",
       "      <td>employee</td>\n",
       "      <td>0</td>\n",
       "      <td>11228.230</td>\n",
       "      <td>housing transactions</td>\n",
       "    </tr>\n",
       "    <tr>\n",
       "      <th>157</th>\n",
       "      <td>0</td>\n",
       "      <td>14517.0</td>\n",
       "      <td>38</td>\n",
       "      <td>secondary education</td>\n",
       "      <td>1</td>\n",
       "      <td>married</td>\n",
       "      <td>0</td>\n",
       "      <td>F</td>\n",
       "      <td>retiree</td>\n",
       "      <td>1</td>\n",
       "      <td>18169.704</td>\n",
       "      <td>purchase of a car</td>\n",
       "    </tr>\n",
       "    <tr>\n",
       "      <th>270</th>\n",
       "      <td>3</td>\n",
       "      <td>1872.0</td>\n",
       "      <td>0</td>\n",
       "      <td>secondary education</td>\n",
       "      <td>1</td>\n",
       "      <td>married</td>\n",
       "      <td>0</td>\n",
       "      <td>F</td>\n",
       "      <td>employee</td>\n",
       "      <td>0</td>\n",
       "      <td>16346.633</td>\n",
       "      <td>housing renovation</td>\n",
       "    </tr>\n",
       "    <tr>\n",
       "      <th>578</th>\n",
       "      <td>0</td>\n",
       "      <td>16577.0</td>\n",
       "      <td>0</td>\n",
       "      <td>secondary education</td>\n",
       "      <td>1</td>\n",
       "      <td>married</td>\n",
       "      <td>0</td>\n",
       "      <td>F</td>\n",
       "      <td>retiree</td>\n",
       "      <td>0</td>\n",
       "      <td>15619.310</td>\n",
       "      <td>construction of own property</td>\n",
       "    </tr>\n",
       "    <tr>\n",
       "      <th>...</th>\n",
       "      <td>...</td>\n",
       "      <td>...</td>\n",
       "      <td>...</td>\n",
       "      <td>...</td>\n",
       "      <td>...</td>\n",
       "      <td>...</td>\n",
       "      <td>...</td>\n",
       "      <td>...</td>\n",
       "      <td>...</td>\n",
       "      <td>...</td>\n",
       "      <td>...</td>\n",
       "      <td>...</td>\n",
       "    </tr>\n",
       "    <tr>\n",
       "      <th>20560</th>\n",
       "      <td>0</td>\n",
       "      <td>13891.0</td>\n",
       "      <td>33</td>\n",
       "      <td>secondary education</td>\n",
       "      <td>1</td>\n",
       "      <td>married</td>\n",
       "      <td>0</td>\n",
       "      <td>M</td>\n",
       "      <td>retiree</td>\n",
       "      <td>0</td>\n",
       "      <td>26145.901</td>\n",
       "      <td>education</td>\n",
       "    </tr>\n",
       "    <tr>\n",
       "      <th>20577</th>\n",
       "      <td>0</td>\n",
       "      <td>13822.0</td>\n",
       "      <td>0</td>\n",
       "      <td>secondary education</td>\n",
       "      <td>1</td>\n",
       "      <td>unmarried</td>\n",
       "      <td>4</td>\n",
       "      <td>F</td>\n",
       "      <td>retiree</td>\n",
       "      <td>0</td>\n",
       "      <td>20766.202</td>\n",
       "      <td>property</td>\n",
       "    </tr>\n",
       "    <tr>\n",
       "      <th>20829</th>\n",
       "      <td>1</td>\n",
       "      <td>16591.0</td>\n",
       "      <td>40</td>\n",
       "      <td>secondary education</td>\n",
       "      <td>1</td>\n",
       "      <td>married</td>\n",
       "      <td>0</td>\n",
       "      <td>F</td>\n",
       "      <td>retiree</td>\n",
       "      <td>0</td>\n",
       "      <td>6257.265</td>\n",
       "      <td>getting an education</td>\n",
       "    </tr>\n",
       "    <tr>\n",
       "      <th>21179</th>\n",
       "      <td>2</td>\n",
       "      <td>108.0</td>\n",
       "      <td>0</td>\n",
       "      <td>bachelor's degree</td>\n",
       "      <td>0</td>\n",
       "      <td>married</td>\n",
       "      <td>0</td>\n",
       "      <td>M</td>\n",
       "      <td>business</td>\n",
       "      <td>0</td>\n",
       "      <td>38512.321</td>\n",
       "      <td>building a real estate</td>\n",
       "    </tr>\n",
       "    <tr>\n",
       "      <th>21313</th>\n",
       "      <td>0</td>\n",
       "      <td>1268.0</td>\n",
       "      <td>0</td>\n",
       "      <td>secondary education</td>\n",
       "      <td>1</td>\n",
       "      <td>unmarried</td>\n",
       "      <td>4</td>\n",
       "      <td>M</td>\n",
       "      <td>employee</td>\n",
       "      <td>0</td>\n",
       "      <td>24387.070</td>\n",
       "      <td>housing transactions</td>\n",
       "    </tr>\n",
       "  </tbody>\n",
       "</table>\n",
       "<p>145 rows × 12 columns</p>\n",
       "</div>"
      ],
      "text/plain": [
       "       children  days_employed  dob_years            education  education_id  \\\n",
       "99            0        14439.0          0  secondary education             1   \n",
       "149           0         2664.0          0  secondary education             1   \n",
       "157           0        14517.0         38  secondary education             1   \n",
       "270           3         1872.0          0  secondary education             1   \n",
       "578           0        16577.0          0  secondary education             1   \n",
       "...         ...            ...        ...                  ...           ...   \n",
       "20560         0        13891.0         33  secondary education             1   \n",
       "20577         0        13822.0          0  secondary education             1   \n",
       "20829         1        16591.0         40  secondary education             1   \n",
       "21179         2          108.0          0    bachelor's degree             0   \n",
       "21313         0         1268.0          0  secondary education             1   \n",
       "\n",
       "      family_status  family_status_id gender income_type  debt  total_income  \\\n",
       "99          married                 0      F     retiree     0     11406.644   \n",
       "149        divorced                 3      F    employee     0     11228.230   \n",
       "157         married                 0      F     retiree     1     18169.704   \n",
       "270         married                 0      F    employee     0     16346.633   \n",
       "578         married                 0      F     retiree     0     15619.310   \n",
       "...             ...               ...    ...         ...   ...           ...   \n",
       "20560       married                 0      M     retiree     0     26145.901   \n",
       "20577     unmarried                 4      F     retiree     0     20766.202   \n",
       "20829       married                 0      F     retiree     0      6257.265   \n",
       "21179       married                 0      M    business     0     38512.321   \n",
       "21313     unmarried                 4      M    employee     0     24387.070   \n",
       "\n",
       "                            purpose  \n",
       "99                              car  \n",
       "149            housing transactions  \n",
       "157               purchase of a car  \n",
       "270              housing renovation  \n",
       "578    construction of own property  \n",
       "...                             ...  \n",
       "20560                     education  \n",
       "20577                      property  \n",
       "20829          getting an education  \n",
       "21179        building a real estate  \n",
       "21313          housing transactions  \n",
       "\n",
       "[145 rows x 12 columns]"
      ]
     },
     "execution_count": 72,
     "metadata": {},
     "output_type": "execute_result"
    }
   ],
   "source": [
    "# Comprueba el resultado - asegúrate de que esté arreglado\n",
    "wrong_value_count2 = scores.loc[scores['days_employed']<0]['days_employed'].count()+scores.loc[scores['days_employed']>(scores['dob_years']*365)]['days_employed'].count()\n",
    "print(\"{:.2%}\".format(wrong_value_count2/scores['days_employed'].count()))\n",
    "print()\n",
    "scores.loc[scores['days_employed']>(scores['dob_years']*365)]\n",
    "\n",
    "\n",
    "\n",
    "\n"
   ]
  },
  {
   "cell_type": "markdown",
   "metadata": {},
   "source": [
    "Con las soluciones implementadas descubrimos que ahora sólo el 0.75% de los datos tienen conflictos. Investigando en los errores restantes comprobamos que una gran cantidad tienen un problema con la edad, la cual marca 0.\n",
    "\n",
    "Ahora echemos un vistazo a la edad de clientes para ver si hay algún problema allí. De entrada los ya identificados como 0, así como cualquier negativo o demasiado alto, no deberían considerarse valores correctos."
   ]
  },
  {
   "cell_type": "code",
   "execution_count": 73,
   "metadata": {
    "scrolled": true
   },
   "outputs": [
    {
     "name": "stdout",
     "output_type": "stream",
     "text": [
      "[0, 19, 20, 21, 22, 23, 24, 25, 26, 27, 28, 29, 30, 31, 32, 33, 34, 35, 36, 37, 38, 39, 40, 41, 42, 43, 44, 45, 46, 47, 48, 49, 50, 51, 52, 53, 54, 55, 56, 57, 58, 59, 60, 61, 62, 63, 64, 65, 66, 67, 68, 69, 70, 71, 72, 73, 74, 75]\n",
      "\n",
      "0.47%\n"
     ]
    }
   ],
   "source": [
    "# Revisión de `dob_years` en busca de valores sospechosos y cuenta el porcentaje\n",
    "\n",
    "print(sorted(scores['dob_years'].unique()))\n",
    "\n",
    "wrong_value_count3=scores.loc[scores['dob_years']==0,'dob_years'].count()\n",
    "print()\n",
    "print(\"{:.2%}\".format(wrong_value_count3/scores['dob_years'].count()))"
   ]
  },
  {
   "cell_type": "markdown",
   "metadata": {},
   "source": [
    "Dado que el único error encontrado es el valor de cero, y considerando que corresponde a un porcentaje muy pequeño de los datos, además de que coincide y provoca una gran catidad de los errores que permanecen en la columna 'days_employed', estos datos serán omitidos en el resto del análisis. Si el porcentaje restante de 'days_employed' igualmente resulta despreciable, procederemos con su omisión."
   ]
  },
  {
   "cell_type": "code",
   "execution_count": 74,
   "metadata": {},
   "outputs": [],
   "source": [
    "# Resuelve los problemas en la columna `dob_years`, si existen\n",
    "scores = scores.loc[scores['dob_years']!=0]"
   ]
  },
  {
   "cell_type": "code",
   "execution_count": 75,
   "metadata": {},
   "outputs": [
    {
     "name": "stdout",
     "output_type": "stream",
     "text": [
      "[19, 20, 21, 22, 23, 24, 25, 26, 27, 28, 29, 30, 31, 32, 33, 34, 35, 36, 37, 38, 39, 40, 41, 42, 43, 44, 45, 46, 47, 48, 49, 50, 51, 52, 53, 54, 55, 56, 57, 58, 59, 60, 61, 62, 63, 64, 65, 66, 67, 68, 69, 70, 71, 72, 73, 74, 75]\n",
      "Porcentaje errores edad\n",
      "0.00%\n",
      "Porcentaje errores días empleado\n",
      "0.28%\n",
      "Porcentaje errores días empleado\n",
      "0.00%\n"
     ]
    }
   ],
   "source": [
    "# Comprueba el resultado - asegúrate de que esté arreglado\n",
    "print(sorted(scores['dob_years'].unique()))\n",
    "\n",
    "wrong_value_count5=scores.loc[scores['dob_years']==0,'dob_years'].count()\n",
    "print('Porcentaje errores edad')\n",
    "      \n",
    "print(\"{:.2%}\".format(wrong_value_count5/scores['dob_years'].count()))\n",
    "\n",
    "print('Porcentaje errores días empleado')\n",
    "wrong_value_count4 = scores.loc[scores['days_employed']<0]['days_employed'].count()+scores.loc[scores['days_employed']>(scores['dob_years']*365)]['days_employed'].count()\n",
    "print(\"{:.2%}\".format(wrong_value_count4/scores['days_employed'].count()))\n",
    "\n",
    "scores = scores.loc[(scores['days_employed']<(scores['dob_years']*365))|(scores['days_employed'].isna())]\n",
    "\n",
    "print('Porcentaje errores días empleado')\n",
    "wrong_value_count6 = scores.loc[scores['days_employed']<0]['days_employed'].count()+scores.loc[scores['days_employed']>(scores['dob_years']*365)]['days_employed'].count()\n",
    "print(\"{:.2%}\".format(wrong_value_count6/scores['days_employed'].count()))"
   ]
  },
  {
   "cell_type": "markdown",
   "metadata": {},
   "source": [
    "A continuación revisaremos la columna 'family_status' en sus valores únicos para encontrar anomalías."
   ]
  },
  {
   "cell_type": "code",
   "execution_count": 76,
   "metadata": {},
   "outputs": [
    {
     "data": {
      "text/plain": [
       "['civil partnership', 'divorced', 'married', 'unmarried', 'widow / widower']"
      ]
     },
     "execution_count": 76,
     "metadata": {},
     "output_type": "execute_result"
    }
   ],
   "source": [
    "# Veamos los valores de la columna 'family_status'\n",
    "\n",
    "sorted(scores['family_status'].unique())"
   ]
  },
  {
   "cell_type": "markdown",
   "metadata": {},
   "source": [
    "Comprobamos que los valores son correctos, no existe necesidad de modificar esta columna."
   ]
  },
  {
   "cell_type": "markdown",
   "metadata": {},
   "source": [
    "A continuación revisaremos la columna 'gender' en sus valores únicos para encontrar anomalías. De existir, serán trabajadas."
   ]
  },
  {
   "cell_type": "code",
   "execution_count": 77,
   "metadata": {},
   "outputs": [
    {
     "data": {
      "text/plain": [
       "['F', 'M', 'XNA']"
      ]
     },
     "execution_count": 77,
     "metadata": {},
     "output_type": "execute_result"
    }
   ],
   "source": [
    "# Veamos los valores en la columna\n",
    "sorted(scores['gender'].unique())"
   ]
  },
  {
   "cell_type": "code",
   "execution_count": 78,
   "metadata": {
    "scrolled": true
   },
   "outputs": [
    {
     "name": "stdout",
     "output_type": "stream",
     "text": [
      "children            1\n",
      "days_employed       1\n",
      "dob_years           1\n",
      "education           1\n",
      "education_id        1\n",
      "family_status       1\n",
      "family_status_id    1\n",
      "gender              1\n",
      "income_type         1\n",
      "debt                1\n",
      "total_income        1\n",
      "purpose             1\n",
      "dtype: int64\n"
     ]
    }
   ],
   "source": [
    "# Aborda los valores problemáticos, si existen\n",
    "print(scores.loc[scores['gender']=='XNA'].count())\n",
    "\n",
    "scores = scores.loc[scores['gender']!='XNA']"
   ]
  },
  {
   "cell_type": "code",
   "execution_count": 79,
   "metadata": {},
   "outputs": [
    {
     "data": {
      "text/plain": [
       "['F', 'M']"
      ]
     },
     "execution_count": 79,
     "metadata": {},
     "output_type": "execute_result"
    }
   ],
   "source": [
    "# Comprueba el resultado - asegúrate de que esté arreglado\n",
    "\n",
    "sorted(scores['gender'].unique())"
   ]
  },
  {
   "cell_type": "markdown",
   "metadata": {},
   "source": [
    "A continuación revisaremos la columna 'income_type' en sus valores únicos para encontrar anomalías. De existir, serán trabajadas."
   ]
  },
  {
   "cell_type": "code",
   "execution_count": 80,
   "metadata": {
    "scrolled": true
   },
   "outputs": [
    {
     "data": {
      "text/plain": [
       "['business',\n",
       " 'civil servant',\n",
       " 'employee',\n",
       " 'entrepreneur',\n",
       " 'paternity / maternity leave',\n",
       " 'retiree',\n",
       " 'student']"
      ]
     },
     "execution_count": 80,
     "metadata": {},
     "output_type": "execute_result"
    }
   ],
   "source": [
    "# Veamos los valores en la columna\n",
    "sorted(scores['income_type'].unique())"
   ]
  },
  {
   "cell_type": "markdown",
   "metadata": {},
   "source": [
    "Comprobamos que los valores son correctos, no existe necesidad de modificar esta columna.\n",
    "\n",
    "\n",
    "A continuación revisaremos la columna 'purpose' en sus valores únicos para encontrar anomalías. De existir, serán trabajadas."
   ]
  },
  {
   "cell_type": "code",
   "execution_count": 81,
   "metadata": {},
   "outputs": [
    {
     "data": {
      "text/plain": [
       "['building a property',\n",
       " 'building a real estate',\n",
       " 'buy commercial real estate',\n",
       " 'buy real estate',\n",
       " 'buy residential real estate',\n",
       " 'buying a second-hand car',\n",
       " 'buying my own car',\n",
       " 'buying property for renting out',\n",
       " 'car',\n",
       " 'car purchase',\n",
       " 'cars',\n",
       " 'construction of own property',\n",
       " 'education',\n",
       " 'getting an education',\n",
       " 'getting higher education',\n",
       " 'going to university',\n",
       " 'having a wedding',\n",
       " 'housing',\n",
       " 'housing renovation',\n",
       " 'housing transactions',\n",
       " 'profile education',\n",
       " 'property',\n",
       " 'purchase of a car',\n",
       " 'purchase of my own house',\n",
       " 'purchase of the house',\n",
       " 'purchase of the house for my family',\n",
       " 'real estate transactions',\n",
       " 'second-hand car purchase',\n",
       " 'supplementary education',\n",
       " 'to become educated',\n",
       " 'to buy a car',\n",
       " 'to get a supplementary education',\n",
       " 'to have a wedding',\n",
       " 'to own a car',\n",
       " 'transactions with commercial real estate',\n",
       " 'transactions with my real estate',\n",
       " 'university education',\n",
       " 'wedding ceremony']"
      ]
     },
     "execution_count": 81,
     "metadata": {},
     "output_type": "execute_result"
    }
   ],
   "source": [
    "sorted(scores['purpose'].unique())"
   ]
  },
  {
   "cell_type": "markdown",
   "metadata": {},
   "source": [
    "Podemos encontrar una gran variedad de categorías que podríamos considerar la misma, por lo que habrá que renombrar la mayoría. Las dividiremos en grandes clasificaciones: 'car', 'wedding', 'real estate' and 'education'."
   ]
  },
  {
   "cell_type": "code",
   "execution_count": 82,
   "metadata": {},
   "outputs": [],
   "source": [
    "def clasificar(purpose):\n",
    "    var1='car'\n",
    "    var2='wedding'\n",
    "    var3='educa'\n",
    "    var4='hous'\n",
    "    var5='real estate'\n",
    "    var6= str(purpose)\n",
    "    var7='property'\n",
    "    var8='univer'\n",
    "    if var1 in var6:\n",
    "        return 'car'\n",
    "    if var2 in var6:\n",
    "        return 'wedding'\n",
    "    if var3 in var6:\n",
    "        return 'education'\n",
    "    if var4 in var6:\n",
    "        return 'real estate'\n",
    "    if var5 in var6:\n",
    "        return 'real estate'\n",
    "    if var7 in var6:\n",
    "        return 'real estate'\n",
    "    if var8 in var6:\n",
    "        return 'education'\n",
    "    return var6\n",
    "    \n",
    "scores['purpose']=scores['purpose'].apply(clasificar)\n",
    "\n"
   ]
  },
  {
   "cell_type": "code",
   "execution_count": 83,
   "metadata": {},
   "outputs": [
    {
     "data": {
      "text/plain": [
       "['car', 'education', 'real estate', 'wedding']"
      ]
     },
     "execution_count": 83,
     "metadata": {},
     "output_type": "execute_result"
    }
   ],
   "source": [
    "sorted(scores['purpose'].unique())"
   ]
  },
  {
   "cell_type": "markdown",
   "metadata": {},
   "source": [
    "Ahora revisemos la existencia de duplicados y evaluemos cómo proceder con ellos."
   ]
  },
  {
   "cell_type": "code",
   "execution_count": 84,
   "metadata": {},
   "outputs": [
    {
     "name": "stdout",
     "output_type": "stream",
     "text": [
      "404\n"
     ]
    },
    {
     "data": {
      "text/plain": [
       "404"
      ]
     },
     "execution_count": 84,
     "metadata": {},
     "output_type": "execute_result"
    }
   ],
   "source": [
    "# Comprobar los duplicados\n",
    "\n",
    "print(scores.duplicated().sum())\n",
    "\n",
    "scores.loc[scores['days_employed'].isna()].duplicated().sum()"
   ]
  },
  {
   "cell_type": "markdown",
   "metadata": {},
   "source": [
    "No existen filas duplicadas además de las que contienen valores vacíos, pero de existir no sería prudente eliminarlas, ya que al no existir un id de usuario, se puede asumir que existen varias personas con características iguales dentro de las variables presentadas en la tabla."
   ]
  },
  {
   "cell_type": "markdown",
   "metadata": {},
   "source": [
    "El conjunto de datos ha sido limpiado en aspectos de información incierta, valores similares en columnas y eliminación de filas con valores erroneos.\n",
    "\n",
    "Las modificaciones han sido las siguientes, con su correspondiente porcentaje de datos:\n",
    "-Eliminación de valores erroneos en edad y timpo empleado: 0.75%\n",
    "-Corrección de nomenclatura en 'education' y purpose. (porcentaje indiferente ya que práctiamente todas se reclasificaron)\n",
    "-Corrección de valores de children: 0.64%\n",
    "\n",
    "Podemos observar que la tabla fue modificada en valores bastante poco en porcentaje."
   ]
  },
  {
   "cell_type": "markdown",
   "metadata": {},
   "source": [
    "# Trabajar con valores ausentes"
   ]
  },
  {
   "cell_type": "markdown",
   "metadata": {},
   "source": [
    "Para la simplificación del trabajo resultará útil trabajar con los valores indexados de educación y familia, evitando tener que introducir cadenas extensas y más propensas al error humano."
   ]
  },
  {
   "cell_type": "code",
   "execution_count": 85,
   "metadata": {},
   "outputs": [],
   "source": [
    "# Encuentra los diccionarios\n",
    "dir_edu = {0:\"bachelor's degree\",1:'secondary education',2:'some college', 3:'primary education', 4:'Graduate Degree'}\n",
    "dir_fam = {0:'married',1:'´civil partnership',2:'widow / widower', 3:'divorced', 4:'unmarried'}"
   ]
  },
  {
   "cell_type": "markdown",
   "metadata": {},
   "source": [
    "### Restaurar valores ausentes en `total_income`"
   ]
  },
  {
   "cell_type": "markdown",
   "metadata": {},
   "source": [
    "Como se comentó al inicio, existen valores ausentes en las columnas de ingreso total y días trabajados, los cuales coninciden en ambas. Y comenzaremos tratando de obtener los valores ausentes de la columa ingreso total. Para esto será necesario evaluar el efecto de distintas variables sobre esta para poder determinar el método más correcto para sustituirla.\n",
    "\n",
    "Comenzaremos creando una clasificación de edad, la cual será agrupando a los individuos en grupos por 10 años de edad."
   ]
  },
  {
   "cell_type": "code",
   "execution_count": 86,
   "metadata": {},
   "outputs": [],
   "source": [
    "# Vamos a escribir una función que calcule la categoría de edad\n",
    "\n",
    "def age_group(age):\n",
    "    if age <= 30:\n",
    "        return '20-30'\n",
    "    if age <= 40:\n",
    "        return '31-40'\n",
    "    if age <= 50:\n",
    "        return '41-50'\n",
    "    if age <= 60:\n",
    "        return '51-60'\n",
    "    if age <= 70:\n",
    "        return '61-70'\n",
    "    if age <= 80:\n",
    "        return '71-80'"
   ]
  },
  {
   "cell_type": "code",
   "execution_count": 87,
   "metadata": {},
   "outputs": [
    {
     "name": "stdout",
     "output_type": "stream",
     "text": [
      "20-30\n",
      "51-60\n",
      "71-80\n"
     ]
    }
   ],
   "source": [
    "# Prueba si la función funciona bien\n",
    "print(age_group(27))\n",
    "print(age_group(52))\n",
    "print(age_group(78))"
   ]
  },
  {
   "cell_type": "code",
   "execution_count": 88,
   "metadata": {},
   "outputs": [],
   "source": [
    "# Crear una nueva columna basada en la función\n",
    "\n",
    "scores['age_group'] = scores['dob_years'].apply(age_group)"
   ]
  },
  {
   "cell_type": "code",
   "execution_count": 89,
   "metadata": {},
   "outputs": [
    {
     "data": {
      "text/html": [
       "<div>\n",
       "<style scoped>\n",
       "    .dataframe tbody tr th:only-of-type {\n",
       "        vertical-align: middle;\n",
       "    }\n",
       "\n",
       "    .dataframe tbody tr th {\n",
       "        vertical-align: top;\n",
       "    }\n",
       "\n",
       "    .dataframe thead th {\n",
       "        text-align: right;\n",
       "    }\n",
       "</style>\n",
       "<table border=\"1\" class=\"dataframe\">\n",
       "  <thead>\n",
       "    <tr style=\"text-align: right;\">\n",
       "      <th></th>\n",
       "      <th>children</th>\n",
       "      <th>days_employed</th>\n",
       "      <th>dob_years</th>\n",
       "      <th>education</th>\n",
       "      <th>education_id</th>\n",
       "      <th>family_status</th>\n",
       "      <th>family_status_id</th>\n",
       "      <th>gender</th>\n",
       "      <th>income_type</th>\n",
       "      <th>debt</th>\n",
       "      <th>total_income</th>\n",
       "      <th>purpose</th>\n",
       "      <th>age_group</th>\n",
       "    </tr>\n",
       "  </thead>\n",
       "  <tbody>\n",
       "    <tr>\n",
       "      <th>0</th>\n",
       "      <td>1</td>\n",
       "      <td>8437.0</td>\n",
       "      <td>42</td>\n",
       "      <td>bachelor's degree</td>\n",
       "      <td>0</td>\n",
       "      <td>married</td>\n",
       "      <td>0</td>\n",
       "      <td>F</td>\n",
       "      <td>employee</td>\n",
       "      <td>0</td>\n",
       "      <td>40620.102</td>\n",
       "      <td>real estate</td>\n",
       "      <td>41-50</td>\n",
       "    </tr>\n",
       "    <tr>\n",
       "      <th>1</th>\n",
       "      <td>1</td>\n",
       "      <td>4024.0</td>\n",
       "      <td>36</td>\n",
       "      <td>secondary education</td>\n",
       "      <td>1</td>\n",
       "      <td>married</td>\n",
       "      <td>0</td>\n",
       "      <td>F</td>\n",
       "      <td>employee</td>\n",
       "      <td>0</td>\n",
       "      <td>17932.802</td>\n",
       "      <td>car</td>\n",
       "      <td>31-40</td>\n",
       "    </tr>\n",
       "    <tr>\n",
       "      <th>2</th>\n",
       "      <td>0</td>\n",
       "      <td>5623.0</td>\n",
       "      <td>33</td>\n",
       "      <td>secondary education</td>\n",
       "      <td>1</td>\n",
       "      <td>married</td>\n",
       "      <td>0</td>\n",
       "      <td>M</td>\n",
       "      <td>employee</td>\n",
       "      <td>0</td>\n",
       "      <td>23341.752</td>\n",
       "      <td>real estate</td>\n",
       "      <td>31-40</td>\n",
       "    </tr>\n",
       "    <tr>\n",
       "      <th>3</th>\n",
       "      <td>3</td>\n",
       "      <td>4124.0</td>\n",
       "      <td>32</td>\n",
       "      <td>secondary education</td>\n",
       "      <td>1</td>\n",
       "      <td>married</td>\n",
       "      <td>0</td>\n",
       "      <td>M</td>\n",
       "      <td>employee</td>\n",
       "      <td>0</td>\n",
       "      <td>42820.568</td>\n",
       "      <td>education</td>\n",
       "      <td>31-40</td>\n",
       "    </tr>\n",
       "    <tr>\n",
       "      <th>4</th>\n",
       "      <td>0</td>\n",
       "      <td>14177.0</td>\n",
       "      <td>53</td>\n",
       "      <td>secondary education</td>\n",
       "      <td>1</td>\n",
       "      <td>civil partnership</td>\n",
       "      <td>1</td>\n",
       "      <td>F</td>\n",
       "      <td>retiree</td>\n",
       "      <td>0</td>\n",
       "      <td>25378.572</td>\n",
       "      <td>wedding</td>\n",
       "      <td>51-60</td>\n",
       "    </tr>\n",
       "    <tr>\n",
       "      <th>5</th>\n",
       "      <td>0</td>\n",
       "      <td>926.0</td>\n",
       "      <td>27</td>\n",
       "      <td>bachelor's degree</td>\n",
       "      <td>0</td>\n",
       "      <td>civil partnership</td>\n",
       "      <td>1</td>\n",
       "      <td>M</td>\n",
       "      <td>business</td>\n",
       "      <td>0</td>\n",
       "      <td>40922.170</td>\n",
       "      <td>real estate</td>\n",
       "      <td>20-30</td>\n",
       "    </tr>\n",
       "    <tr>\n",
       "      <th>6</th>\n",
       "      <td>0</td>\n",
       "      <td>2879.0</td>\n",
       "      <td>43</td>\n",
       "      <td>bachelor's degree</td>\n",
       "      <td>0</td>\n",
       "      <td>married</td>\n",
       "      <td>0</td>\n",
       "      <td>F</td>\n",
       "      <td>business</td>\n",
       "      <td>0</td>\n",
       "      <td>38484.156</td>\n",
       "      <td>real estate</td>\n",
       "      <td>41-50</td>\n",
       "    </tr>\n",
       "    <tr>\n",
       "      <th>7</th>\n",
       "      <td>0</td>\n",
       "      <td>152.0</td>\n",
       "      <td>50</td>\n",
       "      <td>secondary education</td>\n",
       "      <td>1</td>\n",
       "      <td>married</td>\n",
       "      <td>0</td>\n",
       "      <td>M</td>\n",
       "      <td>employee</td>\n",
       "      <td>0</td>\n",
       "      <td>21731.829</td>\n",
       "      <td>education</td>\n",
       "      <td>41-50</td>\n",
       "    </tr>\n",
       "    <tr>\n",
       "      <th>8</th>\n",
       "      <td>2</td>\n",
       "      <td>6929.0</td>\n",
       "      <td>35</td>\n",
       "      <td>bachelor's degree</td>\n",
       "      <td>0</td>\n",
       "      <td>civil partnership</td>\n",
       "      <td>1</td>\n",
       "      <td>F</td>\n",
       "      <td>employee</td>\n",
       "      <td>0</td>\n",
       "      <td>15337.093</td>\n",
       "      <td>wedding</td>\n",
       "      <td>31-40</td>\n",
       "    </tr>\n",
       "    <tr>\n",
       "      <th>9</th>\n",
       "      <td>0</td>\n",
       "      <td>2188.0</td>\n",
       "      <td>41</td>\n",
       "      <td>secondary education</td>\n",
       "      <td>1</td>\n",
       "      <td>married</td>\n",
       "      <td>0</td>\n",
       "      <td>M</td>\n",
       "      <td>employee</td>\n",
       "      <td>0</td>\n",
       "      <td>23108.150</td>\n",
       "      <td>real estate</td>\n",
       "      <td>41-50</td>\n",
       "    </tr>\n",
       "    <tr>\n",
       "      <th>10</th>\n",
       "      <td>2</td>\n",
       "      <td>4171.0</td>\n",
       "      <td>36</td>\n",
       "      <td>bachelor's degree</td>\n",
       "      <td>0</td>\n",
       "      <td>married</td>\n",
       "      <td>0</td>\n",
       "      <td>M</td>\n",
       "      <td>business</td>\n",
       "      <td>0</td>\n",
       "      <td>18230.959</td>\n",
       "      <td>real estate</td>\n",
       "      <td>31-40</td>\n",
       "    </tr>\n",
       "    <tr>\n",
       "      <th>11</th>\n",
       "      <td>0</td>\n",
       "      <td>792.0</td>\n",
       "      <td>40</td>\n",
       "      <td>secondary education</td>\n",
       "      <td>1</td>\n",
       "      <td>married</td>\n",
       "      <td>0</td>\n",
       "      <td>F</td>\n",
       "      <td>employee</td>\n",
       "      <td>0</td>\n",
       "      <td>12331.077</td>\n",
       "      <td>real estate</td>\n",
       "      <td>31-40</td>\n",
       "    </tr>\n",
       "    <tr>\n",
       "      <th>12</th>\n",
       "      <td>0</td>\n",
       "      <td>NaN</td>\n",
       "      <td>65</td>\n",
       "      <td>secondary education</td>\n",
       "      <td>1</td>\n",
       "      <td>civil partnership</td>\n",
       "      <td>1</td>\n",
       "      <td>M</td>\n",
       "      <td>retiree</td>\n",
       "      <td>0</td>\n",
       "      <td>NaN</td>\n",
       "      <td>wedding</td>\n",
       "      <td>61-70</td>\n",
       "    </tr>\n",
       "    <tr>\n",
       "      <th>13</th>\n",
       "      <td>0</td>\n",
       "      <td>1846.0</td>\n",
       "      <td>54</td>\n",
       "      <td>some college</td>\n",
       "      <td>2</td>\n",
       "      <td>married</td>\n",
       "      <td>0</td>\n",
       "      <td>F</td>\n",
       "      <td>employee</td>\n",
       "      <td>0</td>\n",
       "      <td>20873.317</td>\n",
       "      <td>car</td>\n",
       "      <td>51-60</td>\n",
       "    </tr>\n",
       "    <tr>\n",
       "      <th>14</th>\n",
       "      <td>0</td>\n",
       "      <td>1844.0</td>\n",
       "      <td>56</td>\n",
       "      <td>bachelor's degree</td>\n",
       "      <td>0</td>\n",
       "      <td>civil partnership</td>\n",
       "      <td>1</td>\n",
       "      <td>F</td>\n",
       "      <td>business</td>\n",
       "      <td>1</td>\n",
       "      <td>26420.466</td>\n",
       "      <td>real estate</td>\n",
       "      <td>51-60</td>\n",
       "    </tr>\n",
       "  </tbody>\n",
       "</table>\n",
       "</div>"
      ],
      "text/plain": [
       "    children  days_employed  dob_years            education  education_id  \\\n",
       "0          1         8437.0         42    bachelor's degree             0   \n",
       "1          1         4024.0         36  secondary education             1   \n",
       "2          0         5623.0         33  secondary education             1   \n",
       "3          3         4124.0         32  secondary education             1   \n",
       "4          0        14177.0         53  secondary education             1   \n",
       "5          0          926.0         27    bachelor's degree             0   \n",
       "6          0         2879.0         43    bachelor's degree             0   \n",
       "7          0          152.0         50  secondary education             1   \n",
       "8          2         6929.0         35    bachelor's degree             0   \n",
       "9          0         2188.0         41  secondary education             1   \n",
       "10         2         4171.0         36    bachelor's degree             0   \n",
       "11         0          792.0         40  secondary education             1   \n",
       "12         0            NaN         65  secondary education             1   \n",
       "13         0         1846.0         54         some college             2   \n",
       "14         0         1844.0         56    bachelor's degree             0   \n",
       "\n",
       "        family_status  family_status_id gender income_type  debt  \\\n",
       "0             married                 0      F    employee     0   \n",
       "1             married                 0      F    employee     0   \n",
       "2             married                 0      M    employee     0   \n",
       "3             married                 0      M    employee     0   \n",
       "4   civil partnership                 1      F     retiree     0   \n",
       "5   civil partnership                 1      M    business     0   \n",
       "6             married                 0      F    business     0   \n",
       "7             married                 0      M    employee     0   \n",
       "8   civil partnership                 1      F    employee     0   \n",
       "9             married                 0      M    employee     0   \n",
       "10            married                 0      M    business     0   \n",
       "11            married                 0      F    employee     0   \n",
       "12  civil partnership                 1      M     retiree     0   \n",
       "13            married                 0      F    employee     0   \n",
       "14  civil partnership                 1      F    business     1   \n",
       "\n",
       "    total_income      purpose age_group  \n",
       "0      40620.102  real estate     41-50  \n",
       "1      17932.802          car     31-40  \n",
       "2      23341.752  real estate     31-40  \n",
       "3      42820.568    education     31-40  \n",
       "4      25378.572      wedding     51-60  \n",
       "5      40922.170  real estate     20-30  \n",
       "6      38484.156  real estate     41-50  \n",
       "7      21731.829    education     41-50  \n",
       "8      15337.093      wedding     31-40  \n",
       "9      23108.150  real estate     41-50  \n",
       "10     18230.959  real estate     31-40  \n",
       "11     12331.077  real estate     31-40  \n",
       "12           NaN      wedding     61-70  \n",
       "13     20873.317          car     51-60  \n",
       "14     26420.466  real estate     51-60  "
      ]
     },
     "execution_count": 89,
     "metadata": {},
     "output_type": "execute_result"
    }
   ],
   "source": [
    "# Comprobar cómo los valores en la nueva columna\n",
    "\n",
    "scores.head(15)"
   ]
  },
  {
   "cell_type": "markdown",
   "metadata": {},
   "source": [
    "Como se mencionó anteriormente se estima que el impacto en la variable de ingreso total debe verse mayormente ligado a las variables de edad, tipo de ingreso y educación. Para evaluar estos impactos se creará una nueva tabla sin valores vacíos sobre la que se verá el impacto de estas variables."
   ]
  },
  {
   "cell_type": "code",
   "execution_count": 90,
   "metadata": {},
   "outputs": [
    {
     "data": {
      "text/html": [
       "<div>\n",
       "<style scoped>\n",
       "    .dataframe tbody tr th:only-of-type {\n",
       "        vertical-align: middle;\n",
       "    }\n",
       "\n",
       "    .dataframe tbody tr th {\n",
       "        vertical-align: top;\n",
       "    }\n",
       "\n",
       "    .dataframe thead th {\n",
       "        text-align: right;\n",
       "    }\n",
       "</style>\n",
       "<table border=\"1\" class=\"dataframe\">\n",
       "  <thead>\n",
       "    <tr style=\"text-align: right;\">\n",
       "      <th></th>\n",
       "      <th>children</th>\n",
       "      <th>days_employed</th>\n",
       "      <th>dob_years</th>\n",
       "      <th>education</th>\n",
       "      <th>education_id</th>\n",
       "      <th>family_status</th>\n",
       "      <th>family_status_id</th>\n",
       "      <th>gender</th>\n",
       "      <th>income_type</th>\n",
       "      <th>debt</th>\n",
       "      <th>total_income</th>\n",
       "      <th>purpose</th>\n",
       "      <th>age_group</th>\n",
       "    </tr>\n",
       "  </thead>\n",
       "  <tbody>\n",
       "    <tr>\n",
       "      <th>0</th>\n",
       "      <td>1</td>\n",
       "      <td>8437.0</td>\n",
       "      <td>42</td>\n",
       "      <td>bachelor's degree</td>\n",
       "      <td>0</td>\n",
       "      <td>married</td>\n",
       "      <td>0</td>\n",
       "      <td>F</td>\n",
       "      <td>employee</td>\n",
       "      <td>0</td>\n",
       "      <td>40620.102</td>\n",
       "      <td>real estate</td>\n",
       "      <td>41-50</td>\n",
       "    </tr>\n",
       "    <tr>\n",
       "      <th>1</th>\n",
       "      <td>1</td>\n",
       "      <td>4024.0</td>\n",
       "      <td>36</td>\n",
       "      <td>secondary education</td>\n",
       "      <td>1</td>\n",
       "      <td>married</td>\n",
       "      <td>0</td>\n",
       "      <td>F</td>\n",
       "      <td>employee</td>\n",
       "      <td>0</td>\n",
       "      <td>17932.802</td>\n",
       "      <td>car</td>\n",
       "      <td>31-40</td>\n",
       "    </tr>\n",
       "    <tr>\n",
       "      <th>2</th>\n",
       "      <td>0</td>\n",
       "      <td>5623.0</td>\n",
       "      <td>33</td>\n",
       "      <td>secondary education</td>\n",
       "      <td>1</td>\n",
       "      <td>married</td>\n",
       "      <td>0</td>\n",
       "      <td>M</td>\n",
       "      <td>employee</td>\n",
       "      <td>0</td>\n",
       "      <td>23341.752</td>\n",
       "      <td>real estate</td>\n",
       "      <td>31-40</td>\n",
       "    </tr>\n",
       "    <tr>\n",
       "      <th>3</th>\n",
       "      <td>3</td>\n",
       "      <td>4124.0</td>\n",
       "      <td>32</td>\n",
       "      <td>secondary education</td>\n",
       "      <td>1</td>\n",
       "      <td>married</td>\n",
       "      <td>0</td>\n",
       "      <td>M</td>\n",
       "      <td>employee</td>\n",
       "      <td>0</td>\n",
       "      <td>42820.568</td>\n",
       "      <td>education</td>\n",
       "      <td>31-40</td>\n",
       "    </tr>\n",
       "    <tr>\n",
       "      <th>4</th>\n",
       "      <td>0</td>\n",
       "      <td>14177.0</td>\n",
       "      <td>53</td>\n",
       "      <td>secondary education</td>\n",
       "      <td>1</td>\n",
       "      <td>civil partnership</td>\n",
       "      <td>1</td>\n",
       "      <td>F</td>\n",
       "      <td>retiree</td>\n",
       "      <td>0</td>\n",
       "      <td>25378.572</td>\n",
       "      <td>wedding</td>\n",
       "      <td>51-60</td>\n",
       "    </tr>\n",
       "    <tr>\n",
       "      <th>5</th>\n",
       "      <td>0</td>\n",
       "      <td>926.0</td>\n",
       "      <td>27</td>\n",
       "      <td>bachelor's degree</td>\n",
       "      <td>0</td>\n",
       "      <td>civil partnership</td>\n",
       "      <td>1</td>\n",
       "      <td>M</td>\n",
       "      <td>business</td>\n",
       "      <td>0</td>\n",
       "      <td>40922.170</td>\n",
       "      <td>real estate</td>\n",
       "      <td>20-30</td>\n",
       "    </tr>\n",
       "    <tr>\n",
       "      <th>6</th>\n",
       "      <td>0</td>\n",
       "      <td>2879.0</td>\n",
       "      <td>43</td>\n",
       "      <td>bachelor's degree</td>\n",
       "      <td>0</td>\n",
       "      <td>married</td>\n",
       "      <td>0</td>\n",
       "      <td>F</td>\n",
       "      <td>business</td>\n",
       "      <td>0</td>\n",
       "      <td>38484.156</td>\n",
       "      <td>real estate</td>\n",
       "      <td>41-50</td>\n",
       "    </tr>\n",
       "    <tr>\n",
       "      <th>7</th>\n",
       "      <td>0</td>\n",
       "      <td>152.0</td>\n",
       "      <td>50</td>\n",
       "      <td>secondary education</td>\n",
       "      <td>1</td>\n",
       "      <td>married</td>\n",
       "      <td>0</td>\n",
       "      <td>M</td>\n",
       "      <td>employee</td>\n",
       "      <td>0</td>\n",
       "      <td>21731.829</td>\n",
       "      <td>education</td>\n",
       "      <td>41-50</td>\n",
       "    </tr>\n",
       "    <tr>\n",
       "      <th>8</th>\n",
       "      <td>2</td>\n",
       "      <td>6929.0</td>\n",
       "      <td>35</td>\n",
       "      <td>bachelor's degree</td>\n",
       "      <td>0</td>\n",
       "      <td>civil partnership</td>\n",
       "      <td>1</td>\n",
       "      <td>F</td>\n",
       "      <td>employee</td>\n",
       "      <td>0</td>\n",
       "      <td>15337.093</td>\n",
       "      <td>wedding</td>\n",
       "      <td>31-40</td>\n",
       "    </tr>\n",
       "    <tr>\n",
       "      <th>9</th>\n",
       "      <td>0</td>\n",
       "      <td>2188.0</td>\n",
       "      <td>41</td>\n",
       "      <td>secondary education</td>\n",
       "      <td>1</td>\n",
       "      <td>married</td>\n",
       "      <td>0</td>\n",
       "      <td>M</td>\n",
       "      <td>employee</td>\n",
       "      <td>0</td>\n",
       "      <td>23108.150</td>\n",
       "      <td>real estate</td>\n",
       "      <td>41-50</td>\n",
       "    </tr>\n",
       "    <tr>\n",
       "      <th>10</th>\n",
       "      <td>2</td>\n",
       "      <td>4171.0</td>\n",
       "      <td>36</td>\n",
       "      <td>bachelor's degree</td>\n",
       "      <td>0</td>\n",
       "      <td>married</td>\n",
       "      <td>0</td>\n",
       "      <td>M</td>\n",
       "      <td>business</td>\n",
       "      <td>0</td>\n",
       "      <td>18230.959</td>\n",
       "      <td>real estate</td>\n",
       "      <td>31-40</td>\n",
       "    </tr>\n",
       "    <tr>\n",
       "      <th>11</th>\n",
       "      <td>0</td>\n",
       "      <td>792.0</td>\n",
       "      <td>40</td>\n",
       "      <td>secondary education</td>\n",
       "      <td>1</td>\n",
       "      <td>married</td>\n",
       "      <td>0</td>\n",
       "      <td>F</td>\n",
       "      <td>employee</td>\n",
       "      <td>0</td>\n",
       "      <td>12331.077</td>\n",
       "      <td>real estate</td>\n",
       "      <td>31-40</td>\n",
       "    </tr>\n",
       "    <tr>\n",
       "      <th>13</th>\n",
       "      <td>0</td>\n",
       "      <td>1846.0</td>\n",
       "      <td>54</td>\n",
       "      <td>some college</td>\n",
       "      <td>2</td>\n",
       "      <td>married</td>\n",
       "      <td>0</td>\n",
       "      <td>F</td>\n",
       "      <td>employee</td>\n",
       "      <td>0</td>\n",
       "      <td>20873.317</td>\n",
       "      <td>car</td>\n",
       "      <td>51-60</td>\n",
       "    </tr>\n",
       "    <tr>\n",
       "      <th>14</th>\n",
       "      <td>0</td>\n",
       "      <td>1844.0</td>\n",
       "      <td>56</td>\n",
       "      <td>bachelor's degree</td>\n",
       "      <td>0</td>\n",
       "      <td>civil partnership</td>\n",
       "      <td>1</td>\n",
       "      <td>F</td>\n",
       "      <td>business</td>\n",
       "      <td>1</td>\n",
       "      <td>26420.466</td>\n",
       "      <td>real estate</td>\n",
       "      <td>51-60</td>\n",
       "    </tr>\n",
       "    <tr>\n",
       "      <th>15</th>\n",
       "      <td>1</td>\n",
       "      <td>972.0</td>\n",
       "      <td>26</td>\n",
       "      <td>secondary education</td>\n",
       "      <td>1</td>\n",
       "      <td>married</td>\n",
       "      <td>0</td>\n",
       "      <td>F</td>\n",
       "      <td>employee</td>\n",
       "      <td>0</td>\n",
       "      <td>18691.345</td>\n",
       "      <td>real estate</td>\n",
       "      <td>20-30</td>\n",
       "    </tr>\n",
       "    <tr>\n",
       "      <th>16</th>\n",
       "      <td>0</td>\n",
       "      <td>1719.0</td>\n",
       "      <td>35</td>\n",
       "      <td>secondary education</td>\n",
       "      <td>1</td>\n",
       "      <td>married</td>\n",
       "      <td>0</td>\n",
       "      <td>F</td>\n",
       "      <td>employee</td>\n",
       "      <td>0</td>\n",
       "      <td>46272.433</td>\n",
       "      <td>real estate</td>\n",
       "      <td>31-40</td>\n",
       "    </tr>\n",
       "    <tr>\n",
       "      <th>17</th>\n",
       "      <td>0</td>\n",
       "      <td>2369.0</td>\n",
       "      <td>33</td>\n",
       "      <td>bachelor's degree</td>\n",
       "      <td>0</td>\n",
       "      <td>civil partnership</td>\n",
       "      <td>1</td>\n",
       "      <td>M</td>\n",
       "      <td>employee</td>\n",
       "      <td>0</td>\n",
       "      <td>14465.694</td>\n",
       "      <td>real estate</td>\n",
       "      <td>31-40</td>\n",
       "    </tr>\n",
       "    <tr>\n",
       "      <th>18</th>\n",
       "      <td>0</td>\n",
       "      <td>16678.0</td>\n",
       "      <td>53</td>\n",
       "      <td>secondary education</td>\n",
       "      <td>1</td>\n",
       "      <td>widow / widower</td>\n",
       "      <td>2</td>\n",
       "      <td>F</td>\n",
       "      <td>retiree</td>\n",
       "      <td>0</td>\n",
       "      <td>9091.804</td>\n",
       "      <td>car</td>\n",
       "      <td>51-60</td>\n",
       "    </tr>\n",
       "    <tr>\n",
       "      <th>19</th>\n",
       "      <td>0</td>\n",
       "      <td>10038.0</td>\n",
       "      <td>48</td>\n",
       "      <td>secondary education</td>\n",
       "      <td>1</td>\n",
       "      <td>divorced</td>\n",
       "      <td>3</td>\n",
       "      <td>F</td>\n",
       "      <td>employee</td>\n",
       "      <td>0</td>\n",
       "      <td>38852.977</td>\n",
       "      <td>car</td>\n",
       "      <td>41-50</td>\n",
       "    </tr>\n",
       "    <tr>\n",
       "      <th>20</th>\n",
       "      <td>1</td>\n",
       "      <td>1311.0</td>\n",
       "      <td>36</td>\n",
       "      <td>secondary education</td>\n",
       "      <td>1</td>\n",
       "      <td>married</td>\n",
       "      <td>0</td>\n",
       "      <td>M</td>\n",
       "      <td>employee</td>\n",
       "      <td>0</td>\n",
       "      <td>33528.423</td>\n",
       "      <td>real estate</td>\n",
       "      <td>31-40</td>\n",
       "    </tr>\n",
       "  </tbody>\n",
       "</table>\n",
       "</div>"
      ],
      "text/plain": [
       "    children  days_employed  dob_years            education  education_id  \\\n",
       "0          1         8437.0         42    bachelor's degree             0   \n",
       "1          1         4024.0         36  secondary education             1   \n",
       "2          0         5623.0         33  secondary education             1   \n",
       "3          3         4124.0         32  secondary education             1   \n",
       "4          0        14177.0         53  secondary education             1   \n",
       "5          0          926.0         27    bachelor's degree             0   \n",
       "6          0         2879.0         43    bachelor's degree             0   \n",
       "7          0          152.0         50  secondary education             1   \n",
       "8          2         6929.0         35    bachelor's degree             0   \n",
       "9          0         2188.0         41  secondary education             1   \n",
       "10         2         4171.0         36    bachelor's degree             0   \n",
       "11         0          792.0         40  secondary education             1   \n",
       "13         0         1846.0         54         some college             2   \n",
       "14         0         1844.0         56    bachelor's degree             0   \n",
       "15         1          972.0         26  secondary education             1   \n",
       "16         0         1719.0         35  secondary education             1   \n",
       "17         0         2369.0         33    bachelor's degree             0   \n",
       "18         0        16678.0         53  secondary education             1   \n",
       "19         0        10038.0         48  secondary education             1   \n",
       "20         1         1311.0         36  secondary education             1   \n",
       "\n",
       "        family_status  family_status_id gender income_type  debt  \\\n",
       "0             married                 0      F    employee     0   \n",
       "1             married                 0      F    employee     0   \n",
       "2             married                 0      M    employee     0   \n",
       "3             married                 0      M    employee     0   \n",
       "4   civil partnership                 1      F     retiree     0   \n",
       "5   civil partnership                 1      M    business     0   \n",
       "6             married                 0      F    business     0   \n",
       "7             married                 0      M    employee     0   \n",
       "8   civil partnership                 1      F    employee     0   \n",
       "9             married                 0      M    employee     0   \n",
       "10            married                 0      M    business     0   \n",
       "11            married                 0      F    employee     0   \n",
       "13            married                 0      F    employee     0   \n",
       "14  civil partnership                 1      F    business     1   \n",
       "15            married                 0      F    employee     0   \n",
       "16            married                 0      F    employee     0   \n",
       "17  civil partnership                 1      M    employee     0   \n",
       "18    widow / widower                 2      F     retiree     0   \n",
       "19           divorced                 3      F    employee     0   \n",
       "20            married                 0      M    employee     0   \n",
       "\n",
       "    total_income      purpose age_group  \n",
       "0      40620.102  real estate     41-50  \n",
       "1      17932.802          car     31-40  \n",
       "2      23341.752  real estate     31-40  \n",
       "3      42820.568    education     31-40  \n",
       "4      25378.572      wedding     51-60  \n",
       "5      40922.170  real estate     20-30  \n",
       "6      38484.156  real estate     41-50  \n",
       "7      21731.829    education     41-50  \n",
       "8      15337.093      wedding     31-40  \n",
       "9      23108.150  real estate     41-50  \n",
       "10     18230.959  real estate     31-40  \n",
       "11     12331.077  real estate     31-40  \n",
       "13     20873.317          car     51-60  \n",
       "14     26420.466  real estate     51-60  \n",
       "15     18691.345  real estate     20-30  \n",
       "16     46272.433  real estate     31-40  \n",
       "17     14465.694  real estate     31-40  \n",
       "18      9091.804          car     51-60  \n",
       "19     38852.977          car     41-50  \n",
       "20     33528.423  real estate     31-40  "
      ]
     },
     "execution_count": 90,
     "metadata": {},
     "output_type": "execute_result"
    }
   ],
   "source": [
    "# Crea una tabla sin valores ausentes y muestra algunas de sus filas para asegurarte de que se ve bien\n",
    "\n",
    "scores_not_na=scores.loc[scores['days_employed'].isna()==False]\n",
    "\n",
    "scores_not_na.head(20)\n",
    "\n"
   ]
  },
  {
   "cell_type": "code",
   "execution_count": 91,
   "metadata": {},
   "outputs": [
    {
     "name": "stdout",
     "output_type": "stream",
     "text": [
      "           total_income\n",
      "age_group              \n",
      "20-30      25838.430041\n",
      "31-40      28417.824539\n",
      "41-50      28386.234907\n",
      "51-60      25482.856294\n",
      "61-70      23245.390243\n",
      "71-80      19575.454327\n",
      "\n",
      "                     total_income\n",
      "education                        \n",
      "Graduate Degree      27960.024667\n",
      "bachelor's degree    33156.584261\n",
      "primary education    21169.373448\n",
      "secondary education  24617.200041\n",
      "some college         29035.057865\n",
      "\n",
      "                             total_income\n",
      "income_type                              \n",
      "business                     32397.307219\n",
      "civil servant                27361.316126\n",
      "employee                     25824.679592\n",
      "entrepreneur                 79866.103000\n",
      "paternity / maternity leave   8612.661000\n",
      "retiree                      21920.621014\n",
      "student                      15712.260000\n"
     ]
    }
   ],
   "source": [
    "# Examina los valores medios de los ingresos en función de los factores que identificaste\n",
    "\n",
    "print(scores_not_na.pivot_table(index='age_group',values='total_income'))\n",
    "print()\n",
    "print(scores_not_na.pivot_table(index='education',values='total_income'))\n",
    "print()\n",
    "print(scores_not_na.pivot_table(index='income_type',values='total_income'))"
   ]
  },
  {
   "cell_type": "code",
   "execution_count": 92,
   "metadata": {
    "scrolled": true
   },
   "outputs": [
    {
     "name": "stdout",
     "output_type": "stream",
     "text": [
      "           total_income\n",
      "age_group              \n",
      "20-30        22967.8075\n",
      "31-40        24870.5560\n",
      "41-50        24569.9680\n",
      "51-60        22056.7710\n",
      "61-70        19705.8550\n",
      "71-80        18611.5935\n",
      "\n",
      "                     total_income\n",
      "education                        \n",
      "Graduate Degree        25161.5835\n",
      "bachelor's degree      28041.5435\n",
      "primary education      18741.9760\n",
      "secondary education    21854.8445\n",
      "some college           25608.7945\n",
      "\n",
      "                             total_income\n",
      "income_type                              \n",
      "business                       27563.0285\n",
      "civil servant                  24083.5065\n",
      "employee                       22815.1035\n",
      "entrepreneur                   79866.1030\n",
      "paternity / maternity leave     8612.6610\n",
      "retiree                        18989.2090\n",
      "student                        15712.2600\n"
     ]
    }
   ],
   "source": [
    "# Examina los valores medianos de los ingresos en función de los factores que identificaste\n",
    "print(scores_not_na.pivot_table(index='age_group',values='total_income', aggfunc='median'))\n",
    "print()\n",
    "print(scores_not_na.pivot_table(index='education',values='total_income', aggfunc='median'))\n",
    "print()\n",
    "print(scores_not_na.pivot_table(index='income_type',values='total_income', aggfunc='median'))"
   ]
  },
  {
   "cell_type": "markdown",
   "metadata": {},
   "source": [
    "Podemos encontrar mucha discrepancia entre los valores medios y medianos en los tres aspectos. Esto puede deberse a los altos incrementos en puestos de alta jerarquía, que difieren mucho de los puestos más comunes. Por esto mismo es que para los cálculos se utilizarán valores medianos, que representan un ingreso más común.\n",
    "\n",
    "Así mismo observamos que sin considerar los grupos de edad más avanzada que dependen principalmente de apoyos y jubilaciones, que la edad no es un factor tan determinante. Al contrario el género y el tipo de ingreso son más determinantes de una diferencia de ingresos.\n",
    "\n",
    "Para la función que determinará el ingreso total se terminará considerando un promedio de las medianas correspondientes a estos tres factores para cada individuo."
   ]
  },
  {
   "cell_type": "code",
   "execution_count": 93,
   "metadata": {},
   "outputs": [],
   "source": [
    "#  Escribe una función que usaremos para completar los valores ausentes\n",
    "        \n",
    "def total_income_filler(row):\n",
    "    age=row['age_group']\n",
    "    ed=row['education']\n",
    "    inc=row['income_type']\n",
    "    if pd.isna(row['total_income']):\n",
    "        try:\n",
    "            det = scores_not_na.loc[(scores_not_na['age_group']==age)&(scores_not_na['education']==ed)&(scores_not_na['income_type']==inc)]['total_income'].median()\n",
    "        except:\n",
    "            det = float('nan')\n",
    "        return det\n",
    "    else:\n",
    "        return row['total_income']"
   ]
  },
  {
   "cell_type": "code",
   "execution_count": 94,
   "metadata": {},
   "outputs": [
    {
     "name": "stdout",
     "output_type": "stream",
     "text": [
      "nan\n",
      "\n",
      "23030.247000000007\n",
      "\n",
      "5.0\n",
      "\n",
      "  age_group          education income_type  total_income\n",
      "0     20-30    Graduate Degree    employee           NaN\n",
      "1     61-70  bachelor's degree     retiree     23030.247\n",
      "2     51-60       some college    employee         5.000\n"
     ]
    }
   ],
   "source": [
    "# Comprueba si funciona\n",
    "\n",
    "test_table_data={'age_group':['20-30','61-70','51-60'],'education':['Graduate Degree',\"bachelor's degree\",'some college'],'income_type':['employee','retiree','employee'],'total_income':[float('nan'),float('nan'),5]}\n",
    "test_table = pd.DataFrame(test_table_data)\n",
    "\n",
    "print(total_income_filler(test_table.iloc[0]))\n",
    "print()\n",
    "print(total_income_filler(test_table.iloc[1]))\n",
    "print()\n",
    "print(total_income_filler(test_table.iloc[2]))\n",
    "print()\n",
    "\n",
    "test_table['total_income']=test_table.apply(total_income_filler,axis=1)\n",
    "\n",
    "print(test_table)\n"
   ]
  },
  {
   "cell_type": "code",
   "execution_count": 95,
   "metadata": {},
   "outputs": [],
   "source": [
    "# Aplícalo a cada fila\n",
    "scores['total_income']=scores.apply(total_income_filler,axis=1)"
   ]
  },
  {
   "cell_type": "code",
   "execution_count": 96,
   "metadata": {},
   "outputs": [
    {
     "name": "stdout",
     "output_type": "stream",
     "text": [
      "<class 'pandas.core.frame.DataFrame'>\n",
      "Int64Index: 21369 entries, 0 to 21524\n",
      "Data columns (total 13 columns):\n",
      " #   Column            Non-Null Count  Dtype  \n",
      "---  ------            --------------  -----  \n",
      " 0   children          21369 non-null  int64  \n",
      " 1   days_employed     19205 non-null  float64\n",
      " 2   dob_years         21369 non-null  int64  \n",
      " 3   education         21369 non-null  object \n",
      " 4   education_id      21369 non-null  int64  \n",
      " 5   family_status     21369 non-null  object \n",
      " 6   family_status_id  21369 non-null  int64  \n",
      " 7   gender            21369 non-null  object \n",
      " 8   income_type       21369 non-null  object \n",
      " 9   debt              21369 non-null  int64  \n",
      " 10  total_income      21365 non-null  float64\n",
      " 11  purpose           21369 non-null  object \n",
      " 12  age_group         21369 non-null  object \n",
      "dtypes: float64(2), int64(5), object(6)\n",
      "memory usage: 2.3+ MB\n",
      "    children  days_employed  dob_years            education  education_id  \\\n",
      "0          1         8437.0         42    bachelor's degree             0   \n",
      "1          1         4024.0         36  secondary education             1   \n",
      "2          0         5623.0         33  secondary education             1   \n",
      "3          3         4124.0         32  secondary education             1   \n",
      "4          0        14177.0         53  secondary education             1   \n",
      "5          0          926.0         27    bachelor's degree             0   \n",
      "6          0         2879.0         43    bachelor's degree             0   \n",
      "7          0          152.0         50  secondary education             1   \n",
      "8          2         6929.0         35    bachelor's degree             0   \n",
      "9          0         2188.0         41  secondary education             1   \n",
      "10         2         4171.0         36    bachelor's degree             0   \n",
      "11         0          792.0         40  secondary education             1   \n",
      "12         0            NaN         65  secondary education             1   \n",
      "13         0         1846.0         54         some college             2   \n",
      "14         0         1844.0         56    bachelor's degree             0   \n",
      "\n",
      "        family_status  family_status_id gender income_type  debt  \\\n",
      "0             married                 0      F    employee     0   \n",
      "1             married                 0      F    employee     0   \n",
      "2             married                 0      M    employee     0   \n",
      "3             married                 0      M    employee     0   \n",
      "4   civil partnership                 1      F     retiree     0   \n",
      "5   civil partnership                 1      M    business     0   \n",
      "6             married                 0      F    business     0   \n",
      "7             married                 0      M    employee     0   \n",
      "8   civil partnership                 1      F    employee     0   \n",
      "9             married                 0      M    employee     0   \n",
      "10            married                 0      M    business     0   \n",
      "11            married                 0      F    employee     0   \n",
      "12  civil partnership                 1      M     retiree     0   \n",
      "13            married                 0      F    employee     0   \n",
      "14  civil partnership                 1      F    business     1   \n",
      "\n",
      "    total_income      purpose age_group  \n",
      "0      40620.102  real estate     41-50  \n",
      "1      17932.802          car     31-40  \n",
      "2      23341.752  real estate     31-40  \n",
      "3      42820.568    education     31-40  \n",
      "4      25378.572      wedding     51-60  \n",
      "5      40922.170  real estate     20-30  \n",
      "6      38484.156  real estate     41-50  \n",
      "7      21731.829    education     41-50  \n",
      "8      15337.093      wedding     31-40  \n",
      "9      23108.150  real estate     41-50  \n",
      "10     18230.959  real estate     31-40  \n",
      "11     12331.077  real estate     31-40  \n",
      "12     17880.050      wedding     61-70  \n",
      "13     20873.317          car     51-60  \n",
      "14     26420.466  real estate     51-60  \n",
      "\n",
      "age_group\n",
      "20-30    22796.4025\n",
      "31-40    24934.2570\n",
      "41-50    24257.1860\n",
      "51-60    21960.3000\n",
      "61-70    19353.9990\n",
      "71-80    18146.7015\n",
      "Name: total_income, dtype: float64\n",
      "\n",
      "education\n",
      "Graduate Degree        25161.5835\n",
      "bachelor's degree      27956.2445\n",
      "primary education      18741.9760\n",
      "secondary education    21985.6510\n",
      "some college           25618.4640\n",
      "Name: total_income, dtype: float64\n",
      "\n",
      "income_type\n",
      "business                       27187.1910\n",
      "civil servant                  23777.5150\n",
      "employee                       22210.3235\n",
      "entrepreneur                   79866.1030\n",
      "paternity / maternity leave     8612.6610\n",
      "retiree                        18557.3210\n",
      "student                        15712.2600\n",
      "Name: total_income, dtype: float64\n"
     ]
    }
   ],
   "source": [
    "# Comprueba si tenemos algún error\n",
    "\n",
    "scores.info()\n",
    "\n",
    "print(scores.head(15))\n",
    "print()\n",
    "print(scores.groupby('age_group')['total_income'].median())\n",
    "print()\n",
    "print(scores.groupby('education')['total_income'].median())\n",
    "print()\n",
    "print(scores.groupby('income_type')['total_income'].median())"
   ]
  },
  {
   "cell_type": "markdown",
   "metadata": {},
   "source": [
    "Los datos han sido sustituidos, comprobamos que ya sólo existen 4 valores vacíos, los cuales serán omitidos dado el bajo porcentaje y que calcular con menos variables sería menos fiable. Los valores ya existentes se conservaron y que aunque las medianas sí llegaron a variar un poco, no provocaron cambios drásticos en las mediciones."
   ]
  },
  {
   "cell_type": "code",
   "execution_count": 97,
   "metadata": {},
   "outputs": [
    {
     "name": "stdout",
     "output_type": "stream",
     "text": [
      "<class 'pandas.core.frame.DataFrame'>\n",
      "Int64Index: 21365 entries, 0 to 21524\n",
      "Data columns (total 13 columns):\n",
      " #   Column            Non-Null Count  Dtype  \n",
      "---  ------            --------------  -----  \n",
      " 0   children          21365 non-null  int64  \n",
      " 1   days_employed     19205 non-null  float64\n",
      " 2   dob_years         21365 non-null  int64  \n",
      " 3   education         21365 non-null  object \n",
      " 4   education_id      21365 non-null  int64  \n",
      " 5   family_status     21365 non-null  object \n",
      " 6   family_status_id  21365 non-null  int64  \n",
      " 7   gender            21365 non-null  object \n",
      " 8   income_type       21365 non-null  object \n",
      " 9   debt              21365 non-null  int64  \n",
      " 10  total_income      21365 non-null  float64\n",
      " 11  purpose           21365 non-null  object \n",
      " 12  age_group         21365 non-null  object \n",
      "dtypes: float64(2), int64(5), object(6)\n",
      "memory usage: 2.3+ MB\n",
      "Empty DataFrame\n",
      "Columns: [children, days_employed, dob_years, education, education_id, family_status, family_status_id, gender, income_type, debt, total_income, purpose, age_group]\n",
      "Index: []\n"
     ]
    }
   ],
   "source": [
    "scores=scores.dropna(subset=['total_income'])\n",
    "\n",
    "scores.info()\n",
    "\n",
    "print(scores.loc[scores['total_income'].isna()])"
   ]
  },
  {
   "cell_type": "markdown",
   "metadata": {},
   "source": [
    "###  Restaurar valores en `days_employed`"
   ]
  },
  {
   "cell_type": "markdown",
   "metadata": {},
   "source": [
    "Para llenar los valores vacíos respecto a días empleado, se considerarán igualmente los valores de edad, tipo de ingreso y género, pero además se considerará el factor de número de hijos y nivel de estudios; esto debido a que el tiempo de estudios y de cuidado de los hijos pudieron afectar el inicio de su vida laboral. Procederemos a considerar el impacto de las medias y medianas de estas variables."
   ]
  },
  {
   "cell_type": "code",
   "execution_count": 98,
   "metadata": {
    "pycharm": {
     "name": "#%%\n"
    }
   },
   "outputs": [
    {
     "name": "stdout",
     "output_type": "stream",
     "text": [
      "           days_employed\n",
      "age_group               \n",
      "20-30             1043.0\n",
      "31-40             1613.0\n",
      "41-50             2199.0\n",
      "51-60             6481.0\n",
      "61-70            14844.0\n",
      "71-80            15006.5\n",
      "\n",
      "        days_employed\n",
      "gender               \n",
      "F              2534.0\n",
      "M              1659.0\n",
      "\n",
      "                             days_employed\n",
      "income_type                               \n",
      "business                            1547.5\n",
      "civil servant                       2672.5\n",
      "employee                            1575.5\n",
      "entrepreneur                         520.0\n",
      "paternity / maternity leave         3296.0\n",
      "retiree                            15206.5\n",
      "student                              578.0\n",
      "\n",
      "          days_employed\n",
      "children               \n",
      "0                2612.5\n",
      "1                1666.0\n",
      "2                1677.5\n",
      "3                1733.5\n",
      "4                1905.5\n",
      "5                1231.5\n",
      "\n",
      "              days_employed\n",
      "education_id               \n",
      "0                    1891.5\n",
      "1                    2383.5\n",
      "2                    1209.0\n",
      "3                    2940.0\n",
      "4                    5660.0\n"
     ]
    }
   ],
   "source": [
    "# Distribución de las medianas de `days_employed` en función de los parámetros identificados\n",
    "\n",
    "print(scores_not_na.pivot_table(index='age_group', values='days_employed',aggfunc='median'))\n",
    "print()\n",
    "print(scores_not_na.pivot_table(index='gender', values='days_employed',aggfunc='median'))\n",
    "print()\n",
    "print(scores_not_na.pivot_table(index='income_type', values='days_employed',aggfunc='median'))\n",
    "print()\n",
    "print(scores_not_na.pivot_table(index='children', values='days_employed',aggfunc='median'))\n",
    "print()\n",
    "print(scores_not_na.pivot_table(index='education_id', values='days_employed',aggfunc='median'))\n"
   ]
  },
  {
   "cell_type": "code",
   "execution_count": 99,
   "metadata": {},
   "outputs": [
    {
     "name": "stdout",
     "output_type": "stream",
     "text": [
      "           days_employed\n",
      "age_group               \n",
      "20-30        1278.858547\n",
      "31-40        2094.910613\n",
      "41-50        3252.854492\n",
      "51-60        8237.764125\n",
      "61-70       12823.513469\n",
      "71-80       13900.989796\n",
      "\n",
      "        days_employed\n",
      "gender               \n",
      "F         5289.709749\n",
      "M         3298.547274\n",
      "\n",
      "                             days_employed\n",
      "income_type                               \n",
      "business                       2112.251865\n",
      "civil servant                  3388.011485\n",
      "employee                       2328.101666\n",
      "entrepreneur                    520.000000\n",
      "paternity / maternity leave    3296.000000\n",
      "retiree                       15204.134262\n",
      "student                         578.000000\n",
      "\n",
      "          days_employed\n",
      "children               \n",
      "0           5613.690404\n",
      "1           2902.373080\n",
      "2           2267.288947\n",
      "3           2393.777397\n",
      "4           2604.764706\n",
      "5           1432.000000\n",
      "\n",
      "              days_employed\n",
      "education_id               \n",
      "0               3679.525674\n",
      "1               5007.867809\n",
      "2               2286.449405\n",
      "3               6553.509653\n",
      "4               7304.000000\n"
     ]
    }
   ],
   "source": [
    "# Distribución de las medias de `days_employed` en función de los parámetros identificados\n",
    "print(scores_not_na.pivot_table(index='age_group', values='days_employed',aggfunc='mean'))\n",
    "print()\n",
    "print(scores_not_na.pivot_table(index='gender', values='days_employed',aggfunc='mean'))\n",
    "print()\n",
    "print(scores_not_na.pivot_table(index='income_type', values='days_employed',aggfunc='mean'))\n",
    "print()\n",
    "print(scores_not_na.pivot_table(index='children', values='days_employed',aggfunc='mean'))\n",
    "print()\n",
    "print(scores_not_na.pivot_table(index='education_id', values='days_employed',aggfunc='mean'))"
   ]
  },
  {
   "cell_type": "markdown",
   "metadata": {},
   "source": [
    "Dado lo anterior encontramos nuevamente una diferencia importante entre medias y medianas tanto para el género y la edad, pero que mantienen una escalabilidad en cuanto al número de años vividos y la diferencia de la situación laboral de hombres y mujeres. En cuanto al tipo de ingreso podemos observar que media y mediana es prácticamente igual. Y donde encontramos unos resultados algo aleatorios (se tiene en consideración que el education ID no está ordenado), por lo que dejaremos fuera a estas variables.\n",
    "\n",
    "Nos concentraremos en las medianas, dado que son más representativas de la sociedad en general, como se realizó con la otra columna."
   ]
  },
  {
   "cell_type": "code",
   "execution_count": 100,
   "metadata": {},
   "outputs": [],
   "source": [
    "# Escribamos una función que calcule medias o medianas (dependiendo de tu decisión) según el parámetro identificado\n",
    "def days_employed_filler(row):\n",
    "    age=row['age_group']\n",
    "    gen=row['gender']\n",
    "    inc=row['income_type']\n",
    "    if pd.isna(row['days_employed']):\n",
    "        try:\n",
    "            det=scores_not_na.loc[(scores_not_na['age_group']==age)&(scores_not_na['gender']==gen)&(scores_not_na['income_type']==inc)]['days_employed'].median()\n",
    "        except:\n",
    "            det = float('nan')\n",
    "        return det\n",
    "    else:\n",
    "        return row['days_employed']"
   ]
  },
  {
   "cell_type": "code",
   "execution_count": 101,
   "metadata": {},
   "outputs": [
    {
     "name": "stdout",
     "output_type": "stream",
     "text": [
      "971.0\n",
      "\n",
      "15275.0\n",
      "\n",
      "7000.0\n",
      "\n",
      "  age_group          education income_type  total_income\n",
      "0     20-30    Graduate Degree    employee           NaN\n",
      "1     61-70  bachelor's degree     retiree     23030.247\n",
      "2     51-60       some college    employee         5.000\n"
     ]
    }
   ],
   "source": [
    "# Comprueba que la función funciona\n",
    "\n",
    "test_table_data_2={'age_group':['20-30','61-70','51-60'],'gender':['M','F','M'],'income_type':['employee','retiree','employee'],'days_employed':[float('nan'),float('nan'),7000]}\n",
    "test_table_2 = pd.DataFrame(test_table_data_2)\n",
    "\n",
    "print(days_employed_filler(test_table_2.iloc[0]))\n",
    "print()\n",
    "print(days_employed_filler(test_table_2.iloc[1]))\n",
    "print()\n",
    "print(days_employed_filler(test_table_2.iloc[2]))\n",
    "print()\n",
    "\n",
    "test_table_2['days_employed']=test_table_2.apply(days_employed_filler,axis=1)\n",
    "\n",
    "print(test_table)"
   ]
  },
  {
   "cell_type": "code",
   "execution_count": 102,
   "metadata": {},
   "outputs": [],
   "source": [
    "# Aplicar la función al income_type\n",
    "\n",
    "scores['days_employed']=scores.apply(days_employed_filler,axis=1)"
   ]
  },
  {
   "cell_type": "code",
   "execution_count": 103,
   "metadata": {},
   "outputs": [
    {
     "name": "stdout",
     "output_type": "stream",
     "text": [
      "<class 'pandas.core.frame.DataFrame'>\n",
      "Int64Index: 21365 entries, 0 to 21524\n",
      "Data columns (total 13 columns):\n",
      " #   Column            Non-Null Count  Dtype  \n",
      "---  ------            --------------  -----  \n",
      " 0   children          21365 non-null  int64  \n",
      " 1   days_employed     21365 non-null  float64\n",
      " 2   dob_years         21365 non-null  int64  \n",
      " 3   education         21365 non-null  object \n",
      " 4   education_id      21365 non-null  int64  \n",
      " 5   family_status     21365 non-null  object \n",
      " 6   family_status_id  21365 non-null  int64  \n",
      " 7   gender            21365 non-null  object \n",
      " 8   income_type       21365 non-null  object \n",
      " 9   debt              21365 non-null  int64  \n",
      " 10  total_income      21365 non-null  float64\n",
      " 11  purpose           21365 non-null  object \n",
      " 12  age_group         21365 non-null  object \n",
      "dtypes: float64(2), int64(5), object(6)\n",
      "memory usage: 2.3+ MB\n",
      "    children  days_employed  dob_years            education  education_id  \\\n",
      "0          1         8437.0         42    bachelor's degree             0   \n",
      "1          1         4024.0         36  secondary education             1   \n",
      "2          0         5623.0         33  secondary education             1   \n",
      "3          3         4124.0         32  secondary education             1   \n",
      "4          0        14177.0         53  secondary education             1   \n",
      "5          0          926.0         27    bachelor's degree             0   \n",
      "6          0         2879.0         43    bachelor's degree             0   \n",
      "7          0          152.0         50  secondary education             1   \n",
      "8          2         6929.0         35    bachelor's degree             0   \n",
      "9          0         2188.0         41  secondary education             1   \n",
      "10         2         4171.0         36    bachelor's degree             0   \n",
      "11         0          792.0         40  secondary education             1   \n",
      "12         0        15111.5         65  secondary education             1   \n",
      "13         0         1846.0         54         some college             2   \n",
      "14         0         1844.0         56    bachelor's degree             0   \n",
      "\n",
      "        family_status  family_status_id gender income_type  debt  \\\n",
      "0             married                 0      F    employee     0   \n",
      "1             married                 0      F    employee     0   \n",
      "2             married                 0      M    employee     0   \n",
      "3             married                 0      M    employee     0   \n",
      "4   civil partnership                 1      F     retiree     0   \n",
      "5   civil partnership                 1      M    business     0   \n",
      "6             married                 0      F    business     0   \n",
      "7             married                 0      M    employee     0   \n",
      "8   civil partnership                 1      F    employee     0   \n",
      "9             married                 0      M    employee     0   \n",
      "10            married                 0      M    business     0   \n",
      "11            married                 0      F    employee     0   \n",
      "12  civil partnership                 1      M     retiree     0   \n",
      "13            married                 0      F    employee     0   \n",
      "14  civil partnership                 1      F    business     1   \n",
      "\n",
      "    total_income      purpose age_group  \n",
      "0      40620.102  real estate     41-50  \n",
      "1      17932.802          car     31-40  \n",
      "2      23341.752  real estate     31-40  \n",
      "3      42820.568    education     31-40  \n",
      "4      25378.572      wedding     51-60  \n",
      "5      40922.170  real estate     20-30  \n",
      "6      38484.156  real estate     41-50  \n",
      "7      21731.829    education     41-50  \n",
      "8      15337.093      wedding     31-40  \n",
      "9      23108.150  real estate     41-50  \n",
      "10     18230.959  real estate     31-40  \n",
      "11     12331.077  real estate     31-40  \n",
      "12     17880.050      wedding     61-70  \n",
      "13     20873.317          car     51-60  \n",
      "14     26420.466  real estate     51-60  \n",
      "\n",
      "age_group\n",
      "20-30    22796.4025\n",
      "31-40    24934.2570\n",
      "41-50    24257.1860\n",
      "51-60    21960.3000\n",
      "61-70    19353.9990\n",
      "71-80    18146.7015\n",
      "Name: total_income, dtype: float64\n",
      "\n",
      "gender\n",
      "F    21963.049\n",
      "M    26320.653\n",
      "Name: total_income, dtype: float64\n",
      "\n",
      "income_type\n",
      "business                       27187.1910\n",
      "civil servant                  23777.5150\n",
      "employee                       22210.3235\n",
      "entrepreneur                   79866.1030\n",
      "paternity / maternity leave     8612.6610\n",
      "retiree                        18557.3210\n",
      "student                        15712.2600\n",
      "Name: total_income, dtype: float64\n"
     ]
    }
   ],
   "source": [
    "# Comprueba si la función funcionó\n",
    "\n",
    "scores.info()\n",
    "\n",
    "print(scores.head(15))\n",
    "print()\n",
    "print(scores.groupby('age_group')['total_income'].median())\n",
    "print()\n",
    "print(scores.groupby('gender')['total_income'].median())\n",
    "print()\n",
    "print(scores.groupby('income_type')['total_income'].median())"
   ]
  },
  {
   "cell_type": "markdown",
   "metadata": {},
   "source": [
    "Como podemos observar, todos los valores ausentes han sido llenados con información relativa a las medianass que nos apoyará con el análisis."
   ]
  },
  {
   "cell_type": "markdown",
   "metadata": {},
   "source": [
    "## Clasificación de datos\n",
    "\n",
    "A continuación crearemos una nueva clasificación respecto al nivel de ingresos."
   ]
  },
  {
   "cell_type": "code",
   "execution_count": 104,
   "metadata": {
    "scrolled": true
   },
   "outputs": [
    {
     "data": {
      "text/plain": [
       "0        40620.102\n",
       "1        17932.802\n",
       "2        23341.752\n",
       "3        42820.568\n",
       "4        25378.572\n",
       "           ...    \n",
       "21520    35966.698\n",
       "21521    24959.969\n",
       "21522    14347.610\n",
       "21523    39054.888\n",
       "21524    13127.587\n",
       "Name: total_income, Length: 21365, dtype: float64"
      ]
     },
     "execution_count": 104,
     "metadata": {},
     "output_type": "execute_result"
    }
   ],
   "source": [
    "# Muestra los valores de los datos seleccionados para la clasificación\n",
    "\n",
    "scores['total_income']"
   ]
  },
  {
   "cell_type": "markdown",
   "metadata": {},
   "source": [
    "Comrpobemos valores únicos."
   ]
  },
  {
   "cell_type": "code",
   "execution_count": 105,
   "metadata": {},
   "outputs": [
    {
     "name": "stdout",
     "output_type": "stream",
     "text": [
      "3306.762\n",
      "362496.645\n"
     ]
    },
    {
     "data": {
      "text/plain": [
       "[3306.762,\n",
       " 3418.824,\n",
       " 3471.216,\n",
       " 3503.298,\n",
       " 3595.641,\n",
       " 3815.153,\n",
       " 3913.227,\n",
       " 4036.463,\n",
       " 4049.374,\n",
       " 4212.77,\n",
       " 4245.348,\n",
       " 4386.4,\n",
       " 4444.179,\n",
       " 4465.254,\n",
       " 4494.861,\n",
       " 4592.45,\n",
       " 4650.812,\n",
       " 4664.644,\n",
       " 4672.012,\n",
       " 4708.271,\n",
       " 4759.97,\n",
       " 4812.103,\n",
       " 4818.545999999999,\n",
       " 4860.001,\n",
       " 4919.749,\n",
       " 5002.295,\n",
       " 5028.623,\n",
       " 5029.439,\n",
       " 5037.321,\n",
       " 5045.56,\n",
       " 5053.838,\n",
       " 5090.55,\n",
       " 5112.186,\n",
       " 5137.573,\n",
       " 5148.514,\n",
       " 5167.9940000000015,\n",
       " 5168.082,\n",
       " 5172.669,\n",
       " 5195.285,\n",
       " 5208.353,\n",
       " 5217.0340000000015,\n",
       " 5220.544,\n",
       " 5259.254,\n",
       " 5274.611,\n",
       " 5288.165,\n",
       " 5290.465,\n",
       " 5330.769,\n",
       " 5331.621,\n",
       " 5335.014,\n",
       " 5402.85,\n",
       " 5409.738,\n",
       " 5430.683000000001,\n",
       " 5443.908,\n",
       " 5452.4940000000015,\n",
       " 5461.996,\n",
       " 5464.092,\n",
       " 5478.583000000001,\n",
       " 5490.018,\n",
       " 5496.834,\n",
       " 5514.581,\n",
       " 5515.539000000002,\n",
       " 5529.334,\n",
       " 5531.2040000000015,\n",
       " 5562.874,\n",
       " 5577.521,\n",
       " 5579.965,\n",
       " 5591.44,\n",
       " 5604.991999999998,\n",
       " 5622.0790000000015,\n",
       " 5630.865,\n",
       " 5639.846,\n",
       " 5651.584,\n",
       " 5703.853,\n",
       " 5768.392,\n",
       " 5772.8780000000015,\n",
       " 5801.651,\n",
       " 5803.271,\n",
       " 5820.374,\n",
       " 5826.733,\n",
       " 5831.255,\n",
       " 5837.099,\n",
       " 5863.853,\n",
       " 5876.366999999998,\n",
       " 5885.856,\n",
       " 5905.745,\n",
       " 5968.521,\n",
       " 5979.176,\n",
       " 5982.694,\n",
       " 6017.603,\n",
       " 6023.274,\n",
       " 6027.214,\n",
       " 6029.458000000001,\n",
       " 6037.916,\n",
       " 6042.769,\n",
       " 6066.085,\n",
       " 6067.147,\n",
       " 6067.397,\n",
       " 6124.012,\n",
       " 6141.791,\n",
       " 6157.545999999999,\n",
       " 6167.401,\n",
       " 6183.627,\n",
       " 6185.945,\n",
       " 6187.263000000001,\n",
       " 6208.323,\n",
       " 6227.21,\n",
       " 6239.686,\n",
       " 6242.321,\n",
       " 6253.313,\n",
       " 6261.519,\n",
       " 6264.531999999998,\n",
       " 6264.665,\n",
       " 6286.894,\n",
       " 6290.377,\n",
       " 6295.399,\n",
       " 6301.408,\n",
       " 6305.036999999998,\n",
       " 6316.23,\n",
       " 6322.163000000001,\n",
       " 6330.524,\n",
       " 6354.569,\n",
       " 6369.195,\n",
       " 6420.49,\n",
       " 6427.379,\n",
       " 6431.765,\n",
       " 6434.8690000000015,\n",
       " 6442.342,\n",
       " 6487.946,\n",
       " 6514.588000000002,\n",
       " 6528.385,\n",
       " 6537.880999999999,\n",
       " 6542.581,\n",
       " 6548.851,\n",
       " 6550.432,\n",
       " 6557.178000000001,\n",
       " 6564.906,\n",
       " 6567.414000000002,\n",
       " 6574.414000000002,\n",
       " 6604.913000000001,\n",
       " 6605.21,\n",
       " 6611.845,\n",
       " 6625.892,\n",
       " 6634.772,\n",
       " 6637.729,\n",
       " 6646.607,\n",
       " 6649.353,\n",
       " 6666.741,\n",
       " 6689.661,\n",
       " 6701.803000000001,\n",
       " 6703.261,\n",
       " 6704.075,\n",
       " 6709.151,\n",
       " 6730.584,\n",
       " 6731.343000000002,\n",
       " 6734.609,\n",
       " 6744.18,\n",
       " 6747.052,\n",
       " 6751.776999999999,\n",
       " 6753.853,\n",
       " 6754.893,\n",
       " 6757.274,\n",
       " 6764.879,\n",
       " 6766.734,\n",
       " 6770.851,\n",
       " 6771.186,\n",
       " 6774.802,\n",
       " 6789.2930000000015,\n",
       " 6825.629,\n",
       " 6832.725,\n",
       " 6844.451999999998,\n",
       " 6845.201,\n",
       " 6851.051,\n",
       " 6857.654,\n",
       " 6857.978,\n",
       " 6858.682,\n",
       " 6866.453,\n",
       " 6868.19,\n",
       " 6868.368,\n",
       " 6886.538000000001,\n",
       " 6890.73,\n",
       " 6900.637,\n",
       " 6904.632,\n",
       " 6906.651,\n",
       " 6930.52,\n",
       " 6931.656999999998,\n",
       " 6945.621999999999,\n",
       " 6961.438,\n",
       " 6961.638000000001,\n",
       " 6966.223000000001,\n",
       " 6975.773,\n",
       " 6994.401,\n",
       " 6995.833000000001,\n",
       " 7005.825,\n",
       " 7028.751,\n",
       " 7034.877,\n",
       " 7073.155,\n",
       " 7077.915,\n",
       " 7086.267,\n",
       " 7105.919,\n",
       " 7117.498000000001,\n",
       " 7132.445,\n",
       " 7134.689,\n",
       " 7151.145,\n",
       " 7151.297,\n",
       " 7154.823,\n",
       " 7155.03,\n",
       " 7157.482,\n",
       " 7162.598000000001,\n",
       " 7175.371,\n",
       " 7180.439,\n",
       " 7191.755,\n",
       " 7197.573,\n",
       " 7199.874,\n",
       " 7205.312,\n",
       " 7214.326999999998,\n",
       " 7225.524,\n",
       " 7227.155,\n",
       " 7240.0059999999985,\n",
       " 7240.223000000001,\n",
       " 7241.453,\n",
       " 7259.2440000000015,\n",
       " 7264.550999999998,\n",
       " 7265.278,\n",
       " 7272.395,\n",
       " 7277.896,\n",
       " 7286.736999999999,\n",
       " 7292.9090000000015,\n",
       " 7304.674,\n",
       " 7323.363,\n",
       " 7327.981,\n",
       " 7334.035,\n",
       " 7341.274,\n",
       " 7349.507,\n",
       " 7365.89,\n",
       " 7366.366999999998,\n",
       " 7375.78,\n",
       " 7383.236,\n",
       " 7388.226,\n",
       " 7391.353,\n",
       " 7399.364,\n",
       " 7402.649,\n",
       " 7404.766,\n",
       " 7415.092,\n",
       " 7422.205,\n",
       " 7433.092,\n",
       " 7434.175999999998,\n",
       " 7435.709,\n",
       " 7441.7959999999985,\n",
       " 7451.482,\n",
       " 7453.63,\n",
       " 7472.661999999998,\n",
       " 7482.1190000000015,\n",
       " 7488.858,\n",
       " 7520.864,\n",
       " 7540.3409999999985,\n",
       " 7547.183000000001,\n",
       " 7548.861999999999,\n",
       " 7548.964,\n",
       " 7561.809,\n",
       " 7565.268,\n",
       " 7572.936,\n",
       " 7578.588000000002,\n",
       " 7580.581,\n",
       " 7581.018,\n",
       " 7582.23,\n",
       " 7583.27,\n",
       " 7586.471,\n",
       " 7586.866,\n",
       " 7593.276999999999,\n",
       " 7597.196,\n",
       " 7599.559,\n",
       " 7605.863,\n",
       " 7615.566,\n",
       " 7625.653,\n",
       " 7632.026999999999,\n",
       " 7642.623,\n",
       " 7644.045,\n",
       " 7646.149,\n",
       " 7651.768,\n",
       " 7656.482,\n",
       " 7659.414000000002,\n",
       " 7660.710999999998,\n",
       " 7660.946999999999,\n",
       " 7681.2559999999985,\n",
       " 7683.118,\n",
       " 7685.186,\n",
       " 7697.143,\n",
       " 7697.661,\n",
       " 7698.01,\n",
       " 7710.874,\n",
       " 7712.028,\n",
       " 7718.29,\n",
       " 7718.772,\n",
       " 7725.831,\n",
       " 7727.371,\n",
       " 7727.476,\n",
       " 7735.389,\n",
       " 7737.235,\n",
       " 7740.834,\n",
       " 7745.574,\n",
       " 7754.358,\n",
       " 7755.578,\n",
       " 7757.068,\n",
       " 7764.299,\n",
       " 7764.336999999998,\n",
       " 7766.383000000002,\n",
       " 7771.774,\n",
       " 7772.395,\n",
       " 7773.486999999999,\n",
       " 7777.42,\n",
       " 7780.778,\n",
       " 7782.166999999998,\n",
       " 7787.566,\n",
       " 7789.81,\n",
       " 7797.513000000001,\n",
       " 7798.248,\n",
       " 7799.196,\n",
       " 7803.663,\n",
       " 7812.005,\n",
       " 7822.828,\n",
       " 7826.522,\n",
       " 7828.0030000000015,\n",
       " 7829.433000000001,\n",
       " 7833.555,\n",
       " 7833.795,\n",
       " 7836.017,\n",
       " 7840.161,\n",
       " 7844.7159999999985,\n",
       " 7845.451999999998,\n",
       " 7850.343000000002,\n",
       " 7855.54,\n",
       " 7860.81,\n",
       " 7862.656,\n",
       " 7863.603,\n",
       " 7874.9659999999985,\n",
       " 7876.010999999998,\n",
       " 7882.236999999999,\n",
       " 7882.948,\n",
       " 7888.85,\n",
       " 7890.931,\n",
       " 7894.071,\n",
       " 7895.78,\n",
       " 7897.656,\n",
       " 7907.044,\n",
       " 7910.731,\n",
       " 7914.227,\n",
       " 7914.873,\n",
       " 7925.919,\n",
       " 7926.2559999999985,\n",
       " 7941.232,\n",
       " 7941.472,\n",
       " 7943.741999999998,\n",
       " 7947.001999999998,\n",
       " 7948.4659999999985,\n",
       " 7958.201,\n",
       " 7958.536,\n",
       " 7958.852,\n",
       " 7968.343000000002,\n",
       " 7968.848000000001,\n",
       " 7973.876999999998,\n",
       " 7978.384,\n",
       " 7979.6190000000015,\n",
       " 7982.215,\n",
       " 7988.785,\n",
       " 7996.8780000000015,\n",
       " 7997.883000000002,\n",
       " 7999.371,\n",
       " 8004.154,\n",
       " 8015.655,\n",
       " 8021.723000000001,\n",
       " 8023.875,\n",
       " 8025.727,\n",
       " 8030.755,\n",
       " 8042.76,\n",
       " 8054.156999999998,\n",
       " 8064.835,\n",
       " 8072.144,\n",
       " 8072.196999999999,\n",
       " 8072.573,\n",
       " 8074.093000000002,\n",
       " 8074.979,\n",
       " 8083.467,\n",
       " 8087.795,\n",
       " 8093.481,\n",
       " 8094.861,\n",
       " 8098.985,\n",
       " 8107.303000000001,\n",
       " 8112.177,\n",
       " 8121.52,\n",
       " 8126.783,\n",
       " 8128.550999999998,\n",
       " 8129.411,\n",
       " 8134.4209999999985,\n",
       " 8136.0340000000015,\n",
       " 8136.258000000002,\n",
       " 8136.274,\n",
       " 8140.71,\n",
       " 8153.959,\n",
       " 8154.029,\n",
       " 8157.6280000000015,\n",
       " 8159.172,\n",
       " 8160.416,\n",
       " 8162.357,\n",
       " 8163.589,\n",
       " 8168.094,\n",
       " 8168.392,\n",
       " 8172.688,\n",
       " 8178.799,\n",
       " 8182.9090000000015,\n",
       " 8184.071999999999,\n",
       " 8186.023,\n",
       " 8189.61,\n",
       " 8190.53,\n",
       " 8196.335,\n",
       " 8198.235,\n",
       " 8198.739,\n",
       " 8199.59,\n",
       " 8203.737,\n",
       " 8207.823,\n",
       " 8209.097,\n",
       " 8214.076,\n",
       " 8229.904,\n",
       " 8231.177,\n",
       " 8231.966,\n",
       " 8232.164,\n",
       " 8234.199,\n",
       " 8237.966,\n",
       " 8243.363000000001,\n",
       " 8243.728000000001,\n",
       " 8255.157,\n",
       " 8255.81,\n",
       " 8259.862,\n",
       " 8274.47,\n",
       " 8279.112,\n",
       " 8282.714,\n",
       " 8293.454,\n",
       " 8293.705,\n",
       " 8302.171,\n",
       " 8311.304,\n",
       " 8314.21,\n",
       " 8319.232,\n",
       " 8319.808,\n",
       " 8320.6,\n",
       " 8324.883,\n",
       " 8324.949,\n",
       " 8339.044,\n",
       " 8347.992,\n",
       " 8348.851,\n",
       " 8352.197,\n",
       " 8353.164,\n",
       " 8365.966999999999,\n",
       " 8371.021,\n",
       " 8371.266,\n",
       " 8375.071,\n",
       " 8376.360999999999,\n",
       " 8376.92,\n",
       " 8384.917,\n",
       " 8386.739,\n",
       " 8388.329,\n",
       " 8389.58,\n",
       " 8390.546,\n",
       " 8393.761,\n",
       " 8395.11,\n",
       " 8396.332,\n",
       " 8404.257,\n",
       " 8416.589,\n",
       " 8438.872,\n",
       " 8439.428,\n",
       " 8448.568000000001,\n",
       " 8453.127,\n",
       " 8457.309000000001,\n",
       " 8460.209,\n",
       " 8462.315,\n",
       " 8468.389000000001,\n",
       " 8469.247,\n",
       " 8470.271999999999,\n",
       " 8471.098,\n",
       " 8471.347,\n",
       " 8473.41,\n",
       " 8483.559000000001,\n",
       " 8486.503,\n",
       " 8487.341,\n",
       " 8493.794,\n",
       " 8495.926,\n",
       " 8505.835,\n",
       " 8512.091,\n",
       " 8514.371,\n",
       " 8523.607,\n",
       " 8532.328000000001,\n",
       " 8537.142,\n",
       " 8538.125,\n",
       " 8538.716999999999,\n",
       " 8545.226999999999,\n",
       " 8545.862,\n",
       " 8546.684000000001,\n",
       " 8547.997,\n",
       " 8548.648000000001,\n",
       " 8556.219000000001,\n",
       " 8561.061,\n",
       " 8570.972,\n",
       " 8577.948,\n",
       " 8592.287,\n",
       " 8596.723,\n",
       " 8598.879,\n",
       " 8600.277,\n",
       " 8601.655999999999,\n",
       " 8607.267,\n",
       " 8609.246,\n",
       " 8612.661,\n",
       " 8613.205,\n",
       " 8617.214,\n",
       " 8619.706,\n",
       " 8620.065,\n",
       " 8625.894,\n",
       " 8627.354,\n",
       " 8632.582,\n",
       " 8635.452,\n",
       " 8639.908000000001,\n",
       " 8641.282,\n",
       " 8643.091,\n",
       " 8648.266,\n",
       " 8650.449,\n",
       " 8653.954,\n",
       " 8654.133,\n",
       " 8659.403,\n",
       " 8659.769,\n",
       " 8662.721,\n",
       " 8668.663,\n",
       " 8670.671,\n",
       " 8673.509,\n",
       " 8674.212,\n",
       " 8675.506,\n",
       " 8677.451,\n",
       " 8678.712,\n",
       " 8680.25,\n",
       " 8680.525,\n",
       " 8684.231,\n",
       " 8688.555,\n",
       " 8691.072,\n",
       " 8691.234,\n",
       " 8692.165,\n",
       " 8696.499,\n",
       " 8696.693000000001,\n",
       " 8702.576,\n",
       " 8705.030999999999,\n",
       " 8705.929,\n",
       " 8706.475,\n",
       " 8706.805,\n",
       " 8706.902,\n",
       " 8708.896,\n",
       " 8720.888,\n",
       " 8724.224,\n",
       " 8735.003,\n",
       " 8739.726999999999,\n",
       " 8757.815999999999,\n",
       " 8760.759,\n",
       " 8760.863000000001,\n",
       " 8764.996,\n",
       " 8765.302,\n",
       " 8767.534,\n",
       " 8772.203000000001,\n",
       " 8774.978000000001,\n",
       " 8777.038,\n",
       " 8778.47,\n",
       " 8779.761999999999,\n",
       " 8781.25,\n",
       " 8785.565999999999,\n",
       " 8788.169,\n",
       " 8788.626,\n",
       " 8788.985999999999,\n",
       " 8795.385,\n",
       " 8802.244,\n",
       " 8804.584,\n",
       " 8806.834,\n",
       " 8807.117,\n",
       " 8807.219000000001,\n",
       " 8808.546999999999,\n",
       " 8810.593,\n",
       " 8811.515,\n",
       " 8813.099,\n",
       " 8813.565,\n",
       " 8814.678,\n",
       " 8818.041,\n",
       " 8821.593,\n",
       " 8828.192,\n",
       " 8838.158000000001,\n",
       " 8843.222,\n",
       " 8847.009,\n",
       " 8851.09,\n",
       " 8857.308,\n",
       " 8858.293,\n",
       " 8859.203000000001,\n",
       " 8862.065,\n",
       " 8862.145,\n",
       " 8862.25,\n",
       " 8867.08,\n",
       " 8867.155,\n",
       " 8868.062,\n",
       " 8869.47,\n",
       " 8873.755,\n",
       " 8876.017,\n",
       " 8887.987,\n",
       " 8889.382,\n",
       " 8889.817,\n",
       " 8890.061,\n",
       " 8893.518,\n",
       " 8895.421999999999,\n",
       " 8895.596,\n",
       " 8905.229,\n",
       " 8906.845,\n",
       " 8911.41,\n",
       " 8919.823,\n",
       " 8921.287,\n",
       " 8938.22,\n",
       " 8938.692,\n",
       " 8939.633,\n",
       " 8941.85,\n",
       " 8953.542,\n",
       " 8965.132,\n",
       " 8971.844000000001,\n",
       " 8974.005,\n",
       " 8977.624,\n",
       " 8980.323,\n",
       " 8982.005,\n",
       " 8987.072,\n",
       " 8987.315,\n",
       " 8988.221,\n",
       " 9004.962,\n",
       " 9019.09,\n",
       " 9023.078,\n",
       " 9024.307,\n",
       " 9024.393,\n",
       " 9030.921,\n",
       " 9034.326,\n",
       " 9034.445,\n",
       " 9042.657,\n",
       " 9043.052,\n",
       " 9045.182,\n",
       " 9045.861,\n",
       " 9057.31,\n",
       " 9057.967,\n",
       " 9060.414,\n",
       " 9063.313,\n",
       " 9065.139,\n",
       " 9071.237,\n",
       " 9074.223,\n",
       " 9075.274,\n",
       " 9082.743,\n",
       " 9091.493,\n",
       " 9091.804,\n",
       " 9092.382,\n",
       " 9094.353,\n",
       " 9097.503,\n",
       " 9100.663,\n",
       " 9102.823,\n",
       " 9104.231,\n",
       " 9107.736,\n",
       " 9107.739,\n",
       " 9107.873,\n",
       " 9113.664,\n",
       " 9121.731,\n",
       " 9124.97,\n",
       " 9128.451,\n",
       " 9129.974,\n",
       " 9135.619,\n",
       " 9137.86,\n",
       " 9147.012,\n",
       " 9147.787,\n",
       " 9148.751,\n",
       " 9154.054,\n",
       " 9154.337,\n",
       " 9154.399,\n",
       " 9156.449,\n",
       " 9161.936,\n",
       " 9172.47,\n",
       " 9172.738,\n",
       " 9182.441,\n",
       " 9189.389,\n",
       " 9191.57,\n",
       " 9192.549,\n",
       " 9196.012,\n",
       " 9200.016,\n",
       " 9201.289,\n",
       " 9201.524,\n",
       " 9201.897,\n",
       " 9206.703,\n",
       " 9206.834,\n",
       " 9214.315,\n",
       " 9216.557,\n",
       " 9217.12,\n",
       " 9217.697,\n",
       " 9222.473,\n",
       " 9222.873,\n",
       " 9225.487,\n",
       " 9229.407,\n",
       " 9232.4,\n",
       " 9235.216,\n",
       " 9241.485,\n",
       " 9246.183,\n",
       " 9251.547,\n",
       " 9259.435,\n",
       " 9264.44,\n",
       " 9270.942,\n",
       " 9273.96,\n",
       " 9287.188,\n",
       " 9291.173,\n",
       " 9291.258,\n",
       " 9291.797,\n",
       " 9292.747,\n",
       " 9296.966,\n",
       " 9301.678,\n",
       " 9302.11,\n",
       " 9308.953,\n",
       " 9310.3,\n",
       " 9315.768,\n",
       " 9326.92,\n",
       " 9332.336,\n",
       " 9333.515,\n",
       " 9342.22,\n",
       " 9344.647,\n",
       " 9347.581,\n",
       " 9348.68,\n",
       " 9352.721,\n",
       " 9353.668,\n",
       " 9356.77,\n",
       " 9356.967,\n",
       " 9364.764,\n",
       " 9365.88,\n",
       " 9367.94,\n",
       " 9369.601,\n",
       " 9371.943,\n",
       " 9377.765,\n",
       " 9378.625,\n",
       " 9382.862,\n",
       " 9385.917,\n",
       " 9387.92,\n",
       " 9396.234,\n",
       " 9397.149,\n",
       " 9401.076,\n",
       " 9401.771,\n",
       " 9405.41,\n",
       " 9409.91,\n",
       " 9413.504,\n",
       " 9414.536,\n",
       " 9418.629,\n",
       " 9421.143,\n",
       " 9426.066,\n",
       " 9428.73,\n",
       " 9438.972,\n",
       " 9439.292,\n",
       " 9439.838,\n",
       " 9442.406,\n",
       " 9454.151,\n",
       " 9459.851,\n",
       " 9463.566,\n",
       " 9466.843,\n",
       " 9468.616,\n",
       " 9469.592,\n",
       " 9469.796,\n",
       " 9473.969,\n",
       " 9483.167,\n",
       " 9491.761,\n",
       " 9497.638,\n",
       " 9498.503,\n",
       " 9500.807,\n",
       " 9501.919,\n",
       " 9502.306,\n",
       " 9514.677,\n",
       " 9517.34,\n",
       " 9521.968,\n",
       " 9522.99,\n",
       " 9525.822,\n",
       " 9528.126,\n",
       " 9532.217,\n",
       " 9534.07,\n",
       " 9545.726,\n",
       " 9549.388,\n",
       " 9550.749,\n",
       " 9552.343,\n",
       " 9552.381,\n",
       " 9554.916,\n",
       " 9554.981,\n",
       " 9556.879,\n",
       " 9563.753,\n",
       " 9572.307,\n",
       " 9572.346,\n",
       " 9577.48,\n",
       " 9579.136,\n",
       " 9579.657,\n",
       " 9586.125,\n",
       " 9588.307,\n",
       " 9589.269,\n",
       " 9591.219,\n",
       " 9591.824,\n",
       " 9594.625,\n",
       " 9598.112,\n",
       " 9601.986,\n",
       " 9606.294,\n",
       " 9608.492,\n",
       " 9608.615,\n",
       " 9609.198,\n",
       " 9609.215,\n",
       " 9610.248,\n",
       " 9614.879,\n",
       " 9615.919,\n",
       " 9618.714,\n",
       " 9626.664,\n",
       " 9627.053,\n",
       " 9627.961,\n",
       " 9628.688,\n",
       " 9629.969,\n",
       " 9634.735,\n",
       " 9649.542,\n",
       " 9649.84,\n",
       " 9651.991,\n",
       " 9665.221,\n",
       " 9667.859,\n",
       " 9668.263,\n",
       " 9671.633,\n",
       " 9683.011,\n",
       " 9684.573,\n",
       " 9687.837,\n",
       " 9693.913,\n",
       " 9700.675,\n",
       " 9701.368,\n",
       " 9701.662,\n",
       " 9710.311,\n",
       " 9710.78,\n",
       " 9712.563,\n",
       " 9722.895,\n",
       " 9723.147,\n",
       " 9731.527,\n",
       " 9736.096,\n",
       " 9737.635,\n",
       " 9738.8,\n",
       " 9746.35,\n",
       " 9748.79,\n",
       " 9755.713,\n",
       " 9757.902,\n",
       " 9762.824,\n",
       " 9764.076,\n",
       " 9781.049,\n",
       " 9781.051,\n",
       " 9782.386,\n",
       " 9787.809,\n",
       " 9788.898,\n",
       " 9794.076,\n",
       " 9797.809,\n",
       " 9800.376,\n",
       " 9806.992,\n",
       " 9809.491,\n",
       " 9811.692,\n",
       " 9814.84,\n",
       " 9816.437,\n",
       " 9822.17,\n",
       " 9823.039,\n",
       " 9826.636,\n",
       " 9830.631,\n",
       " 9830.74,\n",
       " 9832.891,\n",
       " 9840.587,\n",
       " 9841.484,\n",
       " 9843.992,\n",
       " 9858.406,\n",
       " 9860.482,\n",
       " 9860.925,\n",
       " 9861.738,\n",
       " 9863.48,\n",
       " 9863.493,\n",
       " 9863.746,\n",
       " 9867.297,\n",
       " 9875.698,\n",
       " 9875.888,\n",
       " 9879.29,\n",
       " 9880.457,\n",
       " 9886.936,\n",
       " 9888.551,\n",
       " 9893.691,\n",
       " 9893.711,\n",
       " 9893.924,\n",
       " 9899.078,\n",
       " 9901.415,\n",
       " 9902.905,\n",
       " 9903.982,\n",
       " 9906.358,\n",
       " 9911.007,\n",
       " 9911.881,\n",
       " 9914.341,\n",
       " 9920.223,\n",
       " 9923.431,\n",
       " 9940.303,\n",
       " 9941.149,\n",
       " 9941.919,\n",
       " 9942.045,\n",
       " 9943.02,\n",
       " 9943.48,\n",
       " 9944.631,\n",
       " 9944.645,\n",
       " 9948.497,\n",
       " 9954.932,\n",
       " 9961.687,\n",
       " 9965.884,\n",
       " 9976.01,\n",
       " 9978.046,\n",
       " 9979.291,\n",
       " 9981.058,\n",
       " 9984.011,\n",
       " 9988.06,\n",
       " 9988.629,\n",
       " 9992.14,\n",
       " 9992.615,\n",
       " 9993.31,\n",
       " 9995.396,\n",
       " 9996.183,\n",
       " 10000.392,\n",
       " 10001.459,\n",
       " 10004.303,\n",
       " 10006.857,\n",
       " 10011.361,\n",
       " 10013.861,\n",
       " 10022.261,\n",
       " 10028.085,\n",
       " 10035.876,\n",
       " 10037.939,\n",
       " 10046.605,\n",
       " 10048.878,\n",
       " 10049.334,\n",
       " 10051.604,\n",
       " 10055.43,\n",
       " 10060.709,\n",
       " 10061.48,\n",
       " 10066.611,\n",
       " 10067.108,\n",
       " 10072.077,\n",
       " 10074.983,\n",
       " 10075.345,\n",
       " 10077.567,\n",
       " 10079.223,\n",
       " 10081.358,\n",
       " 10084.722,\n",
       " 10085.365,\n",
       " 10087.689,\n",
       " 10090.037,\n",
       " 10095.142,\n",
       " 10097.085,\n",
       " 10097.172,\n",
       " 10102.701,\n",
       " 10105.798,\n",
       " 10108.235,\n",
       " 10114.716,\n",
       " 10120.562,\n",
       " 10126.141,\n",
       " 10127.222,\n",
       " 10127.944,\n",
       " 10129.066,\n",
       " 10130.36,\n",
       " 10132.951,\n",
       " 10134.333,\n",
       " 10137.058,\n",
       " 10137.273,\n",
       " 10140.055,\n",
       " 10141.989,\n",
       " 10142.797,\n",
       " 10144.536,\n",
       " 10146.226,\n",
       " 10147.76,\n",
       " 10148.051,\n",
       " 10148.965,\n",
       " 10150.899,\n",
       " 10151.267,\n",
       " 10161.308,\n",
       " 10161.765,\n",
       " 10161.907,\n",
       " 10166.417,\n",
       " 10167.767,\n",
       " 10167.784,\n",
       " 10167.95,\n",
       " 10168.324,\n",
       " 10170.101,\n",
       " 10171.943,\n",
       " 10172.602,\n",
       " 10172.617,\n",
       " 10173.088,\n",
       " 10175.058,\n",
       " 10175.915,\n",
       " 10176.089,\n",
       " 10179.555,\n",
       " 10180.821,\n",
       " 10183.898,\n",
       " 10185.404,\n",
       " 10186.761,\n",
       " 10187.837,\n",
       " 10195.058,\n",
       " 10195.465,\n",
       " 10199.035,\n",
       " 10200.686,\n",
       " 10200.986,\n",
       " 10203.365,\n",
       " 10205.132,\n",
       " 10205.238,\n",
       " ...]"
      ]
     },
     "execution_count": 105,
     "metadata": {},
     "output_type": "execute_result"
    }
   ],
   "source": [
    "print(scores['total_income'].min())\n",
    "print(scores['total_income'].max())\n",
    "sorted(scores['total_income'].unique())"
   ]
  },
  {
   "cell_type": "markdown",
   "metadata": {},
   "source": [
    "Podemos observar que el rango de valores es muy amplio, por lo que se considerará una división cada 20000 de ingreso, con el propósito de obtener 14 clasificaciones distintas."
   ]
  },
  {
   "cell_type": "code",
   "execution_count": 106,
   "metadata": {},
   "outputs": [],
   "source": [
    "# Escribamos una función para clasificar los datos en función de los grupos mencionados\n",
    "\n",
    "def clasificacion_ingresos(monto):\n",
    "    if monto<=20000:\n",
    "        return '000000-20000'\n",
    "    elif monto<=40000:\n",
    "        return '020001-40000'\n",
    "    elif monto<=60000:\n",
    "        return '040001-60000'\n",
    "    elif monto<=80000:\n",
    "        return '060001-80000'\n",
    "    elif monto<=100000:\n",
    "        return '080001-100000'\n",
    "    elif monto<=120000:\n",
    "        return '100001-120000'\n",
    "    elif monto<=140000:\n",
    "        return '120001-140000'\n",
    "    elif monto<=160000:\n",
    "        return '140001-160000'\n",
    "    elif monto<=180000:\n",
    "        return '160001-180000'\n",
    "    elif monto<=200000:\n",
    "        return '180001-200000'\n",
    "    elif monto<=220000:\n",
    "        return '200001-220000'\n",
    "    elif monto<=240000:\n",
    "        return '220001-240000'\n",
    "    elif monto<=260000:\n",
    "        return '240001-260000'\n",
    "    elif monto<=280000:\n",
    "        return '260001-280000'\n",
    "    elif monto<=300000:\n",
    "        return '280001-300000'\n",
    "    elif monto<=320000:\n",
    "        return '300001-320000'\n",
    "    elif monto<=340000:\n",
    "        return '320001-340000'\n",
    "    elif monto<=360000:\n",
    "        return '340001-360000'\n",
    "    elif monto<=380000:\n",
    "        return '360001-380000'"
   ]
  },
  {
   "cell_type": "code",
   "execution_count": 107,
   "metadata": {},
   "outputs": [
    {
     "name": "stdout",
     "output_type": "stream",
     "text": [
      "040001-60000\n",
      "100001-120000\n",
      "260001-280000\n"
     ]
    }
   ],
   "source": [
    "# Comprobamos el funcionamiento de la función\n",
    "\n",
    "print(clasificacion_ingresos(49000))\n",
    "print(clasificacion_ingresos(111000))\n",
    "print(clasificacion_ingresos(267000))\n"
   ]
  },
  {
   "cell_type": "code",
   "execution_count": 109,
   "metadata": {},
   "outputs": [],
   "source": [
    "# Creamos nueva columna total_income_group\n",
    "\n",
    "scores['total_income_group']=scores['total_income'].apply(clasificacion_ingresos)"
   ]
  },
  {
   "cell_type": "code",
   "execution_count": 110,
   "metadata": {},
   "outputs": [
    {
     "data": {
      "text/html": [
       "<div>\n",
       "<style scoped>\n",
       "    .dataframe tbody tr th:only-of-type {\n",
       "        vertical-align: middle;\n",
       "    }\n",
       "\n",
       "    .dataframe tbody tr th {\n",
       "        vertical-align: top;\n",
       "    }\n",
       "\n",
       "    .dataframe thead th {\n",
       "        text-align: right;\n",
       "    }\n",
       "</style>\n",
       "<table border=\"1\" class=\"dataframe\">\n",
       "  <thead>\n",
       "    <tr style=\"text-align: right;\">\n",
       "      <th></th>\n",
       "      <th>children</th>\n",
       "      <th>days_employed</th>\n",
       "      <th>dob_years</th>\n",
       "      <th>education</th>\n",
       "      <th>education_id</th>\n",
       "      <th>family_status</th>\n",
       "      <th>family_status_id</th>\n",
       "      <th>gender</th>\n",
       "      <th>income_type</th>\n",
       "      <th>debt</th>\n",
       "      <th>total_income</th>\n",
       "      <th>purpose</th>\n",
       "      <th>age_group</th>\n",
       "      <th>total_income_group</th>\n",
       "    </tr>\n",
       "  </thead>\n",
       "  <tbody>\n",
       "    <tr>\n",
       "      <th>0</th>\n",
       "      <td>1</td>\n",
       "      <td>8437.0</td>\n",
       "      <td>42</td>\n",
       "      <td>bachelor's degree</td>\n",
       "      <td>0</td>\n",
       "      <td>married</td>\n",
       "      <td>0</td>\n",
       "      <td>F</td>\n",
       "      <td>employee</td>\n",
       "      <td>0</td>\n",
       "      <td>40620.102</td>\n",
       "      <td>real estate</td>\n",
       "      <td>41-50</td>\n",
       "      <td>040001-60000</td>\n",
       "    </tr>\n",
       "    <tr>\n",
       "      <th>1</th>\n",
       "      <td>1</td>\n",
       "      <td>4024.0</td>\n",
       "      <td>36</td>\n",
       "      <td>secondary education</td>\n",
       "      <td>1</td>\n",
       "      <td>married</td>\n",
       "      <td>0</td>\n",
       "      <td>F</td>\n",
       "      <td>employee</td>\n",
       "      <td>0</td>\n",
       "      <td>17932.802</td>\n",
       "      <td>car</td>\n",
       "      <td>31-40</td>\n",
       "      <td>000000-20000</td>\n",
       "    </tr>\n",
       "    <tr>\n",
       "      <th>2</th>\n",
       "      <td>0</td>\n",
       "      <td>5623.0</td>\n",
       "      <td>33</td>\n",
       "      <td>secondary education</td>\n",
       "      <td>1</td>\n",
       "      <td>married</td>\n",
       "      <td>0</td>\n",
       "      <td>M</td>\n",
       "      <td>employee</td>\n",
       "      <td>0</td>\n",
       "      <td>23341.752</td>\n",
       "      <td>real estate</td>\n",
       "      <td>31-40</td>\n",
       "      <td>020001-40000</td>\n",
       "    </tr>\n",
       "    <tr>\n",
       "      <th>3</th>\n",
       "      <td>3</td>\n",
       "      <td>4124.0</td>\n",
       "      <td>32</td>\n",
       "      <td>secondary education</td>\n",
       "      <td>1</td>\n",
       "      <td>married</td>\n",
       "      <td>0</td>\n",
       "      <td>M</td>\n",
       "      <td>employee</td>\n",
       "      <td>0</td>\n",
       "      <td>42820.568</td>\n",
       "      <td>education</td>\n",
       "      <td>31-40</td>\n",
       "      <td>040001-60000</td>\n",
       "    </tr>\n",
       "    <tr>\n",
       "      <th>4</th>\n",
       "      <td>0</td>\n",
       "      <td>14177.0</td>\n",
       "      <td>53</td>\n",
       "      <td>secondary education</td>\n",
       "      <td>1</td>\n",
       "      <td>civil partnership</td>\n",
       "      <td>1</td>\n",
       "      <td>F</td>\n",
       "      <td>retiree</td>\n",
       "      <td>0</td>\n",
       "      <td>25378.572</td>\n",
       "      <td>wedding</td>\n",
       "      <td>51-60</td>\n",
       "      <td>020001-40000</td>\n",
       "    </tr>\n",
       "    <tr>\n",
       "      <th>5</th>\n",
       "      <td>0</td>\n",
       "      <td>926.0</td>\n",
       "      <td>27</td>\n",
       "      <td>bachelor's degree</td>\n",
       "      <td>0</td>\n",
       "      <td>civil partnership</td>\n",
       "      <td>1</td>\n",
       "      <td>M</td>\n",
       "      <td>business</td>\n",
       "      <td>0</td>\n",
       "      <td>40922.170</td>\n",
       "      <td>real estate</td>\n",
       "      <td>20-30</td>\n",
       "      <td>040001-60000</td>\n",
       "    </tr>\n",
       "    <tr>\n",
       "      <th>6</th>\n",
       "      <td>0</td>\n",
       "      <td>2879.0</td>\n",
       "      <td>43</td>\n",
       "      <td>bachelor's degree</td>\n",
       "      <td>0</td>\n",
       "      <td>married</td>\n",
       "      <td>0</td>\n",
       "      <td>F</td>\n",
       "      <td>business</td>\n",
       "      <td>0</td>\n",
       "      <td>38484.156</td>\n",
       "      <td>real estate</td>\n",
       "      <td>41-50</td>\n",
       "      <td>020001-40000</td>\n",
       "    </tr>\n",
       "    <tr>\n",
       "      <th>7</th>\n",
       "      <td>0</td>\n",
       "      <td>152.0</td>\n",
       "      <td>50</td>\n",
       "      <td>secondary education</td>\n",
       "      <td>1</td>\n",
       "      <td>married</td>\n",
       "      <td>0</td>\n",
       "      <td>M</td>\n",
       "      <td>employee</td>\n",
       "      <td>0</td>\n",
       "      <td>21731.829</td>\n",
       "      <td>education</td>\n",
       "      <td>41-50</td>\n",
       "      <td>020001-40000</td>\n",
       "    </tr>\n",
       "    <tr>\n",
       "      <th>8</th>\n",
       "      <td>2</td>\n",
       "      <td>6929.0</td>\n",
       "      <td>35</td>\n",
       "      <td>bachelor's degree</td>\n",
       "      <td>0</td>\n",
       "      <td>civil partnership</td>\n",
       "      <td>1</td>\n",
       "      <td>F</td>\n",
       "      <td>employee</td>\n",
       "      <td>0</td>\n",
       "      <td>15337.093</td>\n",
       "      <td>wedding</td>\n",
       "      <td>31-40</td>\n",
       "      <td>000000-20000</td>\n",
       "    </tr>\n",
       "    <tr>\n",
       "      <th>9</th>\n",
       "      <td>0</td>\n",
       "      <td>2188.0</td>\n",
       "      <td>41</td>\n",
       "      <td>secondary education</td>\n",
       "      <td>1</td>\n",
       "      <td>married</td>\n",
       "      <td>0</td>\n",
       "      <td>M</td>\n",
       "      <td>employee</td>\n",
       "      <td>0</td>\n",
       "      <td>23108.150</td>\n",
       "      <td>real estate</td>\n",
       "      <td>41-50</td>\n",
       "      <td>020001-40000</td>\n",
       "    </tr>\n",
       "  </tbody>\n",
       "</table>\n",
       "</div>"
      ],
      "text/plain": [
       "   children  days_employed  dob_years            education  education_id  \\\n",
       "0         1         8437.0         42    bachelor's degree             0   \n",
       "1         1         4024.0         36  secondary education             1   \n",
       "2         0         5623.0         33  secondary education             1   \n",
       "3         3         4124.0         32  secondary education             1   \n",
       "4         0        14177.0         53  secondary education             1   \n",
       "5         0          926.0         27    bachelor's degree             0   \n",
       "6         0         2879.0         43    bachelor's degree             0   \n",
       "7         0          152.0         50  secondary education             1   \n",
       "8         2         6929.0         35    bachelor's degree             0   \n",
       "9         0         2188.0         41  secondary education             1   \n",
       "\n",
       "       family_status  family_status_id gender income_type  debt  total_income  \\\n",
       "0            married                 0      F    employee     0     40620.102   \n",
       "1            married                 0      F    employee     0     17932.802   \n",
       "2            married                 0      M    employee     0     23341.752   \n",
       "3            married                 0      M    employee     0     42820.568   \n",
       "4  civil partnership                 1      F     retiree     0     25378.572   \n",
       "5  civil partnership                 1      M    business     0     40922.170   \n",
       "6            married                 0      F    business     0     38484.156   \n",
       "7            married                 0      M    employee     0     21731.829   \n",
       "8  civil partnership                 1      F    employee     0     15337.093   \n",
       "9            married                 0      M    employee     0     23108.150   \n",
       "\n",
       "       purpose age_group total_income_group  \n",
       "0  real estate     41-50       040001-60000  \n",
       "1          car     31-40       000000-20000  \n",
       "2  real estate     31-40       020001-40000  \n",
       "3    education     31-40       040001-60000  \n",
       "4      wedding     51-60       020001-40000  \n",
       "5  real estate     20-30       040001-60000  \n",
       "6  real estate     41-50       020001-40000  \n",
       "7    education     41-50       020001-40000  \n",
       "8      wedding     31-40       000000-20000  \n",
       "9  real estate     41-50       020001-40000  "
      ]
     },
     "execution_count": 110,
     "metadata": {},
     "output_type": "execute_result"
    }
   ],
   "source": [
    "# Verificar columna\n",
    "scores.head(10)"
   ]
  },
  {
   "cell_type": "markdown",
   "metadata": {},
   "source": [
    "## Comprobación de las hipótesis\n"
   ]
  },
  {
   "cell_type": "markdown",
   "metadata": {},
   "source": [
    "**¿Existe una correlación entre tener hijos y pagar a tiempo?**"
   ]
  },
  {
   "cell_type": "code",
   "execution_count": 111,
   "metadata": {},
   "outputs": [
    {
     "name": "stdout",
     "output_type": "stream",
     "text": [
      "              mean  median   sum  count\n",
      "children                               \n",
      "0         0.075087       0  1054  14037\n",
      "1         0.090740       0   439   4838\n",
      "2         0.095125       0   201   2113\n",
      "3         0.082569       0    27    327\n",
      "4         0.097561       0     4     41\n",
      "5         0.000000       0     0      9\n",
      "\n",
      "children\n",
      "0    0.075087\n",
      "1    0.090740\n",
      "2    0.095125\n",
      "3    0.082569\n",
      "4    0.097561\n",
      "5    0.000000\n",
      "Name: debt, dtype: float64\n"
     ]
    }
   ],
   "source": [
    "# Comprueba los datos sobre los hijos y los pagos puntuales\n",
    "print(scores.groupby('children')['debt'].agg(['mean','median','sum','count']))\n",
    "print()\n",
    "##Calcular la tasa de incumplimiento en función del número de hijos\n",
    "children_rate=scores.groupby('children')['debt'].sum()/scores.groupby('children')['debt'].count()\n",
    "print(children_rate)"
   ]
  },
  {
   "cell_type": "markdown",
   "metadata": {},
   "source": [
    "**Conclusión**\n",
    "\n",
    "Podemos observar que la tasa y la media son iguales, ya que la deuda está marcada por un valor de 1. Encontramos que mientras siguen sindo relevantes los grupos, y no se vuelven la extrema minoría de 5 hijos, existe una tndencia de incumplimiento mayor de conforme incrementa el número de hijos."
   ]
  },
  {
   "cell_type": "markdown",
   "metadata": {},
   "source": [
    "**¿Existe una correlación entre la situación familiar y el pago a tiempo?**"
   ]
  },
  {
   "cell_type": "code",
   "execution_count": 112,
   "metadata": {},
   "outputs": [
    {
     "name": "stdout",
     "output_type": "stream",
     "text": [
      "                       mean  median  sum  count\n",
      "family_status                                  \n",
      "civil partnership  0.092646       0  383   4134\n",
      "divorced           0.072034       0   85   1180\n",
      "married            0.074992       0  923  12308\n",
      "unmarried          0.097526       0  272   2789\n",
      "widow / widower    0.064990       0   62    954\n",
      "\n",
      "family_status\n",
      "civil partnership    0.092646\n",
      "divorced             0.072034\n",
      "married              0.074992\n",
      "unmarried            0.097526\n",
      "widow / widower      0.064990\n",
      "Name: debt, dtype: float64\n"
     ]
    }
   ],
   "source": [
    "# Comprueba los datos del estado familiar y los pagos a tiempo\n",
    "print(scores.groupby('family_status')['debt'].agg(['mean','median','sum','count']))\n",
    "print()\n",
    "\n",
    "\n",
    "# Calcular la tasa de incumplimiento basada en el estado familiar\n",
    "family_rate=scores.groupby('family_status')['debt'].sum()/scores.groupby('family_status')['debt'].count()\n",
    "print(family_rate)\n"
   ]
  },
  {
   "cell_type": "markdown",
   "metadata": {},
   "source": [
    "**Conclusión**\n",
    "\n",
    "Podemos considerar que todos los grupos tienen una población relevante, y que se detaca un incumplimiento por parte de los solteros o quienes tienen una unión civil, mientras que las personas que han vivido el matrimonio cumplen con más frecuencia, sobre todo quienes enviudaron. Esto último puede deberse a que el último grupo tiene una tendencia a ya no tener dependientes y pueden administrarse mejor."
   ]
  },
  {
   "cell_type": "markdown",
   "metadata": {},
   "source": [
    "**¿Existe una correlación entre el nivel de ingresos y el pago a tiempo?**"
   ]
  },
  {
   "cell_type": "code",
   "execution_count": 113,
   "metadata": {},
   "outputs": [
    {
     "name": "stdout",
     "output_type": "stream",
     "text": [
      "                        mean  median  sum  count\n",
      "total_income_group                              \n",
      "000000-20000        0.082538       0  631   7645\n",
      "020001-40000        0.082456       0  901  10927\n",
      "040001-60000        0.072976       0  155   2124\n",
      "060001-80000        0.053571       0   24    448\n",
      "080001-100000       0.065574       0    8    122\n",
      "100001-120000       0.040000       0    2     50\n",
      "120001-140000       0.111111       0    2     18\n",
      "140001-160000       0.000000       0    0      6\n",
      "160001-180000       0.100000       0    1     10\n",
      "180001-200000       0.000000       0    0      4\n",
      "200001-220000       0.000000       0    0      3\n",
      "220001-240000       0.000000       0    0      1\n",
      "240001-260000       0.000000       0    0      2\n",
      "260001-280000       0.000000       0    0      3\n",
      "340001-360000       1.000000       1    1      1\n",
      "360001-380000       0.000000       0    0      1\n",
      "\n",
      "<bound method Series.sort_index of total_income_group\n",
      "000000-20000     0.082538\n",
      "020001-40000     0.082456\n",
      "040001-60000     0.072976\n",
      "060001-80000     0.053571\n",
      "080001-100000    0.065574\n",
      "100001-120000    0.040000\n",
      "120001-140000    0.111111\n",
      "140001-160000    0.000000\n",
      "160001-180000    0.100000\n",
      "180001-200000    0.000000\n",
      "200001-220000    0.000000\n",
      "220001-240000    0.000000\n",
      "240001-260000    0.000000\n",
      "260001-280000    0.000000\n",
      "340001-360000    1.000000\n",
      "360001-380000    0.000000\n",
      "Name: debt, dtype: float64>\n"
     ]
    }
   ],
   "source": [
    "# Comprueba los datos del nivel de ingresos y los pagos a tiempo\n",
    "print(scores.groupby('total_income_group')['debt'].agg(['mean','median','sum','count']))\n",
    "print()\n",
    "\n",
    "\n",
    "# Calcular la tasa de incumplimiento basada en el nivel de ingresos\n",
    "total_income_group_rate=scores.groupby('total_income_group')['debt'].sum()/scores.groupby('total_income_group')['debt'].count()\n",
    "print(total_income_group_rate.sort_index)\n"
   ]
  },
  {
   "cell_type": "markdown",
   "metadata": {},
   "source": [
    "**Conclusión**\n",
    "\n",
    "En general, sin considerar las tres claras excepciones, se puede notar una clara tendencia al cumplimiento con los préstamos conforme aumenta el nivel de ingresos. Las excepciones pueden deberse a los pocos individuos en el más alto expectro de ingresos. Esto tiene una clara explicación, ya que más rápidamente pueden cubrir sus deudas."
   ]
  },
  {
   "cell_type": "markdown",
   "metadata": {},
   "source": [
    "**¿Cómo afecta el propósito del crédito a la tasa de incumplimiento?**"
   ]
  },
  {
   "cell_type": "code",
   "execution_count": 114,
   "metadata": {},
   "outputs": [
    {
     "name": "stdout",
     "output_type": "stream",
     "text": [
      "                 mean  median  sum  count\n",
      "purpose                                  \n",
      "car          0.092839       0  398   4287\n",
      "education    0.091957       0  367   3991\n",
      "real estate  0.072258       0  778  10767\n",
      "wedding      0.078448       0  182   2320\n"
     ]
    }
   ],
   "source": [
    "# Consulta los porcentajes de tasa de incumplimiento para cada propósito del crédito y analízalos\n",
    "\n",
    "print(scores.groupby('purpose')['debt'].agg(['mean','median','sum','count']))"
   ]
  },
  {
   "cell_type": "markdown",
   "metadata": {},
   "source": [
    "**Conclusión**\n",
    "\n",
    "Podemos observar que los préstamos inmobiliarios son los que menor tendencia tienen a caer en deudas, esto debe relacionarse directamente con los montos y la duración de los préstamos, ya que se trata de un gran compromiso por adquirir, mientras que los prestamos para carros y educación, que podrían adquirir personas en mayor necesidad, son los que tienen más tendencia a incumplirse."
   ]
  },
  {
   "cell_type": "markdown",
   "metadata": {},
   "source": [
    "# Conclusión general \n",
    "\n",
    "Tras un exhaustivo análisis donde tuvieron que completarse algunos datos considerando medianas de las principales cateogorías a las que pertenecían, que fueron los casos de los días trabajados y el ingreso total. Y en el que una corrección de términos y clasificación de datos fue necesaria como es el caso del nivel educativo y la razón del préstamo, se pudieron obtener las siguientes conclusiones.\n",
    "\n",
    "*El aumento en el número de hijos tiende a incrementar el riesgo de caer en deuda.\n",
    "*Quienes han estado casados tienden a cumplir más con sus pagos, en especial cuando se encuentran en estado de viudez.\n",
    "*Entre mayor sea el ingreso total del individuo es más propenso a mantenerse fuera del incumplimiento.\n",
    "*Los prestamos inmobiliarios con los que menos incumplimiento presentan, al contrario de los que corresponden a eduación o automóviles."
   ]
  }
 ],
 "metadata": {
  "ExecuteTimeLog": [
   {
    "duration": 2741,
    "start_time": "2021-10-21T01:08:49.480Z"
   },
   {
    "duration": 52,
    "start_time": "2021-10-21T01:08:53.315Z"
   },
   {
    "duration": 49,
    "start_time": "2021-10-21T01:08:57.432Z"
   },
   {
    "duration": 70,
    "start_time": "2021-10-21T01:09:07.706Z"
   },
   {
    "duration": 590,
    "start_time": "2022-03-28T19:16:56.642Z"
   },
   {
    "duration": 55,
    "start_time": "2022-03-28T19:18:38.440Z"
   },
   {
    "duration": 10,
    "start_time": "2022-03-28T19:19:08.743Z"
   },
   {
    "duration": 13,
    "start_time": "2022-03-28T19:20:18.250Z"
   },
   {
    "duration": 26,
    "start_time": "2022-03-28T19:20:48.058Z"
   },
   {
    "duration": 24,
    "start_time": "2022-03-28T19:23:32.024Z"
   },
   {
    "duration": 22,
    "start_time": "2022-03-28T19:35:46.492Z"
   },
   {
    "duration": 31,
    "start_time": "2022-03-28T19:43:59.778Z"
   },
   {
    "duration": 11,
    "start_time": "2022-03-28T19:51:32.797Z"
   },
   {
    "duration": 40,
    "start_time": "2022-03-28T19:56:08.797Z"
   },
   {
    "duration": 34,
    "start_time": "2022-03-28T20:11:30.029Z"
   },
   {
    "duration": 16,
    "start_time": "2022-03-28T20:15:19.053Z"
   },
   {
    "duration": 11,
    "start_time": "2022-03-28T20:16:29.337Z"
   },
   {
    "duration": 11,
    "start_time": "2022-03-28T20:28:49.152Z"
   },
   {
    "duration": 16,
    "start_time": "2022-03-28T20:31:03.597Z"
   },
   {
    "duration": 19,
    "start_time": "2022-03-28T20:31:24.433Z"
   },
   {
    "duration": 24,
    "start_time": "2022-03-28T20:33:59.538Z"
   },
   {
    "duration": 22,
    "start_time": "2022-03-28T20:35:56.776Z"
   },
   {
    "duration": 14,
    "start_time": "2022-03-28T20:36:25.103Z"
   },
   {
    "duration": 1583,
    "start_time": "2022-03-28T20:36:51.601Z"
   },
   {
    "duration": 14,
    "start_time": "2022-03-28T20:37:42.696Z"
   },
   {
    "duration": 14,
    "start_time": "2022-03-28T20:38:07.823Z"
   },
   {
    "duration": 14,
    "start_time": "2022-03-28T20:38:57.805Z"
   },
   {
    "duration": 17,
    "start_time": "2022-03-28T20:45:07.408Z"
   },
   {
    "duration": 1536,
    "start_time": "2022-03-28T20:45:44.162Z"
   },
   {
    "duration": 13,
    "start_time": "2022-03-28T20:46:00.037Z"
   },
   {
    "duration": 16,
    "start_time": "2022-03-28T20:46:39.408Z"
   },
   {
    "duration": 14,
    "start_time": "2022-03-28T20:47:55.129Z"
   },
   {
    "duration": 16,
    "start_time": "2022-03-28T20:48:49.684Z"
   },
   {
    "duration": 17,
    "start_time": "2022-03-28T20:53:16.665Z"
   },
   {
    "duration": 659,
    "start_time": "2022-03-28T20:55:13.174Z"
   },
   {
    "duration": 17,
    "start_time": "2022-03-28T20:55:34.014Z"
   },
   {
    "duration": 15,
    "start_time": "2022-03-28T20:56:55.611Z"
   },
   {
    "duration": 14,
    "start_time": "2022-03-28T20:57:19.597Z"
   },
   {
    "duration": 16,
    "start_time": "2022-03-28T20:57:50.756Z"
   },
   {
    "duration": 15,
    "start_time": "2022-03-28T20:58:40.979Z"
   },
   {
    "duration": 16,
    "start_time": "2022-03-28T20:58:56.718Z"
   },
   {
    "duration": 18,
    "start_time": "2022-03-28T20:59:20.023Z"
   },
   {
    "duration": 36,
    "start_time": "2022-03-28T22:19:15.167Z"
   },
   {
    "duration": 20,
    "start_time": "2022-03-28T22:19:24.781Z"
   },
   {
    "duration": 18,
    "start_time": "2022-03-28T22:20:49.203Z"
   },
   {
    "duration": 19,
    "start_time": "2022-03-28T22:20:57.352Z"
   },
   {
    "duration": 19,
    "start_time": "2022-03-28T22:21:42.052Z"
   },
   {
    "duration": 21,
    "start_time": "2022-03-28T22:21:58.076Z"
   },
   {
    "duration": 27,
    "start_time": "2022-03-28T22:22:33.903Z"
   },
   {
    "duration": 20,
    "start_time": "2022-03-28T22:23:34.127Z"
   },
   {
    "duration": 18,
    "start_time": "2022-03-28T22:23:43.698Z"
   },
   {
    "duration": 23,
    "start_time": "2022-03-28T22:25:18.408Z"
   },
   {
    "duration": 25,
    "start_time": "2022-03-28T22:25:30.463Z"
   },
   {
    "duration": 20,
    "start_time": "2022-03-28T22:25:53.856Z"
   },
   {
    "duration": 18,
    "start_time": "2022-03-28T22:27:48.366Z"
   },
   {
    "duration": 18,
    "start_time": "2022-03-28T22:28:00.031Z"
   },
   {
    "duration": 19,
    "start_time": "2022-03-28T22:29:28.324Z"
   },
   {
    "duration": 19,
    "start_time": "2022-03-28T22:29:36.707Z"
   },
   {
    "duration": 18,
    "start_time": "2022-03-28T22:31:19.742Z"
   },
   {
    "duration": 18,
    "start_time": "2022-03-28T22:32:48.183Z"
   },
   {
    "duration": 18,
    "start_time": "2022-03-28T22:32:58.083Z"
   },
   {
    "duration": 20,
    "start_time": "2022-03-28T22:34:23.227Z"
   },
   {
    "duration": 19,
    "start_time": "2022-03-28T22:34:29.112Z"
   },
   {
    "duration": 18,
    "start_time": "2022-03-28T22:42:38.858Z"
   },
   {
    "duration": 16,
    "start_time": "2022-03-28T22:42:50.143Z"
   },
   {
    "duration": 57,
    "start_time": "2022-03-28T22:59:55.247Z"
   },
   {
    "duration": 16,
    "start_time": "2022-03-28T23:00:56.079Z"
   },
   {
    "duration": 29,
    "start_time": "2022-03-28T23:06:04.390Z"
   },
   {
    "duration": 49,
    "start_time": "2022-03-28T23:07:27.273Z"
   },
   {
    "duration": 12,
    "start_time": "2022-03-28T23:08:18.365Z"
   },
   {
    "duration": 17,
    "start_time": "2022-03-28T23:09:27.955Z"
   },
   {
    "duration": 12,
    "start_time": "2022-03-28T23:09:33.991Z"
   },
   {
    "duration": 10,
    "start_time": "2022-03-28T23:10:10.803Z"
   },
   {
    "duration": 51,
    "start_time": "2022-03-28T23:11:48.609Z"
   },
   {
    "duration": 14,
    "start_time": "2022-03-28T23:13:04.470Z"
   },
   {
    "duration": 10,
    "start_time": "2022-03-28T23:13:43.520Z"
   },
   {
    "duration": 95,
    "start_time": "2022-03-28T23:15:02.123Z"
   },
   {
    "duration": 99,
    "start_time": "2022-03-28T23:15:10.115Z"
   },
   {
    "duration": 16,
    "start_time": "2022-03-28T23:15:25.789Z"
   },
   {
    "duration": 52,
    "start_time": "2022-03-28T23:16:12.003Z"
   },
   {
    "duration": 13,
    "start_time": "2022-03-28T23:18:29.697Z"
   },
   {
    "duration": 19,
    "start_time": "2022-03-28T23:18:44.200Z"
   },
   {
    "duration": 13,
    "start_time": "2022-03-28T23:26:21.291Z"
   },
   {
    "duration": 14,
    "start_time": "2022-03-28T23:26:52.904Z"
   },
   {
    "duration": 14,
    "start_time": "2022-03-28T23:27:43.803Z"
   },
   {
    "duration": 23,
    "start_time": "2022-03-28T23:30:10.526Z"
   },
   {
    "duration": 74,
    "start_time": "2022-03-28T23:30:24.312Z"
   },
   {
    "duration": 113,
    "start_time": "2022-03-28T23:31:58.036Z"
   },
   {
    "duration": 13,
    "start_time": "2022-03-28T23:33:01.054Z"
   },
   {
    "duration": 16,
    "start_time": "2022-03-28T23:33:12.605Z"
   },
   {
    "duration": 14,
    "start_time": "2022-03-28T23:33:42.763Z"
   },
   {
    "duration": 74,
    "start_time": "2022-03-28T23:33:59.307Z"
   },
   {
    "duration": 76,
    "start_time": "2022-03-28T23:36:07.924Z"
   },
   {
    "duration": 17,
    "start_time": "2022-03-28T23:40:46.816Z"
   },
   {
    "duration": 15,
    "start_time": "2022-03-28T23:41:03.522Z"
   },
   {
    "duration": 79,
    "start_time": "2022-03-28T23:41:22.553Z"
   },
   {
    "duration": 10,
    "start_time": "2022-03-29T00:00:14.033Z"
   },
   {
    "duration": 11,
    "start_time": "2022-03-29T00:00:20.595Z"
   },
   {
    "duration": 7,
    "start_time": "2022-03-29T00:00:36.763Z"
   },
   {
    "duration": 9,
    "start_time": "2022-03-29T00:04:25.722Z"
   },
   {
    "duration": 21,
    "start_time": "2022-03-29T00:06:06.369Z"
   },
   {
    "duration": 29,
    "start_time": "2022-03-29T00:11:42.315Z"
   },
   {
    "duration": 33,
    "start_time": "2022-03-29T00:24:50.146Z"
   },
   {
    "duration": 30,
    "start_time": "2022-03-29T00:26:45.351Z"
   },
   {
    "duration": 8,
    "start_time": "2022-03-29T00:27:00.431Z"
   },
   {
    "duration": 9,
    "start_time": "2022-03-29T00:27:47.872Z"
   },
   {
    "duration": 7,
    "start_time": "2022-03-29T00:27:57.435Z"
   },
   {
    "duration": 53,
    "start_time": "2022-03-29T00:28:34.551Z"
   },
   {
    "duration": 7,
    "start_time": "2022-03-29T00:28:34.607Z"
   },
   {
    "duration": 26,
    "start_time": "2022-03-29T00:28:34.616Z"
   },
   {
    "duration": 42,
    "start_time": "2022-03-29T00:28:34.644Z"
   },
   {
    "duration": 29,
    "start_time": "2022-03-29T00:28:34.689Z"
   },
   {
    "duration": 64,
    "start_time": "2022-03-29T00:28:34.721Z"
   },
   {
    "duration": 29,
    "start_time": "2022-03-29T00:28:34.788Z"
   },
   {
    "duration": 9,
    "start_time": "2022-03-29T00:28:34.820Z"
   },
   {
    "duration": 51,
    "start_time": "2022-03-29T00:28:34.832Z"
   },
   {
    "duration": 14,
    "start_time": "2022-03-29T00:28:34.886Z"
   },
   {
    "duration": 110,
    "start_time": "2022-03-29T00:28:34.903Z"
   },
   {
    "duration": 8,
    "start_time": "2022-03-29T00:28:45.511Z"
   },
   {
    "duration": 31,
    "start_time": "2022-03-29T00:28:58.856Z"
   },
   {
    "duration": 8,
    "start_time": "2022-03-29T00:29:10.182Z"
   },
   {
    "duration": 8,
    "start_time": "2022-03-29T00:29:23.295Z"
   },
   {
    "duration": 6,
    "start_time": "2022-03-29T00:29:32.411Z"
   },
   {
    "duration": 11,
    "start_time": "2022-03-29T00:33:14.507Z"
   },
   {
    "duration": 7,
    "start_time": "2022-03-29T00:33:47.326Z"
   },
   {
    "duration": 94,
    "start_time": "2022-03-29T00:34:11.783Z"
   },
   {
    "duration": 14,
    "start_time": "2022-03-29T00:35:00.072Z"
   },
   {
    "duration": 7,
    "start_time": "2022-03-29T00:35:04.786Z"
   },
   {
    "duration": 9,
    "start_time": "2022-03-29T00:36:42.218Z"
   },
   {
    "duration": 13,
    "start_time": "2022-03-29T00:43:23.491Z"
   },
   {
    "duration": 17,
    "start_time": "2022-03-29T00:43:44.992Z"
   },
   {
    "duration": 47,
    "start_time": "2022-03-29T00:44:06.997Z"
   },
   {
    "duration": 6,
    "start_time": "2022-03-29T00:44:07.047Z"
   },
   {
    "duration": 25,
    "start_time": "2022-03-29T00:44:07.055Z"
   },
   {
    "duration": 20,
    "start_time": "2022-03-29T00:44:07.083Z"
   },
   {
    "duration": 30,
    "start_time": "2022-03-29T00:44:07.107Z"
   },
   {
    "duration": 32,
    "start_time": "2022-03-29T00:44:07.168Z"
   },
   {
    "duration": 64,
    "start_time": "2022-03-29T00:44:07.203Z"
   },
   {
    "duration": 12,
    "start_time": "2022-03-29T00:44:07.269Z"
   },
   {
    "duration": 18,
    "start_time": "2022-03-29T00:44:07.284Z"
   },
   {
    "duration": 16,
    "start_time": "2022-03-29T00:44:07.305Z"
   },
   {
    "duration": 144,
    "start_time": "2022-03-29T00:44:07.323Z"
   },
   {
    "duration": 9,
    "start_time": "2022-03-29T00:44:07.469Z"
   },
   {
    "duration": 32,
    "start_time": "2022-03-29T00:44:07.481Z"
   },
   {
    "duration": 8,
    "start_time": "2022-03-29T00:44:07.518Z"
   },
   {
    "duration": 7,
    "start_time": "2022-03-29T00:44:11.841Z"
   },
   {
    "duration": 10,
    "start_time": "2022-03-29T00:45:37.381Z"
   },
   {
    "duration": 7,
    "start_time": "2022-03-29T00:45:47.721Z"
   },
   {
    "duration": 7,
    "start_time": "2022-03-29T00:50:48.729Z"
   },
   {
    "duration": 24,
    "start_time": "2022-03-29T01:02:26.268Z"
   },
   {
    "duration": 24,
    "start_time": "2022-03-29T01:03:10.143Z"
   },
   {
    "duration": 25970,
    "start_time": "2022-03-29T01:03:50.226Z"
   },
   {
    "duration": 1417,
    "start_time": "2022-03-29T01:04:35.411Z"
   },
   {
    "duration": 52,
    "start_time": "2022-03-29T01:05:12.597Z"
   },
   {
    "duration": 4,
    "start_time": "2022-03-29T01:05:12.652Z"
   },
   {
    "duration": 25,
    "start_time": "2022-03-29T01:05:12.658Z"
   },
   {
    "duration": 20,
    "start_time": "2022-03-29T01:05:12.685Z"
   },
   {
    "duration": 29,
    "start_time": "2022-03-29T01:05:12.708Z"
   },
   {
    "duration": 54,
    "start_time": "2022-03-29T01:05:12.739Z"
   },
   {
    "duration": 28,
    "start_time": "2022-03-29T01:05:12.795Z"
   },
   {
    "duration": 10,
    "start_time": "2022-03-29T01:05:12.825Z"
   },
   {
    "duration": 16,
    "start_time": "2022-03-29T01:05:12.868Z"
   },
   {
    "duration": 15,
    "start_time": "2022-03-29T01:05:12.886Z"
   },
   {
    "duration": 110,
    "start_time": "2022-03-29T01:05:12.903Z"
   },
   {
    "duration": 8,
    "start_time": "2022-03-29T01:05:13.015Z"
   },
   {
    "duration": 57,
    "start_time": "2022-03-29T01:05:13.025Z"
   },
   {
    "duration": 8,
    "start_time": "2022-03-29T01:05:13.085Z"
   },
   {
    "duration": 7,
    "start_time": "2022-03-29T01:05:13.095Z"
   },
   {
    "duration": 10,
    "start_time": "2022-03-29T01:05:13.104Z"
   },
   {
    "duration": 6,
    "start_time": "2022-03-29T01:05:16.153Z"
   },
   {
    "duration": 53,
    "start_time": "2022-03-29T01:09:39.350Z"
   },
   {
    "duration": 5,
    "start_time": "2022-03-29T01:09:39.406Z"
   },
   {
    "duration": 23,
    "start_time": "2022-03-29T01:09:39.413Z"
   },
   {
    "duration": 20,
    "start_time": "2022-03-29T01:09:39.467Z"
   },
   {
    "duration": 28,
    "start_time": "2022-03-29T01:09:39.489Z"
   },
   {
    "duration": 59,
    "start_time": "2022-03-29T01:09:39.519Z"
   },
   {
    "duration": 30,
    "start_time": "2022-03-29T01:09:39.580Z"
   },
   {
    "duration": 9,
    "start_time": "2022-03-29T01:09:39.612Z"
   },
   {
    "duration": 52,
    "start_time": "2022-03-29T01:09:39.624Z"
   },
   {
    "duration": 14,
    "start_time": "2022-03-29T01:09:39.680Z"
   },
   {
    "duration": 104,
    "start_time": "2022-03-29T01:09:39.696Z"
   },
   {
    "duration": 8,
    "start_time": "2022-03-29T01:09:39.802Z"
   },
   {
    "duration": 58,
    "start_time": "2022-03-29T01:09:39.812Z"
   },
   {
    "duration": 7,
    "start_time": "2022-03-29T01:09:39.873Z"
   },
   {
    "duration": 7,
    "start_time": "2022-03-29T01:09:39.882Z"
   },
   {
    "duration": 9,
    "start_time": "2022-03-29T01:09:39.891Z"
   },
   {
    "duration": 6,
    "start_time": "2022-03-29T01:09:43.236Z"
   },
   {
    "duration": 32,
    "start_time": "2022-03-29T01:11:00.483Z"
   },
   {
    "duration": 32,
    "start_time": "2022-03-29T01:11:12.255Z"
   },
   {
    "duration": 18,
    "start_time": "2022-03-29T01:17:06.819Z"
   },
   {
    "duration": 19,
    "start_time": "2022-03-29T01:17:22.552Z"
   },
   {
    "duration": 12,
    "start_time": "2022-03-29T01:18:05.116Z"
   },
   {
    "duration": 18,
    "start_time": "2022-03-29T01:19:10.417Z"
   },
   {
    "duration": 10,
    "start_time": "2022-03-29T01:19:38.051Z"
   },
   {
    "duration": 11,
    "start_time": "2022-03-29T01:22:26.583Z"
   },
   {
    "duration": 101,
    "start_time": "2022-03-29T01:40:03.340Z"
   },
   {
    "duration": 2907,
    "start_time": "2022-03-29T01:40:19.895Z"
   },
   {
    "duration": 12,
    "start_time": "2022-03-29T01:40:28.613Z"
   },
   {
    "duration": 19,
    "start_time": "2022-03-29T01:40:45.384Z"
   },
   {
    "duration": 2828,
    "start_time": "2022-03-29T01:41:10.543Z"
   },
   {
    "duration": 19,
    "start_time": "2022-03-29T01:41:13.373Z"
   },
   {
    "duration": 6,
    "start_time": "2022-03-29T01:42:19.533Z"
   },
   {
    "duration": 19,
    "start_time": "2022-03-29T01:42:28.089Z"
   },
   {
    "duration": 32,
    "start_time": "2022-03-29T01:42:46.213Z"
   },
   {
    "duration": 6,
    "start_time": "2022-03-29T01:47:05.557Z"
   },
   {
    "duration": 8,
    "start_time": "2022-03-29T01:47:20.027Z"
   },
   {
    "duration": 15,
    "start_time": "2022-03-29T01:49:45.343Z"
   },
   {
    "duration": 8,
    "start_time": "2022-03-29T01:50:39.441Z"
   },
   {
    "duration": 376,
    "start_time": "2022-03-29T01:51:44.572Z"
   },
   {
    "duration": 97,
    "start_time": "2022-03-29T01:52:43.089Z"
   },
   {
    "duration": 385,
    "start_time": "2022-03-29T01:52:54.652Z"
   },
   {
    "duration": 15,
    "start_time": "2022-03-29T01:53:53.932Z"
   },
   {
    "duration": 15,
    "start_time": "2022-03-29T01:54:07.110Z"
   },
   {
    "duration": 16,
    "start_time": "2022-03-29T01:54:59.147Z"
   },
   {
    "duration": 17,
    "start_time": "2022-03-29T01:57:22.492Z"
   },
   {
    "duration": 15,
    "start_time": "2022-03-29T01:58:03.274Z"
   },
   {
    "duration": 31,
    "start_time": "2022-03-29T01:59:23.393Z"
   },
   {
    "duration": 18,
    "start_time": "2022-03-29T02:00:04.264Z"
   },
   {
    "duration": 28,
    "start_time": "2022-03-29T02:00:15.768Z"
   },
   {
    "duration": 28,
    "start_time": "2022-03-29T02:00:48.579Z"
   },
   {
    "duration": 26,
    "start_time": "2022-03-29T02:01:06.508Z"
   },
   {
    "duration": 18,
    "start_time": "2022-03-29T02:01:30.964Z"
   },
   {
    "duration": 39,
    "start_time": "2022-03-29T02:01:49.444Z"
   },
   {
    "duration": 46,
    "start_time": "2022-03-29T02:03:21.782Z"
   },
   {
    "duration": 453,
    "start_time": "2022-03-29T21:05:24.912Z"
   },
   {
    "duration": 8,
    "start_time": "2022-03-29T21:05:25.368Z"
   },
   {
    "duration": 33,
    "start_time": "2022-03-29T21:05:25.378Z"
   },
   {
    "duration": 15,
    "start_time": "2022-03-29T21:05:25.414Z"
   },
   {
    "duration": 25,
    "start_time": "2022-03-29T21:05:25.431Z"
   },
   {
    "duration": 17,
    "start_time": "2022-03-29T21:05:25.457Z"
   },
   {
    "duration": 34,
    "start_time": "2022-03-29T21:05:25.475Z"
   },
   {
    "duration": 7,
    "start_time": "2022-03-29T21:05:25.510Z"
   },
   {
    "duration": 505,
    "start_time": "2022-03-29T21:05:25.519Z"
   },
   {
    "duration": 11,
    "start_time": "2022-03-29T21:05:26.027Z"
   },
   {
    "duration": 71,
    "start_time": "2022-03-29T21:05:26.040Z"
   },
   {
    "duration": 4,
    "start_time": "2022-03-29T21:05:26.113Z"
   },
   {
    "duration": 46,
    "start_time": "2022-03-29T21:05:26.118Z"
   },
   {
    "duration": 12,
    "start_time": "2022-03-29T21:05:26.165Z"
   },
   {
    "duration": 15,
    "start_time": "2022-03-29T21:05:26.178Z"
   },
   {
    "duration": 21,
    "start_time": "2022-03-29T21:05:26.195Z"
   },
   {
    "duration": 17,
    "start_time": "2022-03-29T21:05:26.217Z"
   },
   {
    "duration": 24,
    "start_time": "2022-03-29T21:05:26.235Z"
   },
   {
    "duration": 33,
    "start_time": "2022-03-29T21:05:26.260Z"
   },
   {
    "duration": 20,
    "start_time": "2022-03-29T21:06:04.639Z"
   },
   {
    "duration": 7,
    "start_time": "2022-03-29T21:06:42.148Z"
   },
   {
    "duration": 45,
    "start_time": "2022-03-29T21:06:54.127Z"
   },
   {
    "duration": 3,
    "start_time": "2022-03-29T21:06:54.175Z"
   },
   {
    "duration": 17,
    "start_time": "2022-03-29T21:06:54.179Z"
   },
   {
    "duration": 17,
    "start_time": "2022-03-29T21:06:54.198Z"
   },
   {
    "duration": 18,
    "start_time": "2022-03-29T21:06:54.216Z"
   },
   {
    "duration": 17,
    "start_time": "2022-03-29T21:06:54.236Z"
   },
   {
    "duration": 18,
    "start_time": "2022-03-29T21:06:54.254Z"
   },
   {
    "duration": 32,
    "start_time": "2022-03-29T21:06:54.274Z"
   },
   {
    "duration": 12,
    "start_time": "2022-03-29T21:06:54.307Z"
   },
   {
    "duration": 9,
    "start_time": "2022-03-29T21:06:54.320Z"
   },
   {
    "duration": 77,
    "start_time": "2022-03-29T21:06:54.330Z"
   },
   {
    "duration": 5,
    "start_time": "2022-03-29T21:06:54.409Z"
   },
   {
    "duration": 28,
    "start_time": "2022-03-29T21:06:54.415Z"
   },
   {
    "duration": 4,
    "start_time": "2022-03-29T21:06:54.445Z"
   },
   {
    "duration": 5,
    "start_time": "2022-03-29T21:06:54.450Z"
   },
   {
    "duration": 7,
    "start_time": "2022-03-29T21:06:54.456Z"
   },
   {
    "duration": 6,
    "start_time": "2022-03-29T21:06:54.465Z"
   },
   {
    "duration": 33,
    "start_time": "2022-03-29T21:06:54.472Z"
   },
   {
    "duration": 20,
    "start_time": "2022-03-29T21:06:58.740Z"
   },
   {
    "duration": 7,
    "start_time": "2022-03-29T21:07:02.275Z"
   },
   {
    "duration": 5,
    "start_time": "2022-03-29T21:09:29.818Z"
   },
   {
    "duration": 73,
    "start_time": "2022-03-29T21:09:56.231Z"
   },
   {
    "duration": 14,
    "start_time": "2022-03-29T21:10:02.818Z"
   },
   {
    "duration": 23,
    "start_time": "2022-03-29T21:10:43.886Z"
   },
   {
    "duration": 5,
    "start_time": "2022-03-29T21:13:42.584Z"
   },
   {
    "duration": 5,
    "start_time": "2022-03-29T21:17:06.318Z"
   },
   {
    "duration": 185,
    "start_time": "2022-03-29T21:22:30.765Z"
   },
   {
    "duration": 6,
    "start_time": "2022-03-29T21:22:42.487Z"
   },
   {
    "duration": 10,
    "start_time": "2022-03-29T21:22:45.354Z"
   },
   {
    "duration": 59,
    "start_time": "2022-03-29T21:23:24.458Z"
   },
   {
    "duration": 4,
    "start_time": "2022-03-29T21:23:24.519Z"
   },
   {
    "duration": 16,
    "start_time": "2022-03-29T21:23:24.525Z"
   },
   {
    "duration": 15,
    "start_time": "2022-03-29T21:23:24.544Z"
   },
   {
    "duration": 18,
    "start_time": "2022-03-29T21:23:24.560Z"
   },
   {
    "duration": 38,
    "start_time": "2022-03-29T21:23:24.580Z"
   },
   {
    "duration": 19,
    "start_time": "2022-03-29T21:23:24.620Z"
   },
   {
    "duration": 7,
    "start_time": "2022-03-29T21:23:24.640Z"
   },
   {
    "duration": 12,
    "start_time": "2022-03-29T21:23:24.648Z"
   },
   {
    "duration": 47,
    "start_time": "2022-03-29T21:23:24.662Z"
   },
   {
    "duration": 51,
    "start_time": "2022-03-29T21:23:24.711Z"
   },
   {
    "duration": 5,
    "start_time": "2022-03-29T21:23:24.763Z"
   },
   {
    "duration": 47,
    "start_time": "2022-03-29T21:23:24.770Z"
   },
   {
    "duration": 5,
    "start_time": "2022-03-29T21:23:24.819Z"
   },
   {
    "duration": 5,
    "start_time": "2022-03-29T21:23:24.825Z"
   },
   {
    "duration": 6,
    "start_time": "2022-03-29T21:23:24.832Z"
   },
   {
    "duration": 4,
    "start_time": "2022-03-29T21:23:24.840Z"
   },
   {
    "duration": 9,
    "start_time": "2022-03-29T21:23:24.846Z"
   },
   {
    "duration": 60,
    "start_time": "2022-03-29T21:23:24.857Z"
   },
   {
    "duration": 25,
    "start_time": "2022-03-29T21:23:24.918Z"
   },
   {
    "duration": 6,
    "start_time": "2022-03-29T21:23:30.215Z"
   },
   {
    "duration": 5,
    "start_time": "2022-03-29T21:23:39.649Z"
   },
   {
    "duration": 10,
    "start_time": "2022-03-29T21:23:43.121Z"
   },
   {
    "duration": 16,
    "start_time": "2022-03-29T21:28:16.180Z"
   },
   {
    "duration": 5,
    "start_time": "2022-03-29T21:29:03.400Z"
   },
   {
    "duration": 4,
    "start_time": "2022-03-29T21:32:28.408Z"
   },
   {
    "duration": 6,
    "start_time": "2022-03-29T21:32:50.371Z"
   },
   {
    "duration": 12,
    "start_time": "2022-03-29T21:33:39.712Z"
   },
   {
    "duration": 11,
    "start_time": "2022-03-29T21:36:25.513Z"
   },
   {
    "duration": 6,
    "start_time": "2022-03-29T21:36:33.168Z"
   },
   {
    "duration": 5,
    "start_time": "2022-03-29T21:37:28.603Z"
   },
   {
    "duration": 6,
    "start_time": "2022-03-29T21:37:42.873Z"
   },
   {
    "duration": 6,
    "start_time": "2022-03-29T21:40:15.370Z"
   },
   {
    "duration": 14,
    "start_time": "2022-03-29T21:51:25.356Z"
   },
   {
    "duration": 758,
    "start_time": "2022-03-29T21:52:12.170Z"
   },
   {
    "duration": 1083,
    "start_time": "2022-03-29T21:54:51.492Z"
   },
   {
    "duration": 844,
    "start_time": "2022-03-29T21:55:41.197Z"
   },
   {
    "duration": 798,
    "start_time": "2022-03-29T21:57:47.425Z"
   },
   {
    "duration": 825,
    "start_time": "2022-03-29T22:01:20.044Z"
   },
   {
    "duration": 803,
    "start_time": "2022-03-29T22:01:25.788Z"
   },
   {
    "duration": 5,
    "start_time": "2022-03-29T22:01:52.775Z"
   },
   {
    "duration": 6,
    "start_time": "2022-03-29T22:02:11.152Z"
   },
   {
    "duration": 228,
    "start_time": "2022-03-29T22:03:04.164Z"
   },
   {
    "duration": 5,
    "start_time": "2022-03-29T22:03:18.918Z"
   },
   {
    "duration": 780,
    "start_time": "2022-03-29T22:04:04.727Z"
   },
   {
    "duration": 826,
    "start_time": "2022-03-29T22:04:24.537Z"
   },
   {
    "duration": 12,
    "start_time": "2022-03-29T22:05:12.489Z"
   },
   {
    "duration": 5,
    "start_time": "2022-03-29T22:05:27.599Z"
   },
   {
    "duration": 46,
    "start_time": "2022-03-29T22:06:07.054Z"
   },
   {
    "duration": 4,
    "start_time": "2022-03-29T22:06:07.101Z"
   },
   {
    "duration": 16,
    "start_time": "2022-03-29T22:06:07.106Z"
   },
   {
    "duration": 15,
    "start_time": "2022-03-29T22:06:07.124Z"
   },
   {
    "duration": 19,
    "start_time": "2022-03-29T22:06:07.140Z"
   },
   {
    "duration": 54,
    "start_time": "2022-03-29T22:06:07.160Z"
   },
   {
    "duration": 20,
    "start_time": "2022-03-29T22:06:07.215Z"
   },
   {
    "duration": 6,
    "start_time": "2022-03-29T22:06:07.237Z"
   },
   {
    "duration": 11,
    "start_time": "2022-03-29T22:06:07.245Z"
   },
   {
    "duration": 9,
    "start_time": "2022-03-29T22:06:07.259Z"
   },
   {
    "duration": 61,
    "start_time": "2022-03-29T22:06:07.301Z"
   },
   {
    "duration": 6,
    "start_time": "2022-03-29T22:06:07.364Z"
   },
   {
    "duration": 44,
    "start_time": "2022-03-29T22:06:07.372Z"
   },
   {
    "duration": 4,
    "start_time": "2022-03-29T22:06:07.418Z"
   },
   {
    "duration": 5,
    "start_time": "2022-03-29T22:06:07.424Z"
   },
   {
    "duration": 6,
    "start_time": "2022-03-29T22:06:07.431Z"
   },
   {
    "duration": 4,
    "start_time": "2022-03-29T22:06:07.439Z"
   },
   {
    "duration": 9,
    "start_time": "2022-03-29T22:06:07.444Z"
   },
   {
    "duration": 53,
    "start_time": "2022-03-29T22:06:07.454Z"
   },
   {
    "duration": 26,
    "start_time": "2022-03-29T22:06:07.509Z"
   },
   {
    "duration": 4,
    "start_time": "2022-03-29T22:06:07.537Z"
   },
   {
    "duration": 6,
    "start_time": "2022-03-29T22:06:07.543Z"
   },
   {
    "duration": 15,
    "start_time": "2022-03-29T22:06:07.550Z"
   },
   {
    "duration": 35,
    "start_time": "2022-03-29T22:06:07.567Z"
   },
   {
    "duration": 5,
    "start_time": "2022-03-29T22:06:07.604Z"
   },
   {
    "duration": 10,
    "start_time": "2022-03-29T22:06:07.611Z"
   },
   {
    "duration": 6,
    "start_time": "2022-03-29T22:06:07.622Z"
   },
   {
    "duration": 8,
    "start_time": "2022-03-29T22:06:07.631Z"
   },
   {
    "duration": 6,
    "start_time": "2022-03-29T22:06:09.973Z"
   },
   {
    "duration": 13,
    "start_time": "2022-03-29T22:06:13.653Z"
   },
   {
    "duration": 5,
    "start_time": "2022-03-29T22:06:16.810Z"
   },
   {
    "duration": 44,
    "start_time": "2022-03-29T22:07:28.374Z"
   },
   {
    "duration": 3,
    "start_time": "2022-03-29T22:07:28.420Z"
   },
   {
    "duration": 18,
    "start_time": "2022-03-29T22:07:28.425Z"
   },
   {
    "duration": 16,
    "start_time": "2022-03-29T22:07:28.445Z"
   },
   {
    "duration": 44,
    "start_time": "2022-03-29T22:07:28.463Z"
   },
   {
    "duration": 20,
    "start_time": "2022-03-29T22:07:28.509Z"
   },
   {
    "duration": 19,
    "start_time": "2022-03-29T22:07:28.531Z"
   },
   {
    "duration": 6,
    "start_time": "2022-03-29T22:07:28.552Z"
   },
   {
    "duration": 46,
    "start_time": "2022-03-29T22:07:28.560Z"
   },
   {
    "duration": 11,
    "start_time": "2022-03-29T22:07:28.609Z"
   },
   {
    "duration": 84,
    "start_time": "2022-03-29T22:07:28.621Z"
   },
   {
    "duration": 6,
    "start_time": "2022-03-29T22:07:28.707Z"
   },
   {
    "duration": 22,
    "start_time": "2022-03-29T22:07:28.715Z"
   },
   {
    "duration": 5,
    "start_time": "2022-03-29T22:07:28.739Z"
   },
   {
    "duration": 8,
    "start_time": "2022-03-29T22:07:28.745Z"
   },
   {
    "duration": 11,
    "start_time": "2022-03-29T22:07:28.755Z"
   },
   {
    "duration": 38,
    "start_time": "2022-03-29T22:07:28.767Z"
   },
   {
    "duration": 8,
    "start_time": "2022-03-29T22:07:28.807Z"
   },
   {
    "duration": 22,
    "start_time": "2022-03-29T22:07:28.816Z"
   },
   {
    "duration": 23,
    "start_time": "2022-03-29T22:07:28.839Z"
   },
   {
    "duration": 5,
    "start_time": "2022-03-29T22:07:28.864Z"
   },
   {
    "duration": 6,
    "start_time": "2022-03-29T22:07:28.902Z"
   },
   {
    "duration": 23,
    "start_time": "2022-03-29T22:07:28.910Z"
   },
   {
    "duration": 5,
    "start_time": "2022-03-29T22:07:28.935Z"
   },
   {
    "duration": 11,
    "start_time": "2022-03-29T22:07:28.942Z"
   },
   {
    "duration": 27,
    "start_time": "2022-03-29T22:07:28.955Z"
   },
   {
    "duration": 18,
    "start_time": "2022-03-29T22:07:28.984Z"
   },
   {
    "duration": 5,
    "start_time": "2022-03-29T22:07:29.006Z"
   },
   {
    "duration": 14,
    "start_time": "2022-03-29T22:07:29.013Z"
   },
   {
    "duration": 18,
    "start_time": "2022-03-29T22:07:31.867Z"
   },
   {
    "duration": 5,
    "start_time": "2022-03-29T22:07:36.083Z"
   },
   {
    "duration": 16,
    "start_time": "2022-03-29T22:08:26.692Z"
   },
   {
    "duration": 14,
    "start_time": "2022-03-29T22:08:35.228Z"
   },
   {
    "duration": 16,
    "start_time": "2022-03-29T22:11:03.201Z"
   },
   {
    "duration": 16,
    "start_time": "2022-03-29T22:19:22.278Z"
   },
   {
    "duration": 15,
    "start_time": "2022-03-29T22:19:33.135Z"
   },
   {
    "duration": 14,
    "start_time": "2022-03-29T22:19:48.723Z"
   },
   {
    "duration": 46,
    "start_time": "2022-03-29T22:28:06.134Z"
   },
   {
    "duration": 4,
    "start_time": "2022-03-29T22:28:06.181Z"
   },
   {
    "duration": 16,
    "start_time": "2022-03-29T22:28:06.187Z"
   },
   {
    "duration": 15,
    "start_time": "2022-03-29T22:28:06.205Z"
   },
   {
    "duration": 18,
    "start_time": "2022-03-29T22:28:06.221Z"
   },
   {
    "duration": 17,
    "start_time": "2022-03-29T22:28:06.241Z"
   },
   {
    "duration": 44,
    "start_time": "2022-03-29T22:28:06.260Z"
   },
   {
    "duration": 7,
    "start_time": "2022-03-29T22:28:06.305Z"
   },
   {
    "duration": 12,
    "start_time": "2022-03-29T22:28:06.313Z"
   },
   {
    "duration": 11,
    "start_time": "2022-03-29T22:28:06.328Z"
   },
   {
    "duration": 85,
    "start_time": "2022-03-29T22:28:06.340Z"
   },
   {
    "duration": 6,
    "start_time": "2022-03-29T22:28:06.427Z"
   },
   {
    "duration": 24,
    "start_time": "2022-03-29T22:28:06.434Z"
   },
   {
    "duration": 5,
    "start_time": "2022-03-29T22:28:06.460Z"
   },
   {
    "duration": 35,
    "start_time": "2022-03-29T22:28:06.467Z"
   },
   {
    "duration": 10,
    "start_time": "2022-03-29T22:28:09.227Z"
   },
   {
    "duration": 44,
    "start_time": "2022-03-29T22:28:49.403Z"
   },
   {
    "duration": 3,
    "start_time": "2022-03-29T22:28:49.449Z"
   },
   {
    "duration": 16,
    "start_time": "2022-03-29T22:28:49.453Z"
   },
   {
    "duration": 30,
    "start_time": "2022-03-29T22:28:49.471Z"
   },
   {
    "duration": 18,
    "start_time": "2022-03-29T22:28:49.502Z"
   },
   {
    "duration": 18,
    "start_time": "2022-03-29T22:28:49.521Z"
   },
   {
    "duration": 18,
    "start_time": "2022-03-29T22:28:49.540Z"
   },
   {
    "duration": 6,
    "start_time": "2022-03-29T22:28:49.560Z"
   },
   {
    "duration": 42,
    "start_time": "2022-03-29T22:28:49.567Z"
   },
   {
    "duration": 10,
    "start_time": "2022-03-29T22:28:49.612Z"
   },
   {
    "duration": 50,
    "start_time": "2022-03-29T22:28:49.623Z"
   },
   {
    "duration": 4,
    "start_time": "2022-03-29T22:28:49.675Z"
   },
   {
    "duration": 30,
    "start_time": "2022-03-29T22:28:49.701Z"
   },
   {
    "duration": 4,
    "start_time": "2022-03-29T22:28:49.733Z"
   },
   {
    "duration": 17,
    "start_time": "2022-03-29T22:28:49.739Z"
   },
   {
    "duration": 12,
    "start_time": "2022-03-29T22:28:49.758Z"
   },
   {
    "duration": 16,
    "start_time": "2022-03-29T22:28:49.771Z"
   },
   {
    "duration": 22,
    "start_time": "2022-03-29T22:28:49.788Z"
   },
   {
    "duration": 29,
    "start_time": "2022-03-29T22:28:49.811Z"
   },
   {
    "duration": 27,
    "start_time": "2022-03-29T22:28:49.842Z"
   },
   {
    "duration": 4,
    "start_time": "2022-03-29T22:28:49.871Z"
   },
   {
    "duration": 7,
    "start_time": "2022-03-29T22:28:49.877Z"
   },
   {
    "duration": 24,
    "start_time": "2022-03-29T22:28:49.886Z"
   },
   {
    "duration": 6,
    "start_time": "2022-03-29T22:28:49.912Z"
   },
   {
    "duration": 8,
    "start_time": "2022-03-29T22:28:49.919Z"
   },
   {
    "duration": 13,
    "start_time": "2022-03-29T22:28:49.929Z"
   },
   {
    "duration": 7,
    "start_time": "2022-03-29T22:28:49.944Z"
   },
   {
    "duration": 6,
    "start_time": "2022-03-29T22:28:49.955Z"
   },
   {
    "duration": 10,
    "start_time": "2022-03-29T22:28:49.962Z"
   },
   {
    "duration": 15,
    "start_time": "2022-03-29T22:28:50.001Z"
   },
   {
    "duration": 9,
    "start_time": "2022-03-29T22:28:50.018Z"
   },
   {
    "duration": 17,
    "start_time": "2022-03-29T22:28:50.028Z"
   },
   {
    "duration": 450,
    "start_time": "2022-04-01T05:32:31.278Z"
   },
   {
    "duration": 9,
    "start_time": "2022-04-01T05:32:31.730Z"
   },
   {
    "duration": 17,
    "start_time": "2022-04-01T05:32:31.741Z"
   },
   {
    "duration": 15,
    "start_time": "2022-04-01T05:32:31.759Z"
   },
   {
    "duration": 20,
    "start_time": "2022-04-01T05:32:31.776Z"
   },
   {
    "duration": 25,
    "start_time": "2022-04-01T05:32:31.798Z"
   },
   {
    "duration": 25,
    "start_time": "2022-04-01T05:32:31.825Z"
   },
   {
    "duration": 29,
    "start_time": "2022-04-01T05:32:31.852Z"
   },
   {
    "duration": 660,
    "start_time": "2022-04-01T05:32:31.883Z"
   },
   {
    "duration": 13,
    "start_time": "2022-04-01T05:32:32.545Z"
   },
   {
    "duration": 86,
    "start_time": "2022-04-01T05:32:32.560Z"
   },
   {
    "duration": 7,
    "start_time": "2022-04-01T05:32:32.647Z"
   },
   {
    "duration": 42,
    "start_time": "2022-04-01T05:32:32.656Z"
   },
   {
    "duration": 6,
    "start_time": "2022-04-01T05:32:32.701Z"
   },
   {
    "duration": 5,
    "start_time": "2022-04-01T05:32:32.708Z"
   },
   {
    "duration": 11,
    "start_time": "2022-04-01T05:32:32.714Z"
   },
   {
    "duration": 5,
    "start_time": "2022-04-01T05:32:32.727Z"
   },
   {
    "duration": 10,
    "start_time": "2022-04-01T05:32:32.733Z"
   },
   {
    "duration": 45,
    "start_time": "2022-04-01T05:32:32.744Z"
   },
   {
    "duration": 23,
    "start_time": "2022-04-01T05:32:32.790Z"
   },
   {
    "duration": 4,
    "start_time": "2022-04-01T05:32:32.815Z"
   },
   {
    "duration": 5,
    "start_time": "2022-04-01T05:32:32.821Z"
   },
   {
    "duration": 13,
    "start_time": "2022-04-01T05:32:32.828Z"
   },
   {
    "duration": 4,
    "start_time": "2022-04-01T05:32:32.842Z"
   },
   {
    "duration": 34,
    "start_time": "2022-04-01T05:32:32.848Z"
   },
   {
    "duration": 9,
    "start_time": "2022-04-01T05:32:32.883Z"
   },
   {
    "duration": 6,
    "start_time": "2022-04-01T05:32:32.894Z"
   },
   {
    "duration": 12,
    "start_time": "2022-04-01T05:32:32.901Z"
   },
   {
    "duration": 14,
    "start_time": "2022-04-01T05:32:32.915Z"
   },
   {
    "duration": 19,
    "start_time": "2022-04-01T05:32:32.931Z"
   },
   {
    "duration": 12,
    "start_time": "2022-04-01T05:32:32.952Z"
   },
   {
    "duration": 14,
    "start_time": "2022-04-01T05:32:35.963Z"
   },
   {
    "duration": 8,
    "start_time": "2022-04-11T00:28:19.919Z"
   },
   {
    "duration": 43,
    "start_time": "2022-04-11T00:28:44.150Z"
   },
   {
    "duration": 439,
    "start_time": "2022-04-11T00:28:55.606Z"
   },
   {
    "duration": 8,
    "start_time": "2022-04-11T00:28:56.047Z"
   },
   {
    "duration": 18,
    "start_time": "2022-04-11T00:28:56.056Z"
   },
   {
    "duration": 13,
    "start_time": "2022-04-11T00:28:56.076Z"
   },
   {
    "duration": 23,
    "start_time": "2022-04-11T00:28:56.091Z"
   },
   {
    "duration": 17,
    "start_time": "2022-04-11T00:28:56.116Z"
   },
   {
    "duration": 19,
    "start_time": "2022-04-11T00:28:56.134Z"
   },
   {
    "duration": 7,
    "start_time": "2022-04-11T00:28:56.155Z"
   },
   {
    "duration": 489,
    "start_time": "2022-04-11T00:28:56.164Z"
   },
   {
    "duration": 12,
    "start_time": "2022-04-11T00:28:56.655Z"
   },
   {
    "duration": 62,
    "start_time": "2022-04-11T00:28:56.668Z"
   },
   {
    "duration": 4,
    "start_time": "2022-04-11T00:28:56.732Z"
   },
   {
    "duration": 21,
    "start_time": "2022-04-11T00:28:56.738Z"
   },
   {
    "duration": 5,
    "start_time": "2022-04-11T00:28:56.760Z"
   },
   {
    "duration": 4,
    "start_time": "2022-04-11T00:28:56.766Z"
   },
   {
    "duration": 34,
    "start_time": "2022-04-11T00:28:56.772Z"
   },
   {
    "duration": 4,
    "start_time": "2022-04-11T00:28:56.807Z"
   },
   {
    "duration": 8,
    "start_time": "2022-04-11T00:28:56.812Z"
   },
   {
    "duration": 20,
    "start_time": "2022-04-11T00:28:56.822Z"
   },
   {
    "duration": 23,
    "start_time": "2022-04-11T00:28:56.843Z"
   },
   {
    "duration": 36,
    "start_time": "2022-04-11T00:28:56.867Z"
   },
   {
    "duration": 5,
    "start_time": "2022-04-11T00:28:56.905Z"
   },
   {
    "duration": 16,
    "start_time": "2022-04-11T00:28:56.911Z"
   },
   {
    "duration": 4,
    "start_time": "2022-04-11T00:28:56.928Z"
   },
   {
    "duration": 9,
    "start_time": "2022-04-11T00:28:56.934Z"
   },
   {
    "duration": 18,
    "start_time": "2022-04-11T00:28:56.944Z"
   },
   {
    "duration": 8,
    "start_time": "2022-04-11T00:28:56.963Z"
   },
   {
    "duration": 5,
    "start_time": "2022-04-11T00:28:57.000Z"
   },
   {
    "duration": 7,
    "start_time": "2022-04-11T00:28:57.006Z"
   },
   {
    "duration": 13,
    "start_time": "2022-04-11T00:28:57.014Z"
   },
   {
    "duration": 11,
    "start_time": "2022-04-11T00:28:57.028Z"
   },
   {
    "duration": 18,
    "start_time": "2022-04-11T00:28:57.040Z"
   },
   {
    "duration": 3,
    "start_time": "2022-04-11T00:29:01.256Z"
   },
   {
    "duration": 14,
    "start_time": "2022-04-11T00:29:04.150Z"
   },
   {
    "duration": 19,
    "start_time": "2022-04-11T00:30:40.957Z"
   },
   {
    "duration": 38,
    "start_time": "2022-04-11T00:31:07.470Z"
   },
   {
    "duration": 7,
    "start_time": "2022-04-11T00:31:32.250Z"
   },
   {
    "duration": 8,
    "start_time": "2022-04-11T00:31:39.736Z"
   },
   {
    "duration": 6,
    "start_time": "2022-04-11T00:32:19.261Z"
   },
   {
    "duration": 8,
    "start_time": "2022-04-11T00:33:31.387Z"
   },
   {
    "duration": 8,
    "start_time": "2022-04-11T00:35:04.640Z"
   },
   {
    "duration": 13,
    "start_time": "2022-04-11T00:35:13.987Z"
   },
   {
    "duration": 5,
    "start_time": "2022-04-11T00:42:32.646Z"
   },
   {
    "duration": 56,
    "start_time": "2022-04-11T00:42:37.152Z"
   },
   {
    "duration": 4,
    "start_time": "2022-04-11T00:42:37.209Z"
   },
   {
    "duration": 19,
    "start_time": "2022-04-11T00:42:37.214Z"
   },
   {
    "duration": 14,
    "start_time": "2022-04-11T00:42:37.235Z"
   },
   {
    "duration": 19,
    "start_time": "2022-04-11T00:42:37.250Z"
   },
   {
    "duration": 42,
    "start_time": "2022-04-11T00:42:37.270Z"
   },
   {
    "duration": 18,
    "start_time": "2022-04-11T00:42:37.314Z"
   },
   {
    "duration": 7,
    "start_time": "2022-04-11T00:42:37.334Z"
   },
   {
    "duration": 11,
    "start_time": "2022-04-11T00:42:37.342Z"
   },
   {
    "duration": 10,
    "start_time": "2022-04-11T00:42:37.356Z"
   },
   {
    "duration": 80,
    "start_time": "2022-04-11T00:42:37.367Z"
   },
   {
    "duration": 5,
    "start_time": "2022-04-11T00:42:37.449Z"
   },
   {
    "duration": 21,
    "start_time": "2022-04-11T00:42:37.455Z"
   },
   {
    "duration": 6,
    "start_time": "2022-04-11T00:42:37.500Z"
   },
   {
    "duration": 6,
    "start_time": "2022-04-11T00:42:37.507Z"
   },
   {
    "duration": 9,
    "start_time": "2022-04-11T00:42:37.514Z"
   },
   {
    "duration": 4,
    "start_time": "2022-04-11T00:42:37.524Z"
   },
   {
    "duration": 8,
    "start_time": "2022-04-11T00:42:37.529Z"
   },
   {
    "duration": 22,
    "start_time": "2022-04-11T00:42:37.538Z"
   },
   {
    "duration": 57,
    "start_time": "2022-04-11T00:42:37.562Z"
   },
   {
    "duration": 24,
    "start_time": "2022-04-11T00:43:40.683Z"
   },
   {
    "duration": 44,
    "start_time": "2022-04-11T00:43:53.377Z"
   },
   {
    "duration": 4,
    "start_time": "2022-04-11T00:43:53.422Z"
   },
   {
    "duration": 20,
    "start_time": "2022-04-11T00:43:53.428Z"
   },
   {
    "duration": 13,
    "start_time": "2022-04-11T00:43:53.450Z"
   },
   {
    "duration": 20,
    "start_time": "2022-04-11T00:43:53.464Z"
   },
   {
    "duration": 18,
    "start_time": "2022-04-11T00:43:53.501Z"
   },
   {
    "duration": 17,
    "start_time": "2022-04-11T00:43:53.521Z"
   },
   {
    "duration": 6,
    "start_time": "2022-04-11T00:43:53.540Z"
   },
   {
    "duration": 10,
    "start_time": "2022-04-11T00:43:53.548Z"
   },
   {
    "duration": 47,
    "start_time": "2022-04-11T00:43:53.560Z"
   },
   {
    "duration": 53,
    "start_time": "2022-04-11T00:43:53.608Z"
   },
   {
    "duration": 5,
    "start_time": "2022-04-11T00:43:53.663Z"
   },
   {
    "duration": 42,
    "start_time": "2022-04-11T00:43:53.669Z"
   },
   {
    "duration": 4,
    "start_time": "2022-04-11T00:43:53.713Z"
   },
   {
    "duration": 4,
    "start_time": "2022-04-11T00:43:53.719Z"
   },
   {
    "duration": 9,
    "start_time": "2022-04-11T00:43:53.725Z"
   },
   {
    "duration": 4,
    "start_time": "2022-04-11T00:43:53.735Z"
   },
   {
    "duration": 8,
    "start_time": "2022-04-11T00:43:53.741Z"
   },
   {
    "duration": 52,
    "start_time": "2022-04-11T00:43:53.750Z"
   },
   {
    "duration": 23,
    "start_time": "2022-04-11T00:43:59.541Z"
   },
   {
    "duration": 21,
    "start_time": "2022-04-11T00:44:19.922Z"
   },
   {
    "duration": 5,
    "start_time": "2022-04-11T00:44:30.013Z"
   },
   {
    "duration": 10,
    "start_time": "2022-04-11T00:44:43.562Z"
   },
   {
    "duration": 44,
    "start_time": "2022-04-11T00:44:50.103Z"
   },
   {
    "duration": 3,
    "start_time": "2022-04-11T00:44:50.149Z"
   },
   {
    "duration": 29,
    "start_time": "2022-04-11T00:44:50.153Z"
   },
   {
    "duration": 22,
    "start_time": "2022-04-11T00:44:50.184Z"
   },
   {
    "duration": 24,
    "start_time": "2022-04-11T00:44:50.208Z"
   },
   {
    "duration": 18,
    "start_time": "2022-04-11T00:44:50.234Z"
   },
   {
    "duration": 19,
    "start_time": "2022-04-11T00:44:50.253Z"
   },
   {
    "duration": 7,
    "start_time": "2022-04-11T00:44:50.273Z"
   },
   {
    "duration": 13,
    "start_time": "2022-04-11T00:44:50.301Z"
   },
   {
    "duration": 11,
    "start_time": "2022-04-11T00:44:50.315Z"
   },
   {
    "duration": 74,
    "start_time": "2022-04-11T00:44:50.328Z"
   },
   {
    "duration": 5,
    "start_time": "2022-04-11T00:44:50.404Z"
   },
   {
    "duration": 33,
    "start_time": "2022-04-11T00:44:50.411Z"
   },
   {
    "duration": 7,
    "start_time": "2022-04-11T00:44:50.447Z"
   },
   {
    "duration": 20,
    "start_time": "2022-04-11T00:44:50.455Z"
   },
   {
    "duration": 25,
    "start_time": "2022-04-11T00:44:50.476Z"
   },
   {
    "duration": 5,
    "start_time": "2022-04-11T00:44:50.502Z"
   },
   {
    "duration": 11,
    "start_time": "2022-04-11T00:44:50.508Z"
   },
   {
    "duration": 21,
    "start_time": "2022-04-11T00:44:50.521Z"
   },
   {
    "duration": 24,
    "start_time": "2022-04-11T00:44:50.543Z"
   },
   {
    "duration": 9,
    "start_time": "2022-04-11T00:44:54.306Z"
   },
   {
    "duration": 6,
    "start_time": "2022-04-11T00:45:00.118Z"
   },
   {
    "duration": 5,
    "start_time": "2022-04-11T00:45:07.117Z"
   },
   {
    "duration": 24,
    "start_time": "2022-04-11T00:45:17.098Z"
   },
   {
    "duration": 6,
    "start_time": "2022-04-11T00:45:23.016Z"
   },
   {
    "duration": 20,
    "start_time": "2022-04-11T00:45:35.908Z"
   },
   {
    "duration": 45,
    "start_time": "2022-04-11T00:46:09.197Z"
   },
   {
    "duration": 4,
    "start_time": "2022-04-11T00:46:09.244Z"
   },
   {
    "duration": 16,
    "start_time": "2022-04-11T00:46:09.249Z"
   },
   {
    "duration": 16,
    "start_time": "2022-04-11T00:46:09.267Z"
   },
   {
    "duration": 37,
    "start_time": "2022-04-11T00:46:09.284Z"
   },
   {
    "duration": 20,
    "start_time": "2022-04-11T00:46:09.322Z"
   },
   {
    "duration": 20,
    "start_time": "2022-04-11T00:46:09.343Z"
   },
   {
    "duration": 7,
    "start_time": "2022-04-11T00:46:09.365Z"
   },
   {
    "duration": 13,
    "start_time": "2022-04-11T00:46:09.402Z"
   },
   {
    "duration": 10,
    "start_time": "2022-04-11T00:46:09.418Z"
   },
   {
    "duration": 74,
    "start_time": "2022-04-11T00:46:09.430Z"
   },
   {
    "duration": 5,
    "start_time": "2022-04-11T00:46:09.505Z"
   },
   {
    "duration": 21,
    "start_time": "2022-04-11T00:46:09.512Z"
   },
   {
    "duration": 5,
    "start_time": "2022-04-11T00:46:09.535Z"
   },
   {
    "duration": 6,
    "start_time": "2022-04-11T00:46:09.541Z"
   },
   {
    "duration": 11,
    "start_time": "2022-04-11T00:46:09.548Z"
   },
   {
    "duration": 40,
    "start_time": "2022-04-11T00:46:09.561Z"
   },
   {
    "duration": 9,
    "start_time": "2022-04-11T00:46:09.603Z"
   },
   {
    "duration": 19,
    "start_time": "2022-04-11T00:46:09.613Z"
   },
   {
    "duration": 23,
    "start_time": "2022-04-11T00:46:09.634Z"
   },
   {
    "duration": 5,
    "start_time": "2022-04-11T00:46:09.659Z"
   },
   {
    "duration": 21,
    "start_time": "2022-04-11T00:46:13.638Z"
   },
   {
    "duration": 47,
    "start_time": "2022-04-11T00:46:23.304Z"
   },
   {
    "duration": 4,
    "start_time": "2022-04-11T00:46:23.353Z"
   },
   {
    "duration": 16,
    "start_time": "2022-04-11T00:46:23.358Z"
   },
   {
    "duration": 30,
    "start_time": "2022-04-11T00:46:23.377Z"
   },
   {
    "duration": 19,
    "start_time": "2022-04-11T00:46:23.409Z"
   },
   {
    "duration": 20,
    "start_time": "2022-04-11T00:46:23.430Z"
   },
   {
    "duration": 50,
    "start_time": "2022-04-11T00:46:23.452Z"
   },
   {
    "duration": 8,
    "start_time": "2022-04-11T00:46:23.504Z"
   },
   {
    "duration": 12,
    "start_time": "2022-04-11T00:46:23.513Z"
   },
   {
    "duration": 11,
    "start_time": "2022-04-11T00:46:23.528Z"
   },
   {
    "duration": 81,
    "start_time": "2022-04-11T00:46:23.541Z"
   },
   {
    "duration": 6,
    "start_time": "2022-04-11T00:46:23.624Z"
   },
   {
    "duration": 20,
    "start_time": "2022-04-11T00:46:23.632Z"
   },
   {
    "duration": 5,
    "start_time": "2022-04-11T00:46:23.654Z"
   },
   {
    "duration": 4,
    "start_time": "2022-04-11T00:46:23.661Z"
   },
   {
    "duration": 10,
    "start_time": "2022-04-11T00:46:23.702Z"
   },
   {
    "duration": 5,
    "start_time": "2022-04-11T00:46:23.714Z"
   },
   {
    "duration": 9,
    "start_time": "2022-04-11T00:46:23.721Z"
   },
   {
    "duration": 22,
    "start_time": "2022-04-11T00:46:23.732Z"
   },
   {
    "duration": 55,
    "start_time": "2022-04-11T00:46:23.755Z"
   },
   {
    "duration": 5,
    "start_time": "2022-04-11T00:46:23.811Z"
   },
   {
    "duration": 4,
    "start_time": "2022-04-11T00:46:27.086Z"
   },
   {
    "duration": 19,
    "start_time": "2022-04-11T00:46:33.902Z"
   },
   {
    "duration": 21,
    "start_time": "2022-04-11T00:50:09.693Z"
   },
   {
    "duration": 47,
    "start_time": "2022-04-11T00:50:14.857Z"
   },
   {
    "duration": 4,
    "start_time": "2022-04-11T00:50:14.906Z"
   },
   {
    "duration": 18,
    "start_time": "2022-04-11T00:50:14.911Z"
   },
   {
    "duration": 16,
    "start_time": "2022-04-11T00:50:14.930Z"
   },
   {
    "duration": 19,
    "start_time": "2022-04-11T00:50:14.948Z"
   },
   {
    "duration": 47,
    "start_time": "2022-04-11T00:50:14.969Z"
   },
   {
    "duration": 19,
    "start_time": "2022-04-11T00:50:15.018Z"
   },
   {
    "duration": 7,
    "start_time": "2022-04-11T00:50:15.039Z"
   },
   {
    "duration": 14,
    "start_time": "2022-04-11T00:50:15.048Z"
   },
   {
    "duration": 39,
    "start_time": "2022-04-11T00:50:15.064Z"
   },
   {
    "duration": 55,
    "start_time": "2022-04-11T00:50:15.105Z"
   },
   {
    "duration": 5,
    "start_time": "2022-04-11T00:50:15.162Z"
   },
   {
    "duration": 49,
    "start_time": "2022-04-11T00:50:15.168Z"
   },
   {
    "duration": 4,
    "start_time": "2022-04-11T00:50:15.220Z"
   },
   {
    "duration": 5,
    "start_time": "2022-04-11T00:50:15.225Z"
   },
   {
    "duration": 9,
    "start_time": "2022-04-11T00:50:15.232Z"
   },
   {
    "duration": 4,
    "start_time": "2022-04-11T00:50:15.243Z"
   },
   {
    "duration": 11,
    "start_time": "2022-04-11T00:50:15.248Z"
   },
   {
    "duration": 51,
    "start_time": "2022-04-11T00:50:15.260Z"
   },
   {
    "duration": 24,
    "start_time": "2022-04-11T00:50:15.313Z"
   },
   {
    "duration": 6,
    "start_time": "2022-04-11T00:50:15.338Z"
   },
   {
    "duration": 6,
    "start_time": "2022-04-11T00:50:15.346Z"
   },
   {
    "duration": 6,
    "start_time": "2022-04-11T00:50:18.245Z"
   },
   {
    "duration": 32,
    "start_time": "2022-04-11T00:50:19.977Z"
   },
   {
    "duration": 44,
    "start_time": "2022-04-11T00:51:01.745Z"
   },
   {
    "duration": 4,
    "start_time": "2022-04-11T00:51:01.791Z"
   },
   {
    "duration": 18,
    "start_time": "2022-04-11T00:51:01.796Z"
   },
   {
    "duration": 24,
    "start_time": "2022-04-11T00:51:01.815Z"
   },
   {
    "duration": 16,
    "start_time": "2022-04-11T00:51:01.841Z"
   },
   {
    "duration": 18,
    "start_time": "2022-04-11T00:51:01.859Z"
   },
   {
    "duration": 31,
    "start_time": "2022-04-11T00:51:01.878Z"
   },
   {
    "duration": 6,
    "start_time": "2022-04-11T00:51:01.911Z"
   },
   {
    "duration": 18,
    "start_time": "2022-04-11T00:51:01.918Z"
   },
   {
    "duration": 9,
    "start_time": "2022-04-11T00:51:01.938Z"
   },
   {
    "duration": 72,
    "start_time": "2022-04-11T00:51:01.949Z"
   },
   {
    "duration": 5,
    "start_time": "2022-04-11T00:51:02.022Z"
   },
   {
    "duration": 21,
    "start_time": "2022-04-11T00:51:02.028Z"
   },
   {
    "duration": 4,
    "start_time": "2022-04-11T00:51:02.051Z"
   },
   {
    "duration": 5,
    "start_time": "2022-04-11T00:51:02.057Z"
   },
   {
    "duration": 40,
    "start_time": "2022-04-11T00:51:02.064Z"
   },
   {
    "duration": 4,
    "start_time": "2022-04-11T00:51:02.105Z"
   },
   {
    "duration": 9,
    "start_time": "2022-04-11T00:51:02.111Z"
   },
   {
    "duration": 20,
    "start_time": "2022-04-11T00:51:02.121Z"
   },
   {
    "duration": 24,
    "start_time": "2022-04-11T00:51:02.142Z"
   },
   {
    "duration": 5,
    "start_time": "2022-04-11T00:51:02.167Z"
   },
   {
    "duration": 5,
    "start_time": "2022-04-11T00:51:02.201Z"
   },
   {
    "duration": 16,
    "start_time": "2022-04-11T00:51:04.998Z"
   },
   {
    "duration": 6,
    "start_time": "2022-04-11T00:51:13.216Z"
   },
   {
    "duration": 5,
    "start_time": "2022-04-11T00:51:17.707Z"
   },
   {
    "duration": 10,
    "start_time": "2022-04-11T00:51:22.133Z"
   },
   {
    "duration": 5,
    "start_time": "2022-04-11T00:51:34.418Z"
   },
   {
    "duration": 6,
    "start_time": "2022-04-11T00:51:38.918Z"
   },
   {
    "duration": 6,
    "start_time": "2022-04-11T00:51:41.546Z"
   },
   {
    "duration": 12,
    "start_time": "2022-04-11T00:51:44.772Z"
   },
   {
    "duration": 16,
    "start_time": "2022-04-11T00:51:49.322Z"
   },
   {
    "duration": 29,
    "start_time": "2022-04-11T00:53:17.537Z"
   },
   {
    "duration": 20,
    "start_time": "2022-04-11T00:54:48.822Z"
   },
   {
    "duration": 3,
    "start_time": "2022-04-11T00:55:31.907Z"
   },
   {
    "duration": 15,
    "start_time": "2022-04-11T00:55:34.821Z"
   },
   {
    "duration": 5,
    "start_time": "2022-04-11T01:03:39.661Z"
   },
   {
    "duration": 3,
    "start_time": "2022-04-11T01:05:24.623Z"
   },
   {
    "duration": 3,
    "start_time": "2022-04-11T01:06:01.753Z"
   },
   {
    "duration": 3,
    "start_time": "2022-04-11T01:06:09.766Z"
   },
   {
    "duration": 3,
    "start_time": "2022-04-11T01:06:17.004Z"
   },
   {
    "duration": 3,
    "start_time": "2022-04-11T01:06:18.862Z"
   },
   {
    "duration": 9,
    "start_time": "2022-04-11T01:07:12.532Z"
   },
   {
    "duration": 8,
    "start_time": "2022-04-11T01:07:20.991Z"
   },
   {
    "duration": 16,
    "start_time": "2022-04-11T01:07:44.721Z"
   },
   {
    "duration": 21,
    "start_time": "2022-04-11T01:11:29.721Z"
   },
   {
    "duration": 6,
    "start_time": "2022-04-11T01:13:24.474Z"
   },
   {
    "duration": 13,
    "start_time": "2022-04-11T01:14:24.047Z"
   },
   {
    "duration": 14,
    "start_time": "2022-04-11T01:15:36.813Z"
   },
   {
    "duration": 46,
    "start_time": "2022-04-11T01:29:19.783Z"
   },
   {
    "duration": 4,
    "start_time": "2022-04-11T01:29:19.830Z"
   },
   {
    "duration": 16,
    "start_time": "2022-04-11T01:29:19.835Z"
   },
   {
    "duration": 14,
    "start_time": "2022-04-11T01:29:19.853Z"
   },
   {
    "duration": 52,
    "start_time": "2022-04-11T01:29:19.868Z"
   },
   {
    "duration": 19,
    "start_time": "2022-04-11T01:29:19.922Z"
   },
   {
    "duration": 20,
    "start_time": "2022-04-11T01:29:19.943Z"
   },
   {
    "duration": 37,
    "start_time": "2022-04-11T01:29:19.965Z"
   },
   {
    "duration": 14,
    "start_time": "2022-04-11T01:29:20.004Z"
   },
   {
    "duration": 12,
    "start_time": "2022-04-11T01:29:20.020Z"
   },
   {
    "duration": 81,
    "start_time": "2022-04-11T01:29:20.033Z"
   },
   {
    "duration": 4,
    "start_time": "2022-04-11T01:29:20.116Z"
   },
   {
    "duration": 22,
    "start_time": "2022-04-11T01:29:20.122Z"
   },
   {
    "duration": 5,
    "start_time": "2022-04-11T01:29:20.146Z"
   },
   {
    "duration": 5,
    "start_time": "2022-04-11T01:29:20.152Z"
   },
   {
    "duration": 43,
    "start_time": "2022-04-11T01:29:20.159Z"
   },
   {
    "duration": 6,
    "start_time": "2022-04-11T01:29:20.203Z"
   },
   {
    "duration": 9,
    "start_time": "2022-04-11T01:29:20.210Z"
   },
   {
    "duration": 21,
    "start_time": "2022-04-11T01:29:20.221Z"
   },
   {
    "duration": 59,
    "start_time": "2022-04-11T01:29:20.243Z"
   },
   {
    "duration": 6,
    "start_time": "2022-04-11T01:29:20.304Z"
   },
   {
    "duration": 8,
    "start_time": "2022-04-11T01:29:20.311Z"
   },
   {
    "duration": 21,
    "start_time": "2022-04-11T01:29:20.321Z"
   },
   {
    "duration": 5,
    "start_time": "2022-04-11T01:29:20.344Z"
   },
   {
    "duration": 10,
    "start_time": "2022-04-11T01:29:20.351Z"
   },
   {
    "duration": 18,
    "start_time": "2022-04-11T01:29:20.362Z"
   },
   {
    "duration": 6,
    "start_time": "2022-04-11T01:29:20.402Z"
   },
   {
    "duration": 5,
    "start_time": "2022-04-11T01:29:20.411Z"
   },
   {
    "duration": 8,
    "start_time": "2022-04-11T01:29:20.418Z"
   },
   {
    "duration": 15,
    "start_time": "2022-04-11T01:29:20.428Z"
   },
   {
    "duration": 14,
    "start_time": "2022-04-11T01:29:20.445Z"
   },
   {
    "duration": 48,
    "start_time": "2022-04-11T01:29:20.461Z"
   },
   {
    "duration": 4,
    "start_time": "2022-04-11T01:29:20.511Z"
   },
   {
    "duration": 6,
    "start_time": "2022-04-11T01:29:20.517Z"
   },
   {
    "duration": 6,
    "start_time": "2022-04-11T01:29:20.524Z"
   },
   {
    "duration": 16,
    "start_time": "2022-04-11T01:29:20.532Z"
   },
   {
    "duration": 37,
    "start_time": "2022-04-11T01:29:20.550Z"
   },
   {
    "duration": 19,
    "start_time": "2022-04-11T01:29:23.828Z"
   },
   {
    "duration": 14,
    "start_time": "2022-04-11T01:29:36.476Z"
   },
   {
    "duration": 13,
    "start_time": "2022-04-11T01:29:53.992Z"
   },
   {
    "duration": 3,
    "start_time": "2022-04-11T01:33:24.978Z"
   },
   {
    "duration": 20,
    "start_time": "2022-04-11T01:36:27.688Z"
   },
   {
    "duration": 195,
    "start_time": "2022-04-11T01:46:42.014Z"
   },
   {
    "duration": 19,
    "start_time": "2022-04-11T01:47:46.310Z"
   },
   {
    "duration": 4,
    "start_time": "2022-04-11T01:47:57.754Z"
   },
   {
    "duration": 10,
    "start_time": "2022-04-11T01:48:29.852Z"
   },
   {
    "duration": 8,
    "start_time": "2022-04-11T01:48:41.912Z"
   },
   {
    "duration": 9,
    "start_time": "2022-04-11T01:50:16.604Z"
   },
   {
    "duration": 9,
    "start_time": "2022-04-11T01:50:57.452Z"
   },
   {
    "duration": 4,
    "start_time": "2022-04-11T01:51:54.469Z"
   },
   {
    "duration": 8,
    "start_time": "2022-04-11T01:52:06.743Z"
   },
   {
    "duration": 7,
    "start_time": "2022-04-11T01:52:23.647Z"
   },
   {
    "duration": 14,
    "start_time": "2022-04-11T01:52:40.841Z"
   },
   {
    "duration": 21,
    "start_time": "2022-04-11T01:53:20.195Z"
   },
   {
    "duration": 14,
    "start_time": "2022-04-11T02:19:23.279Z"
   },
   {
    "duration": 16,
    "start_time": "2022-04-11T02:20:52.171Z"
   },
   {
    "duration": 15,
    "start_time": "2022-04-11T02:21:14.829Z"
   },
   {
    "duration": 1140,
    "start_time": "2022-04-11T02:21:23.724Z"
   },
   {
    "duration": 57,
    "start_time": "2022-04-11T02:22:14.744Z"
   },
   {
    "duration": 4,
    "start_time": "2022-04-11T02:22:14.803Z"
   },
   {
    "duration": 17,
    "start_time": "2022-04-11T02:22:14.809Z"
   },
   {
    "duration": 15,
    "start_time": "2022-04-11T02:22:14.828Z"
   },
   {
    "duration": 20,
    "start_time": "2022-04-11T02:22:14.845Z"
   },
   {
    "duration": 53,
    "start_time": "2022-04-11T02:22:14.867Z"
   },
   {
    "duration": 22,
    "start_time": "2022-04-11T02:22:14.922Z"
   },
   {
    "duration": 7,
    "start_time": "2022-04-11T02:22:14.945Z"
   },
   {
    "duration": 13,
    "start_time": "2022-04-11T02:22:14.953Z"
   },
   {
    "duration": 42,
    "start_time": "2022-04-11T02:22:14.968Z"
   },
   {
    "duration": 58,
    "start_time": "2022-04-11T02:22:15.012Z"
   },
   {
    "duration": 5,
    "start_time": "2022-04-11T02:22:15.072Z"
   },
   {
    "duration": 43,
    "start_time": "2022-04-11T02:22:15.078Z"
   },
   {
    "duration": 5,
    "start_time": "2022-04-11T02:22:15.122Z"
   },
   {
    "duration": 4,
    "start_time": "2022-04-11T02:22:15.129Z"
   },
   {
    "duration": 9,
    "start_time": "2022-04-11T02:22:15.135Z"
   },
   {
    "duration": 4,
    "start_time": "2022-04-11T02:22:15.145Z"
   },
   {
    "duration": 7,
    "start_time": "2022-04-11T02:22:15.151Z"
   },
   {
    "duration": 57,
    "start_time": "2022-04-11T02:22:15.159Z"
   },
   {
    "duration": 26,
    "start_time": "2022-04-11T02:22:15.218Z"
   },
   {
    "duration": 6,
    "start_time": "2022-04-11T02:22:15.246Z"
   },
   {
    "duration": 10,
    "start_time": "2022-04-11T02:22:15.254Z"
   },
   {
    "duration": 44,
    "start_time": "2022-04-11T02:22:15.266Z"
   },
   {
    "duration": 5,
    "start_time": "2022-04-11T02:22:15.312Z"
   },
   {
    "duration": 6,
    "start_time": "2022-04-11T02:22:15.319Z"
   },
   {
    "duration": 12,
    "start_time": "2022-04-11T02:22:15.327Z"
   },
   {
    "duration": 6,
    "start_time": "2022-04-11T02:22:15.341Z"
   },
   {
    "duration": 7,
    "start_time": "2022-04-11T02:22:15.351Z"
   },
   {
    "duration": 7,
    "start_time": "2022-04-11T02:22:15.401Z"
   },
   {
    "duration": 14,
    "start_time": "2022-04-11T02:22:15.410Z"
   },
   {
    "duration": 9,
    "start_time": "2022-04-11T02:22:15.426Z"
   },
   {
    "duration": 25,
    "start_time": "2022-04-11T02:22:15.437Z"
   },
   {
    "duration": 4,
    "start_time": "2022-04-11T02:22:15.464Z"
   },
   {
    "duration": 4,
    "start_time": "2022-04-11T02:22:15.501Z"
   },
   {
    "duration": 7,
    "start_time": "2022-04-11T02:22:15.507Z"
   },
   {
    "duration": 14,
    "start_time": "2022-04-11T02:22:15.516Z"
   },
   {
    "duration": 19,
    "start_time": "2022-04-11T02:22:15.531Z"
   },
   {
    "duration": 23,
    "start_time": "2022-04-11T02:22:15.552Z"
   },
   {
    "duration": 35,
    "start_time": "2022-04-11T02:22:15.577Z"
   },
   {
    "duration": 14,
    "start_time": "2022-04-11T02:22:15.614Z"
   },
   {
    "duration": 4,
    "start_time": "2022-04-11T02:22:15.630Z"
   },
   {
    "duration": 27,
    "start_time": "2022-04-11T02:22:15.636Z"
   },
   {
    "duration": 20,
    "start_time": "2022-04-11T02:22:18.144Z"
   },
   {
    "duration": 1125,
    "start_time": "2022-04-11T02:22:22.864Z"
   },
   {
    "duration": 23,
    "start_time": "2022-04-11T02:22:32.764Z"
   },
   {
    "duration": 17,
    "start_time": "2022-04-11T02:23:11.196Z"
   },
   {
    "duration": 45,
    "start_time": "2022-04-11T02:23:22.840Z"
   },
   {
    "duration": 3,
    "start_time": "2022-04-11T02:23:22.887Z"
   },
   {
    "duration": 16,
    "start_time": "2022-04-11T02:23:22.892Z"
   },
   {
    "duration": 14,
    "start_time": "2022-04-11T02:23:22.910Z"
   },
   {
    "duration": 84,
    "start_time": "2022-04-11T02:23:22.925Z"
   },
   {
    "duration": 20,
    "start_time": "2022-04-11T02:23:23.011Z"
   },
   {
    "duration": 20,
    "start_time": "2022-04-11T02:23:23.032Z"
   },
   {
    "duration": 7,
    "start_time": "2022-04-11T02:23:23.053Z"
   },
   {
    "duration": 40,
    "start_time": "2022-04-11T02:23:23.062Z"
   },
   {
    "duration": 10,
    "start_time": "2022-04-11T02:23:23.105Z"
   },
   {
    "duration": 50,
    "start_time": "2022-04-11T02:23:23.116Z"
   },
   {
    "duration": 5,
    "start_time": "2022-04-11T02:23:23.168Z"
   },
   {
    "duration": 46,
    "start_time": "2022-04-11T02:23:23.174Z"
   },
   {
    "duration": 5,
    "start_time": "2022-04-11T02:23:23.222Z"
   },
   {
    "duration": 5,
    "start_time": "2022-04-11T02:23:23.228Z"
   },
   {
    "duration": 9,
    "start_time": "2022-04-11T02:23:23.234Z"
   },
   {
    "duration": 4,
    "start_time": "2022-04-11T02:23:23.245Z"
   },
   {
    "duration": 7,
    "start_time": "2022-04-11T02:23:23.251Z"
   },
   {
    "duration": 58,
    "start_time": "2022-04-11T02:23:23.260Z"
   },
   {
    "duration": 25,
    "start_time": "2022-04-11T02:23:23.320Z"
   },
   {
    "duration": 6,
    "start_time": "2022-04-11T02:23:23.346Z"
   },
   {
    "duration": 5,
    "start_time": "2022-04-11T02:23:23.354Z"
   },
   {
    "duration": 49,
    "start_time": "2022-04-11T02:23:23.361Z"
   },
   {
    "duration": 5,
    "start_time": "2022-04-11T02:23:23.412Z"
   },
   {
    "duration": 6,
    "start_time": "2022-04-11T02:23:23.418Z"
   },
   {
    "duration": 13,
    "start_time": "2022-04-11T02:23:23.426Z"
   },
   {
    "duration": 6,
    "start_time": "2022-04-11T02:23:23.441Z"
   },
   {
    "duration": 7,
    "start_time": "2022-04-11T02:23:23.450Z"
   },
   {
    "duration": 10,
    "start_time": "2022-04-11T02:23:23.459Z"
   },
   {
    "duration": 35,
    "start_time": "2022-04-11T02:23:23.471Z"
   },
   {
    "duration": 5,
    "start_time": "2022-04-11T02:23:23.508Z"
   },
   {
    "duration": 22,
    "start_time": "2022-04-11T02:23:23.515Z"
   },
   {
    "duration": 4,
    "start_time": "2022-04-11T02:23:23.538Z"
   },
   {
    "duration": 7,
    "start_time": "2022-04-11T02:23:23.543Z"
   },
   {
    "duration": 9,
    "start_time": "2022-04-11T02:23:23.552Z"
   },
   {
    "duration": 11,
    "start_time": "2022-04-11T02:23:23.562Z"
   },
   {
    "duration": 40,
    "start_time": "2022-04-11T02:23:23.575Z"
   },
   {
    "duration": 19,
    "start_time": "2022-04-11T02:23:23.617Z"
   },
   {
    "duration": 11,
    "start_time": "2022-04-11T02:23:23.638Z"
   },
   {
    "duration": 12,
    "start_time": "2022-04-11T02:23:23.650Z"
   },
   {
    "duration": 3,
    "start_time": "2022-04-11T02:23:23.664Z"
   },
   {
    "duration": 50,
    "start_time": "2022-04-11T02:23:23.669Z"
   },
   {
    "duration": 20,
    "start_time": "2022-04-11T02:23:28.563Z"
   },
   {
    "duration": 16,
    "start_time": "2022-04-11T02:23:40.189Z"
   },
   {
    "duration": 47,
    "start_time": "2022-04-11T02:26:57.231Z"
   },
   {
    "duration": 4,
    "start_time": "2022-04-11T02:26:57.280Z"
   },
   {
    "duration": 17,
    "start_time": "2022-04-11T02:26:57.286Z"
   },
   {
    "duration": 14,
    "start_time": "2022-04-11T02:26:57.305Z"
   },
   {
    "duration": 17,
    "start_time": "2022-04-11T02:26:57.321Z"
   },
   {
    "duration": 18,
    "start_time": "2022-04-11T02:26:57.340Z"
   },
   {
    "duration": 51,
    "start_time": "2022-04-11T02:26:57.360Z"
   },
   {
    "duration": 8,
    "start_time": "2022-04-11T02:26:57.413Z"
   },
   {
    "duration": 12,
    "start_time": "2022-04-11T02:26:57.423Z"
   },
   {
    "duration": 12,
    "start_time": "2022-04-11T02:26:57.437Z"
   },
   {
    "duration": 89,
    "start_time": "2022-04-11T02:26:57.451Z"
   },
   {
    "duration": 6,
    "start_time": "2022-04-11T02:26:57.542Z"
   },
   {
    "duration": 21,
    "start_time": "2022-04-11T02:26:57.550Z"
   },
   {
    "duration": 6,
    "start_time": "2022-04-11T02:26:57.600Z"
   },
   {
    "duration": 7,
    "start_time": "2022-04-11T02:26:57.607Z"
   },
   {
    "duration": 9,
    "start_time": "2022-04-11T02:26:57.615Z"
   },
   {
    "duration": 4,
    "start_time": "2022-04-11T02:26:57.625Z"
   },
   {
    "duration": 8,
    "start_time": "2022-04-11T02:26:57.630Z"
   },
   {
    "duration": 18,
    "start_time": "2022-04-11T02:26:57.640Z"
   },
   {
    "duration": 58,
    "start_time": "2022-04-11T02:26:57.659Z"
   },
   {
    "duration": 5,
    "start_time": "2022-04-11T02:26:57.719Z"
   },
   {
    "duration": 7,
    "start_time": "2022-04-11T02:26:57.725Z"
   },
   {
    "duration": 15,
    "start_time": "2022-04-11T02:26:57.734Z"
   },
   {
    "duration": 4,
    "start_time": "2022-04-11T02:26:57.751Z"
   },
   {
    "duration": 8,
    "start_time": "2022-04-11T02:26:57.757Z"
   },
   {
    "duration": 39,
    "start_time": "2022-04-11T02:26:57.767Z"
   },
   {
    "duration": 5,
    "start_time": "2022-04-11T02:26:57.807Z"
   },
   {
    "duration": 7,
    "start_time": "2022-04-11T02:26:57.814Z"
   },
   {
    "duration": 11,
    "start_time": "2022-04-11T02:26:57.822Z"
   },
   {
    "duration": 13,
    "start_time": "2022-04-11T02:26:57.834Z"
   },
   {
    "duration": 10,
    "start_time": "2022-04-11T02:26:57.849Z"
   },
   {
    "duration": 25,
    "start_time": "2022-04-11T02:26:57.860Z"
   },
   {
    "duration": 16,
    "start_time": "2022-04-11T02:26:57.886Z"
   },
   {
    "duration": 4,
    "start_time": "2022-04-11T02:26:57.903Z"
   },
   {
    "duration": 8,
    "start_time": "2022-04-11T02:26:57.909Z"
   },
   {
    "duration": 12,
    "start_time": "2022-04-11T02:26:57.918Z"
   },
   {
    "duration": 20,
    "start_time": "2022-04-11T02:26:57.932Z"
   },
   {
    "duration": 22,
    "start_time": "2022-04-11T02:26:57.953Z"
   },
   {
    "duration": 31,
    "start_time": "2022-04-11T02:26:57.976Z"
   },
   {
    "duration": 12,
    "start_time": "2022-04-11T02:26:58.009Z"
   },
   {
    "duration": 4,
    "start_time": "2022-04-11T02:26:58.024Z"
   },
   {
    "duration": 22,
    "start_time": "2022-04-11T02:27:00.083Z"
   },
   {
    "duration": 22,
    "start_time": "2022-04-11T02:28:40.350Z"
   },
   {
    "duration": 15,
    "start_time": "2022-04-11T02:31:09.309Z"
   },
   {
    "duration": 15,
    "start_time": "2022-04-11T02:32:19.006Z"
   },
   {
    "duration": 13,
    "start_time": "2022-04-11T02:36:53.071Z"
   },
   {
    "duration": 19,
    "start_time": "2022-04-11T02:43:23.599Z"
   },
   {
    "duration": 46,
    "start_time": "2022-04-11T02:43:46.489Z"
   },
   {
    "duration": 4,
    "start_time": "2022-04-11T02:43:46.537Z"
   },
   {
    "duration": 30,
    "start_time": "2022-04-11T02:43:46.543Z"
   },
   {
    "duration": 29,
    "start_time": "2022-04-11T02:43:46.575Z"
   },
   {
    "duration": 18,
    "start_time": "2022-04-11T02:43:46.607Z"
   },
   {
    "duration": 19,
    "start_time": "2022-04-11T02:43:46.627Z"
   },
   {
    "duration": 20,
    "start_time": "2022-04-11T02:43:46.648Z"
   },
   {
    "duration": 37,
    "start_time": "2022-04-11T02:43:46.670Z"
   },
   {
    "duration": 14,
    "start_time": "2022-04-11T02:43:46.709Z"
   },
   {
    "duration": 12,
    "start_time": "2022-04-11T02:43:46.725Z"
   },
   {
    "duration": 91,
    "start_time": "2022-04-11T02:43:46.739Z"
   },
   {
    "duration": 5,
    "start_time": "2022-04-11T02:43:46.832Z"
   },
   {
    "duration": 21,
    "start_time": "2022-04-11T02:43:46.839Z"
   },
   {
    "duration": 5,
    "start_time": "2022-04-11T02:43:46.864Z"
   },
   {
    "duration": 34,
    "start_time": "2022-04-11T02:43:46.871Z"
   },
   {
    "duration": 11,
    "start_time": "2022-04-11T02:43:46.907Z"
   },
   {
    "duration": 5,
    "start_time": "2022-04-11T02:43:46.920Z"
   },
   {
    "duration": 9,
    "start_time": "2022-04-11T02:43:46.927Z"
   },
   {
    "duration": 19,
    "start_time": "2022-04-11T02:43:46.938Z"
   },
   {
    "duration": 64,
    "start_time": "2022-04-11T02:43:46.958Z"
   },
   {
    "duration": 5,
    "start_time": "2022-04-11T02:43:47.023Z"
   },
   {
    "duration": 5,
    "start_time": "2022-04-11T02:43:47.030Z"
   },
   {
    "duration": 16,
    "start_time": "2022-04-11T02:43:47.036Z"
   },
   {
    "duration": 5,
    "start_time": "2022-04-11T02:43:47.054Z"
   },
   {
    "duration": 42,
    "start_time": "2022-04-11T02:43:47.060Z"
   },
   {
    "duration": 12,
    "start_time": "2022-04-11T02:43:47.104Z"
   },
   {
    "duration": 6,
    "start_time": "2022-04-11T02:43:47.117Z"
   },
   {
    "duration": 6,
    "start_time": "2022-04-11T02:43:47.124Z"
   },
   {
    "duration": 10,
    "start_time": "2022-04-11T02:43:47.131Z"
   },
   {
    "duration": 14,
    "start_time": "2022-04-11T02:43:47.142Z"
   },
   {
    "duration": 13,
    "start_time": "2022-04-11T02:43:47.158Z"
   },
   {
    "duration": 46,
    "start_time": "2022-04-11T02:43:47.173Z"
   },
   {
    "duration": 3,
    "start_time": "2022-04-11T02:43:47.221Z"
   },
   {
    "duration": 4,
    "start_time": "2022-04-11T02:43:47.226Z"
   },
   {
    "duration": 10,
    "start_time": "2022-04-11T02:43:47.231Z"
   },
   {
    "duration": 13,
    "start_time": "2022-04-11T02:43:47.243Z"
   },
   {
    "duration": 18,
    "start_time": "2022-04-11T02:43:47.258Z"
   },
   {
    "duration": 37,
    "start_time": "2022-04-11T02:43:47.278Z"
   },
   {
    "duration": 13,
    "start_time": "2022-04-11T02:43:47.317Z"
   },
   {
    "duration": 12,
    "start_time": "2022-04-11T02:43:47.332Z"
   },
   {
    "duration": 4,
    "start_time": "2022-04-11T02:43:49.886Z"
   },
   {
    "duration": 23,
    "start_time": "2022-04-11T02:44:19.832Z"
   },
   {
    "duration": 22,
    "start_time": "2022-04-11T02:44:24.001Z"
   },
   {
    "duration": 138597,
    "start_time": "2022-04-11T02:44:27.968Z"
   },
   {
    "duration": 46,
    "start_time": "2022-04-11T02:49:58.590Z"
   },
   {
    "duration": 4,
    "start_time": "2022-04-11T02:49:58.638Z"
   },
   {
    "duration": 16,
    "start_time": "2022-04-11T02:49:58.644Z"
   },
   {
    "duration": 40,
    "start_time": "2022-04-11T02:49:58.662Z"
   },
   {
    "duration": 19,
    "start_time": "2022-04-11T02:49:58.704Z"
   },
   {
    "duration": 19,
    "start_time": "2022-04-11T02:49:58.724Z"
   },
   {
    "duration": 17,
    "start_time": "2022-04-11T02:49:58.745Z"
   },
   {
    "duration": 7,
    "start_time": "2022-04-11T02:49:58.764Z"
   },
   {
    "duration": 13,
    "start_time": "2022-04-11T02:49:58.801Z"
   },
   {
    "duration": 11,
    "start_time": "2022-04-11T02:49:58.817Z"
   },
   {
    "duration": 78,
    "start_time": "2022-04-11T02:49:58.829Z"
   },
   {
    "duration": 5,
    "start_time": "2022-04-11T02:49:58.909Z"
   },
   {
    "duration": 20,
    "start_time": "2022-04-11T02:49:58.916Z"
   },
   {
    "duration": 5,
    "start_time": "2022-04-11T02:49:58.938Z"
   },
   {
    "duration": 5,
    "start_time": "2022-04-11T02:49:58.944Z"
   },
   {
    "duration": 11,
    "start_time": "2022-04-11T02:49:58.950Z"
   },
   {
    "duration": 39,
    "start_time": "2022-04-11T02:49:58.962Z"
   },
   {
    "duration": 8,
    "start_time": "2022-04-11T02:49:59.003Z"
   },
   {
    "duration": 18,
    "start_time": "2022-04-11T02:49:59.013Z"
   },
   {
    "duration": 24,
    "start_time": "2022-04-11T02:49:59.033Z"
   },
   {
    "duration": 5,
    "start_time": "2022-04-11T02:49:59.059Z"
   },
   {
    "duration": 36,
    "start_time": "2022-04-11T02:49:59.066Z"
   },
   {
    "duration": 18,
    "start_time": "2022-04-11T02:49:59.103Z"
   },
   {
    "duration": 5,
    "start_time": "2022-04-11T02:49:59.123Z"
   },
   {
    "duration": 9,
    "start_time": "2022-04-11T02:49:59.130Z"
   },
   {
    "duration": 15,
    "start_time": "2022-04-11T02:49:59.141Z"
   },
   {
    "duration": 8,
    "start_time": "2022-04-11T02:49:59.157Z"
   },
   {
    "duration": 6,
    "start_time": "2022-04-11T02:49:59.202Z"
   },
   {
    "duration": 8,
    "start_time": "2022-04-11T02:49:59.210Z"
   },
   {
    "duration": 15,
    "start_time": "2022-04-11T02:49:59.220Z"
   },
   {
    "duration": 13,
    "start_time": "2022-04-11T02:49:59.236Z"
   },
   {
    "duration": 24,
    "start_time": "2022-04-11T02:49:59.250Z"
   },
   {
    "duration": 26,
    "start_time": "2022-04-11T02:49:59.276Z"
   },
   {
    "duration": 5,
    "start_time": "2022-04-11T02:49:59.304Z"
   },
   {
    "duration": 5,
    "start_time": "2022-04-11T02:49:59.311Z"
   },
   {
    "duration": 14,
    "start_time": "2022-04-11T02:49:59.318Z"
   },
   {
    "duration": 16,
    "start_time": "2022-04-11T02:49:59.333Z"
   },
   {
    "duration": 20,
    "start_time": "2022-04-11T02:49:59.351Z"
   },
   {
    "duration": 37,
    "start_time": "2022-04-11T02:49:59.373Z"
   },
   {
    "duration": 11,
    "start_time": "2022-04-11T02:49:59.412Z"
   },
   {
    "duration": 3,
    "start_time": "2022-04-11T02:49:59.425Z"
   },
   {
    "duration": 23,
    "start_time": "2022-04-11T02:49:59.430Z"
   },
   {
    "duration": 56,
    "start_time": "2022-04-11T02:49:59.454Z"
   },
   {
    "duration": 0,
    "start_time": "2022-04-11T02:55:12.543Z"
   },
   {
    "duration": 0,
    "start_time": "2022-04-11T02:55:12.546Z"
   },
   {
    "duration": 47,
    "start_time": "2022-04-11T02:55:18.233Z"
   },
   {
    "duration": 4,
    "start_time": "2022-04-11T02:55:21.179Z"
   },
   {
    "duration": 47,
    "start_time": "2022-04-11T02:55:36.655Z"
   },
   {
    "duration": 4,
    "start_time": "2022-04-11T02:55:36.704Z"
   },
   {
    "duration": 16,
    "start_time": "2022-04-11T02:55:36.709Z"
   },
   {
    "duration": 15,
    "start_time": "2022-04-11T02:55:36.727Z"
   },
   {
    "duration": 18,
    "start_time": "2022-04-11T02:55:36.744Z"
   },
   {
    "duration": 47,
    "start_time": "2022-04-11T02:55:36.763Z"
   },
   {
    "duration": 19,
    "start_time": "2022-04-11T02:55:36.811Z"
   },
   {
    "duration": 7,
    "start_time": "2022-04-11T02:55:36.831Z"
   },
   {
    "duration": 32,
    "start_time": "2022-04-11T02:55:36.839Z"
   },
   {
    "duration": 10,
    "start_time": "2022-04-11T02:55:36.872Z"
   },
   {
    "duration": 70,
    "start_time": "2022-04-11T02:55:36.884Z"
   },
   {
    "duration": 6,
    "start_time": "2022-04-11T02:55:36.955Z"
   },
   {
    "duration": 47,
    "start_time": "2022-04-11T02:55:36.963Z"
   },
   {
    "duration": 6,
    "start_time": "2022-04-11T02:55:37.013Z"
   },
   {
    "duration": 8,
    "start_time": "2022-04-11T02:55:37.021Z"
   },
   {
    "duration": 22,
    "start_time": "2022-04-11T02:55:37.031Z"
   },
   {
    "duration": 13,
    "start_time": "2022-04-11T02:55:37.055Z"
   },
   {
    "duration": 26,
    "start_time": "2022-04-11T02:55:37.070Z"
   },
   {
    "duration": 33,
    "start_time": "2022-04-11T02:55:37.097Z"
   },
   {
    "duration": 24,
    "start_time": "2022-04-11T02:55:37.132Z"
   },
   {
    "duration": 6,
    "start_time": "2022-04-11T02:55:37.158Z"
   },
   {
    "duration": 16,
    "start_time": "2022-04-11T02:55:37.165Z"
   },
   {
    "duration": 28,
    "start_time": "2022-04-11T02:55:37.183Z"
   },
   {
    "duration": 17,
    "start_time": "2022-04-11T02:55:37.212Z"
   },
   {
    "duration": 10,
    "start_time": "2022-04-11T02:55:37.231Z"
   },
   {
    "duration": 28,
    "start_time": "2022-04-11T02:55:37.243Z"
   },
   {
    "duration": 9,
    "start_time": "2022-04-11T02:55:37.273Z"
   },
   {
    "duration": 17,
    "start_time": "2022-04-11T02:55:37.283Z"
   },
   {
    "duration": 21,
    "start_time": "2022-04-11T02:55:37.302Z"
   },
   {
    "duration": 20,
    "start_time": "2022-04-11T02:55:37.324Z"
   },
   {
    "duration": 27,
    "start_time": "2022-04-11T02:55:37.346Z"
   },
   {
    "duration": 33,
    "start_time": "2022-04-11T02:55:37.374Z"
   },
   {
    "duration": 4,
    "start_time": "2022-04-11T02:55:37.409Z"
   },
   {
    "duration": 9,
    "start_time": "2022-04-11T02:55:37.414Z"
   },
   {
    "duration": 9,
    "start_time": "2022-04-11T02:55:37.425Z"
   },
   {
    "duration": 16,
    "start_time": "2022-04-11T02:55:37.436Z"
   },
   {
    "duration": 20,
    "start_time": "2022-04-11T02:55:37.454Z"
   },
   {
    "duration": 40,
    "start_time": "2022-04-11T02:55:37.477Z"
   },
   {
    "duration": 14,
    "start_time": "2022-04-11T02:55:37.520Z"
   },
   {
    "duration": 22,
    "start_time": "2022-04-11T02:55:37.536Z"
   },
   {
    "duration": 4,
    "start_time": "2022-04-11T02:55:37.562Z"
   },
   {
    "duration": 41,
    "start_time": "2022-04-11T02:55:37.568Z"
   },
   {
    "duration": 20,
    "start_time": "2022-04-11T02:55:40.685Z"
   },
   {
    "duration": 13909,
    "start_time": "2022-04-11T02:55:44.111Z"
   },
   {
    "duration": 47,
    "start_time": "2022-04-11T02:56:07.725Z"
   },
   {
    "duration": 4,
    "start_time": "2022-04-11T02:56:07.773Z"
   },
   {
    "duration": 15,
    "start_time": "2022-04-11T02:56:07.778Z"
   },
   {
    "duration": 16,
    "start_time": "2022-04-11T02:56:07.795Z"
   },
   {
    "duration": 19,
    "start_time": "2022-04-11T02:56:07.812Z"
   },
   {
    "duration": 19,
    "start_time": "2022-04-11T02:56:07.833Z"
   },
   {
    "duration": 49,
    "start_time": "2022-04-11T02:56:07.853Z"
   },
   {
    "duration": 7,
    "start_time": "2022-04-11T02:56:07.903Z"
   },
   {
    "duration": 13,
    "start_time": "2022-04-11T02:56:07.912Z"
   },
   {
    "duration": 11,
    "start_time": "2022-04-11T02:56:07.929Z"
   },
   {
    "duration": 89,
    "start_time": "2022-04-11T02:56:07.941Z"
   },
   {
    "duration": 5,
    "start_time": "2022-04-11T02:56:08.031Z"
   },
   {
    "duration": 21,
    "start_time": "2022-04-11T02:56:08.038Z"
   },
   {
    "duration": 6,
    "start_time": "2022-04-11T02:56:08.060Z"
   },
   {
    "duration": 36,
    "start_time": "2022-04-11T02:56:08.067Z"
   },
   {
    "duration": 11,
    "start_time": "2022-04-11T02:56:08.105Z"
   },
   {
    "duration": 4,
    "start_time": "2022-04-11T02:56:08.117Z"
   },
   {
    "duration": 8,
    "start_time": "2022-04-11T02:56:08.123Z"
   },
   {
    "duration": 20,
    "start_time": "2022-04-11T02:56:08.132Z"
   },
   {
    "duration": 55,
    "start_time": "2022-04-11T02:56:08.153Z"
   },
   {
    "duration": 5,
    "start_time": "2022-04-11T02:56:08.210Z"
   },
   {
    "duration": 8,
    "start_time": "2022-04-11T02:56:08.216Z"
   },
   {
    "duration": 16,
    "start_time": "2022-04-11T02:56:08.226Z"
   },
   {
    "duration": 4,
    "start_time": "2022-04-11T02:56:08.243Z"
   },
   {
    "duration": 9,
    "start_time": "2022-04-11T02:56:08.249Z"
   },
   {
    "duration": 43,
    "start_time": "2022-04-11T02:56:08.259Z"
   },
   {
    "duration": 5,
    "start_time": "2022-04-11T02:56:08.303Z"
   },
   {
    "duration": 5,
    "start_time": "2022-04-11T02:56:08.312Z"
   },
   {
    "duration": 9,
    "start_time": "2022-04-11T02:56:08.319Z"
   },
   {
    "duration": 12,
    "start_time": "2022-04-11T02:56:08.330Z"
   },
   {
    "duration": 6,
    "start_time": "2022-04-11T02:56:08.344Z"
   },
   {
    "duration": 56,
    "start_time": "2022-04-11T02:56:08.352Z"
   },
   {
    "duration": 3,
    "start_time": "2022-04-11T02:56:08.409Z"
   },
   {
    "duration": 5,
    "start_time": "2022-04-11T02:56:08.414Z"
   },
   {
    "duration": 4,
    "start_time": "2022-04-11T02:56:08.421Z"
   },
   {
    "duration": 10,
    "start_time": "2022-04-11T02:56:08.427Z"
   },
   {
    "duration": 16,
    "start_time": "2022-04-11T02:56:08.439Z"
   },
   {
    "duration": 60,
    "start_time": "2022-04-11T02:56:08.456Z"
   },
   {
    "duration": 13,
    "start_time": "2022-04-11T02:56:08.518Z"
   },
   {
    "duration": 14,
    "start_time": "2022-04-11T02:56:08.533Z"
   },
   {
    "duration": 4,
    "start_time": "2022-04-11T02:56:08.550Z"
   },
   {
    "duration": 54,
    "start_time": "2022-04-11T02:56:08.556Z"
   },
   {
    "duration": 21,
    "start_time": "2022-04-11T02:56:08.612Z"
   },
   {
    "duration": 0,
    "start_time": "2022-04-11T02:56:41.458Z"
   },
   {
    "duration": 46,
    "start_time": "2022-04-11T02:56:44.192Z"
   },
   {
    "duration": 4,
    "start_time": "2022-04-11T02:56:44.240Z"
   },
   {
    "duration": 15,
    "start_time": "2022-04-11T02:56:44.246Z"
   },
   {
    "duration": 45,
    "start_time": "2022-04-11T02:56:44.263Z"
   },
   {
    "duration": 21,
    "start_time": "2022-04-11T02:56:44.310Z"
   },
   {
    "duration": 18,
    "start_time": "2022-04-11T02:56:44.333Z"
   },
   {
    "duration": 49,
    "start_time": "2022-04-11T02:56:44.353Z"
   },
   {
    "duration": 7,
    "start_time": "2022-04-11T02:56:44.404Z"
   },
   {
    "duration": 11,
    "start_time": "2022-04-11T02:56:44.413Z"
   },
   {
    "duration": 11,
    "start_time": "2022-04-11T02:56:44.425Z"
   },
   {
    "duration": 90,
    "start_time": "2022-04-11T02:56:44.438Z"
   },
   {
    "duration": 5,
    "start_time": "2022-04-11T02:56:44.530Z"
   },
   {
    "duration": 21,
    "start_time": "2022-04-11T02:56:44.537Z"
   },
   {
    "duration": 5,
    "start_time": "2022-04-11T02:56:44.561Z"
   },
   {
    "duration": 35,
    "start_time": "2022-04-11T02:56:44.567Z"
   },
   {
    "duration": 11,
    "start_time": "2022-04-11T02:56:44.604Z"
   },
   {
    "duration": 4,
    "start_time": "2022-04-11T02:56:44.617Z"
   },
   {
    "duration": 8,
    "start_time": "2022-04-11T02:56:44.622Z"
   },
   {
    "duration": 18,
    "start_time": "2022-04-11T02:56:44.632Z"
   },
   {
    "duration": 70,
    "start_time": "2022-04-11T02:56:44.651Z"
   },
   {
    "duration": 5,
    "start_time": "2022-04-11T02:56:44.723Z"
   },
   {
    "duration": 5,
    "start_time": "2022-04-11T02:56:44.729Z"
   },
   {
    "duration": 15,
    "start_time": "2022-04-11T02:56:44.735Z"
   },
   {
    "duration": 5,
    "start_time": "2022-04-11T02:56:44.751Z"
   },
   {
    "duration": 45,
    "start_time": "2022-04-11T02:56:44.757Z"
   },
   {
    "duration": 11,
    "start_time": "2022-04-11T02:56:44.804Z"
   },
   {
    "duration": 5,
    "start_time": "2022-04-11T02:56:44.817Z"
   },
   {
    "duration": 8,
    "start_time": "2022-04-11T02:56:44.823Z"
   },
   {
    "duration": 9,
    "start_time": "2022-04-11T02:56:44.833Z"
   },
   {
    "duration": 15,
    "start_time": "2022-04-11T02:56:44.844Z"
   },
   {
    "duration": 43,
    "start_time": "2022-04-11T02:56:44.860Z"
   },
   {
    "duration": 23,
    "start_time": "2022-04-11T02:56:44.905Z"
   },
   {
    "duration": 3,
    "start_time": "2022-04-11T02:56:44.930Z"
   },
   {
    "duration": 6,
    "start_time": "2022-04-11T02:56:44.935Z"
   },
   {
    "duration": 8,
    "start_time": "2022-04-11T02:56:44.943Z"
   },
   {
    "duration": 12,
    "start_time": "2022-04-11T02:56:44.953Z"
   },
   {
    "duration": 46,
    "start_time": "2022-04-11T02:56:44.966Z"
   },
   {
    "duration": 32,
    "start_time": "2022-04-11T02:56:45.014Z"
   },
   {
    "duration": 13,
    "start_time": "2022-04-11T02:56:45.047Z"
   },
   {
    "duration": 16,
    "start_time": "2022-04-11T02:56:45.062Z"
   },
   {
    "duration": 4,
    "start_time": "2022-04-11T02:56:45.101Z"
   },
   {
    "duration": 22,
    "start_time": "2022-04-11T02:56:45.107Z"
   },
   {
    "duration": 20,
    "start_time": "2022-04-11T02:56:45.131Z"
   },
   {
    "duration": 26233,
    "start_time": "2022-04-11T02:56:48.646Z"
   },
   {
    "duration": 49,
    "start_time": "2022-04-11T02:57:17.062Z"
   },
   {
    "duration": 4,
    "start_time": "2022-04-11T02:57:17.113Z"
   },
   {
    "duration": 17,
    "start_time": "2022-04-11T02:57:17.118Z"
   },
   {
    "duration": 15,
    "start_time": "2022-04-11T02:57:17.137Z"
   },
   {
    "duration": 61,
    "start_time": "2022-04-11T02:57:17.154Z"
   },
   {
    "duration": 20,
    "start_time": "2022-04-11T02:57:17.216Z"
   },
   {
    "duration": 20,
    "start_time": "2022-04-11T02:57:17.238Z"
   },
   {
    "duration": 43,
    "start_time": "2022-04-11T02:57:17.259Z"
   },
   {
    "duration": 12,
    "start_time": "2022-04-11T02:57:17.303Z"
   },
   {
    "duration": 10,
    "start_time": "2022-04-11T02:57:17.317Z"
   },
   {
    "duration": 86,
    "start_time": "2022-04-11T02:57:17.329Z"
   },
   {
    "duration": 5,
    "start_time": "2022-04-11T02:57:17.417Z"
   },
   {
    "duration": 21,
    "start_time": "2022-04-11T02:57:17.424Z"
   },
   {
    "duration": 5,
    "start_time": "2022-04-11T02:57:17.449Z"
   },
   {
    "duration": 4,
    "start_time": "2022-04-11T02:57:17.456Z"
   },
   {
    "duration": 46,
    "start_time": "2022-04-11T02:57:17.463Z"
   },
   {
    "duration": 4,
    "start_time": "2022-04-11T02:57:17.511Z"
   },
   {
    "duration": 8,
    "start_time": "2022-04-11T02:57:17.517Z"
   },
   {
    "duration": 21,
    "start_time": "2022-04-11T02:57:17.527Z"
   },
   {
    "duration": 71,
    "start_time": "2022-04-11T02:57:17.550Z"
   },
   {
    "duration": 6,
    "start_time": "2022-04-11T02:57:17.623Z"
   },
   {
    "duration": 7,
    "start_time": "2022-04-11T02:57:17.630Z"
   },
   {
    "duration": 17,
    "start_time": "2022-04-11T02:57:17.639Z"
   },
   {
    "duration": 5,
    "start_time": "2022-04-11T02:57:17.657Z"
   },
   {
    "duration": 5,
    "start_time": "2022-04-11T02:57:17.702Z"
   },
   {
    "duration": 13,
    "start_time": "2022-04-11T02:57:17.708Z"
   },
   {
    "duration": 6,
    "start_time": "2022-04-11T02:57:17.722Z"
   },
   {
    "duration": 9,
    "start_time": "2022-04-11T02:57:17.729Z"
   },
   {
    "duration": 11,
    "start_time": "2022-04-11T02:57:17.740Z"
   },
   {
    "duration": 52,
    "start_time": "2022-04-11T02:57:17.753Z"
   },
   {
    "duration": 8,
    "start_time": "2022-04-11T02:57:17.807Z"
   },
   {
    "duration": 21,
    "start_time": "2022-04-11T02:57:17.816Z"
   },
   {
    "duration": 3,
    "start_time": "2022-04-11T02:57:17.839Z"
   },
   {
    "duration": 7,
    "start_time": "2022-04-11T02:57:17.843Z"
   },
   {
    "duration": 9,
    "start_time": "2022-04-11T02:57:17.852Z"
   },
   {
    "duration": 39,
    "start_time": "2022-04-11T02:57:17.863Z"
   },
   {
    "duration": 15,
    "start_time": "2022-04-11T02:57:17.904Z"
   },
   {
    "duration": 21,
    "start_time": "2022-04-11T02:57:17.922Z"
   },
   {
    "duration": 12,
    "start_time": "2022-04-11T02:57:17.945Z"
   },
   {
    "duration": 48,
    "start_time": "2022-04-11T02:57:17.959Z"
   },
   {
    "duration": 4,
    "start_time": "2022-04-11T02:57:18.011Z"
   },
   {
    "duration": 24,
    "start_time": "2022-04-11T02:57:18.017Z"
   },
   {
    "duration": 21,
    "start_time": "2022-04-11T02:57:18.042Z"
   },
   {
    "duration": 73708,
    "start_time": "2022-04-11T02:57:20.971Z"
   },
   {
    "duration": 12,
    "start_time": "2022-04-11T02:58:55.903Z"
   },
   {
    "duration": 196,
    "start_time": "2022-04-11T03:00:47.471Z"
   },
   {
    "duration": 21,
    "start_time": "2022-04-11T03:01:01.016Z"
   },
   {
    "duration": 22,
    "start_time": "2022-04-11T03:01:20.636Z"
   },
   {
    "duration": 1132,
    "start_time": "2022-04-12T20:01:44.262Z"
   },
   {
    "duration": 18,
    "start_time": "2022-04-12T20:01:45.397Z"
   },
   {
    "duration": 39,
    "start_time": "2022-04-12T20:01:45.417Z"
   },
   {
    "duration": 42,
    "start_time": "2022-04-12T20:01:45.459Z"
   },
   {
    "duration": 34,
    "start_time": "2022-04-12T20:01:45.503Z"
   },
   {
    "duration": 62,
    "start_time": "2022-04-12T20:01:45.539Z"
   },
   {
    "duration": 36,
    "start_time": "2022-04-12T20:01:45.604Z"
   },
   {
    "duration": 12,
    "start_time": "2022-04-12T20:01:45.643Z"
   },
   {
    "duration": 723,
    "start_time": "2022-04-12T20:01:45.657Z"
   },
   {
    "duration": 27,
    "start_time": "2022-04-12T20:01:46.385Z"
   },
   {
    "duration": 102,
    "start_time": "2022-04-12T20:01:46.415Z"
   },
   {
    "duration": 7,
    "start_time": "2022-04-12T20:01:46.519Z"
   },
   {
    "duration": 33,
    "start_time": "2022-04-12T20:01:46.528Z"
   },
   {
    "duration": 8,
    "start_time": "2022-04-12T20:01:46.594Z"
   },
   {
    "duration": 8,
    "start_time": "2022-04-12T20:01:46.605Z"
   },
   {
    "duration": 19,
    "start_time": "2022-04-12T20:01:46.616Z"
   },
   {
    "duration": 7,
    "start_time": "2022-04-12T20:01:46.638Z"
   },
   {
    "duration": 60,
    "start_time": "2022-04-12T20:01:46.648Z"
   },
   {
    "duration": 83,
    "start_time": "2022-04-12T20:01:46.711Z"
   },
   {
    "duration": 61,
    "start_time": "2022-04-12T20:01:46.797Z"
   },
   {
    "duration": 32,
    "start_time": "2022-04-12T20:01:46.861Z"
   },
   {
    "duration": 8,
    "start_time": "2022-04-12T20:01:46.896Z"
   },
   {
    "duration": 26,
    "start_time": "2022-04-12T20:01:46.906Z"
   },
   {
    "duration": 9,
    "start_time": "2022-04-12T20:01:46.935Z"
   },
   {
    "duration": 52,
    "start_time": "2022-04-12T20:01:46.946Z"
   },
   {
    "duration": 18,
    "start_time": "2022-04-12T20:01:47.000Z"
   },
   {
    "duration": 8,
    "start_time": "2022-04-12T20:01:47.021Z"
   },
   {
    "duration": 8,
    "start_time": "2022-04-12T20:01:47.034Z"
   },
   {
    "duration": 48,
    "start_time": "2022-04-12T20:01:47.044Z"
   },
   {
    "duration": 21,
    "start_time": "2022-04-12T20:01:47.095Z"
   },
   {
    "duration": 12,
    "start_time": "2022-04-12T20:01:47.119Z"
   },
   {
    "duration": 66,
    "start_time": "2022-04-12T20:01:47.134Z"
   },
   {
    "duration": 3,
    "start_time": "2022-04-12T20:01:47.204Z"
   },
   {
    "duration": 7,
    "start_time": "2022-04-12T20:01:47.209Z"
   },
   {
    "duration": 9,
    "start_time": "2022-04-12T20:01:47.218Z"
   },
   {
    "duration": 13,
    "start_time": "2022-04-12T20:01:47.229Z"
   },
   {
    "duration": 68,
    "start_time": "2022-04-12T20:01:47.244Z"
   },
   {
    "duration": 34,
    "start_time": "2022-04-12T20:01:47.314Z"
   },
   {
    "duration": 43,
    "start_time": "2022-04-12T20:01:47.350Z"
   },
   {
    "duration": 20,
    "start_time": "2022-04-12T20:01:47.395Z"
   },
   {
    "duration": 6,
    "start_time": "2022-04-12T20:01:50.352Z"
   },
   {
    "duration": 113,
    "start_time": "2022-04-12T20:01:54.792Z"
   },
   {
    "duration": 6,
    "start_time": "2022-04-12T20:02:13.199Z"
   },
   {
    "duration": 17,
    "start_time": "2022-04-12T20:02:15.503Z"
   },
   {
    "duration": 6,
    "start_time": "2022-04-12T20:05:11.006Z"
   },
   {
    "duration": 19,
    "start_time": "2022-04-12T20:05:13.080Z"
   },
   {
    "duration": 6,
    "start_time": "2022-04-12T20:08:23.579Z"
   },
   {
    "duration": 32,
    "start_time": "2022-04-12T20:08:26.006Z"
   },
   {
    "duration": 41,
    "start_time": "2022-04-12T20:08:37.591Z"
   },
   {
    "duration": 60,
    "start_time": "2022-04-12T20:11:56.893Z"
   },
   {
    "duration": 61,
    "start_time": "2022-04-12T20:12:17.190Z"
   },
   {
    "duration": 24882,
    "start_time": "2022-04-12T20:12:59.589Z"
   },
   {
    "duration": 43,
    "start_time": "2022-04-12T20:13:44.310Z"
   },
   {
    "duration": 45,
    "start_time": "2022-04-12T20:16:08.757Z"
   },
   {
    "duration": 60,
    "start_time": "2022-04-12T20:17:13.375Z"
   },
   {
    "duration": 22,
    "start_time": "2022-04-12T20:26:29.764Z"
   },
   {
    "duration": 25,
    "start_time": "2022-04-12T20:27:13.507Z"
   },
   {
    "duration": 24,
    "start_time": "2022-04-12T20:27:20.451Z"
   },
   {
    "duration": 7,
    "start_time": "2022-04-12T20:38:27.527Z"
   },
   {
    "duration": 3077,
    "start_time": "2022-04-12T20:39:55.193Z"
   },
   {
    "duration": 5719,
    "start_time": "2022-04-12T20:40:23.864Z"
   },
   {
    "duration": 58,
    "start_time": "2022-04-12T20:41:12.970Z"
   },
   {
    "duration": 24489,
    "start_time": "2022-04-12T20:41:58.931Z"
   },
   {
    "duration": 73,
    "start_time": "2022-04-12T20:42:23.423Z"
   },
   {
    "duration": 44,
    "start_time": "2022-04-13T20:59:48.918Z"
   },
   {
    "duration": 607,
    "start_time": "2022-04-13T20:59:56.440Z"
   },
   {
    "duration": 7,
    "start_time": "2022-04-13T20:59:57.049Z"
   },
   {
    "duration": 18,
    "start_time": "2022-04-13T20:59:57.057Z"
   },
   {
    "duration": 13,
    "start_time": "2022-04-13T20:59:57.077Z"
   },
   {
    "duration": 18,
    "start_time": "2022-04-13T20:59:57.091Z"
   },
   {
    "duration": 18,
    "start_time": "2022-04-13T20:59:57.110Z"
   },
   {
    "duration": 19,
    "start_time": "2022-04-13T20:59:57.129Z"
   },
   {
    "duration": 7,
    "start_time": "2022-04-13T20:59:57.149Z"
   },
   {
    "duration": 480,
    "start_time": "2022-04-13T20:59:57.157Z"
   },
   {
    "duration": 11,
    "start_time": "2022-04-13T20:59:57.640Z"
   },
   {
    "duration": 61,
    "start_time": "2022-04-13T20:59:57.652Z"
   },
   {
    "duration": 5,
    "start_time": "2022-04-13T20:59:57.714Z"
   },
   {
    "duration": 19,
    "start_time": "2022-04-13T20:59:57.720Z"
   },
   {
    "duration": 5,
    "start_time": "2022-04-13T20:59:57.741Z"
   },
   {
    "duration": 4,
    "start_time": "2022-04-13T20:59:57.747Z"
   },
   {
    "duration": 8,
    "start_time": "2022-04-13T20:59:57.753Z"
   },
   {
    "duration": 38,
    "start_time": "2022-04-13T20:59:57.762Z"
   },
   {
    "duration": 8,
    "start_time": "2022-04-13T20:59:57.802Z"
   },
   {
    "duration": 23,
    "start_time": "2022-04-13T20:59:57.812Z"
   },
   {
    "duration": 22,
    "start_time": "2022-04-13T20:59:57.837Z"
   },
   {
    "duration": 4,
    "start_time": "2022-04-13T20:59:57.861Z"
   },
   {
    "duration": 36,
    "start_time": "2022-04-13T20:59:57.866Z"
   },
   {
    "duration": 14,
    "start_time": "2022-04-13T20:59:57.904Z"
   },
   {
    "duration": 4,
    "start_time": "2022-04-13T20:59:57.919Z"
   },
   {
    "duration": 10,
    "start_time": "2022-04-13T20:59:57.924Z"
   },
   {
    "duration": 12,
    "start_time": "2022-04-13T20:59:57.935Z"
   },
   {
    "duration": 4,
    "start_time": "2022-04-13T20:59:57.948Z"
   },
   {
    "duration": 5,
    "start_time": "2022-04-13T20:59:57.955Z"
   },
   {
    "duration": 6,
    "start_time": "2022-04-13T20:59:57.961Z"
   },
   {
    "duration": 39,
    "start_time": "2022-04-13T20:59:57.969Z"
   },
   {
    "duration": 5,
    "start_time": "2022-04-13T20:59:58.009Z"
   },
   {
    "duration": 21,
    "start_time": "2022-04-13T20:59:58.015Z"
   },
   {
    "duration": 3,
    "start_time": "2022-04-13T20:59:58.037Z"
   },
   {
    "duration": 5,
    "start_time": "2022-04-13T20:59:58.041Z"
   },
   {
    "duration": 6,
    "start_time": "2022-04-13T20:59:58.047Z"
   },
   {
    "duration": 8,
    "start_time": "2022-04-13T20:59:58.054Z"
   },
   {
    "duration": 40,
    "start_time": "2022-04-13T20:59:58.063Z"
   },
   {
    "duration": 21,
    "start_time": "2022-04-13T20:59:58.104Z"
   },
   {
    "duration": 10,
    "start_time": "2022-04-13T20:59:58.126Z"
   },
   {
    "duration": 12,
    "start_time": "2022-04-13T20:59:58.137Z"
   },
   {
    "duration": 3,
    "start_time": "2022-04-13T20:59:58.150Z"
   },
   {
    "duration": 62,
    "start_time": "2022-04-13T20:59:58.155Z"
   },
   {
    "duration": 13624,
    "start_time": "2022-04-13T20:59:58.218Z"
   },
   {
    "duration": 28,
    "start_time": "2022-04-13T21:00:11.844Z"
   },
   {
    "duration": 31,
    "start_time": "2022-04-13T21:00:11.874Z"
   },
   {
    "duration": 14,
    "start_time": "2022-04-13T21:00:11.907Z"
   },
   {
    "duration": 4,
    "start_time": "2022-04-13T21:00:11.923Z"
   },
   {
    "duration": 37,
    "start_time": "2022-04-13T21:00:11.928Z"
   },
   {
    "duration": 13514,
    "start_time": "2022-04-13T21:00:11.967Z"
   },
   {
    "duration": 39,
    "start_time": "2022-04-13T21:00:25.482Z"
   },
   {
    "duration": 5,
    "start_time": "2022-04-13T21:00:31.633Z"
   },
   {
    "duration": 204,
    "start_time": "2022-04-13T21:01:18.516Z"
   },
   {
    "duration": 214,
    "start_time": "2022-04-13T21:01:24.219Z"
   },
   {
    "duration": 22,
    "start_time": "2022-04-13T21:01:36.722Z"
   },
   {
    "duration": 26,
    "start_time": "2022-04-13T21:03:30.230Z"
   },
   {
    "duration": 4,
    "start_time": "2022-04-13T21:11:20.989Z"
   },
   {
    "duration": 2,
    "start_time": "2022-04-13T21:18:11.543Z"
   },
   {
    "duration": 3,
    "start_time": "2022-04-13T21:19:21.002Z"
   },
   {
    "duration": 5,
    "start_time": "2022-04-13T21:20:47.883Z"
   },
   {
    "duration": 3,
    "start_time": "2022-04-13T21:20:50.329Z"
   },
   {
    "duration": 4,
    "start_time": "2022-04-13T21:21:41.241Z"
   },
   {
    "duration": 4,
    "start_time": "2022-04-13T21:21:43.840Z"
   },
   {
    "duration": 9,
    "start_time": "2022-04-13T21:25:07.619Z"
   },
   {
    "duration": 15,
    "start_time": "2022-04-13T21:25:17.084Z"
   },
   {
    "duration": 179,
    "start_time": "2022-04-13T21:27:11.709Z"
   },
   {
    "duration": 188,
    "start_time": "2022-04-13T21:27:39.762Z"
   },
   {
    "duration": 197,
    "start_time": "2022-04-13T21:28:04.587Z"
   },
   {
    "duration": 189,
    "start_time": "2022-04-13T21:28:23.529Z"
   },
   {
    "duration": 202,
    "start_time": "2022-04-13T21:28:33.296Z"
   },
   {
    "duration": 9,
    "start_time": "2022-04-13T21:29:40.029Z"
   },
   {
    "duration": 20,
    "start_time": "2022-04-13T21:33:20.983Z"
   },
   {
    "duration": 24,
    "start_time": "2022-04-13T21:33:35.210Z"
   },
   {
    "duration": 9,
    "start_time": "2022-04-13T21:34:03.816Z"
   },
   {
    "duration": 11,
    "start_time": "2022-04-13T21:34:32.115Z"
   },
   {
    "duration": 13,
    "start_time": "2022-04-13T21:35:29.917Z"
   },
   {
    "duration": 16,
    "start_time": "2022-04-13T21:39:48.326Z"
   },
   {
    "duration": 17,
    "start_time": "2022-04-13T21:44:18.934Z"
   },
   {
    "duration": 15,
    "start_time": "2022-04-13T21:45:50.154Z"
   },
   {
    "duration": 16,
    "start_time": "2022-04-13T21:46:01.716Z"
   },
   {
    "duration": 45,
    "start_time": "2022-04-13T21:47:18.307Z"
   },
   {
    "duration": 757,
    "start_time": "2022-04-13T21:48:14.526Z"
   },
   {
    "duration": 4,
    "start_time": "2022-04-13T21:51:12.147Z"
   },
   {
    "duration": 16,
    "start_time": "2022-04-13T21:51:16.859Z"
   },
   {
    "duration": 10,
    "start_time": "2022-04-13T21:51:25.289Z"
   },
   {
    "duration": 17,
    "start_time": "2022-04-13T21:55:11.172Z"
   },
   {
    "duration": 46,
    "start_time": "2022-04-13T21:59:51.215Z"
   },
   {
    "duration": 4,
    "start_time": "2022-04-13T21:59:51.262Z"
   },
   {
    "duration": 21,
    "start_time": "2022-04-13T21:59:51.267Z"
   },
   {
    "duration": 16,
    "start_time": "2022-04-13T21:59:51.290Z"
   },
   {
    "duration": 17,
    "start_time": "2022-04-13T21:59:51.307Z"
   },
   {
    "duration": 17,
    "start_time": "2022-04-13T21:59:51.325Z"
   },
   {
    "duration": 17,
    "start_time": "2022-04-13T21:59:51.343Z"
   },
   {
    "duration": 5,
    "start_time": "2022-04-13T21:59:51.361Z"
   },
   {
    "duration": 40,
    "start_time": "2022-04-13T21:59:51.368Z"
   },
   {
    "duration": 11,
    "start_time": "2022-04-13T21:59:51.410Z"
   },
   {
    "duration": 52,
    "start_time": "2022-04-13T21:59:51.422Z"
   },
   {
    "duration": 4,
    "start_time": "2022-04-13T21:59:51.500Z"
   },
   {
    "duration": 20,
    "start_time": "2022-04-13T21:59:51.506Z"
   },
   {
    "duration": 4,
    "start_time": "2022-04-13T21:59:51.527Z"
   },
   {
    "duration": 5,
    "start_time": "2022-04-13T21:59:51.533Z"
   },
   {
    "duration": 9,
    "start_time": "2022-04-13T21:59:51.539Z"
   },
   {
    "duration": 4,
    "start_time": "2022-04-13T21:59:51.549Z"
   },
   {
    "duration": 48,
    "start_time": "2022-04-13T21:59:51.554Z"
   },
   {
    "duration": 19,
    "start_time": "2022-04-13T21:59:51.604Z"
   },
   {
    "duration": 27,
    "start_time": "2022-04-13T21:59:51.624Z"
   },
   {
    "duration": 5,
    "start_time": "2022-04-13T21:59:51.652Z"
   },
   {
    "duration": 6,
    "start_time": "2022-04-13T21:59:51.658Z"
   },
   {
    "duration": 39,
    "start_time": "2022-04-13T21:59:51.665Z"
   },
   {
    "duration": 5,
    "start_time": "2022-04-13T21:59:51.705Z"
   },
   {
    "duration": 7,
    "start_time": "2022-04-13T21:59:51.711Z"
   },
   {
    "duration": 14,
    "start_time": "2022-04-13T21:59:51.719Z"
   },
   {
    "duration": 18,
    "start_time": "2022-04-13T21:59:51.737Z"
   },
   {
    "duration": 6,
    "start_time": "2022-04-13T21:59:51.756Z"
   },
   {
    "duration": 6,
    "start_time": "2022-04-13T21:59:51.763Z"
   },
   {
    "duration": 11,
    "start_time": "2022-04-13T21:59:51.771Z"
   },
   {
    "duration": 4,
    "start_time": "2022-04-13T21:59:51.800Z"
   },
   {
    "duration": 21,
    "start_time": "2022-04-13T21:59:51.805Z"
   },
   {
    "duration": 2,
    "start_time": "2022-04-13T21:59:51.828Z"
   },
   {
    "duration": 7,
    "start_time": "2022-04-13T21:59:51.832Z"
   },
   {
    "duration": 5,
    "start_time": "2022-04-13T21:59:51.841Z"
   },
   {
    "duration": 9,
    "start_time": "2022-04-13T21:59:51.847Z"
   },
   {
    "duration": 13,
    "start_time": "2022-04-13T21:59:51.858Z"
   },
   {
    "duration": 45,
    "start_time": "2022-04-13T21:59:51.872Z"
   },
   {
    "duration": 12,
    "start_time": "2022-04-13T21:59:51.919Z"
   },
   {
    "duration": 13,
    "start_time": "2022-04-13T21:59:51.932Z"
   },
   {
    "duration": 4,
    "start_time": "2022-04-13T21:59:51.946Z"
   },
   {
    "duration": 64,
    "start_time": "2022-04-13T21:59:51.951Z"
   },
   {
    "duration": 13303,
    "start_time": "2022-04-13T21:59:52.016Z"
   },
   {
    "duration": 27,
    "start_time": "2022-04-13T22:00:05.321Z"
   },
   {
    "duration": 16,
    "start_time": "2022-04-13T22:00:05.350Z"
   },
   {
    "duration": 33,
    "start_time": "2022-04-13T22:00:05.367Z"
   },
   {
    "duration": 3,
    "start_time": "2022-04-13T22:00:05.402Z"
   },
   {
    "duration": 63,
    "start_time": "2022-04-13T22:00:05.406Z"
   },
   {
    "duration": 13141,
    "start_time": "2022-04-13T22:00:05.470Z"
   },
   {
    "duration": 28,
    "start_time": "2022-04-13T22:00:18.612Z"
   },
   {
    "duration": 5,
    "start_time": "2022-04-13T22:00:18.641Z"
   },
   {
    "duration": 25,
    "start_time": "2022-04-13T22:00:18.647Z"
   },
   {
    "duration": 26,
    "start_time": "2022-04-13T22:00:18.674Z"
   },
   {
    "duration": 4,
    "start_time": "2022-04-13T22:00:18.701Z"
   },
   {
    "duration": 12,
    "start_time": "2022-04-13T22:00:18.706Z"
   },
   {
    "duration": 13,
    "start_time": "2022-04-13T22:00:18.720Z"
   },
   {
    "duration": 31,
    "start_time": "2022-04-13T22:00:18.734Z"
   },
   {
    "duration": 14,
    "start_time": "2022-04-13T22:00:18.767Z"
   },
   {
    "duration": 19,
    "start_time": "2022-04-13T22:00:18.782Z"
   },
   {
    "duration": 62,
    "start_time": "2022-04-17T16:59:02.219Z"
   },
   {
    "duration": 475,
    "start_time": "2022-04-17T16:59:09.309Z"
   },
   {
    "duration": 8,
    "start_time": "2022-04-17T16:59:09.786Z"
   },
   {
    "duration": 19,
    "start_time": "2022-04-17T16:59:09.795Z"
   },
   {
    "duration": 15,
    "start_time": "2022-04-17T16:59:09.815Z"
   },
   {
    "duration": 19,
    "start_time": "2022-04-17T16:59:09.831Z"
   },
   {
    "duration": 19,
    "start_time": "2022-04-17T16:59:09.852Z"
   },
   {
    "duration": 48,
    "start_time": "2022-04-17T16:59:09.873Z"
   },
   {
    "duration": 7,
    "start_time": "2022-04-17T16:59:09.923Z"
   },
   {
    "duration": 439,
    "start_time": "2022-04-17T16:59:09.932Z"
   },
   {
    "duration": 12,
    "start_time": "2022-04-17T16:59:10.373Z"
   },
   {
    "duration": 68,
    "start_time": "2022-04-17T16:59:10.387Z"
   },
   {
    "duration": 5,
    "start_time": "2022-04-17T16:59:10.457Z"
   },
   {
    "duration": 43,
    "start_time": "2022-04-17T16:59:10.464Z"
   },
   {
    "duration": 5,
    "start_time": "2022-04-17T16:59:10.509Z"
   },
   {
    "duration": 6,
    "start_time": "2022-04-17T16:59:10.516Z"
   },
   {
    "duration": 11,
    "start_time": "2022-04-17T16:59:10.524Z"
   },
   {
    "duration": 4,
    "start_time": "2022-04-17T16:59:10.537Z"
   },
   {
    "duration": 7,
    "start_time": "2022-04-17T16:59:10.543Z"
   },
   {
    "duration": 7,
    "start_time": "2022-04-17T16:59:15.251Z"
   },
   {
    "duration": 8,
    "start_time": "2022-04-17T16:59:43.041Z"
   },
   {
    "duration": 37,
    "start_time": "2022-04-17T17:02:33.119Z"
   },
   {
    "duration": 4,
    "start_time": "2022-04-17T17:02:40.384Z"
   },
   {
    "duration": 21,
    "start_time": "2022-04-17T17:11:54.896Z"
   },
   {
    "duration": 11,
    "start_time": "2022-04-17T17:12:03.530Z"
   },
   {
    "duration": 7,
    "start_time": "2022-04-17T17:12:18.877Z"
   },
   {
    "duration": 46,
    "start_time": "2022-04-17T17:23:35.042Z"
   },
   {
    "duration": 4,
    "start_time": "2022-04-17T17:23:35.090Z"
   },
   {
    "duration": 21,
    "start_time": "2022-04-17T17:23:35.095Z"
   },
   {
    "duration": 15,
    "start_time": "2022-04-17T17:23:35.117Z"
   },
   {
    "duration": 18,
    "start_time": "2022-04-17T17:23:35.135Z"
   },
   {
    "duration": 20,
    "start_time": "2022-04-17T17:23:35.155Z"
   },
   {
    "duration": 45,
    "start_time": "2022-04-17T17:23:35.177Z"
   },
   {
    "duration": 7,
    "start_time": "2022-04-17T17:23:35.224Z"
   },
   {
    "duration": 11,
    "start_time": "2022-04-17T17:23:35.233Z"
   },
   {
    "duration": 10,
    "start_time": "2022-04-17T17:23:35.246Z"
   },
   {
    "duration": 89,
    "start_time": "2022-04-17T17:23:35.257Z"
   },
   {
    "duration": 4,
    "start_time": "2022-04-17T17:23:35.348Z"
   },
   {
    "duration": 21,
    "start_time": "2022-04-17T17:23:35.354Z"
   },
   {
    "duration": 31,
    "start_time": "2022-04-17T17:23:35.377Z"
   },
   {
    "duration": 4,
    "start_time": "2022-04-17T17:23:35.410Z"
   },
   {
    "duration": 11,
    "start_time": "2022-04-17T17:23:35.415Z"
   },
   {
    "duration": 5,
    "start_time": "2022-04-17T17:23:35.427Z"
   },
   {
    "duration": 12,
    "start_time": "2022-04-17T17:23:35.433Z"
   },
   {
    "duration": 20,
    "start_time": "2022-04-17T17:23:35.446Z"
   },
   {
    "duration": 25,
    "start_time": "2022-04-17T17:23:35.508Z"
   },
   {
    "duration": 5,
    "start_time": "2022-04-17T17:25:28.821Z"
   },
   {
    "duration": 7,
    "start_time": "2022-04-17T17:26:02.161Z"
   },
   {
    "duration": 6,
    "start_time": "2022-04-17T17:26:11.992Z"
   },
   {
    "duration": 5,
    "start_time": "2022-04-17T17:27:19.059Z"
   },
   {
    "duration": 63,
    "start_time": "2022-04-17T17:36:03.587Z"
   },
   {
    "duration": 7,
    "start_time": "2022-04-17T17:41:00.048Z"
   },
   {
    "duration": 3,
    "start_time": "2022-04-17T17:49:33.083Z"
   },
   {
    "duration": 40,
    "start_time": "2022-04-17T17:49:44.260Z"
   },
   {
    "duration": 3,
    "start_time": "2022-04-17T17:49:44.302Z"
   },
   {
    "duration": 17,
    "start_time": "2022-04-17T17:49:44.306Z"
   },
   {
    "duration": 16,
    "start_time": "2022-04-17T17:49:44.325Z"
   },
   {
    "duration": 20,
    "start_time": "2022-04-17T17:49:44.343Z"
   },
   {
    "duration": 45,
    "start_time": "2022-04-17T17:49:44.364Z"
   },
   {
    "duration": 20,
    "start_time": "2022-04-17T17:49:44.411Z"
   },
   {
    "duration": 7,
    "start_time": "2022-04-17T17:49:44.433Z"
   },
   {
    "duration": 12,
    "start_time": "2022-04-17T17:49:44.441Z"
   },
   {
    "duration": 14,
    "start_time": "2022-04-17T17:49:44.454Z"
   },
   {
    "duration": 90,
    "start_time": "2022-04-17T17:49:44.469Z"
   },
   {
    "duration": 5,
    "start_time": "2022-04-17T17:49:44.561Z"
   },
   {
    "duration": 47,
    "start_time": "2022-04-17T17:49:44.568Z"
   },
   {
    "duration": 5,
    "start_time": "2022-04-17T17:49:44.617Z"
   },
   {
    "duration": 10,
    "start_time": "2022-04-17T17:49:44.623Z"
   },
   {
    "duration": 9,
    "start_time": "2022-04-17T17:49:44.635Z"
   },
   {
    "duration": 4,
    "start_time": "2022-04-17T17:49:44.646Z"
   },
   {
    "duration": 8,
    "start_time": "2022-04-17T17:49:44.652Z"
   },
   {
    "duration": 53,
    "start_time": "2022-04-17T17:49:44.662Z"
   },
   {
    "duration": 26,
    "start_time": "2022-04-17T17:49:44.717Z"
   },
   {
    "duration": 5,
    "start_time": "2022-04-17T17:49:44.744Z"
   },
   {
    "duration": 8,
    "start_time": "2022-04-17T17:49:44.750Z"
   },
   {
    "duration": 16,
    "start_time": "2022-04-17T17:49:44.760Z"
   },
   {
    "duration": 5,
    "start_time": "2022-04-17T17:49:44.807Z"
   },
   {
    "duration": 6,
    "start_time": "2022-04-17T17:49:44.814Z"
   },
   {
    "duration": 12,
    "start_time": "2022-04-17T17:49:44.822Z"
   },
   {
    "duration": 5,
    "start_time": "2022-04-17T17:49:44.837Z"
   },
   {
    "duration": 6,
    "start_time": "2022-04-17T17:49:44.844Z"
   },
   {
    "duration": 7,
    "start_time": "2022-04-17T17:49:44.851Z"
   },
   {
    "duration": 50,
    "start_time": "2022-04-17T17:49:44.860Z"
   },
   {
    "duration": 9,
    "start_time": "2022-04-17T17:49:44.912Z"
   },
   {
    "duration": 73,
    "start_time": "2022-04-17T18:33:12.080Z"
   },
   {
    "duration": 42,
    "start_time": "2022-04-17T18:54:15.572Z"
   },
   {
    "duration": 4,
    "start_time": "2022-04-17T18:54:15.616Z"
   },
   {
    "duration": 15,
    "start_time": "2022-04-17T18:54:15.622Z"
   },
   {
    "duration": 16,
    "start_time": "2022-04-17T18:54:15.639Z"
   },
   {
    "duration": 19,
    "start_time": "2022-04-17T18:54:15.657Z"
   },
   {
    "duration": 48,
    "start_time": "2022-04-17T18:54:15.678Z"
   },
   {
    "duration": 19,
    "start_time": "2022-04-17T18:54:15.727Z"
   },
   {
    "duration": 6,
    "start_time": "2022-04-17T18:54:15.748Z"
   },
   {
    "duration": 10,
    "start_time": "2022-04-17T18:54:15.756Z"
   },
   {
    "duration": 44,
    "start_time": "2022-04-17T18:54:15.768Z"
   },
   {
    "duration": 56,
    "start_time": "2022-04-17T18:54:15.814Z"
   },
   {
    "duration": 5,
    "start_time": "2022-04-17T18:54:15.872Z"
   },
   {
    "duration": 47,
    "start_time": "2022-04-17T18:54:15.878Z"
   },
   {
    "duration": 5,
    "start_time": "2022-04-17T18:54:15.927Z"
   },
   {
    "duration": 6,
    "start_time": "2022-04-17T18:54:15.933Z"
   },
   {
    "duration": 9,
    "start_time": "2022-04-17T18:54:15.940Z"
   },
   {
    "duration": 4,
    "start_time": "2022-04-17T18:54:15.950Z"
   },
   {
    "duration": 7,
    "start_time": "2022-04-17T18:54:15.956Z"
   },
   {
    "duration": 60,
    "start_time": "2022-04-17T18:54:15.964Z"
   },
   {
    "duration": 24,
    "start_time": "2022-04-17T18:54:16.027Z"
   },
   {
    "duration": 6,
    "start_time": "2022-04-17T18:54:16.053Z"
   },
   {
    "duration": 7,
    "start_time": "2022-04-17T18:54:16.060Z"
   },
   {
    "duration": 52,
    "start_time": "2022-04-17T18:54:16.068Z"
   },
   {
    "duration": 6,
    "start_time": "2022-04-17T18:54:16.122Z"
   },
   {
    "duration": 8,
    "start_time": "2022-04-17T18:54:16.130Z"
   },
   {
    "duration": 13,
    "start_time": "2022-04-17T18:54:16.139Z"
   },
   {
    "duration": 6,
    "start_time": "2022-04-17T18:54:16.153Z"
   },
   {
    "duration": 6,
    "start_time": "2022-04-17T18:54:16.161Z"
   },
   {
    "duration": 7,
    "start_time": "2022-04-17T18:54:16.208Z"
   },
   {
    "duration": 12,
    "start_time": "2022-04-17T18:54:16.216Z"
   },
   {
    "duration": 10,
    "start_time": "2022-04-17T18:54:16.229Z"
   },
   {
    "duration": 22,
    "start_time": "2022-04-17T18:54:16.240Z"
   },
   {
    "duration": 2,
    "start_time": "2022-04-17T18:54:16.265Z"
   },
   {
    "duration": 5,
    "start_time": "2022-04-17T18:54:16.269Z"
   },
   {
    "duration": 35,
    "start_time": "2022-04-17T18:54:16.275Z"
   },
   {
    "duration": 8,
    "start_time": "2022-04-17T18:54:16.312Z"
   },
   {
    "duration": 16,
    "start_time": "2022-04-17T18:54:16.322Z"
   },
   {
    "duration": 22,
    "start_time": "2022-04-17T18:54:16.339Z"
   },
   {
    "duration": 12,
    "start_time": "2022-04-17T18:54:16.363Z"
   },
   {
    "duration": 13,
    "start_time": "2022-04-17T18:54:16.407Z"
   },
   {
    "duration": 4,
    "start_time": "2022-04-17T18:54:16.422Z"
   },
   {
    "duration": 43,
    "start_time": "2022-04-17T18:54:16.428Z"
   },
   {
    "duration": 14943,
    "start_time": "2022-04-17T18:54:16.473Z"
   },
   {
    "duration": 30,
    "start_time": "2022-04-17T18:54:31.417Z"
   },
   {
    "duration": 17,
    "start_time": "2022-04-17T18:54:31.449Z"
   },
   {
    "duration": 15,
    "start_time": "2022-04-17T18:54:31.468Z"
   },
   {
    "duration": 26,
    "start_time": "2022-04-17T18:54:31.485Z"
   },
   {
    "duration": 40,
    "start_time": "2022-04-17T18:54:31.512Z"
   },
   {
    "duration": 14399,
    "start_time": "2022-04-17T18:54:31.554Z"
   },
   {
    "duration": 28,
    "start_time": "2022-04-17T18:54:45.955Z"
   },
   {
    "duration": 4,
    "start_time": "2022-04-17T18:54:45.985Z"
   },
   {
    "duration": 38,
    "start_time": "2022-04-17T18:54:45.991Z"
   },
   {
    "duration": 5,
    "start_time": "2022-04-17T18:54:46.031Z"
   },
   {
    "duration": 7,
    "start_time": "2022-04-17T18:54:46.037Z"
   },
   {
    "duration": 9,
    "start_time": "2022-04-17T18:54:46.045Z"
   },
   {
    "duration": 13,
    "start_time": "2022-04-17T18:54:46.056Z"
   },
   {
    "duration": 45,
    "start_time": "2022-04-17T18:54:46.071Z"
   },
   {
    "duration": 16,
    "start_time": "2022-04-17T18:54:46.118Z"
   },
   {
    "duration": 16,
    "start_time": "2022-04-17T18:54:46.135Z"
   },
   {
    "duration": 10,
    "start_time": "2022-04-17T18:54:46.155Z"
   },
   {
    "duration": 829,
    "start_time": "2022-04-20T20:48:59.992Z"
   },
   {
    "duration": 20,
    "start_time": "2022-04-20T20:49:00.827Z"
   },
   {
    "duration": 78,
    "start_time": "2022-04-20T20:49:00.850Z"
   },
   {
    "duration": 38,
    "start_time": "2022-04-20T20:49:00.931Z"
   },
   {
    "duration": 74,
    "start_time": "2022-04-20T20:49:00.973Z"
   },
   {
    "duration": 50,
    "start_time": "2022-04-20T20:49:01.050Z"
   },
   {
    "duration": 70,
    "start_time": "2022-04-20T20:49:01.104Z"
   },
   {
    "duration": 16,
    "start_time": "2022-04-20T20:49:01.178Z"
   },
   {
    "duration": 1085,
    "start_time": "2022-04-20T20:49:01.197Z"
   },
   {
    "duration": 29,
    "start_time": "2022-04-20T20:49:02.286Z"
   },
   {
    "duration": 167,
    "start_time": "2022-04-20T20:49:02.318Z"
   },
   {
    "duration": 10,
    "start_time": "2022-04-20T20:49:02.488Z"
   },
   {
    "duration": 66,
    "start_time": "2022-04-20T20:49:02.502Z"
   },
   {
    "duration": 12,
    "start_time": "2022-04-20T20:49:02.577Z"
   },
   {
    "duration": 13,
    "start_time": "2022-04-20T20:49:02.591Z"
   },
   {
    "duration": 52,
    "start_time": "2022-04-20T20:49:02.607Z"
   },
   {
    "duration": 14,
    "start_time": "2022-04-20T20:49:02.662Z"
   },
   {
    "duration": 16,
    "start_time": "2022-04-20T20:49:02.679Z"
   },
   {
    "duration": 74,
    "start_time": "2022-04-20T20:49:02.697Z"
   },
   {
    "duration": 61,
    "start_time": "2022-04-20T20:49:02.774Z"
   },
   {
    "duration": 14,
    "start_time": "2022-04-20T20:49:02.853Z"
   },
   {
    "duration": 26,
    "start_time": "2022-04-20T20:49:02.870Z"
   },
   {
    "duration": 35,
    "start_time": "2022-04-20T20:49:02.899Z"
   },
   {
    "duration": 28,
    "start_time": "2022-04-20T20:49:02.936Z"
   },
   {
    "duration": 33,
    "start_time": "2022-04-20T20:49:02.966Z"
   },
   {
    "duration": 22,
    "start_time": "2022-04-20T20:49:03.001Z"
   },
   {
    "duration": 9,
    "start_time": "2022-04-20T20:49:03.026Z"
   },
   {
    "duration": 24,
    "start_time": "2022-04-20T20:49:03.038Z"
   },
   {
    "duration": 37,
    "start_time": "2022-04-20T20:49:03.065Z"
   },
   {
    "duration": 32,
    "start_time": "2022-04-20T20:49:03.106Z"
   },
   {
    "duration": 17,
    "start_time": "2022-04-20T20:49:03.140Z"
   },
   {
    "duration": 53,
    "start_time": "2022-04-20T20:49:03.162Z"
   },
   {
    "duration": 6,
    "start_time": "2022-04-20T20:49:03.217Z"
   },
   {
    "duration": 17,
    "start_time": "2022-04-20T20:49:03.262Z"
   },
   {
    "duration": 19,
    "start_time": "2022-04-20T20:49:03.282Z"
   },
   {
    "duration": 17,
    "start_time": "2022-04-20T20:49:03.305Z"
   },
   {
    "duration": 49,
    "start_time": "2022-04-20T20:49:03.326Z"
   },
   {
    "duration": 65,
    "start_time": "2022-04-20T20:49:03.378Z"
   },
   {
    "duration": 128,
    "start_time": "2022-04-20T20:49:12.639Z"
   },
   {
    "duration": 57,
    "start_time": "2022-04-20T20:49:20.074Z"
   },
   {
    "duration": 51,
    "start_time": "2022-04-20T20:50:13.629Z"
   },
   {
    "duration": 6,
    "start_time": "2022-04-20T20:53:24.885Z"
   },
   {
    "duration": 64,
    "start_time": "2022-04-20T20:53:31.873Z"
   },
   {
    "duration": 47,
    "start_time": "2022-04-20T20:58:01.117Z"
   },
   {
    "duration": 53,
    "start_time": "2022-04-20T20:58:12.356Z"
   },
   {
    "duration": 8,
    "start_time": "2022-04-20T20:59:09.488Z"
   },
   {
    "duration": 56,
    "start_time": "2022-04-20T20:59:46.910Z"
   },
   {
    "duration": 69,
    "start_time": "2022-04-20T21:00:43.740Z"
   },
   {
    "duration": 28028,
    "start_time": "2022-04-20T21:01:17.092Z"
   },
   {
    "duration": 60,
    "start_time": "2022-04-20T21:02:02.728Z"
   },
   {
    "duration": 61,
    "start_time": "2022-04-20T21:04:12.086Z"
   },
   {
    "duration": 93,
    "start_time": "2022-04-20T21:04:40.897Z"
   },
   {
    "duration": 58,
    "start_time": "2022-04-20T21:14:23.473Z"
   },
   {
    "duration": 6,
    "start_time": "2022-04-20T21:14:23.533Z"
   },
   {
    "duration": 33,
    "start_time": "2022-04-20T21:14:23.541Z"
   },
   {
    "duration": 25,
    "start_time": "2022-04-20T21:14:23.766Z"
   },
   {
    "duration": 32,
    "start_time": "2022-04-20T21:14:23.794Z"
   },
   {
    "duration": 53,
    "start_time": "2022-04-20T21:14:24.519Z"
   },
   {
    "duration": 31,
    "start_time": "2022-04-20T21:14:24.575Z"
   },
   {
    "duration": 12,
    "start_time": "2022-04-20T21:14:24.609Z"
   },
   {
    "duration": 22,
    "start_time": "2022-04-20T21:14:24.813Z"
   },
   {
    "duration": 19,
    "start_time": "2022-04-20T21:14:24.838Z"
   },
   {
    "duration": 126,
    "start_time": "2022-04-20T21:14:25.109Z"
   },
   {
    "duration": 20,
    "start_time": "2022-04-20T21:14:25.239Z"
   },
   {
    "duration": 36,
    "start_time": "2022-04-20T21:14:25.261Z"
   },
   {
    "duration": 8,
    "start_time": "2022-04-20T21:14:25.299Z"
   },
   {
    "duration": 42,
    "start_time": "2022-04-20T21:14:25.310Z"
   },
   {
    "duration": 20,
    "start_time": "2022-04-20T21:14:25.355Z"
   },
   {
    "duration": 13,
    "start_time": "2022-04-20T21:14:25.378Z"
   },
   {
    "duration": 21,
    "start_time": "2022-04-20T21:14:25.394Z"
   },
   {
    "duration": 62,
    "start_time": "2022-04-20T21:14:25.419Z"
   },
   {
    "duration": 41,
    "start_time": "2022-04-20T21:14:25.483Z"
   },
   {
    "duration": 32,
    "start_time": "2022-04-20T21:14:25.526Z"
   },
   {
    "duration": 11,
    "start_time": "2022-04-20T21:14:25.562Z"
   },
   {
    "duration": 30,
    "start_time": "2022-04-20T21:14:25.575Z"
   },
   {
    "duration": 9,
    "start_time": "2022-04-20T21:14:25.608Z"
   },
   {
    "duration": 7,
    "start_time": "2022-04-20T21:14:25.690Z"
   },
   {
    "duration": 19,
    "start_time": "2022-04-20T21:14:25.700Z"
   },
   {
    "duration": 12,
    "start_time": "2022-04-20T21:14:25.722Z"
   },
   {
    "duration": 8,
    "start_time": "2022-04-20T21:14:25.737Z"
   },
   {
    "duration": 10,
    "start_time": "2022-04-20T21:14:25.754Z"
   },
   {
    "duration": 34,
    "start_time": "2022-04-20T21:14:25.769Z"
   },
   {
    "duration": 10,
    "start_time": "2022-04-20T21:14:25.806Z"
   },
   {
    "duration": 54,
    "start_time": "2022-04-20T21:14:25.818Z"
   },
   {
    "duration": 9,
    "start_time": "2022-04-20T21:14:25.874Z"
   },
   {
    "duration": 8,
    "start_time": "2022-04-20T21:14:25.885Z"
   },
   {
    "duration": 8,
    "start_time": "2022-04-20T21:14:25.895Z"
   },
   {
    "duration": 51,
    "start_time": "2022-04-20T21:14:25.905Z"
   },
   {
    "duration": 24,
    "start_time": "2022-04-20T21:14:25.981Z"
   },
   {
    "duration": 41,
    "start_time": "2022-04-20T21:14:26.009Z"
   },
   {
    "duration": 45,
    "start_time": "2022-04-20T21:14:26.062Z"
   },
   {
    "duration": 61,
    "start_time": "2022-04-20T21:14:26.109Z"
   },
   {
    "duration": 8,
    "start_time": "2022-04-20T21:14:39.609Z"
   },
   {
    "duration": 46,
    "start_time": "2022-04-20T21:14:46.752Z"
   },
   {
    "duration": 15284,
    "start_time": "2022-04-20T21:15:06.646Z"
   },
   {
    "duration": 67,
    "start_time": "2022-04-20T21:16:15.419Z"
   },
   {
    "duration": 57,
    "start_time": "2022-04-20T21:25:45.238Z"
   },
   {
    "duration": 5,
    "start_time": "2022-04-20T21:25:45.298Z"
   },
   {
    "duration": 64,
    "start_time": "2022-04-20T21:25:45.306Z"
   },
   {
    "duration": 29,
    "start_time": "2022-04-20T21:25:45.373Z"
   },
   {
    "duration": 70,
    "start_time": "2022-04-20T21:25:45.404Z"
   },
   {
    "duration": 32,
    "start_time": "2022-04-20T21:25:45.477Z"
   },
   {
    "duration": 82,
    "start_time": "2022-04-20T21:25:45.511Z"
   },
   {
    "duration": 12,
    "start_time": "2022-04-20T21:25:45.596Z"
   },
   {
    "duration": 22,
    "start_time": "2022-04-20T21:25:45.610Z"
   },
   {
    "duration": 30,
    "start_time": "2022-04-20T21:25:45.637Z"
   },
   {
    "duration": 111,
    "start_time": "2022-04-20T21:25:45.672Z"
   },
   {
    "duration": 8,
    "start_time": "2022-04-20T21:25:45.786Z"
   },
   {
    "duration": 70,
    "start_time": "2022-04-20T21:25:45.797Z"
   },
   {
    "duration": 11,
    "start_time": "2022-04-20T21:25:45.869Z"
   },
   {
    "duration": 8,
    "start_time": "2022-04-20T21:25:45.883Z"
   },
   {
    "duration": 17,
    "start_time": "2022-04-20T21:25:45.893Z"
   },
   {
    "duration": 7,
    "start_time": "2022-04-20T21:25:45.912Z"
   },
   {
    "duration": 43,
    "start_time": "2022-04-20T21:25:45.921Z"
   },
   {
    "duration": 41,
    "start_time": "2022-04-20T21:25:45.967Z"
   },
   {
    "duration": 56,
    "start_time": "2022-04-20T21:25:46.010Z"
   },
   {
    "duration": 10,
    "start_time": "2022-04-20T21:25:46.070Z"
   },
   {
    "duration": 18,
    "start_time": "2022-04-20T21:25:46.083Z"
   },
   {
    "duration": 62,
    "start_time": "2022-04-20T21:25:46.104Z"
   },
   {
    "duration": 10,
    "start_time": "2022-04-20T21:25:46.171Z"
   },
   {
    "duration": 9,
    "start_time": "2022-04-20T21:25:46.183Z"
   },
   {
    "duration": 22,
    "start_time": "2022-04-20T21:25:46.195Z"
   },
   {
    "duration": 51,
    "start_time": "2022-04-20T21:25:46.219Z"
   },
   {
    "duration": 7,
    "start_time": "2022-04-20T21:25:46.277Z"
   },
   {
    "duration": 12,
    "start_time": "2022-04-20T21:25:46.286Z"
   },
   {
    "duration": 21,
    "start_time": "2022-04-20T21:25:46.300Z"
   },
   {
    "duration": 35,
    "start_time": "2022-04-20T21:25:46.323Z"
   },
   {
    "duration": 56,
    "start_time": "2022-04-20T21:25:46.361Z"
   },
   {
    "duration": 5,
    "start_time": "2022-04-20T21:25:46.419Z"
   },
   {
    "duration": 38,
    "start_time": "2022-04-20T21:25:46.426Z"
   },
   {
    "duration": 8,
    "start_time": "2022-04-20T21:25:46.467Z"
   },
   {
    "duration": 15,
    "start_time": "2022-04-20T21:25:46.477Z"
   },
   {
    "duration": 22,
    "start_time": "2022-04-20T21:25:46.495Z"
   },
   {
    "duration": 66,
    "start_time": "2022-04-20T21:25:46.520Z"
   },
   {
    "duration": 50,
    "start_time": "2022-04-20T21:25:46.589Z"
   },
   {
    "duration": 44,
    "start_time": "2022-04-20T21:25:46.652Z"
   },
   {
    "duration": 7,
    "start_time": "2022-04-20T21:25:46.698Z"
   },
   {
    "duration": 79,
    "start_time": "2022-04-20T21:25:46.707Z"
   },
   {
    "duration": 15246,
    "start_time": "2022-04-20T21:25:46.788Z"
   },
   {
    "duration": 54,
    "start_time": "2022-04-20T21:26:02.036Z"
   },
   {
    "duration": 703,
    "start_time": "2022-04-20T21:26:15.331Z"
   },
   {
    "duration": 710,
    "start_time": "2022-04-20T21:27:26.017Z"
   },
   {
    "duration": 726,
    "start_time": "2022-04-20T21:28:49.326Z"
   },
   {
    "duration": 102,
    "start_time": "2022-04-20T21:29:39.899Z"
   },
   {
    "duration": 986,
    "start_time": "2022-04-20T21:29:48.789Z"
   },
   {
    "duration": 549,
    "start_time": "2022-04-21T00:31:04.642Z"
   },
   {
    "duration": 8,
    "start_time": "2022-04-21T00:31:05.193Z"
   },
   {
    "duration": 23,
    "start_time": "2022-04-21T00:31:05.203Z"
   },
   {
    "duration": 14,
    "start_time": "2022-04-21T00:31:05.228Z"
   },
   {
    "duration": 19,
    "start_time": "2022-04-21T00:31:05.244Z"
   },
   {
    "duration": 19,
    "start_time": "2022-04-21T00:31:05.265Z"
   },
   {
    "duration": 20,
    "start_time": "2022-04-21T00:31:05.285Z"
   },
   {
    "duration": 7,
    "start_time": "2022-04-21T00:31:05.306Z"
   },
   {
    "duration": 459,
    "start_time": "2022-04-21T00:31:05.314Z"
   },
   {
    "duration": 12,
    "start_time": "2022-04-21T00:31:05.775Z"
   },
   {
    "duration": 67,
    "start_time": "2022-04-21T00:31:05.788Z"
   },
   {
    "duration": 5,
    "start_time": "2022-04-21T00:31:05.856Z"
   },
   {
    "duration": 20,
    "start_time": "2022-04-21T00:31:05.862Z"
   },
   {
    "duration": 5,
    "start_time": "2022-04-21T00:31:05.883Z"
   },
   {
    "duration": 5,
    "start_time": "2022-04-21T00:31:05.889Z"
   },
   {
    "duration": 9,
    "start_time": "2022-04-21T00:31:05.896Z"
   },
   {
    "duration": 3,
    "start_time": "2022-04-21T00:31:05.906Z"
   },
   {
    "duration": 42,
    "start_time": "2022-04-21T00:31:05.911Z"
   },
   {
    "duration": 19,
    "start_time": "2022-04-21T00:31:05.954Z"
   },
   {
    "duration": 24,
    "start_time": "2022-04-21T00:31:05.974Z"
   },
   {
    "duration": 5,
    "start_time": "2022-04-21T00:31:05.999Z"
   },
   {
    "duration": 6,
    "start_time": "2022-04-21T00:31:06.006Z"
   },
   {
    "duration": 48,
    "start_time": "2022-04-21T00:31:06.013Z"
   },
   {
    "duration": 4,
    "start_time": "2022-04-21T00:31:06.063Z"
   },
   {
    "duration": 7,
    "start_time": "2022-04-21T00:31:06.068Z"
   },
   {
    "duration": 13,
    "start_time": "2022-04-21T00:31:06.076Z"
   },
   {
    "duration": 6,
    "start_time": "2022-04-21T00:31:06.090Z"
   },
   {
    "duration": 8,
    "start_time": "2022-04-21T00:31:06.099Z"
   },
   {
    "duration": 7,
    "start_time": "2022-04-21T00:31:06.109Z"
   },
   {
    "duration": 40,
    "start_time": "2022-04-21T00:31:06.117Z"
   },
   {
    "duration": 10,
    "start_time": "2022-04-21T00:31:06.159Z"
   },
   {
    "duration": 22,
    "start_time": "2022-04-21T00:31:06.171Z"
   },
   {
    "duration": 3,
    "start_time": "2022-04-21T00:31:06.194Z"
   },
   {
    "duration": 8,
    "start_time": "2022-04-21T00:31:06.199Z"
   },
   {
    "duration": 6,
    "start_time": "2022-04-21T00:31:06.208Z"
   },
   {
    "duration": 33,
    "start_time": "2022-04-21T00:31:06.215Z"
   },
   {
    "duration": 15,
    "start_time": "2022-04-21T00:31:06.249Z"
   },
   {
    "duration": 21,
    "start_time": "2022-04-21T00:31:06.265Z"
   },
   {
    "duration": 25,
    "start_time": "2022-04-21T00:31:06.288Z"
   },
   {
    "duration": 50,
    "start_time": "2022-04-21T00:31:06.315Z"
   },
   {
    "duration": 4,
    "start_time": "2022-04-21T00:31:06.367Z"
   },
   {
    "duration": 28,
    "start_time": "2022-04-21T00:31:06.373Z"
   },
   {
    "duration": 8020,
    "start_time": "2022-04-21T00:31:06.403Z"
   },
   {
    "duration": 38,
    "start_time": "2022-04-21T00:31:14.425Z"
   },
   {
    "duration": 73,
    "start_time": "2022-04-21T00:37:21.079Z"
   },
   {
    "duration": 19,
    "start_time": "2022-04-21T00:37:45.503Z"
   },
   {
    "duration": 38,
    "start_time": "2022-04-21T00:40:29.342Z"
   },
   {
    "duration": 35,
    "start_time": "2022-04-21T00:40:46.731Z"
   },
   {
    "duration": 4,
    "start_time": "2022-04-21T00:40:53.039Z"
   },
   {
    "duration": 29,
    "start_time": "2022-04-21T00:41:02.798Z"
   },
   {
    "duration": 8572,
    "start_time": "2022-04-21T00:41:09.520Z"
   },
   {
    "duration": 29,
    "start_time": "2022-04-21T00:41:18.094Z"
   },
   {
    "duration": 38,
    "start_time": "2022-04-21T00:42:26.313Z"
   },
   {
    "duration": 4,
    "start_time": "2022-04-21T00:42:26.353Z"
   },
   {
    "duration": 17,
    "start_time": "2022-04-21T00:42:26.358Z"
   },
   {
    "duration": 15,
    "start_time": "2022-04-21T00:42:26.377Z"
   },
   {
    "duration": 18,
    "start_time": "2022-04-21T00:42:26.393Z"
   },
   {
    "duration": 46,
    "start_time": "2022-04-21T00:42:26.412Z"
   },
   {
    "duration": 18,
    "start_time": "2022-04-21T00:42:26.460Z"
   },
   {
    "duration": 6,
    "start_time": "2022-04-21T00:42:26.479Z"
   },
   {
    "duration": 11,
    "start_time": "2022-04-21T00:42:26.486Z"
   },
   {
    "duration": 10,
    "start_time": "2022-04-21T00:42:26.499Z"
   },
   {
    "duration": 54,
    "start_time": "2022-04-21T00:42:26.547Z"
   },
   {
    "duration": 5,
    "start_time": "2022-04-21T00:42:26.602Z"
   },
   {
    "duration": 46,
    "start_time": "2022-04-21T00:42:26.608Z"
   },
   {
    "duration": 5,
    "start_time": "2022-04-21T00:42:26.655Z"
   },
   {
    "duration": 9,
    "start_time": "2022-04-21T00:42:26.661Z"
   },
   {
    "duration": 9,
    "start_time": "2022-04-21T00:42:26.671Z"
   },
   {
    "duration": 4,
    "start_time": "2022-04-21T00:42:26.681Z"
   },
   {
    "duration": 10,
    "start_time": "2022-04-21T00:42:26.686Z"
   },
   {
    "duration": 19,
    "start_time": "2022-04-21T00:42:26.697Z"
   },
   {
    "duration": 47,
    "start_time": "2022-04-21T00:42:26.718Z"
   },
   {
    "duration": 5,
    "start_time": "2022-04-21T00:42:26.766Z"
   },
   {
    "duration": 5,
    "start_time": "2022-04-21T00:42:26.773Z"
   },
   {
    "duration": 13,
    "start_time": "2022-04-21T00:42:26.780Z"
   },
   {
    "duration": 4,
    "start_time": "2022-04-21T00:42:26.794Z"
   },
   {
    "duration": 9,
    "start_time": "2022-04-21T00:42:26.799Z"
   },
   {
    "duration": 41,
    "start_time": "2022-04-21T00:42:26.810Z"
   },
   {
    "duration": 4,
    "start_time": "2022-04-21T00:42:26.852Z"
   },
   {
    "duration": 7,
    "start_time": "2022-04-21T00:42:26.859Z"
   },
   {
    "duration": 6,
    "start_time": "2022-04-21T00:42:26.867Z"
   },
   {
    "duration": 11,
    "start_time": "2022-04-21T00:42:26.874Z"
   },
   {
    "duration": 8,
    "start_time": "2022-04-21T00:42:26.887Z"
   },
   {
    "duration": 21,
    "start_time": "2022-04-21T00:42:26.896Z"
   },
   {
    "duration": 30,
    "start_time": "2022-04-21T00:42:26.918Z"
   },
   {
    "duration": 3,
    "start_time": "2022-04-21T00:42:26.949Z"
   },
   {
    "duration": 7,
    "start_time": "2022-04-21T00:42:26.954Z"
   },
   {
    "duration": 8,
    "start_time": "2022-04-21T00:42:26.963Z"
   },
   {
    "duration": 15,
    "start_time": "2022-04-21T00:42:26.973Z"
   },
   {
    "duration": 21,
    "start_time": "2022-04-21T00:42:26.989Z"
   },
   {
    "duration": 50,
    "start_time": "2022-04-21T00:42:27.011Z"
   },
   {
    "duration": 24,
    "start_time": "2022-04-21T00:42:27.062Z"
   },
   {
    "duration": 4,
    "start_time": "2022-04-21T00:42:27.087Z"
   },
   {
    "duration": 27,
    "start_time": "2022-04-21T00:42:27.092Z"
   },
   {
    "duration": 7935,
    "start_time": "2022-04-21T00:42:27.120Z"
   },
   {
    "duration": 29,
    "start_time": "2022-04-21T00:42:35.056Z"
   },
   {
    "duration": 18,
    "start_time": "2022-04-21T00:42:35.086Z"
   },
   {
    "duration": 60,
    "start_time": "2022-04-21T00:42:35.106Z"
   },
   {
    "duration": 33,
    "start_time": "2022-04-21T00:42:35.167Z"
   },
   {
    "duration": 4,
    "start_time": "2022-04-21T00:42:52.974Z"
   },
   {
    "duration": 27,
    "start_time": "2022-04-21T00:42:58.154Z"
   },
   {
    "duration": 8156,
    "start_time": "2022-04-21T00:43:02.269Z"
   },
   {
    "duration": 29,
    "start_time": "2022-04-21T00:43:15.863Z"
   },
   {
    "duration": 5,
    "start_time": "2022-04-21T00:44:00.461Z"
   },
   {
    "duration": 23,
    "start_time": "2022-04-21T00:44:03.620Z"
   },
   {
    "duration": 5,
    "start_time": "2022-04-21T00:44:14.330Z"
   },
   {
    "duration": 4,
    "start_time": "2022-04-21T00:44:18.244Z"
   },
   {
    "duration": 8,
    "start_time": "2022-04-21T00:44:22.060Z"
   },
   {
    "duration": 8,
    "start_time": "2022-04-21T00:44:32.323Z"
   },
   {
    "duration": 22,
    "start_time": "2022-04-21T00:44:32.332Z"
   },
   {
    "duration": 15,
    "start_time": "2022-04-21T00:44:32.355Z"
   },
   {
    "duration": 15,
    "start_time": "2022-04-21T00:44:32.372Z"
   },
   {
    "duration": 14,
    "start_time": "2022-04-21T00:44:32.389Z"
   },
   {
    "duration": 8,
    "start_time": "2022-04-21T00:44:32.405Z"
   }
  ],
  "kernelspec": {
   "display_name": "Python 3 (ipykernel)",
   "language": "python",
   "name": "python3"
  },
  "language_info": {
   "codemirror_mode": {
    "name": "ipython",
    "version": 3
   },
   "file_extension": ".py",
   "mimetype": "text/x-python",
   "name": "python",
   "nbconvert_exporter": "python",
   "pygments_lexer": "ipython3",
   "version": "3.9.12"
  },
  "toc": {
   "base_numbering": 1,
   "nav_menu": {},
   "number_sections": true,
   "sideBar": true,
   "skip_h1_title": true,
   "title_cell": "Table of Contents",
   "title_sidebar": "Contents",
   "toc_cell": false,
   "toc_position": {},
   "toc_section_display": true,
   "toc_window_display": false
  }
 },
 "nbformat": 4,
 "nbformat_minor": 2
}
